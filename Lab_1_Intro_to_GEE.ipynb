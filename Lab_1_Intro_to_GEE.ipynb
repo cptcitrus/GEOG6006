{
 "cells": [
  {
   "cell_type": "markdown",
   "metadata": {
    "id": "ZrD5e3ItlOSl"
   },
   "source": [
    "#Lab 1: Intro to Google Earth Engine"
   ]
  },
  {
   "cell_type": "markdown",
   "metadata": {
    "id": "RSD6EQTqpNfo"
   },
   "source": [
    "## Introduction\n",
    "\n",
    "In this lab we will learn how to work with the Google Earth Engine (GEE) python API in Google Colab.\n",
    "We will explore the GEE environment and see how data is handled by GEE and how to use the GEE tools in Google Colab."
   ]
  },
  {
   "cell_type": "markdown",
   "metadata": {
    "id": "i-birGdTlidg"
   },
   "source": [
    "##Imports, installation, authentication, initialization\n",
    "\n",
    "There are a couple of set-up features that are unique to using Google Earth Engine in Google Colaboratory. Make sure to read through each point to ensure you understand the steps going forward.\n",
    "\n",
    "\n",
    "1.   GEE has a Javascript API, in which it has a built-in interactive map. In order to visualize our results in the python API, we need to use a special library to load interactive maps. For this course, we will use `geemap` which is based on `ipyleaflet` and `ipywidgets`.\n",
    "2.   New recently - the geemap library is now automatically installed, so you no longer need to !pip install geemap!  \n",
    "3.   We need to authenticate and initialize GEE every time we reconnect to an instance using the lines `ee.Authenticate()` and `ee.Initialize()`. Follow the resulting prompts to authenticate in each Colab instance.\n",
    "4.   Unlike the Javascript API, the python API does not have a console that we can print to, to easily show information about our images and image collections. Instead we need to use `.getInfo()` to print and pprint (pretty printer) to organize the lines to make them easy to read. For more information on `.getInfo()`, see the *Client vs. Server* section of this lab.\n",
    "\n",
    "There are pros and cons to using both the Javascript API and the python API for Google Earth Engine. One of the major pros of working with the python API is that you don't need to learn Javascript to use it! Another pro is that you can combine GEE code with other remote sensing and raster python libraries to drastically increase how much you can do with the images.\n",
    "\n",
    "However, the documentation for the python API is much less complete than for the Javascript API and the console is not as interactive.\n",
    "\n",
    "In our case, the pros outweigh the cons since we have already been working in python, so let's get started!\n",
    "\n",
    "\n"
   ]
  },
  {
   "cell_type": "code",
   "execution_count": 2,
   "metadata": {
    "id": "BrNt-2X2eSxW"
   },
   "outputs": [
    {
     "data": {
      "text/html": [
       "\n",
       "            <style>\n",
       "                .geemap-dark {\n",
       "                    --jp-widgets-color: white;\n",
       "                    --jp-widgets-label-color: white;\n",
       "                    --jp-ui-font-color1: white;\n",
       "                    --jp-layout-color2: #454545;\n",
       "                    background-color: #383838;\n",
       "                }\n",
       "\n",
       "                .geemap-dark .jupyter-button {\n",
       "                    --jp-layout-color3: #383838;\n",
       "                }\n",
       "\n",
       "                .geemap-colab {\n",
       "                    background-color: var(--colab-primary-surface-color, white);\n",
       "                }\n",
       "\n",
       "                .geemap-colab .jupyter-button {\n",
       "                    --jp-layout-color3: var(--colab-primary-surface-color, white);\n",
       "                }\n",
       "            </style>\n",
       "            "
      ],
      "text/plain": [
       "<IPython.core.display.HTML object>"
      ]
     },
     "metadata": {},
     "output_type": "display_data"
    }
   ],
   "source": [
    "# Import the necessary libraries\n",
    "import ee\n",
    "import numpy as np\n",
    "import geemap as geemap\n",
    "\n",
    "import pprint  # I sometimes use this.  Sometimes I just use print.  It is up to you.\n",
    "\n",
    "# Set up a 'pretty printer' to print dictionaries in a nice format\n",
    "pp = pprint.PrettyPrinter(depth=4)"
   ]
  },
  {
   "cell_type": "code",
   "execution_count": 3,
   "metadata": {
    "colab": {
     "base_uri": "https://localhost:8080/",
     "height": 17
    },
    "id": "eCgdEO86zQX5",
    "outputId": "44f3599b-2ea9-433d-eaa1-a7ddfb780987"
   },
   "outputs": [
    {
     "data": {
      "text/html": [
       "\n",
       "            <style>\n",
       "                .geemap-dark {\n",
       "                    --jp-widgets-color: white;\n",
       "                    --jp-widgets-label-color: white;\n",
       "                    --jp-ui-font-color1: white;\n",
       "                    --jp-layout-color2: #454545;\n",
       "                    background-color: #383838;\n",
       "                }\n",
       "\n",
       "                .geemap-dark .jupyter-button {\n",
       "                    --jp-layout-color3: #383838;\n",
       "                }\n",
       "\n",
       "                .geemap-colab {\n",
       "                    background-color: var(--colab-primary-surface-color, white);\n",
       "                }\n",
       "\n",
       "                .geemap-colab .jupyter-button {\n",
       "                    --jp-layout-color3: var(--colab-primary-surface-color, white);\n",
       "                }\n",
       "            </style>\n",
       "            "
      ],
      "text/plain": [
       "<IPython.core.display.HTML object>"
      ]
     },
     "metadata": {},
     "output_type": "display_data"
    },
    {
     "data": {
      "text/html": [
       "<p>To authorize access needed by Earth Engine, open the following\n",
       "        URL in a web browser and follow the instructions:</p>\n",
       "        <p><a href=https://code.earthengine.google.com/client-auth?scopes=https%3A//www.googleapis.com/auth/earthengine%20https%3A//www.googleapis.com/auth/cloud-platform%20https%3A//www.googleapis.com/auth/devstorage.full_control&request_id=jpZVm9oqhX39IxR026CEjdkAd7zeyYsHN877CdTbluM&tc=ruLl6vzd0KU2KaAiqyASR-mkO3hFlzncg8SJOZRXluY&cc=eAdNIHQSlQvDhpD1cK-G25umkdcqnGrhxycBFI3Np68>https://code.earthengine.google.com/client-auth?scopes=https%3A//www.googleapis.com/auth/earthengine%20https%3A//www.googleapis.com/auth/cloud-platform%20https%3A//www.googleapis.com/auth/devstorage.full_control&request_id=jpZVm9oqhX39IxR026CEjdkAd7zeyYsHN877CdTbluM&tc=ruLl6vzd0KU2KaAiqyASR-mkO3hFlzncg8SJOZRXluY&cc=eAdNIHQSlQvDhpD1cK-G25umkdcqnGrhxycBFI3Np68</a></p>\n",
       "        <p>The authorization workflow will generate a code, which you should paste in the box below.</p>\n",
       "        "
      ],
      "text/plain": [
       "<IPython.core.display.HTML object>"
      ]
     },
     "metadata": {},
     "output_type": "display_data"
    },
    {
     "name": "stdin",
     "output_type": "stream",
     "text": [
      "Enter verification code:  4/1AeanS0Yc_j9xVqSYRfDEdB2RfW0mGV8maGa_DDc18QhdHg7Zrxxu-bly68M\n"
     ]
    },
    {
     "name": "stdout",
     "output_type": "stream",
     "text": [
      "\n",
      "Successfully saved authorization token.\n"
     ]
    }
   ],
   "source": [
    "# Authenticate and initialize this instance of GEE in Google Colab\n",
    "## Follow the prompts and fill in authentication code\n",
    "ee.Authenticate()\n",
    "ee.Initialize(project='ee-cptcitrus-main')   # you should change this to your project"
   ]
  },
  {
   "cell_type": "markdown",
   "metadata": {
    "id": "iC5IAaBgKDS3"
   },
   "source": [
    "## GEE Data Types"
   ]
  },
  {
   "cell_type": "markdown",
   "metadata": {
    "id": "mqqeG5bETnjA"
   },
   "source": [
    "### Client vs. Server\n",
    "\n",
    "Google Earth Engine works by sending code between your computer in the Python (or JavaScript) API and Google's servers for computation.\n",
    "\n",
    "\n",
    "There are effectively two types of data structures when we are programming with the GEE Python API:\n",
    "*   **Client-side structures**: objects and functions that are operating on our own computers.\n",
    "*   **Server-side structures**: objects and functions that are operating on Google servers\n",
    "\n",
    "In order to use the server-side structures in our code, the GEE API creates containers, or **proxy objects**, that we can use in our code for the objects that only exist on the Google servers.\n",
    "\n",
    "We can visualize what this means by considering the following operations:"
   ]
  },
  {
   "cell_type": "code",
   "execution_count": 5,
   "metadata": {
    "id": "3SAzAgBVYYsD"
   },
   "outputs": [
    {
     "data": {
      "text/html": [
       "\n",
       "            <style>\n",
       "                .geemap-dark {\n",
       "                    --jp-widgets-color: white;\n",
       "                    --jp-widgets-label-color: white;\n",
       "                    --jp-ui-font-color1: white;\n",
       "                    --jp-layout-color2: #454545;\n",
       "                    background-color: #383838;\n",
       "                }\n",
       "\n",
       "                .geemap-dark .jupyter-button {\n",
       "                    --jp-layout-color3: #383838;\n",
       "                }\n",
       "\n",
       "                .geemap-colab {\n",
       "                    background-color: var(--colab-primary-surface-color, white);\n",
       "                }\n",
       "\n",
       "                .geemap-colab .jupyter-button {\n",
       "                    --jp-layout-color3: var(--colab-primary-surface-color, white);\n",
       "                }\n",
       "            </style>\n",
       "            "
      ],
      "text/plain": [
       "<IPython.core.display.HTML object>"
      ]
     },
     "metadata": {},
     "output_type": "display_data"
    },
    {
     "name": "stdout",
     "output_type": "stream",
     "text": [
      "<class 'str'>\n"
     ]
    }
   ],
   "source": [
    "# Create a local string variable\n",
    "client_variable = str('Hello!')\n",
    "print(type(client_variable))"
   ]
  },
  {
   "cell_type": "code",
   "execution_count": 6,
   "metadata": {
    "id": "QMiOPQWmYyzK"
   },
   "outputs": [
    {
     "data": {
      "text/html": [
       "\n",
       "            <style>\n",
       "                .geemap-dark {\n",
       "                    --jp-widgets-color: white;\n",
       "                    --jp-widgets-label-color: white;\n",
       "                    --jp-ui-font-color1: white;\n",
       "                    --jp-layout-color2: #454545;\n",
       "                    background-color: #383838;\n",
       "                }\n",
       "\n",
       "                .geemap-dark .jupyter-button {\n",
       "                    --jp-layout-color3: #383838;\n",
       "                }\n",
       "\n",
       "                .geemap-colab {\n",
       "                    background-color: var(--colab-primary-surface-color, white);\n",
       "                }\n",
       "\n",
       "                .geemap-colab .jupyter-button {\n",
       "                    --jp-layout-color3: var(--colab-primary-surface-color, white);\n",
       "                }\n",
       "            </style>\n",
       "            "
      ],
      "text/plain": [
       "<IPython.core.display.HTML object>"
      ]
     },
     "metadata": {},
     "output_type": "display_data"
    },
    {
     "name": "stdout",
     "output_type": "stream",
     "text": [
      "<class 'ee.ee_string.String'>\n"
     ]
    }
   ],
   "source": [
    "# Create a server string variable\n",
    "server_variable = ee.String('Hello!')\n",
    "print(type(server_variable))"
   ]
  },
  {
   "cell_type": "markdown",
   "metadata": {
    "id": "2QDoT6k1bpxn"
   },
   "source": [
    "These variables contain the same string `Hello!`, but they are packaged and classed differently. The client variable is a value that is stored on our computers, whereas the value in the server variable is stored on the Google server. Let's check more specifically what the difference between these two variables is.\n",
    "\n",
    "The `isinstance(object,class)` function checks if an object is an instance or subclass of a given class. We will use it to check whether `client_variable` and `server_variable` are some type of string."
   ]
  },
  {
   "cell_type": "code",
   "execution_count": 7,
   "metadata": {
    "id": "wwD6iaI_aH2c"
   },
   "outputs": [
    {
     "data": {
      "text/html": [
       "\n",
       "            <style>\n",
       "                .geemap-dark {\n",
       "                    --jp-widgets-color: white;\n",
       "                    --jp-widgets-label-color: white;\n",
       "                    --jp-ui-font-color1: white;\n",
       "                    --jp-layout-color2: #454545;\n",
       "                    background-color: #383838;\n",
       "                }\n",
       "\n",
       "                .geemap-dark .jupyter-button {\n",
       "                    --jp-layout-color3: #383838;\n",
       "                }\n",
       "\n",
       "                .geemap-colab {\n",
       "                    background-color: var(--colab-primary-surface-color, white);\n",
       "                }\n",
       "\n",
       "                .geemap-colab .jupyter-button {\n",
       "                    --jp-layout-color3: var(--colab-primary-surface-color, white);\n",
       "                }\n",
       "            </style>\n",
       "            "
      ],
      "text/plain": [
       "<IPython.core.display.HTML object>"
      ]
     },
     "metadata": {},
     "output_type": "display_data"
    },
    {
     "name": "stdout",
     "output_type": "stream",
     "text": [
      "True\n",
      "False\n"
     ]
    }
   ],
   "source": [
    "# Check whether our variables are string objects\n",
    "print(isinstance(client_variable, str))\n",
    "print(isinstance(server_variable, str))"
   ]
  },
  {
   "cell_type": "markdown",
   "metadata": {
    "id": "3uJ6TUaofSvq"
   },
   "source": [
    "The class `ee.ee_string.String` isn't a type of string because it is actually a GEE object data type called `ee.ComputedObject`"
   ]
  },
  {
   "cell_type": "code",
   "execution_count": 8,
   "metadata": {
    "id": "7ZvPPudEf735"
   },
   "outputs": [
    {
     "data": {
      "text/html": [
       "\n",
       "            <style>\n",
       "                .geemap-dark {\n",
       "                    --jp-widgets-color: white;\n",
       "                    --jp-widgets-label-color: white;\n",
       "                    --jp-ui-font-color1: white;\n",
       "                    --jp-layout-color2: #454545;\n",
       "                    background-color: #383838;\n",
       "                }\n",
       "\n",
       "                .geemap-dark .jupyter-button {\n",
       "                    --jp-layout-color3: #383838;\n",
       "                }\n",
       "\n",
       "                .geemap-colab {\n",
       "                    background-color: var(--colab-primary-surface-color, white);\n",
       "                }\n",
       "\n",
       "                .geemap-colab .jupyter-button {\n",
       "                    --jp-layout-color3: var(--colab-primary-surface-color, white);\n",
       "                }\n",
       "            </style>\n",
       "            "
      ],
      "text/plain": [
       "<IPython.core.display.HTML object>"
      ]
     },
     "metadata": {},
     "output_type": "display_data"
    },
    {
     "name": "stdout",
     "output_type": "stream",
     "text": [
      "True\n"
     ]
    }
   ],
   "source": [
    "print(isinstance(server_variable, ee.ComputedObject))"
   ]
  },
  {
   "cell_type": "markdown",
   "metadata": {
    "id": "Vw17VU5YglfO"
   },
   "source": [
    "The `ee.ComputedObject` is a proxy object of something that exists on the server, but cannot be seen by our computers. You can think of the proxy object as the method of packaging something to be sent to Google. The servers at Google know exactly what is inside, but to our computers it just looks like a box. We use these proxy objects as placeholders in operations."
   ]
  },
  {
   "cell_type": "markdown",
   "metadata": {
    "id": "vWW5bv3i7Yt-"
   },
   "source": [
    "![proxyobject.png](data:image/png;base64,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)"
   ]
  },
  {
   "cell_type": "markdown",
   "metadata": {
    "id": "CLeKNFaKBMsa"
   },
   "source": [
    "If we need to find out what is inside the container and/or use it in a client side operation, we can use `.getInfo()` to access the contents of the container and assign them to a variable.\n",
    "\n",
    "Let's try this out some numeric client and server variables."
   ]
  },
  {
   "cell_type": "markdown",
   "metadata": {
    "id": "W12B3vZFEB5u"
   },
   "source": [
    "With a normal integer variable, we could perform a numeric operation:"
   ]
  },
  {
   "cell_type": "code",
   "execution_count": 9,
   "metadata": {
    "id": "GC9Y-nI7EPMr"
   },
   "outputs": [
    {
     "data": {
      "text/html": [
       "\n",
       "            <style>\n",
       "                .geemap-dark {\n",
       "                    --jp-widgets-color: white;\n",
       "                    --jp-widgets-label-color: white;\n",
       "                    --jp-ui-font-color1: white;\n",
       "                    --jp-layout-color2: #454545;\n",
       "                    background-color: #383838;\n",
       "                }\n",
       "\n",
       "                .geemap-dark .jupyter-button {\n",
       "                    --jp-layout-color3: #383838;\n",
       "                }\n",
       "\n",
       "                .geemap-colab {\n",
       "                    background-color: var(--colab-primary-surface-color, white);\n",
       "                }\n",
       "\n",
       "                .geemap-colab .jupyter-button {\n",
       "                    --jp-layout-color3: var(--colab-primary-surface-color, white);\n",
       "                }\n",
       "            </style>\n",
       "            "
      ],
      "text/plain": [
       "<IPython.core.display.HTML object>"
      ]
     },
     "metadata": {},
     "output_type": "display_data"
    },
    {
     "name": "stdout",
     "output_type": "stream",
     "text": [
      "10\n"
     ]
    }
   ],
   "source": [
    "# Assign the value 8 to a variable\n",
    "eight = 8\n",
    "\n",
    "# Add 2 to our variable and print the value\n",
    "value = eight + 2\n",
    "print(value)"
   ]
  },
  {
   "cell_type": "markdown",
   "metadata": {
    "id": "BgeyWEKwEnLi"
   },
   "source": [
    "Now let's try the same with a integer server variable:"
   ]
  },
  {
   "cell_type": "code",
   "execution_count": 10,
   "metadata": {
    "id": "hdFLYNBKDpLh"
   },
   "outputs": [
    {
     "data": {
      "text/html": [
       "\n",
       "            <style>\n",
       "                .geemap-dark {\n",
       "                    --jp-widgets-color: white;\n",
       "                    --jp-widgets-label-color: white;\n",
       "                    --jp-ui-font-color1: white;\n",
       "                    --jp-layout-color2: #454545;\n",
       "                    background-color: #383838;\n",
       "                }\n",
       "\n",
       "                .geemap-dark .jupyter-button {\n",
       "                    --jp-layout-color3: #383838;\n",
       "                }\n",
       "\n",
       "                .geemap-colab {\n",
       "                    background-color: var(--colab-primary-surface-color, white);\n",
       "                }\n",
       "\n",
       "                .geemap-colab .jupyter-button {\n",
       "                    --jp-layout-color3: var(--colab-primary-surface-color, white);\n",
       "                }\n",
       "            </style>\n",
       "            "
      ],
      "text/plain": [
       "<IPython.core.display.HTML object>"
      ]
     },
     "metadata": {},
     "output_type": "display_data"
    },
    {
     "ename": "TypeError",
     "evalue": "unsupported operand type(s) for +: 'Number' and 'int'",
     "output_type": "error",
     "traceback": [
      "\u001b[1;31m---------------------------------------------------------------------------\u001b[0m",
      "\u001b[1;31mTypeError\u001b[0m                                 Traceback (most recent call last)",
      "Cell \u001b[1;32mIn[10], line 5\u001b[0m\n\u001b[0;32m      2\u001b[0m eight \u001b[38;5;241m=\u001b[39m ee\u001b[38;5;241m.\u001b[39mNumber(\u001b[38;5;241m8\u001b[39m)\n\u001b[0;32m      4\u001b[0m \u001b[38;5;66;03m# Add 2 to our variable and print the value\u001b[39;00m\n\u001b[1;32m----> 5\u001b[0m value \u001b[38;5;241m=\u001b[39m \u001b[43meight\u001b[49m\u001b[43m \u001b[49m\u001b[38;5;241;43m+\u001b[39;49m\u001b[43m \u001b[49m\u001b[38;5;241;43m2\u001b[39;49m\n\u001b[0;32m      6\u001b[0m \u001b[38;5;28mprint\u001b[39m(value)\n",
      "\u001b[1;31mTypeError\u001b[0m: unsupported operand type(s) for +: 'Number' and 'int'"
     ]
    }
   ],
   "source": [
    "# Assign the value of 8 to a server-side variable\n",
    "eight = ee.Number(8)\n",
    "\n",
    "# Add 2 to our variable and print the value\n",
    "value = eight + 2\n",
    "print(value)"
   ]
  },
  {
   "cell_type": "markdown",
   "metadata": {
    "id": "djQytV9vE6vV"
   },
   "source": [
    "It doesn't work because `eight` is a proxy object and our computers can't see what is inside.\n",
    "\n",
    "So let's try the same thing with a `getInfo()` call:"
   ]
  },
  {
   "cell_type": "code",
   "execution_count": 11,
   "metadata": {
    "id": "JRMgwUj9EH6r"
   },
   "outputs": [
    {
     "data": {
      "text/html": [
       "\n",
       "            <style>\n",
       "                .geemap-dark {\n",
       "                    --jp-widgets-color: white;\n",
       "                    --jp-widgets-label-color: white;\n",
       "                    --jp-ui-font-color1: white;\n",
       "                    --jp-layout-color2: #454545;\n",
       "                    background-color: #383838;\n",
       "                }\n",
       "\n",
       "                .geemap-dark .jupyter-button {\n",
       "                    --jp-layout-color3: #383838;\n",
       "                }\n",
       "\n",
       "                .geemap-colab {\n",
       "                    background-color: var(--colab-primary-surface-color, white);\n",
       "                }\n",
       "\n",
       "                .geemap-colab .jupyter-button {\n",
       "                    --jp-layout-color3: var(--colab-primary-surface-color, white);\n",
       "                }\n",
       "            </style>\n",
       "            "
      ],
      "text/plain": [
       "<IPython.core.display.HTML object>"
      ]
     },
     "metadata": {},
     "output_type": "display_data"
    },
    {
     "name": "stdout",
     "output_type": "stream",
     "text": [
      "10\n"
     ]
    }
   ],
   "source": [
    " # Assign the value of 8 to a server-side variable\n",
    "eight = ee.Number(8)\n",
    "eight = eight.getInfo()\n",
    "\n",
    "# Add 2 to our variable and print the value\n",
    "value = eight + 2\n",
    "print(value)"
   ]
  },
  {
   "cell_type": "markdown",
   "metadata": {
    "id": "nQ1s-xg4DW24"
   },
   "source": [
    "Now it works because `getInfo()` transferred the contents of the proxy object (in this case the value 8) to a variable on our computers.\n",
    "\n",
    "*Note that Google warns against using* `.getInfo()`*, in part because it can be slow and because client-side objects cannot be used in server-side operations. See [here](https://developers.google.com/earth-engine/guides/client_server) for more information from Google.*\n",
    "\n",
    "At this point, it is silly to use an `ee` variable for an integer like 8 because we aren't using it for any server side operations. However, as we go through the course, it will become important to distinguish between server and client structures."
   ]
  },
  {
   "cell_type": "markdown",
   "metadata": {
    "id": "HG8crLWbFiFr"
   },
   "source": [
    "### Data Types"
   ]
  },
  {
   "cell_type": "markdown",
   "metadata": {
    "id": "c6_9LnJHUFNF"
   },
   "source": [
    "The type of object held by a variable is called its data type or data structure. Recall that some common programming data types include strings, numbers (integers, floats), arrays, lists, dictionaries, etc.\n",
    "\n",
    "In addition to the common programming data types, Google Earth Engine also has its own data types, including:\n",
    "\n",
    "*   **Geometry** (vector)\n",
    "*   **Feature** (vector)\n",
    "*   **FeatureCollection** (vector)\n",
    "*   **Image** (raster)\n",
    "*   **ImageCollection** (raster)\n",
    "\n"
   ]
  },
  {
   "cell_type": "markdown",
   "metadata": {
    "id": "qNw4T2-lQ_WE"
   },
   "source": [
    "#### Geometry\n",
    "Geometries are vector data (i.e. points, lines, and polygons) that have no associated attributes or features.\n",
    "\n",
    "GEE has a number of built in geometry types that you can declare using the coordinates of each vertex:\n",
    "\n",
    "\n",
    "\n",
    "*   **Point:** `var = ee.Geometry.Point(long,lat)`\n",
    "*   **Multi-Point:** `var = ee.Geometry.MultiPoint(long1,lat1,long2,lat2,...,longN,latN)`\n",
    "*   **LineString:** `var = ee.Geometry.LineString([[long1,lat1],[long2,lat2],...,[longN,latN]])`\n",
    "*   **Rectangle:** `var = ee.Geometry.Rectangle(minLong, minLat, maxLong, maxLat)`\n",
    "*   **Polygon:** `var = ee.Geometry.Polygon([[long1,lat1],[long2,lat2],...,[longN,latN]])`\n",
    "*   **Multi-Polygon:** `var = ee.Geometry.MultiPolygon([[[P1_long1,P1_lat1],[P1_long2,P1_lat2],...,[P1_longN,P1_latN]],[[P2_longA,latA],[P2_longB,latB]]...])`\n"
   ]
  },
  {
   "cell_type": "code",
   "execution_count": 12,
   "metadata": {
    "id": "yc5RoNvzVq2Z"
   },
   "outputs": [
    {
     "data": {
      "text/html": [
       "\n",
       "            <style>\n",
       "                .geemap-dark {\n",
       "                    --jp-widgets-color: white;\n",
       "                    --jp-widgets-label-color: white;\n",
       "                    --jp-ui-font-color1: white;\n",
       "                    --jp-layout-color2: #454545;\n",
       "                    background-color: #383838;\n",
       "                }\n",
       "\n",
       "                .geemap-dark .jupyter-button {\n",
       "                    --jp-layout-color3: #383838;\n",
       "                }\n",
       "\n",
       "                .geemap-colab {\n",
       "                    background-color: var(--colab-primary-surface-color, white);\n",
       "                }\n",
       "\n",
       "                .geemap-colab .jupyter-button {\n",
       "                    --jp-layout-color3: var(--colab-primary-surface-color, white);\n",
       "                }\n",
       "            </style>\n",
       "            "
      ],
      "text/plain": [
       "<IPython.core.display.HTML object>"
      ]
     },
     "metadata": {},
     "output_type": "display_data"
    }
   ],
   "source": [
    "# Create a polygon around Centretown in Ottawa\n",
    "a = [-75.7123,45.4030]\n",
    "b = [-75.6840,45.4124]\n",
    "c = [-75.6807,45.4186]\n",
    "d = [-75.6999,45.4263]\n",
    "e = [-75.7098,45.4158]\n",
    "g = [-75.7214,45.4090]\n",
    "centretown = ee.Geometry.Polygon([a,b,c,d,e,g])"
   ]
  },
  {
   "cell_type": "markdown",
   "metadata": {
    "id": "uDCm773ogkHY"
   },
   "source": [
    "Once a geometry is created, we can access its properties by calling for them. Let's try just simply printing the object to see what we get:"
   ]
  },
  {
   "cell_type": "code",
   "execution_count": 13,
   "metadata": {
    "id": "K1gmD_5GgGfJ"
   },
   "outputs": [
    {
     "data": {
      "text/html": [
       "\n",
       "            <style>\n",
       "                .geemap-dark {\n",
       "                    --jp-widgets-color: white;\n",
       "                    --jp-widgets-label-color: white;\n",
       "                    --jp-ui-font-color1: white;\n",
       "                    --jp-layout-color2: #454545;\n",
       "                    background-color: #383838;\n",
       "                }\n",
       "\n",
       "                .geemap-dark .jupyter-button {\n",
       "                    --jp-layout-color3: #383838;\n",
       "                }\n",
       "\n",
       "                .geemap-colab {\n",
       "                    background-color: var(--colab-primary-surface-color, white);\n",
       "                }\n",
       "\n",
       "                .geemap-colab .jupyter-button {\n",
       "                    --jp-layout-color3: var(--colab-primary-surface-color, white);\n",
       "                }\n",
       "            </style>\n",
       "            "
      ],
      "text/plain": [
       "<IPython.core.display.HTML object>"
      ]
     },
     "metadata": {},
     "output_type": "display_data"
    },
    {
     "name": "stdout",
     "output_type": "stream",
     "text": [
      "ee.Geometry({\n",
      "  \"functionInvocationValue\": {\n",
      "    \"functionName\": \"GeometryConstructors.Polygon\",\n",
      "    \"arguments\": {\n",
      "      \"coordinates\": {\n",
      "        \"constantValue\": [\n",
      "          [\n",
      "            [\n",
      "              -75.7123,\n",
      "              45.403\n",
      "            ],\n",
      "            [\n",
      "              -75.684,\n",
      "              45.4124\n",
      "            ],\n",
      "            [\n",
      "              -75.6807,\n",
      "              45.4186\n",
      "            ],\n",
      "            [\n",
      "              -75.6999,\n",
      "              45.4263\n",
      "            ],\n",
      "            [\n",
      "              -75.7098,\n",
      "              45.4158\n",
      "            ],\n",
      "            [\n",
      "              -75.7214,\n",
      "              45.409\n",
      "            ]\n",
      "          ]\n",
      "        ]\n",
      "      },\n",
      "      \"evenOdd\": {\n",
      "        \"constantValue\": true\n",
      "      }\n",
      "    }\n",
      "  }\n",
      "})\n"
     ]
    }
   ],
   "source": [
    "# Print all the properties of the geometry\n",
    "print(centretown)"
   ]
  },
  {
   "cell_type": "markdown",
   "metadata": {
    "id": "R4ihCrB9hx4Q"
   },
   "source": [
    "Yikes - that isn't particularly helpful to us! Recall that our `ee.Geometry.Polygon` is a proxy object, so we cannot simply print our geometry to get the information. Instead, we need to use `.getInfo()` to directly access the contents of our `ee` variables."
   ]
  },
  {
   "cell_type": "code",
   "execution_count": 14,
   "metadata": {
    "id": "2mqpB8B4hWAK"
   },
   "outputs": [
    {
     "data": {
      "text/html": [
       "\n",
       "            <style>\n",
       "                .geemap-dark {\n",
       "                    --jp-widgets-color: white;\n",
       "                    --jp-widgets-label-color: white;\n",
       "                    --jp-ui-font-color1: white;\n",
       "                    --jp-layout-color2: #454545;\n",
       "                    background-color: #383838;\n",
       "                }\n",
       "\n",
       "                .geemap-dark .jupyter-button {\n",
       "                    --jp-layout-color3: #383838;\n",
       "                }\n",
       "\n",
       "                .geemap-colab {\n",
       "                    background-color: var(--colab-primary-surface-color, white);\n",
       "                }\n",
       "\n",
       "                .geemap-colab .jupyter-button {\n",
       "                    --jp-layout-color3: var(--colab-primary-surface-color, white);\n",
       "                }\n",
       "            </style>\n",
       "            "
      ],
      "text/plain": [
       "<IPython.core.display.HTML object>"
      ]
     },
     "metadata": {},
     "output_type": "display_data"
    },
    {
     "name": "stdout",
     "output_type": "stream",
     "text": [
      "{'type': 'Polygon', 'coordinates': [[[-75.7123, 45.403], [-75.684, 45.4124], [-75.6807, 45.4186], [-75.6999, 45.4263], [-75.7098, 45.4158], [-75.7214, 45.409], [-75.7123, 45.403]]]}\n"
     ]
    }
   ],
   "source": [
    "# Print all the properties of the geometry (formatted as dictionary)\n",
    "print(centretown.getInfo())"
   ]
  },
  {
   "cell_type": "code",
   "execution_count": 15,
   "metadata": {
    "id": "EzIQMoKeiEkQ"
   },
   "outputs": [
    {
     "data": {
      "text/html": [
       "\n",
       "            <style>\n",
       "                .geemap-dark {\n",
       "                    --jp-widgets-color: white;\n",
       "                    --jp-widgets-label-color: white;\n",
       "                    --jp-ui-font-color1: white;\n",
       "                    --jp-layout-color2: #454545;\n",
       "                    background-color: #383838;\n",
       "                }\n",
       "\n",
       "                .geemap-dark .jupyter-button {\n",
       "                    --jp-layout-color3: #383838;\n",
       "                }\n",
       "\n",
       "                .geemap-colab {\n",
       "                    background-color: var(--colab-primary-surface-color, white);\n",
       "                }\n",
       "\n",
       "                .geemap-colab .jupyter-button {\n",
       "                    --jp-layout-color3: var(--colab-primary-surface-color, white);\n",
       "                }\n",
       "            </style>\n",
       "            "
      ],
      "text/plain": [
       "<IPython.core.display.HTML object>"
      ]
     },
     "metadata": {},
     "output_type": "display_data"
    },
    {
     "name": "stdout",
     "output_type": "stream",
     "text": [
      "[[[-75.7123, 45.403], [-75.684, 45.4124], [-75.6807, 45.4186], [-75.6999, 45.4263], [-75.7098, 45.4158], [-75.7214, 45.409], [-75.7123, 45.403]]]\n"
     ]
    }
   ],
   "source": [
    "# Print the coordinates of the geometry\n",
    "print(centretown.coordinates().getInfo())"
   ]
  },
  {
   "cell_type": "markdown",
   "metadata": {
    "id": "HFZVnBlXRA1E"
   },
   "source": [
    "#### Feature\n",
    "Features are a vector data type made up of a geometry and attribute information stored in a dictionary.\n",
    "Any geometry that has information associated with it, like name, object ID, etc. is by definition a feature.\n",
    "\n",
    "A feature is created by combining a geometry with a dictionary of attributes.\n",
    "\n",
    "A dictionary in Python is a data structure which stores information in key:value pairs. A dictionary has a order, but is changable. If you are entirely new to Python you may want to do some brief reading about the following Python Data Structures to support your understanding of the scripting methods you will learn in this course: lists, dictionaries, and arrays."
   ]
  },
  {
   "cell_type": "code",
   "execution_count": 16,
   "metadata": {
    "id": "oiT08jjxe8oV"
   },
   "outputs": [
    {
     "data": {
      "text/html": [
       "\n",
       "            <style>\n",
       "                .geemap-dark {\n",
       "                    --jp-widgets-color: white;\n",
       "                    --jp-widgets-label-color: white;\n",
       "                    --jp-ui-font-color1: white;\n",
       "                    --jp-layout-color2: #454545;\n",
       "                    background-color: #383838;\n",
       "                }\n",
       "\n",
       "                .geemap-dark .jupyter-button {\n",
       "                    --jp-layout-color3: #383838;\n",
       "                }\n",
       "\n",
       "                .geemap-colab {\n",
       "                    background-color: var(--colab-primary-surface-color, white);\n",
       "                }\n",
       "\n",
       "                .geemap-colab .jupyter-button {\n",
       "                    --jp-layout-color3: var(--colab-primary-surface-color, white);\n",
       "                }\n",
       "            </style>\n",
       "            "
      ],
      "text/plain": [
       "<IPython.core.display.HTML object>"
      ]
     },
     "metadata": {},
     "output_type": "display_data"
    }
   ],
   "source": [
    "# Create an ee.Geometry.Point at Parliament\n",
    "parliament_geo = ee.Geometry.Point(-75.699583,45.424820)\n",
    "\n",
    "# Create a Feature from the Geometry.\n",
    "parliament_feat = ee.Feature(parliament_geo, {'Name': 'Canada Parliament', 'BuildYear': '1866'});"
   ]
  },
  {
   "cell_type": "markdown",
   "metadata": {
    "id": "Gv9xX51biTkr"
   },
   "source": [
    "As with geometries, we can check the properties of our feature."
   ]
  },
  {
   "cell_type": "code",
   "execution_count": 17,
   "metadata": {
    "id": "EtMqrwMxjp3I"
   },
   "outputs": [
    {
     "data": {
      "text/html": [
       "\n",
       "            <style>\n",
       "                .geemap-dark {\n",
       "                    --jp-widgets-color: white;\n",
       "                    --jp-widgets-label-color: white;\n",
       "                    --jp-ui-font-color1: white;\n",
       "                    --jp-layout-color2: #454545;\n",
       "                    background-color: #383838;\n",
       "                }\n",
       "\n",
       "                .geemap-dark .jupyter-button {\n",
       "                    --jp-layout-color3: #383838;\n",
       "                }\n",
       "\n",
       "                .geemap-colab {\n",
       "                    background-color: var(--colab-primary-surface-color, white);\n",
       "                }\n",
       "\n",
       "                .geemap-colab .jupyter-button {\n",
       "                    --jp-layout-color3: var(--colab-primary-surface-color, white);\n",
       "                }\n",
       "            </style>\n",
       "            "
      ],
      "text/plain": [
       "<IPython.core.display.HTML object>"
      ]
     },
     "metadata": {},
     "output_type": "display_data"
    },
    {
     "name": "stdout",
     "output_type": "stream",
     "text": [
      "{'type': 'Feature', 'geometry': {'type': 'Point', 'coordinates': [-75.699583, 45.42482]}, 'properties': {'BuildYear': '1866', 'Name': 'Canada Parliament'}}\n"
     ]
    }
   ],
   "source": [
    "print(parliament_feat.getInfo())"
   ]
  },
  {
   "cell_type": "code",
   "execution_count": 18,
   "metadata": {
    "id": "4vh9jTy1kGsS"
   },
   "outputs": [
    {
     "data": {
      "text/html": [
       "\n",
       "            <style>\n",
       "                .geemap-dark {\n",
       "                    --jp-widgets-color: white;\n",
       "                    --jp-widgets-label-color: white;\n",
       "                    --jp-ui-font-color1: white;\n",
       "                    --jp-layout-color2: #454545;\n",
       "                    background-color: #383838;\n",
       "                }\n",
       "\n",
       "                .geemap-dark .jupyter-button {\n",
       "                    --jp-layout-color3: #383838;\n",
       "                }\n",
       "\n",
       "                .geemap-colab {\n",
       "                    background-color: var(--colab-primary-surface-color, white);\n",
       "                }\n",
       "\n",
       "                .geemap-colab .jupyter-button {\n",
       "                    --jp-layout-color3: var(--colab-primary-surface-color, white);\n",
       "                }\n",
       "            </style>\n",
       "            "
      ],
      "text/plain": [
       "<IPython.core.display.HTML object>"
      ]
     },
     "metadata": {},
     "output_type": "display_data"
    },
    {
     "name": "stdout",
     "output_type": "stream",
     "text": [
      "{'type': 'Point', 'coordinates': [-75.699583, 45.42482]}\n"
     ]
    }
   ],
   "source": [
    "print(parliament_feat.geometry().getInfo())"
   ]
  },
  {
   "cell_type": "code",
   "execution_count": 19,
   "metadata": {
    "id": "fuaW5jVri0Ty"
   },
   "outputs": [
    {
     "data": {
      "text/html": [
       "\n",
       "            <style>\n",
       "                .geemap-dark {\n",
       "                    --jp-widgets-color: white;\n",
       "                    --jp-widgets-label-color: white;\n",
       "                    --jp-ui-font-color1: white;\n",
       "                    --jp-layout-color2: #454545;\n",
       "                    background-color: #383838;\n",
       "                }\n",
       "\n",
       "                .geemap-dark .jupyter-button {\n",
       "                    --jp-layout-color3: #383838;\n",
       "                }\n",
       "\n",
       "                .geemap-colab {\n",
       "                    background-color: var(--colab-primary-surface-color, white);\n",
       "                }\n",
       "\n",
       "                .geemap-colab .jupyter-button {\n",
       "                    --jp-layout-color3: var(--colab-primary-surface-color, white);\n",
       "                }\n",
       "            </style>\n",
       "            "
      ],
      "text/plain": [
       "<IPython.core.display.HTML object>"
      ]
     },
     "metadata": {},
     "output_type": "display_data"
    },
    {
     "name": "stdout",
     "output_type": "stream",
     "text": [
      "[-75.699583, 45.42482]\n"
     ]
    }
   ],
   "source": [
    "print(parliament_feat.geometry().coordinates().getInfo())"
   ]
  },
  {
   "cell_type": "code",
   "execution_count": 20,
   "metadata": {
    "id": "HiHLuWvUjP9b"
   },
   "outputs": [
    {
     "data": {
      "text/html": [
       "\n",
       "            <style>\n",
       "                .geemap-dark {\n",
       "                    --jp-widgets-color: white;\n",
       "                    --jp-widgets-label-color: white;\n",
       "                    --jp-ui-font-color1: white;\n",
       "                    --jp-layout-color2: #454545;\n",
       "                    background-color: #383838;\n",
       "                }\n",
       "\n",
       "                .geemap-dark .jupyter-button {\n",
       "                    --jp-layout-color3: #383838;\n",
       "                }\n",
       "\n",
       "                .geemap-colab {\n",
       "                    background-color: var(--colab-primary-surface-color, white);\n",
       "                }\n",
       "\n",
       "                .geemap-colab .jupyter-button {\n",
       "                    --jp-layout-color3: var(--colab-primary-surface-color, white);\n",
       "                }\n",
       "            </style>\n",
       "            "
      ],
      "text/plain": [
       "<IPython.core.display.HTML object>"
      ]
     },
     "metadata": {},
     "output_type": "display_data"
    },
    {
     "name": "stdout",
     "output_type": "stream",
     "text": [
      "['BuildYear', 'Name']\n"
     ]
    }
   ],
   "source": [
    "print(parliament_feat.propertyNames().getInfo())"
   ]
  },
  {
   "cell_type": "markdown",
   "metadata": {
    "id": "OoAsHGr8kA9u"
   },
   "source": [
    " Now that we have a number of properties, we can access them using the `.get(property)` function, where `property` is the name of the properties we set."
   ]
  },
  {
   "cell_type": "code",
   "execution_count": 21,
   "metadata": {
    "id": "8G8YU51nipWn"
   },
   "outputs": [
    {
     "data": {
      "text/html": [
       "\n",
       "            <style>\n",
       "                .geemap-dark {\n",
       "                    --jp-widgets-color: white;\n",
       "                    --jp-widgets-label-color: white;\n",
       "                    --jp-ui-font-color1: white;\n",
       "                    --jp-layout-color2: #454545;\n",
       "                    background-color: #383838;\n",
       "                }\n",
       "\n",
       "                .geemap-dark .jupyter-button {\n",
       "                    --jp-layout-color3: #383838;\n",
       "                }\n",
       "\n",
       "                .geemap-colab {\n",
       "                    background-color: var(--colab-primary-surface-color, white);\n",
       "                }\n",
       "\n",
       "                .geemap-colab .jupyter-button {\n",
       "                    --jp-layout-color3: var(--colab-primary-surface-color, white);\n",
       "                }\n",
       "            </style>\n",
       "            "
      ],
      "text/plain": [
       "<IPython.core.display.HTML object>"
      ]
     },
     "metadata": {},
     "output_type": "display_data"
    },
    {
     "name": "stdout",
     "output_type": "stream",
     "text": [
      "Canada Parliament\n"
     ]
    }
   ],
   "source": [
    "print(parliament_feat.get('Name').getInfo())"
   ]
  },
  {
   "cell_type": "markdown",
   "metadata": {
    "id": "IxbtUUaHRCsv"
   },
   "source": [
    "#### Feature Collection\n",
    "\n",
    "Feature collections are groupings of related features stored in a single dataset. By grouping features together, it allows for sorting and filtering. Unlike something like a shapefile, not all of the features in a feature collection need to have the same geometry; for example, you can have a feature collection that contains a rectangle, a line, and a point.\n",
    "\n"
   ]
  },
  {
   "cell_type": "code",
   "execution_count": 22,
   "metadata": {
    "id": "EkO4uE5i1UEz"
   },
   "outputs": [
    {
     "data": {
      "text/html": [
       "\n",
       "            <style>\n",
       "                .geemap-dark {\n",
       "                    --jp-widgets-color: white;\n",
       "                    --jp-widgets-label-color: white;\n",
       "                    --jp-ui-font-color1: white;\n",
       "                    --jp-layout-color2: #454545;\n",
       "                    background-color: #383838;\n",
       "                }\n",
       "\n",
       "                .geemap-dark .jupyter-button {\n",
       "                    --jp-layout-color3: #383838;\n",
       "                }\n",
       "\n",
       "                .geemap-colab {\n",
       "                    background-color: var(--colab-primary-surface-color, white);\n",
       "                }\n",
       "\n",
       "                .geemap-colab .jupyter-button {\n",
       "                    --jp-layout-color3: var(--colab-primary-surface-color, white);\n",
       "                }\n",
       "            </style>\n",
       "            "
      ],
      "text/plain": [
       "<IPython.core.display.HTML object>"
      ]
     },
     "metadata": {},
     "output_type": "display_data"
    },
    {
     "name": "stdout",
     "output_type": "stream",
     "text": [
      "{'type': 'FeatureCollection', 'columns': {'BuildYear': 'String', 'Name': 'String', 'system:index': 'String'}, 'features': [{'type': 'Feature', 'geometry': {'type': 'Point', 'coordinates': [-75.699583, 45.42482]}, 'id': '0', 'properties': {'BuildYear': '1866', 'Name': 'Canada Parliament'}}, {'type': 'Feature', 'geometry': {'type': 'Point', 'coordinates': [-0.125, 51.499]}, 'id': '1', 'properties': {'BuildYear': '1016', 'Name': 'UK Parliament'}}]}\n"
     ]
    }
   ],
   "source": [
    "# Create a feature for the U.K. Parliament building\n",
    "uk_parliament = ee.Feature(ee.Geometry.Point(-0.125,51.499),{'Name': 'UK Parliament', 'BuildYear': '1016'})\n",
    "\n",
    "# Create a list of our two parliament features\n",
    "parliaments_list = [parliament_feat,uk_parliament]\n",
    "\n",
    "# Create a FeatureCollection from the list and print it.\n",
    "parliaments_fc = ee.FeatureCollection(parliaments_list)\n",
    "print(parliaments_fc.getInfo())"
   ]
  },
  {
   "cell_type": "markdown",
   "metadata": {
    "id": "OylYuijXDhr7"
   },
   "source": [
    "You can also use feature collection properties to access specific features. For example, we can filter our feature collection to give just the feature with the name \"Canada Parliament\""
   ]
  },
  {
   "cell_type": "code",
   "execution_count": 23,
   "metadata": {
    "id": "v5QgAMogD5o2"
   },
   "outputs": [
    {
     "data": {
      "text/html": [
       "\n",
       "            <style>\n",
       "                .geemap-dark {\n",
       "                    --jp-widgets-color: white;\n",
       "                    --jp-widgets-label-color: white;\n",
       "                    --jp-ui-font-color1: white;\n",
       "                    --jp-layout-color2: #454545;\n",
       "                    background-color: #383838;\n",
       "                }\n",
       "\n",
       "                .geemap-dark .jupyter-button {\n",
       "                    --jp-layout-color3: #383838;\n",
       "                }\n",
       "\n",
       "                .geemap-colab {\n",
       "                    background-color: var(--colab-primary-surface-color, white);\n",
       "                }\n",
       "\n",
       "                .geemap-colab .jupyter-button {\n",
       "                    --jp-layout-color3: var(--colab-primary-surface-color, white);\n",
       "                }\n",
       "            </style>\n",
       "            "
      ],
      "text/plain": [
       "<IPython.core.display.HTML object>"
      ]
     },
     "metadata": {},
     "output_type": "display_data"
    },
    {
     "name": "stdout",
     "output_type": "stream",
     "text": [
      "{'columns': {'BuildYear': 'String', 'Name': 'String', 'system:index': 'String'},\n",
      " 'features': [{'geometry': {'coordinates': [...], 'type': 'Point'},\n",
      "               'id': '0',\n",
      "               'properties': {'BuildYear': '1866', 'Name': 'Canada Parliament'},\n",
      "               'type': 'Feature'}],\n",
      " 'type': 'FeatureCollection'}\n"
     ]
    }
   ],
   "source": [
    "# Filter feature collection by feature name\n",
    "ca_parl = parliaments_fc.filter(ee.Filter.inList('Name', ['Canada Parliament']))\n",
    "\n",
    "# Use pretty printer to print the results\n",
    "pp.pprint(ca_parl.getInfo())"
   ]
  },
  {
   "cell_type": "markdown",
   "metadata": {
    "id": "WEYVk2xTRD_8"
   },
   "source": [
    "#### Image\n",
    "\n",
    "Images are the basic raster format in Google Earth Engine. Images are composed of one or more bands. Each image contains a set of properties to hold their metadata."
   ]
  },
  {
   "cell_type": "code",
   "execution_count": 30,
   "metadata": {
    "id": "XBpb0gYb9s0s"
   },
   "outputs": [
    {
     "data": {
      "text/html": [
       "\n",
       "            <style>\n",
       "                .geemap-dark {\n",
       "                    --jp-widgets-color: white;\n",
       "                    --jp-widgets-label-color: white;\n",
       "                    --jp-ui-font-color1: white;\n",
       "                    --jp-layout-color2: #454545;\n",
       "                    background-color: #383838;\n",
       "                }\n",
       "\n",
       "                .geemap-dark .jupyter-button {\n",
       "                    --jp-layout-color3: #383838;\n",
       "                }\n",
       "\n",
       "                .geemap-colab {\n",
       "                    background-color: var(--colab-primary-surface-color, white);\n",
       "                }\n",
       "\n",
       "                .geemap-colab .jupyter-button {\n",
       "                    --jp-layout-color3: var(--colab-primary-surface-color, white);\n",
       "                }\n",
       "            </style>\n",
       "            "
      ],
      "text/plain": [
       "<IPython.core.display.HTML object>"
      ]
     },
     "metadata": {},
     "output_type": "display_data"
    }
   ],
   "source": [
    "# Assign a Landsat 8 ee.Image object to a variable\n",
    "# Images all have an image ID\n",
    "## in this case we are calling for a Landsat 8 surface reflectance image from 11 June 2020\n",
    "L8_image = ee.Image('LANDSAT/LC08/C02/T1_L2/LC08_015028_20200611')"
   ]
  },
  {
   "cell_type": "markdown",
   "metadata": {
    "id": "KzClvlhO-Rwe"
   },
   "source": [
    "As with features, you can access the properties of an image by using the `.get()` and `.getInfo()` operators"
   ]
  },
  {
   "cell_type": "code",
   "execution_count": 31,
   "metadata": {
    "id": "JCL3nFCp-32g",
    "scrolled": true
   },
   "outputs": [
    {
     "data": {
      "text/html": [
       "\n",
       "            <style>\n",
       "                .geemap-dark {\n",
       "                    --jp-widgets-color: white;\n",
       "                    --jp-widgets-label-color: white;\n",
       "                    --jp-ui-font-color1: white;\n",
       "                    --jp-layout-color2: #454545;\n",
       "                    background-color: #383838;\n",
       "                }\n",
       "\n",
       "                .geemap-dark .jupyter-button {\n",
       "                    --jp-layout-color3: #383838;\n",
       "                }\n",
       "\n",
       "                .geemap-colab {\n",
       "                    background-color: var(--colab-primary-surface-color, white);\n",
       "                }\n",
       "\n",
       "                .geemap-colab .jupyter-button {\n",
       "                    --jp-layout-color3: var(--colab-primary-surface-color, white);\n",
       "                }\n",
       "            </style>\n",
       "            "
      ],
      "text/plain": [
       "<IPython.core.display.HTML object>"
      ]
     },
     "metadata": {},
     "output_type": "display_data"
    },
    {
     "name": "stdout",
     "output_type": "stream",
     "text": [
      "{'type': 'Image', 'bands': [{'id': 'SR_B1', 'data_type': {'type': 'PixelType', 'precision': 'int', 'min': 0, 'max': 65535}, 'dimensions': [7791, 7901], 'crs': 'EPSG:32618', 'crs_transform': [30, 0, 425385, 0, -30, 5215515]}, {'id': 'SR_B2', 'data_type': {'type': 'PixelType', 'precision': 'int', 'min': 0, 'max': 65535}, 'dimensions': [7791, 7901], 'crs': 'EPSG:32618', 'crs_transform': [30, 0, 425385, 0, -30, 5215515]}, {'id': 'SR_B3', 'data_type': {'type': 'PixelType', 'precision': 'int', 'min': 0, 'max': 65535}, 'dimensions': [7791, 7901], 'crs': 'EPSG:32618', 'crs_transform': [30, 0, 425385, 0, -30, 5215515]}, {'id': 'SR_B4', 'data_type': {'type': 'PixelType', 'precision': 'int', 'min': 0, 'max': 65535}, 'dimensions': [7791, 7901], 'crs': 'EPSG:32618', 'crs_transform': [30, 0, 425385, 0, -30, 5215515]}, {'id': 'SR_B5', 'data_type': {'type': 'PixelType', 'precision': 'int', 'min': 0, 'max': 65535}, 'dimensions': [7791, 7901], 'crs': 'EPSG:32618', 'crs_transform': [30, 0, 425385, 0, -30, 5215515]}, {'id': 'SR_B6', 'data_type': {'type': 'PixelType', 'precision': 'int', 'min': 0, 'max': 65535}, 'dimensions': [7791, 7901], 'crs': 'EPSG:32618', 'crs_transform': [30, 0, 425385, 0, -30, 5215515]}, {'id': 'SR_B7', 'data_type': {'type': 'PixelType', 'precision': 'int', 'min': 0, 'max': 65535}, 'dimensions': [7791, 7901], 'crs': 'EPSG:32618', 'crs_transform': [30, 0, 425385, 0, -30, 5215515]}, {'id': 'SR_QA_AEROSOL', 'data_type': {'type': 'PixelType', 'precision': 'int', 'min': 0, 'max': 255}, 'dimensions': [7791, 7901], 'crs': 'EPSG:32618', 'crs_transform': [30, 0, 425385, 0, -30, 5215515]}, {'id': 'ST_B10', 'data_type': {'type': 'PixelType', 'precision': 'int', 'min': 0, 'max': 65535}, 'dimensions': [7791, 7901], 'crs': 'EPSG:32618', 'crs_transform': [30, 0, 425385, 0, -30, 5215515]}, {'id': 'ST_ATRAN', 'data_type': {'type': 'PixelType', 'precision': 'int', 'min': -32768, 'max': 32767}, 'dimensions': [7791, 7901], 'crs': 'EPSG:32618', 'crs_transform': [30, 0, 425385, 0, -30, 5215515]}, {'id': 'ST_CDIST', 'data_type': {'type': 'PixelType', 'precision': 'int', 'min': -32768, 'max': 32767}, 'dimensions': [7791, 7901], 'crs': 'EPSG:32618', 'crs_transform': [30, 0, 425385, 0, -30, 5215515]}, {'id': 'ST_DRAD', 'data_type': {'type': 'PixelType', 'precision': 'int', 'min': -32768, 'max': 32767}, 'dimensions': [7791, 7901], 'crs': 'EPSG:32618', 'crs_transform': [30, 0, 425385, 0, -30, 5215515]}, {'id': 'ST_EMIS', 'data_type': {'type': 'PixelType', 'precision': 'int', 'min': -32768, 'max': 32767}, 'dimensions': [7791, 7901], 'crs': 'EPSG:32618', 'crs_transform': [30, 0, 425385, 0, -30, 5215515]}, {'id': 'ST_EMSD', 'data_type': {'type': 'PixelType', 'precision': 'int', 'min': -32768, 'max': 32767}, 'dimensions': [7791, 7901], 'crs': 'EPSG:32618', 'crs_transform': [30, 0, 425385, 0, -30, 5215515]}, {'id': 'ST_QA', 'data_type': {'type': 'PixelType', 'precision': 'int', 'min': -32768, 'max': 32767}, 'dimensions': [7791, 7901], 'crs': 'EPSG:32618', 'crs_transform': [30, 0, 425385, 0, -30, 5215515]}, {'id': 'ST_TRAD', 'data_type': {'type': 'PixelType', 'precision': 'int', 'min': -32768, 'max': 32767}, 'dimensions': [7791, 7901], 'crs': 'EPSG:32618', 'crs_transform': [30, 0, 425385, 0, -30, 5215515]}, {'id': 'ST_URAD', 'data_type': {'type': 'PixelType', 'precision': 'int', 'min': -32768, 'max': 32767}, 'dimensions': [7791, 7901], 'crs': 'EPSG:32618', 'crs_transform': [30, 0, 425385, 0, -30, 5215515]}, {'id': 'QA_PIXEL', 'data_type': {'type': 'PixelType', 'precision': 'int', 'min': 0, 'max': 65535}, 'dimensions': [7791, 7901], 'crs': 'EPSG:32618', 'crs_transform': [30, 0, 425385, 0, -30, 5215515]}, {'id': 'QA_RADSAT', 'data_type': {'type': 'PixelType', 'precision': 'int', 'min': 0, 'max': 65535}, 'dimensions': [7791, 7901], 'crs': 'EPSG:32618', 'crs_transform': [30, 0, 425385, 0, -30, 5215515]}], 'version': 1629863144185982, 'id': 'LANDSAT/LC08/C02/T1_L2/LC08_015028_20200611', 'properties': {'DATA_SOURCE_ELEVATION': 'GLS2000', 'WRS_TYPE': 2, 'REFLECTANCE_ADD_BAND_1': -0.2, 'REFLECTANCE_ADD_BAND_2': -0.2, 'DATUM': 'WGS84', 'REFLECTANCE_ADD_BAND_3': -0.2, 'REFLECTANCE_ADD_BAND_4': -0.2, 'REFLECTANCE_ADD_BAND_5': -0.2, 'REFLECTANCE_ADD_BAND_6': -0.2, 'REFLECTANCE_ADD_BAND_7': -0.2, 'system:footprint': {'type': 'LinearRing', 'coordinates': [[-75.33477580777983, 47.078685460174526], [-75.33866154927138, 47.068143759163014], [-75.93021314402928, 45.37840580242482], [-75.90292776057706, 45.37372852757168], [-75.70700772022282, 45.34001459856182], [-74.07905358571591, 45.04521683419408], [-73.62842531423082, 44.95895727210786], [-73.61833936170078, 44.985135217446654], [-73.59964926627597, 45.033788078085706], [-73.57441553612905, 45.09950190461199], [-73.4829941830187, 45.33642493322471], [-73.45509160324706, 45.40837080691223], [-73.36855081590839, 45.630756358466755], [-73.27609163996158, 45.86651632541064], [-73.19159970391856, 46.08064712104666], [-73.1695851642776, 46.136188817403834], [-73.10452664502738, 46.30010202231259], [-72.95932837076494, 46.66266967855646], [-72.95928575885964, 46.663800515802755], [-75.23192914342425, 47.070982468830756], [-75.3313466886342, 47.087621705152436], [-75.33477580777983, 47.078685460174526]]}, 'REFLECTIVE_SAMPLES': 7791, 'GROUND_CONTROL_POINTS_VERSION': 5, 'SUN_AZIMUTH': 140.76919224, 'DATA_SOURCE_TIRS_STRAY_LIGHT_CORRECTION': 'TIRS', 'UTM_ZONE': 18, 'DATE_ACQUIRED': '2020-06-11', 'ELLIPSOID': 'WGS84', 'system:time_end': 1591890244268, 'DATA_SOURCE_PRESSURE': 'Calculated', 'LANDSAT_PRODUCT_ID': 'LC08_L2SP_015028_20200611_20200824_02_T1', 'STATION_ID': 'LGN', 'TEMPERATURE_ADD_BAND_ST_B10': 149, 'DATA_SOURCE_REANALYSIS': 'GEOS-5 FP-IT', 'REFLECTANCE_MULT_BAND_7': 2.75e-05, 'system:time_start': 1591890244268, 'REFLECTANCE_MULT_BAND_6': 2.75e-05, 'L1_PROCESSING_LEVEL': 'L1TP', 'PROCESSING_SOFTWARE_VERSION': 'LPGS_15.3.1c', 'L1_DATE_PRODUCT_GENERATED': '2020-08-24T21:13:28Z', 'ORIENTATION': 'NORTH_UP', 'REFLECTANCE_MULT_BAND_1': 2.75e-05, 'WRS_ROW': 28, 'REFLECTANCE_MULT_BAND_3': 2.75e-05, 'REFLECTANCE_MULT_BAND_2': 2.75e-05, 'TARGET_WRS_ROW': 28, 'REFLECTANCE_MULT_BAND_5': 2.75e-05, 'REFLECTANCE_MULT_BAND_4': 2.75e-05, 'THERMAL_LINES': 7901, 'TIRS_SSM_POSITION_STATUS': 'ESTIMATED', 'GRID_CELL_SIZE_THERMAL': 30, 'IMAGE_QUALITY_TIRS': 9, 'TRUNCATION_OLI': 'UPPER', 'NADIR_OFFNADIR': 'NADIR', 'CLOUD_COVER': 74.56, 'REQUEST_ID': 'L2', 'EARTH_SUN_DISTANCE': 1.0154524, 'GEOMETRIC_RMSE_VERIFY': 5.9, 'TIRS_SSM_MODEL': 'FINAL', 'COLLECTION_CATEGORY': 'T1', 'SCENE_CENTER_TIME': '15:44:04.2684020Z', 'GRID_CELL_SIZE_REFLECTIVE': 30, 'SUN_ELEVATION': 62.70828188, 'ALGORITHM_SOURCE_SURFACE_TEMPERATURE': 'st_1.3.0', 'TEMPERATURE_MAXIMUM_BAND_ST_B10': 372.999941, 'CLOUD_COVER_LAND': 75.23, 'GEOMETRIC_RMSE_MODEL': 7.274, 'ROLL_ANGLE': -0.001, 'COLLECTION_NUMBER': 2, 'DATE_PRODUCT_GENERATED': 1598304184000, 'L1_REQUEST_ID': 'L2', 'DATA_SOURCE_OZONE': 'MODIS', 'SATURATION_BAND_1': 'Y', 'DATA_SOURCE_WATER_VAPOR': 'MODIS', 'SATURATION_BAND_2': 'Y', 'SATURATION_BAND_3': 'Y', 'IMAGE_QUALITY_OLI': 9, 'SATURATION_BAND_4': 'Y', 'LANDSAT_SCENE_ID': 'LC80150282020163LGN00', 'SATURATION_BAND_5': 'Y', 'MAP_PROJECTION': 'UTM', 'SATURATION_BAND_6': 'Y', 'SENSOR_ID': 'OLI_TIRS', 'SATURATION_BAND_7': 'Y', 'SATURATION_BAND_8': 'N', 'WRS_PATH': 15, 'SATURATION_BAND_9': 'N', 'TARGET_WRS_PATH': 15, 'L1_PROCESSING_SOFTWARE_VERSION': 'LPGS_15.3.1c', 'TEMPERATURE_MULT_BAND_ST_B10': 0.00341802, 'L1_LANDSAT_PRODUCT_ID': 'LC08_L1TP_015028_20200611_20200824_02_T1', 'PROCESSING_LEVEL': 'L2SP', 'ALGORITHM_SOURCE_SURFACE_REFLECTANCE': 'LaSRC_1.5.0', 'GROUND_CONTROL_POINTS_MODEL': 169, 'SPACECRAFT_ID': 'LANDSAT_8', 'TEMPERATURE_MINIMUM_BAND_ST_B10': 149.003418, 'GEOMETRIC_RMSE_MODEL_Y': 5.147, 'REFLECTIVE_LINES': 7901, 'GEOMETRIC_RMSE_MODEL_X': 5.14, 'THERMAL_SAMPLES': 7791, 'system:asset_size': 1072074810, 'DATA_SOURCE_AIR_TEMPERATURE': 'MODIS', 'GROUND_CONTROL_POINTS_VERIFY': 56, 'system:index': 'LC08_015028_20200611'}}\n",
      "{'bands': [{'crs': 'EPSG:32618',\n",
      "            'crs_transform': [30, 0, 425385, 0, -30, 5215515],\n",
      "            'data_type': {'max': 65535,\n",
      "                          'min': 0,\n",
      "                          'precision': 'int',\n",
      "                          'type': 'PixelType'},\n",
      "            'dimensions': [7791, 7901],\n",
      "            'id': 'SR_B1'},\n",
      "           {'crs': 'EPSG:32618',\n",
      "            'crs_transform': [30, 0, 425385, 0, -30, 5215515],\n",
      "            'data_type': {'max': 65535,\n",
      "                          'min': 0,\n",
      "                          'precision': 'int',\n",
      "                          'type': 'PixelType'},\n",
      "            'dimensions': [7791, 7901],\n",
      "            'id': 'SR_B2'},\n",
      "           {'crs': 'EPSG:32618',\n",
      "            'crs_transform': [30, 0, 425385, 0, -30, 5215515],\n",
      "            'data_type': {'max': 65535,\n",
      "                          'min': 0,\n",
      "                          'precision': 'int',\n",
      "                          'type': 'PixelType'},\n",
      "            'dimensions': [7791, 7901],\n",
      "            'id': 'SR_B3'},\n",
      "           {'crs': 'EPSG:32618',\n",
      "            'crs_transform': [30, 0, 425385, 0, -30, 5215515],\n",
      "            'data_type': {'max': 65535,\n",
      "                          'min': 0,\n",
      "                          'precision': 'int',\n",
      "                          'type': 'PixelType'},\n",
      "            'dimensions': [7791, 7901],\n",
      "            'id': 'SR_B4'},\n",
      "           {'crs': 'EPSG:32618',\n",
      "            'crs_transform': [30, 0, 425385, 0, -30, 5215515],\n",
      "            'data_type': {'max': 65535,\n",
      "                          'min': 0,\n",
      "                          'precision': 'int',\n",
      "                          'type': 'PixelType'},\n",
      "            'dimensions': [7791, 7901],\n",
      "            'id': 'SR_B5'},\n",
      "           {'crs': 'EPSG:32618',\n",
      "            'crs_transform': [30, 0, 425385, 0, -30, 5215515],\n",
      "            'data_type': {'max': 65535,\n",
      "                          'min': 0,\n",
      "                          'precision': 'int',\n",
      "                          'type': 'PixelType'},\n",
      "            'dimensions': [7791, 7901],\n",
      "            'id': 'SR_B6'},\n",
      "           {'crs': 'EPSG:32618',\n",
      "            'crs_transform': [30, 0, 425385, 0, -30, 5215515],\n",
      "            'data_type': {'max': 65535,\n",
      "                          'min': 0,\n",
      "                          'precision': 'int',\n",
      "                          'type': 'PixelType'},\n",
      "            'dimensions': [7791, 7901],\n",
      "            'id': 'SR_B7'},\n",
      "           {'crs': 'EPSG:32618',\n",
      "            'crs_transform': [30, 0, 425385, 0, -30, 5215515],\n",
      "            'data_type': {'max': 255,\n",
      "                          'min': 0,\n",
      "                          'precision': 'int',\n",
      "                          'type': 'PixelType'},\n",
      "            'dimensions': [7791, 7901],\n",
      "            'id': 'SR_QA_AEROSOL'},\n",
      "           {'crs': 'EPSG:32618',\n",
      "            'crs_transform': [30, 0, 425385, 0, -30, 5215515],\n",
      "            'data_type': {'max': 65535,\n",
      "                          'min': 0,\n",
      "                          'precision': 'int',\n",
      "                          'type': 'PixelType'},\n",
      "            'dimensions': [7791, 7901],\n",
      "            'id': 'ST_B10'},\n",
      "           {'crs': 'EPSG:32618',\n",
      "            'crs_transform': [30, 0, 425385, 0, -30, 5215515],\n",
      "            'data_type': {'max': 32767,\n",
      "                          'min': -32768,\n",
      "                          'precision': 'int',\n",
      "                          'type': 'PixelType'},\n",
      "            'dimensions': [7791, 7901],\n",
      "            'id': 'ST_ATRAN'},\n",
      "           {'crs': 'EPSG:32618',\n",
      "            'crs_transform': [30, 0, 425385, 0, -30, 5215515],\n",
      "            'data_type': {'max': 32767,\n",
      "                          'min': -32768,\n",
      "                          'precision': 'int',\n",
      "                          'type': 'PixelType'},\n",
      "            'dimensions': [7791, 7901],\n",
      "            'id': 'ST_CDIST'},\n",
      "           {'crs': 'EPSG:32618',\n",
      "            'crs_transform': [30, 0, 425385, 0, -30, 5215515],\n",
      "            'data_type': {'max': 32767,\n",
      "                          'min': -32768,\n",
      "                          'precision': 'int',\n",
      "                          'type': 'PixelType'},\n",
      "            'dimensions': [7791, 7901],\n",
      "            'id': 'ST_DRAD'},\n",
      "           {'crs': 'EPSG:32618',\n",
      "            'crs_transform': [30, 0, 425385, 0, -30, 5215515],\n",
      "            'data_type': {'max': 32767,\n",
      "                          'min': -32768,\n",
      "                          'precision': 'int',\n",
      "                          'type': 'PixelType'},\n",
      "            'dimensions': [7791, 7901],\n",
      "            'id': 'ST_EMIS'},\n",
      "           {'crs': 'EPSG:32618',\n",
      "            'crs_transform': [30, 0, 425385, 0, -30, 5215515],\n",
      "            'data_type': {'max': 32767,\n",
      "                          'min': -32768,\n",
      "                          'precision': 'int',\n",
      "                          'type': 'PixelType'},\n",
      "            'dimensions': [7791, 7901],\n",
      "            'id': 'ST_EMSD'},\n",
      "           {'crs': 'EPSG:32618',\n",
      "            'crs_transform': [30, 0, 425385, 0, -30, 5215515],\n",
      "            'data_type': {'max': 32767,\n",
      "                          'min': -32768,\n",
      "                          'precision': 'int',\n",
      "                          'type': 'PixelType'},\n",
      "            'dimensions': [7791, 7901],\n",
      "            'id': 'ST_QA'},\n",
      "           {'crs': 'EPSG:32618',\n",
      "            'crs_transform': [30, 0, 425385, 0, -30, 5215515],\n",
      "            'data_type': {'max': 32767,\n",
      "                          'min': -32768,\n",
      "                          'precision': 'int',\n",
      "                          'type': 'PixelType'},\n",
      "            'dimensions': [7791, 7901],\n",
      "            'id': 'ST_TRAD'},\n",
      "           {'crs': 'EPSG:32618',\n",
      "            'crs_transform': [30, 0, 425385, 0, -30, 5215515],\n",
      "            'data_type': {'max': 32767,\n",
      "                          'min': -32768,\n",
      "                          'precision': 'int',\n",
      "                          'type': 'PixelType'},\n",
      "            'dimensions': [7791, 7901],\n",
      "            'id': 'ST_URAD'},\n",
      "           {'crs': 'EPSG:32618',\n",
      "            'crs_transform': [30, 0, 425385, 0, -30, 5215515],\n",
      "            'data_type': {'max': 65535,\n",
      "                          'min': 0,\n",
      "                          'precision': 'int',\n",
      "                          'type': 'PixelType'},\n",
      "            'dimensions': [7791, 7901],\n",
      "            'id': 'QA_PIXEL'},\n",
      "           {'crs': 'EPSG:32618',\n",
      "            'crs_transform': [30, 0, 425385, 0, -30, 5215515],\n",
      "            'data_type': {'max': 65535,\n",
      "                          'min': 0,\n",
      "                          'precision': 'int',\n",
      "                          'type': 'PixelType'},\n",
      "            'dimensions': [7791, 7901],\n",
      "            'id': 'QA_RADSAT'}],\n",
      " 'id': 'LANDSAT/LC08/C02/T1_L2/LC08_015028_20200611',\n",
      " 'properties': {'ALGORITHM_SOURCE_SURFACE_REFLECTANCE': 'LaSRC_1.5.0',\n",
      "                'ALGORITHM_SOURCE_SURFACE_TEMPERATURE': 'st_1.3.0',\n",
      "                'CLOUD_COVER': 74.56,\n",
      "                'CLOUD_COVER_LAND': 75.23,\n",
      "                'COLLECTION_CATEGORY': 'T1',\n",
      "                'COLLECTION_NUMBER': 2,\n",
      "                'DATA_SOURCE_AIR_TEMPERATURE': 'MODIS',\n",
      "                'DATA_SOURCE_ELEVATION': 'GLS2000',\n",
      "                'DATA_SOURCE_OZONE': 'MODIS',\n",
      "                'DATA_SOURCE_PRESSURE': 'Calculated',\n",
      "                'DATA_SOURCE_REANALYSIS': 'GEOS-5 FP-IT',\n",
      "                'DATA_SOURCE_TIRS_STRAY_LIGHT_CORRECTION': 'TIRS',\n",
      "                'DATA_SOURCE_WATER_VAPOR': 'MODIS',\n",
      "                'DATE_ACQUIRED': '2020-06-11',\n",
      "                'DATE_PRODUCT_GENERATED': 1598304184000,\n",
      "                'DATUM': 'WGS84',\n",
      "                'EARTH_SUN_DISTANCE': 1.0154524,\n",
      "                'ELLIPSOID': 'WGS84',\n",
      "                'GEOMETRIC_RMSE_MODEL': 7.274,\n",
      "                'GEOMETRIC_RMSE_MODEL_X': 5.14,\n",
      "                'GEOMETRIC_RMSE_MODEL_Y': 5.147,\n",
      "                'GEOMETRIC_RMSE_VERIFY': 5.9,\n",
      "                'GRID_CELL_SIZE_REFLECTIVE': 30,\n",
      "                'GRID_CELL_SIZE_THERMAL': 30,\n",
      "                'GROUND_CONTROL_POINTS_MODEL': 169,\n",
      "                'GROUND_CONTROL_POINTS_VERIFY': 56,\n",
      "                'GROUND_CONTROL_POINTS_VERSION': 5,\n",
      "                'IMAGE_QUALITY_OLI': 9,\n",
      "                'IMAGE_QUALITY_TIRS': 9,\n",
      "                'L1_DATE_PRODUCT_GENERATED': '2020-08-24T21:13:28Z',\n",
      "                'L1_LANDSAT_PRODUCT_ID': 'LC08_L1TP_015028_20200611_20200824_02_T1',\n",
      "                'L1_PROCESSING_LEVEL': 'L1TP',\n",
      "                'L1_PROCESSING_SOFTWARE_VERSION': 'LPGS_15.3.1c',\n",
      "                'L1_REQUEST_ID': 'L2',\n",
      "                'LANDSAT_PRODUCT_ID': 'LC08_L2SP_015028_20200611_20200824_02_T1',\n",
      "                'LANDSAT_SCENE_ID': 'LC80150282020163LGN00',\n",
      "                'MAP_PROJECTION': 'UTM',\n",
      "                'NADIR_OFFNADIR': 'NADIR',\n",
      "                'ORIENTATION': 'NORTH_UP',\n",
      "                'PROCESSING_LEVEL': 'L2SP',\n",
      "                'PROCESSING_SOFTWARE_VERSION': 'LPGS_15.3.1c',\n",
      "                'REFLECTANCE_ADD_BAND_1': -0.2,\n",
      "                'REFLECTANCE_ADD_BAND_2': -0.2,\n",
      "                'REFLECTANCE_ADD_BAND_3': -0.2,\n",
      "                'REFLECTANCE_ADD_BAND_4': -0.2,\n",
      "                'REFLECTANCE_ADD_BAND_5': -0.2,\n",
      "                'REFLECTANCE_ADD_BAND_6': -0.2,\n",
      "                'REFLECTANCE_ADD_BAND_7': -0.2,\n",
      "                'REFLECTANCE_MULT_BAND_1': 2.75e-05,\n",
      "                'REFLECTANCE_MULT_BAND_2': 2.75e-05,\n",
      "                'REFLECTANCE_MULT_BAND_3': 2.75e-05,\n",
      "                'REFLECTANCE_MULT_BAND_4': 2.75e-05,\n",
      "                'REFLECTANCE_MULT_BAND_5': 2.75e-05,\n",
      "                'REFLECTANCE_MULT_BAND_6': 2.75e-05,\n",
      "                'REFLECTANCE_MULT_BAND_7': 2.75e-05,\n",
      "                'REFLECTIVE_LINES': 7901,\n",
      "                'REFLECTIVE_SAMPLES': 7791,\n",
      "                'REQUEST_ID': 'L2',\n",
      "                'ROLL_ANGLE': -0.001,\n",
      "                'SATURATION_BAND_1': 'Y',\n",
      "                'SATURATION_BAND_2': 'Y',\n",
      "                'SATURATION_BAND_3': 'Y',\n",
      "                'SATURATION_BAND_4': 'Y',\n",
      "                'SATURATION_BAND_5': 'Y',\n",
      "                'SATURATION_BAND_6': 'Y',\n",
      "                'SATURATION_BAND_7': 'Y',\n",
      "                'SATURATION_BAND_8': 'N',\n",
      "                'SATURATION_BAND_9': 'N',\n",
      "                'SCENE_CENTER_TIME': '15:44:04.2684020Z',\n",
      "                'SENSOR_ID': 'OLI_TIRS',\n",
      "                'SPACECRAFT_ID': 'LANDSAT_8',\n",
      "                'STATION_ID': 'LGN',\n",
      "                'SUN_AZIMUTH': 140.76919224,\n",
      "                'SUN_ELEVATION': 62.70828188,\n",
      "                'TARGET_WRS_PATH': 15,\n",
      "                'TARGET_WRS_ROW': 28,\n",
      "                'TEMPERATURE_ADD_BAND_ST_B10': 149,\n",
      "                'TEMPERATURE_MAXIMUM_BAND_ST_B10': 372.999941,\n",
      "                'TEMPERATURE_MINIMUM_BAND_ST_B10': 149.003418,\n",
      "                'TEMPERATURE_MULT_BAND_ST_B10': 0.00341802,\n",
      "                'THERMAL_LINES': 7901,\n",
      "                'THERMAL_SAMPLES': 7791,\n",
      "                'TIRS_SSM_MODEL': 'FINAL',\n",
      "                'TIRS_SSM_POSITION_STATUS': 'ESTIMATED',\n",
      "                'TRUNCATION_OLI': 'UPPER',\n",
      "                'UTM_ZONE': 18,\n",
      "                'WRS_PATH': 15,\n",
      "                'WRS_ROW': 28,\n",
      "                'WRS_TYPE': 2,\n",
      "                'system:asset_size': 1072074810,\n",
      "                'system:footprint': {'coordinates': [[...],\n",
      "                                                     [...],\n",
      "                                                     [...],\n",
      "                                                     [...],\n",
      "                                                     [...],\n",
      "                                                     [...],\n",
      "                                                     [...],\n",
      "                                                     [...],\n",
      "                                                     [...],\n",
      "                                                     [...],\n",
      "                                                     [...],\n",
      "                                                     [...],\n",
      "                                                     [...],\n",
      "                                                     [...],\n",
      "                                                     [...],\n",
      "                                                     [...],\n",
      "                                                     [...],\n",
      "                                                     [...],\n",
      "                                                     [...],\n",
      "                                                     [...],\n",
      "                                                     [...],\n",
      "                                                     [...]],\n",
      "                                     'type': 'LinearRing'},\n",
      "                'system:index': 'LC08_015028_20200611',\n",
      "                'system:time_end': 1591890244268,\n",
      "                'system:time_start': 1591890244268},\n",
      " 'type': 'Image',\n",
      " 'version': 1629863144185982}\n"
     ]
    }
   ],
   "source": [
    "# Print the image\n",
    "print(L8_image.getInfo())\n",
    "\n",
    "# We can use the pretty printer library to print the dictionary in an accessible way\n",
    "pp.pprint(L8_image.getInfo())"
   ]
  },
  {
   "cell_type": "code",
   "execution_count": 32,
   "metadata": {
    "id": "Ues7Moc_-Qmh"
   },
   "outputs": [
    {
     "data": {
      "text/html": [
       "\n",
       "            <style>\n",
       "                .geemap-dark {\n",
       "                    --jp-widgets-color: white;\n",
       "                    --jp-widgets-label-color: white;\n",
       "                    --jp-ui-font-color1: white;\n",
       "                    --jp-layout-color2: #454545;\n",
       "                    background-color: #383838;\n",
       "                }\n",
       "\n",
       "                .geemap-dark .jupyter-button {\n",
       "                    --jp-layout-color3: #383838;\n",
       "                }\n",
       "\n",
       "                .geemap-colab {\n",
       "                    background-color: var(--colab-primary-surface-color, white);\n",
       "                }\n",
       "\n",
       "                .geemap-colab .jupyter-button {\n",
       "                    --jp-layout-color3: var(--colab-primary-surface-color, white);\n",
       "                }\n",
       "            </style>\n",
       "            "
      ],
      "text/plain": [
       "<IPython.core.display.HTML object>"
      ]
     },
     "metadata": {},
     "output_type": "display_data"
    },
    {
     "name": "stdout",
     "output_type": "stream",
     "text": [
      "['DATA_SOURCE_ELEVATION', 'WRS_TYPE', 'system:id', 'REFLECTANCE_ADD_BAND_1', 'REFLECTANCE_ADD_BAND_2', 'DATUM', 'REFLECTANCE_ADD_BAND_3', 'REFLECTANCE_ADD_BAND_4', 'REFLECTANCE_ADD_BAND_5', 'REFLECTANCE_ADD_BAND_6', 'REFLECTANCE_ADD_BAND_7', 'system:footprint', 'REFLECTIVE_SAMPLES', 'system:version', 'GROUND_CONTROL_POINTS_VERSION', 'SUN_AZIMUTH', 'DATA_SOURCE_TIRS_STRAY_LIGHT_CORRECTION', 'UTM_ZONE', 'DATE_ACQUIRED', 'ELLIPSOID', 'system:time_end', 'DATA_SOURCE_PRESSURE', 'LANDSAT_PRODUCT_ID', 'STATION_ID', 'TEMPERATURE_ADD_BAND_ST_B10', 'DATA_SOURCE_REANALYSIS', 'REFLECTANCE_MULT_BAND_7', 'system:time_start', 'REFLECTANCE_MULT_BAND_6', 'L1_PROCESSING_LEVEL', 'PROCESSING_SOFTWARE_VERSION', 'L1_DATE_PRODUCT_GENERATED', 'ORIENTATION', 'REFLECTANCE_MULT_BAND_1', 'WRS_ROW', 'REFLECTANCE_MULT_BAND_3', 'REFLECTANCE_MULT_BAND_2', 'TARGET_WRS_ROW', 'REFLECTANCE_MULT_BAND_5', 'REFLECTANCE_MULT_BAND_4', 'THERMAL_LINES', 'TIRS_SSM_POSITION_STATUS', 'GRID_CELL_SIZE_THERMAL', 'IMAGE_QUALITY_TIRS', 'TRUNCATION_OLI', 'NADIR_OFFNADIR', 'CLOUD_COVER', 'REQUEST_ID', 'EARTH_SUN_DISTANCE', 'GEOMETRIC_RMSE_VERIFY', 'TIRS_SSM_MODEL', 'COLLECTION_CATEGORY', 'SCENE_CENTER_TIME', 'GRID_CELL_SIZE_REFLECTIVE', 'SUN_ELEVATION', 'ALGORITHM_SOURCE_SURFACE_TEMPERATURE', 'TEMPERATURE_MAXIMUM_BAND_ST_B10', 'CLOUD_COVER_LAND', 'GEOMETRIC_RMSE_MODEL', 'ROLL_ANGLE', 'COLLECTION_NUMBER', 'DATE_PRODUCT_GENERATED', 'L1_REQUEST_ID', 'DATA_SOURCE_OZONE', 'SATURATION_BAND_1', 'DATA_SOURCE_WATER_VAPOR', 'SATURATION_BAND_2', 'SATURATION_BAND_3', 'IMAGE_QUALITY_OLI', 'SATURATION_BAND_4', 'LANDSAT_SCENE_ID', 'SATURATION_BAND_5', 'MAP_PROJECTION', 'SATURATION_BAND_6', 'SENSOR_ID', 'SATURATION_BAND_7', 'SATURATION_BAND_8', 'WRS_PATH', 'SATURATION_BAND_9', 'TARGET_WRS_PATH', 'L1_PROCESSING_SOFTWARE_VERSION', 'TEMPERATURE_MULT_BAND_ST_B10', 'L1_LANDSAT_PRODUCT_ID', 'PROCESSING_LEVEL', 'ALGORITHM_SOURCE_SURFACE_REFLECTANCE', 'GROUND_CONTROL_POINTS_MODEL', 'SPACECRAFT_ID', 'TEMPERATURE_MINIMUM_BAND_ST_B10', 'GEOMETRIC_RMSE_MODEL_Y', 'REFLECTIVE_LINES', 'GEOMETRIC_RMSE_MODEL_X', 'THERMAL_SAMPLES', 'system:asset_size', 'DATA_SOURCE_AIR_TEMPERATURE', 'GROUND_CONTROL_POINTS_VERIFY', 'system:index', 'system:bands', 'system:band_names']\n"
     ]
    }
   ],
   "source": [
    "# Get the property names of an image\n",
    "img_props = L8_image.propertyNames().getInfo()\n",
    "print(img_props)"
   ]
  },
  {
   "cell_type": "code",
   "execution_count": 33,
   "metadata": {
    "id": "aG1mCsgw_k9J"
   },
   "outputs": [
    {
     "data": {
      "text/html": [
       "\n",
       "            <style>\n",
       "                .geemap-dark {\n",
       "                    --jp-widgets-color: white;\n",
       "                    --jp-widgets-label-color: white;\n",
       "                    --jp-ui-font-color1: white;\n",
       "                    --jp-layout-color2: #454545;\n",
       "                    background-color: #383838;\n",
       "                }\n",
       "\n",
       "                .geemap-dark .jupyter-button {\n",
       "                    --jp-layout-color3: #383838;\n",
       "                }\n",
       "\n",
       "                .geemap-colab {\n",
       "                    background-color: var(--colab-primary-surface-color, white);\n",
       "                }\n",
       "\n",
       "                .geemap-colab .jupyter-button {\n",
       "                    --jp-layout-color3: var(--colab-primary-surface-color, white);\n",
       "                }\n",
       "            </style>\n",
       "            "
      ],
      "text/plain": [
       "<IPython.core.display.HTML object>"
      ]
     },
     "metadata": {},
     "output_type": "display_data"
    },
    {
     "name": "stdout",
     "output_type": "stream",
     "text": [
      "LC08_015028_20200611\n",
      "['SR_B1', 'SR_B2', 'SR_B3', 'SR_B4', 'SR_B5', 'SR_B6', 'SR_B7', 'SR_QA_AEROSOL', 'ST_B10', 'ST_ATRAN', 'ST_CDIST', 'ST_DRAD', 'ST_EMIS', 'ST_EMSD', 'ST_QA', 'ST_TRAD', 'ST_URAD', 'QA_PIXEL', 'QA_RADSAT']\n"
     ]
    }
   ],
   "source": [
    "# Get the image ID\n",
    "print(L8_image.id().getInfo())\n",
    "\n",
    "# Get the names of bands in the image\n",
    "print(L8_image.bandNames().getInfo())"
   ]
  },
  {
   "cell_type": "code",
   "execution_count": 34,
   "metadata": {
    "id": "7DXgA2Tw-2c_"
   },
   "outputs": [
    {
     "data": {
      "text/html": [
       "\n",
       "            <style>\n",
       "                .geemap-dark {\n",
       "                    --jp-widgets-color: white;\n",
       "                    --jp-widgets-label-color: white;\n",
       "                    --jp-ui-font-color1: white;\n",
       "                    --jp-layout-color2: #454545;\n",
       "                    background-color: #383838;\n",
       "                }\n",
       "\n",
       "                .geemap-dark .jupyter-button {\n",
       "                    --jp-layout-color3: #383838;\n",
       "                }\n",
       "\n",
       "                .geemap-colab {\n",
       "                    background-color: var(--colab-primary-surface-color, white);\n",
       "                }\n",
       "\n",
       "                .geemap-colab .jupyter-button {\n",
       "                    --jp-layout-color3: var(--colab-primary-surface-color, white);\n",
       "                }\n",
       "            </style>\n",
       "            "
      ],
      "text/plain": [
       "<IPython.core.display.HTML object>"
      ]
     },
     "metadata": {},
     "output_type": "display_data"
    },
    {
     "name": "stdout",
     "output_type": "stream",
     "text": [
      "['DATA_SOURCE_ELEVATION', 'WRS_TYPE', 'system:id', 'REFLECTANCE_ADD_BAND_1', 'REFLECTANCE_ADD_BAND_2', 'DATUM', 'REFLECTANCE_ADD_BAND_3', 'REFLECTANCE_ADD_BAND_4', 'REFLECTANCE_ADD_BAND_5', 'REFLECTANCE_ADD_BAND_6', 'REFLECTANCE_ADD_BAND_7', 'system:footprint', 'REFLECTIVE_SAMPLES', 'system:version', 'GROUND_CONTROL_POINTS_VERSION', 'SUN_AZIMUTH', 'DATA_SOURCE_TIRS_STRAY_LIGHT_CORRECTION', 'UTM_ZONE', 'DATE_ACQUIRED', 'ELLIPSOID', 'system:time_end', 'DATA_SOURCE_PRESSURE', 'LANDSAT_PRODUCT_ID', 'STATION_ID', 'TEMPERATURE_ADD_BAND_ST_B10', 'DATA_SOURCE_REANALYSIS', 'REFLECTANCE_MULT_BAND_7', 'system:time_start', 'REFLECTANCE_MULT_BAND_6', 'L1_PROCESSING_LEVEL', 'PROCESSING_SOFTWARE_VERSION', 'L1_DATE_PRODUCT_GENERATED', 'ORIENTATION', 'REFLECTANCE_MULT_BAND_1', 'WRS_ROW', 'REFLECTANCE_MULT_BAND_3', 'REFLECTANCE_MULT_BAND_2', 'TARGET_WRS_ROW', 'REFLECTANCE_MULT_BAND_5', 'REFLECTANCE_MULT_BAND_4', 'THERMAL_LINES', 'TIRS_SSM_POSITION_STATUS', 'GRID_CELL_SIZE_THERMAL', 'IMAGE_QUALITY_TIRS', 'TRUNCATION_OLI', 'NADIR_OFFNADIR', 'CLOUD_COVER', 'REQUEST_ID', 'EARTH_SUN_DISTANCE', 'GEOMETRIC_RMSE_VERIFY', 'TIRS_SSM_MODEL', 'COLLECTION_CATEGORY', 'SCENE_CENTER_TIME', 'GRID_CELL_SIZE_REFLECTIVE', 'SUN_ELEVATION', 'ALGORITHM_SOURCE_SURFACE_TEMPERATURE', 'TEMPERATURE_MAXIMUM_BAND_ST_B10', 'CLOUD_COVER_LAND', 'GEOMETRIC_RMSE_MODEL', 'ROLL_ANGLE', 'COLLECTION_NUMBER', 'DATE_PRODUCT_GENERATED', 'L1_REQUEST_ID', 'DATA_SOURCE_OZONE', 'SATURATION_BAND_1', 'DATA_SOURCE_WATER_VAPOR', 'SATURATION_BAND_2', 'SATURATION_BAND_3', 'IMAGE_QUALITY_OLI', 'SATURATION_BAND_4', 'LANDSAT_SCENE_ID', 'SATURATION_BAND_5', 'MAP_PROJECTION', 'SATURATION_BAND_6', 'SENSOR_ID', 'SATURATION_BAND_7', 'SATURATION_BAND_8', 'WRS_PATH', 'SATURATION_BAND_9', 'TARGET_WRS_PATH', 'L1_PROCESSING_SOFTWARE_VERSION', 'TEMPERATURE_MULT_BAND_ST_B10', 'L1_LANDSAT_PRODUCT_ID', 'PROCESSING_LEVEL', 'ALGORITHM_SOURCE_SURFACE_REFLECTANCE', 'GROUND_CONTROL_POINTS_MODEL', 'SPACECRAFT_ID', 'TEMPERATURE_MINIMUM_BAND_ST_B10', 'GEOMETRIC_RMSE_MODEL_Y', 'REFLECTIVE_LINES', 'GEOMETRIC_RMSE_MODEL_X', 'THERMAL_SAMPLES', 'system:asset_size', 'DATA_SOURCE_AIR_TEMPERATURE', 'GROUND_CONTROL_POINTS_VERIFY', 'system:index', 'system:bands', 'system:band_names']\n"
     ]
    }
   ],
   "source": [
    "# Get the property names of an image\n",
    "print(L8_image.propertyNames().getInfo())"
   ]
  },
  {
   "cell_type": "code",
   "execution_count": 35,
   "metadata": {
    "id": "O7lkKodRAiBu"
   },
   "outputs": [
    {
     "data": {
      "text/html": [
       "\n",
       "            <style>\n",
       "                .geemap-dark {\n",
       "                    --jp-widgets-color: white;\n",
       "                    --jp-widgets-label-color: white;\n",
       "                    --jp-ui-font-color1: white;\n",
       "                    --jp-layout-color2: #454545;\n",
       "                    background-color: #383838;\n",
       "                }\n",
       "\n",
       "                .geemap-dark .jupyter-button {\n",
       "                    --jp-layout-color3: #383838;\n",
       "                }\n",
       "\n",
       "                .geemap-colab {\n",
       "                    background-color: var(--colab-primary-surface-color, white);\n",
       "                }\n",
       "\n",
       "                .geemap-colab .jupyter-button {\n",
       "                    --jp-layout-color3: var(--colab-primary-surface-color, white);\n",
       "                }\n",
       "            </style>\n",
       "            "
      ],
      "text/plain": [
       "<IPython.core.display.HTML object>"
      ]
     },
     "metadata": {},
     "output_type": "display_data"
    },
    {
     "name": "stdout",
     "output_type": "stream",
     "text": [
      "74.56\n"
     ]
    }
   ],
   "source": [
    "# Get a particular property of the image by property name\n",
    "print(L8_image.get('CLOUD_COVER').getInfo())"
   ]
  },
  {
   "cell_type": "markdown",
   "metadata": {
    "id": "2SVHMSeN-ey7"
   },
   "source": [
    "We can also use a handy function from the `geemap` library that allows us to print out all of the properties of an image"
   ]
  },
  {
   "cell_type": "code",
   "execution_count": 36,
   "metadata": {
    "id": "G8SiBq5V-lhH",
    "scrolled": true
   },
   "outputs": [
    {
     "data": {
      "text/html": [
       "\n",
       "            <style>\n",
       "                .geemap-dark {\n",
       "                    --jp-widgets-color: white;\n",
       "                    --jp-widgets-label-color: white;\n",
       "                    --jp-ui-font-color1: white;\n",
       "                    --jp-layout-color2: #454545;\n",
       "                    background-color: #383838;\n",
       "                }\n",
       "\n",
       "                .geemap-dark .jupyter-button {\n",
       "                    --jp-layout-color3: #383838;\n",
       "                }\n",
       "\n",
       "                .geemap-colab {\n",
       "                    background-color: var(--colab-primary-surface-color, white);\n",
       "                }\n",
       "\n",
       "                .geemap-colab .jupyter-button {\n",
       "                    --jp-layout-color3: var(--colab-primary-surface-color, white);\n",
       "                }\n",
       "            </style>\n",
       "            "
      ],
      "text/plain": [
       "<IPython.core.display.HTML object>"
      ]
     },
     "metadata": {},
     "output_type": "display_data"
    },
    {
     "data": {
      "text/plain": [
       "{'ALGORITHM_SOURCE_SURFACE_REFLECTANCE': 'LaSRC_1.5.0',\n",
       " 'ALGORITHM_SOURCE_SURFACE_TEMPERATURE': 'st_1.3.0',\n",
       " 'CLOUD_COVER': 74.56,\n",
       " 'CLOUD_COVER_LAND': 75.23,\n",
       " 'COLLECTION_CATEGORY': 'T1',\n",
       " 'COLLECTION_NUMBER': 2,\n",
       " 'DATA_SOURCE_AIR_TEMPERATURE': 'MODIS',\n",
       " 'DATA_SOURCE_ELEVATION': 'GLS2000',\n",
       " 'DATA_SOURCE_OZONE': 'MODIS',\n",
       " 'DATA_SOURCE_PRESSURE': 'Calculated',\n",
       " 'DATA_SOURCE_REANALYSIS': 'GEOS-5 FP-IT',\n",
       " 'DATA_SOURCE_TIRS_STRAY_LIGHT_CORRECTION': 'TIRS',\n",
       " 'DATA_SOURCE_WATER_VAPOR': 'MODIS',\n",
       " 'DATE_ACQUIRED': '2020-06-11',\n",
       " 'DATE_PRODUCT_GENERATED': 1598304184000,\n",
       " 'DATUM': 'WGS84',\n",
       " 'EARTH_SUN_DISTANCE': 1.0154524,\n",
       " 'ELLIPSOID': 'WGS84',\n",
       " 'GEOMETRIC_RMSE_MODEL': 7.274,\n",
       " 'GEOMETRIC_RMSE_MODEL_X': 5.14,\n",
       " 'GEOMETRIC_RMSE_MODEL_Y': 5.147,\n",
       " 'GEOMETRIC_RMSE_VERIFY': 5.9,\n",
       " 'GRID_CELL_SIZE_REFLECTIVE': 30,\n",
       " 'GRID_CELL_SIZE_THERMAL': 30,\n",
       " 'GROUND_CONTROL_POINTS_MODEL': 169,\n",
       " 'GROUND_CONTROL_POINTS_VERIFY': 56,\n",
       " 'GROUND_CONTROL_POINTS_VERSION': 5,\n",
       " 'IMAGE_DATE': '2020-06-11',\n",
       " 'IMAGE_QUALITY_OLI': 9,\n",
       " 'IMAGE_QUALITY_TIRS': 9,\n",
       " 'L1_DATE_PRODUCT_GENERATED': '2020-08-24T21:13:28Z',\n",
       " 'L1_LANDSAT_PRODUCT_ID': 'LC08_L1TP_015028_20200611_20200824_02_T1',\n",
       " 'L1_PROCESSING_LEVEL': 'L1TP',\n",
       " 'L1_PROCESSING_SOFTWARE_VERSION': 'LPGS_15.3.1c',\n",
       " 'L1_REQUEST_ID': 'L2',\n",
       " 'LANDSAT_PRODUCT_ID': 'LC08_L2SP_015028_20200611_20200824_02_T1',\n",
       " 'LANDSAT_SCENE_ID': 'LC80150282020163LGN00',\n",
       " 'MAP_PROJECTION': 'UTM',\n",
       " 'NADIR_OFFNADIR': 'NADIR',\n",
       " 'NOMINAL_SCALE': 30,\n",
       " 'ORIENTATION': 'NORTH_UP',\n",
       " 'PROCESSING_LEVEL': 'L2SP',\n",
       " 'PROCESSING_SOFTWARE_VERSION': 'LPGS_15.3.1c',\n",
       " 'REFLECTANCE_ADD_BAND_1': -0.2,\n",
       " 'REFLECTANCE_ADD_BAND_2': -0.2,\n",
       " 'REFLECTANCE_ADD_BAND_3': -0.2,\n",
       " 'REFLECTANCE_ADD_BAND_4': -0.2,\n",
       " 'REFLECTANCE_ADD_BAND_5': -0.2,\n",
       " 'REFLECTANCE_ADD_BAND_6': -0.2,\n",
       " 'REFLECTANCE_ADD_BAND_7': -0.2,\n",
       " 'REFLECTANCE_MULT_BAND_1': 2.75e-05,\n",
       " 'REFLECTANCE_MULT_BAND_2': 2.75e-05,\n",
       " 'REFLECTANCE_MULT_BAND_3': 2.75e-05,\n",
       " 'REFLECTANCE_MULT_BAND_4': 2.75e-05,\n",
       " 'REFLECTANCE_MULT_BAND_5': 2.75e-05,\n",
       " 'REFLECTANCE_MULT_BAND_6': 2.75e-05,\n",
       " 'REFLECTANCE_MULT_BAND_7': 2.75e-05,\n",
       " 'REFLECTIVE_LINES': 7901,\n",
       " 'REFLECTIVE_SAMPLES': 7791,\n",
       " 'REQUEST_ID': 'L2',\n",
       " 'ROLL_ANGLE': -0.001,\n",
       " 'SATURATION_BAND_1': 'Y',\n",
       " 'SATURATION_BAND_2': 'Y',\n",
       " 'SATURATION_BAND_3': 'Y',\n",
       " 'SATURATION_BAND_4': 'Y',\n",
       " 'SATURATION_BAND_5': 'Y',\n",
       " 'SATURATION_BAND_6': 'Y',\n",
       " 'SATURATION_BAND_7': 'Y',\n",
       " 'SATURATION_BAND_8': 'N',\n",
       " 'SATURATION_BAND_9': 'N',\n",
       " 'SCENE_CENTER_TIME': '15:44:04.2684020Z',\n",
       " 'SENSOR_ID': 'OLI_TIRS',\n",
       " 'SPACECRAFT_ID': 'LANDSAT_8',\n",
       " 'STATION_ID': 'LGN',\n",
       " 'SUN_AZIMUTH': 140.76919224,\n",
       " 'SUN_ELEVATION': 62.70828188,\n",
       " 'TARGET_WRS_PATH': 15,\n",
       " 'TARGET_WRS_ROW': 28,\n",
       " 'TEMPERATURE_ADD_BAND_ST_B10': 149,\n",
       " 'TEMPERATURE_MAXIMUM_BAND_ST_B10': 372.999941,\n",
       " 'TEMPERATURE_MINIMUM_BAND_ST_B10': 149.003418,\n",
       " 'TEMPERATURE_MULT_BAND_ST_B10': 0.00341802,\n",
       " 'THERMAL_LINES': 7901,\n",
       " 'THERMAL_SAMPLES': 7791,\n",
       " 'TIRS_SSM_MODEL': 'FINAL',\n",
       " 'TIRS_SSM_POSITION_STATUS': 'ESTIMATED',\n",
       " 'TRUNCATION_OLI': 'UPPER',\n",
       " 'UTM_ZONE': 18,\n",
       " 'WRS_PATH': 15,\n",
       " 'WRS_ROW': 28,\n",
       " 'WRS_TYPE': 2,\n",
       " 'system:asset_size': '1072.07481 MB',\n",
       " 'system:band_names': ['SR_B1',\n",
       "  'SR_B2',\n",
       "  'SR_B3',\n",
       "  'SR_B4',\n",
       "  'SR_B5',\n",
       "  'SR_B6',\n",
       "  'SR_B7',\n",
       "  'SR_QA_AEROSOL',\n",
       "  'ST_B10',\n",
       "  'ST_ATRAN',\n",
       "  'ST_CDIST',\n",
       "  'ST_DRAD',\n",
       "  'ST_EMIS',\n",
       "  'ST_EMSD',\n",
       "  'ST_QA',\n",
       "  'ST_TRAD',\n",
       "  'ST_URAD',\n",
       "  'QA_PIXEL',\n",
       "  'QA_RADSAT'],\n",
       " 'system:id': 'LANDSAT/LC08/C02/T1_L2/LC08_015028_20200611',\n",
       " 'system:index': 'LC08_015028_20200611',\n",
       " 'system:time_end': '2020-06-11 15:44:04',\n",
       " 'system:time_start': '2020-06-11 15:44:04',\n",
       " 'system:version': 1629863144185982}"
      ]
     },
     "execution_count": 36,
     "metadata": {},
     "output_type": "execute_result"
    }
   ],
   "source": [
    "# Explore all of the properties of the image\n",
    "imageprops = geemap.image_props(L8_image)\n",
    "imageprops.getInfo()"
   ]
  },
  {
   "cell_type": "markdown",
   "metadata": {
    "id": "PqD6v413RFHe"
   },
   "source": [
    "#### Image Collection\n",
    "\n",
    "An image collection is a grouping, or stack, of images. Image collections can be sorted, filtered, and reduced (i.e. summarized)."
   ]
  },
  {
   "cell_type": "code",
   "execution_count": 40,
   "metadata": {
    "id": "ZG_sMU9zenKk"
   },
   "outputs": [
    {
     "data": {
      "text/html": [
       "\n",
       "            <style>\n",
       "                .geemap-dark {\n",
       "                    --jp-widgets-color: white;\n",
       "                    --jp-widgets-label-color: white;\n",
       "                    --jp-ui-font-color1: white;\n",
       "                    --jp-layout-color2: #454545;\n",
       "                    background-color: #383838;\n",
       "                }\n",
       "\n",
       "                .geemap-dark .jupyter-button {\n",
       "                    --jp-layout-color3: #383838;\n",
       "                }\n",
       "\n",
       "                .geemap-colab {\n",
       "                    background-color: var(--colab-primary-surface-color, white);\n",
       "                }\n",
       "\n",
       "                .geemap-colab .jupyter-button {\n",
       "                    --jp-layout-color3: var(--colab-primary-surface-color, white);\n",
       "                }\n",
       "            </style>\n",
       "            "
      ],
      "text/plain": [
       "<IPython.core.display.HTML object>"
      ]
     },
     "metadata": {},
     "output_type": "display_data"
    }
   ],
   "source": [
    "# Assign your image collection of choice to a variable\n",
    "# The GEE data catalog provides the string used to code for each dataset\n",
    "# For landsat 8, the string is \"LANDSAT/LC08/C01/T1_SR\"\n",
    "L8_SR = ee.ImageCollection(\"LANDSAT/LC08/C02/T1_L2\")\n",
    "\n",
    "# Similarly, to import the Landsat 7 top of atmosphere collection, we use:\n",
    "L7_TOA = ee.ImageCollection(\"LANDSAT/LC08/C02/T1_TOA\")"
   ]
  },
  {
   "cell_type": "markdown",
   "metadata": {
    "id": "-_87zlkwh2HQ"
   },
   "source": [
    "This `L8_SR` variable corresponds to the entire Landsat 8 Surface Reflectance Tier 1 collection. Let's get an idea of how many images that is (warning: this may take a while to run)"
   ]
  },
  {
   "cell_type": "code",
   "execution_count": 39,
   "metadata": {
    "id": "Js65iLdQiVTh",
    "scrolled": true
   },
   "outputs": [
    {
     "data": {
      "text/html": [
       "\n",
       "            <style>\n",
       "                .geemap-dark {\n",
       "                    --jp-widgets-color: white;\n",
       "                    --jp-widgets-label-color: white;\n",
       "                    --jp-ui-font-color1: white;\n",
       "                    --jp-layout-color2: #454545;\n",
       "                    background-color: #383838;\n",
       "                }\n",
       "\n",
       "                .geemap-dark .jupyter-button {\n",
       "                    --jp-layout-color3: #383838;\n",
       "                }\n",
       "\n",
       "                .geemap-colab {\n",
       "                    background-color: var(--colab-primary-surface-color, white);\n",
       "                }\n",
       "\n",
       "                .geemap-colab .jupyter-button {\n",
       "                    --jp-layout-color3: var(--colab-primary-surface-color, white);\n",
       "                }\n",
       "            </style>\n",
       "            "
      ],
      "text/plain": [
       "<IPython.core.display.HTML object>"
      ]
     },
     "metadata": {},
     "output_type": "display_data"
    },
    {
     "ename": "KeyboardInterrupt",
     "evalue": "",
     "output_type": "error",
     "traceback": [
      "\u001b[1;31m---------------------------------------------------------------------------\u001b[0m",
      "\u001b[1;31mKeyboardInterrupt\u001b[0m                         Traceback (most recent call last)",
      "Cell \u001b[1;32mIn[39], line 1\u001b[0m\n\u001b[1;32m----> 1\u001b[0m \u001b[38;5;28mprint\u001b[39m(\u001b[43mL8_SR\u001b[49m\u001b[38;5;241;43m.\u001b[39;49m\u001b[43msize\u001b[49m\u001b[43m(\u001b[49m\u001b[43m)\u001b[49m\u001b[38;5;241;43m.\u001b[39;49m\u001b[43mgetInfo\u001b[49m\u001b[43m(\u001b[49m\u001b[43m)\u001b[49m)\n",
      "File \u001b[1;32m~\\anaconda3\\envs\\ee\\Lib\\site-packages\\ee\\computedobject.py:107\u001b[0m, in \u001b[0;36mComputedObject.getInfo\u001b[1;34m(self)\u001b[0m\n\u001b[0;32m    101\u001b[0m \u001b[38;5;28;01mdef\u001b[39;00m \u001b[38;5;21mgetInfo\u001b[39m(\u001b[38;5;28mself\u001b[39m) \u001b[38;5;241m-\u001b[39m\u001b[38;5;241m>\u001b[39m Optional[Any]:\n\u001b[0;32m    102\u001b[0m \u001b[38;5;250m  \u001b[39m\u001b[38;5;124;03m\"\"\"Fetch and return information about this object.\u001b[39;00m\n\u001b[0;32m    103\u001b[0m \n\u001b[0;32m    104\u001b[0m \u001b[38;5;124;03m  Returns:\u001b[39;00m\n\u001b[0;32m    105\u001b[0m \u001b[38;5;124;03m    The object can evaluate to anything.\u001b[39;00m\n\u001b[0;32m    106\u001b[0m \u001b[38;5;124;03m  \"\"\"\u001b[39;00m\n\u001b[1;32m--> 107\u001b[0m   \u001b[38;5;28;01mreturn\u001b[39;00m \u001b[43mdata\u001b[49m\u001b[38;5;241;43m.\u001b[39;49m\u001b[43mcomputeValue\u001b[49m\u001b[43m(\u001b[49m\u001b[38;5;28;43mself\u001b[39;49m\u001b[43m)\u001b[49m\n",
      "File \u001b[1;32m~\\anaconda3\\envs\\ee\\Lib\\site-packages\\ee\\data.py:1126\u001b[0m, in \u001b[0;36mcomputeValue\u001b[1;34m(obj)\u001b[0m\n\u001b[0;32m   1123\u001b[0m body \u001b[38;5;241m=\u001b[39m {\u001b[38;5;124m'\u001b[39m\u001b[38;5;124mexpression\u001b[39m\u001b[38;5;124m'\u001b[39m: serializer\u001b[38;5;241m.\u001b[39mencode(obj, for_cloud_api\u001b[38;5;241m=\u001b[39m\u001b[38;5;28;01mTrue\u001b[39;00m)}\n\u001b[0;32m   1124\u001b[0m _maybe_populate_workload_tag(body)\n\u001b[1;32m-> 1126\u001b[0m \u001b[38;5;28;01mreturn\u001b[39;00m \u001b[43m_execute_cloud_call\u001b[49m\u001b[43m(\u001b[49m\n\u001b[0;32m   1127\u001b[0m \u001b[43m    \u001b[49m\u001b[43m_get_cloud_projects\u001b[49m\u001b[43m(\u001b[49m\u001b[43m)\u001b[49m\n\u001b[0;32m   1128\u001b[0m \u001b[43m    \u001b[49m\u001b[38;5;241;43m.\u001b[39;49m\u001b[43mvalue\u001b[49m\u001b[43m(\u001b[49m\u001b[43m)\u001b[49m\n\u001b[0;32m   1129\u001b[0m \u001b[43m    \u001b[49m\u001b[38;5;241;43m.\u001b[39;49m\u001b[43mcompute\u001b[49m\u001b[43m(\u001b[49m\u001b[43mbody\u001b[49m\u001b[38;5;241;43m=\u001b[39;49m\u001b[43mbody\u001b[49m\u001b[43m,\u001b[49m\u001b[43m \u001b[49m\u001b[43mproject\u001b[49m\u001b[38;5;241;43m=\u001b[39;49m\u001b[43m_get_projects_path\u001b[49m\u001b[43m(\u001b[49m\u001b[43m)\u001b[49m\u001b[43m,\u001b[49m\u001b[43m \u001b[49m\u001b[43mprettyPrint\u001b[49m\u001b[38;5;241;43m=\u001b[39;49m\u001b[38;5;28;43;01mFalse\u001b[39;49;00m\u001b[43m)\u001b[49m\n\u001b[0;32m   1130\u001b[0m \u001b[43m\u001b[49m\u001b[43m)\u001b[49m[\u001b[38;5;124m'\u001b[39m\u001b[38;5;124mresult\u001b[39m\u001b[38;5;124m'\u001b[39m]\n",
      "File \u001b[1;32m~\\anaconda3\\envs\\ee\\Lib\\site-packages\\ee\\data.py:406\u001b[0m, in \u001b[0;36m_execute_cloud_call\u001b[1;34m(call, num_retries)\u001b[0m\n\u001b[0;32m    404\u001b[0m num_retries \u001b[38;5;241m=\u001b[39m _max_retries \u001b[38;5;28;01mif\u001b[39;00m num_retries \u001b[38;5;129;01mis\u001b[39;00m \u001b[38;5;28;01mNone\u001b[39;00m \u001b[38;5;28;01melse\u001b[39;00m num_retries\n\u001b[0;32m    405\u001b[0m \u001b[38;5;28;01mtry\u001b[39;00m:\n\u001b[1;32m--> 406\u001b[0m   \u001b[38;5;28;01mreturn\u001b[39;00m \u001b[43mcall\u001b[49m\u001b[38;5;241;43m.\u001b[39;49m\u001b[43mexecute\u001b[49m\u001b[43m(\u001b[49m\u001b[43mnum_retries\u001b[49m\u001b[38;5;241;43m=\u001b[39;49m\u001b[43mnum_retries\u001b[49m\u001b[43m)\u001b[49m\n\u001b[0;32m    407\u001b[0m \u001b[38;5;28;01mexcept\u001b[39;00m googleapiclient\u001b[38;5;241m.\u001b[39merrors\u001b[38;5;241m.\u001b[39mHttpError \u001b[38;5;28;01mas\u001b[39;00m e:\n\u001b[0;32m    408\u001b[0m   \u001b[38;5;28;01mraise\u001b[39;00m _translate_cloud_exception(e)\n",
      "File \u001b[1;32m~\\anaconda3\\envs\\ee\\Lib\\site-packages\\googleapiclient\\_helpers.py:130\u001b[0m, in \u001b[0;36mpositional.<locals>.positional_decorator.<locals>.positional_wrapper\u001b[1;34m(*args, **kwargs)\u001b[0m\n\u001b[0;32m    128\u001b[0m     \u001b[38;5;28;01melif\u001b[39;00m positional_parameters_enforcement \u001b[38;5;241m==\u001b[39m POSITIONAL_WARNING:\n\u001b[0;32m    129\u001b[0m         logger\u001b[38;5;241m.\u001b[39mwarning(message)\n\u001b[1;32m--> 130\u001b[0m \u001b[38;5;28;01mreturn\u001b[39;00m \u001b[43mwrapped\u001b[49m\u001b[43m(\u001b[49m\u001b[38;5;241;43m*\u001b[39;49m\u001b[43margs\u001b[49m\u001b[43m,\u001b[49m\u001b[43m \u001b[49m\u001b[38;5;241;43m*\u001b[39;49m\u001b[38;5;241;43m*\u001b[39;49m\u001b[43mkwargs\u001b[49m\u001b[43m)\u001b[49m\n",
      "File \u001b[1;32m~\\anaconda3\\envs\\ee\\Lib\\site-packages\\googleapiclient\\http.py:923\u001b[0m, in \u001b[0;36mHttpRequest.execute\u001b[1;34m(self, http, num_retries)\u001b[0m\n\u001b[0;32m    920\u001b[0m     \u001b[38;5;28mself\u001b[39m\u001b[38;5;241m.\u001b[39mheaders[\u001b[38;5;124m\"\u001b[39m\u001b[38;5;124mcontent-length\u001b[39m\u001b[38;5;124m\"\u001b[39m] \u001b[38;5;241m=\u001b[39m \u001b[38;5;28mstr\u001b[39m(\u001b[38;5;28mlen\u001b[39m(\u001b[38;5;28mself\u001b[39m\u001b[38;5;241m.\u001b[39mbody))\n\u001b[0;32m    922\u001b[0m \u001b[38;5;66;03m# Handle retries for server-side errors.\u001b[39;00m\n\u001b[1;32m--> 923\u001b[0m resp, content \u001b[38;5;241m=\u001b[39m \u001b[43m_retry_request\u001b[49m\u001b[43m(\u001b[49m\n\u001b[0;32m    924\u001b[0m \u001b[43m    \u001b[49m\u001b[43mhttp\u001b[49m\u001b[43m,\u001b[49m\n\u001b[0;32m    925\u001b[0m \u001b[43m    \u001b[49m\u001b[43mnum_retries\u001b[49m\u001b[43m,\u001b[49m\n\u001b[0;32m    926\u001b[0m \u001b[43m    \u001b[49m\u001b[38;5;124;43m\"\u001b[39;49m\u001b[38;5;124;43mrequest\u001b[39;49m\u001b[38;5;124;43m\"\u001b[39;49m\u001b[43m,\u001b[49m\n\u001b[0;32m    927\u001b[0m \u001b[43m    \u001b[49m\u001b[38;5;28;43mself\u001b[39;49m\u001b[38;5;241;43m.\u001b[39;49m\u001b[43m_sleep\u001b[49m\u001b[43m,\u001b[49m\n\u001b[0;32m    928\u001b[0m \u001b[43m    \u001b[49m\u001b[38;5;28;43mself\u001b[39;49m\u001b[38;5;241;43m.\u001b[39;49m\u001b[43m_rand\u001b[49m\u001b[43m,\u001b[49m\n\u001b[0;32m    929\u001b[0m \u001b[43m    \u001b[49m\u001b[38;5;28;43mstr\u001b[39;49m\u001b[43m(\u001b[49m\u001b[38;5;28;43mself\u001b[39;49m\u001b[38;5;241;43m.\u001b[39;49m\u001b[43muri\u001b[49m\u001b[43m)\u001b[49m\u001b[43m,\u001b[49m\n\u001b[0;32m    930\u001b[0m \u001b[43m    \u001b[49m\u001b[43mmethod\u001b[49m\u001b[38;5;241;43m=\u001b[39;49m\u001b[38;5;28;43mstr\u001b[39;49m\u001b[43m(\u001b[49m\u001b[38;5;28;43mself\u001b[39;49m\u001b[38;5;241;43m.\u001b[39;49m\u001b[43mmethod\u001b[49m\u001b[43m)\u001b[49m\u001b[43m,\u001b[49m\n\u001b[0;32m    931\u001b[0m \u001b[43m    \u001b[49m\u001b[43mbody\u001b[49m\u001b[38;5;241;43m=\u001b[39;49m\u001b[38;5;28;43mself\u001b[39;49m\u001b[38;5;241;43m.\u001b[39;49m\u001b[43mbody\u001b[49m\u001b[43m,\u001b[49m\n\u001b[0;32m    932\u001b[0m \u001b[43m    \u001b[49m\u001b[43mheaders\u001b[49m\u001b[38;5;241;43m=\u001b[39;49m\u001b[38;5;28;43mself\u001b[39;49m\u001b[38;5;241;43m.\u001b[39;49m\u001b[43mheaders\u001b[49m\u001b[43m,\u001b[49m\n\u001b[0;32m    933\u001b[0m \u001b[43m\u001b[49m\u001b[43m)\u001b[49m\n\u001b[0;32m    935\u001b[0m \u001b[38;5;28;01mfor\u001b[39;00m callback \u001b[38;5;129;01min\u001b[39;00m \u001b[38;5;28mself\u001b[39m\u001b[38;5;241m.\u001b[39mresponse_callbacks:\n\u001b[0;32m    936\u001b[0m     callback(resp)\n",
      "File \u001b[1;32m~\\anaconda3\\envs\\ee\\Lib\\site-packages\\googleapiclient\\http.py:191\u001b[0m, in \u001b[0;36m_retry_request\u001b[1;34m(http, num_retries, req_type, sleep, rand, uri, method, *args, **kwargs)\u001b[0m\n\u001b[0;32m    189\u001b[0m \u001b[38;5;28;01mtry\u001b[39;00m:\n\u001b[0;32m    190\u001b[0m     exception \u001b[38;5;241m=\u001b[39m \u001b[38;5;28;01mNone\u001b[39;00m\n\u001b[1;32m--> 191\u001b[0m     resp, content \u001b[38;5;241m=\u001b[39m \u001b[43mhttp\u001b[49m\u001b[38;5;241;43m.\u001b[39;49m\u001b[43mrequest\u001b[49m\u001b[43m(\u001b[49m\u001b[43muri\u001b[49m\u001b[43m,\u001b[49m\u001b[43m \u001b[49m\u001b[43mmethod\u001b[49m\u001b[43m,\u001b[49m\u001b[43m \u001b[49m\u001b[38;5;241;43m*\u001b[39;49m\u001b[43margs\u001b[49m\u001b[43m,\u001b[49m\u001b[43m \u001b[49m\u001b[38;5;241;43m*\u001b[39;49m\u001b[38;5;241;43m*\u001b[39;49m\u001b[43mkwargs\u001b[49m\u001b[43m)\u001b[49m\n\u001b[0;32m    192\u001b[0m \u001b[38;5;66;03m# Retry on SSL errors and socket timeout errors.\u001b[39;00m\n\u001b[0;32m    193\u001b[0m \u001b[38;5;28;01mexcept\u001b[39;00m _ssl_SSLError \u001b[38;5;28;01mas\u001b[39;00m ssl_error:\n",
      "File \u001b[1;32m~\\anaconda3\\envs\\ee\\Lib\\site-packages\\google_auth_httplib2.py:218\u001b[0m, in \u001b[0;36mAuthorizedHttp.request\u001b[1;34m(self, uri, method, body, headers, redirections, connection_type, **kwargs)\u001b[0m\n\u001b[0;32m    215\u001b[0m     body_stream_position \u001b[38;5;241m=\u001b[39m body\u001b[38;5;241m.\u001b[39mtell()\n\u001b[0;32m    217\u001b[0m \u001b[38;5;66;03m# Make the request.\u001b[39;00m\n\u001b[1;32m--> 218\u001b[0m response, content \u001b[38;5;241m=\u001b[39m \u001b[38;5;28;43mself\u001b[39;49m\u001b[38;5;241;43m.\u001b[39;49m\u001b[43mhttp\u001b[49m\u001b[38;5;241;43m.\u001b[39;49m\u001b[43mrequest\u001b[49m\u001b[43m(\u001b[49m\n\u001b[0;32m    219\u001b[0m \u001b[43m    \u001b[49m\u001b[43muri\u001b[49m\u001b[43m,\u001b[49m\n\u001b[0;32m    220\u001b[0m \u001b[43m    \u001b[49m\u001b[43mmethod\u001b[49m\u001b[43m,\u001b[49m\n\u001b[0;32m    221\u001b[0m \u001b[43m    \u001b[49m\u001b[43mbody\u001b[49m\u001b[38;5;241;43m=\u001b[39;49m\u001b[43mbody\u001b[49m\u001b[43m,\u001b[49m\n\u001b[0;32m    222\u001b[0m \u001b[43m    \u001b[49m\u001b[43mheaders\u001b[49m\u001b[38;5;241;43m=\u001b[39;49m\u001b[43mrequest_headers\u001b[49m\u001b[43m,\u001b[49m\n\u001b[0;32m    223\u001b[0m \u001b[43m    \u001b[49m\u001b[43mredirections\u001b[49m\u001b[38;5;241;43m=\u001b[39;49m\u001b[43mredirections\u001b[49m\u001b[43m,\u001b[49m\n\u001b[0;32m    224\u001b[0m \u001b[43m    \u001b[49m\u001b[43mconnection_type\u001b[49m\u001b[38;5;241;43m=\u001b[39;49m\u001b[43mconnection_type\u001b[49m\u001b[43m,\u001b[49m\n\u001b[0;32m    225\u001b[0m \u001b[43m    \u001b[49m\u001b[38;5;241;43m*\u001b[39;49m\u001b[38;5;241;43m*\u001b[39;49m\u001b[43mkwargs\u001b[49m\n\u001b[0;32m    226\u001b[0m \u001b[43m\u001b[49m\u001b[43m)\u001b[49m\n\u001b[0;32m    228\u001b[0m \u001b[38;5;66;03m# If the response indicated that the credentials needed to be\u001b[39;00m\n\u001b[0;32m    229\u001b[0m \u001b[38;5;66;03m# refreshed, then refresh the credentials and re-attempt the\u001b[39;00m\n\u001b[0;32m    230\u001b[0m \u001b[38;5;66;03m# request.\u001b[39;00m\n\u001b[0;32m    231\u001b[0m \u001b[38;5;66;03m# A stored token may expire between the time it is retrieved and\u001b[39;00m\n\u001b[0;32m    232\u001b[0m \u001b[38;5;66;03m# the time the request is made, so we may need to try twice.\u001b[39;00m\n\u001b[0;32m    233\u001b[0m \u001b[38;5;28;01mif\u001b[39;00m (\n\u001b[0;32m    234\u001b[0m     response\u001b[38;5;241m.\u001b[39mstatus \u001b[38;5;129;01min\u001b[39;00m \u001b[38;5;28mself\u001b[39m\u001b[38;5;241m.\u001b[39m_refresh_status_codes\n\u001b[0;32m    235\u001b[0m     \u001b[38;5;129;01mand\u001b[39;00m _credential_refresh_attempt \u001b[38;5;241m<\u001b[39m \u001b[38;5;28mself\u001b[39m\u001b[38;5;241m.\u001b[39m_max_refresh_attempts\n\u001b[0;32m    236\u001b[0m ):\n",
      "File \u001b[1;32m~\\anaconda3\\envs\\ee\\Lib\\site-packages\\ee\\_cloud_api_utils.py:70\u001b[0m, in \u001b[0;36m_Http.request\u001b[1;34m(***failed resolving arguments***)\u001b[0m\n\u001b[0;32m     63\u001b[0m \u001b[38;5;28;01mdel\u001b[39;00m redirections  \u001b[38;5;66;03m# Ignored\u001b[39;00m\n\u001b[0;32m     65\u001b[0m \u001b[38;5;28;01mtry\u001b[39;00m:\n\u001b[0;32m     66\u001b[0m   \u001b[38;5;66;03m# googleapiclient is expecting an httplib2 object, and doesn't include\u001b[39;00m\n\u001b[0;32m     67\u001b[0m   \u001b[38;5;66;03m# requests error in the list of transient errors. Therefore, transient\u001b[39;00m\n\u001b[0;32m     68\u001b[0m   \u001b[38;5;66;03m# requests errors should be converted to kinds that googleapiclient\u001b[39;00m\n\u001b[0;32m     69\u001b[0m   \u001b[38;5;66;03m# consider transient.\u001b[39;00m\n\u001b[1;32m---> 70\u001b[0m   response \u001b[38;5;241m=\u001b[39m \u001b[38;5;28;43mself\u001b[39;49m\u001b[38;5;241;43m.\u001b[39;49m\u001b[43m_session\u001b[49m\u001b[38;5;241;43m.\u001b[39;49m\u001b[43mrequest\u001b[49m\u001b[43m(\u001b[49m\n\u001b[0;32m     71\u001b[0m \u001b[43m      \u001b[49m\u001b[43mmethod\u001b[49m\u001b[43m,\u001b[49m\u001b[43m \u001b[49m\u001b[43muri\u001b[49m\u001b[43m,\u001b[49m\u001b[43m \u001b[49m\u001b[43mdata\u001b[49m\u001b[38;5;241;43m=\u001b[39;49m\u001b[43mbody\u001b[49m\u001b[43m,\u001b[49m\u001b[43m \u001b[49m\u001b[43mheaders\u001b[49m\u001b[38;5;241;43m=\u001b[39;49m\u001b[43mheaders\u001b[49m\u001b[43m,\u001b[49m\u001b[43m \u001b[49m\u001b[43mtimeout\u001b[49m\u001b[38;5;241;43m=\u001b[39;49m\u001b[38;5;28;43mself\u001b[39;49m\u001b[38;5;241;43m.\u001b[39;49m\u001b[43m_timeout\u001b[49m\n\u001b[0;32m     72\u001b[0m \u001b[43m  \u001b[49m\u001b[43m)\u001b[49m\n\u001b[0;32m     73\u001b[0m \u001b[38;5;28;01mexcept\u001b[39;00m requests\u001b[38;5;241m.\u001b[39mexceptions\u001b[38;5;241m.\u001b[39mConnectionError \u001b[38;5;28;01mas\u001b[39;00m connection_error:\n\u001b[0;32m     74\u001b[0m   \u001b[38;5;28;01mraise\u001b[39;00m \u001b[38;5;167;01mConnectionError\u001b[39;00m(connection_error) \u001b[38;5;28;01mfrom\u001b[39;00m \u001b[38;5;21;01mconnection_error\u001b[39;00m\n",
      "File \u001b[1;32m~\\anaconda3\\envs\\ee\\Lib\\site-packages\\requests\\sessions.py:589\u001b[0m, in \u001b[0;36mSession.request\u001b[1;34m(self, method, url, params, data, headers, cookies, files, auth, timeout, allow_redirects, proxies, hooks, stream, verify, cert, json)\u001b[0m\n\u001b[0;32m    584\u001b[0m send_kwargs \u001b[38;5;241m=\u001b[39m {\n\u001b[0;32m    585\u001b[0m     \u001b[38;5;124m\"\u001b[39m\u001b[38;5;124mtimeout\u001b[39m\u001b[38;5;124m\"\u001b[39m: timeout,\n\u001b[0;32m    586\u001b[0m     \u001b[38;5;124m\"\u001b[39m\u001b[38;5;124mallow_redirects\u001b[39m\u001b[38;5;124m\"\u001b[39m: allow_redirects,\n\u001b[0;32m    587\u001b[0m }\n\u001b[0;32m    588\u001b[0m send_kwargs\u001b[38;5;241m.\u001b[39mupdate(settings)\n\u001b[1;32m--> 589\u001b[0m resp \u001b[38;5;241m=\u001b[39m \u001b[38;5;28;43mself\u001b[39;49m\u001b[38;5;241;43m.\u001b[39;49m\u001b[43msend\u001b[49m\u001b[43m(\u001b[49m\u001b[43mprep\u001b[49m\u001b[43m,\u001b[49m\u001b[43m \u001b[49m\u001b[38;5;241;43m*\u001b[39;49m\u001b[38;5;241;43m*\u001b[39;49m\u001b[43msend_kwargs\u001b[49m\u001b[43m)\u001b[49m\n\u001b[0;32m    591\u001b[0m \u001b[38;5;28;01mreturn\u001b[39;00m resp\n",
      "File \u001b[1;32m~\\anaconda3\\envs\\ee\\Lib\\site-packages\\requests\\sessions.py:703\u001b[0m, in \u001b[0;36mSession.send\u001b[1;34m(self, request, **kwargs)\u001b[0m\n\u001b[0;32m    700\u001b[0m start \u001b[38;5;241m=\u001b[39m preferred_clock()\n\u001b[0;32m    702\u001b[0m \u001b[38;5;66;03m# Send the request\u001b[39;00m\n\u001b[1;32m--> 703\u001b[0m r \u001b[38;5;241m=\u001b[39m \u001b[43madapter\u001b[49m\u001b[38;5;241;43m.\u001b[39;49m\u001b[43msend\u001b[49m\u001b[43m(\u001b[49m\u001b[43mrequest\u001b[49m\u001b[43m,\u001b[49m\u001b[43m \u001b[49m\u001b[38;5;241;43m*\u001b[39;49m\u001b[38;5;241;43m*\u001b[39;49m\u001b[43mkwargs\u001b[49m\u001b[43m)\u001b[49m\n\u001b[0;32m    705\u001b[0m \u001b[38;5;66;03m# Total elapsed time of the request (approximately)\u001b[39;00m\n\u001b[0;32m    706\u001b[0m elapsed \u001b[38;5;241m=\u001b[39m preferred_clock() \u001b[38;5;241m-\u001b[39m start\n",
      "File \u001b[1;32m~\\anaconda3\\envs\\ee\\Lib\\site-packages\\requests\\adapters.py:667\u001b[0m, in \u001b[0;36mHTTPAdapter.send\u001b[1;34m(self, request, stream, timeout, verify, cert, proxies)\u001b[0m\n\u001b[0;32m    664\u001b[0m     timeout \u001b[38;5;241m=\u001b[39m TimeoutSauce(connect\u001b[38;5;241m=\u001b[39mtimeout, read\u001b[38;5;241m=\u001b[39mtimeout)\n\u001b[0;32m    666\u001b[0m \u001b[38;5;28;01mtry\u001b[39;00m:\n\u001b[1;32m--> 667\u001b[0m     resp \u001b[38;5;241m=\u001b[39m \u001b[43mconn\u001b[49m\u001b[38;5;241;43m.\u001b[39;49m\u001b[43murlopen\u001b[49m\u001b[43m(\u001b[49m\n\u001b[0;32m    668\u001b[0m \u001b[43m        \u001b[49m\u001b[43mmethod\u001b[49m\u001b[38;5;241;43m=\u001b[39;49m\u001b[43mrequest\u001b[49m\u001b[38;5;241;43m.\u001b[39;49m\u001b[43mmethod\u001b[49m\u001b[43m,\u001b[49m\n\u001b[0;32m    669\u001b[0m \u001b[43m        \u001b[49m\u001b[43murl\u001b[49m\u001b[38;5;241;43m=\u001b[39;49m\u001b[43murl\u001b[49m\u001b[43m,\u001b[49m\n\u001b[0;32m    670\u001b[0m \u001b[43m        \u001b[49m\u001b[43mbody\u001b[49m\u001b[38;5;241;43m=\u001b[39;49m\u001b[43mrequest\u001b[49m\u001b[38;5;241;43m.\u001b[39;49m\u001b[43mbody\u001b[49m\u001b[43m,\u001b[49m\n\u001b[0;32m    671\u001b[0m \u001b[43m        \u001b[49m\u001b[43mheaders\u001b[49m\u001b[38;5;241;43m=\u001b[39;49m\u001b[43mrequest\u001b[49m\u001b[38;5;241;43m.\u001b[39;49m\u001b[43mheaders\u001b[49m\u001b[43m,\u001b[49m\n\u001b[0;32m    672\u001b[0m \u001b[43m        \u001b[49m\u001b[43mredirect\u001b[49m\u001b[38;5;241;43m=\u001b[39;49m\u001b[38;5;28;43;01mFalse\u001b[39;49;00m\u001b[43m,\u001b[49m\n\u001b[0;32m    673\u001b[0m \u001b[43m        \u001b[49m\u001b[43massert_same_host\u001b[49m\u001b[38;5;241;43m=\u001b[39;49m\u001b[38;5;28;43;01mFalse\u001b[39;49;00m\u001b[43m,\u001b[49m\n\u001b[0;32m    674\u001b[0m \u001b[43m        \u001b[49m\u001b[43mpreload_content\u001b[49m\u001b[38;5;241;43m=\u001b[39;49m\u001b[38;5;28;43;01mFalse\u001b[39;49;00m\u001b[43m,\u001b[49m\n\u001b[0;32m    675\u001b[0m \u001b[43m        \u001b[49m\u001b[43mdecode_content\u001b[49m\u001b[38;5;241;43m=\u001b[39;49m\u001b[38;5;28;43;01mFalse\u001b[39;49;00m\u001b[43m,\u001b[49m\n\u001b[0;32m    676\u001b[0m \u001b[43m        \u001b[49m\u001b[43mretries\u001b[49m\u001b[38;5;241;43m=\u001b[39;49m\u001b[38;5;28;43mself\u001b[39;49m\u001b[38;5;241;43m.\u001b[39;49m\u001b[43mmax_retries\u001b[49m\u001b[43m,\u001b[49m\n\u001b[0;32m    677\u001b[0m \u001b[43m        \u001b[49m\u001b[43mtimeout\u001b[49m\u001b[38;5;241;43m=\u001b[39;49m\u001b[43mtimeout\u001b[49m\u001b[43m,\u001b[49m\n\u001b[0;32m    678\u001b[0m \u001b[43m        \u001b[49m\u001b[43mchunked\u001b[49m\u001b[38;5;241;43m=\u001b[39;49m\u001b[43mchunked\u001b[49m\u001b[43m,\u001b[49m\n\u001b[0;32m    679\u001b[0m \u001b[43m    \u001b[49m\u001b[43m)\u001b[49m\n\u001b[0;32m    681\u001b[0m \u001b[38;5;28;01mexcept\u001b[39;00m (ProtocolError, \u001b[38;5;167;01mOSError\u001b[39;00m) \u001b[38;5;28;01mas\u001b[39;00m err:\n\u001b[0;32m    682\u001b[0m     \u001b[38;5;28;01mraise\u001b[39;00m \u001b[38;5;167;01mConnectionError\u001b[39;00m(err, request\u001b[38;5;241m=\u001b[39mrequest)\n",
      "File \u001b[1;32m~\\anaconda3\\envs\\ee\\Lib\\site-packages\\urllib3\\connectionpool.py:789\u001b[0m, in \u001b[0;36mHTTPConnectionPool.urlopen\u001b[1;34m(self, method, url, body, headers, retries, redirect, assert_same_host, timeout, pool_timeout, release_conn, chunked, body_pos, preload_content, decode_content, **response_kw)\u001b[0m\n\u001b[0;32m    786\u001b[0m response_conn \u001b[38;5;241m=\u001b[39m conn \u001b[38;5;28;01mif\u001b[39;00m \u001b[38;5;129;01mnot\u001b[39;00m release_conn \u001b[38;5;28;01melse\u001b[39;00m \u001b[38;5;28;01mNone\u001b[39;00m\n\u001b[0;32m    788\u001b[0m \u001b[38;5;66;03m# Make the request on the HTTPConnection object\u001b[39;00m\n\u001b[1;32m--> 789\u001b[0m response \u001b[38;5;241m=\u001b[39m \u001b[38;5;28;43mself\u001b[39;49m\u001b[38;5;241;43m.\u001b[39;49m\u001b[43m_make_request\u001b[49m\u001b[43m(\u001b[49m\n\u001b[0;32m    790\u001b[0m \u001b[43m    \u001b[49m\u001b[43mconn\u001b[49m\u001b[43m,\u001b[49m\n\u001b[0;32m    791\u001b[0m \u001b[43m    \u001b[49m\u001b[43mmethod\u001b[49m\u001b[43m,\u001b[49m\n\u001b[0;32m    792\u001b[0m \u001b[43m    \u001b[49m\u001b[43murl\u001b[49m\u001b[43m,\u001b[49m\n\u001b[0;32m    793\u001b[0m \u001b[43m    \u001b[49m\u001b[43mtimeout\u001b[49m\u001b[38;5;241;43m=\u001b[39;49m\u001b[43mtimeout_obj\u001b[49m\u001b[43m,\u001b[49m\n\u001b[0;32m    794\u001b[0m \u001b[43m    \u001b[49m\u001b[43mbody\u001b[49m\u001b[38;5;241;43m=\u001b[39;49m\u001b[43mbody\u001b[49m\u001b[43m,\u001b[49m\n\u001b[0;32m    795\u001b[0m \u001b[43m    \u001b[49m\u001b[43mheaders\u001b[49m\u001b[38;5;241;43m=\u001b[39;49m\u001b[43mheaders\u001b[49m\u001b[43m,\u001b[49m\n\u001b[0;32m    796\u001b[0m \u001b[43m    \u001b[49m\u001b[43mchunked\u001b[49m\u001b[38;5;241;43m=\u001b[39;49m\u001b[43mchunked\u001b[49m\u001b[43m,\u001b[49m\n\u001b[0;32m    797\u001b[0m \u001b[43m    \u001b[49m\u001b[43mretries\u001b[49m\u001b[38;5;241;43m=\u001b[39;49m\u001b[43mretries\u001b[49m\u001b[43m,\u001b[49m\n\u001b[0;32m    798\u001b[0m \u001b[43m    \u001b[49m\u001b[43mresponse_conn\u001b[49m\u001b[38;5;241;43m=\u001b[39;49m\u001b[43mresponse_conn\u001b[49m\u001b[43m,\u001b[49m\n\u001b[0;32m    799\u001b[0m \u001b[43m    \u001b[49m\u001b[43mpreload_content\u001b[49m\u001b[38;5;241;43m=\u001b[39;49m\u001b[43mpreload_content\u001b[49m\u001b[43m,\u001b[49m\n\u001b[0;32m    800\u001b[0m \u001b[43m    \u001b[49m\u001b[43mdecode_content\u001b[49m\u001b[38;5;241;43m=\u001b[39;49m\u001b[43mdecode_content\u001b[49m\u001b[43m,\u001b[49m\n\u001b[0;32m    801\u001b[0m \u001b[43m    \u001b[49m\u001b[38;5;241;43m*\u001b[39;49m\u001b[38;5;241;43m*\u001b[39;49m\u001b[43mresponse_kw\u001b[49m\u001b[43m,\u001b[49m\n\u001b[0;32m    802\u001b[0m \u001b[43m\u001b[49m\u001b[43m)\u001b[49m\n\u001b[0;32m    804\u001b[0m \u001b[38;5;66;03m# Everything went great!\u001b[39;00m\n\u001b[0;32m    805\u001b[0m clean_exit \u001b[38;5;241m=\u001b[39m \u001b[38;5;28;01mTrue\u001b[39;00m\n",
      "File \u001b[1;32m~\\anaconda3\\envs\\ee\\Lib\\site-packages\\urllib3\\connectionpool.py:536\u001b[0m, in \u001b[0;36mHTTPConnectionPool._make_request\u001b[1;34m(self, conn, method, url, body, headers, retries, timeout, chunked, response_conn, preload_content, decode_content, enforce_content_length)\u001b[0m\n\u001b[0;32m    534\u001b[0m \u001b[38;5;66;03m# Receive the response from the server\u001b[39;00m\n\u001b[0;32m    535\u001b[0m \u001b[38;5;28;01mtry\u001b[39;00m:\n\u001b[1;32m--> 536\u001b[0m     response \u001b[38;5;241m=\u001b[39m \u001b[43mconn\u001b[49m\u001b[38;5;241;43m.\u001b[39;49m\u001b[43mgetresponse\u001b[49m\u001b[43m(\u001b[49m\u001b[43m)\u001b[49m\n\u001b[0;32m    537\u001b[0m \u001b[38;5;28;01mexcept\u001b[39;00m (BaseSSLError, \u001b[38;5;167;01mOSError\u001b[39;00m) \u001b[38;5;28;01mas\u001b[39;00m e:\n\u001b[0;32m    538\u001b[0m     \u001b[38;5;28mself\u001b[39m\u001b[38;5;241m.\u001b[39m_raise_timeout(err\u001b[38;5;241m=\u001b[39me, url\u001b[38;5;241m=\u001b[39murl, timeout_value\u001b[38;5;241m=\u001b[39mread_timeout)\n",
      "File \u001b[1;32m~\\anaconda3\\envs\\ee\\Lib\\site-packages\\urllib3\\connection.py:464\u001b[0m, in \u001b[0;36mHTTPConnection.getresponse\u001b[1;34m(self)\u001b[0m\n\u001b[0;32m    461\u001b[0m \u001b[38;5;28;01mfrom\u001b[39;00m \u001b[38;5;21;01m.\u001b[39;00m\u001b[38;5;21;01mresponse\u001b[39;00m \u001b[38;5;28;01mimport\u001b[39;00m HTTPResponse\n\u001b[0;32m    463\u001b[0m \u001b[38;5;66;03m# Get the response from http.client.HTTPConnection\u001b[39;00m\n\u001b[1;32m--> 464\u001b[0m httplib_response \u001b[38;5;241m=\u001b[39m \u001b[38;5;28;43msuper\u001b[39;49m\u001b[43m(\u001b[49m\u001b[43m)\u001b[49m\u001b[38;5;241;43m.\u001b[39;49m\u001b[43mgetresponse\u001b[49m\u001b[43m(\u001b[49m\u001b[43m)\u001b[49m\n\u001b[0;32m    466\u001b[0m \u001b[38;5;28;01mtry\u001b[39;00m:\n\u001b[0;32m    467\u001b[0m     assert_header_parsing(httplib_response\u001b[38;5;241m.\u001b[39mmsg)\n",
      "File \u001b[1;32m~\\anaconda3\\envs\\ee\\Lib\\http\\client.py:1428\u001b[0m, in \u001b[0;36mHTTPConnection.getresponse\u001b[1;34m(self)\u001b[0m\n\u001b[0;32m   1426\u001b[0m \u001b[38;5;28;01mtry\u001b[39;00m:\n\u001b[0;32m   1427\u001b[0m     \u001b[38;5;28;01mtry\u001b[39;00m:\n\u001b[1;32m-> 1428\u001b[0m         \u001b[43mresponse\u001b[49m\u001b[38;5;241;43m.\u001b[39;49m\u001b[43mbegin\u001b[49m\u001b[43m(\u001b[49m\u001b[43m)\u001b[49m\n\u001b[0;32m   1429\u001b[0m     \u001b[38;5;28;01mexcept\u001b[39;00m \u001b[38;5;167;01mConnectionError\u001b[39;00m:\n\u001b[0;32m   1430\u001b[0m         \u001b[38;5;28mself\u001b[39m\u001b[38;5;241m.\u001b[39mclose()\n",
      "File \u001b[1;32m~\\anaconda3\\envs\\ee\\Lib\\http\\client.py:331\u001b[0m, in \u001b[0;36mHTTPResponse.begin\u001b[1;34m(self)\u001b[0m\n\u001b[0;32m    329\u001b[0m \u001b[38;5;66;03m# read until we get a non-100 response\u001b[39;00m\n\u001b[0;32m    330\u001b[0m \u001b[38;5;28;01mwhile\u001b[39;00m \u001b[38;5;28;01mTrue\u001b[39;00m:\n\u001b[1;32m--> 331\u001b[0m     version, status, reason \u001b[38;5;241m=\u001b[39m \u001b[38;5;28;43mself\u001b[39;49m\u001b[38;5;241;43m.\u001b[39;49m\u001b[43m_read_status\u001b[49m\u001b[43m(\u001b[49m\u001b[43m)\u001b[49m\n\u001b[0;32m    332\u001b[0m     \u001b[38;5;28;01mif\u001b[39;00m status \u001b[38;5;241m!=\u001b[39m CONTINUE:\n\u001b[0;32m    333\u001b[0m         \u001b[38;5;28;01mbreak\u001b[39;00m\n",
      "File \u001b[1;32m~\\anaconda3\\envs\\ee\\Lib\\http\\client.py:292\u001b[0m, in \u001b[0;36mHTTPResponse._read_status\u001b[1;34m(self)\u001b[0m\n\u001b[0;32m    291\u001b[0m \u001b[38;5;28;01mdef\u001b[39;00m \u001b[38;5;21m_read_status\u001b[39m(\u001b[38;5;28mself\u001b[39m):\n\u001b[1;32m--> 292\u001b[0m     line \u001b[38;5;241m=\u001b[39m \u001b[38;5;28mstr\u001b[39m(\u001b[38;5;28;43mself\u001b[39;49m\u001b[38;5;241;43m.\u001b[39;49m\u001b[43mfp\u001b[49m\u001b[38;5;241;43m.\u001b[39;49m\u001b[43mreadline\u001b[49m\u001b[43m(\u001b[49m\u001b[43m_MAXLINE\u001b[49m\u001b[43m \u001b[49m\u001b[38;5;241;43m+\u001b[39;49m\u001b[43m \u001b[49m\u001b[38;5;241;43m1\u001b[39;49m\u001b[43m)\u001b[49m, \u001b[38;5;124m\"\u001b[39m\u001b[38;5;124miso-8859-1\u001b[39m\u001b[38;5;124m\"\u001b[39m)\n\u001b[0;32m    293\u001b[0m     \u001b[38;5;28;01mif\u001b[39;00m \u001b[38;5;28mlen\u001b[39m(line) \u001b[38;5;241m>\u001b[39m _MAXLINE:\n\u001b[0;32m    294\u001b[0m         \u001b[38;5;28;01mraise\u001b[39;00m LineTooLong(\u001b[38;5;124m\"\u001b[39m\u001b[38;5;124mstatus line\u001b[39m\u001b[38;5;124m\"\u001b[39m)\n",
      "File \u001b[1;32m~\\anaconda3\\envs\\ee\\Lib\\socket.py:720\u001b[0m, in \u001b[0;36mSocketIO.readinto\u001b[1;34m(self, b)\u001b[0m\n\u001b[0;32m    718\u001b[0m \u001b[38;5;28;01mwhile\u001b[39;00m \u001b[38;5;28;01mTrue\u001b[39;00m:\n\u001b[0;32m    719\u001b[0m     \u001b[38;5;28;01mtry\u001b[39;00m:\n\u001b[1;32m--> 720\u001b[0m         \u001b[38;5;28;01mreturn\u001b[39;00m \u001b[38;5;28;43mself\u001b[39;49m\u001b[38;5;241;43m.\u001b[39;49m\u001b[43m_sock\u001b[49m\u001b[38;5;241;43m.\u001b[39;49m\u001b[43mrecv_into\u001b[49m\u001b[43m(\u001b[49m\u001b[43mb\u001b[49m\u001b[43m)\u001b[49m\n\u001b[0;32m    721\u001b[0m     \u001b[38;5;28;01mexcept\u001b[39;00m timeout:\n\u001b[0;32m    722\u001b[0m         \u001b[38;5;28mself\u001b[39m\u001b[38;5;241m.\u001b[39m_timeout_occurred \u001b[38;5;241m=\u001b[39m \u001b[38;5;28;01mTrue\u001b[39;00m\n",
      "File \u001b[1;32m~\\anaconda3\\envs\\ee\\Lib\\ssl.py:1252\u001b[0m, in \u001b[0;36mSSLSocket.recv_into\u001b[1;34m(self, buffer, nbytes, flags)\u001b[0m\n\u001b[0;32m   1248\u001b[0m     \u001b[38;5;28;01mif\u001b[39;00m flags \u001b[38;5;241m!=\u001b[39m \u001b[38;5;241m0\u001b[39m:\n\u001b[0;32m   1249\u001b[0m         \u001b[38;5;28;01mraise\u001b[39;00m \u001b[38;5;167;01mValueError\u001b[39;00m(\n\u001b[0;32m   1250\u001b[0m           \u001b[38;5;124m\"\u001b[39m\u001b[38;5;124mnon-zero flags not allowed in calls to recv_into() on \u001b[39m\u001b[38;5;132;01m%s\u001b[39;00m\u001b[38;5;124m\"\u001b[39m \u001b[38;5;241m%\u001b[39m\n\u001b[0;32m   1251\u001b[0m           \u001b[38;5;28mself\u001b[39m\u001b[38;5;241m.\u001b[39m\u001b[38;5;18m__class__\u001b[39m)\n\u001b[1;32m-> 1252\u001b[0m     \u001b[38;5;28;01mreturn\u001b[39;00m \u001b[38;5;28;43mself\u001b[39;49m\u001b[38;5;241;43m.\u001b[39;49m\u001b[43mread\u001b[49m\u001b[43m(\u001b[49m\u001b[43mnbytes\u001b[49m\u001b[43m,\u001b[49m\u001b[43m \u001b[49m\u001b[43mbuffer\u001b[49m\u001b[43m)\u001b[49m\n\u001b[0;32m   1253\u001b[0m \u001b[38;5;28;01melse\u001b[39;00m:\n\u001b[0;32m   1254\u001b[0m     \u001b[38;5;28;01mreturn\u001b[39;00m \u001b[38;5;28msuper\u001b[39m()\u001b[38;5;241m.\u001b[39mrecv_into(buffer, nbytes, flags)\n",
      "File \u001b[1;32m~\\anaconda3\\envs\\ee\\Lib\\ssl.py:1104\u001b[0m, in \u001b[0;36mSSLSocket.read\u001b[1;34m(self, len, buffer)\u001b[0m\n\u001b[0;32m   1102\u001b[0m \u001b[38;5;28;01mtry\u001b[39;00m:\n\u001b[0;32m   1103\u001b[0m     \u001b[38;5;28;01mif\u001b[39;00m buffer \u001b[38;5;129;01mis\u001b[39;00m \u001b[38;5;129;01mnot\u001b[39;00m \u001b[38;5;28;01mNone\u001b[39;00m:\n\u001b[1;32m-> 1104\u001b[0m         \u001b[38;5;28;01mreturn\u001b[39;00m \u001b[38;5;28;43mself\u001b[39;49m\u001b[38;5;241;43m.\u001b[39;49m\u001b[43m_sslobj\u001b[49m\u001b[38;5;241;43m.\u001b[39;49m\u001b[43mread\u001b[49m\u001b[43m(\u001b[49m\u001b[38;5;28;43mlen\u001b[39;49m\u001b[43m,\u001b[49m\u001b[43m \u001b[49m\u001b[43mbuffer\u001b[49m\u001b[43m)\u001b[49m\n\u001b[0;32m   1105\u001b[0m     \u001b[38;5;28;01melse\u001b[39;00m:\n\u001b[0;32m   1106\u001b[0m         \u001b[38;5;28;01mreturn\u001b[39;00m \u001b[38;5;28mself\u001b[39m\u001b[38;5;241m.\u001b[39m_sslobj\u001b[38;5;241m.\u001b[39mread(\u001b[38;5;28mlen\u001b[39m)\n",
      "\u001b[1;31mKeyboardInterrupt\u001b[0m: "
     ]
    }
   ],
   "source": [
    "#print(L8_SR.size().getInfo()) #DOES NOT RUN , too large"
   ]
  },
  {
   "cell_type": "markdown",
   "metadata": {
    "id": "yf-g9KX_j8-2"
   },
   "source": [
    "That code tells us that we have over a million individual Landsat tiles stored in our `L8_SR` variable. For most purposes, we would not want to deal with that many images, which is where filtering comes in handy.\n",
    "\n",
    "**There are a couple of different ways to filter an image collection:**\n",
    "\n",
    "\n",
    "*   By date\n",
    "*   By location\n",
    "*   By an image property\n",
    "\n"
   ]
  },
  {
   "cell_type": "code",
   "execution_count": 41,
   "metadata": {
    "id": "Vf5dYnLZ88mh"
   },
   "outputs": [
    {
     "data": {
      "text/html": [
       "\n",
       "            <style>\n",
       "                .geemap-dark {\n",
       "                    --jp-widgets-color: white;\n",
       "                    --jp-widgets-label-color: white;\n",
       "                    --jp-ui-font-color1: white;\n",
       "                    --jp-layout-color2: #454545;\n",
       "                    background-color: #383838;\n",
       "                }\n",
       "\n",
       "                .geemap-dark .jupyter-button {\n",
       "                    --jp-layout-color3: #383838;\n",
       "                }\n",
       "\n",
       "                .geemap-colab {\n",
       "                    background-color: var(--colab-primary-surface-color, white);\n",
       "                }\n",
       "\n",
       "                .geemap-colab .jupyter-button {\n",
       "                    --jp-layout-color3: var(--colab-primary-surface-color, white);\n",
       "                }\n",
       "            </style>\n",
       "            "
      ],
      "text/plain": [
       "<IPython.core.display.HTML object>"
      ]
     },
     "metadata": {},
     "output_type": "display_data"
    },
    {
     "name": "stdout",
     "output_type": "stream",
     "text": [
      "46450\n",
      "93034\n"
     ]
    }
   ],
   "source": [
    "# Filter by date range\n",
    "L8_SR_Summer2020 = L8_SR.filterDate('2020-06-01', '2020-08-31')\n",
    "\n",
    "# Filter by multiple date ranges\n",
    "L8_SR_Summers20192020 = L8_SR.filter(ee.Filter.Or(ee.Filter.And(ee.Filter.date('2020-06-01', '2020-08-31')),\n",
    "                  ee.Filter.And(ee.Filter.date('2019-06-01', '2019-08-31'))))\n",
    "\n",
    "# Check the number of images in our new collections\n",
    "print(L8_SR_Summer2020.size().getInfo())\n",
    "print(L8_SR_Summers20192020.size().getInfo())\n"
   ]
  },
  {
   "cell_type": "markdown",
   "metadata": {
    "id": "zg44dqou-Cgz"
   },
   "source": [
    "By filtering our collection by date, we not only significantly reduced the number of images in the collection, but we also focused the collection on a time period that is useful to us.\n",
    "\n",
    "Now lets filter our collection even more."
   ]
  },
  {
   "cell_type": "code",
   "execution_count": 42,
   "metadata": {
    "id": "0VkN4ul3Gecn"
   },
   "outputs": [
    {
     "data": {
      "text/html": [
       "\n",
       "            <style>\n",
       "                .geemap-dark {\n",
       "                    --jp-widgets-color: white;\n",
       "                    --jp-widgets-label-color: white;\n",
       "                    --jp-ui-font-color1: white;\n",
       "                    --jp-layout-color2: #454545;\n",
       "                    background-color: #383838;\n",
       "                }\n",
       "\n",
       "                .geemap-dark .jupyter-button {\n",
       "                    --jp-layout-color3: #383838;\n",
       "                }\n",
       "\n",
       "                .geemap-colab {\n",
       "                    background-color: var(--colab-primary-surface-color, white);\n",
       "                }\n",
       "\n",
       "                .geemap-colab .jupyter-button {\n",
       "                    --jp-layout-color3: var(--colab-primary-surface-color, white);\n",
       "                }\n",
       "            </style>\n",
       "            "
      ],
      "text/plain": [
       "<IPython.core.display.HTML object>"
      ]
     },
     "metadata": {},
     "output_type": "display_data"
    },
    {
     "name": "stdout",
     "output_type": "stream",
     "text": [
      "15\n"
     ]
    }
   ],
   "source": [
    "# Create a point from coordinates\n",
    "uOttawa = ee.Geometry.Point([-75.683187,45.423050])\n",
    "\n",
    "# Filter the collection to only images that overlap with our point\n",
    "# Note that we are filtering the L8_SR_Summer2020 collection, which already has only ~43,000 images\n",
    "L8_SR_Summer2020_uOttawa = L8_SR_Summer2020.filterBounds(uOttawa)\n",
    "\n",
    "# Check how many images we have\n",
    "print(L8_SR_Summer2020_uOttawa.size().getInfo())"
   ]
  },
  {
   "cell_type": "markdown",
   "metadata": {
    "id": "h0c_3mI0HEyN"
   },
   "source": [
    "So there are 14 Landsat 8 Surface Reflectance images over uOttawa for the summer of 2020. However, some of these may have clouds and be unusable.\n",
    "\n",
    "Let's now limit our collection only to the most usable images using the image property \"CLOUD_COVER\""
   ]
  },
  {
   "cell_type": "code",
   "execution_count": 43,
   "metadata": {
    "id": "cERDjR6_HYbl"
   },
   "outputs": [
    {
     "data": {
      "text/html": [
       "\n",
       "            <style>\n",
       "                .geemap-dark {\n",
       "                    --jp-widgets-color: white;\n",
       "                    --jp-widgets-label-color: white;\n",
       "                    --jp-ui-font-color1: white;\n",
       "                    --jp-layout-color2: #454545;\n",
       "                    background-color: #383838;\n",
       "                }\n",
       "\n",
       "                .geemap-dark .jupyter-button {\n",
       "                    --jp-layout-color3: #383838;\n",
       "                }\n",
       "\n",
       "                .geemap-colab {\n",
       "                    background-color: var(--colab-primary-surface-color, white);\n",
       "                }\n",
       "\n",
       "                .geemap-colab .jupyter-button {\n",
       "                    --jp-layout-color3: var(--colab-primary-surface-color, white);\n",
       "                }\n",
       "            </style>\n",
       "            "
      ],
      "text/plain": [
       "<IPython.core.display.HTML object>"
      ]
     },
     "metadata": {},
     "output_type": "display_data"
    },
    {
     "name": "stdout",
     "output_type": "stream",
     "text": [
      "9\n",
      "9\n"
     ]
    }
   ],
   "source": [
    "# Filter collection for images with cloud cover less than 70%\n",
    "# There are 2 ways to do this:\n",
    "\n",
    "# use .filter\n",
    "L8_SR_Summer2020_uOttawa_cf1 = L8_SR_Summer2020_uOttawa.filter(ee.Filter.lt('CLOUD_COVER',70))\n",
    "\n",
    "# use filterMetaData\n",
    "L8_SR_Summer2020_uOttawa_cf2 = L8_SR_Summer2020_uOttawa.filterMetadata('CLOUD_COVER', \"less_than\", 70)\n",
    "\n",
    "# Check how many images we have\n",
    "print(L8_SR_Summer2020_uOttawa_cf1.size().getInfo())\n",
    "print(L8_SR_Summer2020_uOttawa_cf2.size().getInfo())"
   ]
  },
  {
   "cell_type": "markdown",
   "metadata": {
    "id": "sUm1Jp3RIMTs"
   },
   "source": [
    "Both of those methods give us the same results: there are 9 Landsat 8 Surface Reflectance images over uOttawa for the summer of 2020 with cloud cover less than 70%.\n",
    "\n",
    "There are many other ways we can filter an image collection. Scroll through the filter documentation in the [API docs guide](https://developers.google.com/earth-engine/api_docs#eefilter) to explore different ways of filtering. You can also explore the different functions (including filtering functions) by checking out the client libraries section (on the left hand side) of [GEE's documentation guides](https://developers.google.com/earth-engine/apidocs/ee-filter)\n",
    "\n",
    "\n",
    "We can also sort our image collection by its metadata."
   ]
  },
  {
   "cell_type": "code",
   "execution_count": 44,
   "metadata": {
    "id": "NQk3PB8bIta2"
   },
   "outputs": [
    {
     "data": {
      "text/html": [
       "\n",
       "            <style>\n",
       "                .geemap-dark {\n",
       "                    --jp-widgets-color: white;\n",
       "                    --jp-widgets-label-color: white;\n",
       "                    --jp-ui-font-color1: white;\n",
       "                    --jp-layout-color2: #454545;\n",
       "                    background-color: #383838;\n",
       "                }\n",
       "\n",
       "                .geemap-dark .jupyter-button {\n",
       "                    --jp-layout-color3: #383838;\n",
       "                }\n",
       "\n",
       "                .geemap-colab {\n",
       "                    background-color: var(--colab-primary-surface-color, white);\n",
       "                }\n",
       "\n",
       "                .geemap-colab .jupyter-button {\n",
       "                    --jp-layout-color3: var(--colab-primary-surface-color, white);\n",
       "                }\n",
       "            </style>\n",
       "            "
      ],
      "text/plain": [
       "<IPython.core.display.HTML object>"
      ]
     },
     "metadata": {},
     "output_type": "display_data"
    }
   ],
   "source": [
    "# Sort the image collection by cloud cover\n",
    "L8_SR_Summer2020_uOttawa_cf2 = L8_SR_Summer2020_uOttawa_cf2.sort(\"CLOUD_COVER\")\n",
    "\n",
    "# Choose the least cloudy image\n",
    "# This step assigns the least cloud image to a variable\n",
    "uOttawa_L8SR_Sum2020_img = L8_SR_Summer2020_uOttawa_cf2.first()"
   ]
  },
  {
   "cell_type": "markdown",
   "metadata": {
    "id": "XIJynpG2JJdH"
   },
   "source": [
    "`L8_SR_Summer2020_uOttawa_cf2` is an ***image collection*** sorted from least cloudy to most cloudy.\n",
    "\n",
    "`uOttawa_L8SR_Sum2020_img` is the least cloudy ***image*** from that collection\n",
    "\n"
   ]
  },
  {
   "cell_type": "markdown",
   "metadata": {
    "id": "oa02qJUrHp4p"
   },
   "source": [
    "## Create interactive maps"
   ]
  },
  {
   "cell_type": "markdown",
   "metadata": {
    "id": "W-mfqz8w53CR"
   },
   "source": [
    "### `geemap` Library\n",
    "\n",
    "Now that we have seen the different data types, it is time to start adding things to the map!\n",
    "\n",
    "As described in the imports section at the beginning of this lab, we need to use a special library to create maps when working with the python API. The easiest way to create these maps is with the `geemap` library which is based on `ipyleaflet` and `ipywidgets`.\n",
    "\n",
    "When using the geemap library to examine imagery, there are a couple of quirks we need to get used to.\n",
    "\n",
    "The first quirk is that we need to first tell the computer that we want to plot things on a map by creating a map object.\n",
    "\n",
    "The map object will be assigned to a variable and can have any name you want (just like other variables). Try to name it something that makes sense, like, `Map`."
   ]
  },
  {
   "cell_type": "code",
   "execution_count": 45,
   "metadata": {
    "id": "rK56AcSE62wH"
   },
   "outputs": [
    {
     "data": {
      "text/html": [
       "\n",
       "            <style>\n",
       "                .geemap-dark {\n",
       "                    --jp-widgets-color: white;\n",
       "                    --jp-widgets-label-color: white;\n",
       "                    --jp-ui-font-color1: white;\n",
       "                    --jp-layout-color2: #454545;\n",
       "                    background-color: #383838;\n",
       "                }\n",
       "\n",
       "                .geemap-dark .jupyter-button {\n",
       "                    --jp-layout-color3: #383838;\n",
       "                }\n",
       "\n",
       "                .geemap-colab {\n",
       "                    background-color: var(--colab-primary-surface-color, white);\n",
       "                }\n",
       "\n",
       "                .geemap-colab .jupyter-button {\n",
       "                    --jp-layout-color3: var(--colab-primary-surface-color, white);\n",
       "                }\n",
       "            </style>\n",
       "            "
      ],
      "text/plain": [
       "<IPython.core.display.HTML object>"
      ]
     },
     "metadata": {},
     "output_type": "display_data"
    }
   ],
   "source": [
    "Map = geemap.Map()"
   ]
  },
  {
   "cell_type": "markdown",
   "metadata": {
    "id": "EeW_MiQU67X1"
   },
   "source": [
    "Note that the above code doesn't produce anything - all we have done is assign a map object to a variable. If we want to explore our map, we need to call for it."
   ]
  },
  {
   "cell_type": "code",
   "execution_count": 46,
   "metadata": {
    "id": "JOxgRaB77C8a"
   },
   "outputs": [
    {
     "data": {
      "text/html": [
       "\n",
       "            <style>\n",
       "                .geemap-dark {\n",
       "                    --jp-widgets-color: white;\n",
       "                    --jp-widgets-label-color: white;\n",
       "                    --jp-ui-font-color1: white;\n",
       "                    --jp-layout-color2: #454545;\n",
       "                    background-color: #383838;\n",
       "                }\n",
       "\n",
       "                .geemap-dark .jupyter-button {\n",
       "                    --jp-layout-color3: #383838;\n",
       "                }\n",
       "\n",
       "                .geemap-colab {\n",
       "                    background-color: var(--colab-primary-surface-color, white);\n",
       "                }\n",
       "\n",
       "                .geemap-colab .jupyter-button {\n",
       "                    --jp-layout-color3: var(--colab-primary-surface-color, white);\n",
       "                }\n",
       "            </style>\n",
       "            "
      ],
      "text/plain": [
       "<IPython.core.display.HTML object>"
      ]
     },
     "metadata": {},
     "output_type": "display_data"
    },
    {
     "data": {
      "application/vnd.jupyter.widget-view+json": {
       "model_id": "ad76bd70d8094ce788e6a6f39cadb594",
       "version_major": 2,
       "version_minor": 0
      },
      "text/plain": [
       "Map(center=[0, 0], controls=(WidgetControl(options=['position', 'transparent_bg'], widget=SearchDataGUI(childr…"
      ]
     },
     "execution_count": 46,
     "metadata": {},
     "output_type": "execute_result"
    }
   ],
   "source": [
    "Map"
   ]
  },
  {
   "cell_type": "markdown",
   "metadata": {
    "id": "h6owVQx582xf"
   },
   "source": [
    "We can explore this map by zooming in and moving it around. It currently has two layers: Google Maps and its basemap, Open Street Map, but in order to play around with the layers, we need to explicitly tell our map that we want to do that."
   ]
  },
  {
   "cell_type": "code",
   "execution_count": 47,
   "metadata": {
    "id": "TtonMtdg9SyA"
   },
   "outputs": [
    {
     "data": {
      "text/html": [
       "\n",
       "            <style>\n",
       "                .geemap-dark {\n",
       "                    --jp-widgets-color: white;\n",
       "                    --jp-widgets-label-color: white;\n",
       "                    --jp-ui-font-color1: white;\n",
       "                    --jp-layout-color2: #454545;\n",
       "                    background-color: #383838;\n",
       "                }\n",
       "\n",
       "                .geemap-dark .jupyter-button {\n",
       "                    --jp-layout-color3: #383838;\n",
       "                }\n",
       "\n",
       "                .geemap-colab {\n",
       "                    background-color: var(--colab-primary-surface-color, white);\n",
       "                }\n",
       "\n",
       "                .geemap-colab .jupyter-button {\n",
       "                    --jp-layout-color3: var(--colab-primary-surface-color, white);\n",
       "                }\n",
       "            </style>\n",
       "            "
      ],
      "text/plain": [
       "<IPython.core.display.HTML object>"
      ]
     },
     "metadata": {},
     "output_type": "display_data"
    }
   ],
   "source": [
    "Map.addLayerControl()"
   ]
  },
  {
   "cell_type": "markdown",
   "metadata": {
    "id": "EwlkkDjY9Xaq"
   },
   "source": [
    "Whenever we do something to our map in Google Colab, we need to call for it again."
   ]
  },
  {
   "cell_type": "code",
   "execution_count": 48,
   "metadata": {
    "id": "ODudqYMV9jd6"
   },
   "outputs": [
    {
     "data": {
      "text/html": [
       "\n",
       "            <style>\n",
       "                .geemap-dark {\n",
       "                    --jp-widgets-color: white;\n",
       "                    --jp-widgets-label-color: white;\n",
       "                    --jp-ui-font-color1: white;\n",
       "                    --jp-layout-color2: #454545;\n",
       "                    background-color: #383838;\n",
       "                }\n",
       "\n",
       "                .geemap-dark .jupyter-button {\n",
       "                    --jp-layout-color3: #383838;\n",
       "                }\n",
       "\n",
       "                .geemap-colab {\n",
       "                    background-color: var(--colab-primary-surface-color, white);\n",
       "                }\n",
       "\n",
       "                .geemap-colab .jupyter-button {\n",
       "                    --jp-layout-color3: var(--colab-primary-surface-color, white);\n",
       "                }\n",
       "            </style>\n",
       "            "
      ],
      "text/plain": [
       "<IPython.core.display.HTML object>"
      ]
     },
     "metadata": {},
     "output_type": "display_data"
    },
    {
     "data": {
      "application/vnd.jupyter.widget-view+json": {
       "model_id": "ad76bd70d8094ce788e6a6f39cadb594",
       "version_major": 2,
       "version_minor": 0
      },
      "text/plain": [
       "Map(center=[0, 0], controls=(WidgetControl(options=['position', 'transparent_bg'], widget=SearchDataGUI(childr…"
      ]
     },
     "execution_count": 48,
     "metadata": {},
     "output_type": "execute_result"
    }
   ],
   "source": [
    "Map"
   ]
  },
  {
   "cell_type": "markdown",
   "metadata": {
    "id": "85vma1VK9pGO"
   },
   "source": [
    "Now we have a little button in the top right corner that allows us to change the layers we see. Currently our only options are to toggle Google Maps on and off, but as we add more layers to our map, the `Map.addLayerControl()` function will be useful.\n",
    "\n",
    "Note that `Map` in this case is the variable we assigned our map object to. If you named your map object `My_cute_map_1` then you need to call `My_cute_map_1.addLayerControl()`."
   ]
  },
  {
   "cell_type": "markdown",
   "metadata": {
    "id": "rv0VaOUpMDsj"
   },
   "source": [
    "### Visualizing Layers\n",
    "\n",
    "\n",
    "To add a layer to a map, we use the `Map.addLayer()` function. This function takes 5 inputs but only the first is required. The other arguments only need to be specified if you don't want to use the defaults.\n",
    "\n",
    "\n",
    "\n",
    "`Map.addLayer(eeObject, visParams, name, shown, opacity)`\n",
    "\n",
    "**Where:**\n",
    "\n",
    "\n",
    "`eeObject` = the object you want to add, usually either an image or a geometry\n",
    "\n",
    "`visParams` = the visualization parameters used to display the object, see more description below.\n",
    "\n",
    "`name` =  the name you want shown beside the layer on the map. Default is 'Layer N'\n",
    "\n",
    "`shown` = **True** (layer is automatically on) or **False** (layer is off). Default is **True**\n",
    "\n",
    "`opacity` = number between 0 (transparent) and 1 (fully opaque). Default is 1\n",
    "\n"
   ]
  },
  {
   "cell_type": "markdown",
   "metadata": {
    "id": "QkFIz4HUUXVq"
   },
   "source": [
    "The visualization parameters have many options\n",
    "![Visualization Parameter Options.png](data:image/png;base64,iVBORw0KGgoAAAANSUhEUgAAAz0AAAI5CAYAAACLjlTXAAAYV2lDQ1BJQ0MgUHJvZmlsZQAAWIWVeQc4lt8b/3med7+89t6y997Ze++Zymtvem1FkiQqyUjRQiKiaSVkpCQrRUophFJpICv/x6jf9/f9Xdf/f/3PdZ3n+bz3uc89zrrP/bwAcCaRw8ODYToAQkIjKXbGenwurm58uEkAAVrABGCwg+wVEa5rY2MBkPLn/d9l4QXCjZRnUhuy/rf9/1rovX0ivACAbBDs6R3hFYLgOwCgU7zCKZEAYFURukBMZPgGdkcwEwUxEMHhG9hvC6dsYM8tnL/J42Cnj+BKAPDUZDLFDwCaOoTOF+3lh8ihGUbaGEK9A0IR1lkEa3n5k70B4JREeCRDQsI2sAuCRT3/Icfvv2R6/pVJJvv9xVu+bBa8QUBEeDA57v9zOP7fJSQ46o8OYaRS+1NM7DZ8RsZtOCjMfANTI3g21NPKGsEMCP4V4L3Jj2CY6B9l4rjFD3N5RegjYwZYECzrTTYwRzAXgo1Cg60stumevgFGpghGVggcGxBp6rDdN80nwtB+W2YhJczO+g/2pejrbvetIlM29W7wt0cFOepuyx/29zH9I/9nvL+D85bNKGJ0gJMVgmkQzBIRZG++xYMSjPfXt/rDQ4my27BfEMHqPqHGelvyUXt8KUZ22/yUkIg//qLS/ANMrbbxuUh/B5NtOZVe5E372RBc5xOq6/hHjk+Ei8UfX7x9DAy3fEf1+YQ6bvuLGguP1LPb7vs9PNhmmx9N9Ak23qDvQDBXRLT9dl+0ViSyILfko63CI20ctuxEewaSzWy27EHHAgugDwwAH4hCqicIA4EgoGe2dhb5tdViBMiAAvyAD5Dapvzp4bzZEoo87UE8+IwgHxDxt5/eZqsPiEboa3+pW08p4LvZGr3ZIwh8QHAIMAfByO+ozV6hf7U5gQmEEvA/2r0QW4ORutH2vzRdhGKxTYn6I5eP9g8n1hBrgDXBGmHF0BxoLbQG2gJ56iBVHq2KVvtj7X/4MR8w/Zj3mOeYMczLvQHJlH/5wwcswRiiwWjbZ89/+owWRqQqofXQmoh8RDaaBc0BpNCKiCZdtDaiWwmh6m9bvuH9v2X/lw//GPVtPoIsASawEnQIov/uSSNOo/RXysaY/nOEtmz1/Duu+n9b/q1f/x8j7Y28zf/NiUpD3UZ1oh6gHqMaUbWAD9WMqkN1o+5v4L+raGJzFf3RZrdpTxAiJ+B/9JG3dW6MZIRsheyM7OpWW6RPbOTGBtMPC4+jBPj5R/LpIie/D59pqJe0JJ+8rLwcABtxZOuY+mG3GR8glt7/0MhInFCVB4Co9x9aGHI2VOUiW+Psf2jCyN5lVwPglp1XFCV6i4beeGAAcTNCsQMeIABEEX/kgTLQADrAEJgBa+AAXMEeZJT9kfVMATHgADgEUkEGOAVywTlwERSDMnAd3AK1oBE8AA/BE9AHnoNXyOqZBJ/AHFgAKxAE4SASxAixQ7yQECQByUOqkBZkCFlAdpAr5AH5QaFQFHQAOgxlQKehc9BlqBy6CdVDD6DHUD/0EnoHzUDfoWUYBVPDTDA3LAzLwKqwLmwOO8C7YT94HxwPp8An4Xy4CK6Ea+AH8BP4OTwGf4LnUQBFhWJB8aOkUKoofZQ1yg3li6KgElHpqDxUEaoK1YDM8zPUGGoWtYTGohnRfGgpZAWboB3RXuh96ET0cfQ5dBm6Bt2OfoZ+h55D/8aQMFwYCYw6xhTjgvHDxGBSMXmYUsxdTAeymyYxC1gslgUrglVBdqMrNhC7H3scex5bjW3B9mPHsfM4HI4dJ4HTxFnjyLhIXCruLK4S14wbwE3ifuGp8Lx4ebwR3g0fik/G5+Gv4ZvwA/gp/AqBjiBEUCdYE7wJcYRMQgmhgdBLmCSsEOmJIkRNogMxkHiImE+sInYQXxN/UFFR7aBSo7KlCqBKosqnukH1iOod1RI1A7U4tT61O3UU9Unqq9Qt1C+pf5BIJGGSDsmNFEk6SSontZHekH7RMNJI05jSeNMcpCmgqaEZoPlCS6AVotWl3UMbT5tHe5u2l3aWjkAnTKdPR6ZLpCugq6cbopunZ6SXo7emD6E/Tn+N/jH9NAOOQZjBkMGbIYWhmKGNYZwRxSjAqM/oxXiYsYSxg3GSCcskwmTKFMiUwXSdqYdpjpmBWZHZiTmWuYD5PvMYC4pFmMWUJZglk+UWywuWZVZuVl1WH9ZjrFWsA6yLbJxsOmw+bOls1WzP2ZbZ+dgN2YPYs9hr2Uc50BziHLYcMRwXODo4ZjmZODU4vTjTOW9xjnDBXOJcdlz7uYq5urnmuXm4jbnDuc9yt3HP8rDw6PAE8uTwNPHM8DLyavEG8ObwNvN+5GPm0+UL5svna+eb4+fiN+GP4r/M38O/skNkh+OO5B3VO0YFiAKqAr4COQKtAnOCvIKWggcEKwRHhAhCqkL+QmeEOoUWhUWEnYWPCtcKT4uwiZiKxItUiLwWJYlqi+4TLRIdFMOKqYoFiZ0X6xOHxZXE/cULxHslYAlliQCJ8xL9khhJNclQySLJISlqKV2paKkKqXfSLNIW0snStdJfZARl3GSyZDplfssqyQbLlsi+kmOQM5NLlmuQ+y4vLu8lXyA/qEBSMFI4qFCn8E1RQtFH8YLisBKjkqXSUaVWpTVlFWWKcpXyjIqgiodKocqQKpOqjepx1UdqGDU9tYNqjWpL6srqkeq31L9qSGkEaVzTmN4pstNnZ8nOcc0dmmTNy5pjWnxaHlqXtMa0+bXJ2kXa73UEdLx1SnWmdMV0A3Urdb/oyepR9O7qLeqr6yfotxigDIwN0g16DBkMHQ3PGb4x2mHkZ1RhNGesZLzfuMUEY2JukmUyZMpt6mVabjpnpmKWYNZuTm1ub37O/L2FuAXFosEStjSzzLZ8bSVkFWpVaw2sTa2zrUdtRGz22dyzxdra2BbYfrCTsztg12nPaL/X/pr9goOeQ6bDK0dRxyjHVidaJ3encqdFZwPn085jLjIuCS5PXDlcA1zr3HBuTm6lbvO7DHfl7pp0V3JPdX+xW2R37O7Hezj2BO+5v5d2L3nvbQ+Mh7PHNY9VsjW5iDzvaepZ6Dnnpe91xuuTt453jveMj6bPaZ8pX03f077Tfpp+2X4z/tr+ef6zAfoB5wK+BZoEXgxcDLIOuhq0HuwcXB2CD/EIqQ9lCA0KbQ/jCYsN6w+XCE8NH9unvi933xzFnFIaAUXsjqiLZEIu7N1RolFHot5Fa0UXRP+KcYq5HUsfGxrbHScedyxuKt4o/sp+9H6v/a0H+A8cOvAuQTfhciKU6JnYelDgYMrBySTjpLJDxENBh54myyafTv552PlwQwp3SlLK+BHjIxWpNKmU1KGjGkcvpqHTAtJ6jikcO3vsd7p3eleGbEZexupxr+NdJ+RO5J9YP+l7sidTOfPCKeyp0FMvsrSzyk7Tn44/PZ5tmV2Tw5eTnvMzd2/u4zzFvItniGeizozlW+TXnRU8e+rs6jn/c88L9AqqC7kKjxUunvc+P3BB50LVRe6LGReXLwVcGr5sfLmmSLgorxhbHF38ocSppPOK6pXyUo7SjNK1q6FXx8rsytrLVcrLr3Fdy6yAK6IqZirdK/uuG1yvq5KqulzNUp1xA9yIuvHxpsfNF7fMb7XeVr1ddUfoTuFdxrvpNVBNXM1crX/tWJ1rXX+9WX1rg0bD3XvS96428jcW3Ge+n9lEbEppWm+Ob55vCW+ZfeD3YLx1b+urNpe2wXbb9p4O845HD40etnXqdjY/0nzU+Fj9cX2XalftE+UnNd1K3XefKj2926PcU9Or0lvXp9bX0L+zv2lAe+DBM4NnDwdNB588t3re/8LxxfCQ+9DYsPfw9Mvgl99GokdWXiW9xrxOH6UbzXvD9abordjb6jHlsfvvDN51v7d//2rca/zTRMTE6mTKB9KHvCneqfJp+enGGaOZvo+7Pk5+Cv+0Mpv6mf5z4RfRL3e+6nztnnOZm/xG+bb+/fgP9h9Xfyr+bJ23mX+zELKwspj+i/1X2ZLqUuey8/LUSswqbjV/TWyt4bf579frIevr4WQKefMqgEIq7OsLwPerAJBcAWDsQ+4Uu7byvO2CQi4fMPJ2gqShT3A76jDaHqODFcFx4NkIvERNKivqINIpmnraWXopBh/GYqZxFnHWOLZmDlpOZ64S7h+8O/lS+J8K0AvaCZ0QfiIKxBTEfSXOSHZJLcqIytrKJclXKDxXgpXlVHarpqvVqL/bSdJU1fLQPqZzU/e1Pt5A2dDL6JRxnckbM8hc0MLYMtAq0/qOzbDtL3sWBwVHa6cQ5xMuVa5P3N7tmnNf3L2yF3gQyeyeUl663nY+e319/Mj+9gE7A/mCoKCx4OaQS6GHw/zDbfapUvgi8BFfI19ENUWXxWTHJsYFx7vuNz2gmaCSqHxQLUn3kHmy82GflMgjR1Jzjpak3T7Wkt6d8eL42xNTJz9nfj81n7Vwej57Pmc5D32GOV/yrPE5r4KDhfnnqy40X3xyafDySNFY8UzJz1LUVeYy8XK9a+4VMZU5129V9Vd/u0l/S+G2/Z2Iu6dqymsb6h7UtzW03LvXePd+dVN5c3HL+Qe5reltB9oDO+wfKneydS49Gnvc2/XwSVv3g6eNPdW9+X0R/foDpIFnzwoGfZ8rvcC8GBoqG45+qTOCHelE1pfS66nRrDcab8bfnhjTGPv07uJ7u3HUePWE48TSZM4HyQ/NU3ZTE9NHZmRmJj6WfQqdVZid/1z9xesr/de7czZzH74d+M76/eGPzJ+h8+QFX2QdTSx3rEmvr2/OvwB0Aw5EyaOm0TcxSVgXnCZeiiBCFKHaQS1LUqexpfWiS6S/yNDEOMNMx6LKSmZLY7/D8YaLiluBZxdvEt9l/uYdrwTmhaiEeUWURE3FPMTjJLIlb0p1S0/LouX45XcquClGKmUol6jUqz5Ve6/+cydWk1NLTttSJ1g3U++Gfp/BZyO8MbeJvKmhmaO5l0WoZaxVovVhmyO2qXZp9ukOxx3TnVKc41z8XR3cDHZpuxvtdtsTszfX4wa51bPLq8P7rk+h734/Z3/ZAOqA2cC+oIbg8pCC0Myw5HDKPneKTgRvxErk86jr0akxnrGGcbLxgvu5D7AnMCfSHcQeXEh6f6gr+ebh3JSYI7tTzY4apFkcI6cfyrhy/OGJNye/ZM6fWsyaP/0jey7nc+5s3pczv87SnVMrCC0sPd9zYfzizKXJy2+LXhb3lzy60lTaeLWr7PM1/ordlYXXX1Yz3bC6mYacXkt3pWu8awvqBhow9xQb994/0lTa3NjS9OBa66m2hPaYjqSHmZ3nHxU/vtB18klUt/1TqR50z0jvrb6M/sAB22eGg4bPbV94DkUNp7w8OpLwyve1/ijH6Oyb+rdHx1zeSb3Hv/8w3jZxfnLfB50p6qnB6eKZgx8DPnnP+n8O+RL+NXwu/Bvle/SPuJ8x8wELxou0i7d/Gf56suS29Hm5b5V6bWRz/iVAO2QODcM+KCwqEy2B7sXEY2WwM7greH+CDGGJ2EV1kTqGZEcjT0tDu0D3kr6FoZwxmymB2Y/FjlWTTYydmX2VY5pzgKuJu4qnmLeAL48/Z0emQKpgtBBZ2FCET+SXaLfYRfEICRNJfilYakZ6SOaRbIPcNfl8hSRFDyU1Zaxyr0quqosau9pL9fMa3jvlNbGab7RqtDN1/HUN9IT16QyAwQ/DKaMXxvdM8kx9zITMxszzLawtcZZtVoetTW3YbD7aNtll2/s7aDiSHN84XXc+4GLmyuz61q1sVxgS/5d239+TtFffA+/RTy70DPLa6U3tPeJz1Xefn6rfqn9zQFKgThAIagk+FKIfig7tCDsSrhv+a18FxRWJ2eWR1pE/o/Kjd0a/iUmK5Y69H+cRzxI/sr/iwOEEl0TRxIWDbUnZh/ySDQ6Lp7AdoUoFqT+Pjqc9PVadfjyDfFzxBO7EyMkbmemngrKMTzOcfpi9K3s2Jz5XN0/vTNpZ/Ln0gonz7BfkL6pdUrusVCRTLFrCf4W9lP4qsYxQTousJM1Kj+tHq65XP7uxekv0ttud03f7a5nqXOsLG4YaMffFmoybPVsOPrjQ2tT2tn39IX+n/iO/x8e7bj550b3WI9a7q+9M/5tn8oMnnn8Zsh+uH+F/lTsq85bmXcxExnTcZ6vvC0u2G/O/9b1vo2CVAchG8kynE0idASCrFskz7wHASgTAhgSAgxqAj1YB2LgKQEFH/sYPCEk88UjOyQJ4gRhQRDJNC+CGZM2x4BiSUVaCJjAAPoBViAESg3SQ/DACOoHkgx3QOAzB/LAe7A0fRbK8AXgZJYCyRMWjylBDaDxaHR2CLka/xDBgzJGMrA0LYXWwSdhWHAZnhjuFG8bz44Px9QQcwZlQRlgmWhIvExeprKjKqNHUntRtJCHSMdIXGgeaRiTTyaIDdPvoJuhd6XsZjBjuM6oy1jCpM7Ux2zGPs0SxYlnz2ITZ6tit2Kc50jjlOMe5LnJ78kjw/OJ9yJfL771DUQAr8ErwtlCmcLCIuaiEGElsTvy5xD3JC1KJ0u4yarJMsnNyT+WvKRxT9FcyU5ZWYVZZV/2s9kZ9QKNrZ4dmu1ando/OiO603oIBMMQi5xzeBG9KMKM2Z7Lgt1S0srIOtcmxbbSbdCA5Kjq5Oie4XHJtd5typ9otu8dp7wGPEnKP5y9vQR973yN+jf7LgfpBZ4OXQr3CBvYZURojFaOqY6Rib8bv3N+XEHaQK+lFck6KxZGFoznHJNM7jvucZM58m/U0ezR3PZ/vnFqhxYW9l+KKLpWMXJUqv1QpWzV28/KdPbVU9VWNu5slWnk7jB4VdVP3ivYvDGYNib7sf33h7Zn3Ax88ZpY+M3yt/A5+yi6oLa4vpS/XrQyu3lsr/h2+rrJ5fkCb3xwYACcQBvJAG1gCdxACEkEWKAH1oBdMgjWIBZKBzCBf6DBUBD2A3sNoWAS2gCnwObgN/oriQpmjDqCqURNoDrQdOgPdgYEwmpj9mHuYVaw29jD2MY4O54q7gvuO18Vn4z8QNAjZhFmiETLnq1QuVHeQTJhCPUhSI12ioaKJpZmidaXtoTOia6HXom9m0GfoYrRnHEUy02XmTBZxlies+9hY2GrYbdk/cMRxkjhLuHS4JrizeMx4aXhH+W7zn9wRIKAnyCb4Sei+8CkRX1E9MSFxBgm8JEYKL00jwyBLL4eXW5KfVhhS7FJ6oPxApUv1ldp3DZqdspq2WgHakToUXX89F31jAzVDRSNVY2OTvaaJZpfNOy3mrDitDW2CkJiWY3/GIdcxx+mSc7PLNzelXUnuT/fw7I306PUU8PL1zvW569vjN+G/EsgSpBDsEBIdei6sJfwjhTXCKDI66mr0SCxdnGV85v7hBOHEhIPjh/wO06V0pUamYY8dzUAfTzvJmdmWlZztkqt/RuOsRoHGebWLYpfRRQ9Loks5r94v96xgrhyt6rjRe2v+rlztgfonjbRNBi2U1tL2mU69x7e65XoK+0YHfg5+ezE1PD4y/frnW+gdcZxpUnDKZCZvVuVr+o/SxeClnpWU1ba1n7+XNucfRnY/PeABUkAL2AJfkADywA3QDT5CBEgCsoQoUD7UAn2EWWADOBIuhUdQ9ChTVAqqBbWG1kDHoxvQqxhdTDpmCCuGPYQdxWnhivB4fBh+kKBGOE+EiYHE51QGVPeo1agfkGxIH2iSaflpW+jc6RboTzFIMTxlDGUiMZUx6zG/Zolj5WHtYTvJ7smhxynOxcS1wj3KU8d7mi+E32KHrACbIFZwSeib8FeRH6Jr4jQSgpI6Uh7SSTLnZevknsn/UORQMlVOVmlTo1Z317ihiUPuqk26O/SyDVgMq4zdTOnN+i3OWYXZONrJ2484ujl1u5i4Ptvl6/5rz2EPiBzu+dxbxafQj+B/KJAYVBxiGQbCaylhkTxRbTFRcd77vySWJMUdepG8mgIfwafSHVVIizg2mOF4fOZk2inprJfZabkaed/yy8/tKSSev3pR5dL9Iu3ilisGpV1lNuWDFQ6VfVVG1fU3RW+duYO/m1CzWnesQfhe3/3kZuWWmdbCduuH6M57jyOeSHRP9FzocxlgejbwPHPIbHh9pPK19ej026ixtffJE6jJ5Cl4+vBH9KeDs1++GH2Nmzv/7cT3qB8GPxZ/Xpu3mn+14L+wsBi9OPPL/Vfvkv5SxTJpOXx5YEVpJX/l26rpatHqyprD2vXfqN8uvyvXoXXH9Wsb8x/hqyC/GT4gaj0AMG/W138IA4A7DcBa1vr6StH6+loxkmy8BqAleOs/pM1YQwdA4dsN1CX+POnf/+X8H5U/33D6mcGVAAABnWlUWHRYTUw6Y29tLmFkb2JlLnhtcAAAAAAAPHg6eG1wbWV0YSB4bWxuczp4PSJhZG9iZTpuczptZXRhLyIgeDp4bXB0az0iWE1QIENvcmUgNS40LjAiPgogICA8cmRmOlJERiB4bWxuczpyZGY9Imh0dHA6Ly93d3cudzMub3JnLzE5OTkvMDIvMjItcmRmLXN5bnRheC1ucyMiPgogICAgICA8cmRmOkRlc2NyaXB0aW9uIHJkZjphYm91dD0iIgogICAgICAgICAgICB4bWxuczpleGlmPSJodHRwOi8vbnMuYWRvYmUuY29tL2V4aWYvMS4wLyI+CiAgICAgICAgIDxleGlmOlBpeGVsWERpbWVuc2lvbj44Mjk8L2V4aWY6UGl4ZWxYRGltZW5zaW9uPgogICAgICAgICA8ZXhpZjpQaXhlbFlEaW1lbnNpb24+NTY5PC9leGlmOlBpeGVsWURpbWVuc2lvbj4KICAgICAgPC9yZGY6RGVzY3JpcHRpb24+CiAgIDwvcmRmOlJERj4KPC94OnhtcG1ldGE+CtCjD/IAAEAASURBVHgB7J0FnFXFF8cPgtKl0rl0d3d3i4SECKgoIqKIEgqof0IllA5REJDukm6Q7m5Uujvf//wG7vXt4723+3bfwi785vPZffdO3ZnvzLszZ86ZeZEc6oSOBEiABEiABEiABEiABEiABJ5TAi89p/VitUiABEiABEiABEiABEiABEjAEKDQw45AAiRAAiRAAiRAAiRAAiTwXBOg0PNcNy8rRwIkQAIkQAIkQAIkQAIkQKGHfYAESIAESIAESIAESIAESOC5JkCh57luXlaOBEiABEiABEiABEiABEiAQg/7AAmQAAmQAAmQAAmQAAmQwHNNgELPc928rBwJkAAJkAAJkAAJkAAJkACFHvYBEiABEiABEiABEiABEiCB55oAhZ7nunlZORIgARIgARIgARIgARIgAQo97AMkQAIkQAIkQAIkQAIkQALPNYEowand1es3ghONcUiABEiABEiABEiABEiABEggTAnEiRXT5/yp6fEZGROQAAmQAAmQAAmQAAmQAAlEJAIUeiJSa7GsJEACJEACJEACJEACJEACPhOg0OMzMiYgARIgARIgARIgARIgARKISAQo9ESk1mJZSYAESIAESIAESIAESIAEfCZAocdnZExAAiRAAiRAAiRAAiRAAiQQkQhQ6IlIrcWykgAJkAAJkAAJkAAJkAAJ+EyAQo/PyJiABEiABEiABEiABEiABEggIhGg0BORWotlJQESIAESIAESIAESIAES8JkAhR6fkTEBCZAACZAACZAACZAACZBARCJAoScitRbLSgIkQAIkQAIkQAIkQAIk4DMBCj0+I2MCEiABEiABEiABEiABEiCBiESAQk9Eai2WlQRIgARIgARIgARIgARIwGcCFHp8RsYEJEACJEACJEACJEACJEACEYkAhZ6I1FosKwmQAAmQAAmQAAmQAAmQgM8EKPT4jIwJSIAESIAESIAESIAESIAEIhIBCj0RqbVYVhIIxwQuXLgg9+7dC/MSTp06TcaNG2c/5/Tp0/a1vy/CMm9/l/V5z2/fvn3yU/+fZMqUqc97VV+o+jkcjifq687viUj0IAESIAEfCVDo8REYo5PAi0bgs0/bS6GCheXIkaOBqn727FkpXKiIvNvyPblx44ZUKF9Rvv3m20BxwuJm6tSpMm7seJP1mjVrpGKFSjJr1uxQP+rEiZNy4MABOx9/5m1n+pxcuLIK62qtXLFS6tdrILNnz5EzYSjkhnU9/JH/+s1bZd+hw26zunLtukyZs8BtWHj0vHPnrnzx3feCcju7hctXyYQZc5y9eE0CJEACoSZAoSfUCJkBCTzfBMqULSO3bt2SJUuWBKrokiVL5ebNm4LwmDFjSvv2n0m9+vUCxQnrm+zZs0vbT9pK4cKFQv2oHv/7n7Ro3tLOx59525k+JxeurMK6WnPmzpXo0aPL3HlzpPVHrf3+uMtXr0rlRs1l4qy5dt6tO3aT9t172vfh5WLh8tWyZecet8W5dOWKjBg30Q77tOv/ZPma9fZ9eLvoP/xXKZY/j8SNHStQ0SqUKi4bt++U1Rs3B/LnDQmQAAmEhkCU0CRmWhIggeefQJkypc2Ec/GixfLuu/8JBYsXL5bIkSNLpUoV5cGDB/JK1Khy584dGwj8Nm/eLPv27pOChQpJxowZTNgVnZgtXrxEsmXNKhkzZTR+q1evlosXL0mNGtXN/d27d2XlypVy4vgJyZU7l+TKlUteeunJNRoIXXHjxjVCGRIuWLBAtU43TR7Wv6ivvCLVqlcztzDBW7NmrVy+dEmKFS8uadIEGH9ois6cOSN4LsznSpYsIffv3w+UNyJevnxZ1q9fL//8/Y9ky55NChYsaNLj3xzVQiRMlFBee+01Wb1qtaRLn06FscJuy71hwwY5d+685Na6LVEWYFeuXFmT1srQU1mvX78uf/65ULLr8w8ePGSiV61axZTdE7O5c+eZvOPHiydr160TfJavUF7NEe/L0qVLBBZGFStWkFix/pt8gsXmTZtl957dEpA6QEprP0AbuGP1+uuvm+e7i++pvCg4NGvr1603/SBv3rwSJcqTQxKet23rNokRI4bMmTNXChTILylSpNAyO2T37t2yScsYO3ZsKV26lLz66quGx9GjR2XLlq3aPgUEWqIs2tdy5cppwtz9Q/3v3r2nAsJfUr9GVTmu7XtANZuZ06d1Fz3C+N3ROt1/+CBclhd89x0+Ih0+eu+J8kWKFElaNW0o3X/8WYrmyyO4pyMBEiCB0BJ4coQJbY5MTwIk8FwRwAo7tDlzdcL577//StKkSVVAuShbNm+RosWKSvz48eX27dvyTfdvpFatmoLJ67lz56TRW42N2VvKlCmlX7/+kiNnDhk5coScPn3GxP344za20ANztR07dhihB5NkaFwOHz5shJIBAwZKlixZZNz4sU9wxaQfz/3uf98KnjNyxC/y76l/TbyHDx4aYQjlhdCzd+9eafX+B0ZAg2DSp09feeedZvJJu09k4oSJcurUaTNxHzt2rD4vs5w/fyFQ3seOHZO3mzaTq6oVwCQbwhvq2/2b7uZ5P/zwo0RV4QXlf/nll42ABG79+vV9otzTpk5XwW+xmchDkLikQtgvI3+RKVMnS5w4cbyWFcIQ6gxB4/z581K4SGEjpHlj1rdvX3lw/4GpHwQLlH3GjJkmPUwT0Z69e/WWPxcuMO0Jgef991qp4LDFfk7xEsVl4MABblmhzJ7iuytv5cqV5MMPPpSNGzeZPjBw4CAjcP0+dowkS5YsEC+0DfhAyEHbJEyY0Ag9vXr2kgkaFk8FOAijP//0swwdNkQyZ86swvYWY2ppMUJf8yb04IExokWTm6rRPK3C6JLV6yRHlkyB9qj9e+asTJwxV06eOiVJVbhtUKuaJE+S2JR10qx5RluxddceuXTlqhRR7UXNiuUC1cPbzZzFy2Ttxi3y8OFDKZI3l9SoVN6OjsWDcdNmys59ByV9QCq55bSwgEj7Dh2Ryfp87KfLnSOrnS44F9t275XZfy5R87JrkkkFvIa1q0tM/b6f0b4/4vcJ0q5Vc3OPvG5rn+g7ZKQ0rVfH1BvPmzhzruzYu18SJ0wgb9WpIYkTvG4/FmXOmiG9HDp2XDZu22nStGnR1A6fu2i5lCtRxKNAkz4gtUTT79OWnbslb45sdjpekAAJkEBICTy5dBrSnJiOBEjguSVQrVpVUzdoJeCWLl1mJmiWv/F0+gfTN2hO+vTtI39MGC8dOnwu19Vu/9ChR5oJp6hPXO7ds9doWAboBHvS5EnSuXMn2bVrl5mAPxHZxQNCw9q1a8xf5cqVzYSqc5dOJhYmwplUszRz1gzzV1E1VJMnTzEmehCoMCmGpmP69Glm4uyStXz5RUfjhWcsWrxQ6tZ9wwgOq1ausqNiYj5r9kxZtnypCiIlZc3qNUYgtCM4XWDSOGjwQFm6bIm0/7y94bVu7ToTw1tZrSzixI0jEyb+Id9/31uCwyxatKiy4M/5snzFMqOh2rp1q9Sr96Ypa19tJ2jpVqhWBG7E8BGG98BBA2XJ0sXGhBD1hEbOHStv8d2VF5qYdarhgdA5fvw4GaHCMIRn+Lk6PC8gILURhtA2xYsX03KuMAJPo0aNZPGSRTJx0gS5d//eE3vK8ubLK3PmzpaGbzV0zfaJ+3uq2SteML+sWr9BlqnQU6xAXjvOPRU8Pvn6O0mWJJG0ad5UXo0fTzp808sIYoi0c98BGTt1ppQpVliqli0lYyfPkNmLHn1X7Ew8XMxauERmLlgkjd+oqUJHNZmse3IWLF1hxx4yerys37xNGtSsKolUqIAQYLlzFy5K+249JEPa1FKrSgVZt2mrFRTk5xHdw9bth5+kfMmi0urtt+TI8ZMyYORoky7R66/JyX9PBSrHqnUbjICVLHEiE6eramH+1oWC5g3flCSJEkjbzt2NYGQ9ePvuffK/n4fI6bPnpaxyyZ0tixVkPrfu2i1ZH2t/AwU43WTLlEEgSNKRAAmQgD8IUOjxB0XmQQLPOYFCap4G7cjix/t6oKXAPp7SpUu7rTk0JdBg9Ovbz0xOYUo1ddoUt8KEawb51XwJK/ZxdVL/+5jfZfv27SYKNDXBddBKTZs2TZq3aC7FihUzyRo3biQ/D/jZCF7DdVIPDQS0MidP/h1ktjeu35D9+/dL/vz5JW3atEajU69+fZMO5m6WCwgIMJoR1B1CFAQJaIg8uaxqdoW4ED6gHYLpGVxwylquXDnDE1qW4DBLkiSp0SLheXny5DbPgYkfXO7H9zghDQ4aGGizzqvGbvq06WLs39R/z273E9DgxHcub/LkyY2GZvqMGTJkyFAVNmOa/gFBMjhu06ZHez3eqFvHcMuUKZMULFBAzd32yDXVWlgO+cEUDqZxQTkj9BTKJxNUexFbhd8Ej03lkC6SCrM9OuqetRpVJFXypNKwZjWjDTmjWiHLVatQRgrkziklCheQpvVry/wljwRIK9zTZ8E8uaRXlw6SJUM61bakk5KFC8r2PY/aAZqfOYuWSrv3mxttB7RHRfI+ajvk9+fylZIrexapr+XJkz2rfPB2I0+PecL/9Vfjy6Be3aWQ5pc6eTKpVamc7Hj8XER+s0ZlFcYW24LdnEXLpE7VimYhYb+apeEwhc8/fFcypUsjDWtVl4SqecQhC86udJGC8lHzJoI9OsUK5nMOUmHonCR47ZE5YqAAp5sEr78qZ1RooiMBEiABfxCI4o9MmAcJkMDzTQAT5UqVKumq/Hg5ohOejRs2SpUqlc3k313Nc+TIISNGDDfmSH3VjAymUzVq1pCvv/7KXfRAfsePH5dmb79jJrMw3XqoE05fHE6Z+/bb74yZ3UdOm94X6j6YTp06S5q0aXTSn8eeyAcn79NnThvNVqpUqezoSR6bNjlPsu1AXPiwDwFmcXHjxZXjagoE52tZfWXmukfCvn/M+uTfJ40p3O+/jzXlwT8Ie9jD5c75Gh/1hQYQwifM14aq4IM+009NAV93MpFy9yz4nVItBPokBBrLJU6SxFxCoxgSBy1dutSpJKoKn2WKFZL7D+7b2cAk8PDR49LjpyHaL6PIKy+/YoQBCEqWiySRrEtJkzKFCkXBm6y/os/rO2yUnNB9RLFV+Dune9tyPN7rdl6v76pGEPlZzm4r9Th15pyGpbSCJNJL/5XB9vRwEUsFwfHTZhntUMwY0eWOmq/ddapP6SKF9FCESWqatsNomI7p4kDF0iVMbtASXVXOtZt/YOd++/YdFVDO2fe4SPpYKxTIU2/uaJ3uq/YM5mveHMJvqMkhHQmQAAn4gwCFHn9QZB4k8AIQqKombvh9nG7duptN/lWrVfNY6+3bd+ik6Jr0/6m/MR/r17e/TJo0yQhOKR9P4K7rXhLLOeQ/wWaaHiSAPSYwbcPhB9u2bTeHBFhxvX1ib1H7z9qbgxdg9oWJseV+Gz3aaDrGjRtrBKqRI0eaTfBWuLdPaCaQ17bt2+xo27VccJl1v1FoHfYTnVetQZ06dUxWvpY1xMw8CJSoLw6g+G30r4YZCgWtgzNP5zp7iw+BzNXhyOv9+/fJp5+2M4IwDij4qstX8scfE6TNxx+5Rn/iPoX2IZRnx46dkk9N2OC2b9tmtEdJkj4Sfp5IFEwPmHplVbOqnWqeZTns5xk46ncZ9dP3qgGKb7zLvtnECn7i88rV6xJbNaHBccPH/CFJdE/MN5+3NVqU36dMVwHolEkaV7VtEHIu63fpNd275OrixtG9ZVf/02y5hnu7/3PFKtm976AM79PDCHo7dW9O974D7CQQcOuoydwM1fZg71KVcnqgyWMhBZowaLx+6dvLju/LBQRLHDCCPVSvqamgJ3dLv89xVBCkIwESIAF/EPhvRuCP3JgHCZDAc0sga9Yskjp1amNuliBBAnOKlqfK4tS2dp+0k99+G20OP8B+C7joulkcG9WhMVm0cJHZGzRm9BijObLyCkiTxlziJDbsIenXr5+5x7HZQbke/+thDkAoX76cEVBghoc/nMSWJiCN2fC+SE+hQ95/jJ8QKF8chACtzUItFzbGOztoJqCp2qongv34Yx+ZP3++4HAAnByHk95C6qABQx27ft3VZGGZ4gVVVtfnhYaZa164r1evntmL9EWHL83pZzBxq1qlmv07Rq6sgorv+owrVy6rcPq59OzR05xAZ7VttOjRXKO6va9du7YRXM3hCwv+lF7Kca8KadUfn9LnNlEwPUsUKvCEgAEB/qEK5pEfC9FLVq01mh5ohyx36OixR9of1WBM1z06+XPlsILMJw4k+G3iNDmsJxI6u0t6MEaUKJFt4WbDlh3ywPHQRIka9RXJmTWzOagAHjgkAaeeWa6QmsatWP+XnHqsYdmw5ZEgboV7+7xy5ZrRDEGQxfdjmR5t7VwfpK1WvowKRgdkoQpItSr/d7hCTjVfvXT5quD3dOAggP4xY7bRUhmPYPxLmSypaqrOeo357+mzgnh0JEACJOAPAtT0+IMi8yCBF4QAjkYeNGiwVNFPT6v+QNG0aRM5qwcZDB823OzryZAhg/kdHxw/DQezs8GDhxjBKF26dGZvCja3w+EZf+k+mT/G/yGjVWjCCWk4sviw7iEIyuEABbiJEyeZPyv+mrWrpeW7LcxhAZ3VxA37kSBgQHjBKXHYf4MT3lauWiWft/9chgwdbCW1P3EYAyaHKBcmsBkzZjR7hHA6XEhdVBUCO3fqYoSttxq9ZY6hRl7eymppNpyfGRpmzvlY18gPJ6YNGzpM2rT52OzvqV2ntqCt4FxZeYt/8uRJK1v7E7+B1K1bV8HJfPPmzZdEiRIZQQv9JjgO2sL+P/WT79SMsUOHL4zwWbduXfn0s0+Dk9znOBnTppGyRQtLow/bqRYxmuTWBQBocrCnx5qUQxvUrG0HcxJagJrdNa5bK9Bz8AOcEAyiqSCTNlVKO6xZ/TrytR4osGDZSqNxSafHqJ912iv0WasW8lXvfrJw2SrttzEkvgralsMJc7UqVZCW7b4UCIy5VBhxdd8PHC4/Dh5pe+fSAwV6df5cNTelZPWGTfLGOx+Yo8IL6alx0BrhdDhLo4OT3EqpmRu0sjjcwHKxtRzfftlO+mi+v02cqkKaw+w1elX34QXX5c+dQw8p2Gv2QXlKs11Pl6ut2iY6EiABEvAHAd2f6bRU5SHHq7qJl44ESIAEfCWAFWAcFoDN9u4cjk6GtsSdg6kaTHugZfGngzYHQo87oQ2vQ2h5cJKYJwfBB5oJbPQPqcNJcBC4tm7bYgQpPNddPb2V1d2zw4IZTA3Bw3kvCZ7tiZWn+O7KC7/Ll6+oWZr7PuApjbM/0sdRMy937ekczx/XEAgg8GI/jLP76vv+kl1N4mqrNuT23XsqEAUOt+Li2Odoatbl6gxLFTjwI52e6nFNBQ9PJnPYI6Ob37QPPZm367Nc76/q9xN9DyZnrg6n1r3z8efSse0H5vhp13DcX9PfxYqle4Jc+4e7uM5+OBq83Vffym8D9Kh3N8/epqe2jZowRX7+7mvnZLwmARIgAUMgJKavNG9j5yEBEggzApjAeRJ48FBPAg/CoqkWxJ0ggLDQOAgrniaWmLh5E3jwXGxqD43A41r2V3QS7Kme3srqmg/uw4IZfvDT3YTWEytP8d2VF36hEXis9J7a09MzQ+oPDYirwOOcF07g8yTwIJ47gQf+hqVqSbzVw5PAg/Rmj0wIBB6kjRMrlluhY/eBg/LDwGGSQs3L8Hs7nhzq665/eIpv+eM3faqWLy2jxk+2vOzPm7rgMXzsBGnbspntxwsSIAESCC0BCj2hJcj0JEACJOAjgQS6cR3HW4dksujjoxj9KRAomi+3/lZOwFN40tN7xF+bt0tCFUy6tGsdZg9tVKemEfSgbXJ2G7Zsk3ca1JW0qf8zA3QO5zUJkAAJhIQAzdtCQo1pSIAESIAESIAESIAESIAEngkBmrc9E+x8KAmQAAmQAAmQAAmQAAmQQHgmQPO28Nw6LBsJkAAJkAAJkAAJkAAJkECoCVDoCTVCZkACJEACJEACJEACJEACJBCeCVDoCc+tw7KRAAmQAAmQAAmQAAmQAAmEmgCFnlAjZAYkQAIkQAIkQAIkQAIkQALhmQCFnvDcOiwbCZAACZAACZAACZAACZBAqAlQ6Ak1QmZAAiRAAiRAAiRAAiRAAiQQnglQ6AnPrcOykQAJkAAJkAAJkAAJkAAJhJoAhZ5QI2QGJEACJEACJEACJEACJEAC4ZkAhZ7w3DosGwmQAAmQAAmQAAmQAAmQQKgJUOgJNUJmQAIkQAIkQAIkQAIkQAIkEJ4JUOgJz63DspEACZAACZAACZAACZAACYSaAIWeUCNkBiRAAiRAAiRAAiRAAiRAAuGZQJTgFO7MmfPBicY4JEACJEACJEACJEACJEACJBCmBOLEiulz/sESeuLEie1zxkxAAiRAAiRAAiRAAiRAAiRAAuGBAM3bwkMrsAwkQAIkQAIkQAIkQAIkQAJhRoBCT5ihZcYkQAIkQAIkQAIkQAIkQALhgQCFnvDQCiwDCZAACZAACZAACZAACZBAmBGg0BNmaJkxCZAACZAACZAACZAACZBAeCBAoSc8tALLQAIkQAIkQAIkQAIkQAIkEGYEKPSEGVpmTAIkQAIkQAIkQAIkQAIkEB4IUOgJD63AMpAACZAACZAACZAACZAACYQZAQo9YYaWGZMACZAACZAACZAACZAACYQHAhR6wkMrsAwkQAIkQAIkQAIkQAIkQAJhRoBCT5ihZcYkQAIkQAIkQAIkQAIkQALhgQCFnvDQCiwDCZAACZAACZAACZAACZBAmBGg0BNmaJkxCZAACZAACZAACZAACZBAeCBAoSc8tALLQAIkQAIkQAIkQAIkQAIkEGYEKPSEGVpmTAIkQAIkQAIkQAIkQAIkEB4IUOgJD63AMpAACZAACZAACZAACZAACYQZAQo9YYaWGZMACZAACZAACZAACZAACYQHAhR6wkMrhOMy3Lp1S65duxbiEoY2fYgfzIQkQAIkQAIkQAIkQAIk8JhAFH+RKFumjDx8+NDO7vXXX5fcuXPLe++/L7gO7w6T85MnTkjChAklXvz4z6y4zhyTJ08uefLkleo1qku6dOmeSZk+at1aLl68KNNnzAjy+e4Y+pI+yAcwAgmQAAmQQJgT6NKli6xZvdrjc4YNGyYZMmb0GM4AEiABEgiPBPwm9GDCmyxZMnmjbl1xOByyY/t2mT9/vmzbtk1Gjxkj0aNHD4/1t8t06OBBeffdd+XTTz+VevXr2/5P+8KZ4/lz52TJkiUyb95cGTJ06DMRfJq3aCG3bt4MFgZ3DH1JH6yHMBIJkAAJkECYEqhYsaJky5bNPGPhwoWyZ/duaanjY6xYsYxfAl0cpCMBEiCBiEbAb0IPKp4oUSJp0KCBYdCwYUPp17efTJw4QTZs2CAlS5aUe3fvyuo1a4xGJUfOnJIjRw556aVHFnabNm2SM2fOSE71X6oT/SpVqxoN0ZEjR2Tz5s3yyssvS/ESJeTVV181+R8/dswIVEWLFTP5n1MBIV++fJI1a1bZunWr7Nq1S7Ukecy9SfD437///ivr1q41WqkiRYpIMtWmHD58WFauWmVi7Ni5U5KnSCEIg3MXH/6eyouw0Dpnjs3eeUdq16oln6kwNnPWLDvrq1evyl9//SWnT52SXLlySXZlabkHDx4YBgf275f8BQpI+vTprSDziQFsizKCJqmo1vPlV14x/n8uWGC0XK/o/Y4dO+Ttt9+W+/fvi+NxamfmWAW8dv26FC5cWNKmTeuRoXN6ZAOBeO+ePeb5sXUALaH9Iv5jzdrRo0eNsFyyVClTt0uXLknZsmUlQYIEj0vADxIgARIggbAmULx4cfsRhw8dMkJPLR2HLKuNJYsXyx0dz6tUqWLiYbFu4Z9/mrHz9ddes8dm13HCyhTjwL59+8zYHjduXCldurQtUFlx+EkCJEAC/ibgV6HHtXCpUqU0XleuXJHrOkH+8MMP5agKMalTp5ahqrnIlDmzjBo1ysSZNXOmLNYXaZw4ceTy5cuSWwWWdevWSa+ePc2k9969e9K7d2/54ccfpWjRorJVNUgIs17CFy5cMAJUuXLlZNmyZYKJ+6CBA+WtRo3k448/Ns9YrYJNhw4dJGbMmHLnzh0ZNGiQ9O3XT06p4LB40SITZ+uWLRI9WjQj9HiKD2HKXXmtspiM/PQPK2sFChYUDDInT56UFCqQQRBrqRoYCD6oC+rR+qOPpEmTJnL+/HlproLSTdXOQKgZqAyyZc9u4rysguPo0aNl6JAhZoC5rQyiRY0qw0eMkICAABkwYIDcV4HpqrZX5MiRjdAz+rffTHuUL1/eZg4hJVKkSMbsDWYOSPfPP/+4ZeicHkj6aPtNmTJFMNChXwzRsvz088+SUU0lIEgifMzvvxvtEvrBzz/9JL9pGWhK4acOxWxIgARIIJQENmzcKDPV5BmLjKlSpZL169dLTx2Pv/jySzNOYWx2N05ggQ4OY/PYsWPNIiYWt0b98ouM+vVXewEslMVjchIgARJwS8CvBxlAMMELDHtA1qhGZ9KkSUYQgUZnv2od4qpA06dvX/ldX3afq/ABjQPM3yyHPUGNGjeW2XPmSKZMmUxYhQoVZIYKRPB7TVeQ/hg/3opuPhupUDNn7lwZNHiwQMOB/ObOmycLdNUJeUBrBHfjxg2BnTJeurNmzzZxIDBAKKiqWqVvvvnGxIN2o7PG8xbfRNR/ruW1/P39WahQIZMltFdw3bt1E7DGPhvUtZiuyo1UwQVC0PLly+Xs2bNmAPpNBZx27drJDRU4oTGDYDJchRRoscBgjjKFpm3ihAkmX/y7c/u2fP/994G0Snbg44u33npL5qnp4gh9pqpuzAqfO4au6SBEQuCpX7+BabMxavaIemCAdHbVtD2Q/0gdCMF4xYoVzsG8JgESIAESeIYEKqn5G9zKlSvNJ97tWCgro3t7LedunEDYRhWYIPA0adrUjAMjRo40C4/jx42zkvKTBEiABMKEgF81Pdt1H0/lSpXsgkJL8WXHjkazA+0ODjY4cOCAEVwOqcocDsKQtfqDewgxlsnbV199ZbQM0Nwc1D030FQgvrNLnyGDuYX2BdoHaDVix45t/LLoKtS0qVONMIB0t3VCnyRJEln0WKuTNGlS2bt3b6ADGKy896gJVnDiO5fXSuvvTwwmcA9VqLurJgW7VViEZgSaMDhoTaC5gmADQQ/8BqgwV6NGDSmj5mFv1qtn4sF8DYJhOdXaYI8V/garpgWmCZZDvhCivLnMWbKYYJjUYaUPZnbBcTCpg6tZq6ZpS2hvYJIIocb5hLg8efOaeFn0OTC9Q5+hIwESIAESCB8EculYjkN/Vuq7G2PgGjUZh0UCxiLLeRontqg1BRzmB1h4g4OFB8ZiOhIgARIISwJ+FXpwwlirVq1EpQ+jtobJlHWAwQk9Ge39994zk92C+nJ0PunNUwX7qlZoyuTJklcnxhlc9qV4SuPsDyEIDvbD0HLAYX+Q88s1ZcqUxhTMBDr98zW+U1K/X67VAQUOG0tPnz5t9tmgfBP++MN+Vpo0acyeKQiQA9XcDWEwDevbp4/RZEH4hCYILnHixHY67McJjcPAt1P3QWG/VlAO+48gkKVQszvLJXpcFmjW3LlHLeguhH4kQAIkQALPggDGVpg8j1fLCwg+l9XCA/eenPM48c/ff5toC1Sbb43RMA23DknwlAf9SYAESCC0BPwq9MSLF8+jlgB7YGD6BtM2bKzfqRvlcbqbJ4c9KRB4sKGyt5pbwUHb4yywuE2rAo47l0y1OnA4leYD3VtkOQhflmbJ8sOnr/Gd0/rzGlqY9arRgWlfSrWdvq/mYEZw0L09MAuwnFUPCCDQmnz/ww9Gg4P9NtB2lVczwaR6uh4czOSgdYPD6XB4RrVq1cy9r/+QV3bVrlmHIXhLjwMiUE7zfNXMwaEfYHXQWRDzlgfDSIAESIAEnj2BimrVMU5N0vr372/20OKwIk/OeZywxqFP1PQaC6Bw1vjlKT39SYAESMAfBPwq9HgrUGrV+sDBtAxHMf+qm9PhnE2rjMfjf9H0MAFMhHGyGk5bO6Ine0FL85KaeuEF6auDOh6ap6kqAGBFCWZgs/Q0NJjMfd21qznFDatOOGkOJnJBxff1+b7Ex2EEUPvjNLv5umcHmqofVIhB+SBcVKte3RykgE3/OP1su+5jWrp0qdkIuk1NyHCwwUdt2piT1SAkweHAAmiBwHSq7qt5VQ8jwOk70ARB4PFF6MGmU7QBzNJwqEJNPdUHDifhOTOEeZqzg7kd9mT10Wc2a9ZMtqvAA7PD+s/wiHDn8vGaBEiABEggeAQyqGl5ajVbP3bsmJTS09ewR9bZeRonMNZg/w4sObCHFuPxL7qAV/fNN6W6jm10JEACJBBWBPx6kIG3QkLDgr/JerhB+/btjQCC+DjNzZ2DNgO/mRNVJ+vYjA8BBZN2mFFZpmfu0nnyg3DzowoJ2LOCE8Patm1rXtYN9GhtOByFjZcx9slAEAgqvqfn+MMfg8h3334r2IMD0z6Yq2F/kuXAA4IGDnhoo6e2zdZDCZrqplAIig31kIE3dfDAgNNIr7E3CXXFEeE40Q6n38F++lvNv5+eXIeNp1hx88VhLxQEFwhP2JNTu3Ztk9yVoWueOE0OhyTgJD8cKoH61dK0bR6frucan/ckQAIkQALhlwDGdDh3pm2exgmMAxg/HujPIXzTvbt07tzZnNDqTVMUfgmwZCRAAhGJQCTVIri3B3OqxZlzF53uQneJwwEg0GACHlyHvSiYqPvLoQzY0O+6MoX8MSGPqmVzNtfyFt9fZQpJPqgDTNlgVujqoInBPhnrUAfXcKSD9se5nq5xXO9n6GlxOGkNQhiEHbByZ4ftjqFrXjiuGmVzZ1roGpf3JEACJEAC4Y/AAP25gWnTppnTUrFACRfccQJxMbZj3y8WGelIgARIwBcCiRI8+t1OX9I8NfM2q1DQRvjq/Cnw4NneyuBuEu8tvq918Wd8nOrmTuDBMyBMeBJ4EO4tDOHBce5YIZ0nf+c8nU/5cfbnNQmQAAmQQPgmALNm/E4PfpYCR1NbAo+7UnsbD/w9trt7Pv1IgARIwCLw1MzbrAfyM+ISiK2216nUhts6kS/i1oQlJwESIAESCCmB42qCDY0OzNpatmwZKBuOE4Fw8IYESCAcEXjq5m3hqO4sCgmQAAmQAAmQAAmQAAmQQAQjEBLzNmp6Ilgjs7gkQAIkQAIkQAIkQAIkQAK+EaDQ4xsvxiYBEiABEiABEiABEiABEohgBCj0RLAGY3FJgARIgARIgARIgARIgAR8I0ChxzdejE0CJEACJEACJEACJEACJBDBCFDoiWANxuKSAAmQAAmQAAmQAAmQAAn4RoBCj2+8GJsESIAESIAESIAESIAESCCCEaDQE8EajMUlARIgARIgARIgARIgARLwjQCFHt94MTYJkAAJkAAJkAAJkAAJkEAEI0ChJ4I1GItLAiRAAiRAAiRAAiRAAiTgGwEKPb7xYmwSIAESIAESIAESIAESIIEIRoBCTwRrMBaXBEiABEiABEiABEiABEjANwIUenzjxdgkQAIkQAIkQAIkQAIkQAIRjACFngjWYCwuCZAACZAACZAACZAACZCAbwQo9PjGi7FJgARIgARIgARIgARIgAQiGAEKPRGswVhcEiABEiABEiABEiABEiAB3whECU70q1evBSca45AACZAACZAACZAACZAACZBAmBJIlOBVn/OP5FDncyomIAESIAESIAESIAESIAESIIEIQoDmbRGkoVhMEiABEiABEiABEiABEiCBkBGg0BMybkxFAiRAAiRAAiRAAiRAAiQQQQhQ6IkgDcVikgAJkAAJkAAJkAAJkAAJhIwAhZ6QcWMqEiABEiABEiABEiABEiCBCEKAQk8EaSgWkwRIgARIgARIgARIgARIIGQEKPSEjBtTkQAJkAAJkAAJkAAJkAAJRBACFHoiSEOxmCRAAiRAAiRAAiRAAiRAAiEjQKEnZNyYigRIgARIgARIgARIgARIIIIQoNATQRqKxSQBEiABEiABEiABEiABEggZAQo9IePGVCRAAiRAAiRAAiRAAiRAAhGEgN+EHofDIT/9NEBOnTr1VKo+ffoMWb/+r6fyrGf1kLt378qDBw+e1ePD7Ll79+6Tkb+MClb+27Ztl9/HjrPj3r9/374OyUVo0zs/01s95syZK8uWL7ej+/O5dqYeLm7evCnTpk2Xzl2+kmvXrnmI9Z/3hAkTZdOmTf95PKWrY8eOycCBg5/S00S8tddTK0Q4ehD6ZP+ffpbTp0+Ho1I9m6IsWrRYFvy58Nk83OWpd+7ccfF5NrdDhw6XgwcP2Q9/mu8w+6G8IAESIAE/EvCb0HPi5EkzgEaNGtWPxfOcVd9+/eXvv//xHCECh6xYsVIaN35bcuTMI1my5pAWLd6Vf/55fuq6Z88e+eWXX4PVQhB6xv7+SOjZt2+f4RHSSdqY38dKxUpV7Ocin9D0IW/1mDN3nixftsI8y5dyX716VQ4cOGCXMSQXbdq0NUJlkiRJJEqUKIGyuK9C9J49e8V5YvXHhEmycdPmQPGexs1RFXoGDBz0NB5lnuGtvZ5aIfz8oND04Xv37j1eqKLQs3DRIvnTg9ATGsZo7qrVakjWbDnMX/4ChaXdp+1l9uw5gu+i5fC9h3/OXHkle47c8naz5jJ5ylQr2HxWq17TzidX7nxSuUp1+WVU8N6jgTIK5s3QYcPl0KFHQo/ru9NbFqHl5S1vhpEACZBAaAj4Teg5sP+AJEqUUF599dXQlCdYabF6jclqxozpgxU/IkXCJL/Nx59IpcoVZcNfa2XihPFyT1dkv/2uR0SqRpiUNV26dPLrqJHazxKFKP/q1apKnx9/sNMOHDRYevToad+H1YUv5V65cpU0aNgoxEW5cuWKrFy1Wnr36iEftf5QokePHiivy5cumUnY8ePHA/nzJmISeFp9OGLS8U+pQ8v41q3b0rRpE/lzwXwZN26MZM2aRTp26iI//zzAFBBWEk2avmPGtMmTJ+h7f53Url1LvvqqayBrhlu3btn5TJr0hzSo/6b87389BVYPYe1c353enhdaXt7yZhgJkAAJhIZA4GXgUOS0X4WerFmyGDOZzZu3SrlyZSVt2jSBcty5c6d5iSdLlkzKly8nL7/8sgmHSRxWmgvkz2dW25InTy5lypSWSJEi2el37tola9esk8RJEkuihAnlpZdeEkwm4R4+fChbtm4VCAwlS5SQ9Okf+duJI9DFd//rIYUKFZTGjd4ypc6VK6d81aWzrupVE5gDpU6d2vhD6MMEGSZwJUoUlzRpAow/TBCm6AphhQrlzeT333//NVzz5ctnNAirVq+R1KlSmTQWf6xwpk2b1pgm7tA2ShMQIBUrVpALFy7I0qXLRBtCKul93LhxzTPwD2Z3CDt0+LDky5tX8ubNY9rEjuBysW7detNGAVr+hzrIuzpospZofmjzCuXLGwHaNc716zfkpGoU797NK9Ao+lruc+fOmTqC6dSp03QV87DcuHFDYN5Vt+4bRisCfigr+lvmzJmkdKlSgYoRVD0CRX5841pueB84eNC0X5YsmaVAgQISJXJkWa1ts2btOqOFQZnQrkmTJn0iSwg2a9asleMnTkie3LmlYMECJs6JEyfNBAh1WP/XBrl69ZoULVrETg8N0grtM3Dz5i/Qut+U3Llz2eEwcdu0aYvpf2AEh9XoKZOnSLFixYy5XjrtJ4ULF5KgOAWnPa0Hnz9/XuYv+NP05fLlyknKlCmsIK/9bOHCRdrv08jlK5dls5YbHKxyWxkEt72Ck9fmLVvMc1KmSqnvmeK2QInv2IaNm6SYsoaJFLRoZfX9lVr7+pq1a2XXzt1uy+aN0c2bt2TFihVy4eJFARMsKLk6T30YGpwNGzbK9h07BN+38vouQP/y5BB/xoyZ8q++hwsVLCh58uQOFHXXrt2mvyVI8LpUrVrFfPcCRdCbkDLwxBTvcnCMHTu2rFIhPl78eFJNnx0zZkzz6KDCEQnak+WqNT996rT5HkDYsBzeX3PnzTfvk4IF8lveT3z6i3HcOHElefJkJv8M6dObd/k8ff6n7T6RJUuWqunlXlm1crndzrVq1jB+gwYPMd9Hq2Cu+cxWM1r0PQhJYemc3514Dvht0jEb78nixYrqAmRG83hPvMKybMybBEiABIJLwH9Cj06odu3eLb17/yiJEieSH/v0lZ49/qeTyTqmLFj9+e23MVKlciVZtHiJ9OnbT5YsXmjCli5dLv36/2QmeJgEQq1eYVUF6d7taxP+xx8TpFv3b6VUqZJy96+7gkE4RYoU9qSjSZNmcuXqFcmRI4cMHjxUPm7zkTRr1jS4DMJNPAwku3fvkY4dvwhUJghxkydN0PrGMP4QdmDyhsnyXZ2w9OzVW/r2+cFMSCAEYRVx1K+/SZbMmeX8+QvSt29/adCgnpk85M+fX379dbTRyM2aOc3kN2jQELmoGoB06dJKrFixBPeYEMAMKkf2bHL02HHp2rW7rFu7WuLr5AMT4caNm8qlS5d1MlFYOnXuIgkTJDSrmIEK/vhmxIiR0qNnbylapIhs2bJVtm/fYQu8iIKJYcuW76uAUVLOqmDST00XJ0+a+ITQfPr0KVM3CGQQenwt99q16wV9qbL2wf0HDsqli5fMxAp7PSA4o17NlevRo0elcKFCMnTocMHk45tvupmaBFUPE8nNP9dy9+nTT6brJLNM6VJm782D+w9k/vw5ZgKGifCDBw/N/hNngcTKFgsEdd54U6JFiy74riCvt99uYgRjTPIOHzlioh7U+sXRCaOzu3DhosAf7siRo5IpUyY7ePLkqUaIxCQZE61mbzeVzz5rJ/ce9ycIX6+99po0adIoSE7BbU88HH2+sX5/URdM1LEvcMb0qUaID6qfDdLvOibG0aNHM4I83jFWuZG3L+0VVF4//thXJqnwV7lSRRVGVsoXX3SUNatXmO/Lvn375csvOwkmsxCUt2n/Hqhme6VLl9Y9EQclrQpmYNqgQX3p9Pi77Y3RJf0ulixV1giXmOT30u9Oz57/k+rVq6FatnPbh1XgfeedluZdXLZsGRkyZJhk0P1z48aO0T4TzU7rfPF5hy+03JkFE1vUs1+/PlKzRnUTZcCAQTJi5C9m0WPc+PHmvTJ92pRA319EDAkDb0znL1ggM2fOktdff13S6+IWhGK8t+bNnWUWV4IKP3PmrNSq/YaOKUnMIhnMoX/4vpfN8L33WplFoUrangsXLjbfvZIlSzhjMdf+YuyaceSXIkuMGI8EOLwPs2XLags8VtyOXwYeByx/6xOLUvv03VWndm3LK8w+nd+deEiDBo3M2JM9e1YZqf0Di5zfffuN2/dqmBWKGZMACZCArwRUte4XV75CJceXHTvbeakQ42jStJm511Vhx+eff+HYtHmzudeN1o506TI6dK+DuVc1vkM1GQ6dtJl73YTtqF69lrk+fvyEI63G1Y2m5h7/dFB3vPf+B+ZeJw+O3HnyOVT1b+51cHR8+tnn5jqi/Tt06LAjdUA6m4u78qtQ48iaLadj+PARdrBOqAyD69evO1RzYfJQkwc7XO3DHZkyZ3PoirrxA1M859ixY+YerHUSZ8fXiZIJ1xVI269I0RKOCRMnmfvDh4842rZt51Chx9zrBMO0ka5W2vGtC8TJnCW7QycslpejV+/vHYUKFzX3usrs0L1LjrFjx9vhzd5p4fik3WfmHukqVKhsrpE/yn3x4kVz72u5nfNCBrrR3/HBB61NXvgHpoUKF3OoOaHx09VkR0Ca9A4VgkxdvdXDzuTxxfutPnR8/XU3c+dcbtN+WXM4LLbot2+91cSxdes2E1dt/U1buuZn3eM71fLd9x34TsFt3rzFMMEn3P4DB8y9TmDNves/+IPh/v377aAaNes43n2vlUMFP+P322+jHeXKVzTX+K4i/vARI+343jgF1Z52JnqxdNkyR5q0GRwqXBtvpK37ZgOHCi/mPqh+5q3cQfU753Lg2lteYI13ivX+QnzwASc4tCXeUSdP/m3u0ca6L8N+h8Fz4qTJjsJFihvGQTFC/a33H9Kq1i/QuxV+lnPtw3gXFChY2KEmwCaKagUdefMVdMDf1VltO3r0GDsI383GTd429zt27DD9Xzezm3sVMM131XoP2In0wlcGQTHt0bOXA2PK7du3zWNU2HekS5/Jge8kXFDhzZu3dHzUpq2Ji3+6gGH441qFVtOnrfcVylK3bn3HJ598iuAnXGgYI7PSZco7fvihjwPvSbxz8R7Kqu8Aizvedc7voScK8NijTNnyDvxh/KtXv6HhoQtO9rvAU7qQ+uv+Iodqo0xy53cnvgfo79Z4vXPnLkf9Bm+ZsQeRXXmF9PlMRwIkQAL+JuAXTY8O4nJUV4579PjOlrmyZdUVoBG/mPvIalrRu3dPs+o5ZszvxuwGATfVhANOJ2pGSwFTBjisumPVGm7R4sWqwcluVpKMh/67d/+eZNMVJjiYysFmepBqJ958s65ZkYQpVkR0qDdc5MiemwWaIJhkVapUya5ijerVRQdVYw6RRU0M4QICAuzwnDlzyA01DcNKPRzMh7CCjNXZVGrqBucaH34lnFY+sYKNDflwMKXr37+vwJzqzz//1BXi82blVyepRjs0RU3H4JIlSypv1Kmj7XNLsOpsOZhIqc2cuUUZsEfrwQOY5T1KFzdOHNmj9QyO86XcQeX3l2oaYJI5Y/pMOyq0CNAExY8f32s97ARBXMCkEKvqWHk+p2ZdFStU8Kghc80KWpHNmzdLt25dtY88MleCKVLy5MlkrZrFuZoluab3dg+tkmVOij6kArgxYbPSwITRct44wZTPl/bEQQvoW3C4LlmyuDH7a/3hB177maWl8lRu9FVv/c6qi/Onp7xQrj4/fq+azUuqkVtgtGlgBUaWQ7uiHeAetXEmNSv9z2wKWldo6fBeU+HIK6Ps2bLpfo+B8p3u44M5Wb16b0r9+vWsR3n93KB9GKaI0NjCxdHvUunSJY1p8IcftHKbNnv27LY/vqc6wRUVNgTtjP1zMCXDHxzeHZ6+m74wgKlsUExxEId1ME7ixImNKSa03HifwXkKx3gBk686dWrb7xRowMEfbQhTaGgurT6E71LqgFTa3/87WMA8wMO/kDCG9YIuHIgO4OZ71Uv33NXXdrXcHS2f5aBVnzJ1qnUru3ftsK8xrkKrgncBTDuXqklwlcqVA5mx2pHD6CKlWlmgX7X//Aupp2Nu8eLFZMIfjw6bCaNHMlsSIAES8AsBz7NrH7I/rPs6YIoC8w7LnT17zpgm4F5XctVsqKXZ85MrVy4zGUF8mFPBYa/Buy1bmGv8O6gnxqRLn87cb9LBC6Yvzg7xGzyeBKRKmVLmzpklMG2pXaeuefn36tlDTQcCb+B2Th9eryEkwMHO3WJjlRX7N+LpRAHmT9icbsVFOOz9X3nlFbl8+YoVPdCnNZl19nTnZ4W7C3P209VjafhWY1MO7AFIoiYkL70UyQzo2NtjHWYBwUq1MqZszuW1noNPbKjH/ixMsJxdHs3HV+dcRiutOz8rzPUTZYkS5eVAR02X0j09EMZRZzD2VA/XvLzdjxnzqzmZCfsosFkZZkvffdvd8PSW7vLly2ahAOY+zg6mngjzt8MEzZ3zxim07ZlEJ7dHjx4zj/XWz9yVy/JDuf3VXhYDnKyl2jhjYpsmILXpCw5xzwflcO13zvdBMcJersm6UX3q1OmiGm3zLBxMUUz3TgTl8H7Ad9LZpUiewgjuzn6ersFfNTq6R+eUHFezVkyunY9eT6nvW2uhxFMelr9zneHneu8rUyxwHXlsvmk9w/nTCsc7R7XecvjQYTXvPW9HqVKlstbtrukbAQGpbX9fL0LCuP1nn0qrVu+ZfWuq+TGmhNZzMb5ByFWNkxH8P/30E/ngg/d1j99agemhs8OCiWXmWKtWTRM+ZOiwpyr0JEiQQMfcmaLaS+n9/Q+imio1KW8t777b0rmovCYBEiCBcEfAL0IP7J4T6z4erP5YbvXq1VKqdClz20f392AghnYADr9hgviYTML2GpP1DBkymDD8w76DDBkf3cfUFUsMwpZDXAhUiI/VO/xWTwHdiIo9LdCAVKteSxaoPThW+SKaixEjhjmEYa1uUndeBVSTCClXvpLMmzfbTDiwgr1jx0570/aWLVsNC1fhMKzqP2fOPLNXaNXKZfZKLNoYkxpMiJwnRdBMoZ126YZX7LlydVg5xsQKEwKscD9LhxVMrYQMGvjzE8UIqh5PJPDggQkZNEdNmzQ2fziQokrV6noYRB5p2LCBh1SPvKGpgyCJPm9t2Md3A+1f9406XtP6M9AbJxxW4kt7WkKFVT6swhfWgzzgvPUzK76nTxyG4q3feUrnzh8aTAioWFyxvmM4ICHSY22luzTe/ILq82hP7GXp3r2rfP11F9WS/yCftf9c/lq/1lu2JgzfvfV//WW+T1bkdevXm/191r3rp3Mb4NlYRIE2F+W8d++u9Nc9PtDi+NOFhOlGXQBro5NrT84Kx6JLTH2XlixVItBimpUOfWPKlGlmoc7bAQ9WfNfPkDC28sDCSbtP2uoe1W+koe7xwncaGkYIaTgYAIfYQAuGP+yfDMqhrhs3bg4qml/Dj6hVx42bN+STth+bPxwCoua8RgPlrHn360OZGQmQAAn4gcBLfshD9quJEgSRpcuWG7OI8eMnmGuovuGi6wCEyZnakIvaA+vG++91c+9/Wh5oZVKkSG4XBSdbWVojqPKx4nVIV+0g8HTs2MkMwAE6KGMAwQb5X38bbSZaWIHD5s548YIeLOyHhbOLzz5tJwv1h/JgRoOVP7BAHcEBTHACEQZJ/KgghCFMHvBbJxgsYbLxNFxAmtRGs6D7Qoy5Dky10DY3VRhzdZgkQkDFBnWYw0HIffRjo49WyWFKhTphUzPqAlNJtXUP9o+Xuj7Pl/tECRPJKf2tHmgd4WBGtFI3qU9V8zyUA9q1Vh+0NtqqoOoR3OdiIq77cmTixEn2cyNHfsk2L4Q5EUzEcEiEO9e48VuieyrMCXNgjpVWLDbAxCQ4DnGhKYSJVUidd06+tSc499GDNmDqivfHokVL1ByrlCmaL/3MtS7+ai/kmzBhAiNs4t2FcuLUrWXLV7jt767lcHcfVJ/H77N82Poj806FQBI5SmS7f7jm59qHmzRuZIRi5IHFEfSzbWqaVrNWDdek9v3PAwaa9yY06KPV/LhUyZImrFq1qkZwhOnspUuXzHdd92uYAyfsxCG8CA5TbPDHH74zOAQH73eczmk5T+FYfHmzXl0Zqz9qvHbdOmMujYMjPmvfwWijq6rGB3n21UNAYIoJPov1cB0NtLIO9OkPxs4Z1qlTS5Lpu7p//0eLK3nz5DGLdN98+53gnYo2x/cfP5hqmXxb6W/dvmXetbo3T2boQQ84gKRs2dJW8FP5xIlt9eo1NAcKmf6p5oEop2U+7crrqRSKDyEBEiCBYBDwj9CjgyVe5L30FLFs2XPJzwMGmBOArFXRli2ayxE1WUFYly5djTYjysuPlEz79CWfXifzlukDJhX//POv8UP5S+m+Epyqgx94K1mqjLykL1gcr2yt0H31VSczYCHvWrXr6klWTY0JSjDqHi6j4GQy7H/CAJg5czY9aayambx07tTRlBecoInAoF2+QmWpUbOWRFXhb9jQwU+tPkUKFzaaqMZ66lbevAXMBBpmhjBzdHUo74AB/c0JcKXLlNPfH6piC7SIC3v6IYMHGaG4QsXKkit3XsExrJiYhLXDKW4Q1jNnymomfWDfSTl3/+Y788OwtbU/WeZ6QdUjuGXF3gS0H041v1IGAABAAElEQVQrzKE/QvhmvfryZt269rG02JeTXU/My1+gkMzVHzh1dVglLlasiPnxwoKFipgjpkf9MkJgchIch4WCt1SjBGGua7dvgpPkiTjeOPnanlipvnjxguhhJGoe877k12PrcaIWnC/9zLWQ/mov5IsJXedOX8rw4SP1HZbTnGZWtEhht/3dtRzu7oNi1PHLDmavYvESpfT7kM+Y1Vmnvrnm59qH8a7s0qWT2Q+EHzcePGSoMZ3EyYmeHBYlcFpcJX3XYGGqtf6+Exz2zIwYMUxPN1skBQsVlSJFiuu76LatZfSUX3D8g8MUCwBf6/4W1AMnVHbo0N5YCFj5ewvv8Hl7Pf2usDRr1kJ/0DOnfq+7yBtv1DbjDL6D/fr+KGPHjdd+l9+YiMHs2pPzB2PnvGHOi7rgWHos9KCv4p2PI9dbtHxfMur7qFjxEoIf/J49a7pzUmMGh+9K0WIlzfH0WCRDXZ+mw2/2NH+nmTFxBtvvVSju1vUr29LDldfTLBufRQIkQALeCETSlRr3y1veUnkJw4ogNn27c1iZjhfvv996cRfHkx9W5GDagwHDnUPeceLE9hjuLk149wNL1BkTVXcOExRMoKzNvu7ihKUfBC9s/g3u/imYdqFvYJB351AftS8Ldn7u8vDVD4dHYP+Hc5/FVwJltVYuXfMMqh6u8T3dYzXXkwkL2h4mLp76O7SAWMl3XQn29CxXf2yoh8YnNGZLQXHypT2hCYbWx9qA71xeX/uZc1pc+6u9UF9wQ7v4y3ljBB6oO94B3pynPox9Xs792tc8nOOjr8bW96u12OQcFpprT0wh5OxTC4LRv40ymo2YMWME6qtBhVtlwvcEmlN34447blY61093cVF2Xxi75unp3l/91VP+/vJH/a9cuRpqtv4qD/MhARIggaAI+F3oCeqBDCcBEiABEiABbwSchRp38YIKd5eGfiRAAiRAAi82AfdqkxebCWtPAiRAAiTwDAm89uprxrzOUxGCCveUjv4kQAIkQAIvLgFqel7ctmfNSYAESIAESIAESIAESOCFIEBNzwvRzKwkCZAACZAACZAACZAACby4BCj0vLhtz5qTAAmQAAmQAAmQAAmQwAtBgELPC9HMrCQJkAAJkAAJkAAJkAAJvLgEKPS8uG3PmpMACZAACZAACZAACZDAC0GAQs8L0cysJAmQAAmQAAmQAAmQAAm8uAQo9Ly4bc+akwAJkAAJkAAJkAAJkMALQYBCzwvRzKwkCZAACZAACZAACZAACby4BCj0vLhtz5qTAAmQAAmQAAmQAAmQwAtBgELPC9HMrCQJkAAJkAAJkAAJkAAJvLgEogSn6gcPHw9ONMYhARIgARIgARIgARIgARIggTAlkD5tKp/zj+RQ53MqJiABEiABEiABEiABEiABEiCBCEKA5m0RpKFYTBIgARIgARIgARIgARIggZARoNATMm5MRQIkQAIkQAIkQAIkQAIkEEEIUOiJIA3FYpIACZAACZAACZAACZAACYSMAIWekHFjKhIgARIgARIgARIgARIggQhCgEJPBGkoFpMESIAESIAESIAESIAESCBkBCj0hIwbU5EACZAACZAACZAACZAACUQQAhR6IkhDsZgkQAIkQAIkQAIkQAIkQAIhI0ChJ2TcmIoESIAESIAESIAESIAESCCCEKDQE0EaisUkARIgARIgARIgARIgARIIGQEKPSHj9kKlunfvnjx8+NBrnW/fvu01nIEkQAIkQAIkQAIkQAIk8KwIPFOhB5NpOv8SmDNnrixbvtxvmd65c0fef/9DOXnypNc8W7R4T44dO+Y1DgNF7t69K/cfPCAKEiABEiCBxwQwdgwcODjc8ti2bbv8PnacXb779+/b12F98UDHi5UrV0nXrt1l565dQT5uwoSJsmnTpiDjRfQI4b3PhBXfvXv3Se/vf5BZs+eE1SNCnS++H/1/+llOnz4d6rz8ncEzE3quXbsm2XPklt279/i7ThE2v46dukjDtxq7LX/FilXkhx/6uA1z9pwzd54sX7bC2StU120+/kQKFiwgqVKl8prPxx9/JI0avy2XL1/xGA9fgL///sdjeHgOuHr1qhw4cCDERTx37pw0Vj7ZsueSbNlyCrjeuHEjxPkxIQmQAAk8LwSOqtAzYOCgcFsdCD1jf38k9Ozbt0+yZM0RrAkdFrj27NkrWDwMqRs16lf5rH0HiRMnjsSIHuOJbA4fPiKXLl2y/f+YMEk2btps3z+vF+G9z4QF9507d0qNmrXlxvUbEj9evLB4hF/yhELjp58GyKlTFHpsoLFjx5ZfRg6XjBkz2H4v+kXVKpVl/fq/nhAMduzYIQcOHpSqVas8VUR40R86dFhatGwe5HMhGBUtUlh+Gz3aY9yBgwZLjx49PYaH5wCstDVo2CjERfz6625y+85tmT1ruowZ/atg4AzPg3yIK8qEJEACJPAcE0iXLp38OmqkJEqUKMhaXlZhpGq1GnL8+PEg43qKMHv2XHnv3Rby2WftJG3aNE9Ee7/VBzI7HK/6P1FgeoSYAPpCieLF5Jtvuklx/aTznUDkbup8T/ZkCkyQjx8/oasfp2TGzFly/sIFSZc2rZw5c8bc//3335ImTRp56aVHyiVM4s+eOSsZMqRXafCUmmStkLhx48jUqdPkgqYNCEgtkSJFevJBz7FP8uTJZdKkyWY1J1++vHZNR4z4RW7dui3tPvnY+EGbMn/+Alm9Zo3EjRNXXn31VTsuND2xYsaU0qVLyZYtW43QkipVShPucDhk4sRJkjBhIompceCgwfhz4SJZsWKlRIsWTcMSGH/8+0on6oULFZRixYrafjdv3pLFi5fIXxs2mJd+rFiP8kGEeLry8N13/5OmTRrLyy+/bKfBBdp19eo1pl+8pO2aKVMm0xewIgBBb87cuXL+/HkJSBNg9xHnDKAuBZukSZOa8i5dtkz7h5h7aGDQ5y5dvCQpUiSXyJEj20kx2MxWk789qlFMkiSxxIjxaKXM6nMo87Tp02XT5s2S4PUEpg/aiR9foNxLli7TFbs98pqyBm8I7cEt+61bt6T951/Il190kCIqGCZLlsy08egxv0uL5u+4Po73JEACJPBMCUBDgfdt8uQpZNmy5bJ8xQpJmCCh/X6Exn7RosWSJUtmu5xLliyVGzdvSKKECQXzgSNHj8rNmzdl2rQZOg4d0rySmzF9oY43K1etDvS+hanSnDnzpGGD+jJ1mr6PVVPx+muv6/Pi2vljDFizZq3MnTdPrt+4LgGpU5swq6zx4sWXmbNmy80bN804YCd8fHHlyhVZqu/xxVrOhw8eanmS2VFQJuSPsWjb9h2SNWsWOwwXqM8uNS1r0qSRjpnXdGzdYuYuUaJEMfGgyZ85c7acOHHC5IvxD+PSgj8Xyiqt62uvvSZRo0Y1Y1CgjPXG0ziCfbJTpkzVfGdJQhWwrulYnTlzJjv5pUuXNWymts1KM+ZhbpUuXVqZoJoefOrwKLNmzRGUMXHixCadN1a7du2W6dNnmjpgrmbVDQn/+ecfM8buUE1D4kSJxXncNxnrPyvvkPaZP5UVHKx/MB+4cP6CEfIwL4DZ/m4df1NoH8I8BS4s+gxMCTdu3KTt9qfOkWLI66+/bp4V1D98H9B/N2/eYjRy8ePHN0mCYmLl6429FWfevPkyfcZMcajHA+2rKVKkMCw89R+kQ789ePCQnDt/Tuc5MyRv3jxu51fenu9pDoX8sdd769Ztpn0cWrIkSZKY7zi+S4MGD5G6b74h2/X75Pr+QNpn5fxm3jZi5C/ySbtPdfV6sOzcsVM+btNWPv3sc2n69jvmvk/fftLy3fftek6ZPNU0IDyWLl2ukut38p7uHdm7b790+epr6db9Wzvui3KBl1btWrV0kv6frSY6FV7yb7xR22A4ceKkVKla3bA7oUJm/QZvyYAB7s0CkM+Y38fa+CD0wITuyJEjxu+MCp0VK1WV0aPH6Jdjm7xRt569YoQv63Id7LJlz2anhwq9UOGi5uUHgaps2fJ2fETKnz+fiYuXhqvbf+CgEUqu6YABm1TUC1+Md95pKa0/+ligou/wRUepX7+huDsUAXthUHZoW1CutWvW6XVj01fefa+VybNrt2+0DvXtR0M4q1nrDSP8YTArUbKMGdQQYd/+/fKFPq/ZOy0EKuNhw0ZIteo1zYvUzuDxBfYz4aX/QAdKlB2mmb6U/ezZs5r2gZpzZrezhiCKBQH405EACZBAeCJw7/H7tnGTpjJFF6zw/iyj73ssAMHt3r37iTF62PARAsEHDhO0du0+ky++7GQEnj59+5u5wNvNmstkncivWb3W5AchxHJ4FzZu0sxMon79dbR5Hx85ctQEYzxq3uJd6dS5ixw7ekzatv1UoD2Hs8qKsXCyziv+1ne1q8MiV6XKVeWHH/uq8LJbTbGbyre6QGe5QYOHmrHgRw0/sP+A5e32Ewu7GIsg0MFBqClbrqIZQ8Eqb76CxlrjwoWLclDHPTjU44yOA67O2zgCHhhvUHeMP/tViHJ2d9RyAOEYG0+p6fhR5WI5cPjufz1lv45zTZo2kz59+pkgT6wwh3irURMdhw+bvRiYC2AyDbdm7VopV76SrF+33ghglatUNeO1CXT6Z+Ud0j4zaNAQ0wa/qDkf6gWTvo/bttM5TiNZp88eP36CFCxUVE35LttP9XefaaDP6tGzt5kHoK9iLhqUgxVI6dJlZa4uOM/Vfl+5SjVzjXRBMUEcb+wRbjn0IcyfLmv9wefOHd0fHMQcav6CBYbjhx+2kQ0bNro9kMrb873NoVCu7jpPx3dpn35nOnf+2pjeOR961bnTV27fH1adnsmnToT94sqVr+jo0bOXnZdORB1Zs+Zw6MvG+G3fvt3cayc19/pFdPTt199cf/VVV4d2FIdqHcz9tGnTHdWr1zLXL9o/lcodqQPSOVQIMFXXwcaRLl1Gh64kmfsFC/50fPddDxuLroA48uUv5NAXlPF7v9WHDh0MzHW37t84VNC044I98tYXiPFr3ryl46M2be3woUOHOwoXKW7ujx0/buKqhs4OV/O0QO2iGyYdX3bsbIfjQgUyh2owAvlZN527fOX44IPW1q1DVwIcBQoWdqgQYfx0Jc6hA4bxtyM9vrhx44Ypz/TpM+wgfSk5MmXO5tCVIOOnmkYTR1eAzD3KizJarkuXrx2tlA+caoocaZWrCpHmXgUth5ohOMDAnVPzAUfuPPnsIF/KrqstplzXr1+30+/cucv4Xb582fbjBQmQAAmEBwI6oTfvp5G/jLKLg3cn3qFwGId0f6Idhos36zVw9Ov/k/H73/96OjAn0Am5udfVYJMf/C3X7tP2jk/afWZu8T5OkzaDQ/e/mHuMZ3XfbODAOxxu+PARjkKFiznu3b9v7vFODUiT3nH06FGHVdbhI0aaMHf/MN/AWKiTRBOsK/KmPPiEq1GzjqNFy/fMtbt/KoQ5KlSobIL27t1r0l68eNHcN27ytsO5XpjPjB073oRh3MaYq8KHu2yDNQbmzpPfgfHHkytbroJDFy7tYNQF8y+dfBq/334bbdoCN+5Yqfm8YYm5B5zuP3LkyJnHMWHiJDOvwLVVH4TrQqHdbri3nJV3SPsM5ny6EGll5xgyZJhhp4K07VekaAlTLnj4u8+otYeZE1jzUIzRKkg7MPfw5NC/s2bLafqnFQdzA8wVMN4HxcQbeys/588PPvzIgXmU5YKah2BODmae5hlBPd/bHEqFYdM+mHfB4btVvEQp824Iqt5W+Z/Fp180PVhpwCpDpYoVbcEN5j8VK1W01aqqZJBbqq61Vg+g+s2Y4dF+HqxgYL8K0sBBUoTZ1YvooJbOkSOHrUGZNXu22m4Wt9WsFStWkI4dvzCnuIwa9ZtsUK0K1L8qMPiESzubSQtTrSlTppk/s2KkK2LQ6ECLBBM4mGJZLnu2bGa1SYUusxpXr96b0rPHd1aw+YR686Rqo4LjsPJQrFgxVZXHMtGxUbN06ZJGi+MpfUBAgB2UM2cOyZY1qzEdgGfKlClMmfepthCu9YcfSM2aNYxJxJChw+Tff/+VQ7qSZTmYwaVQczg4mB6UKVPanJJjhXv7DEnZ3eX3oplwumNAPxIggfBJIE/u3HbBsmTJopYY++z7oC5gzmaZOeNdDVeyZAk7GUzjrHc1PGFOZZlv4bpkyeL2+/gvHSuwn2WGml9hvNIJukSPHs2seFsZ5sv7n0m45YdPaAM2q/lyhQrlbdPnPHlyGzO0tWvX2VFh+hMSlytnTmN5gTHmuJq3Yb9Fo0YNg5WVv8YR14flzp3LmBnBH+126NBhoxWw4jmzAlvsT1JB0rCFSRzGUpiEo31g2fDgwX17nhBXx2mEeXKh6TOu4zueUcKpz6B/YD+s5fzZZ1KquRjmIDBFh8YSWy8m/DHONom3nun8CVM8FYqkUqVKtneN6tWNNkqFY9vPExNv7O3EXi6C038wp3Q2E3XOLqjne5tDbdm8VTKkT2/6CvLEfGra1Mm2xQ/8PNUbYc/K+UXogWkSBBV0EsvhpZTJ6ZAC3MMeE5NL7EmBaVXGjBlNdGcBCB4H1f43Xfp0VlYv3CdM2WCaBrU29u5Ypm0AoZK55MtfUAarKvjW7VvmSwp/CDG+OF2lEl2JkMP6MsQR1/iDyVcVPUwBalOY2kF16uxKlCgukyf9YQTX997/QIoVL2WbO1jxdHlJHjoeWrdeP6GyT6+bQp1dCrUhv3zlP/W1c5jrtTuBwdlv7Ljxpowz1O75lVdekei6n8cbJwh4R44ecX2M23tfyo69anC6+mHndVvbDi8JS+CzA3hBAiRAAuGUgLf3p7ciO7+XrXju/KwwfCbRfSiWyRb2FcBczBqr8FmqVCl7odQ5neu1rnLru/fWk2ONTnIRFlqHAwa+/ba72YtSuXI13cdQX3/i4e9gZevLOBKsDL1E8tR2x48dN4KhM9uUKVOaE1vBHXMBTI6tcNW2SR4fBERPz/VSVBPkrn+483POJzR9JkGCBDJ3zkwjeONIaJgpjhgx0jn7J67RftGjR9fF4aR2WKJECc18w9tJthYTb+ztDL1chLb/BPV8b3Oo02dOS6rUqQKVDnugsJDuyVn19hT+NPyj+OMhsBvFBnNrczwqho2L6VUKtNzBQwcl/WOhCEIOJqEABuEHnSPDY60P4sMONoOTwGTl8aJ8Vq9WTQ8E6CGq0teX0UMpX76cXfURI0dJvnz5ZMiQR/t4wH6gHvXp7mUQK2Ysj8cio2PGVCGgZKkS8m7LFnb+1gW0PqrmNho3rH7AYR8POnX37l3VnrqL9O79g9qLfi5/rV9rJVNN0MFAq3l2gJsLHIO9/q+/pFWr9+zQdevXS5bM/22OtQNCcIEjEz/8oJU0b97MpMbeJfDy5LAXqVChQp6CA/n7UnZovzBwYADBixUOh35gdQ3+dCRAAiQQkQhgsQZjBBbGsNruD+c6Idqydas5SAd5YxVeBzkZNPDnJx6Fg2K8ORwigLkJ9iXlypXTRMXYhvGs7ht1vCUNMgwLk+tUW1SkcCG1dKlgxtt3mreUH3/so0f2PtpH4y0TX8YRb/mEJgxanXv37kr/fn1szZyVH/a7QlOGMRqWHqFx4b3PHDly1BzE8UnbjwV/ONxCtwtIuXJl9WCt/yxMnBmg/dD/dug+dqtvoV/hu+F8yIdzGudrb+yd43m6Dm3/Cer53uZQKVOk1L17C8xCsjX/RN1jxIge5E+ceKrP0/D3y4wL5mnOR09jlQMdwdnv4IFDRhWGSiF+2rR6OoiudEMAAqQUKR6ZGSEcJ7tBbfaiuvjx4xlTq/79f5Zq1aoYAdFiERCQ+vEpeWfM5sbvv//RBGEly9WVVPMAnKwBntAyWAceYHBBJ32zXl0Zqz+4tnbdOqOpw4ZFbB5EeFJduUD7OK9YYQPqh60/krNnz5k4kaNEDvQygJoXKw9YJXLnEumpcdhwiYECrknjRmYgQr7oLzhZDir2mrVquEvus19AQGrZpRtuodHCyxsbJJ054cU0UU8owkvdrGLpAQmlSpV0+xwIKNf1bHxrE6UvZYd2s4IKrthEqzboZkUQwivalo4ESIAEIhqBfPnyqrAT2Zh1wWQdG55xSpOr4OJLvZAPDjzAO3qpvosXLVpiTiFFHjClXqmnlOEUUMSDGVmrD1oLLBaC4xo3fkt0j4rZEI9FVqzkYzEvtMf+Yoz8Wn80tEePXmaMRVmgwccppHB4BjQBzuOoCXj8z5dxxDmd8zXGVU/5O8fzdF2tWlUzScfvAF66dMksdOq+EbPxHaZxOMkOBzzAogfssXio+3Y8ZefRP7z3Gfzwa716Dc1BF+jHaEdsuYDQvGfPXhmjp626OrCBKSF+iPPYsWOGEX6KopCeegtFQFDOG/ug0iI8tP0nqOcHBHieQ1WvXtX0eZh14ju7Sw8IaaqHZoT332L0j9Cz77/9OWiIgzrJRmfBCrflnDU9WG23TNtgUgWNkCUpAt4///wbSEtk5fEifb5Rp7Z5wbxRJ/BK1NtNm0gy/TKVKFnanKiCo5/hcOqKq8uTJ4/UqF5N6tSuKzlz5RU9nCDQSk6Hz9tL4cKFpVmzFqKb8aSTnkgDUzq0BV7mZcqWkYWLFtnZdvyyg9njo5vVJFfufEag6qT7iyy3X0/wgMBWoEAByyvQZ+XKlYzAlDlTVnMsOey7u3TpZLRaullSBg8ZKt+pmUDRIkUCpQvpTYcO7Y0tM/LGCW8wz8MpPhCw4KLoCiVW6fAjuS1bvq8sHq3WuXsebMCz60l2+QsUMiez+Fr2rl2/NsekVtAfma1Vq44R8tt81Nrdo+hHAiRAAuGaABZy2n/2mfTVU1kzZ8kuuuHZ/CRFaAoN64OLFy+IbgKXd/WkV5wGWkn3BcNhL2unTh2lu57yivd5bR3T8ubN49WUxrks7T5pq/tHiwhO5CpYqIgeib1FRv0ywta8O8f19XrYMD2xVifMefLqb9UVKynx9Jjt5u80M9nAouWthg2MgIbTRV2dr+OIa3rc129Qzwh0ldS0LiQO87QRI4YZzQZORytSpLiOkbeN5gIT/yGDBxmrjwoVK+u4n9f8BAR+U9BXF977THUV/tBu+IF4zIe+VyGwW9evjOCKxdjxf0x8osqYK0H7iAXU8hUq6+lltSSqtvmwoYOfiOvOwxt7d/Fd/ULbf4J6vrc5FNIOGTJQftcTgvGd1QM9pK3+rAo0Y+HZRVKJ1rfNIOG5Ni9Q2aC9iKYrSBBOgnKY5OPLaZ1v7xofJgrQYsSL999vIiAOVu70dB1ZtHB+IBMGrPbgS26ZM1r5ff11NzOItGnjeTKPvV84dCF+/Efn2CMtuiBsq539rDz98YnnuW7kg2anVavWsn/fbiMEoVyu9XH3bKyEIS/LLM3XsqPdMJBg9Y+OBEiABCIyAWjJ8U5zfb+Gpk4wPcMY426/I9630O5g9T0kDmMdxkPr0KSQ5OEpjRmT9TdksJjm6nAwE9751sEOruG+jiOu6VEn5GH9Dp1reHDvYckQO05st/OKR3tSIxnLnODm5y5eeO8z4HjlytVA8yEsmsK03/XgJuf6gQ/Gdgh3IXHe2AeVX2j7D/L39nx3cyjnMmFehN88tJQXzmHh7ZpCT3hrkXBWng9btzGapc6dO3otGc6N1+Oo9Rz/aX4dAL0+NBSBzkJPKLJhUhIgARIgARIggeeUAASKJk2ayQ8/9ApkvfScVve5r5ZfzNuee0ovcAV/6t/XmMXBXtWb69X7e1Vzjo4QAg/qESN6jFCbY3jjwTASIAESIAESIIGITQDai7FjR1PgidjNaJeemh4bBS88EYBJAMy5LJMud/Fg7gb7ZToSIAESIAESIAESIAESCG8EKPSEtxZheUiABEiABEiABEiABEiABPxKgOZtfsXJzEiABEiABEiABEiABEiABMIbAQo94a1FWB4SIAESIAESIAESIAESIAG/EqDQ41eczIwESIAESIAESIAESIAESCC8EaDQE95ahOUhARIgARIgARIgARIgARLwKwEKPX7FycxIgARIgARIIGITwImd/X/6WU6fPv1UKnLt2jXzvMuXrzyV5/EhJEACLyYBCj0vZruz1iRAAiRAAiTglsC9e/fkp58GyKlTT0fouXr1qnnelasUetw2CD1JgAT8QoBCj18wMhMSIAESIAESIAESIAESIIHwSiBKeC0Yy0UCJEACJEACJPDsCEDjM2PGTPn31CkpVLCg5MmT2y7MgwcPZOnSZXLo8GHJlzev5M2bx/4B623btsuNmzckebJksnjJUkmZIoWULl1KokT5b8px+PARTb9UYsaMpfnmsvPlBQmQAAmEFQH+OGlYkWW+JEACJEACJBABCdy6dUuyZM0hKVOmkMyZM8u5c+dk69Zt0q9fH6lZo7rcV4GnceOmcunSZSlatLCsWrVaEiZIKOPGjTG17dmrt8yfv0BixIgpObJnk7Xr1kuSxIll8uQJJnzDho3S7J0WkjRpEsmePbts3bJVjp84IcuXL5FUKVNGQGIsMgmQQEQg8N+yS0QoLctIAiRAAiRAAiTwVAi0aP6ONG3axDyr9/c/yJQpU43Qc+L4CUmcKJEMHTJY4sWLK2fPnpMiRYvLvn37JFOmTCb+w4cOmThhnMSNG1f2798vlatUN8JTggQJpFfv76VUyRIycODPRju0YsVKIwSJw/FU6sWHkAAJvJgEuKfnxWx31poESIAESIAEvBKAFsZyZcuWkY0bN8nt27clTZoA6d+/r+AAgokTJ8mkSZPl5ZdfFpisWS5t2jRG4MF9xowZJVKkSCr8HDBaoh07dkrpMqVtc7h06dI+SqZx6EiABEggrAhQ0xNWZJkvCZAACZAACTwnBGCedufOHfn331Py2muvSsO3Gkv06NHNXp8kaqb20kuRVFHjXVOD8BvXrwv2AwUEpH5OyLAaJEACEYUAhZ6I0lIsJwmQAAmQAAk8RQLOQswW3XeTKFFCo+UZN+4POX/+gqxauUyiRo1qStSnT1+jzQmqeDB3ixUrlmzZvNUcgBBUfIaTAAmQgL8I0LzNXySZDwmQAAmQAAk8RwR+HjBQLly4IAcOHJDRY37XfTglTe0C0qSWy5cvm706MHHr26+/3l+Rm3oAQnBc7Vo1ZeKkSYIDDW7cuCFDhg57lCwITVFw8mYcEiABEvBEgEKPJzL0JwESIAESIIEXmECGDBmkZKmyUqlyNbl586a0bv2hoVGkcGGpX+9NadykmR5VXUBOnvzbnLp2WI+vDo77/PPPJIUeY92gYSPJm6+gHmX9cnCSMQ4JkAAJhIoAj6wOFT4mJgESIAESIIHnl8DDhw/lypUrEj9+/CcqeffuXbl//4EeTR39ibDgeEBLhH1BOASBjgRIgATCmgCFnrAmzPxJgARIgARIgARIgARIgASeKQGatz1T/Hw4CZAACZAACZAACZAACZBAWBOg0BPWhJk/CZAACZAACZAACZAACZDAMyVAoeeZ4ufDSYAESIAESIAESIAESIAEwpoAhZ6wJsz8SYAESIAESIAESIAESIAEnikBCj3PFD8fTgIkQAIkQAIkQAIkQAIkENYEKPSENWHmTwIkQAIkQAIkQAIkQAIk8EwJUOh5pvj5cBIgARIgARIgARIgARIggbAmQKEnrAkzfxIgARIgARIgARIgARIggWdKgELPM8XPh5MACZAACZAACZAACZAACYQ1AQo9YU2Y+ZMACZAACZAACZAACZAACTxTAhR6nil+PpwESIAESIAESIAESIAESCCsCUQJzgMOHj4enGiMQwIkQAIkQAIkQAIkQAIkQAJhSiB92lQ+5x/Joc7nVExAAiRAAiRAAiRAAiRAAiRAAhGEAM3bIkhDsZgkQAIkQAIkQAIkQAIkQAIhI0ChJ2TcmIoESIAESIAESIAESIAESCCCEKDQE0EaisUkARIgARIgARIgARIgARIIGQEKPSHjxlQkQAIkQAIkQAIkQAIkQAIRhACFngjSUCwmCZAACZAACZAACZAACZBAyAhQ6AkZN6YiARIgARIgARIgARIgARKIIAQo9ESQhmIxSYAESIAESIAESIAESIAEQkaAQk/IuDEVCZAACZAACZAACZAACZBABCFAoSeCNBSLSQIkQAIkQAIkQAIkQAIkEDICFHpCxu2FSnXv3j15+PCh1zrfvn3bazgDSYAESIAESIAESIAE/s/eWcBZVbx9/EHxVUIBFTCopbulYenuRkI6BURE/4QIBindoigISlgICIpSIqCkdCshoIiUC5LnfX4D53D37o2Ne9ld+A0f9sTk+Z45M/PM88xcEogtAhR6Yot8kPJdvHiJrFy1KmCpX7lyRTp16irHjh3zmWa7dh3l999/9xmGniLgaVkWUZAACZAACdwmgL5j4sTJcZbHtm2/ysez5zjlu379unMe7JMbN27ImjU/yhtvDJYdO3f6zW7u3HmyadMmv+Hie4C4XmeCxXfPnr0yfMRI+XrR4mBlEeN08X2MHTdeTp06FeO0Ap0AhZ5AE41Ben37DZBmz7fwmEKVKtVl5MhRHv1cby5e8o2sWrna9VaMzrv3eEmKFi0i6dOn95lOjx4vSvMWL8i5c+e9hsMHcPz4H17947LHhQsXZP/+/dEu4o4dO6R27XqSK3c+KVkqVN5+e4icPXvWSQ9ccuXOG+E/Ojy4L7/8KoJfy1atjR//kAAJkEB8JvCbCj0TJk6Ks48AoWf2x7eEnr1790rOXHkjNaC7ru337t17zGRXdB9uxowPpfcrr8pjjz0miRMljpDMoUOHw/Uln86dLxs3bY4Q7l67EdfrTDB4m3FEnXoS9m+YpEiePBhZBCRNWAeNGzdBTp6Me0JPwoA8IRMJCIEa1asJBrIYAKdJ86yT5vbt22X/gQMyZox/oceJFIATNPQHDx6SyZMn+k0NglHJEsXlo5kz5aWePTyGnzhpsvxz5p9IpecxgVi8iZm2gW8Mki2bN0a5FBcvXpS2qgmrXLmiTJ8+Tc6cOSNdu3WXc+fPy7sjh5v0Tv15q3GYM/vjcOk/+OCD5vqPEyckV65c0q/v/xz/JEmSOOc8IQESIAESCD6BzJkzy4cz3pfUqVP7zeycTmzVqFlbvl22RLJmzeo3vKcAixYtkY4d2kmHDu09eUunzl2kVcsW0qpVS4/+vHnvEEBdKFO6lLz55qB756Hu8pM8OEhdIPLEAPnIkaM6+3FSvlr4tfytA7vMmTLJn3/+aa6PHz8uGTNmlAceuKNcOqEDua+/Xizbfv3VaBIeeeQRUxSocLds3iJZsmQ213/9dVoWqSovZcpUkjTpvTvQS5Mmjcyfv8DM5hQuXMh5LdOnfyCXL/8nvV66JUxAm7J06TJZ+9NPkuyxZPL44487YaHpSaqD4XLlysqWLVuN0JI+fTrjD7OqefPmS6pUqcUeMEOD8e13y2X16jUC/qlSpXTSen3gIClerKiUKlXSuXfp0mX5/vsf5OdffjGNvuv7SK4zD2+//Y5pgB966CEnDk4+//wLWbv2J1MvHkiQQLJnz27qAmYENmz4WRYvWSJ///23hGQMCVdH7ESgLgWbZ555xpR3xcqVosmYa2hgUOfO/nNW0qZNI7aggLhHjhyRRWryt3vXbnn66ackceJbM2UnT55UM8DVgjJ/8eWXsmnzZkn5ZEpJluwxO0vniHL/sGKlztjtlieUNXg/+uijEtmyb9y4ST777HP54P33tA4/qf9Tyr///itrfvxRWmpnBbd16zZjuvDaq33kqaeecv7bhUD9f/zxFNL8+WaO3xNP3HnvdjgeSYAESCCmBKChQHubJk1aWblylaxavVpSaf9rt4+YmFu+/HvJmTOHk9UPP6yQsEthkjpVKsF44PBvv8mlS5fkiy++0n7ooKaVRtvsBPKd9jdrflwbrr2FqdLixd9Is6ZN5PMvtD1WTcWTTzyp+SVz0kcf8NNP62TJN9/Iv2H/SkiGDMbPLmvy5Clk4deL5FLYJdMPOBFvn5zXSaYV2o5/r+W8eeNmuIlFlAnpoy/a9ut2nWDKGS46nmenjktatmwuFy5c1L51iwoxWSRhwlvzxqdPn5aFCxfJ0aNHTbro/9AvLfv2O/lRn/WJJ56Qhx9+2PRB4RLWC2/9CNbJot9YqH1bKhWwLmpfnSNHdif62bPn1G+hvps1ps/D2Cpz5kwyVzU9OGr3aMZXKCP6FDhfrHbu3KUWBQvNM2CsZj8b4v3xxx+mj92uFgtPpX7K4zjMTju6deZbZQW3S/tqjAfO/H1GMmXKaMYFMNvfpf1vWq1D9jgxGHUGlhXor5d9+62OkRLLk08+acrk7w++B9TfzTpuhUYuRYoUJoo/Jna6vtjbYb75Zql8+dVCgXH8Da2radOmNSy81R/EQ709cOCgnP77tI5zvpJChQp6HF/5yt/bGArpY603xi54P5b+e/rpp803jm9p0uQp0rBRA/lVvyf39gNxY8vdkUBiWILp738gL/V6WVXUk2XH9h3So3tPebl3H2n1QhtzPWr0GGnfoZOTCxqC6jVqawXbaAScEiVLO6ZPD//f/wnMqo5oA4JK2L1HT9NQuQ7InYTuoRM0WvXq1tVB+h1bTVQqNPINGtQzT3r06DHlVstU/qMqZDZp+rxMmODZLADpzPp4tkMIQg9M6A4fPmzu/fnnX1Klag2ZOXOWfhzbpEHDxka4hCc+1lXa2eXOk9uJD3OsYsVLmsYPAlWFCpWc8Aj03HOFTVg0Gu5u3/4DRii5qB0GbFLxXPgw2rRpL91e7CFQ0b/6Wl9p0qSZeNoU4erVq6bsTZs1N+Va99N6adqshQx4faB06NjZpPnGoDf1GZo4WUM4q1O3gRH+0JmVCS1vOjUE2Ltvn7ym+bVu006gMp42bbrUrFVH0JC6O6xnQqN/QztKlB2am6iUHULj3j07wwmnmAzIly+vkxXexeMpHje22+9/MMM0vI6nnvz511+m04TwM2vWx/KbDijoSIAESCAYBK7dbm9btGwln+mEFdrP8treYwIIbteuXTJo8Fvhsp723nSB4AOHAVqvXr3ltf/1MwLPqNFjzVjghdZtZYEO5H9au86kByHEdujrW7RsbQZRH34407THhw/faufQH7Vt10H69R8gv//2u/Ts+bIM1Ek5OLus6AsXLPhcjmtb7e4wyVW1Wg0Z+e5oFV52qSl2K3lLJ+hsN2nyVNMXvKv++/f5NmPGxC76UQh0cBjLVKhYxfShYFWocFEzljmjVg0HtN+Dw3OgDXd3vvoR8EB/g2dH/7NPhShXd+XKf8YffeNJNR3/TbnYDhzefmeo7NN+DtYjo0aNMV7eWGEM8XzzltoPHzJrMTAWwGAa7qd166RipaqyYf0GI4BVq17D9NfG0+WPnXZ068ykSVPMO/hAzfnw3DDp69Gzl45xmst6zfuTT+ZK0WIl1ZTvnJNroOtMU81ryNDhZhyAuorxhT8HK5By5SrIEp1wXqL1vlr1muYc8fwxQRhf7OFvO9QhjJ/O6fODz5UrV/2OQ5YuW2Y4du3aXX75ZaPHDal85e9rDIVyDdY2AN/SXv1m+vcfKLXV9M5106v+/V732H7YzxQrRx0IB8RVrFTFGjJ0mJOWDkStXLnyWtrYmHu//vqrudZKaq4nT5lq6YI7J3z9Bo2sjz6a6Vx36tzV0nUP1rujxlja2Fo60HT87uUTlcqtDCGZLRUCzGNqZ2NlzpzN0pkkc71s2beGi81AJWyr8HPFLG2gzC1w087AnA8a/KalgqYd1AJ7pK0NiLnXtm1768XuPR3/qVPfs4qXKG2ufz9yxIRVDZ3jr+ZpVq1adZ1rvL//9e3vXONEBTJr5qyPw92zL/oPeN3q0qWbfWnpTIBVpGhx593qTJylHYa57wS6fRIWFmbKo2tbHC9tlKzsOXJbqiEy91TTaMKo4GKuUV7XOjZgwECrs/KBU02RlUm5qhBprlXQstQMwQIDT06FDatAwcKOV1TK7kS6faIzWZau7bHUbNHxwreTMVNWq07d+pYKouY5VBBz/GvXqW+eVRsY67kixa1s2XNZ2og5/jwhARIggUAR0AG9aYN0AsZJEm0n2lA49EO58+R3/HDSqHFTa8zYcebeO+8MtTAm0AG5udbZYJMe7tuu18uvWC/16m0u0R6j/dP1L+Ya/VnDRk0ttOFw77033SpWvJR17fp1c60z2FZIxiyWTv5Ydlnfm/6+8fP0Rwf+pi9UIcN464y8KQ+OcGhf27XvaM49/VEhzKpcuZrx2rNnj4n7zz//mOsWLV+wXJ/r9dffsGbP/sT4od9Gn6vCh6dkI9UHFij4nIX+x5urULGypROXjjeeBeMvHXyaexhX4V3AeWKFfggsMfaA0812rLz5Clpz58034wqc288Df50odN4brm1npx3dOoOxhU5E2slZU6ZMM+xUkHbulShZxpQLNwJdZ9Taw4wJ1PrF5Ldjx05LBWkLYw9vDvUbfTnqp+0wNsBYQa05HN7emPhib6fneuzS9UUL4yjb+RuHYFwBZufOnbOjhDv6y9/XGEqFYfN+MO6Cw7dVukxZ0zb4qwvhCnGXL27pZmMobmGmAbMMVatUcVKC+U+VqlUctaoqGeSyqmsxewA1b5fOncxCQJg9nThxUv5R06RLly878V/s1lUl/Gaqtk0oX3y+QNWpSR2/e/kEaum8efMaDUrPnt11h45FUrp0aUfNWqVKZalUqaIxhdr4yyajDYNZmAoMRoUeWTZaz+QX1cjUr19PVehfmGhmxkhnxKDRgRYJJnDPPvusk2Se3Lll/PiJZhF+jRrVpXHjRqqZaez44wTqzWOqjYqMw8xDqVKlnHcLtXC5cqECLU7XLp09JhESEuLch6YEC/pgOgCXLl1aU+a9e/cZc8luXbsYrRFMIqCWhznlUdXa2A5mcGnVHA4OdbJ8+XJG09KpUwc7iNdjdMqOxLSjlK5dX5SX1FQxT548Tvo9e3RX07XnzTPg5pSp02T2nDnSsWN7E2b6e1P1W3jAPCtmBzt36aazmp852jUnIZ6QAAmQQIAIFCxQwEkpZ86csnrNGufa3wnM2WwzZ1urHRpaxokG07jPP//SuYY5lW2+hfPQ0NKmPUY7/rP2FTB1+krNr2yXKNEjZsbbXltTuNAdk3A7DI7QBmxW8+VBg95wTJ8LFixgzNDWrVsvOIeD6U90XP58+UQFBEmh5sfVdV1uVNZbRLcf8VfOAgXyGzMjhMN7O3jwkNEK2PFcWYEtGMIUCv/h0JfCJDyXxoVlw40b151xQjLtp+HnzcWkzrj378ijjEudQf3ARhK2C2SdSafmYhiDvNLnNWncqKGOu0rJ3E/n2Fl5PMIUT4UiqVq1quNfu1Yts+mUCsdmHS48vDHxxd5J0MdJZOoPxpSuZqKuyfnL39cYasvmrZI1SxZnzILxFMbqsFiynbfntv1j43indDHIHaZJUGnBxtV2Omsg2bPdWbiHa9hjYnCJdSRQn3bs2MUs0McaCQxIs2TObEc3ay9gToRGBC/tfnIwZYNpGtTaWLtjm7aBgUrmUvi5ojJZVcGX/7tsPlLchxATFYfBN9aVHNLGEFtc4z9MvsAbalNUXAyuXV2ZMqVlwfxPjeDasVMXKVW6rGPuYIfT6SW5ad20L30eobJ3fecInFZtyM+dv6O+9pUA7MPdneu92XM+MWX8Su2e/09NJhPpeh5fnCDgHf7tsHuSHq+jU3ad/VD1fXt5rkhhad+ubbh0sdYIHY3t0OjCThiNKhxMO23hDg19AxVWv1ObenTodCRAAiRwNwj4aj995e/aLtvhPN2z/XB8Wteh2CZbWFcAczG7r8KxbNmyZm2laxxP5zrLraZolyP2NTrIhV9MXe/eveSttwabtrpatZq6jqGJ/sTD8UglG51+JFIJewjk7d0d+f2I6Udc2aZLl85MHII7xgIYHNv+qm2TglEQEL3l66GI4W55qh+e7rlGikmdwVrbJYsXGsEbW0LDTHH69Pddk49wjveXKFEinRx+xvFLnTqVGW/42snWZuKLvZOgj5OY1h9/+fsaQ2HzpfQZ0ocrHdZAYTzvzdnP7c3/btwPiKYHdqNYYG4vjseDYeFiFpUCbXfg4AHJclsowmJ6LFJbpjuaYFEaNBWwncyS5ZbQg8F4x06ddberSrJY1zBgcXeKFHF3ez77GQN1rFWzptGmqMpUG6ObRrNjpz39/RlSuHBhmTLl1joesJ+oW316agySJklqZiHsuK5HVMwkOtAOLVtGOrRv5+plzqH1wW/KQEDF7Acc1vGgUg8e/IbaUw+Q4cNHqr1oH/l5wzrjjz9Yu+M6m+d4eDjBNtgbfv5ZOnfu6Piu37BBcua4szjW8YjGCbZMhMaobdvWJjbWLoGXN4e1SMWKFfPmHe5+VMsOAVJV06r5TC3Dhg4JlxYuoEErpptGFCnynPFDg4nv6ObNG7qJxWUZ/Obb8op2rvbCSmhGr6vW1HXThgiJ8gYJkAAJBIEALC/QR6BdwyRMIJz7gGjL1q1mIx2kjVl47eRk0sTxEbJC++jLYbIIYxOsS8qfP58Jir4N/VnDBvV9RfXrh4nJ9aotKlG8mFq6VDb9bZu27eXdd0fplr231tH4SiSq/YivtKLrh8m2a9euytgxoxzNnJ0W1rtiYg19NCw9YuLiep05fPg3sxEHdp/Ff2xuocsFpGLFCuKqgXJlgPeH+rdd17HbdQv1Ct+G6yYfrnFcz32xdw3n7Tym9cdf/r7GUOnSptO1e8vMOMUef+LZEydO5PcnTrw9z924HxBNDxbYZXPR6mCWAxXB9d6B/QeNKgwPhRn3GzqYg9oUmxVgUSLU4FCHo+FTO18jROEjzJU7l3ygC7vvJwcBD6ZWY8eOl5o1q5tZA/v5Q0Iy3N4l70+zuHHEiHeNF2ay3F2omgdgZw1sdw0tAxaswYExKmmjxg1ltv7g2rr1642mDgsWsXgQ/s/ozEVCVVe6zlhhAWrXbi8KdtNDmAcTPhiuMYCaFzMPmCXy5FLrrnFYcImOAq5li+amI0K6qC8QhqFer1O3tqfoUb4XEpJBduqCWwjRaLyxQNKVExqmebpDERp1M4ulGzeULRvqMR+o//9VUzp7EWVUyg5W2KQBfLBFNQYK6HTx3170lzx5MrPwFBrPs2fPGvM2TCRgm1PMJF1Q80UsBsY3A80qWIV6KavHB+BNEiABEggQgcKFC6mw86DZUAcm61jwjF2a0NZF1yEdtHFoo1doW7x8+Q9mF1KkB1PqNbpLGczhEQ7jBpj4wmIhMq5Fi+eNCRoWxGNCCTP5mMyDCVNMHPrIgfqjoUOGDDN9LNLCRBR2IYVDHmi/XftR43H7T1T6Edd4rufoV72l7xrO23nNmjXMIB2/A4i+BxOdum7ELHyHaRx2ssMGD+h3wB6Th7pGxVtyXu/H9TqDXYMbN25mNrow4xt9j1imAaF59+49ZgMh94cDG5gS4oc4f9dNkMAIvzeFCUz03/6cL/b+4sI/pvXHX/4hId7HULVq1TB1Hqb4+GZ36gYhrVrd+skVlC2uusAIPXtV6HHZg/6ADrJRWbC+w3aump5a+pFlyJBBdNG81KvX0KgGoUJFY6ELIc3OMBB4cK9d2zaiC+PNmhU7rfvhCPMlNDAN6oefiXqhVUt5Vj+mMqHlzI4q2PoZDruuuLuCBQtK7Vo1pb4yzpe/kOjmBOFmcl7t84oUL15cWrdup8JlPumnO9LAlA4CERrz8hXKqwnVcifZvv971azxKV2mrOQvUNgIVP36vub479MdPCCwFSlSxLnnelKtWlUjMOXInsv8Vg00QgMG9DNaLV0sKbq5hbytZgIlS5RwjRbt81dffcXYMiNt7PAG8zzs4gMBCy6hzlBili5P3gLSvn0nZXFrts5ThrD7zqM72T1XpJjZmSUqZT+gWk/8uCi2s8R70M0XnP/YYhwOnTryqFe/odmhZqvOck6eNMGYg8K/T5/eRngrXaacVK5STZIr58GDBsKLjgRIgATuKgGYqb/Su7eM1l1Zc+TMI7rg2fwkRUwKAeuDf/45I7oIXH+TppNZr1hV1wXDYS1rv359jcYb7TnGDYXUxMqXKY1rWXq91FPXj5YQ7MhVtFgJ3RJ7i8z4YLr5+QDXcNE5nzZNd6zVAXPBQvpbdfrD08l1m+22bVqbpGBW/XyzpkZAw+6i7i4q/Yh7XPu6SdPGRqCrqqZ10XEYp02fPs1oNrA7Wgkdl+EnMqC5wJhsyuRJZoIO/U7+AoXMT0DgNwWj6uJ6ncG4FO8NPxCP8dAIFQIHvfG6EVwxGfvJp/MiPDLGStA+YgK1UuVquntZXcHuw9OmTo4Q1tMNX+w9hXe/F9P64y9/X2MoxJ0yZaJ8rDsE45vVDT2kp65VhmYsLrsEKtFGf2omhk+GGQUIR7ZqLIbJ3VfRob14RGeQIJz4cxjkg7G9v717eGgeoMWAtsHVYeYOWrfl3y0NZ8IAYQwfuW3OaMcZOHCQ6US6d+9m34pwhGbjvGotUqRI4fihCsK22vWe4xmAE+TnvpAPmp3OnbvJvr27jBCEcrk/j6esMROGtCCQwwW67CjHhQsXI7wLuyx4l/hioUKmIwESIIHYJAAtOfoi9/Y1JmWCBhx9jKfNi9DeQrtjr2+Maj7o69CGYtwRaGf6ZDXXx2Sau8NYBxofe2MHd/+Y9iO3+gXL+R069/Qjew1Lhkcfe9TjuALWImpjGOO+J67XGbyL8+cvhOuDMWkK0/KhQ972ihJ8ICRCuIuO88XeX3oxrT9I31f+nsZQrmXCuAi/eRgfxvKxKvS4QuN53CTQtVt3o1nq37+vzwJi33jdjlr38f8ioB2gz0xj4Okq9MQgGUYlARIgARIgARK4RwlAoGjZsrXuyDYsnPXSPfq49/xj3Zquvucfkw8YXQLjxo42ZnGwV/Xlhg0foWrOmfFC4MFzJE6UOMbmGL540I8ESIAESIAESCB+E4D2YvbsmRR44vdrdEpPTY+DgifeCMAkAOZctkmXp3Awd4P9Mh0JkAAJkAAJkAAJkAAJxDUCFHri2htheUiABEiABEiABEiABEiABAJKgOZtAcXJxEiABEiABEiABEiABEiABOIaAQo9ce2NsDwkQAIkQAIkQAIkQAIkQAIBJUChJ6A4mRgJkAAJkAAJkAAJkAAJkEBcI0ChJ669EZaHBEiABEiABEiABEiABEggoAQo9AQUJxMjARIgARIggfhNADt2jh03Xk6dOnVXHuTixYsmv3Pnzt+V/JgJCZDA/UmAQs/9+d751CRAAiRAAiTgkcC1a9dk3LgJcvLk3RF6Lly4YPI7f4FCj8cXwpskQAIBIUChJyAYmQgJkAAJkAAJkAAJkAAJkEBcJZAwrhaM5SIBEiABEiABEog9AtD4fPXVQjlx8qQUK1pUChYs4BTmxo0bsmLFSjl46JAULlRIChUq6PyA9bZtv0rYpTBJ8+yz8v0PKyRd2rRSrlxZSZjwzpDj0KHDGn+FJEmSVNPN76TLExIgARIIFgH+OGmwyDJdEiABEiABEoiHBC5fviw5c+WVdOnSSo4cOeT06dOydes2GTNmlNSpXUuuq8DTokUrOXv2nJQsWVx+/HGtpEqZSubMmWWeduiw4bJ06TJJnDiJ5M2TW9at3yBPP/WULFgw1/j/8stGad2mnTzzzNOSJ08e2bplqxw5elRWrfpB0qdLFw+JscgkQALxgcCdaZf4UFqWkQRIgARIgARI4K4QaNe2jbRq1dLkNXzESPnss8+N0HP0yFF5KnVqmTplsiRPnkz++uu0lChZWvbu3SvZs2c34W/etGTe3DmSLFky2bdvn1SrXssITylTppRhw0dI2dAyMnHieKMdWr16jRGCxLLuynMxExIggfuTANf03J/vqI6XrAAAQABJREFUnU9NAiRAAiRAAj4JQAtjuwoVysvGjZvkv//+k4wZQ2Ts2NGCDQjmzZsv8+cvkIceekhgsma7TJkyGoEH19myZZMECRKo8LPfaIm2b98h5cqXc8zhMmfOdCuahqEjARIggWARoKYnWGSZLgmQAAmQAAncIwRgnnblyhU5ceKkPPHE49Ls+RaSKFEis9bnaTVTe+CBBKqo8a2pgX/Yv/8K1gOFhGS4R8jwMUiABOILAQo98eVNsZwkQAIkQAIkcBcJuAoxW3TdTerUqYyWZ86cT+Xvv8/Ij2tWysMPP2xKNGrUaKPN8Vc8mLslTZpUtmzeajZA8Bee/iRAAiQQKAI0bwsUSaZDAiRAAiRAAvcQgfETJsqZM2dk//79MnPWx7oOJ9Q8XUjGDHLu3DmzVgcmbqPHjNXr83JJN0CIjKtXt47Mmz9fsKFBWFiYTJk67VY0P5qiyKTNMCRAAiTgjQCFHm9keJ8ESIAESIAE7mMCWbNmldCyFaRqtZpy6dIl6datq6FRonhxadK4kbRo2Vq3qi4ix44dN7uuHdLtqyPj+vTpLWl1G+umzZpLocJFdSvrhyITjWFIgARIIEYEuGV1jPAxMgmQAAmQAAncuwRu3rwp58+flxQpUkR4yKtXr8r16zd0a+pEEfwicwNaIqwLwiYIdCRAAiQQbAIUeoJNmOmTAAmQAAmQAAmQAAmQAAnEKgGat8UqfmZOAiRAAiRAAiRAAiRAAiQQbAIUeoJNmOmTAAmQAAmQAAmQAAmQAAnEKgEKPbGKn5mTAAmQAAmQAAmQAAmQAAkEmwCFnmATZvokQAIkQAIkQAIkQAIkQAKxSoBCT6ziZ+YkQAIkQAIkQAIkQAIkQALBJkChJ9iEmT4JkAAJkAAJkAAJkAAJkECsEqDQE6v4mTkJkAAJkAAJkAAJkAAJkECwCVDoCTZhpk8CJEACJEACJEACJEACJBCrBCj0xCp+Zk4CJEACJEACJEACJEACJBBsAhR6gk2Y6ZMACZAACZAACZAACZAACcQqAQo9sYqfmZMACZAACZAACZAACZAACQSbQMLIZHDg0JHIBGMYEiABEiABEiABEiABEiABEggqgSyZ0kc5/QSWuijHYgQSIAESIAESIAESIAESIAESiCcEaN4WT14Ui0kCJEACJEACJEACJEACJBA9AhR6oseNsUiABEiABEiABEiABEiABOIJAQo98eRFsZgkQAIkQAIkQAIkQAIkQALRI0ChJ3rcGIsESIAESIAESIAESIAESCCeEKDQE09eFItJAiRAAiRAAiRAAiRAAiQQPQIUeqLHjbFIgARIgARIgARIgARIgATiCQEKPfHkRbGYJEACJEACJEACJEACJEAC0SNAoSd63BiLBEiABEiABEiABEiABEggnhCg0BNPXhSLSQIkQAIkQAIkQAIkQAIkED0CFHqix+2+inXt2jW5efOmz2f+77//fPrTkwRIgARIgARIgARIgARii0CcEXquX78eWwzuqXwXL14iK1etCtgzXblyRTp16irHjh3zmWa7dh3l999/9xoG73fsuPFy6tQpr2EC7bF27U/y1VcLvSZ748YNsSzLq7/tERtlt/MOxHHq1PfkwIGDXpOKyrcX6PrltVCR8Aj0e4kKB2/F+/vvv009v3z5srcgUb4fjDSjXAhGIIEgEkDfMXHi5CDmELOkt237VT6ePcdJJBBthZOYnxP0U2vW/ChvvDFYduzc6Se0yNy582TTpk1+w8X3AHG9zgSL7549e2X4iJHy9aLFwcoixukGum+OcYFcEogzQk+jxk3lww9nuhTt/jvt22+ANHu+hccHr1KluowcOcqjn+vNxUu+kVUrV7veitF59x4vSdGiRSR9+vQ+0+nR40Vp3uIFOXfuvMdw0BaNGzdBTp68e0LPj2vXypc+hB4824DXB3osr+vNqJYdgt3x43+4JhGr51OnvScHD94Sei5cuCD79+8PV56ixUrKokg2oIGuX+EKEsWLqL4Xf8lHhYO3tCCgoJ4HUvMZjDS9lZ/3SSA2CPymQs+EiZNiI+tI5QmhZ/bHt4SevXv3Ss5ceSM1gXddBZbdu/cIJg+j62bM+FB6v/KqPPbYY5I4UeIIyRw6dFjOnj3r3P907nzZuGmzc32vnsT1OhMM7jt27JDadepJ2L9hkiJ58mBkEZA0A903B6RQtxOJM0LP4EEDpW7d2oF8tniXVo3q1WTDhp8jDJi3b98u+w8ckBo1qt/VZ0JDf/DgIWnXvq3ffCEYlSxRXD6aGX8E15d7vSSdOnb0+2xRDTBx0mQZMmRoVKPdlfCYMWzarHm4vKZNnSRly4aGu3c/XpDD/fjW+cwkEDUCmTNnlg9nvC+pU6f2G/GcCiM1ataWI0eO+A3rLcCiRUukY4d20rt3L8mUKWOEYJ06d4n0pFWEyLwRrwigLpQpXUrefHOQlNYjXdQJBFToOXbsuMz6eLZRA58/f16+/PIrOX36tFMqSKnTp78v33yzVCAJ2g7aAcyGPProowJV7qefzpUzZ87I559/YVS1gZw1tfOMi8cSKjQ89VRqgQmRq/v668WSPXt2yZkzh7kNXmA7/f0PjFDiGtb1fMuWrfLjj2udWzDlgur7r7/uvBPM/ENN+t5778uuXbudsDiZNHmKVK9WVRI++KBz/9Kly7J06TKZPecT+fPPv5z7OGnUqKHMnDlLLl26FO6+6wXeO0zOJk+ZKigfHN75vHnz5cjRo07Qf/75x5Q1LCzMuYeT9es3yMaNd1T3qHPLvv3OCYO88Yyu8dDhfKCzZcuXfy+uZgnQyJz++w4LmCTBNPD9D2Z4NNW7cfOGeXZwR76eHOosBMVjx4+bctj54bl/+mmdeW7wwwygJ4fwKD+e/6uFX5vwtqkCNDR4jh9+WBHu+1m67FvZt2+fkxzeC9JwdzD3+2ndejPrCP8TJ06YIEePHnM0dN99t1x+++03WbVqtUB4A1tPJoBghzRcv03MgPpSue/cuUumTZsuX3zxZYSZz81btpg6iPzcTcOwngx1BW3Hps2bI5QnMu8FD+rv2WwOeDfzF3wWTiP266/bzTdnM/X13dhhXI+YiQUv1xlf5PfZZ184wVBPYUKD9g/aHW8uMu/7jz/+cNpi9+/UW7q8TwI2AXwDqK/oa9Beubd50GSjrXN1aJds8ytMmK1bv960S+hb0L4jLdR/9P9oxzy1oaj3+Abgj+/D1aFtRH+GvsPVhNsuK8qEuOgjPDmMSZD3lKnT5OeffwkXBG0D2lD0vfj2fbl/dZYd5t5Xr151gmGc88knc2WJWlrY/R/aa9vS4BtluHXrNie864m3vgFtK97B4cOH5fBvv4drfxD/7Nlzxv/ChYuyefMW+VbbTleHfmPq1PcE78J2vlj5ap8j057YaUe3zqD86DvxjjH2QL1D2w+2qD/z5i8QvEN3F8g6g7EI6gbGAK59qnue7teoe3j/H300S9/Xb463PyZ2QF/s7TCou+s3bJB/dUyEemGz8FZ/EA/vHjzRb6I/x/N5cr7y99UvBapv9lSmYN0LmNADgaZatRqyWgdLGKDAXO3l3n2cwRmAt2nbwTR0H+nAuKqGtd0WHfDARjFhwoQ62Dwi/fq/Lh07ddFGc4OpSHXqNrCD3tPHBx54QOrVrSuLFt+x1USlWvLNN9KgQT3z7OgIqteoZRrTo0eOSpOmz8uECZ7NApAOhFDbYfAKEzo0onAYDFWpWsMIKtu2bZMGDRs7M0b4WFetXCW58+S2oxsVerHiJc1gHO+4QoVKTngEeu65wiasq1DiRL590ufV18xAGh1kw0ZNZOHXi+RBFarQ0cz44EMnOMytxutzJU4cXp2/a/duecdFi/KxPl8PNVMLuy0cQVM2Qs0AEyVKZNJCx9NR1yTt27tPBr/5tjRrdsd8EILb1wsXmXAYaDdVv9de6ycHdf1L4ybPy5tvve2UByf9+70un2lHjzzK67NDiHB3+/YfkLP/nJWL2hHB9hbvD511mzbtpduLPQSmCK++1leaNGkWTmCw00FHincEbQz4r/tpvSkXzPA6dOxs0nxj0Jv6rprYUWT8+ImyVgUq2x06fMikYV/bR3TU6Lxu3Lhp0rl48aLxevOtd2TnbVvxSZOnSstWbUyjv1XfcZcu3YwtuZ2GfUySJIkMGvyWrNQy2m7cuAnhru37OKKOPt+8pT7/IbPmBXUNjTXcu++O1nxeNGX7eNZsKVa8lPz777/GD38Gaz7NW7SSvfv2S//+A416H1xtF5n3grD+ns3mACH/gL7HF7v3NO8OnMDenizw9d3YZXI/Jk2a1LRxq1evcbxmzpolS5ctM9fff/+DoJ3Dd4X6VSa0vDk6gV1O/L3vn9atk4qVqsoGbT8XquBcrXoNU+9ckuApCfgkcO12O9SiZSuPbd6uXbvM9++ayLT3ppsJGdzDAK1Xr97y2v+0PVXT2lGjx0qrF9rIC63byoLPPpef1q4zbeiKFSudJDAga9GytREOYOpes1YdZwCJ/qhtuw46Nhggv6sA0LPnyzJw4CAT1y4r+sIFCz6X49rGubuTJ0+aMcdIbWswwEN78tbb7zjB0Da0btPOtEX7tZ3x5U6dOmnaV1u4waCyQsUqOsDcZlgVKlzUWGucOfOPaUeQFgbCf/4VfpIQ9331DeCBPgTPjnZ7n/Zlru7Klf+MP/qMkzoJ9ZtysR04vP3OUDNwb9mqtYwaNcZ4eWPlq32ObHtipx3dOjNp0hTzDiDw4rlh0tejZy8d4zQ3giyECpggQ9izXaDrTFPNa8jQ4WbSE3U1MubvsJ4oV66CEXiXaL2vVr2mOUcZ/TFBGF/s4W871CGMK87p84PPlStXfdYfxEP/Ao5du3aXX37Z6HFDKl/5++uXAtU32894V446EA6ICw0tb73zzlAnLZ1hsHLlzmfp4MTSD9vq0+c1S6VN46+NhZU5czZLZ4bNtUr1VuMmzcy5zpSYeCplm2udjbZCMmaxdBBkru/1P7rg3MoQktnSwbF5VB0AGVY622Guly371nr77SEOBp2Zsgo/V8zSAaS516lzV0s7A3M+aPCbVvsOnZyw2kCYtHUmzNxr27a9pQM7xx/vrHiJ0ub69yNHTNjjx487/iq4WrVq1XWudbbB+l/f/s41TlQgs2bO+jjcPVzgneO5VBPk+A0bPsJq0fIFc63CmfVckeIWygj3/PMtrSFDh5lz1z/gkknrjs5ymNuodygzOMChDr7Uq7c5R/ySpUKtc+fOmWvUN9Slv/76y1y7sho1eoxVtlxFS2cijZ8ukrSy58htwtpl19kf44c/nZXzgAEDnWvXk/4DXrdUWHBuoX4XKVrc0sGzuYeya8do4b67U+HNcFJNnuOlja8pi85omXtHjhw1YVBGuKrValquZdNOyvgbT/2TL38hSwch5lKFSatAwcK2lzm6+teuU998q3YAhM+dJ791Tb9hOFdmXbt1t1SQM/d1VtLKmSuPtWLlSnPt+kfNMw131G04MM6br6A1d9580zbo5IjTNsC/YqUq1kcfzcSpZT8LnhkObUnpMmUtfAdRfS/+ns2VgwrBpj689950S4VMq07d+iZvlMHXd7Nnzx7DXjV1CBrOob707NnLuVeiZBkLfOHwbeF7sh3Coo7Buafp632jHQDb2bM/sZOydDDnfBPOTZ6QgA8C/r4tfH9oF1ydTnRaY8aOM7fQDuM71gG5uVYth/kuXMcIvV5+xamXaDcyZspq7d69x4RHPW7YqKn5LnAD36FOhjjtkM5gmzZFtdJOO/De9PdNXE9/dOBv+kK0H3CqGTHlwREObUO79h3Nuac/KoRZlStXM17u3yP6MNfnev31N5zvD/02+j17POOedmT6hgIFn3PaCff4uK5QsXK4fhXPopM0ZuwFf7SleBdw9nt1ZeWrfY5Ke2Kn7doXufaT/uoMxhavvdbXlBN/pkyZZtjpBKlzD20m+g24QNcZjE8xtlAtvkl/x46dlgrSFvpkbw71G+Nc1E/b4Z2ij8WY1R8TX+zt9FyPXbq+aGF8YTt/9QdjIDCzx0B2PPvoL39f/VIg+2a7PHfjGBBND8xaYJoE8ybbweQka9YskiBBAjOTP3z4UHlUZztnzfpYPrg9o39JTaXgMLOSLWtWc47ZjAIF8mvcW9eY0VUQYs9Km0D38J/MmTNJ3rx5HQ3K14sWqe1maXnyySfNU1epUln69n3NmBHMmPGR/KKmXlDv6kA6SlTAFHEff/xxY2IDMxszY6QzYjDFgRYJs/nPPvusk26e3LnNbJMKXWY2rnHjRjJ0SHhtyNNPPy3HVBvlzeXJk8fxqlChvDFVgxq/Zo0aJt9NugATz/LLL79I7Vq1nLD2ScaMIVqmZ8wsONY53bRuqr1ze2O6hDBQ/5YrV9YObmygkyVLZq6zZctm6uM+DzN5WzZvNbay//d//2fCYuOG5d8tMwzsxAoWKGCfqqlhTtmj9T4yDjMspUqVEsz2w2FBarlyoUaL4y1+SEiI45UvX17JnSuXPPHEE+ZeunRpTbn2qvYqGC5EGduuYsUKpl5A6+Pu6tWto5qdlcYcDaZ7Dz/8sJTW53R3P+vzw/5dByqmrsFcE8+wW80poeUb9e4IyajPC3MGaITRZhw8eMgkg/eSNUsWEx43EP6Lzxc4WkXci8p7ieyzPfLIIzJyxFAZp1q0+WpWMXLEcJO3v+8G5fHm6tWrK9+rhhPfGTTjqOfgC9etaxepU6e2MYGE+Q1MDw+qViyqDnUCbeWNG9ed7zqZ1jewpiOBqBKIyrflnnaaNGnkoYceMrfRhsGFhpYxR/yBubZrGwZLjxw5sht/nIeGlja7luEG2hCsZ/nqy4WmXmM3ykSJHjEz3iaC/ilcqJB9Gu4IbcBmNe+pXLmS+YbhWbBgAUmT5llZp+a+titUqKB9GqVj/nz5jOUFvluMg7DeonnzZpFKIzp9Q2QSxhgK7Sgc+iq0p9Aq2c6Vla/2OTrtSUzqjHu/h/KWcakzqB8Yb9oukHUmXdq0pm9+pc9rRmOJ8evcT+dEsDax88YRSwJgZVK1alXnNsYt0EapcOzc88bEF3snso+TyNQfjCntMZB7Uv7y99UvBbpvdi9bsK4TBiJhgEdlzZIls5McBBkMVuB09kZV0+0ll358+fPnN4MkqGzxMuBgttKyRXNzjgGpLQDhBho3DBafeuop438//IEpG4TDbi92NQPBt94c7Dy2SuZGBVy0SBFjeoYBNBwGY1FxWDMCE6JD2hhCaLJddd1MAWpTmNq5NpLwL1OmtCyY/6nacn9pzA8hIAwfNkQH9CXt6KLTS0YQcW74OHla3+kVtfE+ceKkQJjBYnrYRGPAly59OsmVK6fH2GXLljVrUyD0VK5USapUqSQ6w2jWwaD+lFEh0ZfzxOrUn6ekfPly4aKhU4SD6Zsn5ykdT+FgmlCsaNFwXmnTpA3XYYfzdLuwOy/X257uufoH6hyDfwjGMIm0zRfttPG+IOhg/Q/Mtqph/ZcOVtzdETVZxcDD1Q4/Xbp0zo6AOuNrhGiklzEkg6BeWfoPDu8lfYb05tz+Y08AxPS9+Ho25JVbhfxHH02qHWEyUz9xz993gzDeHAZaT6rgCnMI2PdXq1ZFUAY4mFqOHTveCMNYv5dIzTojW79c84P9Nb5ddGaurmA0B3SuafCcBKJTJ0HNU3vl6Z4rYfQPtskW6nXChA+Fa0PQD2AdsD+ns9y6zuayZMl8Z3yCOGl1kAu/mDpsMJArdy6zHgimQhDmxowepemn8Zt0TPsGvxm4BPD27ny1z4FoT7zl61I0j6ee6oene66RY1JnUqZMKUsWLzRrh7DcQi1GpEf3btJBJ1W9Obw/mNJjItZ2qVOnMn0Y1jZ5czYTX+y9xXW9H9P64y9/X/1SMPtm12cM9HnEEUo0cnjwwYQR1idgbUOjhg1MaqNGjTaDvrFjR5trLBbEgn00WBB+MKDKlu2WgIRBq+vg84AObG3hKBpFi5dRatWsKdCmqMrUrL+oVKmi8xzT358hhQsXlilTbq3jwWK7ibrVp6fGIGmSpM5aFyeB2ycYyCbRgVVo2TLSoX07d28zGw2BBAu2bcEK6w0w4Bw8+A21px4gw4ePVHvRPvLzhnVOfLx319k8x+P2if2x4xLpoYGAwAMHzcHgN98yts+etDwmkP4pp4NjrOtJnDiJ9FOtF7RLISEZzBqgfKolS578lmbHDh+ZY7q06cxvG7Rt29oJDntWaN0w8I2Jg9Zow88/S+fOHZ1koJHKmePWxhTOzWieJFWNHLawDIbDAk1sWlCseLEIyUPAgYZukX7PmPiYNHF8hDC4Aa3OtWtXZeyYUc7Mrx0Qa5ywscWSxV+bwQLuYyFyAv0Hh/fyzTfLjABg13HUm8SJEzlCkwkYjT++ng3JwQ4eGiosFH5fv7tOnToYAdDXd3Pu3FmfJalbr46u0Vsq2BjhLZ0Rth3WQ3Xt0lns+ocNQbwtpPX1vsEaAibqGjSzdCQQDAKYiITGEhNjniY6opOna9+A+Fu2bpXixW5NFmEWXjs5j22Mt8kPuwzQkMNqAWvl8ufPZ26jb0M70rBBfTtYtI4Yv6xXbVEJbR+rqhUGZv3btG2va4NG6db1Y/ymGey+wW8BNICv9hka6UC1J3G9zhzWNTNhl8LkpZ49zH9sbqHm3EYbH6KT+p4c3h/q3/btO5y6hXqFb8PeeMpTPPueL/Z2GF/HmNYff/n76peC2Tf7euaY+gXEvA0NCRYKopLAVEnXhhgVJNSDcJi1RCOj9o1mF4mhw0ZIpoy3tDy/aUVTu1Fjzoa4R1U9nD1bVue5MJtva4ycm/f4SYoUyY3gh5nfmjWrm1kD+5FDQjLo9pdHdSD6p1ncOGLEu8bLNhW0w+EYquYBmFEGQ7DHLBQcOhcMIBs1biizdbcb7LIDM0IsWMSiN/g/ozMXWNB97NhxEwd/sAC1a7cXzYJuhHkw4YNGw2cHQIOPmQfM4ntz4ydMNDvz7VczRl37I2VDQ52gMHe7fPk/s8ta7do1nfvuJ8W1g/njjxO6WPS4CoC3TBqqVqkic/RZypUv6x48UteNGjWQH9f+ZHbAQUeOjRV0zYp26A9GKr5roNSpUpuFpegQ4aDFRIcLfmggsRMNTL3qBGiLdgiZENCw4yG0dh/oAB0O78jdYRCP3YdcF4O6h8EiZKQDrca48eMlQ4YMkt7LO62rgqraaqswkzCCJshOt2bNGqYTwO9MnT171gjSapdsBKVUqVKaAQl2l0EdRt4rVXN06bZ2rVatGqbuwnQE/jt1EXKrVq0jbOtu5+XvGNlnw25yqJ9D3nlbJyAGG00iTET8fTf+8odgjzJc0s4V9dh2ISEZZKcuDof2FQMNLOb19E0jvK/3DVMWaEixOQQESrStEKDUzh5R6UggIATQ7qJtxO5kqGNofyDIe2pzIpsh0sGGB6j3K3SDlOXLf3BMlWFKvUa1ydgxDuFgRtZZN1lBGxUZ16LF86JrQcyECmbgMZOPybyYbvuLPnKg/mjokCHDtNy3di2FCa5tRos8oAlw7UddyxuIvgH9jbf0XfPydu6rfQ5kexLX6wx2HmzcuJnpY8z4Rt8jJuYhNO/evcdY37gzRFsLU0L88LqusTVtLn5vqpgK6888c0f74x7PvvbF3g7j6xjT+uMv/5AQ7/1SoPtmX88ZSL+ACD148V06dzK7U+liYGfbSntdTvt2bc2Wi7rwUQYMeMOYwSXUQRIcZjNhuobG4YDu8oLKljnzLWEJ/jBvy3JbeML1/eIa1K9nGvcG9cPPRL3QqqU8qx9TmdByZocmmMLAYVcsd1ewYEFdF1NT6tdrKHgvujlBuJn2V/u8ogOv4tK6dTtVz+eTfrprGEzrMLBDY15ehZDvli93ku37v1fNGh9dSC75CxQ2AhU0LbaDlg4CWxE1vfPmUCdCy1bQnXRqmk6iW7euTlCYSlWrWsXMkHibWUFghMMMYPnyZR0b7apVKxutYTk1eYiOg2lWly6ddMfBVwyLCSqcffTRB2ZmP6rpIS3s9JUjey4jiGCQOmBAP6O900XmZsvVt98arL9rVCKqSXsMD8HjiSefEN3QQUqXKSeP3V7D5CkwTKzy5MktzxUp5uww4x4OjTx2TkJ6K1asCqeRcA+L9DALC40PzKo8OWjipk+fZiZFsPtOCU0Xwi0mS9Cp9O/3P7Ndde48+czWuPi9J7s+I+6UKRMFu/Tp4lDd3ekF6flSD2ctjKf8fN2LzLNh8qVPn/9Jy5bNTV0sod8I6iV2HsSsp6/vxlfe8MPMXG41hYEm05XXq6++YuzuUT+wUxxMSTGR5GkW29f7xoBryuRJZpKpcpVq+p0WMpo4/AYYHQkEigDa4Fd695bRo8dIjpx5zFq8jBkzxih5WB/8888Z85136NDJTKJU1e8ODmtZ+/Xra3bgxDdST/s0rMFBnMi4Xi/1VDPsEmb3uKLFSqhWf4vuFjpdYNIUUzdt2mQz5ilYSH+rrlSoJNf2t22b1iZZmOo+36ypEdCw66a7C0Tf0KRpYyPQoU+NjvPVPgeyPYnrdaaWTs7hveEH4jEewi6wg9543YxNMUn5yacRfwYCYyVYOECzU6lyNd1ZtK48rO982tTJkXoVvthHJoGY1h9/+fvqlxA3kH1zZJ43EGESqJARcTo4iiljRhuDZMx0JFSTlwkTJ8sunZGdMWN6uJQwwxId06NwifDCEMCM8CM6gwTu/hwGTvg47fUD7uGh2cDsv/u7wcwd7FqXf7c0nAkDZtrwkcNkwNUNHDjIdCLd1Q7Wl4NWCYu4U6RIESEYBnxFdOtrX3a0ESIF8IavskUlG0/p4FODDbmn545K2t7CwhQR7wQdlT8HjQsWN7oOvBEH2yZDgMQkBjRHGFSg7nhzqAe6O4z+WN90FabubFLhLTw0TI8+9miEegs2KL+3BZdID2VOrr9C7as83vLF/ag+m6+04Oftu/EXz5c/vgtfDFzj+nvft2aeExhTQNd4PCeBQBHAJAD6osjW2cjkC6sQ9DEwh3J3aCeg3cHkRXQcvln0h5FZCxTV9E2frGv0MAZyd/hWofGxN3Zw949p34BnQhqJ1aomJs5b+4w0A9WexPU6A47nz18INx7CuASm/e4bN7myBh/0vRDuouN8sfeXXkzrD9L3lb+/fimmfbO/5wukf8SvMxqpd9Lf1MGsC0yVsFZhxowZZtcL96TcB9Xu/ryOPAFPHYK32PZv1njzRyPt6d3ky5fX7KaDtTv9+/d1oqPhdm+8sW88FmgvXPiFE87bCQba7gN/aEagVdqi9rAjhg/zFjXo9z2VLTqZekoHg3X3545O2t7iQFsaWReZcvgbWMDca8aHH5ldGiMj8KBs0AR6cmDjb+AUmTJ7StvTPX/P5imO+z1v3417uKhc+2Pgmpa/9x3TAZBrXjwnAU8EMMiLSp31lIb7PQwavQ0c0U7E5NvFNxsMgQfP4KtP9vetxrRv8NfHuzP2du2tfUb4QLUncb3O4F24jocgUFxWk0tsauDLxZSPL/a+8oVfTOsP0vCVv79vPJB9M8oSTPdAIBIfPOgNs/Vkl67djMkMBq2RHQQFIn+mETwC43TzCZjF/a72qr6c/uaOmiDNjHYHiPj62yJm+2JfH5+vMtAv5gSwC00K1aZExrVp286swRs2dEhkgsd6mKg8W6wXlgUgARIgARKIdQIQKGbPnmk2TIr1wrAAMSYQEPO2GJeCCcRpAjAJgOYC/705mDnZv3HjLQzvkwAJkAAJkAAJkAAJkEBsEKDQExvUmScJkAAJkAAJkAAJkAAJkMBdI+B96v6uFYEZkQAJkAAJkAAJkAAJkAAJkEDwCFDoCR5bpkwCJEACJEACJEACJEACJBAHCFDoiQMvgUUgARIgARIgARIgARIgARIIHgEKPcFjy5RJgARIgARIgARIgARIgATiAAEKPXHgJbAIJEACJEACJBBXCGDHzrHjxsupU6fuSpEuXrxo8sMPmNORAAmQQLAIUOgJFlmmSwIkQAIkQALxkMC1a9dk3LgJcvLk3RF6Lly4YPI7f4FCTzysLiwyCcQbAhR64s2rYkFJgARIgARIgARIgARIgASiQyBhdCIxDgmQAAmQAAmQwL1NABqfr75aKCdOnpRiRYtKwYIFnAe+ceOGrFixUg4eOiSFCxWSQoUKOj9gvW3brxJ2KUzSPPusfP/DCkmXNq2UK1dWEia8M+Q4dOiwxl8hSZIk1XTzO+nyhARIgASCRYA/ThosskyXBEiABEiABOIhgcuXL0vOXHklXbq0kiNHDjl9+rRs3bpNxowZJXVq15LrKvC0aNFKzp49JyVLFpcff1wrqVKmkjlzZpmnHTpsuCxdukwSJ04iefPklnXrN8jTTz0lCxbMNf6//LJRWrdpJ88887TkyZNHtm7ZKkeOHpVVq36Q9OnSxUNiLDIJkEB8IHBn2iU+lJZlJAESIAESIAESuCsE2rVtI61atTR5DR8xUj777HMj9Bw9clSeSp1apk6ZLMmTJ5O//jotJUqWlr1790r27NlN+Js3LZk3d44kS5ZM9u3bJ9Wq1zLCU8qUKWXY8BFSNrSMTJw43miHVq9eY4Qgsay78lzMhARI4P4kwDU99+d751OTAAmQAAmQgE8C0MLYrkKF8rJx4yb577//JGPGEBk7drRgA4J58+bL/PkL5KGHHhKYrNkuU6aMRuDBdbZs2SRBggQq/Ow3WqLt23dIufLlHHO4zJkz3YqmYehIgARIIFgEqOkJFlmmSwIkQAIkQAL3CAGYp125ckVOnDgpTzzxuDR7voUkSpTIrPV5Ws3UHngggSpqfGtq4B/277+C9UAhIRnuETJ8DBIggfhCgEJPfHlTLCcJkAAJkAAJ3EUCrkLMFl13kzp1KqPlmTPnU/n77zPy45qV8vDDD5sSjRo12mhz/BUP5m5JkyaVLZu3mg0Q/IWnPwmQAAkEigDN2wJFkumQAAmQAAmQwD1EYPyEiXLmzBnZv3+/zJz1sa7DCTVPF5Ixg5w7d86s1YGJ2+gxY/X6vFzSDRAi4+rVrSPz5s8XbGgQFhYmU6ZOuxXNj6YoMmkzDAmQAAl4I0ChxxsZ3icBEiABEiCB+5hA1qxZJbRsBalaraZcunRJunXramiUKF5cmjRuJC1attatqovIsWPHza5rh3T76si4Pn16S1rdxrpps+ZSqHBR3cr6ochEYxgSIAESiBEBblkdI3yMTAIkQAIkQAL3LoGbN2/K+fPnJUWKFBEe8urVq3L9+g3dmjpRBL/I3ICWCOuCsAkCHQmQAAkEmwCFnmATZvokQAIkQAIkQAIkQAIkQAKxSoDmbbGKn5mTAAmQAAmQAAmQAAmQAAkEmwCFnmATZvokQAIkQAIkQAIkQAIkQAKxSoBCT6ziZ+YkQAIkQAIkQAIkQAIkQALBJkChJ9iEmT4JkAAJkAAJkAAJkAAJkECsEqDQE6v4mTkJkAAJkAAJkAAJkAAJkECwCVDoCTZhpk8CJEACJEACJEACJEACJBCrBCj0xCp+Zk4CJEACJEACJEACJEACJBBsAhR6gk2Y6ZMACZAACZAACZAACZAACcQqAQo9sYqfmZMACZAACZAACZAACZAACQSbAIWeYBNm+iRAAiRAAiRAAiRAAiRAArFKgEJPrOJn5iRAAiRAAiRAAiRAAiRAAsEmkDAyGRw4dCQywRiGBEiABEiABEiABEiABEiABIJKIEum9FFOP4GlLsqxGIEESIAESIAESIAESIAESIAE4gkBmrfFkxfFYpIACZAACZAACZAACZAACUSPAIWe6HFjLBIgARIgARIgARIgARIggXhCgEJPPHlRLCYJkAAJkAAJkAAJkAAJkED0CFDoiR43xiIBEiABEiABEiABEiABEognBCj0xJMXxWKSAAmQAAmQAAmQAAmQAAlEjwCFnuhxYywSIAESIAESIAESIAESIIF4QoBCTzx5USwmCZAACZAACZAACZAACZBA9AhQ6IkeN8YiARIgARIgARIgARIgARKIJwQo9MSTF8VikgAJkAAJkAAJkAAJkAAJRI8AhZ7ocbuvYl27dk1u3rzp85n/++8/n/70JAESIAESIAESIAESIIHYIhAwoceyLBk3boKcPHnS67Ng8EwXXAKLFy+RlatWBSyTK1euSKdOXeXYsWM+02zXrqP8/vvvPsPcbc8PP5wpO3fu8pqtP3+vEWPJ4/r16zJ23Hg5depULJWA2ZIACZBA4Amg75g4cXLgEw5Qitu2/Sofz57jpIa2+G65GzduyJo1P8obbwyWHTt3+s127tx5smnTJr/h4nuAuF5ngsV3z569MnzESPl60eJgZRHjdOPyWCVgQs9RHRRjQPbwww97BLZ69RopUrS4QDii80ygb78B0uz5Fh49q1SpLiNHjvLo53pz8ZJvZNXK1a63YnTevcdLUrRoEUmfPr3PdHr0eFGat3hBzp077zUcBuvHj//h1T/QHjM+/FB27d7tNVlf/ocOHZazZ896jRsbHpg0uDWxEDmhZ/Cbb0mu3HnN/1Kly0rvV16VFStXhSv60qXLJHfufLJ27U/h7uMCcQMpQEfIgDdIgARIQAn8pkLPhImT4iwLCD2zP74l9Ozdu1dy5sobqcmn6yqw7N69RzB5GF03Y8aHpu1+7LHHJHGixBGSce+rPp07XzZu2hwh3L12I67XmWDw3rFjh9SuU0/C/g2TFMmTByOLgKQZ1bFKQDKNZCIBE3r279svqVOnkscff9xj1oULF5Lp702VBAkSePTnTZEa1avJhg0/RxAMtm/fLvsPHJAaNarfVUxo6A8ePCTt2rf1my8Eo5IlistHM2d6DTtx0mQZMmSoV/+45NGpcxdZFIdnUiLD6urVq5InTx75dtlSeX/6VMmXL6+8/PIr4WaIMCMTdumS9O3XXy7p0dVdunRZbt7wbdboGp7nJEACJHCvE8icObN8OON9He+k9vuo53TirEbN2nLkyBG/Yb0FWLRoiXTs0E569+4lmTJljBDsXuirIjwUb3gkgLpQpnQpefPNQVJaj3RRJ5Aw6lE8x9inQk+unDmNWnXz5q1SsWKFcB8oBtCJE9+ZpThx4oSsVI3EjZs3pHatWpI8eTInYawf2bJ1qyBOaJkykiVLZsfvXj4poULDU0+lFpiode7c0XnUr79eLNmzZ5ecOXOYe9CmrFy5Uv4+c0bKlS0rmTNncsK6nmzZslXCwsKcjwNatnnz5kv58uUlVaqUJuiFCxdklWrhTp08JSVLlpBcuXI6SUyaPEWqV6sqCR980LmHgfDq1avlzD//SKWKFY2ga3s2atRQOnbqrA10+3DvGv6ff/6FEaBQHqjfGzZsIAkTJhTMCPzyy0b5VQW7kAwZpFLlSuHys9O2j5u3bJHNm7ZIuvTptG6UlkSJEtleqpk5J998s1QuXb4klStVdO7bJ/78EQ5hvv32W7lw4aJs3rzFdGxVqlQ2SZw/f15++mmdHDl6VAoWKGA0YHbano4wrUP4lCmfNAKrqxYUneCaH9eaZ62kZX3yySedJFD/Ufc3b94sBQoWkEIFC4abLMA3Aw3N8T/+kKpVqkjatGmcuO4njzzyiKRJ86y5jTqUNEkS6a2CT9EiRZx3h/eLyYjhI96VwYMGuifBaxIggfuMADQUny34TKpWrSrr16+P0NZAY//zzz9Lgwb1HTI//LBCUunEZ57cuU37hXb4CZ0EXb36R0mW7DGpom1VokSPCMKdVK1/5UqVIrRdf//9tyxd9q1gwgb9S7p0aZ30MUGzfv0GY+KVI0d20/fB0y5rqVKljGY6c6ZMUrx4MSeefeKr/f7uu+VqzZBODhw4qP3HZWmsfZk396/OssPc++rVQo5ly+nTp2X58h/Mc5YrV9b0f/v375fVapYG942212Fhl6RAgfwRkvXWB2Kd7FdfLZTDhw/L4d9+ly+//Erq1avrxPfVVyEQTNw2aV9ZrFhRyZ8/n4nni5Wv/uoP7Wt+WLHS9BN4b5jgdnd22tGtM99++52OGTOZJRLbVaORMSRE60xlOaPjnBWat2au/V1lZXxnrIgyBLLOwJRwk2rJYEZYulRJyZYtm/tjerzG9wATRNTbMjouyZgxxITzx8ROzBd7OwzGNus3bDB1C2Ooajo2Awtv9QfxMI64ePGiJEqcyEyod+ncSR50Gc/ZafvK/26NVeyyBPsYME3PPv3Ad+7aJcOHv2sqTNVqNeSzz75wyj98+Ej59dft5vpHHexVr1FbNm7cKFt0YFmiZOlw2o2WLVvLoEFv6sf+mzRp+rx89NEsJ517+eSBBx6QenXryqLFd2w1MQBe8s032rnUM49+9OgxZVdLvtTG8OiRo4bPhAmezQKQzqyPZzvIIPTAhA6NKNyff/4lVarWkJkzZ+nHsU0aNGzsaDfwsa5SU6jceXI78WHuVax4Sflq4dcCgapChUpOeAR67rnCJuzGjRHtifftPyBn/zkrF1WYgE0qngudWJs27aXbiz0EKvpXX+srTZo0E2+bIrz77mjp0uVFQQP88azZWpZS8u+//5o8/1EhrE7devLuqFECAbxDx87aGJ4xfvjjz98OeOXKf6Z8aLzQMf+mnQ0c1qqhTo/UMqCBaN6ilbz19jvGz9MfvJPnm7fU5zpkzD7BFo0T3Pff/6BlbWAYQrNXJrS8aZDsdAYPfsukv1efo3//gUadDV6269/vdflMhUjELa/vwJNpmh3W/ViuXDmBgSkEKtsl0Ho3dOg7Mltt1je53Lf9eSQBEri/CFzT9g99RYuWrTy2Nbu0rx+k7ZSrm/bedCPQ4B4GaL169ZbX/tdPJ7sOyqjRY6XVC23khdZtZcFnn8tPa9eZtssMZm8nggFnC+37t27dJlhvWbNWHTMGgDf6o7btOki//gPkd22Te/Z8WQYOHGRi2mXFWGHBgs+NgGY8XP74a78nTZ4qrdu0E/QxsFrx5U6dOmnY2JpxjGcqVKxi+lC0y4UKFzXjmTNn/pED2u/BYSzz519/RUjWVx8IHugr8ezo8zDGcnXe+iqEAYe33xmqfeE+admqtYwaNcZE9cbKV3/107p1UrFSVdmgAudC7furVa9h+mvXsuDcTju6dWbSpCnmHXyg5nx4bphj9+jZS8c4zY2w+8knc6VosZJmYtLOO9B1pqnmNWTocMF6IdTVAa8PtLPyeoSwU65cBVmiSwuWaL2vVr2mOUcEf0wQxhd7+NsOdQjjp3M6MQs+V65c9TuGWrpsmeHYtWt3M7nsOo6w0/WVf2yOVezyBfyoA+GAuEqVq1r/69vfSWvM2HGWfmzmWiumlT1HbmvduvXmevKUqZZKqk7Y+g0aWR99NNNc6wdmFShY2Lp8+bK51lkf6+XefZyw9/qJzjRZGUIyWyoEmEfVga2VOXM2S2eSzPUy5fH220McDKoVsgo/V8zSAbW516lzV0s7A3M+aPCbVvsOnZyweA9IW2fLzL22bdtbL3bv6fhPnfqeVbxEaXP9+5EjJuzx48cdfzVPs2rVqutc4x26vnN4qEBmzZz1sRPG9aT/gNetLl26ObdUk2TpOi9LZyLMPZ2Js7TDsHDf3WnnYOqBDsodr4qVqjj1RoVqq0TJMpYKQcYfvPLkLeDUM3/+TqK3TypUrGypMOjcRl0GS5QDTrVAhg+O7k7NEa2QjFksvEs4tee28uYraM2dN99cg6Nr/R8wYKDVWd8bHOo/3tGRI0fNNfIrXaashfeunazxe/+DGcYPfxAP8T05HSBY2nBH8FIBzHrnnaHm/tdfL7KyZM1hznWAYqkQZanQaa5RDm30IsTnDRIggXubgL+2Bu1R7jz5w0Fo1LiphX4fDu0L2medPDLXKsiYtstud3Cz18uvWC/16m38V6xcaWXMlNXS9S/mGv1Zw0ZNLbSVcO+9N93SSS7r2u32V2ewTRv722+/Oe3ie9PfN2E9/fHXfteuU99q176jp6jmngphVuXK1cz5nj17zLPoRJq5btHyBac9xY3XX3/Dmj37E+OHfgjtqAof5tr9T2T6wAIFn7PU1No9qnPt3lfhWXTSz9IBrgmDsRXeBZz9Xl1Z+eqv8B7Qd9nPgzRUOHTeG65tZ6ftrX/yV2cwtnjttb52ctaUKdMMO9UMOvfQx9v9aKDrDMYWmXSspdYvJr8dO3ZaKkhbYWFhTv7uJ6jfuXLnM/XT9sM7xRgWYxF/THyxt9NzPXbp+qKFcZTt/NWfIUOHmXHRuXPn7Cjhjv7yv1tjlXCFCvJFQMzbMIP9m0qhQ4a87QhluXPl0nUEH5jro2oOhNn7bNmymmuo2LCoHSZPJ06c1Fn4s0alDM9nn31WLl/+TyD1w1wK6kz8v18cTNXy5s1rNCg9e3bX9ReL1DyttGP+BHUvzKGgft34yyZjagX1LlT3TzzxRKQxab2SX1QjU79+PUcjZ7QbqtGARgdapCRqCoX3YTuYLYwfP1FU6DLmWo0bN1LNTGPb2xyffvppOabaqMi4X9SsDSYJSZMmNcGxULNcuVBZ99N66dqlc7gkoJId9e4IUzaYdh1SbRVMsg4ePGTCwRwSanyUGQ7mYjCpgEoczp+/CeTlD2aToBkZNOgNRzVcUM3O0qR5VlSQF5y7up/1uWDvDdUy/sPBTGP3rlubKnTr2sV8DzB9gxofpp7YCARui5qGZs2SxTHrwHN/8fkCgRbQdjCts11ONSldvWaNfRmpI0wC8f7dXf9+/5PKVaqZzRJeffUVd29ekwAJ3GcEYtLWpEmTRh566CFDDOsJ4UJDy5gj/sBc+/PPv3SuYe4MszU4nIeGljYmQ2gv0aZiPctXXy50wsNUDjPe9tqawoUKOX6uJ5FtvwsVKugaLdLn+fPlEx2IS4rHU0h1XZeL9RaRdVHpAyObJsLBjM5eP40+Av0ktEq2c2Xlq7/CkgWYR924cd0ZJyTTftruy+z0XI8xqTMhatJmO7vOlHGpM6gf2EjCdoGsM+nSphWMQV7p85oxb8Sambmf3tq8ws7P/bhL+3QViowZqO2H5RrYdEqFY10ukMvc9sbEF3s7PV/HyNQfjCndTQLtNP3lH9tjFbucgTwGROiBCQ9UsBis2e6vv047A3WY6WAQik0OsIakTdv2qva7JsVLFJN0adOZQV8WXRwIlz5dOlmy+GtRCVPq1W9o1pkMGzpE7RjvrN2w87hXjzBlmzXrYzX76mrWbrz15mDnUVUyNypgrMmA6Rk+UjhPg1gnkocTmHvBNOyQNoYQmmyHRhtqUwyyXRtJ+MNWdcH8T01H1bFTF/m///s/GT5siAouJe3ootNLctO6Y4rleHg4gcq+WNGi4XzSpklrOrJwN29f6MygMX0oWzZU7X0zmPwtY6wlKvRdCFcO9/j+/N3Du17rLIku8r8sdh21/dJqIwk/d3fk9yPaSdwIt/NZOq3X9g54s+d8ImPHjjcCHtbZJNK1bvb7O/XnKUmfIX24JO31Pqr9DHffvrDj2tf+jpiE8GSz/uijj8rbb72p68m6qoq+qr9k6E8CJHCfEYhqW2PjsQfg9jWOnu65+j/91FOOeTHWFSRM+FC4NrVs2bKCNsufi2r77S89d39sMJArdy6zFhemQhDmxoweFWG9kns8XEe1D/SURmTveXt3vvorcMdYAINjV1cwCgKit3xd0/N07ql+eLrnGjcmdSZlypQ69lwo8+YvMFtCqxZSenTvJh10jbI3h/eHScRnn33GCYL1Thgb+drJ1mbii72ToI+TmNYff/nH9ljFx6NH2ysgQg/Wa2ABvj0AR2nWrl0rZcuVNQWDjWy2rLe0PFhIf0bXWixbtkSwyBoDbthNZsmS2SwCwzqFIkWek9GjRhoJumatuhp2mdFImMTugz+1atY02hRV6evg+abR7NiPPf39GVK4cGGZMuXWOh7Y7E7UrT49NQZJkyQ1DO24rkcIoEl0sB1atox0aN/O1cucQ+uDbTYhpNrvFet4MAAfPPgNtaceoOu3Rqq9aB/5ecM6Jz7qgutsnuPh4QRCwAZdDOu6aQMW6uXMcWvDBtcoWPODRZ0QiO0NHbCoNYH+g4PWBVoSb86fv7d4uA8NGjRIqJv2glCwAY+GLgt57TSg1bl27aqMHTPKmem0/XDEttPQZLVt29rcxpoqvEc4TAJ8880yIwTZ7xT5QOi3hSYTMJp/1q79ydibe5vVrFChvNHiqZlBNHNgNBIggXudALTz6CMwMYbZ9kA4eyBopwXtfHHV3sNhFh5a+0kTx9veztHbZJAdIKrttx0vMkdM9q5XbX8J3TgBFimY9cek7rvvjtJ2/tY6Gl/pRKUP9JVOTPx89VfYIhkTeOijYekRExfX68xhtVYKuxQmL/XsYf5jcwtdLmA25XLVQLkywPtD/du+fYczNkB/jW/DHqe4hnc/98XePayn65jWH3/5x+ZYxdPzBuLeHZuZGKS2b+8+gWYHvwECMzYsOMO5PZuMBXhZs93SAmFWG7tPQWWKXbCwIBEqcKjCIR1jEdmHH800HxqkWOzckTwO70ceA2xeo6ZIkVx3WCtntAE1a1Y3XOzAISEZdPvLo2oe+KeZJRqhO27BQRPh7kLVPACLQrHdtdqWmgVzCIPOBQPqRo0bmsXr63R3Hixww4JFLB6E/zM6c4FdvY4dO+4kiwWoXbu9aN41wjyY8EFxbQzQ4OOdQavhyaVOldpsDoCOAq5li+ZGkEC6aDggEMMcrE7d2hGiY7c5CB5YaI9nxULZlatWO2aR9erWMQIUdriBQII0//jjBB7WpOXP3z1DlNX12Vu0eN6YMEDQwgwOfhwMwqCnbSNr1qxhGj2ouM+ePWsER7XDNQsJkU9ISAaz6Qc0behUsHDTfn+1atUw72rK1Gnm3k7dNKFVq9bhNvpAGpF1169dN+XFjB12fOneo6cxQ33mmTszU+5pvfHG62aTC9zHe6YjARIgAVcChQsXUmHnQbOhDszbseAZGxXFpL1AOtjwAG0hxg/Ll/+g2vCyJluYUq/RXUZhEo9wGDt07tLNbFDjWi5v51Fpv72l4ek++siB+qOhQ4YMM+02wsAkOeT27l3oI6AJcO1LXNOJSh/oGs/13L2vcvWLzLmv/gqmcdjRFRs8YOIR7DFJp+t2IpN0uDBxvc5gyUDjxs3MRkVmfKPvEZpECM27d+8x1jfhHkgvwAamhPiNSmx+AEb4vSmY2vvqY+10fLG3w/g6xrT++Ms/JOTujVV8PWcg/QIj9KhQU79+XRk2bLiaXOWX8RMmyBid5bYlXcxi21v/1dIBYYYMGdS0rbRuv9jQqAWhPkVDAff66/1MA4p06qr/Cy+0Epgz3W+uga61QQPToP6dLUHB4IVWLeVZHbCWCS1ndlSBeRQcTAzdXUHd6rh2rZpSXznmy19IdHOCcJqHV/u8olt7FpfWrdupej6f9NPdemBaB4EIjXl5nfX/bvlyJ9m+/3vVrPEpXaas5C9Q2AhU/fq+5vhj1zQIbEXU9M6TwxaLEI5zZM9lhFlohAYM6Ge0WrpYUnSDCzWvGqy/91MiQnQ0Plhz8t5772sdyyfT3//A/C6Q/dxIu2XL5mYHOPzYpi6aDKcZ8efvnmGTpo2NkFO1Wk3j1eulnmo+V8Ls6FK0WAmzFeiMD6brdtS3tv52jY91TdOnTxPMFGG3mRJa17FOzdYSYb0MbKzxzNhlDmaD2F0Igh/iTpkyUT7WXfd0MaTuZvSC9Hyph5ltcs0jsucQZJFOg4ZNzBbZQ955W5roAMKXS5EiBbeu9gWIfiRwnxPA9vuv9O4to0ePkRw58xhz9IwZM8aICqwP/vnnjGmvOnToZHYDrVq1ikkTa1n79esrg99827SbGDtAW404kXFRab8jk55rmGnTJps1tgUL6W/VlQqV5M+VqI8AAEAASURBVLqNcNs2rU0QTOQ+36ypEdDeGPSmazRzHpU+MELk2zfc+ypv4bzd99VfYVw2ZfIkM5GI9Z75CxTS3WWXmN8U9Jaet/txvc5gbIr3hh+Ix3hohE5aDtIJQAiumIz95NN5ER4NYyVoH6HZqVS5mu60Wlce1nc+berkCGE93fDF3lN493sxrT/+8r+bYxX3ZwvWdQKVaAM6lYuZbQya/DmYTWEga5vwuIfHbPpjjz0abgG3e5j7+Rpagkd0BgnCiT+HwTQ4w5zQk4OJAn57wPW3khAOM3ewa13+3dJwJgwQxvCR25sG2GkOHDjICAHdu3ezb0U4QqN0/vz5cHUEVRB215GpNwiLuuNtYR60PCifvTmCewH8+buGBzfk5/r7UmCF+5GxJUda+C2FR7Uee3pP4ODtOW7FPWu0nN6+Edey8pwESIAE7jYBmD6hL/LVjkW1TL7aaLTHWI8alU17XPOPavvtGtffuemTtY/1ZO6HPgsaH3tjB/e0otIHusfFtae+ylM4f/d89VewFlEbwxivr47rdQbvAmuAXcdDmJyEaf9Ql8263FmCD4RE19/jcw/j69oXe1/x4BfT+oM0fOV/L41VAi70AB7dvUOga7fuRrPUv7/vNR7YRUe3o9Z9/L8IaAd475Dkk5AACZAACZAACcQnAhAo8NuRI0cOM5YY8ansLGtEAhR6IjLhHRcC0JpA8IFpWQY1S/Tm8ENe2Pkrbdo03oLwPgmQAAmQAAmQAAmQAAnECgEKPbGCPX5lCpMArLvCf28O5m6wX6YjARIgARIgARIgARIggbhGgEJPXHsjLA8JkAAJkAAJkAAJkAAJkEBACXifug9oNkyMBEiABEiABEiABEiABEiABGKHAIWe2OHOXEmABEiABEiABEiABEiABO4SAQo9dwk0syEBEiABEiABEiABEiABEogdAhR6Yoc7cyUBEiABEiABEiABEiABErhLBCj03CXQzIYESIAESIAE4gMB7Ng5dtx4OXXq1F0p7sWLF01++FFyOhIgARIIFgEKPcEiy3RJgARIgARIIB4SwO+zjRs3QU6evDtCz4ULF0x+5y9Q6ImH1YVFJoF4Q4BCT7x5VSwoCZAACZAACZAACZAACZBAdAgkjE4kxiEBEiABEiABEri3CUDj89VXC+XEyZNSrGhRKViwgPPAN27ckBUrVsrBQ4ekcKFCUqhQQecHrLdt+1XCLoVJmmefle9/WCHp0qaVcuXKSsKEd4Ychw4d1vgrJEmSpJpufiddnpAACZBAsAjwx0mDRZbpkgAJkAAJkEA8JHD58mXJmSuvpEuXVnLkyCGnT5+WrVu3yZgxo6RO7VpyXQWeFi1aydmz56RkyeLy449rJVXKVDJnzizztEOHDZelS5dJ4sRJJG+e3LJu/QZ5+qmnZMGCucb/l182Sus27eSZZ56WPHnyyNYtW+XI0aOyatUPkj5dunhIjEUmARKIDwTuTLvEh9KyjCRAAiRAAiRAAneFQLu2baRVq5Ymr+EjRspnn31uhJ6jR47KU6lTy9QpkyV58mTy11+npUTJ0rJ3717Jnj27CX/zpiXz5s6RZMmSyb59+6Ra9VpGeEqZMqUMGz5CyoaWkYkTxxvt0OrVa4wQJJZ1V56LmZAACdyfBLim5/5873xqEiABEiABEvBJAFoY21WoUF42btwk//33n2TMGCJjx44WbEAwb958mT9/gTz00EMCkzXbZcqU0Qg8uM6WLZskSJBAhZ/9Rku0ffsOKVe+nGMOlzlzplvRNAwdCZAACQSLADU9wSLLdEmABEiABEjgHiEA87QrV67IiRMn5YknHpdmz7eQRIkSmbU+T6uZ2gMPJFBFjW9NDfzD/v1XsB4oJCTDPUKGj0ECJBBfCFDoiS9viuUkARIgARIggbtIwFWI2aLrblKnTmW0PHPmfCp//31GflyzUh5++GFTolGjRhttjr/iwdwtadKksmXzVrMBgr/w9CcBEiCBQBGgeVugSDIdEiABEiABEriHCIyfMFHOnDkj+/fvl5mzPtZ1OKHm6UIyZpBz586ZtTowcRs9Zqxen5dLugFCZFy9unVk3vz5gg0NwsLCZMrUabei+dEURSZthiEBEiABbwQo9Hgjw/skQAIkQAIkcB8TyJo1q4SWrSBVq9WUS5cuSbduXQ2NEsWLS5PGjaRFy9a6VXUROXbsuNl17ZBuXx0Z16dPb0mr21g3bdZcChUuqltZPxSZaAxDAiRAAjEiwC2rY4SPkUmABEiABEjg3iVw8+ZNOX/+vKRIkSLCQ169elWuX7+hW1MniuAXmRvQEmFdEDZBoCMBEiCBYBOg0BNswkyfBEiABEiABEiABEiABEggVgnQvC1W8TNzEiABEiABEiABEiABEiCBYBOg0BNswkyfBEiABEiABEiABEiABEggVglQ6IlV/MycBEiABEiABEiABEiABEgg2AQo9ASbMNMnARIgARIgARIgARIgARKIVQIUemIVPzMnARIgARIgARIgARIgARIINgEKPcEmzPRJgARIgARIgARIgARIgARilQCFnljFz8xJgARIgARIgARIgARIgASCTYBCT7AJM30SIAESIAESIAESIAESIIFYJUChJ1bxM3MSIAESIAESIAESIAESIIFgE6DQE2zCTJ8ESIAESIAESIAESIAESCBWCVDoiVX8zJwESIAESIAESIAESIAESCDYBBJGJoMDh45EJhjDkAAJkAAJkAAJkAAJkAAJkEBQCWTJlD7K6Sew1EU5FiOQAAmQAAmQAAmQAAmQAAmQQDwhQPO2ePKiWEwSIAESIAESIAESIAESIIHoEaDQEz1ujEUCJEACJEACJEACJEACJBBPCFDoiScvisUkARIgARIgARIgARIgARKIHgEKPdHjxlgkQAIkQAIkQAIkQAIkQALxhACFnnjyolhMEiABEiABEiABEiABEiCB6BGg0BM9boxFAiRAAiRAAiRAAiRAAiQQTwhQ6IknL4rFJAESIAESIAESIAESIAESiB4BCj3R48ZYJEACJEACJEACJEACJEAC8YQAhZ548qL+n72rALCqasJDiYCKGCDN0t3d3SBIIyCdAiLhLyIt3R0KiqDSSIfSJSndjdIpXfefb5Z7ufv25Qawu3OUffeePt+pmTNz5mo1FQFFQBFQBBQBRUARUAQUAUUgaAgo0xM03DSVIhDuEHjw4IHbNnkKd5tYAxUBRUARUAQUAUVAEXiFCCjT8wrB91T0w4cPPUXR8FBA4MmTJ6GQq3+W9+7do3nz5tM33b6l//77L9TK8TXjdevWU6/efd0mW75iJQ0aNMRtHA1UBBQBRcBXBE6fPk1jxozzNdlLi//333vo5+kzrPJCc4+wCnn+8PTpU1q/fgP16NGL9u3f7xgc6P2332bSjh07AvmHN4/XfcyEFt6HDh2mgYMG08JFi0OriGDni/kxYuQounjxYrDzCukMlOkJaURDIL8//viTSpUuS+kzZKaChYpSn77f0ZkzZ0IgZ83CEYHbt2/T0aNHLe/Dhw8L7qE1Wdu2bU/f/zCF4sePT1GjRrXKDcqDY92DkgfSYEPv2asPde70pdssKleqSAcOHqTxEya6jaeBioAioAj4gsApZnpGjxnrS5KXGhdr5PSf/ZkeX/aIJ8ywHDx4iIJzgDllylTq2KkLvfPOOxQzRsxA7T5x4iTduHHD8v/1t1m0fcdO6z28PrzuYyY0cN+3bx9V/rgq3b1zl+K8+25oFBEieT5+/JhGjhxNFy4o0xMigIbnTFavWUttPm9HjRo2pN27ttOE8WPp/Pl/6H9ffxOem/3K2oYTtNp1PrXKT5kyJU2d8j3FixfP8guph1u3btH6DRtp4IB+9Hmb1hQjRoxgZe1Y96BmNnLUaGrXtg299957brOIHDkyfde3D02YMOm1klK5rbQGKgKKgCIQggj4skfcZGakQsXKwTq0XLRoCTVv1oQ6duxAKVIkD9SSFi1b0aLX+NQ/UIXVI8gIYCwULlSQevfuSYX4V53vCETpyc73ZM5TnDt3nn5fuJD2MjeaLGlSWrZsOX3wwfsUK1YsSQAudeHCRXTp0iVKliwZRYkSRfwvXLhAa9euozffjE5zWfXn6JGjlJTTP3v2jJYsXcanFjsoZYoU9MYbb0h8nLqcOXOWRWcXaMHvC+nqtWsSjnzxfv78eUqePDmBSDPdv//+y2Uvpr/37JG833zzTTPotfpt2649lS5dSojQ6NGjU9y4cSlf3jw0bNgIypYtKyVKlFDqe/PmLcF346ZNFPud2AEI1hWshgR34MBBWrxkCV27ek0Wy6tXr9LixUvktD5xokSMtz8GwPPkqVPkr3q1gI4fP87lJKJIkSLRypWrhFD/8IMPKXbsdyRf/IHI/c8/V9PKVauIDGLJxUcS34pge0A/7t79t5RtcGRIOZC36cDULV68lHbu3CWnWXHixJEgnJLNmjWb3n03Do+rRXTv7j2WjkSROr311lv0G59ogTlBvSBO3bRpM4+XpXTn7h3y4/FlOlflb9y4if5cvYZP4g7S+0zwg+g3uC27du2i1KlTWZIYMCurOd4f3N5nT59ZfYD8gQ/SAD8sSJDefPTRR2bR1u/Zs+e4vjNp85Yt5Jfcjx7cf0BJkiSWcEjxFnG/HOT+Ao4xY744zfOl7m+//TbhhGXr1r+k39HfKMucB+jnY8eO05WrV2je/AWUI0d2gqh8EIvKhw0bYrUXlTp67BjNX/A7PXj4gOInSGDlgdPGjRs20Y2bNylXrpxW+/RBEVAEwg8C5tqbKFFiWsMHcWvXraO4H8a19gCs2atW/UHp06ezGo394O69uxSP9yxf9xSoKmEPqFO7ltAAO1hS8cH7H3B5sa38Xa3xZl3t+0TixImsdOaDp3Uc+WPt/HvPXsqQIb2ZTH7Rnv2sWla//qd0+/Z/gfaIK1eu0O+/L6KzZ8/K/hAtWjTRIIBK8AY+6Hr//fcJ+znWd0fnas3GHco5c+ZyvgspLu9z/7FWQrp0aa3kN27c5LDfuW/WCy2FdT5lyhSyL+IXOyxoHvue5A6r/fsP0Pz5v0sbQD/ZNRH++ecfoa1A230U7yN66y1/ms6qDD+YeQd1zPhKt4TGmAFds337Dlq+YgXTrTGZfv3A3kSXz55oGFeYmBm6w96Ms5RpYezJTG7QUx6riRMnFhrO1fhBOmd7vkkPmPni1135QaFPMJfGjhtP1WtUoz08nxzXD3vZL/s5ksEuJAoFQ1OnTj3Kkyc3vcML1YEDB4TA2rRxHSVgomnM2HH044/TqHy5snT4yBG6xozKn3/4E+fQlR06dDgzKn7CrICQxKLz6NEjIZCvX78uIuJtf20WxgeSEH/CNDWLe2MQ1MEqQvWGy8yWNSvt2LmTCcokcmKPtmHRadvuCypapLA0dSUv1itXLAtAvIYEBsHNA4M3bbqMUu/ChQu5zA4ENKQTWNiScjuXMnPZ8LMG1JZP6+EqV65K1/mECeFgDkCwFy9eTDDMnCkjnTp9ho5wH2zZvJHixHmX+vUbIMwqmJHUqVLJIgrCPWbMGCKNiMTL54aNG2nihHGSDxa3evUasEj9JhUokE/wxYY4Y8Y0p3WGLvKs2XOofPlyMrneeCMa/b5gnhDSkFY0adKMcufOTY+4/Xv37qVhQwdThQrl6f79+6JqhvGDTQMbDpjo5s1bCbOTiBnAb7r+j9KlT0+NGzelU8x45MublxeslVTl48pyGoIKuSp/5sxZtGz5Ctq2bTvVqlmD6tatzQyMQeXKV6JdO7cxNnFYPHuBPqlWgxeXGLLBY2H+7LP69G03f8nbx1WqiepCjBhvCqMPxgh9gVM5u8OiMmny93IiV6N6NWE4atWqKWO3U+evqFixosxQPaVVPJan/DCZ8jKjC+dL3VPwwUDDhk1oP8+DEiWKC0MG5m3G9GmyOPYfMFA2NeSbNm0a+uH7STRu3ATBYPmyF/rBmItYXItznTCXnj55ygz2YovxwTzG4cb8eXOQlTpFQBEIZwiYay/2YVPqjbUaUvCCBQsQ1kGsW/v27rZaXrNWHcqfPx990b6dz3vKmrVrqVmzlrxnpZR1Fmsy1HcXzJ8rdAH2HFdrvFlX+z6BNdbuvFnHL1++RNHfiE4lS5agbt262pML7fLrr79xu5cS1NvsewToC9AkZcuU5gOlq8I4rVq5nM6dO8fr7QKazYxLJaZPsP8hjt2BOHS1ZoMAxx3KmXzwlzt3LsHlf191sZJDBXv8+IlyIIh1vnixYtSyZXPCnoT7ou+887Yc/tn3JFdYjR49liZ//4PUb+tff8nhI9Z3MG+bNm+mpk1bULGiRegyM3cnT56k2bNmBpI6mXkHdcz4SreExpipUaO20CGZMmWQvRljoW+f3hbmzh68oWFcYYL83GFvLw933sAEg3kGfdCGtUXeey+Oy/GDQ21nez761O7clQ/aOij0CdQ5cT0D9GSi5wcQ9vXDXv5LfwbTExKuSJHixnff9beymjBhkpEhYxaDT6oNnthG585fGUxASThLFIyUKdMYvHjIe7du3Y3qNWobzOTI+w8/TDWS+aU0eGGVd2YGjEyZsxl79uyR95Klyhj9+g+QZ/xp1rylkSFDZoMXNvFDPLzzoiHv48ZPMPiUXZ7xh4lY48cff7LeX5eH02fOSLuZIXFbpeXLVxh9+/az4rD0xsiZK68BnOAqVapifPXV11Y4L4ySL5/EWX75CxQ2fps5S97Rb8DUxJ+lMhLf3p8dvuxkfNGho8RnHWKjffsOBjM98n7p0mUjBffnoUOHrPzNB14wJS+WzIkXxkKhwkUNtAHlYYxMmjTZjG7w6YCRLXtO486dOwbGCcYBMwtW+Oo1a4zkKVJbYwEBSJ83X0HjMecNx6cbhl/yVAYzQYa78hGX1QKkPDzDoQ0okxltea/foKHRtFkLGcPwYGmUhOMXrvLHn8j4wziHw7gCls7ckaNHJe2VK1esYD4MCDA2MRdatmwt4b7WHdjlzpPP4A1P0vPJppEjZx7BFB6YM+j3mzf9+w1+6NNOnbvgUZz0Cc8dc6zwRmbUrVvfwJgwHR9KMGa5zFf9VQQUgXCGgLn28v1Dq2VYl7A+wWH9zpgpqxWGhxo1axvDR4wUP1/3FHNdP3jQfw/BXgaaAOsjnLs13qyrfZ+QRLY/3qzjTZo2t6UI+Dh16k9G6dLlxNNxj6hX/7MAtM+33/Ywpk//ReJircd+4mpP97RmIxOstdinXLkSJUsbP/00zQp2tyc5w4oPGmW/ZC0AyYMJViNzluxCH6Af8Gy2BxEaNmpi0QJWofxg5h3UMeMr3RLSYwb0KegYZralWfv27Tdq1a5r3L17197MAM/e0jCuMHGHfYCCnr+0av25wUaQrCBP48fZnm8l5gdP5QeVPvE0Fux1eNnPwbtJ/ZxFw8nHGRbr1qhR3WLanj57KipCUGOCGtvAgf1Z8nOMpk37WcTDiHjv3n2Jf5jV2YoXLyqnCvB4m08ocGoDNS84pH/69AndunVbpD+nTp3mE4kyEoY/UOspU7aMpVYE2dV9Fg3zhBWuuFXLFmJFYu7cefTvvxfo+vUbdI+lCK+re8gSLrjLl69QseIlrGq2atVS7oKU4dOiUqVKiiWX7dt2CPZQZWIiVyQiSODn52ely5IlszwXfi7pwgvE5Og300GdzTwBMOMXscWHGsPcufMlOiRyI0YMYzH4OT75WkFXrlyVtLhQmTbtC/E7Iu/auVu4fVOVC305b+5skRpA/Y4XFCpbtqxZDapcqRINHjyU1a4OsbQvg/jnzJHDCscDxO6ZM/u3Ce9/8algCtZ1XsCiedNB8gLVLdQJpw3OyjfjuvrFSdtOlnT07NnDUsXMnj2bSAg3b95CeIaD2qGprpeepU7Hj58QdTu7eoCrMtq0bkVQY4BqHlQHoIZ5lk8I4dxh5yw/nI4WLFhQpHsIhypasWJFaPOmLdSaxw4cpH92lRGoY5TluWM6jIF06dLRsOEj5NSyTOnSgSR4kAji4iwzplZZZnr9VQQUgfCDQPZs/mscWoS1bd369V43zpc9BZlivTTVt/BcpEghsVqGNdLdGm9Kohz3CbOi3q7jUPcNisuaJQvxASLF4VN3SHNw38Jb582a7W1e9niu9iQzjh0rYAsMoQqFf3DYL6FunYH7HFIj0F9z5syTsNi8ryDMlQvOmPGVbgnJMZOE1cWwZ0KyUZNpWdyZ+e3XFxb7nLXXWxrGFSbusHdWnqOfN+PHcc+35+Gp/ODSJ67aba/Dy34OEaYHwGOwpkqV0qo/7uWA2ITj0xtq3KSpTKCsrH4GMSjE1egMuKNHj1IrFsuaDvcO0qZJbb7SP//8KwwS8gcRi3sOEOeaDvErVSxvvopaHe6sQAwIEXkjVn16/Ogx5cufl5IkTiKEZSoWo79uDpMO6mibNm6mTBkziiqXqQLYsFFTIaRRZ6iA8WkL5WGVsIysroaJCsccs/w6/jEJcru/Mz8z3FmY3Q/MVZ269UT1LW+ePHznIz4zMZGcln/x0kVKmiypmbX8mnqyW7ZslTwSJkxghceLF1dUGHFnyVsHndOoUaMRxN2mK1q0qDDD7so347r6ZYmI/7hzGCvQpUWYO+eqLxzTTJ/xCzOQo4Q5AcMYg+/zmGl9rTv0rtEfdpeYdfLB/LlykSNFFvU1e/i0aVNFJWMBq7jxqaWoZvTt08syvGAYzyS6WU97Wn1WBBSB8ItAUOe8ff8w0XHmZ4bhNz6rWOOAE87dGi8R3PwJzjruJlsrCKrMGTJmkDurUBXCAeHwYUP5zkXge0VWoucPQVmzHfPw9t1V351hdXcwhvb9E9cDcK8auOMOCIhju8vuA4Poqlx7fs6enY0PZ372tMEZMx9++CEtWfy7qBPCJDRrQcjd6mbNmtqLCPCM/oNBIl9pGBMTd9gHKMjFS3DHj6fyg0qfgMZ35sx2Owt7WX4hwvREiRJVTqvtlT5y9BiZerVDhw4TYgzSAThcpv/oo3j+RCnrpYIxSZ36BZMDiVAaG9Nz7PgxiYt7JrhoCCmQaRwBIOLifarnDBbyR/xUz5ki3Nu4xhf5ly9fIvcaIBHp9m33AAwa0rwODhMaUhZc+oJuLhYb81J8tGgvumry91MoZ86crM/rb+IT93PGsLlPTwtCSLVxMV84vcqYbli/RhhL5Is+dlY+mMylS5cLIW+G79q1W+4LYVHF5Ni7dx9lzZpFqocwFhnLxuFtfcEscuE0dsyoQEnAcLsq31Eq5ZgY94gwzjDmzPpBVxV1rF7tE8foQXqHWUdIYRo3bijpWU1B7lvhxR12zuoOPKGPjbFjui1bt1J6lty4con5RO/ylctWMKv1CZPUoH49wj9c0CxfoRLl5E2uTp3aEu/IkWNyFwwSVnWKgCIQ8RDA4RzWadxJwWl7SDhHgmjX7t1ixAd5u1vjXRFYZp1Ccx3H4e0Wlvrnz5dX7sNAcwGHrEOGDGWTvcPNKrj8Dcqa7TKzIAZAqvP48SMaMXyope1hZoW72mCIsKfgIDY47nUfMydPnhJDHLiThn+4W96iZWu542WXQNkxCC4N4w57ezmunoM7fjyVH1T6BPV6XV3kkKgYCEJcFMQggaoO3+cR1SlTGoPTaxCLrOcnF6P7DxhEKZL7S3mOsEQIhKWdU4ZfGjsTdBRMTUqpKt+LCMAQnTt3XgjnAEwSxzelTCgbqnYQ0UIFr337L2ViQ/T+OrquX/9PiM7JfOkdeGFRBdENaZdJZPr5JXtuve4S+/9jfTDSVBcM7Xb5JU8mkg4wW2BYoQoFyYwzlcFKlSpIO/BtF9QPF/obNGgoxDQu90EMj49YnWbrPZDi4VsNuKQHxtZbV5ONEKxnCzZQX4RKI/q5Zas2rMZ4naUUrstH/hDr37lzV4wyOCuvXr26oroAqRTaiBMgSNYg+g4J5+eXTAwPQFUMG8wP/E0Gsx99rXv9ep/KWMHFWRACYPihrvBxlcouqwpDGJhDpgMhw/rvkhZjDy5KlMgB1CUhmcVJoDpFQBGImAjkzJmDmZ0oYvAEay4uPMNKkyPj4gs6yGcoWynF+odPN6xa9acYeEEe7tZ4b8oIrXU8Kqtrd2dDPTAGhP0aDircsJoJh70CkgD7GisBz/8EZc22p8dzvLjxXObvGNfZe8WKFYSBhVo51Jaxp+Pj2dDggUoj9ukhQ4bJ/ow+wsEc31FxlpVbv9d9zODDrzVr1hEaBeMY/QiaC0wzDk9xNcPRBZeGcYe9Y1nO3oM7fjyV7+cXdPrEWX1fB78QYXrQ8bg3AwsmWbLmsL4abEpvmjZpzCZ9T7MqVla2itJDGJiozyUXYHDAHJlSAJyUgIEy0wIkkdw8l+QcOezAELFUCAMT9wxMZ5f0VOIJnSxZMlZtK0RVq1YX5goSFAzo19FBND5p4ngWNa8jNk5A6dJmEB3TFs2bUeNGDaXKnzWoTwmZKShcpBiVLFXWukdz4sSJl9Kk/PnyibWzevUbshWy3LLggnh2Vj76Zfz4MfTzz9OJDRQQX/qk9l+0k9MT9DmkMyC0S5Uuxx/dqsLWc94QK3G+NAR3nLp2/Zp69e5LfOlS+hn62TBB7a58lIF7OZlYRTBX7ry0ZMnSQMV2+KI935PJT581bEx58ubnL13vEutqEIWHhOvSpZPcAUK92SAHwWofxj+YFl/rjjtYsDrERi4EBzbgwZZnelGB/PldVhX35jazdR6T0YJkEX3CF5L53lQ2qlGzFktsq1vW5JARrC/a79S5zFwDFAFFIFwiANXxTh07sqn74Ww9M5NYZ4WZ4+A4rNfXr1+TfaJZsxZiEt+8b+hujfemzNBcxydOHCc0T3beCwsULELvsvVac6/GZzbqsoQch3A9evYOVNWgrNmOmdSqXVMO5sqWq+gY5NU79pnJkyfKoXWevAXYAl8h3n8eiHYD6KTx48bKoXXpMuUoa7Yc8nmFCnx3yVf3uo8Z0IroN6jus4ElGsRMYM8e3wrjisPDX36dGajJwaVh3GEfqDAnHsEdP57KDw594qS6r4VXiJisxokwTjxw0hGVRd2j2bTeAT7RnzJlcoBG4qT83XdjB/B7WS84vQBzZDJXL6vc4JQDqRlEy6Yqn2NekA68yadIwP5VOH/1hqeiquZN+ThFepe/IuysDzB2sMBiYQyqw+kMpDs4mXHm3JWPMFzwB0PszEGNA4yIKW1zFic4frgnZTcw4JiXL3UHDtBjN7935JiX43vjxs3kAm716gFV9mCSHCbN7Q5mUiuxSfQ1q1epEQM7MPqsCERABLA/YR9yt3b5Cgu0QiBRgDqUo/O0xjvGd3wPzXVc9mM2EwwayNGB/oDExzQW5Bju65rtmB57E/KIyZotwXFY82FIyhlN4S/JiuT1fu+qHq/7mAGOMJplp1VxIIm7yP379XXVLKF/g0PDuMPeZaHPA4I7fpCNu/KDQ594qvvLDg8RpodNPcp3R4oWKUK4Q4DTH1i9yJQp08tuj5anCCgCPiIAtTos6nPnzGJJqP/Hb11l0a59B9btzsDf1GjqKor6KwKKgCKgCCgC4QIBMBT1Watl8OABATSKwkXjImAjQoTpwWXnQYOHsE7vHjllb9K4kXxcMgLiqU1WBMIkAvgA3ZIly6jfd31c1p+/FUHHWYUSqiLqFAFFQBFQBBQBRUARCEsIhAjTE5YarHVVBBQB5whAXRE66K6cp3BX6dRfEVAEFAFFQBFQBBSBV42AMj2vuge0fEVAEVAEFAFFQBFQBBQBRUARCFUEnN/aDtUiNXNFQBFQBBQBRUARUAQUAUVAEVAEXh4CyvS8PKy1JEVAEVAEFAFFQBFQBBQBRUAReAUIKNPzCkDXIhUBRUARUAQUAUVAEVAEFAFF4OUhoEzPy8NaS1IEFAFFQBFQBBQBRUARUAQUgVeAgDI9rwB0LVIRUAQUAUVAEXhdEcBHPEeMHEX4GPHLcP/995+Uhw+Yq1MEFAFFILQQUKYntJDVfBUBRUARUAQUgTCIwOPHj2nkyNF04cLLYXpu374t5d26rUxPGBwuWmVFIMwgoExPmOkqragioAgoAoqAIqAIKAKKgCKgCAQFgahBSaRpFAFFQBFQBBQBRSB8IwCJz4IFv9O/Fy5Q3jx5KHv2bFaDnz59SqtXr6HjJ05Qzhw5KEeO7BQ5sv856t9/76G79+5SooQJ6Y8/V1OSxImpWLGiFDXqC5LjxImTnH41xYr1Fueb1cpXHxQBRUARCC0E9OOkoYWs5qsIKAKKgCKgCIRBBO7fv0/pM2SmJEkSU7p06ejKlSu0e/ffNHz4UPq4ciV6wgxPvXoN6MaNm1SgQD7asGEjxf0wLs2YMU1a23/AQFq2bDnFjBmLMmfKSJu3bKX4H31Es2f/JuHbtm2nho2aUIIE8SlTpky0e9duOnP2LK1d+yclTZIkDCKmVVYEFIGwgMCLY5ewUFutoyKgCCgCioAioAi8FASaNG5EDRrUl7IGDhpMc+bMFabn7Jmz9FG8eDRh/Dh6993YdPnyFcpfoBAdPnyY0qZNK/GfPTNo5m8zKHbs2HTkyBEqV76SME8ffvghDRg4iIoWKUxjxowS6dC6deuFCSLDeCnt0kIUAUUgYiKgd3oiZr9rqxUBRUARUAQUAbcIQApjuhIlitP27TvowYMHlDy5H40YMYxggGDmzFk0a9ZsihYtGkFlzXQpUiQXhgfvadKkoUiRIjHzc1SkRHv37qNixYtZ6nApU6bwT8Zx1CkCioAiEFoIqKQntJDVfBUBRUARUAQUgXCCANTTHj58SP/+e4Hef/89qlO3HsWIEUPu+sRnNbXIkSOxoMa9pAbhd+/cIdwH8vNLFk6Q0WYoAopAWEFAmZ6w0lNaT0VAEVAEFAFF4CUiYGdidvG9m3jx4oqUZ8aMX+nq1Wu0Yf0aih49utRo6NBhIs3xVD2ou7311lu0a+duMYDgKb6GKwKKgCIQUgioeltIIan5KAKKgCKgCCgC4QiBUaPH0LVr1+jo0aP007Sf+R5OEWmdX/JkdPPmTbmrAxW3YcNH8PstuscGELxxVat8TDNnzSIYNLh79y6NnzDRP5kHSZE3eWscRUARUARcIaBMjytk1F8RUAQUAUVAEYjACKROnZqKFC1BZctVpHv37lGbNq0Fjfz58lGtmjWoXv2GbKo6N507d16srp1g89XeuM6dO1JiNmNdu86nlCNnHjZlHc2bZBpHEVAEFIFgIaAmq4MFnyZWBBQBRUARUATCLwLPnj2jW7duUZw4cQI18tGjR/TkyVM2TR0jUJg3HpAS4V4QjCCoUwQUAUUgtBFQpie0Edb8FQFFQBFQBBQBRUARUAQUAUXglSKg6m2vFH4tXBFQBBQBRUARUAQUAUVAEVAEQhsBZXpCG2HNXxFQBBQBRUARUAQUAUVAEVAEXikCyvS8Uvi1cEVAEVAEFAFFQBFQBBQBRUARCG0ElOkJbYQ1f0VAEVAEFAFFQBFQBBQBRUAReKUIKNPzSuHXwhUBRUARUAQUAUVAEVAEFAFFILQRUKYntBHW/BUBRUARUAQUAUVAEVAEFAFF4JUioEzPK4VfC1cEFAFFQBFQBBQBRUARUAQUgdBGQJme0EZY81cEFAFFQBFQBBQBRUARUAQUgVeKgDI9rxR+LVwRUAQUAUVAEVAEFAFFQBFQBEIbAWV6QhthzV8RUAQUAUVAEVAEFAFFQBFQBF4pAsr0vFL4tXBFQBFQBBQBRUARUAQUAUVAEQhtBKJ6U8CxE2e8iaZxFAFFQBFQBBQBRUARUAQUAUVAEQhVBFKlSOpz/pEMdj6n0gSKgCKgCCgCioAioAgoAoqAIqAIhBEEVL0tjHSUVlMRUAQUAUVAEVAEFAFFQBFQBIKGgDI9QcNNUykCioAioAgoAoqAIqAIKAKKQBhBQJmeMNJRWk1FQBFQBBQBRUARUAQUAUVAEQgaAsr0BA03TaUIKAKKgCKgCCgCioAioAgoAmEEAWV6wkhHaTUVAUVAEVAEFAFFQBFQBBQBRSBoCCjTEzTcNJUioAgoAoqAIqAIKAKKgCKgCIQRBJTpCSMdpdVUBBQBRUARUAQUAUVAEVAEFIGgIaBMT9Bw01SKgCKgCCgCioAioAgoAoqAIhBGEFCmJ4x0lFZTEVAEFAFFQBFQBBQBRUARUASChoAyPUHDTVMpAopACCDw+PFjevbsWQjkpFkoAoERePDgQWBP9VEEFAFFQBGIkAi8NkzPsuUraM3atRGyE3xp9JMnT3yJHqy49+7do3nz5tM33b6l//77z21e9+/fdxv+6NEjt+EIfPjwocc4IRXh77/30M/TZ4RUdl7nM2HCJDp27LjX8UM74tOnT8kwjNAuxmn+6O8WLVrTuXPnnIbbPUNq3F+9epVGjBxFnsarvWzzeePGTbRgwe/ma6j/rlr1By1fsdJpOSGFh9PMw4inN3Opf/+B9Mcff4aRFmk1FYHgIzB16k+0f/+BQBk5rn0ve+2/ePESTZr0PQ0fMTJQ3X77bSbt2LEjkP/r5vGyMXvd2h8e6vPaMD2TJk2m414SgwcPHgpAtFy5coXOnvVMOIWFDqtY6WOa/P0PTqs67efpVKZseadhjp63b9+mo0ePOnr79N62bXv6/ocpFD9+fIoaNWqgtCBau3fvSYWLFKP0GTJTvvwFacaMXwPEW7x4CTVt1oIyZ8lO2XPkovbtO9CdO3esOBcvXqT+AwZSseKlKEPGLFSufCUCAxwU50ubwfRM//kVMD0TJ9Hx4y+H6QG258//4xbKtu2+oG7fdncbJ7QCUXaePLkpadKkbos4fPiwjC+0J7gOG//IkaMpKBKADRs30vyXyPSsXLWKVrhgevLkLUCLFi0OLhxhOv0EL+ZSu3afU6/efWjbtu1huq1a+YiBwBM+hAJ9E5wDwClTp9KBgwcDAea49vmy9nuzlwQq0OYBiX7ZchVo2/btlCBBAluI/+Ovv82i7Tt2BvJ/mR7etNEXzF5m3bUs7xF4LZgenDQfO3qM0qRJ47Hm//zzD1WoWJlu3bptxR00eAiNGz/Beg/LDziBxgLhzFWqWIGGDhnsLCiQ3/r1G6h2nU8D+XvrcevWLVq/YSMNHNCPPm/TmmLEiBEgKfqsw5ed6OChQ/T95Im0a+c2+qJ9O+rZsxcdOnRY4v7552rCIlGqZAnasnkDn/JMoMvMoDb4rJGVV7PmLQkMyKhRw2nrlo1U79O6BGZr7dp1VhxvH4LbZm/LCSvxxowdR/369Xdb3S87fEEtmjd3Gyc0AtHnx4+foCZNG3vMPmXKlDR1yvcUL148j3EjSoSJE8ZS0aJFIkpzg9zO999/nzp80Z6GDR8R5Dw0oSLwshC4eeOG0DdnzpwJ9SJ9Wfu92UvcVXgD0xKgGSaMH0u1atZwF/WVhXnTRl8we2UN0YLdIhClJzu3MbwM3LNnL58qn2NVlfOE0/333nuP4sSJEyD1vn37aOHCRXTp0iVKliwZRYkSRcJxGj1p8vf0VZfO9NZbb4kfxLOLOJ9I/F/8+B+J3+YtW2j+vAW0b99+Su6XTOIuZ6nAwoWL6W1Oh7TIFw7M0ZIlS+k8/yb386PIkV8L/k7q5u7PtGk/U/r06ShXrpyBokENCBKtVKlSWmFHjx2T0+cHDx9QfD5BQTuhhvPn6jV8YnSQ3ud+QF+8/fbbVhrzAYzNao73BzMnz54+o0SJEkoQyoC4GXj7JfejB/cfUJIkic1k8rtp02YCswmGJ23atMIUZcyYgY6wdOnvPXuobJnSNH3GDIJaW79+fSUcJzx+fsnoZ5ZYVa5cSRbB3r37Uo/u31K+fHkpZsyYlDlzJtq3fz9du3adirkg6rxt819/baPr168HOFmaPWcuxWQG7syZs6wCsJ/q13/BGGLMLPh9Ie3lcfpRvI94PMUK0GbzBXdQdu/+W8a5QYZIwiJFimQGi3Rl8eKltHPnLnrnnXcCzAOcTpcsUdzqQzC4W7f+RYuXLCGcxAFvc6yCMYAq3JWrV2je/AWUI0d2K8wsDOL27dt3sBrUCooVKyZ98MEHEjR37jwZB1evXaPIXDf00d69+wLlBynKo8ePKAFL81DeiZMnyeD2zWW1xmtXr7EUJkmAMsGozJkzT6SIGBNQ94KkJnr06FIupK6//76Ix+lZGU/RokUzqxrg91uWEObLm4cKFixg+btqy+3b/9GuXbsodepUInFcuXIVjx2ik6dOsbRjifh99JH/GmFmtmXLVlq4aBFdvXJV1gXMh7Rp0wjGkEa2aNHMYuQhIVzBea5bt57efPNNihv3QzObAL+YV1cZk/Tp0tLcufPpxIkTvN4kpTfeeMOKd/PmLVq2bDlt3LSJYr8TW+YeAnGCO2vWbMYkMa1Zs5bWrltHcT+MS7Fjv2OlRfsX85r1x59/Sp8dOHCQ7zsZMpesSM8fMGZA0CM9+g1Y+KujLhBJYqJEiQhjEljh8OLDDz4MVBYOJSBN4iEsa6x9DHvqZ3eYuepHxzbg3dUahDBP/WzOpbfffkvmIphjUyKNcb2Zx0CaNKm5j5LRd9/1p7w83iC1Vuc9Aqcwx3gfvsBSVsx3c89GDu76zpRQYgxjbcNakiJFcpl/oA8giUjMYxTzDS40xrBkbPvjbm2Cuij2tCVLl9Kdu3fI7zkdYc7bhAkTyrxew4dxGGMmTYLsMd5dzSW0y9kavpPXs8W8dl3hNT9hwgSEdRKaGVBnBYOAuY011SzH3d5048ZNUUP/a9s2+oDTYa/InTs3ZcyQwdZ6CrT2QaJkrv1mO7zdS8w9yl4A6Dhn+96OnTtl7cMYwnoVPfqb3L737EmZ3phFKVOmYGqPhJ4Dxo5rujMMLl26zGUuZgwT8XruP5awbkCVzpFm8bWNnvbLCxcuSL+DrsE+CHoiSZIk1l6I8m4wEzuPaVZIuN57L47QBKAfQJPBuRuTEkH/hDgCIcYJQA0Kp/qjx4wVordMmXIB9N/BRTdq3EyYoh9/miaiTrM1mOyxY8fmQe5/kgupTb36n9GRw0eodZvP5U4J4h49ckzUFOLGjSvSBGy8+w8cYAL2DEViYv8aE3hwINbLlqsoi8eECZOkrPBwWXrz5q00YsQoaSP+DB06nBozpmeZgO/btx9VYNUwtBPMERaIp8zIQOri7D4OJizEzYOHDBP930/rNaA+fb+TvIEriF84SODOnz8vz/Y/e/bulYmbjglAu+vZ41uqX8+fkShdqhQdOXJUiG8zTo7s2VkqtF2IDzAEUG+aNXsOoUzTTWaJUK+ezlWufGkzGJNvvnmRz5EjR6hLl/8FIOLNMjdt3kwlS5VladNWJtoXsppdBSZq/TEw45i/vXr1IeB1mNuG/Ct/XNW6jA9pU7FiJYThXrJ0GedTUZ7NtPZfbLSNGjWlNp+3k7K6fPU11apVx1K9WrZ8OXXs1IVat24r497ZGK5d+1Pqx/cWTp8+TZ81bGypqh3hfrtx/Qb9xwwDxgDSOstv+oxfaCEzKXAI//rrb6hFyzYy93oxQ1qnTj2ryrt27aZKlavQzFmzpD41a9ahr7t244X7qsTBZl2iZBkmYP6mOcx05ciZx6l6HQiJtUz4Z8yU0cobD67acvHiBSkHRD3c2HET6HOWBoKQBXFbv0FDmQsSyH+mTPmR6n5anzZv2iLMWw2uZ79+A8zgAL/YNMuUrUA/8ZqEelerXtOt2hiIuHbtvxTmvg/PuWrVagrRg0xxWFC+QiU5hMCcrFW7Lo0ePVbKe8zMP7CqV7+BYAOmpXiJUgHmRnOWenbs2JnbdITnYn/eUNcEqKv9pXef72SThd9SHmcdOnSkr/7XVRieocNGiDQV4wFM/qaNm6UsHHDAAX+M3yG8fmDT7fpNN2b+G0oY/njqZ0+YuepHq4DnD+7WIETx1M9mfrFixaKePCfBTJoOKozmO6TUYK5X/fGHGay/XiCAQ0OsiTgMmMHrRJ68+WX/RlKPfTd2PDVs1IR+mDJV1h+sY+1YtbkWr1c4kPjll984vwJMFN6UmoT0GHZsnru1CfOhcZNmMg9OnzrNKthfito28jDnbfUatfigYr2s5XgG4wbnaS45W3OH8J7bqtXnskf/PG065c1XUFS+cdCH/Rbu5MlTdOnyZXl2tzfhUO/jKlV5Lg+VvRaaEziY8cbZ137EdzVvne0ljvm72/cuXrhIF/mgGyp72IvACDhzs2fPpb68pmOfdlzTXWHwwQfv028zZ9HAQf4aMNjz27Rpax1oOZbjSxud9Z0ds8Ncz//xflmP186tfMAKFT2zL1Eu6K5Klf37Bmt68xatqFPnLpaqrbsx6VhvfQ9BBFjkGCKuVOmyBhMhVl59+nxn8KIn70zcGZ07f2Uwxy/vTLwYKVOmMZhgkfex48YbNWrWlmc+TTXSpM1gMKEt7+fOnTfSpc9k3L17V96/6NDR4E1anvHn9JkzRjK/lMbly5fFj0+fjAwZMhu8KFlxChYqYmzevMV6f50fmBAygIczxxcUjdKly0kQS1CknXzCJO+sFmfUrVvf4Ekv76zvb2TLntNZNuLHi4rBd20M9A0cSyUER/zCscRG3pkoknfHP0x0Gi1btnb0DvTOhJ7kU6lSFWPmrNncj/cCxOGTMCNf/kJG+gyZjG7duht8+hQg3P7ia5uPHj0mZfNJm2QzatQYo/LHn8izHUuWthh858iYPv0XqziMXYw1R8eLr+TJkiIJAn6FChc1WOJoSP0yZjH4fpqVDH2JfuB7TOKXJWsOgzd4eUZY7jz5DF4c5R1jlxkFq//79R9g5C9Q2Lh586aVn/0B8ykFzyNmGMWbJaAGE9rWXGEDFEarVm2sJM7ya8F92L17T4mD8AIFi1jlYX76JU9lzS30Dy/c1phZu3adYMHMoaTng4oAa8C33/YIgKlZEXPOmnMc/u7acujQISmHN3jJAn3ImzsLpJ7J+48//mSULFVGnvEHz3wvznofMHCQkSt3Pnl3zKtx46YGxrLp+JBExqP5bv8FPuhrs7+uX78ha5O5rmEM8OGDlQRrUM5ceQ2ML6x5WKf4cMgKx/wBpnBMWEo46geHcVW9ei3jiy++lHfHP/ZxhHUXbcb4g8MagLLs6zGrolrjGf3Fd+sMJjglPjMxMo7Msj31szvM3PWjFGb742kN8tTPdgxat2lr8OGB5M73tWQ9Wb1mjVVa7z59jVatP7fe9cE9Ahiv2If5QMqK+GXHzkbPXr3l3VPfYb3/6quvrbTjx0+UMWnuVwjA2sYEq8QJ6TFsFfz8wd3ahPWaiVXj8fO9EHsS1j2WclnzliXnVpaYHyZt42kuOa65mNfA0VwzkCnmLtYwOOy3mLtM+Mu7p71p4MDBgqO5vyB9pszZDNbUkPT2P45rn33t9zRvHfcSe77e7Hs/TfvZKFGytD1ZgGd3c90TBkd5n8dYRRv40CnAumcvxNc2OvYd8rJjhvUleYrUxt69e6UYlvgZ2XPktmhPrP958xWw9n7QqKAzZsz4VeK7G5MSQf+ECgIhIunhQUmn+GSidJlSFjuWk9WzoN4DB5H4wIH9RQUN6ls//DBV/O/d87f4BYlO2uf3eaD+liljRlH5gYrONhbZIn/TGgkugadOlUrS4w+MH7z7bmz68EN/lRReVOmN6G+woYMHrIIyT8S+sWK9JSpAVqJw8ABxeLp06URXnZkJlg485NO4aZQ1axaPrYM4fieLnEuXLmWpK2TPnk3UkZg59JgeESA5iMIiaE+u33d9aNXK5XLSykyHnBYysWwly5IlM61ZvYoG9O9H//77r0hNcFqFi+awHIcTe/zr3OUrUQHwpc2pWA0wQ4b0chKOAmENq3LlilbZ5gNOYXAq8/TpE1HdgvpWbJZCHeRTfUe3a+duGX+m6Bxje97c2aKOCCkAM+dUtmxZK1nlSpXkNJM3HMvPfNi2bTvjUlDUr+AHyVexYkVEQmHGgcgfUlBnLknixJKmU+evRMwO9a/ffp0haoLO4sPPXX4IhwqKWR7u2EHlCdI6OKh2FC9W1BozKM/usmbJIlKO8RMm0hlWb+vduyd9+mkdexR5hhQEp/NQGTGdr23Jli2r1A3p06dPL/eDmKCQk+jjx0/IPTIzb/t6Yfrhl1dUVjvYIRJL9Dn+8QYup9g4jfz00wbW+INkBs6PVWVNFdw4cd4lzBuccsKVYZXOr7/+StQzIW1C3lBZZGZWwvEne7Zs1jPqfYglVXC7du8WNUyoIcJhXCXzS0rcSHn39AfqbKYqIeYUXJEiha1kUJnFOIdLziqUI0YME+nqTD4lhdod0pqSTXf97Akzb/vR2zXIVT9bDXv+ULXKxyzZWSMGbqCmBNWgQjy3TAe1NkjA1XmHwAHWoMBcKFG8mJWgd68e1LRJY5FserN/YK6YzhyThW1jEloCkNSaLqTGMKQJ5r6BX2gRuFub/uJ1GOvegvm/yxoAdTSoSiEf09nbUq48awTwegB8PM0lpLevuZjXQ4cMEpV7qMFCAwZrLNYsZ87T3oR1A2qbWE/hoN4sKrNerhtmmd7OWzO+/dfXfc+e1v7saq57wgD7fNu2bahhwyas4nufvvzyC3u21nNQ2mjvOysj2wPU8DJlyiQ+UPkDHWuOG6yjefO86BvQqKBVTeduTJpx9DfkEQgRpuckq0JBzJsmdWqrhhBpmvcLoDsKy158KiEGCPgUSeJjQMFBfJqada/htmzdymFPaDWrKuAfdPFBnEO/ExsuNuZUNmILC1QqGxME0TmIEpi/NtNjQcN9k/Dmpk2bSjX5UiD0SVliIKpQLPHx2EyWHMjikIp14O0uMRPRCPPGgWA1mVp7fDAPfEJm95JFv0uXTrR+3Wqub3VWn2ot9w/MSCBQKlWqyMzwZPrzj5Ui/h0zZpzcYWnerCnhX80aNSS6r22uWrWKqCRAHQNGFypWqGAWa/1CPRILFjY/jBv841M/tjaX3YpjPly8dJGS8j0Ou8M4h44uVAqhSgMdbdPFixdX7nzgroejQ/xAfcB3Pm7e8q4PsIguWfw7M79pRbwPdbLJfDcupB3mHeYs6mvf/B3L6dixA/Xp04uwCZZj9VKogbCk1jGaYA0Gxe5Coi2o5zG+44aNKCEzAZ4cS45EreQEExxmv0NloXz5cqyK8YiaNWsiYw/jD2uIMwed+1OsEgPHJ36UM1ceGjd2PN1/cF8YUvijXq6cGQbGyM8vmatoPvnb7+aYCe1+KAtqeB2+7Cgqee8y8xY5ciSpp6d+9oSZt/0YnDXIxMxsG35h1AHrCA5UoNNfrlxZ634PwnFPDQc16rxDAHcicA/UvHuAVOZBRVD6zj7+zBo483MXZo/vbgyDwTX3DfxiTXa3NmH9h2qZuQbgt2jRok7vwaJ+2PtwKIc9xV09zLY4/sIAUNVPash+8w5jjDuBuBvqzHnam2DQyc8vmbOkPvl5O2+dZerrvucsD1d+mOueMEBaMOewClugQD7rnphjnsFpo2Ne7t7N9ekoHxaGxH7priwN8x0Bz0f1XuSJuw24zGW/LD97zhw5tUbyoUOHCceL00U46MPi/g7ig/gB05T2OdODjatE8eL0+eetJa79DwgoEPX2k9tjkPzYmCCkT5I4CY0d8+Luiz2P8PIM4gMnCg3q15N/uEQIQiYnE+p16tR220xcksQGhtMqUzL08OFD0eWvXu0Tt2nNwKx8mgwCGwyOfWJ379FLJHNjRo+UOybIH9aT4MBY1K1TR+5cQHoABunb7j3YOMUca3OFBKVw4UJyWt6p05cBzBkHpc2VmZnCtzpYvUKkMWBCHB3KxMlzy5bNRcroGG5/x9haunS5EIjmJow7EDFjxpC6Ynzu3bvPwhVhOBHESbujgwGArX/9JeWaYWD607MEzxt38uQpunvvrljNg+U8EHtgKEuytTx7n3jbjsGJAABAAElEQVSTl6c4MDIBCRAu4ObOnUuim4s7XnDosYWlhPnZIAWMWEDi1ahxUxoyZCibiB4eIHsw1xhvOIGFdAvOXVsCJPbwkiBBfFlT9nEf4OQQzl5Pe3IQdLG4XUWKFqZmTZvYg+TZvGNoD3DMC/2L02+4yd9PoZw5c/JYGyvv0E0fw3cczXEini7+4JR7DkuagGNUPg0OTbd48VLR+9+wfo116RZrNOrpqZ89YeauH+1jMiTWIDtGYHRxoIFL95CgOq7/OFhLmiSJPYk+u0EAayLmJ+7bpn5+mAnp7XnegwsUyB/s/cNN0V4FuRvDOE23WzbEnML9CVdrEyQAkKg6jhlUxNkh4vZtO+ROKtZvVlVyOZecNQSHtjikXLJ4obUn4KA2Ev/nzHnamxIlSsh3ZHc7S+qTn7fz1lmmwMGXfc9ZHu78PGGAvRt3aypUKC8GZj6pWlUk8I55BqeNjnl5856ADz+xXzpzvuyXztKrX9ARCBFJDzhanHhAVA1ih+8qiESmerVqUrMYTFiAyMEpIutV8ndZBlGK5P5SHlgdgvqaubAWLVJENi7kBWIRhgh+/fU3yQenKyCc4W86+D158tR8lcUO1sPwQTqc7K1mSRHfLbDCw8IDVPMgGbD/w8S2O2DAetUE9RRMILgoUSJbxC7M+965c9e6KGpPi+d69erKBUAsuCgHFwFBgBYq9EIlxDGN/b1s2TKyaONC9eXLV6RvcRkVl1/btG4lUSF2hyojLNJgXEB9beLESVIOpHw5mEH77787rAbVVzZXtAlGKNZwn9nVgMxyg9JmnO7kz5+PLcn9QmCAnDmoGUENDhdMsSlhPOJiO4xzOLpKlSpIW6HCBVH6/v0HqAH3A5hO5AFCGx+/PM2GBZAXDHsABxwKODoYfADjicvm2DTQl3//vYcvplZ2jOr0HVbuYEwAdQAxDtUJHCSAoISLFzeeWF0yx4fTTHzw/Jgt7s2aNYdgFQ/9aTcTD0IdDC8MBmCew6E+sEbn6LAZIL5dCuSpLY55uHqHSh7+wYAAiDRcusf3rZw5EPk1WPI4nT9Si3GH9QIXZnHpGng6c5gvYC7RX1DVhZTHJLD8/JLxqeRZsRyE089Bg4ZIFqYar7P8TL8KLF3C+B7GxgVwGIBxIB/VdFEPM11Qfv2SJxOJLpgyELYw54w14B63Cc5dP3vCzJd+DO4a5Nj2KqziBmue0aJFDWT9EntUErZEqM47BDKyirnMI5a44/slmEft2nWwjEOEdN95V6sXsTyN4RcxSdYad2sTtCXWs5ECqMNj7ce60bJVG7H8aebjr0L+QPYpWCU1VUd9qQfygmVIHDiCDsK6gD0TalDm3MMeDMmUuTZ62pug1omDs/lssQ00FvaSf/75Fyc9ZtW9+vU0b93tJb7ue15VyBbJEwaw/AtjOoMGDhDpPFThgYWjC04bHfPy5h3rKA5gMK7MvjH71Zf90puyNI73CIQI0wOVEJzot2zZRiw28YVw0Rk3LXvhJPQkEwcZM2Wlbt16iLneqLwxwWEzguqaeeLbvn1bMTXIFyFZvSi3TGgQ2HDQn83ABGqhwsWEsIAf9OhhbYsv2uGVSrA54EYNPxOLWChvIBMeNWv5q0ZJhDDwB6fDfPk9wD/zXoVZfWCGkyl83Thz5mxMvNWiGtWrC4GNOLhrkClTRsqVO69T62GQvhQsmF+kMbDKs2PHLprC6mVgErxxYD6n//yT3AUoVLiofHwUH7ns+vX/RN0KebRq2YI6s7Smf/8BPD5yyPcHMPnxzRUQ51j8Fy9awOpct1jcX10+TjpgwGBq3rwZ919gSV9Q24yNAQR4uXLlnDYNYePHjZWFqTRbHcyaLYcw3iBEHR1UJ8aPHyNmt9FHfBmR2n/RTqQrIAjRJyBeS5Uux/eTqlB0Vl2YOGGcYzbyjo2zW7euYnkPH28FE9GX1cMK5M/vNL6jJ77b1LhRQ6pTt55gN2jwUIL1PHMuQcUHDGm6tBksy4aOefjyDhWRpEw4ojzMTZOY52aLmzhxnEjoEMYGEehdlgyhfo4OC35xnqdiLvl5oKe2OObh6h19MGrkMDrFTGfx4qXkY74YN2YdHdN16dyJzaXno4YNmwiGXdnCWrVqVV1KZ3LnyiUWqfiyMH3HDB6kkRgTcJ81qE8JmbnFx3ph9cq8nwPT1p4c6jh82BBhzrNlzyV32LJm9ZdUeUrra3h+bi++lVGvfkM+eMgtBBakIGY9PfWzO8x86cfgrkGO7caah1N7SHywPpkOzCw0AsqW8d9HTH/9dY0A8Bs/bjSPjXOy3xYrXlLUlDt37iiJQrrvXNfEeYinMeyYyt3aBBqia9ev+SO2fWUfq1q1uhzI2VX7cJCTO09+sQoLxsg82PO1Htj3vun6P/5m3fdMD2WRD5EX4EM5c+5B1a0ua2qA6erRs7fsW+72Jqzx9et/SrD8mZE/7g2mH5IXX52neetuL/F13/O1bu72Z1xvGDFilOx70LZAv8BqLay8OrrgtNExL2/eQbfWZ00cSKHQN8tYQwRjytyL3I1Jb/LXOEFEgE80g+1gHc20FsJmo13mZ1oLchnBFgBrJEwg23xePMJqkt0hLhOadi9551PMAH7h9cURD3s7WSXMYCmR3SvAMy/glvWvAAE+vCAPvrDtNgVLAi2rX84iwqoN4njrfGkzLGbB4pQ3jiUYgSzMuUoHbJmgchqMfFgK6TTM0RN5IK+gOqR3NbfQ98HJ214n9BEc+glzE1boYOUIbbU7llSIxTK7n+MzSzKMosVKBornri2Oebh6N60wYS1C+7uzdTrTap/LNDyGXWHoLA0wcFxzzHjS/udYmX7e/oZkf3kqE33oaE0RabztZ8x7V5j50o8hsQah3mgPrB+a1pTgB8fSZ7Fs6f+mf31FAPuoq704pPrO1zqZ8V2NYTPc8dfd2oQx67iPMbMj1tRYjVWsu7laS32tB8riu1GO1bPena0v7vYm7DVoW3Cdu3nrzdrky74XlLq6w8Db/ILbRm/LQTzsRWbfXGHLerC2arcqiTjuxiTC1YUsApGQXRD5JUnGg5Bw6vn7grmWFYvg5KdpFYGQQoCZYfmIaPsvOogkB98EUhd0BHA6iQ+3NmncSL67gG+h4OOc+Mp2UBybGRbJyDfffB2U5C7TNGnanDKzRR3cbYJ1I5z64c5Tw4YNXKbRgBcIhHQ/v8g59J6OHz9BU6b+KGqlv8z42SqICQqWgtdhaWovvu+Yw/LXB0XAGwSgxpo+Q2ax0GneEfQmncZRBPbs2cvfZvuG/vdVFzGugG9W7WdV9FUrl7m1sKrIhS4CwWZ6cNERH1dcvOh361Js6FZZc1cEvEMAetgjWP2vUcOGrDLX1LtEGsslAnyqy0YJRouJ5gcPH4gZ8i87fGGZcHaZ0EUA8gPjA3WPZMmSuYjluzfuH+BjffhQXcyYsajaJ1VEzcCu8uR7rhEnRUj388tADiq2UOvp913fAF9i5+/zyD3FYkWLvoxqaBnhDAHcGa5Y6WMaPWqkpbYdzpqozQlFBPDhdRiu+JfvWaXnO79dWD00JPe6UKx6uM062ExPuEVGG6YIKAKhjgCsN4IZUYYk1KGOkAXgfh3uSahTBBQBRUARUASU6dExoAgoAoqAIqAIKAKKgCKgCCgC4RqBFyZuwnUztXGKgCKgCCgCioAioAgoAoqAIhBREVCmJ6L2vLZbEVAEFAFFQBFQBBQBRUARiCAIKNMTQTpam6kIKAKKgCKgCCgCioAioAhEVASU6YmoPa/tVgQUAUVAEVAEFAFFQBFQBCIIAsr0RJCO1mYqAoqAIqAIKAKKgCKgCCgCERUBZXoias9ruxUBRUARUAQUAUVAEVAEFIEIgoAyPRGko7WZioAioAgoAoqAIqAIKAKKQERFQJmeiNrz2m5FQBFQBBQBRUARUAQUAUUggiAQ1Zt2HjtxxptoGkcRUAQUAUVAEVAEFAFFQBFQBBSBUEUgVYqkPucfyWDncypNoAgoAoqAIqAIKAKKgCKgCCgCikAYQUDV28JIR2k1FQFFQBFQBBQBRUARUAQUAUUgaAgo0xM03DSVIqAIKAKKgCKgCCgCioAioAiEEQSU6QkjHaXVVAQUAUVAEVAEFAFFQBFQBBSBoCGgTE/QcNNUioAioAgoAoqAIqAIKAKKgCIQRhBQpieMdJRWUxFQBBQBRUARUAQUAUVAEVAEgoaAMj1Bw01TKQKKgCKgCCgCioAioAgoAopAGEFAmZ4w0lFaTUVAEVAEFAFFQBFQBBQBRUARCBoCyvQEDTdNpQgoAoqAIqAIKAKKgCKgCCgCYQQBZXrCSEdpNRUBRUARUAQUAUVAEVAEFAFFIGgIKNMTNNw0lSIQ5hB48OBBmKuzVlgRUAQUAUVAEVAEFIGQQCBcMD1PnjwJCSzCRB6//TaTduzYESbq6q6SL7PPDh06TAMHDaaFixa7q5KEnT59msaMGecxnjcRFi9eQmvWrvUmaqjHWbduPfXq3TdAOY8ePaInT58G8HP3cv/+fXfBEhacfr148RJNmvQ9DR8x0mM5V69epREjR5FZpwkTJtGxY8c9ptMIrwcCq1b9QctXrAzRyphjwV2mL2t8/v33Hvp5+gyrKjo+LSicPoTkuuu0APVUBBQBRYARCBdMT42atWnq1J+kQ+/du0eHDx8Ok537ZcfOlCFjZpf/QKT++tss2r5jZ5hsn1lp9E/6DJnp4sWL4nX79m06evSoGRyiv/v27aPKH1elu3fuUpx33w2UN+pw/vw/lv8pZnpGjxlrvQfnYfGSpbR2zbrgZBEiaUGA9ezVhzp3+lLyu3LlCtWr9xllzJSVMmbMQm3bfUF37951Wdbu3X9TiZKlJX6WrDmEKTQMw2n8PHkL0CIvmEvHxI8fP6ay5SrQtu3bKUGCBI7Bgd7B9IwcOZpM6dWEiZPo+HHfmB4wfAcPHqKHDx8Gyj+ieYTmHHSG5cpVq2iFG6YHRPDQocOpcJFizpIH8Hsdxyfm3PSfbUxPEMZngEaG85eQXHfDOVTaPEVAEQgGAuGC6enVsztVqVJZYFi2bDm1bPV5MCB5dUm7ffM1rVi+TP7Vq/cpxY0bz3qHf7Ro0V5d5UKw5JQpU9LUKd9TvHjxJNf16zdQ7TqfhmAJL7JatGgJFS5UkHr37kmF+NfRjRk7jvr16+/oHa7eR44aTe3atqH33ntP2tW9e0968PABLVo4n6b9NFUOCVwxejgZb9GyNeXKmZO2bN5I3b/9hsBgQHLkzE2cMJaKFi3iLMit34YNGwmM1ITxY6lWzRpu44ZU4M0bN6hCxcp05syZkMoyzOYTmnPQV1Bat2lL5StUpg0bN9KFfy+4TR6ex6fbhmugIqAIKAKKgM8IhCjT899//8np3fc/TKETJ04GqMzKlasIp3dQ+Zky5Ue6efNWgHAQPKvXrKWx48Y7Vd+6wQQK0k6f8QuhHNMhH5zWvv3227Tg94W0dOkyiv7GGzRz1my6du0aQR0Mp8img2rYn3+uNl9fq18QpYkSJZR/77JUIlq0qNY7/CNFimTVF+2AygROFB3dP//8Q9N+ni7qFZcuXXYMDvAOKccvv/xGP/44jU6ePGWF4RQc2AH3efPm07jxEwgnqnb3lONATWX8hIm0ffsOevbsmT1YVI+g3oXxgL433R2Wupw7d44gudq4cRNt2rxFTttR3vnz52nmzFl05uxZMzpdv35d6uJKGrFv/36aPPl7mjV7Dtf3ppUOY2HL1q10h6UYyPvWrYBjbu7ceSwdOEHnuEyE21VfcPKNesAfz3aHeCDSgYkv6muu8Nq7dy8tYamQ3YGp2Lr1L8tr//4DNHHiZOkLu2QC8+rIkSMyN9B+R3fgwEHayHUtV66sBEEFaNUff1LDzxpQmjRpKHfuXNSieXOWzixxTCrvW7ZsJUiGOrGUKG7cD6latU+obNkytIjnojN39uy5AHP73r37hIMIzFtXY3HHzp30O8/d6NGj05w5c0VNDWMD2Nv7E/28evUaZ8VafpDcIZ0pAUIAJIuOqo2QLM5f8LukW8r1w9g2xzzmBFST0HY4rDHz5y+gyd//IONFPJ//Af4YQ2gD+sfZfDx67JjMgc1btgRQJ0TaU6dO0dq16wjMN9S9HCVoO3ftEpU/hNnVt1AOxiDKRVqMLTiMVbQVaoLoe9NduHCBFnB7nY1rxzn477//mskC/LrCwcQN4ehr4HTu3PkAaVE/1MvV+m6PXL16Ndq+bQt90b6d3dvpc3DHJ8Y21j/MP2gJOHOvYnw6q8fL9PPUp5gjWD/tDvsq5igcxifGO9YmjEWspRgfWLuwLv8wZWqgMYJ0kOBi7iEca4nduVp3zbo6zlt7Wn1WBBQBRQAIhBjTA0K7TNkKfHdiiGy2OEG1EyjfdOtOnzVsTCuZSF60eDEVLFhYNnxUAht9w0ZNqH//AULgdur0FX3T7VsEiQMDVbpMeSEyt2/bToUKF7MW111MFOC+RpQoUWSh3cfE4Vtvv0XnedMFEf51124E0TkcCKk2n7djtapL8h5W/8yePZf6ftdfNpT6DRqKGojZlk2bN1PJUmVpKxNsICTLla8QiAE14+J0t1ixErLhL+GNqFz5ihbx/ZixAnbVa9SitUyAgyjAMxhPOGw0n9ZrQENYBQWEQ9dvulH9+g0lDH9AoNWuU4+++qorHee7FjVr1aXeffzvlFy8eEHyBpEB5gdj5+nTZ4S7N2BsQLxP+WGqlRfUpUaNHksxY8a0/MyHYcNH0CdVq/N4OMBqV2OlvSBC4cDE/Xf7P7rJjBDyfvjwkZlMfo8cPUY3rt+QOAg3mTYQaFD/2vrXNvrl15mUN19BunPnjqRBuxs3aSbtPX3qNLVv/yV1Z8mJJ+cOr1u3blO79h1kw0c+qEeHLztZjN9obnvdT+tzP56QeyzVqte0GPmx4ybI3BkyZBgdPXI0UDX+YAYnRcqU9Oabb0rY5cuXhUDOlDmTFTdp0iTMkFyyCGcrgB9AAH/00Uf0wQcfWN5JkySRPrM8bA+9+3xH+58TPmCY8+YrIIcRu3btphIlSjlVfbt44SJd5PJBEKEfkA7jB+PPToCDwZ7EzK07FytWLFHlW8MHKKaDGpz9Hf7Xrl2nY9z/cBgnlxgXc8zXql2XMMfO87gE4VW+QiVhkM6eOUsIQ3+YDvh/3rY9fcfzEcyV43yEilbjxs0Iafv27UcVyleyxhnS1m/QSBii3YxPq1ZtqEePXmbWhD5txVJrzI+fp00PMA6XLV9OHTt1odat29I2XhMxZsBUYg3+6adpvBb+TRgnpqrhYSY+//f1N1SP5yjGNdRkzXHtOAfth0pmZdzhYOJWr34DmsOEMJj14tzXYKZM17x5S+rI6ruHDx+hPn3788GTa+a1eLGihH70xgVnfIJpLFGyjGCFeufImSeAqqtZ/qsYn2bZr+rXU58eOHBA5pm9fhMnTbYOFMHYdOjQkb76H6//rHY6dNgIavBZI6EBZvPBxqaNm2WM2GkEWXd5fOIAAurqFSt9bB3EuVt3zbra5629XvqsCCgCioCFADMcIeLKlqtoMKNi8MIl+fGiZeQvUFieWeJiJPNLafBJkFUWL2gGSyrknaUAxhcdOhp8oi/vTIwb2XPktvLiDdTo13+AlbZPn++Mb7/tIe98cmjUrFXHCuON3Fi4cJH1ni17LmPZ8hXyPn36L0bBQkUMlvxY4a/rA0sRjFKlywaqXuWPPzGaNW9pMJEjYT/++JNRslQZeUa7MmfJbqCdpmNmUrA1381fZgCNDBmzGJMmTTa9DGCZLXtOgwl8gxkS6TM+zbPCu3XrbiA/OGZEjfbtOxh8Ei/vTHAZKVKmMQ4dOiTvQ4cNN4oWK2kwISvv6OO06TIaTHRLHIwHs7+ZMJNyJSL/YSmVkSt3Pqv/69atH6D/zXg7d+6SOrKkRLweP3liNGrU1GDC04xitGr9uYxLy8PhAWOWiU3Ld/WaNUbyFKkNM0+MZ4xFZvYkDvDCGENZcHyiafglT2Xwib282/+wWpjBDJF4ucOLTzClvXzCKXGZiDVSpU5n3Lx5U+qB/PmSvoQBT/TxbzNnyTvGQ5OmzeXZ2R/Mq06du1hBqC+wRx+bbt++/eKH8hwd5ijmqt3xSb6B+e7M8Z0fgwkeCWIJhFGpUhUrGktgDCa8rXf7w0/Tfjb43pDlhbqgnizhsvwwppiwkXeMM/sYspfL6lEGH25IPJb4GOkzZDLQr46OmXXJg0+jJcgc88xYWVGX89rBzIr1jnGQM1deaw1xNx9ljmXIbK17zMgZGMtM1El+SNu581dW3pgHfM9KxhbGBN/xM1jKYIVjnmO+w2E9xPpq77PGjZsazIBZ8dF3+fIXkndP49pxDlqZPH9wh4OJG0t0rWQteexjvYBjqaXgbK4NaFv16rWML7740orv7IEZVSMlrynuXHDGZ736nxnMrFrZY0+xr51WAD/4Oj6x/5UuXc7KIijj00r8Ch489SnGA8aq3fHdWoONkIgXcMV4xRyAw5jHfLXjzQc71t5kjs+DB/33D+xl1WvUNrCGwLlbd8262uetJNI/ioAioAg4IBAikp7jfLIOMXazpk0ocmT/LIsVKyKntDi9PcIn0FBdKVKksMVs5ciRg6C6AZc0aVIaPGiAqIlARWT5ihWWqgEvgnT69BlqUL+elbZDh/bUsmVzecfpdprUqeUZUgKot6ROncqKmzZtGpEo4RRp4qRJ9PnnbShq1KhWeFh8yJYtq6Xqlj59esENon+couKU9unTJ6wmNE/+xX7nHTpoU3Mx2wvVF+BVtqy/2hP8K1eqJOpETJyY0cjPz896LleeJUh8iguJWfLkfjRixDBLXWYWqxPizpGp1rhr5265S/MGqxrCoY9XrVzu1QluxQoV5LR/BxtsuMUqadu2bZO6WRV5/oATblx6z5TJX2oRlaV9FSqUkzqiv4PqMD7MPDGe07IaGCQQcH9xmSlSJKcF838XfGExLEaMN61wV2W6wwtSysqVKoraB9JDooG5Ejt2bCkPd5+gLoI+XbhwMSVJkjhAn+bIkd1VsSypOMvzwX9+uIz0PMCuPmmPG4leqFWa/jZNS9Mr0G+mjBnpCKuRQcKB09uafFenf7+AFuQCJQoBj6pVPmbJzhqRFm3atFnWnkIFA9/nclVUTl6bTFemTGn6+uuvRLIMtdxtrMYJFRyMS9O5mo+YD+nSpSNII6Fu++DBQ5oxYxplzZrFTEp+PI9MV7JkCZlbkPpgTAwdMoiS8/yDyhhU2NA/WGtNlzJlChkjeOd1XeoGFVlz7mOeQq0NkjM4d+NaIrj54w0O2bNls3LAunSIJV9wu3bvlnmaNm1aeUfbkvklJW6QvAf3T1DHZ9YsWUSCB/VcqNPi3t+nn9YJbnU8pg/u+PRYQAhGcNWn3hSRKFEi6x5qliyZJYmdBkifPp3sWWZeGJ/p0vmPETwXKVKIoI0A5826a5+3Zp76qwgoAoqAHYEQof53sl55qlSphLA1M7/NxDeIUBCfYHqwQWOzMx2YE1NlBuLuQawWV7BAfrbqlZ6us+oJCEsQnHziTmBcEiZMaCYVwtlUfzjMedfnS/9wIEBRZvLkya24adKkplOsvoI7CJEjRZY7CVZgOHoA0YML2cAMG4TdZXdCFENlJkaMGIxrAitqvHhxCUwKdK+dOfQB7kqAkMKdozp160keefPkofgJ4nPZkYT4QtqLly5S8eLFAmSDe0neuDhx3iVchodKHdRXkrD6VQYeF44ObUiVKmUA78SJE4vqF5/+yT2vAIHBeAG+cMA4atRoAe7yFC1a1GNZIJLd4VW1ahX6kdWSQFDjrkfHjh38y2OGH3PIfncoCauXgYn0xmHMP33yggGMHfsdSQZ8zDn04MF9mZtvvfVWoCwR/+69uwH8H9x/IP0fwNPJS+HChWj2rF9Z938+NW/RSsbWwAH9WLW1gJPYIeeFsYNDFtyVwd0o3GcCERUUh/UHqrd5cudm63UZ6R0+RIAzx4OrPM3wadOmEtY33KdhSQJVYua2b59eMm8c00IFEUzLyZMnKVeunKLiCGYR7Unul0zwM8h/HDqmZampqGCeYKYIY8h05cuXC6TWaYbh16yn3c/Zc1BwMPPG2PfzS+Ys22D7BWd8Yo5lyJhBVHahsggifPiwoZQ4caJg18tdBiE5Pt2VExphZp/6mrezAxVnfvZ847Na7SlWIYYL6rorifWPIqAIKALPEQgaJeAAX5w4cUTCgAXRXMhwlyBf/nxyDwOnvbg0bTps0Lj0OG7saLkbwupq1JVPU2vXriVRujFhad5BABFwn4ksuwMxg1PDDz78QAiENGn8JTvHWHc4abKk1ukS0iAepBB79uyltmzBCkxReHWQAIBAhhQMp+zuHIhm3JvYu3efdfKMexc4Hcbm78xt37aD4sePLwT3jBm/MnF1jTasXyMEJuIPHTrM6v8kiZOIQYrGjRtaWWFMZM7sf+Jnebp4wGlor9595K4FJFDOHPoaxisg5TKJWlxsBtECwxah4ZIwU4UT6rFjRvmU/eLFS93iBaYO0qBRo8bQlatXCKf+cOjTx48f0YjhQwOMa28LT8zpL195YcwC/QfGGETEhx9+KNmc4fsmkCbB39HhtBYHFBgXptTuzNkzMg4c4zq+YzzhYKNXrx5876kbDRw4mO+hdKa/tm52jBroHUwL5iqkkb46jAVIC3HQAWmgr31lL2/y91MoJ1uuG89W5eAg0cbdMXOds8d1fMY6BwkhpNT4h4vWuB+Ukw8h6tSp7RhdwoF13nx5RWIKRmnJ4oXWfMTYdibVQEZYJ2PxnbciRQuLxN0x80OHX0hvHcO8eQ8ODhhDc+bMk7U+pNffoI5P3BHZsnkL5Wesy7I0D+OsUeOmfI9qKJtCH+4RktdlfHqsaChFwAEJ1gT72hvcohwZKkgI8+XNI9m6W3exj6lTBBQBRcAbBAJTOd6kcoiThdUEcNEbJ7q4UIvTVaiCtGjeTGIeZaYHl3xhOQin8z169hbJDU58oeAA9aDbfOH8Hlt6gqUwXCJOkSKFpM3IJ3EgBFasWCmbJqzAwKQpmCJIcFj311LfgRQiSpSociHarCJUk3Bayncw2Kz1x6Z3uPyFSgmIZ1yAhpoZsMGlZlhPc3SIB7UcfODxNBt6QHyYLc7Lm4z9Oyn+ajkP5Ds602fMsFQU/ZInY4nQTSEC0a9Q4YGE6N7zDahGjWpscnaTf78x9jBOgH6LGjUw0wmCGxbd7Ja6SpQoLswuVL0qV67oWH15r/JxZfmFlBCnyVBlmjtvHlX75BOn8Z15xmOz4Bd4fIEI8sZBRWs9j2++6yT4Qi2mJV9AB4HrznnCC2kxPmHlrGSJEpYkoGLFCkJcDB48VNSUgDWMfICY98bB6MC5c+etqCDWSpcqSYN5jPA9JDE6AoK2YsXyVhwcKpjGPvLkyc0SobcIBxPAGPNw+fKVAeJbCR0eIOFo3eZzunz5ikgUonDf29UlHaIHeMX8zsMSRDC1mNewgAYLao6EUYBEthdgyfcOmFGMKlITW5D1CKkNpJ12fKzA5w9+fsmYQTwreGDtwliDw1rlyYEohGEDrFnm+IoSJXIADHDhG5IZjJ+Ro0ZRsmTJCH0GS3mQxMFyGMpCvDXcL+b8ciwbTFiNmtVpOlu+gtUsrMMwagJjB95g5mwO2svw8ws6DhVY2gQshrFRB6jf/v33HsIBCFfMXoTXzyExPsF8dWejEf36DbBUqaGJYFc3dFehlzE+3ZX/qsNy5swhazksIGKfQX/iYNGbseaq7sgHBg8w3mHJddWqP9nQTlGJHtR111VZ6q8IKAIRE4EQYXqgFgX981GjR8sHDPt+10/eC7C6GhZBqLelYgtSRYoWp6JFS4he+o9TvxeCAxtNx45fCmGeOUs2MdsKots8ucfzAFaJ6dmrt3xIceKk7+nnn39k9ZrYQnDDspSpcpIvb14mvG/IaarZnalY/Ql1aN++bQD1OjM8PP0Cy/HjxgrTV7pMOcqaLYecdoPocHQgknACDmKkVOly/AHPKmLqe+KEcQGiQg0qd578/OHIirK5tWndSsLz58sn31Opx9Z2cuTILYQjiDVYGIODSlGrVi3oy46dWIUkC1u8GsNmsX+wvhUjkZ7/yZ49G9+hyUi5cue1rMeBOC/HppEhdXJFKEOKMOWHyWIRkC+X80c22zNBX4ratfvcnr3bZ9QTRHm6tBnExLnbyByIuw1du37NUqi+xAYFqCpbjsvBJ/c4aXfnPOGFtGDiMFYrV34h2YJkZvLkiaLyhg9/5s9fSJhB+70Qd+WWLl2KNjPxayfSe/ToTs/YWh4sIlap8olIxtryXTfTfd31G2ZuVsgr7qVgnIAIAcZsGIE+a1CfihYpYkZ3+fv1/7rI4UahwkV5LOaUwwdIdL11GD979uyRNaUBMw+pWYXWW4cxhdNhSHycSbCQDyRXdVniAqYVBzHOHNqakNcgfCQTVhHNeynmOHeWxvTD2gTs+HI3SzizMVNSi2pUry4HC2ac999/X6xUscEBtna5lvrwvRI4SCq/6fo/MfebMVMWMQNdgCXn7srt0rkT5eN52bBhE5lzXdn6XbVqVb2SSjmbg1KR53+Ci8PwYUOEoWfDMtS5y1csXc5qz96n55AanxMnjpO7WmyohAoULELv8h26xo0ael2X0B6fXlfkFUTE+typY0caNmw4pUufSe6c2dXKg1IlrKHXr18jNqZDzZq1kMMKmMeHC+q6G5R6aBpFQBEIxwgwkRWijk+DA+TH310Rqy0sTTBgtef69RsBws0XWMOyW5Qy/c1fWCuzWyoy/R1/Yd2KVRUsb74XIlZkWO3L8osID8Dg7t17XjUVcWHlyu6Y2ZF+YxUlsSbFJ9H2YOvZH2/X5QB3V2mtTJ4/IJ69n5o2axHAupxjfPs7xpU9rT3M07MvdTTzwnjkE3rz1etfd3jtZ0tlzKhaFo8cM0UbTatxjmHu3mHRjqWngaLwqbtY6XMMwDx15mCF0VWYs/imHzPWbue2Gc/Vr6s1w1V8+ANnNkFsWeFzFxdrFurozgGroGBv5umsDbDeBiuNcBhLGFOOztt1z56OT8wtq4p2f2+eHeegY5rg4BCUeeZYPt5djcGgjk9pUzAsejrrW2f1tvv5Mj7t6V63Z/SFN/uyL/XGXoQ+ceaCuu46y0v9FAFFIOIhECJ3euw8oSl1Mf3wLRTomuPyNaQLuKTuzEHdIKqbbzMgLaxZeXI4vcU/qAHhg5ndvu1Oo0eNdHna6ym/sBoekzH31nmKi77BvS1nzh9vZyH+fjhld5XWMZUZD5KXlatWEe6EDBo4wDGa03dX48ppZAdPX+poJsV4xCm9r84ZXlDrgJXCPn2/o0YNG7q8uxPUNnbo0I7YzDlLAfIEMAjizHAB2gOJoTPnSZrlLA38IC3Cv6A6X9t9nC/zT5n6o1hxNK3wuSvbcc1yFtcVVs7iOvPz1AZXY8nbdc9eJqTkkIQHxZlz0FXa4OAQlHnmrB4hPT6D0ybUz1PfOrbB1/HpmP51ekdfeLMv+1JnSJHwz5kL6rrrLC/1UwQUgYiHQIiot7mDDfrqRVkvF4vVy3T48jdUViCCh5qdOt8QQH+lSJHcMijhW+rgxR4wcBDfTfhFVCR9JSiCV/KrSY0PP+LDvcn4PgdUZkLagfAfOnQw4WOYEcE1atxETHUP6N/vtW4uLCfGYSuI6iIWAmFlfEasXtHWKgKKQERAIBKEWxGhodpGRSCiI4D7W5A0qVMEFAFFQBFQBBQBRSCiIaBMT0TrcW2vIqAIKAKKgCKgCCgCioAiEMEQCHX1tgiGpzZXEVAEFAFFQBFQBBQBRUARUAReMwSU6XnNOkSrowgoAoqAIqAIKAKKgCKgCCgCIYuAMj0hi6fmpggoAoqAIqAIKAKKgCKgCCgCrxkCyvS8Zh0SFqsDWxj83YmwWHWtsyKgCCgCioAioAgoAopABEBAmZ4I0Mmh3cSLFy8Sf0iU7t+/H9pFaf6KgCKgCCgCioAioAgoAoqAzwgo0+MzZJrAEYH48eNTnjy5qWWrNo5B+q4IKAKKgCKgCCgCioAioAi8cgSU6XnlXRA+KtCmdSs6ffo0bd36V/hokLZCEVAEFAFFQBFQBBQBRSDcIBClJ7tw05pw0pDz5/+hxYuX0s6du+idd96hOHHiSMuePH1Ks2bNpoQJE9KyZctpzdp1FDVqVIof/yOr5U85zp9/rqaVq1YR8WdnERYpUiQr/MaNGzRv3gL666+/6F3+GvyOHTsocuTIUsauXbvp+PETlDRpEomPuzozZ86iuHHjUaxYscTv9u3btGLlKlq3bj29+eabHPah+KOMO//dod8XLqSqVatY5emDIqAIKAKKgCKgCCgCioAi8KoR0I+TvuoecCh//foN1KRJM8qdOzc9evyY9u7dS8OGDqYKFcrLnZn0GTJT8uR+lCFDBjpx4gQdPnyERo4YRhUrViAwRfXqNaAbN25SgQL5aMOGjRT3w7g0Y8Y0KQUMS7nylejBgwdUrlwZZqp207lz56h7925Us0Z16tW7D4HhmjxpgsR/9uwZpUiZhn79ZTrlzZuHLl26TFWqVqMECeJTvLhxafWatTR40ACqVKmixD98+DCVr1CZDuzfQzFixHBomb4qAoqAIqAIKAKKgCKgCCgCrwaBqK+mWC3VGQKPmclp3aYtdenSiZo1aypRxo2fQN9270FFixYRiQw8oUr2ySdVJfzbb3vQ3Hnzhek5e+YsfRQvHk0YP46lOLHp8uUrlL9AIWaMDlPatGlFOgNGZsP6tRQzZgwCE1S4SHHJx5s/Xbt+Qzlz5qDRo0ZI9IkTJ1P/AYMspgcSKEiHzp0/T6lTpfImS42jCCgCioAioAgoAoqAIqAIhDoCeqcn1CH2voADBw7S3bt3qWzZslaiypUqieTm0KFDlp+fn5/1XK58WblH8+jRI5EAjWCpD5gZqKVBFS5atGgsETop8aEOly9fXmF44AHVOVNtzcrQxQOYmW3bd9B7771Hc+bMk38o88KFC1y/G5Lq7bfflvzOnT3nIhf1VgQUAUVAEVAEFAFFQBFQBF4+AirpefmYuyzxn3/+EbWwhAkTWHHixYtLb7zxBt28ecvysz9AugJ1NTAfuKNTp249ySNvnjwUn9XQIkeOJNIXpDlz5gwVK1bUntzr5+vXr9OdO3foBN/5uXr1qpWufPly/I2eR/IOxogLI0iT1CkCioAioAgoAoqAIqAIKAKvCwLK9LwuPcH1SJo0qdzb2bt3H2XNmkVqBuMCkKikT5/OaU23b9vBxgriS9oZM35lhuQaq6+toejRo0v8oUOHWYYM8ufPL8YRnGbEnm/FekskTc7CIeGJFTMmFSlamJo1beIsCv3zz7909949yxCC00jqqQgoAoqAIqAIKAKKgCKgCLxkBFS97SUD7q64DBnSU7ZsWWnEyFFi/hlqaaPHjBUjAgkSvJD+zGS1NUh3jh49StNnzKAiRQpLtn7Jk7FE6CYdOXJEVNyGDR8hEqJ7zz8aWozvBcGk9KJFiwlW3lasWMn3fi5bVSpSpBDt3v03HT12jO4x8zJ69FgJgwQH1tlq1KxO06fPoM1btog0Z9PmzdSxUxdLkoT6IF7ixImtPPVBEVAEFAFFQBFQBBQBRUAReNUIqKTnVfeArXwwDGPHjBJGolTpcqzWFo2gpjZ8+FBbLBKGJHee/KJuli5dWjFsgAj58+WjWjVrUL36Dek+My0V2apa0iRJxMobwsFQ1fu0Ln3ZsTN17vI/ypUrJ7399lsIEpc9e3aqzGk+qVqdHrJ0CRbhcCfIdF06d2JJ1ANq2LAJRYkSRcxV9+//nSVJOszMVuHChdRymwmY/ioCioAioAgoAoqAIqAIvBYIqMnq16IbAlcCkhYwFqaaGmLcZ4kNTFbPmzubMmXORP+xwQLzGz72HKAO9+TJU8tggT0Mzw8fPpR/MGRQoGARat++rZisNuOhHDBg+A6PM/fkyRNmuO6KhTgzHNKgsuUqUt8+vYSZMv31VxFQBBQBRUARUAQUAUVAEXjVCKik51X3gIvyY/L9GXcuKjNEzhgepIHhA/7fpQMjZWemHCN6+sYOPogKk9h298svv1EiNsAA6ZE6RUARUAQUAUVAEVAEFAFF4HVCQO/0vE698f/27gQ6qiJd4PjHJosCBjeQIIQQQEICCaCAoLKHXQVGRWCGM46ICurzeWbeiI7KMo6KEBAdH5sPBUEIq6xCABcQAVmHLYkjCogMuyxh8776CrpJQpLuNB3Ipf91Tkhu963qur+63O6va7k+6qK9L5GRVXPsgfGRPdunK1e+wy5dne2Tfj64d+9eSU5OllGjRvqZg90QQAABBBBAAAEEELhyAgxvu3LW1/Qr6ZA67WEiIYAAAggggAACCCBQ0AQIegpai1AfBBBAAAEEEEAAAQQQCKoAw9uCyklhCCCAAAIIIIAAAgggUNAECHoKWotQHwQQQAABBBBAAAEEEAiqAEFPUDkpDAEEEEAAAQQQQAABBAqaAEFPQWsR6oMAAggggAACCCCAAAJBFSDoCSonhSGAAAIIIIAAAggggEBBEyDoKWgtQn0QQAABBBBAAAEEEEAgqAIEPUHlpDAEEEAAAQQQQAABBBAoaAIEPQWtRagPAggggAACCCCAAAIIBFWgqD+lpaTt9Gc39kEAAQQQQAABBBBAAAEE8lUgKrJynssv5JiU51xkQAABBBBAAAEEEEAAAQRcIsDwNpc0FNVEAAEEEEAAAQQQQACBwAQIegJzIxcCCCCAAAIIIIAAAgi4RICgxyUNRTURQAABBBBAAAEEEEAgMAGCnsDcyIUAAggggAACCCCAAAIuESDocUlDUU0EEEAAAQQQQAABBBAITICgJzA3ciGAAAIIIIAAAggggIBLBAh6XNJQVBMBBBBAAAEEEEAAAQQCEyDoCcyNXAgggAACCCCAAAIIIOASAYIelzQU1UQAAQQQQAABBBBAAIHABAh6AnMjFwIIIIAAAggggAACCLhEIOhBT2pqmrwzbLiMHjPWJQTuqubZs2dzrLA+NzxxhOzduzfHfS7niYkTP5HDh4/IqPfe9xaTW328O/nxR1ra97Jg4SJZs3atfPvtaj9y5G2XU6dOyZix44zNLzJ9+oy8ZQ5g7/w+ngCqRBYEEEDgigoE6/3hilaaF0MAgWtWIKhBz/bt26Vd+45y4MABqVK5coFA27Jlq5w8ebJA1MWfSnTo2Fmia8de8jNlyqc2+90N75E5cz6zfx89elR27NjhLfbMmTOSmDhSfv45n4KeSZPk119/lfff/8C+5tdfr5A6deNFA4rLTWlpafL554tl9eo1NvC53PKy5tc6jh//f8bmZ5k5a3bWp4O+nd/HE/QKUyACCCDgp0DW957ssk346GNpk9Auu6d4DAEEELgqAkWD+arvvfdP6dy5owweNDCYxQZc1u7du6V9h06ycsVXUrJkyYDLuZIZNUDr1aunPNa9e6aXDQu70W5/8M9RUqNGDfv3F198Ka/87VX5bm3we0YyvfiFDccRKVcuTDx1iY+Pk7FjRkvx4sWz2z1Pjzmm8HJhYTZP2I3njzVPBfjY2ZZv6q4pP8rP+vL5fTxZX49tBBBA4EoJ+PPe07FDe4mNiblSVeJ1EEAAAZ8CRV41yedePnY4ffq0TJ06TSab3ogqVarIuXPnJCqqms2l36zrsKVNGzdJhQoVpFSpUvZx3Ud7L3Q7KSlJrruumPz222+ybNlyKVGiuCSZIUg7tu+QyqbHSB+fO2++rF6zRqpFRpp9r/PW6MSJEzJ37jyT7wu55Zab5cYLH5hXrFwpM6bPlE2bNkvViCpSvnx572t7MxfAPyZM+Eji4+KlefNmUqZMGe+P55i/+WaV3HTTTea4NsmS5KWyZcsWualcOROMlLOBnQ4969qti2zYsFGWLV8ut95yq5QtWybTkW7e/C+ZMWOW/Pjjj1K1alUpWrSonDXt8emnU41fmMyaPUdOHD8hlSqFZ8qnbdO1y0OyYsVK6dSpoxw6dFjWrVsn0dHRcs60keavWLGizJ+/QJaafbXcChXKZypj5cpvZPacObL/P/vlhhtusMdQs2YN2bNnj0ghsW0bHh5uzqPsewo3bd4ss01PTdr338vtt99ujrmELV/Ps0WLPrdlTp78qdx2222Zjlt7wTaac6F+vXpy6PAhadjwbrt/4cKFrdVn5hw6eOiQREZWlUKFCnk9wsMrydKly7K1VDPNt3jJElP1QnLw4AFbr0qVKvl9PJlw2EAAAQQKkMCOlBSZMXOWpJ9KlwrmeqvXy6+++vqS955jx45dcv09cuSIeY/5yX4W8Ly/BHo9LUAkVAUBBFwsUMh8I22+v7+8tH//fvnHm2/JtGnT5cEHH5CY2rWld+/fi34b9Pif+kiD+vWlmAlqNmzYIPPmzrHBj855aNmqjf1gXcl8sHzmmack1QxxGjp0mPkgHmE/jOuH2OjoWqJBlQZMBw8eNB/yt8q3q1bYD8c6d+XhR7pLeMVw+2F1thn29frrr0qnjh3kww8n2LkbB0yeli2ay7PP9rOBweUdaf7nbtGytXTr2lWefPKJbF+sblx9+fuQQWZuzWGZv2Chnf/y8O+6Sffuj8gdd9whtaJjpXpUlIRfCFi0DcaPGyNNmtxjyxs5cpSdb5XQprV8s2qVDapmTJ8mOvZa82ogoUFVz56PmXp0ybYOngc1AHu0ew9JTdlm20jza9tpEKTDu7Zt2y6Jw9+RDuYbP03jxn0oAwcNlsaNGkkJE6xsN0Gttq22pz9J54q9b3oT27ZrK+vXr7d5P/5oglSrFmmCrGXyxBN9bbATHl5RXvrrXyTGx7eMnR/ocn4opgmwiptAOtkENz17PGbPIe1x0+PR808DKE1ZLfs8+ZQkm8AzIaGN7Nz5o+j/g/r168mIxGH+HA77IIAAAgVWQN+LNeBp3ux+O+T43Nlz5gutz+yXlVnfe/aYL52yXn/Xrl0nn3wyWRYunGeHmHM9LbBNTcUQCB0BDXqCkdau/c6pVq2GYz7E2uLMvBLnzloxjuk18BZvPiQ6//XCi3bb9M440bXrOFu3bvU+P2DAK07Xbo94yxg7drxTJaKas3DhIruP+bbeiYmNc0zwZLfNHBBn8OC/O6YnyG6/+ebbzpPmNTzpuedfcP760gDPpit+N2/Rymndpp3Tt+/T3h89Lk+qU7eeM2/efLtp5vY4cfH1PU85ptfLepkJ+97H1ENdNW3cuNGJqBrlpKSk2m0zz8WJrRPvmB46b97/HT3GPufPP6bXxr6eCZi8+ZOSpnuz6uv+ofcfvdsmyHXMAhfe7Tf+8abT4K5G3u3c/tDzS88FPQZNZ8xr9u79uNOz1x/sdvLSpU7VyOrec8M+6OOfTp0fcl588c/evdSzdkxdW7Yvy3379llL05No86tB164PO/36P+ctjz8QQAABNwro+3h0dKyzZEmyrb75Esjp3r2ns27derud9b0nu+uvmUPptG7d1u7P9dSNZwF1RuDaEwjaQga6iIEOlSpWrJiNGHXIjw656tD+4kTGZvffJz/88IN9fruZgB8XV1dq1qzpjTC3mW/+mze/31tG6TKlbc9D69at7D5FihQxQ+fOypEjR+12y5YtpF+/p8VcmOXdUe+JDn06kWHRgtTUVNvrYXd20T8REVWkadMm3p+6devkqfbxcXHe/WvVqiVbt22z26vMqmjaa7F+/QbbKzd79memd6iSbPnXFu/+OvzrclJERIQ3e9t2CaK9Qdqb89NPu0RX9mtl2syTtEfK36QrumkvlKf3pqg5F9q3b2vL16GSmnQ4XWxsrL9F2v0iTM+UJ+n5pHVd9906z0NmqGH2lsuXf2ksb5XataPtvnpuai8XCQEEEHC7gL6P33nnnXYl1ilm2HJ6+imZOHGC5PZe5M/1l+up288M6o+AuwWCtpCBBizVa1T3aqxds1ZamGFlOgbYk46alb90fo4mHdpU88KEfM/zuhJZ3wzDukyPhNnnYpm7d++REydO2jHCJv6UAS+/Il9++ZXce29TG9z88ss+aXphGJc+r0Pooqr7/8HaU4+r/btunTry6KOPBK0aaqFp5w877XwrHQrmSTokTudN5UfS+T3p6el2xTRtC31TrGjm6wSSdFGKqKjz88Q8+XXujM7V0XldwUglSpSwgfr3Zr6QJ5jJWq7HUs/VjAFe1v3YRgABBNwsMGHCeJk6LUlmmiFuL7/8N+loho0PGvhaUBcF4nrq5jOEuiPgPoGgBT36IfCexo29AmFmpSyd6J4xLV68RFq1amkf0qBHgyJP0vk5ugxm9eoXg5wUM4myRoagJyU1RUqXLm0XJdCJ/FOmTJUF8+faOR1aji6R6flgvGvXbjuOOC+9CZ66XKu/tVfnzJnTMnzYUG9vmudYdQ5LsNPqb9fYuVgaVGn5Om9IF7TQHj5Nnjc8f163spl3o0tNaxkaPGnSRRF0sQU9J4KR9JzR87Bho4Y+i9Nep0mTPrELHmivk6a8HI/PF2AHBBBA4CoJ6PzZrVu3Sa+ePeyPXhv1dhT168UH9Qs5z+FxPfVI8BsBBPJT4GI3zGW+ig5vyxigNGnSxN53ZZsZWqXfxuuqYrpaWJeHHrLf/uvfNTL0wmgQdP3115vVv2731kQfq5ExCNqR6g1qSpQoaXst9L4xGlwNGfKG7dnR1bc0aQ+D9jLpcCW3pZPpJ+1NQPVGoJ6f7O6Fo0PVjh07fklwmdPx6oIC6vHWW0NNnkM2yHxpwMtBvRno+aEQ6fb+QR9PnCj33XevrY4us60/upDCTtP22iunQaq/6YHOneyuZn6TGd54RPQeQUnTp9vzyd8ystvPzI+yCxDom3ziiBF29cHKpvfLV9LFC8y8Inn77aHWUVfL+3zxYl/ZeB4BBBAo8AL6PmHmS9pFC3TlNU1FihT29m7n9b3H1wFzPfUlxPMIIBAMgaAEPfv2/cd+8M44vE1XfPnT43+0q3vFxTewy/5OmviRnQeRYuba6Lfi1apdHHqmAU51EwTpcsGajh8/bodFZer5MT09URfmgWiPjn4L9ViPXuab+XvMksmeeR3FbH67ipiZz9L03mbm2/tf7GNu+WfEiHfFLFCQ6ccsTnBJ9fU+OTExtaXBXQ3tst2X7JDlAV0Bb/ToD+zSonqT08aNm5oemPRcx2lnKcLnpg41u+vuxpLQtoMNdp9+qq/No+06IvEd+beZ09W8eSt70zpdRvxCc/ss9+abb5ZxY0fLInMD0/oNGkq//s9K61atpH//Z3zmzW0HXalObwjbyFgkJy+Tga+/mtvu3ufKl79N3hn6luntmSzx9e6SF/77RbOCYKSuuk1CAAEEXC2g1+ZR746QYcMTzTzJOOn2u4ftqqK61L+mvL73+MLgeupLiOcRQCAYAkFZsjq3iui3RKdPncq3e+Toh2yddOlZQCFrXbQXyHMzzazPXSvb2mtTtmzZTPOnfB2buuhCEZ6hWb72z+55z5LVaanbRXuidEnS6UlTJSY2Rn41QxXDLtxs1JNXzwV9Pe1V0fspvfbaQFlvekhmzUzy7OLXb6273nso43wxvzJm2UmXrE5IaG3mkfWxS1frwhueoDvLrtlu6vEUNlGb9jzpsbZp007ub3af/M9f/pzt/jyIAAIIuE0gt/fQQN57cjp+rqc5yfA4AggESyAoPT25VUY/5HpuSJrbfoE+p2XnFPBomdd6wHP+GMPyHACoy+UEPBq46H1rdPW9rMGHlps14NF69unTVxITR5oevL0y0cyH0ZugPvhAZ30qT0nrnvU181RANjtrj09eAh5dUCMhoZ2d5LvLLLKgw+70hqkdO3TIpnQeQgAB88RueAAAAz1JREFUBNwpkNt7qF7ng3Et5nrqznODWiPgNoF8D3rcBkJ9/RMYOGiIXSpcb/qqSQOGSDOfSldAyykNGTxIdu3eJc8+97xMnZokzz/XX3r16pHT7vn+uM4fCzM9ToGkUqVKyhtvDJEFCxeZG+v2Nz1WG+TD8WNzXPUtkNcgDwIIIBAKAlxPQ6GVOUYErr5Avg9vu/qHSA0QQAABBBBAAAEEEEAglAXo6Qnl1ufYEUAAAQQQQAABBBAIAQGCnhBoZA4RAQQQQAABBBBAAIFQFiDoCeXW59gRQAABBBBAAAEEEAgBAYKeEGhkDhEBBBBAAAEEEEAAgVAWIOgJ5dbn2BFAAAEEEEAAAQQQCAEBgp4QaGQOEQEEEEAAAQQQQACBUBYg6Anl1ufYEUAAAQQQQAABBBAIAQGCnhBoZA4RAQQQQAABBBBAAIFQFiDoCeXW59gRQAABBBBAAAEEEAgBgaL+HGNK2k5/dmMfBBBAAAEEEEAAAQQQQCBfBaIiK+e5/EKOSXnORQYEEEAAAQQQQAABBBBAwCUCDG9zSUNRTQQQQAABBBBAAAEEEAhMgKAnMDdyIYAAAggggAACCCCAgEsECHpc0lBUEwEEEEAAAQQQQAABBAITIOgJzI1cCCCAAAIIIIAAAggg4BIBgh6XNBTVRAABBBBAAAEEEEAAgcAEirJ4W2Bw5EIAAQQQQAABBBBAAAF3CNDT4452opYIIIAAAggggAACCCAQoABBT4BwZEMAAQQQQAABBBBAAAF3CBD0uKOdqCUCCCCAAAIIIIAAAggEKEDQEyAc2RBAAAEEEEAAAQQQQMAdAgQ97mgnaokAAggggAACCCCAAAIBChD0BAhHNgQQQAABBBBAAAEEEHCHAEGPO9qJWiKAAAIIIIAAAggggECAAtynJ0A4siGAAAIIIIAAAggggIA7BOjpcUc7UUsEEEAAAQQQQAABBBAIUICgJ0A4siGAAAIIIIAAAggggIA7BAh63NFO1BIBBBBAAAEEEEAAAQQCFCDoCRCObAgggAACCCCAAAIIIOAOARYycEc7UUsEEEAAAQQQQAABBBAIUICengDhyIYAAggggAACCCCAAALuEPh/o+2TjEW93/UAAAAASUVORK5CYII=)\n"
   ]
  },
  {
   "cell_type": "markdown",
   "metadata": {
    "id": "UyK7Q0JxUaaP"
   },
   "source": [
    "The visualization parameters are set up within curly brackets (braces) with the following set up:\n",
    "\n"
   ]
  },
  {
   "cell_type": "code",
   "execution_count": 49,
   "metadata": {
    "id": "JJeKCAGOXhAa"
   },
   "outputs": [
    {
     "data": {
      "text/html": [
       "\n",
       "            <style>\n",
       "                .geemap-dark {\n",
       "                    --jp-widgets-color: white;\n",
       "                    --jp-widgets-label-color: white;\n",
       "                    --jp-ui-font-color1: white;\n",
       "                    --jp-layout-color2: #454545;\n",
       "                    background-color: #383838;\n",
       "                }\n",
       "\n",
       "                .geemap-dark .jupyter-button {\n",
       "                    --jp-layout-color3: #383838;\n",
       "                }\n",
       "\n",
       "                .geemap-colab {\n",
       "                    background-color: var(--colab-primary-surface-color, white);\n",
       "                }\n",
       "\n",
       "                .geemap-colab .jupyter-button {\n",
       "                    --jp-layout-color3: var(--colab-primary-surface-color, white);\n",
       "                }\n",
       "            </style>\n",
       "            "
      ],
      "text/plain": [
       "<IPython.core.display.HTML object>"
      ]
     },
     "metadata": {},
     "output_type": "display_data"
    }
   ],
   "source": [
    "visParams = {\n",
    " 'bands': ['B4', 'B3', 'B2'],# band order corresponds to R G B visualization channels\n",
    " 'min': 0,\n",
    " 'max': 5000\n",
    " # etc. with the other parameters\n",
    " }"
   ]
  },
  {
   "cell_type": "markdown",
   "metadata": {
    "id": "IqesH4pxYy4X"
   },
   "source": [
    "There are also two main ways to set the map view, so that we don't have to drag and zoom in to see our layer. Zoom level goes from 1 (super zoomed out) to 24 (super zoomed in).\n",
    "\n",
    "\n",
    "`Map.setCenter(longitude,latitude,zoomlevel)`\n",
    "\n",
    "and\n",
    "\n",
    "`Map.centerObject(object,zoomlevel)`"
   ]
  },
  {
   "cell_type": "markdown",
   "metadata": {
    "id": "zEWain-jHmOe"
   },
   "source": [
    "##Working with datasets in GEE\n",
    "\n",
    "There are three primary ways of working with datasets in GEE:\n",
    "- Load a dataset from the GEE catalogue\n",
    "- Load a dataset from local/google drive\n",
    "- Define your own feature/geometry/raster\n",
    "\n",
    "Most often when working with raster data, we load a dataset from the GEE catalogue because the catalogue is extensive and it is the easiest way of working with large amounts of raster data in GEE. Image having to manage 1 million+ ~500MB images on your personal computer!\n",
    "\n",
    "With vector data, all three options are relatively easy. This allows for a lot of flexibility to use specific vector datasets -- or to define polygons in your code -- to use with the raster data from the GEE catalogue.\n",
    "\n",
    "### As we go through the course, we will combine the use of different datasets to manipulate and analyze data. For now, let's look at how to load and visualize some common datasets.\n",
    "\n"
   ]
  },
  {
   "cell_type": "markdown",
   "metadata": {
    "id": "bGnz5C0KSt9I"
   },
   "source": [
    "\n",
    "### GEE Catalog\n",
    "\n",
    "Google Earth Engine allows you to add any datasets and imagery from their [data catalog](https://developers.google.com/earth-engine/datasets). I encourage you to explore the datasets they have available. Their catalog does an excellent job of summarizing the data and providing example code for how to import the imagery into GEE."
   ]
  },
  {
   "cell_type": "markdown",
   "metadata": {
    "id": "UWAZ0-vOCVXh"
   },
   "source": [
    "### Landsat"
   ]
  },
  {
   "cell_type": "markdown",
   "metadata": {
    "id": "YU7yrMjSQ5iD"
   },
   "source": [
    "Landsat is one of the most commonly used datasets in the Google Earth Engine catalog. Data from Landsat 1-8 are available in a variety of formats: raw DN, surface reflectance, TOA reflectance, and as computed products such as vegetation indices. [The various Landsat image collections are grouped together for easy access in the GEE Catalog](https://developers.google.com/earth-engine/datasets/catalog/landsat). Note that Tier 1 and Tier 2 refers to the quality of the image collection where Tier 1 have the highest radiometric and postitional quality. For more information, check out this [video](https://www.usgs.gov/media/videos/landsat-collections-what-are-tiers), from the USGS.\n",
    "\n",
    "Working with Landsat imagery follows the same basic pattern across the collections. To start, we will work with the Landsat 5 SR collection.\n",
    "\n",
    "We will filter the L5 SR image collection in the same way as we did earlier with L8, and then find an image to add by name/ID."
   ]
  },
  {
   "cell_type": "code",
   "execution_count": 51,
   "metadata": {
    "id": "WI-xHPHZOZ7O"
   },
   "outputs": [
    {
     "data": {
      "text/html": [
       "\n",
       "            <style>\n",
       "                .geemap-dark {\n",
       "                    --jp-widgets-color: white;\n",
       "                    --jp-widgets-label-color: white;\n",
       "                    --jp-ui-font-color1: white;\n",
       "                    --jp-layout-color2: #454545;\n",
       "                    background-color: #383838;\n",
       "                }\n",
       "\n",
       "                .geemap-dark .jupyter-button {\n",
       "                    --jp-layout-color3: #383838;\n",
       "                }\n",
       "\n",
       "                .geemap-colab {\n",
       "                    background-color: var(--colab-primary-surface-color, white);\n",
       "                }\n",
       "\n",
       "                .geemap-colab .jupyter-button {\n",
       "                    --jp-layout-color3: var(--colab-primary-surface-color, white);\n",
       "                }\n",
       "            </style>\n",
       "            "
      ],
      "text/plain": [
       "<IPython.core.display.HTML object>"
      ]
     },
     "metadata": {},
     "output_type": "display_data"
    },
    {
     "name": "stdout",
     "output_type": "stream",
     "text": [
      "18\n"
     ]
    }
   ],
   "source": [
    "# Filter Landsat 5 SR collection to images over CarletonU Summer 2011\n",
    "# Note that the slashes \\ at the end of the lines allow the code to carry to the next line\n",
    "\n",
    "CarletonU = ee.Geometry.Point(-75.69,45.38)\n",
    "\n",
    "L5_Carleton_S2020 = ee.ImageCollection(\"LANDSAT/LT05/C02/T1_L2\")\\\n",
    "                              .filterBounds(CarletonU)\\\n",
    "                              .filterDate('2011-06-01', '2011-08-31')\n",
    "\n",
    "# Print the size of the collection\n",
    "print(L5_Carleton_S2020.size().getInfo())\n",
    "\n",
    "#Note 2 - later in the semester we will use Landsat collection 2.  There are a few differences in band names and metadata info between the two collections."
   ]
  },
  {
   "cell_type": "code",
   "execution_count": 52,
   "metadata": {
    "id": "GHMEurJvL254"
   },
   "outputs": [
    {
     "data": {
      "text/html": [
       "\n",
       "            <style>\n",
       "                .geemap-dark {\n",
       "                    --jp-widgets-color: white;\n",
       "                    --jp-widgets-label-color: white;\n",
       "                    --jp-ui-font-color1: white;\n",
       "                    --jp-layout-color2: #454545;\n",
       "                    background-color: #383838;\n",
       "                }\n",
       "\n",
       "                .geemap-dark .jupyter-button {\n",
       "                    --jp-layout-color3: #383838;\n",
       "                }\n",
       "\n",
       "                .geemap-colab {\n",
       "                    background-color: var(--colab-primary-surface-color, white);\n",
       "                }\n",
       "\n",
       "                .geemap-colab .jupyter-button {\n",
       "                    --jp-layout-color3: var(--colab-primary-surface-color, white);\n",
       "                }\n",
       "            </style>\n",
       "            "
      ],
      "text/plain": [
       "<IPython.core.display.HTML object>"
      ]
     },
     "metadata": {},
     "output_type": "display_data"
    },
    {
     "name": "stdout",
     "output_type": "stream",
     "text": [
      "List of images:  ['LANDSAT/LT05/C02/T1_L2/LT05_015028_20110603', 'LANDSAT/LT05/C02/T1_L2/LT05_015028_20110619', 'LANDSAT/LT05/C02/T1_L2/LT05_015028_20110705', 'LANDSAT/LT05/C02/T1_L2/LT05_015028_20110721', 'LANDSAT/LT05/C02/T1_L2/LT05_015028_20110806', 'LANDSAT/LT05/C02/T1_L2/LT05_015028_20110822', 'LANDSAT/LT05/C02/T1_L2/LT05_015029_20110603', 'LANDSAT/LT05/C02/T1_L2/LT05_015029_20110619', 'LANDSAT/LT05/C02/T1_L2/LT05_015029_20110705', 'LANDSAT/LT05/C02/T1_L2/LT05_015029_20110721', 'LANDSAT/LT05/C02/T1_L2/LT05_015029_20110806', 'LANDSAT/LT05/C02/T1_L2/LT05_015029_20110822', 'LANDSAT/LT05/C02/T1_L2/LT05_016028_20110610', 'LANDSAT/LT05/C02/T1_L2/LT05_016028_20110626', 'LANDSAT/LT05/C02/T1_L2/LT05_016028_20110712', 'LANDSAT/LT05/C02/T1_L2/LT05_016028_20110728', 'LANDSAT/LT05/C02/T1_L2/LT05_016028_20110813', 'LANDSAT/LT05/C02/T1_L2/LT05_016028_20110829']\n",
      "['LANDSAT/LT05/C02/T1_L2/LT05_015028_20110603',\n",
      " 'LANDSAT/LT05/C02/T1_L2/LT05_015028_20110619',\n",
      " 'LANDSAT/LT05/C02/T1_L2/LT05_015028_20110705',\n",
      " 'LANDSAT/LT05/C02/T1_L2/LT05_015028_20110721',\n",
      " 'LANDSAT/LT05/C02/T1_L2/LT05_015028_20110806',\n",
      " 'LANDSAT/LT05/C02/T1_L2/LT05_015028_20110822',\n",
      " 'LANDSAT/LT05/C02/T1_L2/LT05_015029_20110603',\n",
      " 'LANDSAT/LT05/C02/T1_L2/LT05_015029_20110619',\n",
      " 'LANDSAT/LT05/C02/T1_L2/LT05_015029_20110705',\n",
      " 'LANDSAT/LT05/C02/T1_L2/LT05_015029_20110721',\n",
      " 'LANDSAT/LT05/C02/T1_L2/LT05_015029_20110806',\n",
      " 'LANDSAT/LT05/C02/T1_L2/LT05_015029_20110822',\n",
      " 'LANDSAT/LT05/C02/T1_L2/LT05_016028_20110610',\n",
      " 'LANDSAT/LT05/C02/T1_L2/LT05_016028_20110626',\n",
      " 'LANDSAT/LT05/C02/T1_L2/LT05_016028_20110712',\n",
      " 'LANDSAT/LT05/C02/T1_L2/LT05_016028_20110728',\n",
      " 'LANDSAT/LT05/C02/T1_L2/LT05_016028_20110813',\n",
      " 'LANDSAT/LT05/C02/T1_L2/LT05_016028_20110829']\n"
     ]
    }
   ],
   "source": [
    "# Get a list of all the image names in our collection\n",
    "imagenames = L5_Carleton_S2020.aggregate_array('system:id') # the Landsat id is stored under the 'system:id' property\n",
    "\n",
    "# You can either print it normally\n",
    "print(\"List of images: \",imagenames.getInfo())\n",
    "\n",
    "# or use pretty printer to get a vertical list\n",
    "pp.pprint(imagenames.getInfo())"
   ]
  },
  {
   "cell_type": "code",
   "execution_count": 53,
   "metadata": {
    "id": "DDiRs66OVUoA"
   },
   "outputs": [
    {
     "data": {
      "text/html": [
       "\n",
       "            <style>\n",
       "                .geemap-dark {\n",
       "                    --jp-widgets-color: white;\n",
       "                    --jp-widgets-label-color: white;\n",
       "                    --jp-ui-font-color1: white;\n",
       "                    --jp-layout-color2: #454545;\n",
       "                    background-color: #383838;\n",
       "                }\n",
       "\n",
       "                .geemap-dark .jupyter-button {\n",
       "                    --jp-layout-color3: #383838;\n",
       "                }\n",
       "\n",
       "                .geemap-colab {\n",
       "                    background-color: var(--colab-primary-surface-color, white);\n",
       "                }\n",
       "\n",
       "                .geemap-colab .jupyter-button {\n",
       "                    --jp-layout-color3: var(--colab-primary-surface-color, white);\n",
       "                }\n",
       "            </style>\n",
       "            "
      ],
      "text/plain": [
       "<IPython.core.display.HTML object>"
      ]
     },
     "metadata": {},
     "output_type": "display_data"
    },
    {
     "name": "stdout",
     "output_type": "stream",
     "text": [
      "['LANDSAT/LT05/C02/T1_L2/LT05_015028_20110603',\n",
      " 'LANDSAT/LT05/C02/T1_L2/LT05_015028_20110619',\n",
      " 'LANDSAT/LT05/C02/T1_L2/LT05_015028_20110705',\n",
      " 'LANDSAT/LT05/C02/T1_L2/LT05_015028_20110721',\n",
      " 'LANDSAT/LT05/C02/T1_L2/LT05_015028_20110806',\n",
      " 'LANDSAT/LT05/C02/T1_L2/LT05_015028_20110822',\n",
      " 'LANDSAT/LT05/C02/T1_L2/LT05_015029_20110603',\n",
      " 'LANDSAT/LT05/C02/T1_L2/LT05_015029_20110619',\n",
      " 'LANDSAT/LT05/C02/T1_L2/LT05_015029_20110705',\n",
      " 'LANDSAT/LT05/C02/T1_L2/LT05_015029_20110721',\n",
      " 'LANDSAT/LT05/C02/T1_L2/LT05_015029_20110806',\n",
      " 'LANDSAT/LT05/C02/T1_L2/LT05_015029_20110822',\n",
      " 'LANDSAT/LT05/C02/T1_L2/LT05_016028_20110610',\n",
      " 'LANDSAT/LT05/C02/T1_L2/LT05_016028_20110626',\n",
      " 'LANDSAT/LT05/C02/T1_L2/LT05_016028_20110712',\n",
      " 'LANDSAT/LT05/C02/T1_L2/LT05_016028_20110728',\n",
      " 'LANDSAT/LT05/C02/T1_L2/LT05_016028_20110813',\n",
      " 'LANDSAT/LT05/C02/T1_L2/LT05_016028_20110829']\n"
     ]
    }
   ],
   "source": [
    "L5_Carleton_S2020.sort(\"CLOUD_COVER\")\n",
    "imagenames = L5_Carleton_S2020.aggregate_array('system:id') # the Landsat id is stored under the 'system:id' property\n",
    "pp.pprint(imagenames.getInfo())\n"
   ]
  },
  {
   "cell_type": "markdown",
   "metadata": {
    "id": "S7kTXXMlXqC0"
   },
   "source": [
    "We can call for a specific image in the GEE catalog by using it's ID. To test this out, we can use one of the IDs listed above."
   ]
  },
  {
   "cell_type": "code",
   "execution_count": 69,
   "metadata": {
    "id": "B3JLlhbMQ8dO",
    "scrolled": true
   },
   "outputs": [
    {
     "data": {
      "text/html": [
       "\n",
       "            <style>\n",
       "                .geemap-dark {\n",
       "                    --jp-widgets-color: white;\n",
       "                    --jp-widgets-label-color: white;\n",
       "                    --jp-ui-font-color1: white;\n",
       "                    --jp-layout-color2: #454545;\n",
       "                    background-color: #383838;\n",
       "                }\n",
       "\n",
       "                .geemap-dark .jupyter-button {\n",
       "                    --jp-layout-color3: #383838;\n",
       "                }\n",
       "\n",
       "                .geemap-colab {\n",
       "                    background-color: var(--colab-primary-surface-color, white);\n",
       "                }\n",
       "\n",
       "                .geemap-colab .jupyter-button {\n",
       "                    --jp-layout-color3: var(--colab-primary-surface-color, white);\n",
       "                }\n",
       "            </style>\n",
       "            "
      ],
      "text/plain": [
       "<IPython.core.display.HTML object>"
      ]
     },
     "metadata": {},
     "output_type": "display_data"
    },
    {
     "data": {
      "text/plain": [
       "{'ALGORITHM_SOURCE_SURFACE_REFLECTANCE': 'LEDAPS_3.4.0',\n",
       " 'ALGORITHM_SOURCE_SURFACE_TEMPERATURE': 'st_1.3.0',\n",
       " 'CLOUD_COVER': 24,\n",
       " 'CLOUD_COVER_LAND': 24,\n",
       " 'COLLECTION_CATEGORY': 'T1',\n",
       " 'COLLECTION_NUMBER': 2,\n",
       " 'CORRECTION_BIAS_BAND_1': 'CPF',\n",
       " 'CORRECTION_BIAS_BAND_2': 'CPF',\n",
       " 'CORRECTION_BIAS_BAND_3': 'CPF',\n",
       " 'CORRECTION_BIAS_BAND_4': 'CPF',\n",
       " 'CORRECTION_BIAS_BAND_5': 'CPF',\n",
       " 'CORRECTION_BIAS_BAND_6': 'CPF',\n",
       " 'CORRECTION_BIAS_BAND_7': 'CPF',\n",
       " 'CORRECTION_GAIN_BAND_1': 'CPF',\n",
       " 'CORRECTION_GAIN_BAND_2': 'CPF',\n",
       " 'CORRECTION_GAIN_BAND_3': 'CPF',\n",
       " 'CORRECTION_GAIN_BAND_4': 'CPF',\n",
       " 'CORRECTION_GAIN_BAND_5': 'CPF',\n",
       " 'CORRECTION_GAIN_BAND_6': 'INTERNAL_CALIBRATION',\n",
       " 'CORRECTION_GAIN_BAND_7': 'CPF',\n",
       " 'DATA_SOURCE_AIR_TEMPERATURE': 'NCEP',\n",
       " 'DATA_SOURCE_ELEVATION': 'GLS2000',\n",
       " 'DATA_SOURCE_OZONE': 'TOMS',\n",
       " 'DATA_SOURCE_PRESSURE': 'NCEP',\n",
       " 'DATA_SOURCE_REANALYSIS': 'GEOS-5 FP-IT',\n",
       " 'DATA_SOURCE_WATER_VAPOR': 'NCEP',\n",
       " 'DATA_TYPE_L0RP': 'TMR_L0RP',\n",
       " 'DATE_ACQUIRED': '2011-08-29',\n",
       " 'DATE_PRODUCT_GENERATED': 1597950825000,\n",
       " 'DATUM': 'WGS84',\n",
       " 'EARTH_SUN_DISTANCE': 1.0099209,\n",
       " 'ELLIPSOID': 'WGS84',\n",
       " 'EPHEMERIS_TYPE': 'DEFINITIVE',\n",
       " 'GEOMETRIC_RMSE_MODEL': 4.231,\n",
       " 'GEOMETRIC_RMSE_MODEL_X': 2.896,\n",
       " 'GEOMETRIC_RMSE_MODEL_Y': 3.085,\n",
       " 'GEOMETRIC_RMSE_VERIFY': 0.214,\n",
       " 'GEOMETRIC_RMSE_VERIFY_QUAD_LL': 0.216,\n",
       " 'GEOMETRIC_RMSE_VERIFY_QUAD_LR': 0.186,\n",
       " 'GEOMETRIC_RMSE_VERIFY_QUAD_UL': 0.247,\n",
       " 'GEOMETRIC_RMSE_VERIFY_QUAD_UR': 0.246,\n",
       " 'GRID_CELL_SIZE_REFLECTIVE': 30,\n",
       " 'GRID_CELL_SIZE_THERMAL': 30,\n",
       " 'GROUND_CONTROL_POINTS_MODEL': 601,\n",
       " 'GROUND_CONTROL_POINTS_VERIFY': 1040,\n",
       " 'GROUND_CONTROL_POINTS_VERSION': 5,\n",
       " 'IMAGE_DATE': '2011-08-29',\n",
       " 'IMAGE_QUALITY': 9,\n",
       " 'L1_DATE_PRODUCT_GENERATED': '2020-08-20T18:59:04Z',\n",
       " 'L1_LANDSAT_PRODUCT_ID': 'LT05_L1TP_016028_20110829_20200820_02_T1',\n",
       " 'L1_PROCESSING_LEVEL': 'L1TP',\n",
       " 'L1_PROCESSING_SOFTWARE_VERSION': 'LPGS_15.3.1c',\n",
       " 'L1_REQUEST_ID': 'L2',\n",
       " 'LANDSAT_PRODUCT_ID': 'LT05_L2SP_016028_20110829_20200820_02_T1',\n",
       " 'LANDSAT_SCENE_ID': 'LT50160282011241EDC00',\n",
       " 'MAP_PROJECTION': 'UTM',\n",
       " 'NOMINAL_SCALE': 30,\n",
       " 'ORIENTATION': 'NORTH_UP',\n",
       " 'PROCESSING_LEVEL': 'L2SP',\n",
       " 'PROCESSING_SOFTWARE_VERSION': 'LPGS_15.3.1c',\n",
       " 'REFLECTANCE_ADD_BAND_1': -0.2,\n",
       " 'REFLECTANCE_ADD_BAND_2': -0.2,\n",
       " 'REFLECTANCE_ADD_BAND_3': -0.2,\n",
       " 'REFLECTANCE_ADD_BAND_4': -0.2,\n",
       " 'REFLECTANCE_ADD_BAND_5': -0.2,\n",
       " 'REFLECTANCE_ADD_BAND_7': -0.2,\n",
       " 'REFLECTANCE_MULT_BAND_1': 2.75e-05,\n",
       " 'REFLECTANCE_MULT_BAND_2': 2.75e-05,\n",
       " 'REFLECTANCE_MULT_BAND_3': 2.75e-05,\n",
       " 'REFLECTANCE_MULT_BAND_4': 2.75e-05,\n",
       " 'REFLECTANCE_MULT_BAND_5': 2.75e-05,\n",
       " 'REFLECTANCE_MULT_BAND_7': 2.75e-05,\n",
       " 'REFLECTIVE_LINES': 7341,\n",
       " 'REFLECTIVE_SAMPLES': 8151,\n",
       " 'REQUEST_ID': 'L2',\n",
       " 'SATURATION_BAND_1': 'Y',\n",
       " 'SATURATION_BAND_2': 'Y',\n",
       " 'SATURATION_BAND_3': 'Y',\n",
       " 'SATURATION_BAND_4': 'Y',\n",
       " 'SATURATION_BAND_5': 'Y',\n",
       " 'SATURATION_BAND_6': 'N',\n",
       " 'SATURATION_BAND_7': 'Y',\n",
       " 'SCENE_CENTER_TIME': '15:39:21.3470380Z',\n",
       " 'SENSOR_ANOMALIES': 'NONE',\n",
       " 'SENSOR_ID': 'TM',\n",
       " 'SENSOR_MODE': 'BUMPER',\n",
       " 'SENSOR_MODE_SLC': 'ON',\n",
       " 'SPACECRAFT_ID': 'LANDSAT_5',\n",
       " 'STATION_ID': 'EDC',\n",
       " 'SUN_AZIMUTH': 146.64202403,\n",
       " 'SUN_ELEVATION': 48.95145133,\n",
       " 'TEMPERATURE_ADD_BAND_ST_B6': 149,\n",
       " 'TEMPERATURE_MAXIMUM_BAND_ST_B6': 372.999941,\n",
       " 'TEMPERATURE_MINIMUM_BAND_ST_B6': 149.003418,\n",
       " 'TEMPERATURE_MULT_BAND_ST_B6': 0.00341802,\n",
       " 'THERMAL_LINES': 7341,\n",
       " 'THERMAL_SAMPLES': 8151,\n",
       " 'UTM_ZONE': 18,\n",
       " 'WRS_PATH': 16,\n",
       " 'WRS_ROW': 28,\n",
       " 'WRS_TYPE': 2,\n",
       " 'system:asset_size': '768.244163 MB',\n",
       " 'system:band_names': ['SR_B1',\n",
       "  'SR_B2',\n",
       "  'SR_B3',\n",
       "  'SR_B4',\n",
       "  'SR_B5',\n",
       "  'SR_B7',\n",
       "  'SR_ATMOS_OPACITY',\n",
       "  'SR_CLOUD_QA',\n",
       "  'ST_B6',\n",
       "  'ST_ATRAN',\n",
       "  'ST_CDIST',\n",
       "  'ST_DRAD',\n",
       "  'ST_EMIS',\n",
       "  'ST_EMSD',\n",
       "  'ST_QA',\n",
       "  'ST_TRAD',\n",
       "  'ST_URAD',\n",
       "  'QA_PIXEL',\n",
       "  'QA_RADSAT'],\n",
       " 'system:id': 'LANDSAT/LT05/C02/T1_L2/LT05_016028_20110829',\n",
       " 'system:index': 'LT05_016028_20110829',\n",
       " 'system:time_end': '2011-08-29 15:39:21',\n",
       " 'system:time_start': '2011-08-29 15:39:21',\n",
       " 'system:version': 1626264203996248}"
      ]
     },
     "execution_count": 69,
     "metadata": {},
     "output_type": "execute_result"
    }
   ],
   "source": [
    "# Load the last image in the collection\n",
    "L5_2011Aug29 = ee.Image('LANDSAT/LT05/C02/T1_L2/LT05_016028_20110829')\n",
    "\n",
    "# Explore the properties of the image\n",
    "imageprops = geemap.image_props(L5_2011Aug29)\n",
    "imageprops.getInfo()"
   ]
  },
  {
   "cell_type": "markdown",
   "metadata": {
    "id": "OlrQzozIXDzD"
   },
   "source": [
    "The above code returns all of the associated metadata from an image. From this, we can see that the image has 24% cloud cover, that it has 11 bands, including 3 quality bands, and that it was taken on August 29th, 2011 at 3:39PM, among other things."
   ]
  },
  {
   "cell_type": "code",
   "execution_count": 76,
   "metadata": {
    "id": "k_KtRRKCav-K"
   },
   "outputs": [
    {
     "data": {
      "text/html": [
       "\n",
       "            <style>\n",
       "                .geemap-dark {\n",
       "                    --jp-widgets-color: white;\n",
       "                    --jp-widgets-label-color: white;\n",
       "                    --jp-ui-font-color1: white;\n",
       "                    --jp-layout-color2: #454545;\n",
       "                    background-color: #383838;\n",
       "                }\n",
       "\n",
       "                .geemap-dark .jupyter-button {\n",
       "                    --jp-layout-color3: #383838;\n",
       "                }\n",
       "\n",
       "                .geemap-colab {\n",
       "                    background-color: var(--colab-primary-surface-color, white);\n",
       "                }\n",
       "\n",
       "                .geemap-colab .jupyter-button {\n",
       "                    --jp-layout-color3: var(--colab-primary-surface-color, white);\n",
       "                }\n",
       "            </style>\n",
       "            "
      ],
      "text/plain": [
       "<IPython.core.display.HTML object>"
      ]
     },
     "metadata": {},
     "output_type": "display_data"
    },
    {
     "data": {
      "application/vnd.jupyter.widget-view+json": {
       "model_id": "9a6fa7ca35434f98ae3c297f056666d1",
       "version_major": 2,
       "version_minor": 0
      },
      "text/plain": [
       "Map(center=[45.38, -75.69], controls=(WidgetControl(options=['position', 'transparent_bg'], widget=SearchDataG…"
      ]
     },
     "execution_count": 76,
     "metadata": {},
     "output_type": "execute_result"
    }
   ],
   "source": [
    "Map = geemap.Map()\n",
    "# Centre the map on the point\n",
    "Map.centerObject(CarletonU, 11)\n",
    "\n",
    "# # Define a function to apply scaling factors\n",
    "# def apply_scale_factors(image):\n",
    "#     optical_bands = image.select('SR_B.*').multiply(0.0000275).add(-0.2)\n",
    "#     thermal_band = image.select('ST_B6').multiply(0.00341802).add(149.0)\n",
    "#     return image.addBands(optical_bands, None, True) \\\n",
    "#                 .addBands(thermal_band, None, True)\n",
    "\n",
    "# L5_2011Aug29 = L5_2011Aug29.map(apply_scale_factors);\n",
    "\n",
    "# Here we set it up so that band3 is in Red, B2 is in Green, and B1 is in Blue (true colour)\n",
    "visParams = {\n",
    "  'bands': ['SR_B3', 'SR_B2', 'SR_B1'],\n",
    "  'min': 0,\n",
    "  'max': 30000,\n",
    "};\n",
    "\n",
    "# Add the scene to the map with the visualization parameters created above\n",
    "Map.addLayer(L5_2011Aug29, visParams,\"Carleton 2011Aug29\")\n",
    "Map.addLayerControl()\n",
    "\n",
    "#Done!  now you can zoom/pan and look at the image you have requested.\n",
    "Map"
   ]
  },
  {
   "cell_type": "markdown",
   "metadata": {
    "id": "60g5Wi-olpSd"
   },
   "source": [
    "#### Cloud masking\n",
    "\n",
    "Our image is pretty good but as we saw in the image properties (and as we can see on the map), the image has 24.5% cloud cover.\n",
    "\n",
    "There are a couple of ways to get around the clouds. Instead of using the last image in our image collection, we could instead sort it to get the least cloudy image.\n"
   ]
  },
  {
   "cell_type": "code",
   "execution_count": 77,
   "metadata": {
    "id": "Glzsww6HqVLb"
   },
   "outputs": [
    {
     "data": {
      "text/html": [
       "\n",
       "            <style>\n",
       "                .geemap-dark {\n",
       "                    --jp-widgets-color: white;\n",
       "                    --jp-widgets-label-color: white;\n",
       "                    --jp-ui-font-color1: white;\n",
       "                    --jp-layout-color2: #454545;\n",
       "                    background-color: #383838;\n",
       "                }\n",
       "\n",
       "                .geemap-dark .jupyter-button {\n",
       "                    --jp-layout-color3: #383838;\n",
       "                }\n",
       "\n",
       "                .geemap-colab {\n",
       "                    background-color: var(--colab-primary-surface-color, white);\n",
       "                }\n",
       "\n",
       "                .geemap-colab .jupyter-button {\n",
       "                    --jp-layout-color3: var(--colab-primary-surface-color, white);\n",
       "                }\n",
       "            </style>\n",
       "            "
      ],
      "text/plain": [
       "<IPython.core.display.HTML object>"
      ]
     },
     "metadata": {},
     "output_type": "display_data"
    },
    {
     "name": "stdout",
     "output_type": "stream",
     "text": [
      "0\n"
     ]
    }
   ],
   "source": [
    "# Sort the collection by cloud cover and then take the first (the least cloudy)\n",
    "leastcloudy = L5_Carleton_S2020.sort('CLOUD_COVER').first()\n",
    "\n",
    "# Check how much cloud cover the least cloudy image has\n",
    "imageprops = geemap.image_props(leastcloudy)\n",
    "print(imageprops.get('CLOUD_COVER').getInfo())"
   ]
  },
  {
   "cell_type": "markdown",
   "metadata": {
    "id": "S40EuTvqqnE9"
   },
   "source": [
    "This is great if we aren't picky about the date or we just want to take a quick look at the area but if we need to analyze the image, we will need to mask out the clouds.\n",
    "\n",
    "There are several different ways to mask clouds, and different options for each sensor. For Landsat, one useful method to mask out clouds is by using the pixel quality assurance band. The quality assurance band `pixel_qa` contains information about the quality of each pixel. These methods select any pixels that are “bad” and mask them out.\n",
    "\n",
    "If you're interested and want more information on how the qa bands work, check out [this](https://www.google.com/url?q=https://www.usgs.gov/land-resources/nli/landsat/landsat-sr-derived-spectral-indices-pixel-quality-band&sa=D&source=editors&ust=1613500103309000&usg=AOvVaw0ZJKTwxW03RKzPTPRUYO4r) and [this](https://hyspeedblog.wordpress.com/2014/08/27/working-with-landsat-8-using-and-interpreting-the-quality-assessment-qa-band/).\n",
    "\n",
    "For now, it's not super necessary to understand how this function works. The cloud mask functions used in this lab were taken directly from the Google example scripts (see the end of [this page](https://developers.google.com/earth-engine/datasets/catalog/LANDSAT_LC08_C01_T1_SR) to find the L8 cloud masking function).\n"
   ]
  },
  {
   "cell_type": "code",
   "execution_count": 81,
   "metadata": {
    "id": "Ij1rHdSp5Kn9"
   },
   "outputs": [
    {
     "data": {
      "text/html": [
       "\n",
       "            <style>\n",
       "                .geemap-dark {\n",
       "                    --jp-widgets-color: white;\n",
       "                    --jp-widgets-label-color: white;\n",
       "                    --jp-ui-font-color1: white;\n",
       "                    --jp-layout-color2: #454545;\n",
       "                    background-color: #383838;\n",
       "                }\n",
       "\n",
       "                .geemap-dark .jupyter-button {\n",
       "                    --jp-layout-color3: #383838;\n",
       "                }\n",
       "\n",
       "                .geemap-colab {\n",
       "                    background-color: var(--colab-primary-surface-color, white);\n",
       "                }\n",
       "\n",
       "                .geemap-colab .jupyter-button {\n",
       "                    --jp-layout-color3: var(--colab-primary-surface-color, white);\n",
       "                }\n",
       "            </style>\n",
       "            "
      ],
      "text/plain": [
       "<IPython.core.display.HTML object>"
      ]
     },
     "metadata": {},
     "output_type": "display_data"
    }
   ],
   "source": [
    "# Create a function to mask out clouds in Landsat 8 images\n",
    "## This one is taken from GEE example scripts\n",
    "\n",
    "def cloudMask(image):\n",
    "  # Bits 3 and 5 are cloud shadow and cloud, respectively.\n",
    "  cloudShadowBitMask = 1 << 3 #select the cloud shadow bit location\n",
    "  cloudsBitMask = 1 << 5 # select the cloud bit location\n",
    "  # Get the pixel QA band.\n",
    "  qa = image.select('QA_PIXEL')\n",
    "  # Both flags should be set to zero, indicating clear conditions.\n",
    "  # this only keeps pixels were both the cloud and cloud shadow bits are set to 0\n",
    "  mask = qa.bitwiseAnd(cloudShadowBitMask).eq(0).And(qa.bitwiseAnd(cloudsBitMask).eq(0))\n",
    "  # Return the masked image, not scaled to reflectance, with the QA bands.\n",
    "  return image.updateMask(mask)"
   ]
  },
  {
   "cell_type": "markdown",
   "metadata": {
    "id": "SzYjR3hssPYe"
   },
   "source": [
    "We can run this function on a single image, or 'map' it across an entire image collection. In the latter case, the function is applied to every single image in the image collection. This is useful if later you want to reduce a stack of images into a single image composite or an image mosaic (which we will do in another lab!)"
   ]
  },
  {
   "cell_type": "code",
   "execution_count": 82,
   "metadata": {
    "id": "wR3DyDTmsK5p"
   },
   "outputs": [
    {
     "data": {
      "text/html": [
       "\n",
       "            <style>\n",
       "                .geemap-dark {\n",
       "                    --jp-widgets-color: white;\n",
       "                    --jp-widgets-label-color: white;\n",
       "                    --jp-ui-font-color1: white;\n",
       "                    --jp-layout-color2: #454545;\n",
       "                    background-color: #383838;\n",
       "                }\n",
       "\n",
       "                .geemap-dark .jupyter-button {\n",
       "                    --jp-layout-color3: #383838;\n",
       "                }\n",
       "\n",
       "                .geemap-colab {\n",
       "                    background-color: var(--colab-primary-surface-color, white);\n",
       "                }\n",
       "\n",
       "                .geemap-colab .jupyter-button {\n",
       "                    --jp-layout-color3: var(--colab-primary-surface-color, white);\n",
       "                }\n",
       "            </style>\n",
       "            "
      ],
      "text/plain": [
       "<IPython.core.display.HTML object>"
      ]
     },
     "metadata": {},
     "output_type": "display_data"
    }
   ],
   "source": [
    "# On a single image\n",
    "cloudfree_img = cloudMask(L5_2011Aug29)\n",
    "\n",
    "# On an image collection\n",
    "cloudfree_imgcol = L5_Carleton_S2020.map(cloudMask)"
   ]
  },
  {
   "cell_type": "markdown",
   "metadata": {
    "id": "xYZQDOugtvCI"
   },
   "source": [
    "Check out what the cloud masked image looks like"
   ]
  },
  {
   "cell_type": "code",
   "execution_count": 83,
   "metadata": {
    "id": "Ji9FLBjqtxjb"
   },
   "outputs": [
    {
     "data": {
      "text/html": [
       "\n",
       "            <style>\n",
       "                .geemap-dark {\n",
       "                    --jp-widgets-color: white;\n",
       "                    --jp-widgets-label-color: white;\n",
       "                    --jp-ui-font-color1: white;\n",
       "                    --jp-layout-color2: #454545;\n",
       "                    background-color: #383838;\n",
       "                }\n",
       "\n",
       "                .geemap-dark .jupyter-button {\n",
       "                    --jp-layout-color3: #383838;\n",
       "                }\n",
       "\n",
       "                .geemap-colab {\n",
       "                    background-color: var(--colab-primary-surface-color, white);\n",
       "                }\n",
       "\n",
       "                .geemap-colab .jupyter-button {\n",
       "                    --jp-layout-color3: var(--colab-primary-surface-color, white);\n",
       "                }\n",
       "            </style>\n",
       "            "
      ],
      "text/plain": [
       "<IPython.core.display.HTML object>"
      ]
     },
     "metadata": {},
     "output_type": "display_data"
    },
    {
     "data": {
      "application/vnd.jupyter.widget-view+json": {
       "model_id": "23d343f846524692b75613a88487a98d",
       "version_major": 2,
       "version_minor": 0
      },
      "text/plain": [
       "Map(center=[45.38, -75.69], controls=(WidgetControl(options=['position', 'transparent_bg'], widget=SearchDataG…"
      ]
     },
     "execution_count": 83,
     "metadata": {},
     "output_type": "execute_result"
    }
   ],
   "source": [
    "Map = geemap.Map()\n",
    "Map.addLayer(cloudfree_img,visParams)\n",
    "Map.centerObject(CarletonU,11)\n",
    "Map.addLayerControl()\n",
    "Map"
   ]
  },
  {
   "cell_type": "markdown",
   "metadata": {
    "id": "2JgCxTRdXAZI"
   },
   "source": [
    "When we apply the cloud mask to the image collection, the same operation occurs to each image in that image collection. If we were to call to visualize the first image in our cloud masked image collection, we would see the same spots of missing imagery where clouds used to be."
   ]
  },
  {
   "cell_type": "code",
   "execution_count": 84,
   "metadata": {
    "id": "MSVm4zXXXbi3"
   },
   "outputs": [
    {
     "data": {
      "text/html": [
       "\n",
       "            <style>\n",
       "                .geemap-dark {\n",
       "                    --jp-widgets-color: white;\n",
       "                    --jp-widgets-label-color: white;\n",
       "                    --jp-ui-font-color1: white;\n",
       "                    --jp-layout-color2: #454545;\n",
       "                    background-color: #383838;\n",
       "                }\n",
       "\n",
       "                .geemap-dark .jupyter-button {\n",
       "                    --jp-layout-color3: #383838;\n",
       "                }\n",
       "\n",
       "                .geemap-colab {\n",
       "                    background-color: var(--colab-primary-surface-color, white);\n",
       "                }\n",
       "\n",
       "                .geemap-colab .jupyter-button {\n",
       "                    --jp-layout-color3: var(--colab-primary-surface-color, white);\n",
       "                }\n",
       "            </style>\n",
       "            "
      ],
      "text/plain": [
       "<IPython.core.display.HTML object>"
      ]
     },
     "metadata": {},
     "output_type": "display_data"
    },
    {
     "data": {
      "application/vnd.jupyter.widget-view+json": {
       "model_id": "085555e2fffa4473b6a98ad4e5fac6f3",
       "version_major": 2,
       "version_minor": 0
      },
      "text/plain": [
       "Map(center=[45.38, -75.69], controls=(WidgetControl(options=['position', 'transparent_bg'], widget=SearchDataG…"
      ]
     },
     "execution_count": 84,
     "metadata": {},
     "output_type": "execute_result"
    }
   ],
   "source": [
    "Map = geemap.Map()\n",
    "Map.addLayer(cloudfree_imgcol.first(),visParams)\n",
    "Map.centerObject(CarletonU,12)\n",
    "Map.addLayerControl()\n",
    "Map\n",
    "\n",
    "# this time, the original image didn't have very many clouds - but what was there are now masked out\n",
    "# we can see some of these spots over the Ottawa River and over the neighbourhood in the bottom right on the map"
   ]
  },
  {
   "cell_type": "markdown",
   "metadata": {
    "id": "Gk8g4kskCYxQ"
   },
   "source": [
    "### Sentinel\n",
    "\n",
    "The Sentinel satellites are a part of the Copernicus program run by the European Commission and the European Space Agency. The Copernicus program includes radar images from Sentinel-1A and 1B, high-resolution optical images from Sentinel-2A and 2B, ocean and land data suitable for environmental and climate monitoring from Sentinel-3, as well as air quality data from Sentinel-5P."
   ]
  },
  {
   "cell_type": "markdown",
   "metadata": {
    "id": "bC7xd9QfZRpH"
   },
   "source": [
    "#### Sentinel-1 SAR\n",
    "\n",
    "Sentinel-1 collects C-band synthetic aperture radar (SAR) imagery. Data is collected in a variety of ways and requires quite a bit of filtering of the metadata to visualize or process. For more information on Sentinel-1, check out the GEE resource [here](https://developers.google.com/earth-engine/guides/sentinel1)."
   ]
  },
  {
   "cell_type": "code",
   "execution_count": 158,
   "metadata": {
    "id": "T_rHgRXZqe71"
   },
   "outputs": [
    {
     "data": {
      "text/html": [
       "\n",
       "            <style>\n",
       "                .geemap-dark {\n",
       "                    --jp-widgets-color: white;\n",
       "                    --jp-widgets-label-color: white;\n",
       "                    --jp-ui-font-color1: white;\n",
       "                    --jp-layout-color2: #454545;\n",
       "                    background-color: #383838;\n",
       "                }\n",
       "\n",
       "                .geemap-dark .jupyter-button {\n",
       "                    --jp-layout-color3: #383838;\n",
       "                }\n",
       "\n",
       "                .geemap-colab {\n",
       "                    background-color: var(--colab-primary-surface-color, white);\n",
       "                }\n",
       "\n",
       "                .geemap-colab .jupyter-button {\n",
       "                    --jp-layout-color3: var(--colab-primary-surface-color, white);\n",
       "                }\n",
       "            </style>\n",
       "            "
      ],
      "text/plain": [
       "<IPython.core.display.HTML object>"
      ]
     },
     "metadata": {},
     "output_type": "display_data"
    },
    {
     "data": {
      "text/plain": [
       "{'GRD_Post_Processing_facility_country': 'Germany',\n",
       " 'GRD_Post_Processing_facility_name': 'Copernicus S1 Core Ground Segment - DPA',\n",
       " 'GRD_Post_Processing_facility_org': 'ESA',\n",
       " 'GRD_Post_Processing_facility_site': 'DLR-Oberpfaffenhofen',\n",
       " 'GRD_Post_Processing_software_name': 'Sentinel-1 IPF',\n",
       " 'GRD_Post_Processing_software_version': '002.90',\n",
       " 'GRD_Post_Processing_start': 1523080015680,\n",
       " 'GRD_Post_Processing_stop': 1523080675000,\n",
       " 'IMAGE_DATE': '2018-04-06',\n",
       " 'NOMINAL_SCALE': {'VH': 10, 'VV': 10, 'angle': 16275.121203055469},\n",
       " 'S1TBX_Calibration_vers': '6.0.4',\n",
       " 'S1TBX_SAR_Processing_vers': '6.0.4',\n",
       " 'SLC_Processing_facility_country': 'Germany',\n",
       " 'SLC_Processing_facility_name': 'Copernicus S1 Core Ground Segment - DPA',\n",
       " 'SLC_Processing_facility_org': 'ESA',\n",
       " 'SLC_Processing_facility_site': 'DLR-Oberpfaffenhofen',\n",
       " 'SLC_Processing_software_name': 'Sentinel-1 IPF',\n",
       " 'SLC_Processing_software_version': '002.90',\n",
       " 'SLC_Processing_start': 1523080131000,\n",
       " 'SLC_Processing_stop': 1523080457000,\n",
       " 'SNAP_Graph_Processing_Framework_GPF_vers': '6.0.4',\n",
       " 'cycleNumber': 66,\n",
       " 'familyName': 'SENTINEL-1',\n",
       " 'instrument': 'Synthetic Aperture Radar',\n",
       " 'instrumentConfigurationID': 1,\n",
       " 'instrumentMode': 'IW',\n",
       " 'instrumentSwath': 'IW',\n",
       " 'missionDataTakeID': 77337,\n",
       " 'nssdcIdentifier': '2016-025A',\n",
       " 'orbitNumber_start': 10370,\n",
       " 'orbitNumber_stop': 10370,\n",
       " 'orbitProperties_ascendingNodeTime': 1523057816280,\n",
       " 'orbitProperties_pass': 'ASCENDING',\n",
       " 'phaseIdentifier': 1,\n",
       " 'platformHeading': -17.47563460532415,\n",
       " 'platform_number': 'B',\n",
       " 'productClass': 'S',\n",
       " 'productClassDescription': 'SAR Standard L1 Product',\n",
       " 'productComposition': 'Slice',\n",
       " 'productTimelinessCategory': 'Fast-24h',\n",
       " 'productType': 'GRD',\n",
       " 'relativeOrbitNumber_start': 19,\n",
       " 'relativeOrbitNumber_stop': 19,\n",
       " 'resolution': 'H',\n",
       " 'resolution_meters': 10,\n",
       " 'segmentStartTime': 1523058516460,\n",
       " 'sliceNumber': 11,\n",
       " 'sliceProductFlag': 'true',\n",
       " 'startTimeANX': 953877.8,\n",
       " 'stopTimeANX': 978875.7,\n",
       " 'system:asset_size': '4052.002267 MB',\n",
       " 'system:band_names': ['VV', 'VH', 'angle'],\n",
       " 'system:id': 'COPERNICUS/S1_GRD/S1B_IW_GRDH_1SDV_20180406T235250_20180406T235315_010370_012E19_E0DD',\n",
       " 'system:index': 'S1B_IW_GRDH_1SDV_20180406T235250_20180406T235315_010370_012E19_E0DD',\n",
       " 'system:time_end': '2018-04-06 23:52:50',\n",
       " 'system:time_start': '2018-04-06 23:52:50',\n",
       " 'system:version': 1731447318669130.0,\n",
       " 'totalSlices': 17,\n",
       " 'transmitterReceiverPolarisation': ['VV', 'VH']}"
      ]
     },
     "execution_count": 158,
     "metadata": {},
     "output_type": "execute_result"
    }
   ],
   "source": [
    "# Set a point in Churchill, Manitoba\n",
    "churchill = ee.Geometry.Point(-94.13, 58.78)\n",
    "\n",
    "# Filter Sentinel 1 Collection by metadata properties\n",
    "## Filter to get images with VV polarization\n",
    "## Filter to get images collected in interferometric wide swath mode\n",
    "## Filter to get images in ascending orbit\n",
    "s1_col =  ee.ImageCollection('COPERNICUS/S1_GRD')\\\n",
    "              .filter(ee.Filter.listContains('transmitterReceiverPolarisation', 'VV'))\\\n",
    "              .filter(ee.Filter.eq('instrumentMode', 'IW'))\\\n",
    "              .filter(ee.Filter.eq('orbitProperties_pass', 'ASCENDING'))\n",
    "\n",
    "# Filter the collection by and location\n",
    "s1_img = s1_col.filterBounds(churchill)\\\n",
    "                  .filterDate('2018-04-01','2019-05-31')\\\n",
    "                  .first()# Choose first image in collection\n",
    "\n",
    "# Print image properties\n",
    "imageprops = geemap.image_props(s1_img)\n",
    "imageprops.getInfo()"
   ]
  },
  {
   "cell_type": "code",
   "execution_count": 86,
   "metadata": {
    "id": "3uUtHiSVvTny"
   },
   "outputs": [
    {
     "data": {
      "text/html": [
       "\n",
       "            <style>\n",
       "                .geemap-dark {\n",
       "                    --jp-widgets-color: white;\n",
       "                    --jp-widgets-label-color: white;\n",
       "                    --jp-ui-font-color1: white;\n",
       "                    --jp-layout-color2: #454545;\n",
       "                    background-color: #383838;\n",
       "                }\n",
       "\n",
       "                .geemap-dark .jupyter-button {\n",
       "                    --jp-layout-color3: #383838;\n",
       "                }\n",
       "\n",
       "                .geemap-colab {\n",
       "                    background-color: var(--colab-primary-surface-color, white);\n",
       "                }\n",
       "\n",
       "                .geemap-colab .jupyter-button {\n",
       "                    --jp-layout-color3: var(--colab-primary-surface-color, white);\n",
       "                }\n",
       "            </style>\n",
       "            "
      ],
      "text/plain": [
       "<IPython.core.display.HTML object>"
      ]
     },
     "metadata": {},
     "output_type": "display_data"
    },
    {
     "data": {
      "application/vnd.jupyter.widget-view+json": {
       "model_id": "605618bc5b8148468438853ea367565a",
       "version_major": 2,
       "version_minor": 0
      },
      "text/plain": [
       "Map(center=[58.78000000000001, -94.13], controls=(WidgetControl(options=['position', 'transparent_bg'], widget…"
      ]
     },
     "execution_count": 86,
     "metadata": {},
     "output_type": "execute_result"
    }
   ],
   "source": [
    "# Display image on map\n",
    "Map = geemap.Map()\n",
    "Map.centerObject(churchill,8)\n",
    "Map.addLayer(s1_img, {'bands': ['VV','VV','VV'], 'min': -20,'max': 0},'S1-image')\n",
    "Map"
   ]
  },
  {
   "cell_type": "markdown",
   "metadata": {
    "id": "09cdM7VHZaTo"
   },
   "source": [
    "#### Sentinel-2 MSI\n",
    "\n",
    "The S2 Multispectral Instrument (MSI) has 13 spectral bands at different resolutions: R, G, B, and NIR at 10m, red edge and SWIR at 20m, and atmospheric bands at 60m spatial resolution. Data is available as both TOA Reflectance and atmospherically corrected Surface Reflectance products.\n",
    "\n",
    "Let's filter the Sentinel-2 surface reflectance collection and visualize an image to start."
   ]
  },
  {
   "cell_type": "code",
   "execution_count": 87,
   "metadata": {
    "id": "Zu0Mii661be1",
    "scrolled": true
   },
   "outputs": [
    {
     "data": {
      "text/html": [
       "\n",
       "            <style>\n",
       "                .geemap-dark {\n",
       "                    --jp-widgets-color: white;\n",
       "                    --jp-widgets-label-color: white;\n",
       "                    --jp-ui-font-color1: white;\n",
       "                    --jp-layout-color2: #454545;\n",
       "                    background-color: #383838;\n",
       "                }\n",
       "\n",
       "                .geemap-dark .jupyter-button {\n",
       "                    --jp-layout-color3: #383838;\n",
       "                }\n",
       "\n",
       "                .geemap-colab {\n",
       "                    background-color: var(--colab-primary-surface-color, white);\n",
       "                }\n",
       "\n",
       "                .geemap-colab .jupyter-button {\n",
       "                    --jp-layout-color3: var(--colab-primary-surface-color, white);\n",
       "                }\n",
       "            </style>\n",
       "            "
      ],
      "text/plain": [
       "<IPython.core.display.HTML object>"
      ]
     },
     "metadata": {},
     "output_type": "display_data"
    },
    {
     "data": {
      "text/plain": [
       "{'AOT_RETRIEVAL_ACCURACY': 0,\n",
       " 'CLOUDY_PIXEL_PERCENTAGE': 8.888204,\n",
       " 'CLOUD_COVERAGE_ASSESSMENT': 8.888204,\n",
       " 'CLOUD_SHADOW_PERCENTAGE': 0.017031,\n",
       " 'DARK_FEATURES_PERCENTAGE': 0.496362,\n",
       " 'DATASTRIP_ID': 'S2B_OPER_MSI_L2A_DS_MTI__20190422T233814_S20190422T184004_N02.11',\n",
       " 'DATATAKE_IDENTIFIER': 'GS2B_20190422T183929_011107_N02.11',\n",
       " 'DATATAKE_TYPE': 'INS-NOBS',\n",
       " 'DEGRADED_MSI_DATA_PERCENTAGE': 0,\n",
       " 'FORMAT_CORRECTNESS': 'PASSED',\n",
       " 'GENERAL_QUALITY': 'PASSED',\n",
       " 'GENERATION_TIME': 1555976294000,\n",
       " 'GEOMETRIC_QUALITY': 'PASSED',\n",
       " 'GRANULE_ID': 'L2A_T12UUA_A011107_20190422T184004',\n",
       " 'HIGH_PROBA_CLOUDS_PERCENTAGE': 0.074159,\n",
       " 'IMAGE_DATE': '2019-04-22',\n",
       " 'MEAN_INCIDENCE_AZIMUTH_ANGLE_B1': 288.554510619,\n",
       " 'MEAN_INCIDENCE_AZIMUTH_ANGLE_B10': 287.50847566,\n",
       " 'MEAN_INCIDENCE_AZIMUTH_ANGLE_B11': 287.967241664,\n",
       " 'MEAN_INCIDENCE_AZIMUTH_ANGLE_B12': 288.38551665,\n",
       " 'MEAN_INCIDENCE_AZIMUTH_ANGLE_B2': 287.07461629,\n",
       " 'MEAN_INCIDENCE_AZIMUTH_ANGLE_B3': 287.381346297,\n",
       " 'MEAN_INCIDENCE_AZIMUTH_ANGLE_B4': 287.703919635,\n",
       " 'MEAN_INCIDENCE_AZIMUTH_ANGLE_B5': 287.867230026,\n",
       " 'MEAN_INCIDENCE_AZIMUTH_ANGLE_B6': 288.068224576,\n",
       " 'MEAN_INCIDENCE_AZIMUTH_ANGLE_B7': 288.256007001,\n",
       " 'MEAN_INCIDENCE_AZIMUTH_ANGLE_B8': 287.231451579,\n",
       " 'MEAN_INCIDENCE_AZIMUTH_ANGLE_B8A': 288.418864633,\n",
       " 'MEAN_INCIDENCE_AZIMUTH_ANGLE_B9': 288.740486356,\n",
       " 'MEAN_INCIDENCE_ZENITH_ANGLE_B1': 8.75120295758,\n",
       " 'MEAN_INCIDENCE_ZENITH_ANGLE_B10': 8.60585137497,\n",
       " 'MEAN_INCIDENCE_ZENITH_ANGLE_B11': 8.66058124667,\n",
       " 'MEAN_INCIDENCE_ZENITH_ANGLE_B12': 8.72774792347,\n",
       " 'MEAN_INCIDENCE_ZENITH_ANGLE_B2': 8.57179540212,\n",
       " 'MEAN_INCIDENCE_ZENITH_ANGLE_B3': 8.59082118837,\n",
       " 'MEAN_INCIDENCE_ZENITH_ANGLE_B4': 8.6247788846,\n",
       " 'MEAN_INCIDENCE_ZENITH_ANGLE_B5': 8.64479849847,\n",
       " 'MEAN_INCIDENCE_ZENITH_ANGLE_B6': 8.66430117676,\n",
       " 'MEAN_INCIDENCE_ZENITH_ANGLE_B7': 8.69703854519,\n",
       " 'MEAN_INCIDENCE_ZENITH_ANGLE_B8': 8.57978255038,\n",
       " 'MEAN_INCIDENCE_ZENITH_ANGLE_B8A': 8.72149837667,\n",
       " 'MEAN_INCIDENCE_ZENITH_ANGLE_B9': 8.7838643101,\n",
       " 'MEAN_SOLAR_AZIMUTH_ANGLE': 164.190391242,\n",
       " 'MEAN_SOLAR_ZENITH_ANGLE': 38.6394604689,\n",
       " 'MEDIUM_PROBA_CLOUDS_PERCENTAGE': 0.939897,\n",
       " 'MGRS_TILE': '12UUA',\n",
       " 'NODATA_PIXEL_PERCENTAGE': 25.463966,\n",
       " 'NOMINAL_SCALE': {'AOT': 10,\n",
       "  'B1': 60,\n",
       "  'B11': 20,\n",
       "  'B12': 20,\n",
       "  'B2': 10,\n",
       "  'B3': 10,\n",
       "  'B4': 10,\n",
       "  'B5': 20,\n",
       "  'B6': 20,\n",
       "  'B7': 20,\n",
       "  'B8': 10,\n",
       "  'B8A': 20,\n",
       "  'B9': 60,\n",
       "  'MSK_CLDPRB': 20,\n",
       "  'MSK_SNWPRB': 20,\n",
       "  'QA10': 10,\n",
       "  'QA20': 20,\n",
       "  'QA60': 60,\n",
       "  'SCL': 20,\n",
       "  'TCI_B': 10,\n",
       "  'TCI_G': 10,\n",
       "  'TCI_R': 10,\n",
       "  'WVP': 10},\n",
       " 'NOT_VEGETATED_PERCENTAGE': 87.362671,\n",
       " 'PROCESSING_BASELINE': '02.11',\n",
       " 'PRODUCT_ID': 'S2B_MSIL2A_20190422T183929_N0211_R070_T12UUA_20190422T233814',\n",
       " 'RADIATIVE_TRANSFER_ACCURACY': 0,\n",
       " 'RADIOMETRIC_QUALITY': 'PASSED',\n",
       " 'REFLECTANCE_CONVERSION_CORRECTION': 0.991984873116,\n",
       " 'SATURATED_DEFECTIVE_PIXEL_PERCENTAGE': 0,\n",
       " 'SENSING_ORBIT_DIRECTION': 'ASCENDING',\n",
       " 'SENSING_ORBIT_NUMBER': 70,\n",
       " 'SENSOR_QUALITY': 'PASSED',\n",
       " 'SNOW_ICE_PERCENTAGE': 0.000748,\n",
       " 'SOLAR_IRRADIANCE_B1': 1874.3,\n",
       " 'SOLAR_IRRADIANCE_B10': 365.41,\n",
       " 'SOLAR_IRRADIANCE_B11': 247.08,\n",
       " 'SOLAR_IRRADIANCE_B12': 87.75,\n",
       " 'SOLAR_IRRADIANCE_B2': 1959.77,\n",
       " 'SOLAR_IRRADIANCE_B3': 1824.93,\n",
       " 'SOLAR_IRRADIANCE_B4': 1512.79,\n",
       " 'SOLAR_IRRADIANCE_B5': 1425.78,\n",
       " 'SOLAR_IRRADIANCE_B6': 1291.13,\n",
       " 'SOLAR_IRRADIANCE_B7': 1175.57,\n",
       " 'SOLAR_IRRADIANCE_B8': 1041.28,\n",
       " 'SOLAR_IRRADIANCE_B8A': 953.93,\n",
       " 'SOLAR_IRRADIANCE_B9': 817.58,\n",
       " 'SPACECRAFT_NAME': 'Sentinel-2B',\n",
       " 'THIN_CIRRUS_PERCENTAGE': 7.874148,\n",
       " 'UNCLASSIFIED_PERCENTAGE': 0.285837,\n",
       " 'VEGETATION_PERCENTAGE': 1.947502,\n",
       " 'WATER_PERCENTAGE': 1.001641,\n",
       " 'WATER_VAPOUR_RETRIEVAL_ACCURACY': 0,\n",
       " 'system:asset_size': '1244.273716 MB',\n",
       " 'system:band_names': ['B1',\n",
       "  'B2',\n",
       "  'B3',\n",
       "  'B4',\n",
       "  'B5',\n",
       "  'B6',\n",
       "  'B7',\n",
       "  'B8',\n",
       "  'B8A',\n",
       "  'B9',\n",
       "  'B11',\n",
       "  'B12',\n",
       "  'AOT',\n",
       "  'WVP',\n",
       "  'SCL',\n",
       "  'TCI_R',\n",
       "  'TCI_G',\n",
       "  'TCI_B',\n",
       "  'MSK_CLDPRB',\n",
       "  'MSK_SNWPRB',\n",
       "  'QA10',\n",
       "  'QA20',\n",
       "  'QA60'],\n",
       " 'system:id': 'COPERNICUS/S2_SR/20190422T183929_20190422T184004_T12UUA',\n",
       " 'system:index': '20190422T183929_20190422T184004_T12UUA',\n",
       " 'system:time_end': '2019-04-22 18:50:29',\n",
       " 'system:time_start': '2019-04-22 18:50:29',\n",
       " 'system:version': 1556520323971230.0}"
      ]
     },
     "execution_count": 87,
     "metadata": {},
     "output_type": "execute_result"
    }
   ],
   "source": [
    "# Create a point in Lethbridge, Alberta\n",
    "lethbridge = ee.Geometry.Point([-112.8388,49.6967])\n",
    "\n",
    "# Load all Sentinel 2 Surface Reflectance images from April 2019 over Lethbridge\n",
    "## Note that the cloud cover property name is different than Landsat\n",
    "AllApril2019 = ee.ImageCollection('COPERNICUS/S2_SR')\\\n",
    "                  .filterDate('2019-04-01', '2019-05-01')\\\n",
    "                  .filterBounds(lethbridge)\\\n",
    "                  .filter(ee.Filter.lte('CLOUDY_PIXEL_PERCENTAGE',30))\\\n",
    "                  .sort('CLOUDY_PIXEL_PERCENTAGE')\\\n",
    "                  .first()\n",
    "\n",
    "# Get the properties of the image\n",
    "imageprops = geemap.image_props(AllApril2019)\n",
    "imageprops.getInfo()"
   ]
  },
  {
   "cell_type": "markdown",
   "metadata": {
    "id": "iJl7wqi57Zyh"
   },
   "source": [
    "Now let's add this image to the map to see what it looks like. Note the strange shape of the image on the map!"
   ]
  },
  {
   "cell_type": "code",
   "execution_count": 88,
   "metadata": {
    "id": "S_HNI3SW1hBE"
   },
   "outputs": [
    {
     "data": {
      "text/html": [
       "\n",
       "            <style>\n",
       "                .geemap-dark {\n",
       "                    --jp-widgets-color: white;\n",
       "                    --jp-widgets-label-color: white;\n",
       "                    --jp-ui-font-color1: white;\n",
       "                    --jp-layout-color2: #454545;\n",
       "                    background-color: #383838;\n",
       "                }\n",
       "\n",
       "                .geemap-dark .jupyter-button {\n",
       "                    --jp-layout-color3: #383838;\n",
       "                }\n",
       "\n",
       "                .geemap-colab {\n",
       "                    background-color: var(--colab-primary-surface-color, white);\n",
       "                }\n",
       "\n",
       "                .geemap-colab .jupyter-button {\n",
       "                    --jp-layout-color3: var(--colab-primary-surface-color, white);\n",
       "                }\n",
       "            </style>\n",
       "            "
      ],
      "text/plain": [
       "<IPython.core.display.HTML object>"
      ]
     },
     "metadata": {},
     "output_type": "display_data"
    },
    {
     "data": {
      "application/vnd.jupyter.widget-view+json": {
       "model_id": "3ba86f7fe0764158be04197b896c2ddd",
       "version_major": 2,
       "version_minor": 0
      },
      "text/plain": [
       "Map(center=[50.074956810039744, -113.21323728476597], controls=(WidgetControl(options=['position', 'transparen…"
      ]
     },
     "execution_count": 88,
     "metadata": {},
     "output_type": "execute_result"
    }
   ],
   "source": [
    "# Set the visualization parameters for the image\n",
    "visParams = {\n",
    "  'bands': ['B4', 'B3', 'B2'],\n",
    "  'min': 0,\n",
    "  'max': 3000\n",
    "}\n",
    "\n",
    "Map2 = geemap.Map() # Create map object\n",
    "Map2.centerObject(AllApril2019, zoom=8)\n",
    "Map2.addLayer(AllApril2019,visParams)\n",
    "Map2 # Display the map"
   ]
  },
  {
   "cell_type": "markdown",
   "metadata": {
    "id": "WaeoUz507qh6"
   },
   "source": [
    "Cloud masking with Sentinel is very similar to Landsat. This function was taken directly from the [GEE example code snippets](https://developers.google.com/earth-engine/datasets/catalog/COPERNICUS_S2_SR)."
   ]
  },
  {
   "cell_type": "code",
   "execution_count": 89,
   "metadata": {
    "id": "SmTB6hSX2wxY"
   },
   "outputs": [
    {
     "data": {
      "text/html": [
       "\n",
       "            <style>\n",
       "                .geemap-dark {\n",
       "                    --jp-widgets-color: white;\n",
       "                    --jp-widgets-label-color: white;\n",
       "                    --jp-ui-font-color1: white;\n",
       "                    --jp-layout-color2: #454545;\n",
       "                    background-color: #383838;\n",
       "                }\n",
       "\n",
       "                .geemap-dark .jupyter-button {\n",
       "                    --jp-layout-color3: #383838;\n",
       "                }\n",
       "\n",
       "                .geemap-colab {\n",
       "                    background-color: var(--colab-primary-surface-color, white);\n",
       "                }\n",
       "\n",
       "                .geemap-colab .jupyter-button {\n",
       "                    --jp-layout-color3: var(--colab-primary-surface-color, white);\n",
       "                }\n",
       "            </style>\n",
       "            "
      ],
      "text/plain": [
       "<IPython.core.display.HTML object>"
      ]
     },
     "metadata": {},
     "output_type": "display_data"
    },
    {
     "data": {
      "application/vnd.jupyter.widget-view+json": {
       "model_id": "70391ba20c4b4d0bb2484d07b54b082e",
       "version_major": 2,
       "version_minor": 0
      },
      "text/plain": [
       "Map(center=[50.01341131966518, -113.46065433995241], controls=(WidgetControl(options=['position', 'transparent…"
      ]
     },
     "execution_count": 89,
     "metadata": {},
     "output_type": "execute_result"
    }
   ],
   "source": [
    "# This example uses the Sentinel-2 QA band to cloud mask the collection.\n",
    "# The Sentinel-2 cloud flags are less selective, so the collection is also pre-filtered by the\n",
    "## CLOUDY_PIXEL_PERCENTAGE flag, to use only relatively cloud-free granule.\n",
    "\n",
    "# Function to mask clouds using the Sentinel-2 QA band.\n",
    "def maskS2clouds(image):\n",
    "  qa = image.select('QA60')\n",
    "  #Bits 10 and 11 are clouds and cirrus, respectively.\n",
    "  cloudBitMask = 1 << 10\n",
    "  cirrusBitMask = 1 << 11\n",
    "  #Both flags should be set to zero, indicating clear conditions.\n",
    "  mask = qa.bitwiseAnd(cloudBitMask).eq(0).And(\n",
    "             qa.bitwiseAnd(cirrusBitMask).eq(0))\n",
    "  #Return the masked and scaled data, without the QA bands.\n",
    "  return image.updateMask(mask)\n",
    "\n",
    "# Map the function over one year of data and take the median.\n",
    "# Load Sentinel-2 TOA reflectance data.\n",
    "collection = ee.ImageCollection('COPERNICUS/S2')\\\n",
    "    .filterDate('2016-01-01', '2016-12-31')\\\n",
    "    .filterBounds(lethbridge)\\\n",
    "    .filter(ee.Filter.lt('CLOUDY_PIXEL_PERCENTAGE', 20))\\\n",
    "    .map(maskS2clouds)\\\n",
    "    .first()\n",
    "\n",
    "# Display the results.\n",
    "Map = geemap.Map()\n",
    "Map.centerObject(collection,12)\n",
    "Map.addLayer(collection, {'bands': ['B4', 'B3', 'B2'], 'min': 0, 'max': 3000}, 'RGB')\n",
    "Map"
   ]
  },
  {
   "cell_type": "markdown",
   "metadata": {
    "id": "-lwAL3o03Mtn"
   },
   "source": [
    "### Digital Elevation Model (DEM)\n",
    "\n",
    "Digital elevation models are very useful datasets in Google Earth Engine. If you search 'elevation' in the [GEE Data Catalog](https://developers.google.com/earth-engine/datasets/catalog), you will find many different DEM datasets from around the world.\n",
    "\n",
    "The Canadian Digital Elevation Model (CDEM) is product by NRCAN that gives elevation over all of Canada."
   ]
  },
  {
   "cell_type": "code",
   "execution_count": 90,
   "metadata": {
    "id": "Z0F9S_7caxbM"
   },
   "outputs": [
    {
     "data": {
      "text/html": [
       "\n",
       "            <style>\n",
       "                .geemap-dark {\n",
       "                    --jp-widgets-color: white;\n",
       "                    --jp-widgets-label-color: white;\n",
       "                    --jp-ui-font-color1: white;\n",
       "                    --jp-layout-color2: #454545;\n",
       "                    background-color: #383838;\n",
       "                }\n",
       "\n",
       "                .geemap-dark .jupyter-button {\n",
       "                    --jp-layout-color3: #383838;\n",
       "                }\n",
       "\n",
       "                .geemap-colab {\n",
       "                    background-color: var(--colab-primary-surface-color, white);\n",
       "                }\n",
       "\n",
       "                .geemap-colab .jupyter-button {\n",
       "                    --jp-layout-color3: var(--colab-primary-surface-color, white);\n",
       "                }\n",
       "            </style>\n",
       "            "
      ],
      "text/plain": [
       "<IPython.core.display.HTML object>"
      ]
     },
     "metadata": {},
     "output_type": "display_data"
    },
    {
     "data": {
      "application/vnd.jupyter.widget-view+json": {
       "model_id": "b97ed75ffb744fdb801a55f906244e81",
       "version_major": 2,
       "version_minor": 0
      },
      "text/plain": [
       "Map(center=[52.86000000000001, -118.06999999999998], controls=(WidgetControl(options=['position', 'transparent…"
      ]
     },
     "execution_count": 90,
     "metadata": {},
     "output_type": "execute_result"
    }
   ],
   "source": [
    "# Create a point at Jasper National Park\n",
    "jasper = ee.Geometry.Point(-118.07,52.86)\n",
    "\n",
    "CDEM = ee.ImageCollection('NRCan/CDEM') # Load the Canadian DEM\n",
    "elev = CDEM.select('elevation') # Select the elevation band\n",
    "elev_jasper = elev.filterBounds(jasper).first() # Filter for DEM image over Jasper\n",
    "\n",
    "elevVis = {'min': 100, 'max': 3000, 'palette': ['black','purple','white']}\n",
    "\n",
    "Map = geemap.Map()\n",
    "Map.centerObject(jasper,8)\n",
    "Map.addLayer(elev_jasper,elevVis,\"Jasper Elevation\",opacity=0.8)\n",
    "Map.addLayerControl()\n",
    "Map"
   ]
  },
  {
   "cell_type": "markdown",
   "metadata": {
    "id": "_IDghkPpBhH8"
   },
   "source": []
  },
  {
   "cell_type": "markdown",
   "metadata": {
    "id": "MyE0W1wnnl_Z"
   },
   "source": [
    "#### Boolean Masking\n",
    "\n",
    "This elevation dataset can also be used to create a boolean mask - that is, an image with 0s and 1s based on how each pixel fits into a criteria. Any band can be used to create a boolean mask by simply defining a threshold for dividing pixel values into two groups. For this example, we will create a mask of high elevation, where any pixel over 500m in elevation will be given a value of 1 (True) and everything else will get a value of 0 (False). We will then use the created boolean layer to mask an image\n",
    "\n",
    "Boolean masks are simple and a very useful way to mask imagery to only show pixels of interest."
   ]
  },
  {
   "cell_type": "code",
   "execution_count": 91,
   "metadata": {
    "id": "6tRXlKKrAy8K"
   },
   "outputs": [
    {
     "data": {
      "text/html": [
       "\n",
       "            <style>\n",
       "                .geemap-dark {\n",
       "                    --jp-widgets-color: white;\n",
       "                    --jp-widgets-label-color: white;\n",
       "                    --jp-ui-font-color1: white;\n",
       "                    --jp-layout-color2: #454545;\n",
       "                    background-color: #383838;\n",
       "                }\n",
       "\n",
       "                .geemap-dark .jupyter-button {\n",
       "                    --jp-layout-color3: #383838;\n",
       "                }\n",
       "\n",
       "                .geemap-colab {\n",
       "                    background-color: var(--colab-primary-surface-color, white);\n",
       "                }\n",
       "\n",
       "                .geemap-colab .jupyter-button {\n",
       "                    --jp-layout-color3: var(--colab-primary-surface-color, white);\n",
       "                }\n",
       "            </style>\n",
       "            "
      ],
      "text/plain": [
       "<IPython.core.display.HTML object>"
      ]
     },
     "metadata": {},
     "output_type": "display_data"
    },
    {
     "data": {
      "application/vnd.jupyter.widget-view+json": {
       "model_id": "58e39fba24804253a0bf36b10e361a7f",
       "version_major": 2,
       "version_minor": 0
      },
      "text/plain": [
       "Map(center=[52.86000000000001, -118.06999999999998], controls=(WidgetControl(options=['position', 'transparent…"
      ]
     },
     "execution_count": 91,
     "metadata": {},
     "output_type": "execute_result"
    }
   ],
   "source": [
    "# Create a binary layer of elevation over 1500m (elev <1500m = 0; elev >=1500m = 1)\n",
    "elev_jaspergte1500 = elev_jasper.gte(1500) #gte = greater than or equal to\n",
    "\n",
    "Map = geemap.Map()\n",
    "Map.centerObject(jasper,8)\n",
    "# elev <1500m = blue; elev >=1500m = red\n",
    "Map.addLayer(elev_jaspergte1500,{'min':0,'max':1,'palette':['blue','red']},\"Elev >1500m\",opacity=0.8)\n",
    "Map.addLayerControl()\n",
    "Map"
   ]
  },
  {
   "cell_type": "markdown",
   "metadata": {
    "id": "KjI_AlZ8Nzhn"
   },
   "source": [
    "The layer we created just has values of 0s and 1s based on the critera we set. Now we can also use this layer to mask another layer so that we only see pixels where the elevation is greater than 2500m.\n",
    "\n",
    "We will do this with the elevation layer and a Landsat image. Toggle the layers on and off using the tool in the top right corner of the map."
   ]
  },
  {
   "cell_type": "code",
   "execution_count": 98,
   "metadata": {
    "id": "CrC4knJBMk8c"
   },
   "outputs": [
    {
     "data": {
      "text/html": [
       "\n",
       "            <style>\n",
       "                .geemap-dark {\n",
       "                    --jp-widgets-color: white;\n",
       "                    --jp-widgets-label-color: white;\n",
       "                    --jp-ui-font-color1: white;\n",
       "                    --jp-layout-color2: #454545;\n",
       "                    background-color: #383838;\n",
       "                }\n",
       "\n",
       "                .geemap-dark .jupyter-button {\n",
       "                    --jp-layout-color3: #383838;\n",
       "                }\n",
       "\n",
       "                .geemap-colab {\n",
       "                    background-color: var(--colab-primary-surface-color, white);\n",
       "                }\n",
       "\n",
       "                .geemap-colab .jupyter-button {\n",
       "                    --jp-layout-color3: var(--colab-primary-surface-color, white);\n",
       "                }\n",
       "            </style>\n",
       "            "
      ],
      "text/plain": [
       "<IPython.core.display.HTML object>"
      ]
     },
     "metadata": {},
     "output_type": "display_data"
    },
    {
     "data": {
      "application/vnd.jupyter.widget-view+json": {
       "model_id": "f0dfc8b4443d4ef39b3029a4b1d8ffdc",
       "version_major": 2,
       "version_minor": 0
      },
      "text/plain": [
       "Map(center=[52.86000000000001, -118.06999999999998], controls=(WidgetControl(options=['position', 'transparent…"
      ]
     },
     "execution_count": 98,
     "metadata": {},
     "output_type": "execute_result"
    }
   ],
   "source": [
    "# Mask elevation\n",
    "elev_mask = elev_jasper.updateMask(elev_jaspergte1500)\n",
    "\n",
    "# Mask Landsat\n",
    "img = ee.Image(\"LANDSAT/LC08/C02/T1_L2/LC08_046023_20160913\")\n",
    "img_mask = img.updateMask(elev_jaspergte1500)\n",
    "\n",
    "\n",
    "elevVis = {'min': 1500, 'max': 3000, 'palette': ['black','purple','white']}\n",
    "landsatVis = {'bands': ['SR_B4', 'SR_B3', 'SR_B2'],'min': 0,'max': 40000,'gamma': 1.4}\n",
    "\n",
    "Map = geemap.Map()\n",
    "Map.centerObject(jasper,10)\n",
    "# Add elevation layer masked to only show pixels >1500m\n",
    "Map.addLayer(elev_mask,elevVis,\"Elev >2500m\")\n",
    "# Add Landsat 8 TOA masked to only show pixels >1500m from elevation layer\n",
    "Map.addLayer(img_mask,landsatVis,\"Landsat >2500m\")\n",
    "Map.addLayerControl()\n",
    "Map"
   ]
  },
  {
   "cell_type": "markdown",
   "metadata": {
    "id": "hof2Fgok3Igu"
   },
   "source": [
    "### Vector Data"
   ]
  },
  {
   "cell_type": "markdown",
   "metadata": {
    "id": "GNb95ar5XekQ"
   },
   "source": [
    "#### Load dataset from GEE Catalogue"
   ]
  },
  {
   "cell_type": "code",
   "execution_count": 99,
   "metadata": {
    "colab": {
     "base_uri": "https://localhost:8080/",
     "height": 17
    },
    "id": "QUdNZRbEaOob",
    "outputId": "8ba9f9b6-ff6b-427d-ad72-4769aaa2f1fd"
   },
   "outputs": [
    {
     "data": {
      "text/html": [
       "\n",
       "            <style>\n",
       "                .geemap-dark {\n",
       "                    --jp-widgets-color: white;\n",
       "                    --jp-widgets-label-color: white;\n",
       "                    --jp-ui-font-color1: white;\n",
       "                    --jp-layout-color2: #454545;\n",
       "                    background-color: #383838;\n",
       "                }\n",
       "\n",
       "                .geemap-dark .jupyter-button {\n",
       "                    --jp-layout-color3: #383838;\n",
       "                }\n",
       "\n",
       "                .geemap-colab {\n",
       "                    background-color: var(--colab-primary-surface-color, white);\n",
       "                }\n",
       "\n",
       "                .geemap-colab .jupyter-button {\n",
       "                    --jp-layout-color3: var(--colab-primary-surface-color, white);\n",
       "                }\n",
       "            </style>\n",
       "            "
      ],
      "text/plain": [
       "<IPython.core.display.HTML object>"
      ]
     },
     "metadata": {},
     "output_type": "display_data"
    }
   ],
   "source": [
    "dataset = ee.FeatureCollection('USDOS/LSIB_SIMPLE/2017')"
   ]
  },
  {
   "cell_type": "code",
   "execution_count": 100,
   "metadata": {
    "id": "KAiylVF5gRis"
   },
   "outputs": [
    {
     "data": {
      "text/html": [
       "\n",
       "            <style>\n",
       "                .geemap-dark {\n",
       "                    --jp-widgets-color: white;\n",
       "                    --jp-widgets-label-color: white;\n",
       "                    --jp-ui-font-color1: white;\n",
       "                    --jp-layout-color2: #454545;\n",
       "                    background-color: #383838;\n",
       "                }\n",
       "\n",
       "                .geemap-dark .jupyter-button {\n",
       "                    --jp-layout-color3: #383838;\n",
       "                }\n",
       "\n",
       "                .geemap-colab {\n",
       "                    background-color: var(--colab-primary-surface-color, white);\n",
       "                }\n",
       "\n",
       "                .geemap-colab .jupyter-button {\n",
       "                    --jp-layout-color3: var(--colab-primary-surface-color, white);\n",
       "                }\n",
       "            </style>\n",
       "            "
      ],
      "text/plain": [
       "<IPython.core.display.HTML object>"
      ]
     },
     "metadata": {},
     "output_type": "display_data"
    },
    {
     "name": "stdout",
     "output_type": "stream",
     "text": [
      "['wld_rgn', 'country_na', 'abbreviati', 'system:index', 'country_co']\n"
     ]
    }
   ],
   "source": [
    "# Get column names for the features in the dataset\n",
    "col_names = dataset.first().propertyNames().getInfo()\n",
    "print(col_names)"
   ]
  },
  {
   "cell_type": "markdown",
   "metadata": {
    "id": "j6cnhHnug7bl"
   },
   "source": [
    "The attributes associated with the features can also be accessed in the [GEE Catalog](https://developers.google.com/earth-engine/datasets/catalog/USDOS_LSIB_SIMPLE_2017)\n",
    "\n",
    "Now let's filter the dataset based on its properties."
   ]
  },
  {
   "cell_type": "code",
   "execution_count": 101,
   "metadata": {
    "id": "gzZqX1qGhLyy"
   },
   "outputs": [
    {
     "data": {
      "text/html": [
       "\n",
       "            <style>\n",
       "                .geemap-dark {\n",
       "                    --jp-widgets-color: white;\n",
       "                    --jp-widgets-label-color: white;\n",
       "                    --jp-ui-font-color1: white;\n",
       "                    --jp-layout-color2: #454545;\n",
       "                    background-color: #383838;\n",
       "                }\n",
       "\n",
       "                .geemap-dark .jupyter-button {\n",
       "                    --jp-layout-color3: #383838;\n",
       "                }\n",
       "\n",
       "                .geemap-colab {\n",
       "                    background-color: var(--colab-primary-surface-color, white);\n",
       "                }\n",
       "\n",
       "                .geemap-colab .jupyter-button {\n",
       "                    --jp-layout-color3: var(--colab-primary-surface-color, white);\n",
       "                }\n",
       "            </style>\n",
       "            "
      ],
      "text/plain": [
       "<IPython.core.display.HTML object>"
      ]
     },
     "metadata": {},
     "output_type": "display_data"
    }
   ],
   "source": [
    "# Filter collection based on column (2 letter country code)\n",
    "canada = dataset.filter(ee.Filter.inList('country_co', ['CA']))"
   ]
  },
  {
   "cell_type": "code",
   "execution_count": 102,
   "metadata": {
    "id": "N8pKX9JPhXfO"
   },
   "outputs": [
    {
     "data": {
      "text/html": [
       "\n",
       "            <style>\n",
       "                .geemap-dark {\n",
       "                    --jp-widgets-color: white;\n",
       "                    --jp-widgets-label-color: white;\n",
       "                    --jp-ui-font-color1: white;\n",
       "                    --jp-layout-color2: #454545;\n",
       "                    background-color: #383838;\n",
       "                }\n",
       "\n",
       "                .geemap-dark .jupyter-button {\n",
       "                    --jp-layout-color3: #383838;\n",
       "                }\n",
       "\n",
       "                .geemap-colab {\n",
       "                    background-color: var(--colab-primary-surface-color, white);\n",
       "                }\n",
       "\n",
       "                .geemap-colab .jupyter-button {\n",
       "                    --jp-layout-color3: var(--colab-primary-surface-color, white);\n",
       "                }\n",
       "            </style>\n",
       "            "
      ],
      "text/plain": [
       "<IPython.core.display.HTML object>"
      ]
     },
     "metadata": {},
     "output_type": "display_data"
    },
    {
     "data": {
      "application/vnd.jupyter.widget-view+json": {
       "model_id": "b59f4f1d545049b3a6f0b2eb6c68b9a7",
       "version_major": 2,
       "version_minor": 0
      },
      "text/plain": [
       "Map(center=[0, 0], controls=(WidgetControl(options=['position', 'transparent_bg'], widget=SearchDataGUI(childr…"
      ]
     },
     "execution_count": 102,
     "metadata": {},
     "output_type": "execute_result"
    }
   ],
   "source": [
    "# Display both layers on the map\n",
    "\n",
    "# Set up map object\n",
    "Map = geemap.Map()\n",
    "\n",
    "# Add all countries layer and canadian layer\n",
    "Map.addLayer(dataset, {'color':'gray'}, 'All Countries')\n",
    "Map.addLayer(canada, {'color':'red'}, 'Canada')\n",
    "\n",
    "# Add layer controls\n",
    "Map.addLayerControl()\n",
    "# Set map center on the origin at a zoom scale of 2\n",
    "Map.setCenter(0,0,2)\n",
    "# Call for the map\n",
    "Map"
   ]
  },
  {
   "cell_type": "markdown",
   "metadata": {
    "id": "HnEjM3e-ioVN"
   },
   "source": [
    "In the above map, we added the entire feature collection - which has all country boundaries, as well as filtered the collection by attributes to add just a single country (Canada) to the map."
   ]
  },
  {
   "cell_type": "markdown",
   "metadata": {
    "id": "6KPRy-_lMk6O"
   },
   "source": [
    "## Questions to Submit\n",
    "Answer the following questions in the space provided. Feel free to add additional code and text cells as needed. Make sure to show all of your code.\n",
    "\n",
    "You will find all/most of the code you need in the examples above.\n",
    "\n",
    "**In all cases**, if you use code chunks from another source (not a bad thing), make sure to reference where you found them.\n",
    "\n"
   ]
  },
  {
   "cell_type": "markdown",
   "metadata": {
    "id": "ChwDTz1iV_w4"
   },
   "source": [
    "### Q1\n",
    "What are 4 different ways you can filter an image collection? Show how you could use those 4 methods to filter the Landsat 7 collection."
   ]
  },
  {
   "cell_type": "code",
   "execution_count": 122,
   "metadata": {
    "id": "Z1GfsFwlWeWD"
   },
   "outputs": [
    {
     "data": {
      "text/html": [
       "\n",
       "            <style>\n",
       "                .geemap-dark {\n",
       "                    --jp-widgets-color: white;\n",
       "                    --jp-widgets-label-color: white;\n",
       "                    --jp-ui-font-color1: white;\n",
       "                    --jp-layout-color2: #454545;\n",
       "                    background-color: #383838;\n",
       "                }\n",
       "\n",
       "                .geemap-dark .jupyter-button {\n",
       "                    --jp-layout-color3: #383838;\n",
       "                }\n",
       "\n",
       "                .geemap-colab {\n",
       "                    background-color: var(--colab-primary-surface-color, white);\n",
       "                }\n",
       "\n",
       "                .geemap-colab .jupyter-button {\n",
       "                    --jp-layout-color3: var(--colab-primary-surface-color, white);\n",
       "                }\n",
       "            </style>\n",
       "            "
      ],
      "text/plain": [
       "<IPython.core.display.HTML object>"
      ]
     },
     "metadata": {},
     "output_type": "display_data"
    },
    {
     "data": {
      "application/vnd.jupyter.widget-view+json": {
       "model_id": "ba829c2746ac4b8da99a8fd5d443f8f3",
       "version_major": 2,
       "version_minor": 0
      },
      "text/plain": [
       "Map(center=[45.38, -75.69], controls=(WidgetControl(options=['position', 'transparent_bg'], widget=SearchDataG…"
      ]
     },
     "execution_count": 122,
     "metadata": {},
     "output_type": "execute_result"
    }
   ],
   "source": [
    "## Show your code here\n",
    "# By date\n",
    "# By location\n",
    "# By property: cloud percentage\n",
    "# By property: metadata\n",
    "\n",
    "CarletonU = ee.Geometry.Point(-75.69,45.38)\n",
    "\n",
    "L5_Carleton_S2020 = ee.ImageCollection(\"LANDSAT/LT05/C02/T1_L2\")\\\n",
    "                              .filterBounds(CarletonU)\\\n",
    "                              .filterDate('2011-06-01', '2011-08-31')\\\n",
    "                              .filter(ee.Filter.gte('IMAGE_QUALITY',8))\\\n",
    "                              .filterMetadata('CLOUD_COVER', \"less_than\", 70)\\\n",
    "                              .first()\n",
    "\n",
    "# test = L5_Carleton_S2020.first()\n",
    "# geemap.image_props(test)\n",
    "\n",
    "Map = geemap.Map()\n",
    "landsatVis = {'bands': ['SR_B3', 'SR_B2', 'SR_B1'],'min': 400,'max': 20000,'gamma': 1.4}\n",
    "\n",
    "# Add all countries layer and canadian layer\n",
    "Map.addLayer(L5_Carleton_S2020, landsatVis, 'Landsat over Carleton')\n",
    "\n",
    "# Add layer controls\n",
    "Map.addLayerControl()\n",
    "# Set map center on the origin at a zoom scale of 2\n",
    "Map.setCenter(-75.69,45.38, 13)\n",
    "# Call for the map\n",
    "Map\n"
   ]
  },
  {
   "cell_type": "markdown",
   "metadata": {
    "id": "jEL4u63AWC6v"
   },
   "source": [
    "### Q2\n",
    "Examine an image from Landsat 5 Surface Reflectance Tier 1 collection over uOttawa from April 2011 (hint: start [here](https://developers.google.com/earth-engine/datasets/catalog/landsat-5)). Answer the following questions and show your code:\n",
    "1. How many bands does it have?\n",
    "2. What is the solar zenith angle?\n",
    "3. What percent cloud cover does it have?\n",
    "4. What is the path and row of the image?\n",
    "5. What date was the image taken?\n",
    "6. How many images are in the L5 collection over uOttawa in April 2011?"
   ]
  },
  {
   "cell_type": "code",
   "execution_count": null,
   "metadata": {
    "id": "8eWExaGKbKmd"
   },
   "outputs": [],
   "source": [
    "## Show your code here\n",
    "CarletonU = ee.Geometry.Point(-75.69,45.38)\n",
    "\n",
    "L5_Carleton_S2020 = ee.ImageCollection(\"LANDSAT/LT05/C02/T1_L2\")\\\n",
    "                              .filterBounds(CarletonU)\\\n",
    "                              .filterDate('2011-04-01', '2011-04-30')\\\n",
    "                              .filter(ee.Filter.gte('IMAGE_QUALITY',8))\\\n",
    "                              .filterMetadata('CLOUD_COVER', \"less_than\", 70)\\\n",
    "                              .first()\n",
    "\n",
    "# test = L5_Carleton_S2020.first()\n",
    "# geemap.image_props(test)\n",
    "\n",
    "Map = geemap.Map()\n",
    "landsatVis = {'bands': ['SR_B3', 'SR_B2', 'SR_B1'],'min': 400,'max': 20000,'gamma': 1.4}\n",
    "\n",
    "# Add all countries layer and canadian layer\n",
    "Map.addLayer(L5_Carleton_S2020, landsatVis, 'Landsat over Carleton')\n",
    "\n",
    "# Add layer controls\n",
    "Map.addLayerControl()\n",
    "# Set map center on the origin at a zoom scale of 2\n",
    "Map.setCenter(-75.69,45.38, 13)\n",
    "# Call for the map\n",
    "Map\n"
   ]
  },
  {
   "cell_type": "code",
   "execution_count": 139,
   "metadata": {},
   "outputs": [
    {
     "data": {
      "text/html": [
       "\n",
       "            <style>\n",
       "                .geemap-dark {\n",
       "                    --jp-widgets-color: white;\n",
       "                    --jp-widgets-label-color: white;\n",
       "                    --jp-ui-font-color1: white;\n",
       "                    --jp-layout-color2: #454545;\n",
       "                    background-color: #383838;\n",
       "                }\n",
       "\n",
       "                .geemap-dark .jupyter-button {\n",
       "                    --jp-layout-color3: #383838;\n",
       "                }\n",
       "\n",
       "                .geemap-colab {\n",
       "                    background-color: var(--colab-primary-surface-color, white);\n",
       "                }\n",
       "\n",
       "                .geemap-colab .jupyter-button {\n",
       "                    --jp-layout-color3: var(--colab-primary-surface-color, white);\n",
       "                }\n",
       "            </style>\n",
       "            "
      ],
      "text/plain": [
       "<IPython.core.display.HTML object>"
      ]
     },
     "metadata": {},
     "output_type": "display_data"
    },
    {
     "data": {
      "text/html": [
       "<div><style>:root {\n",
       "  --font-color-primary: var(--jp-content-font-color0, rgba(0, 0, 0, 1));\n",
       "  --font-color-secondary: var(--jp-content-font-color2, rgba(0, 0, 0, 0.6));\n",
       "  --font-color-accent: rgba(123, 31, 162, 1);\n",
       "  --border-color: var(--jp-border-color2, #e0e0e0);\n",
       "  --background-color: var(--jp-layout-color0, white);\n",
       "  --background-color-row-even: var(--jp-layout-color1, white);\n",
       "  --background-color-row-odd: var(--jp-layout-color2, #eeeeee);\n",
       "}\n",
       "\n",
       "html[theme=\"dark\"],\n",
       "body[data-theme=\"dark\"],\n",
       "body.vscode-dark {\n",
       "  --font-color-primary: rgba(255, 255, 255, 1);\n",
       "  --font-color-secondary: rgba(255, 255, 255, 0.6);\n",
       "  --font-color-accent: rgb(173, 132, 190);\n",
       "  --border-color: #2e2e2e;\n",
       "  --background-color: #111111;\n",
       "  --background-color-row-even: #111111;\n",
       "  --background-color-row-odd: #313131;\n",
       "}\n",
       "\n",
       ".ee {\n",
       "  padding: 1em;\n",
       "  line-height: 1.5em;\n",
       "  min-width: 300px;\n",
       "  max-width: 1200px;\n",
       "  overflow-y: scroll;\n",
       "  max-height: 600px;\n",
       "  border: 1px solid var(--border-color);\n",
       "  font-family: monospace;\n",
       "}\n",
       "\n",
       ".ee li {\n",
       "  list-style-type: none;\n",
       "}\n",
       "\n",
       ".ee ul {\n",
       "  padding-left: 1.5em !important;\n",
       "  margin: 0;\n",
       "}\n",
       "\n",
       ".ee > ul {\n",
       "  padding-left: 0 !important;\n",
       "}\n",
       "\n",
       ".ee-open,\n",
       ".ee-shut {\n",
       "  color: var(--font-color-secondary);\n",
       "  cursor: pointer;\n",
       "  margin: 0;\n",
       "}\n",
       "\n",
       ".ee-open:hover,\n",
       ".ee-shut:hover {\n",
       "  color: var(--font-color-primary);\n",
       "}\n",
       "\n",
       ".ee-k {\n",
       "  color: var(--font-color-accent);\n",
       "  margin-right: 6px;\n",
       "}\n",
       "\n",
       ".ee-v {\n",
       "  color: var(--font-color-primary);\n",
       "}\n",
       "\n",
       ".ee-toggle {\n",
       "  display: none;\n",
       "}\n",
       "\n",
       ".ee-shut + ul {\n",
       "  display: none;\n",
       "}\n",
       "\n",
       ".ee-open + ul {\n",
       "  display: block;\n",
       "}\n",
       "\n",
       ".ee-shut::before {\n",
       "  display: inline-block;\n",
       "  content: \"▼\";\n",
       "  margin-right: 6px;\n",
       "  transform: rotate(-90deg);\n",
       "  transition: transform 0.2s;\n",
       "}\n",
       "\n",
       ".ee-open::before {\n",
       "  transform: rotate(0deg);\n",
       "  display: inline-block;\n",
       "  content: \"▼\";\n",
       "  margin-right: 6px;\n",
       "  transition: transform 0.2s;\n",
       "}\n",
       "</style><div class='ee'><ul><li><label class='ee-shut'>ImageCollection LANDSAT/LT05/C02/T1_L2  (1 element)<input type='checkbox' class='ee-toggle'></label><ul><li><span class='ee-k'>type:</span><span class='ee-v'>ImageCollection</span></li><li><span class='ee-k'>id:</span><span class='ee-v'>LANDSAT/LT05/C02/T1_L2</span></li><li><span class='ee-k'>version:</span><span class='ee-v'>1731364589819722</span></li><li><label class='ee-shut'>bands: []<input type='checkbox' class='ee-toggle'></label><ul></ul></li><li><label class='ee-shut'>properties: Object (22 properties)<input type='checkbox' class='ee-toggle'></label><ul><li><label class='ee-shut'>date_range: [441763200000, 1336176000000]<input type='checkbox' class='ee-toggle'></label><ul><li><span class='ee-k'>0:</span><span class='ee-v'>441763200000</span></li><li><span class='ee-k'>1:</span><span class='ee-v'>1336176000000</span></li></ul></li><li><span class='ee-k'>description:</span><span class='ee-v'><p>This dataset contains atmospherically corrected\n",
       "surface reflectance and land surface temperature derived from the data\n",
       "produced by the Landsat TM sensor.\n",
       "These images contain 4 visible and near-infrared (VNIR) bands and\n",
       "2 short-wave infrared (SWIR) bands processed to orthorectified surface\n",
       "reflectance, and one thermal infrared (TIR) band processed to orthorectified\n",
       "surface temperature. They also contain intermediate bands used in\n",
       "calculation of the ST products, as well as QA bands.</p><p>Landsat 4 and 5 SR products are created with the Landsat Ecosystem Disturbance\n",
       "Adaptive Processing System (LEDAPS) algorithm (version 3.4.0).\n",
       "All Collection 2 ST products are created with a single-channel algorithm\n",
       "jointly created by the Rochester Institute of Technology (RIT) and\n",
       "National Aeronautics and Space Administration (NASA)\n",
       "Jet Propulsion Laboratory (JPL).</p><p>Strips of collected data are packaged into overlapping &quot;scenes&quot; covering approximately\n",
       "170km x 183km using a <a href=\"https://landsat.gsfc.nasa.gov/about/worldwide-reference-system\">standardized reference grid</a>.</p><p>Some assets have only SR data, in which case ST bands are present but empty.\n",
       "For assets with both ST and SR bands, &#39;PROCESSING_LEVEL&#39; is set to &#39;L2SP&#39;.\n",
       "For assets with only SR bands, &#39;PROCESSING_LEVEL&#39; is set to &#39;L2SR&#39;.</p><p><a href=\"/earth-engine/guides/landsat\">Additional documentation and usage examples.</a></p><p>Data provider notes:</p><ul><li><p>Data products must contain both optical and thermal data to be\n",
       "successfully processed to surface temperature, as ASTER NDVI is\n",
       "required to temporally adjust the ASTER GED product to the target Landsat\n",
       "scene. Therefore, night time acquisitions cannot be processed to\n",
       "surface temperature.</p></li><li><p>A known error exists in the surface temperature retrievals relative\n",
       "to clouds and possibly cloud shadows. The characterization of these\n",
       "issues has been documented by\n",
       "<a href=\"https://doi.org/10.3390/rs61111244\">Cook et al., (2014)</a>.</p></li></ul><p><b>Provider: <a href=\"https://www.usgs.gov/core-science-systems/nli/landsat/landsat-collection-2-level-2-science-products\">USGS</a></b><br><p><b>Resolution</b><br>30 meters\n",
       "</p><p><b>Revisit Interval</b><br>\n",
       "  16 days\n",
       "</p><p><b>Bands</b><table class=\"eecat\"><tr><th scope=\"col\">Name</th><th scope=\"col\">Units</th><th scope=\"col\">Min</th><th scope=\"col\">Max</th><th scope=\"col\">Scale</th><th scope=\"col\">Offset</th><th scope=\"col\">Wavelength</th><th scope=\"col\">Description</th></tr><tr><td>SR_B1</td><td></td><td>\n",
       "          1\n",
       "</td><td>\n",
       "          65455\n",
       "</td><td>2.75e-05</td><td>-0.2</td><td>0.45-0.52 &mu;m</td><td><p>Band 1 (blue) surface reflectance</p></td></tr><tr><td>SR_B2</td><td></td><td>\n",
       "          1\n",
       "</td><td>\n",
       "          65455\n",
       "</td><td>2.75e-05</td><td>-0.2</td><td>0.52-0.60 &mu;m</td><td><p>Band 2 (green) surface reflectance</p></td></tr><tr><td>SR_B3</td><td></td><td>\n",
       "          1\n",
       "</td><td>\n",
       "          65455\n",
       "</td><td>2.75e-05</td><td>-0.2</td><td>0.63-0.69 &mu;m</td><td><p>Band 3 (red) surface reflectance</p></td></tr><tr><td>SR_B4</td><td></td><td>\n",
       "          1\n",
       "</td><td>\n",
       "          65455\n",
       "</td><td>2.75e-05</td><td>-0.2</td><td>0.77-0.90 &mu;m</td><td><p>Band 4 (near infrared) surface reflectance</p></td></tr><tr><td>SR_B5</td><td></td><td>\n",
       "          1\n",
       "</td><td>\n",
       "          65455\n",
       "</td><td>2.75e-05</td><td>-0.2</td><td>1.55-1.75 &mu;m</td><td><p>Band 5 (shortwave infrared 1) surface reflectance</p></td></tr><tr><td>SR_B7</td><td></td><td>\n",
       "          1\n",
       "</td><td>\n",
       "          65455\n",
       "</td><td>2.75e-05</td><td>-0.2</td><td>2.08-2.35 &mu;m</td><td><p>Band 7 (shortwave infrared 2) surface reflectance</p></td></tr><tr><td>SR_ATMOS_OPACITY</td><td></td><td>\n",
       "          0\n",
       "</td><td>\n",
       "          10000\n",
       "</td><td>0.001</td><td></td><td></td><td><p>A general interpretation of atmospheric opacity\n",
       "generated by LEDAPS and based on the radiance viewed over Dark Dense\n",
       "Vegetation (DDV) within the scene. A general interpretation of atmospheric\n",
       "opacity is that values (after scaling by 0.001 is applied)\n",
       "less than 0.1 are clear, 0.1-0.3 are average,\n",
       "and values greater than 0.3 indicate haze or other cloud situations.\n",
       "SR values from pixels with high atmospheric opacity will be less reliable,\n",
       "especially under high solar zenith angle conditions. The\n",
       "SR_ATMOS_OPACITY band is provided for advanced users and for product quality\n",
       "assessment and has not been validated. Most users are advised to instead use\n",
       "the QA_PIXEL band information for cloud discrimination.</p></td></tr><tr><td>SR_CLOUD_QA</td><td></td><td></td><td></td><td></td><td></td><td></td><td><p>Cloud Quality Assessment</p></td></tr><tr><td colspan=100>\n",
       "      Bitmask for SR_CLOUD_QA\n",
       "<ul><li>\n",
       "          Bit 0: Dark Dense Vegetation (DDV)\n",
       "<ul></ul></li><li>\n",
       "          Bit 1: Cloud\n",
       "<ul></ul></li><li>\n",
       "          Bit 2: Cloud Shadow\n",
       "<ul></ul></li><li>\n",
       "          Bit 3: Adjacent to Cloud\n",
       "<ul></ul></li><li>\n",
       "          Bit 4: Snow\n",
       "<ul></ul></li><li>\n",
       "          Bit 5: Water\n",
       "<ul></ul></li></ul></td></tr><tr><td>ST_B6</td><td>Kelvin</td><td>\n",
       "          0\n",
       "</td><td>\n",
       "          65535\n",
       "</td><td>0.00341802</td><td>149</td><td>10.40-12.50 &mu;m</td><td><p>Band 6 surface temperature.\n",
       "If &#39;PROCESSING_LEVEL&#39; is set to &#39;L2SR&#39;, this band is fully masked out.</p></td></tr><tr><td>ST_ATRAN</td><td></td><td>\n",
       "          0\n",
       "</td><td>\n",
       "          10000\n",
       "</td><td>0.0001</td><td></td><td></td><td><p>Atmospheric Transmittance.\n",
       "If &#39;PROCESSING_LEVEL&#39; is set to &#39;L2SR&#39;, this band is fully masked out.</p></td></tr><tr><td>ST_CDIST</td><td>km</td><td>\n",
       "          0\n",
       "</td><td>\n",
       "          24000\n",
       "</td><td>0.01</td><td></td><td></td><td><p>Pixel distance to cloud.\n",
       "If &#39;PROCESSING_LEVEL&#39; is set to &#39;L2SR&#39;, this band is fully masked out.</p></td></tr><tr><td>ST_DRAD</td><td>W/(m^2*sr*um)/ DN</td><td>\n",
       "          0\n",
       "</td><td>\n",
       "          28000\n",
       "</td><td>0.001</td><td></td><td></td><td><p>Downwelled Radiance.\n",
       "If &#39;PROCESSING_LEVEL&#39; is set to &#39;L2SR&#39;, this band is fully masked out.</p></td></tr><tr><td>ST_EMIS</td><td></td><td>\n",
       "          0\n",
       "</td><td>\n",
       "          10000\n",
       "</td><td>0.0001</td><td></td><td></td><td><p>Emissivity estimated from ASTER GED.\n",
       "If &#39;PROCESSING_LEVEL&#39; is set to &#39;L2SR&#39;, this band is fully masked out.</p></td></tr><tr><td>ST_EMSD</td><td></td><td>\n",
       "          0\n",
       "</td><td>\n",
       "          10000\n",
       "</td><td>0.0001</td><td></td><td></td><td><p>Emissivity standard deviation.\n",
       "If &#39;PROCESSING_LEVEL&#39; is set to &#39;L2SR&#39;, this band is fully masked out.</p></td></tr><tr><td>ST_QA</td><td>K</td><td>\n",
       "          0\n",
       "</td><td>\n",
       "          32767\n",
       "</td><td>0.01</td><td></td><td></td><td><p>Uncertainty of the Surface Temperature band.\n",
       "If &#39;PROCESSING_LEVEL&#39; is set to &#39;L2SR&#39;, this band is fully masked out.</p></td></tr><tr><td>ST_TRAD</td><td>W/(m^2*sr*um)/ DN</td><td>\n",
       "          0\n",
       "</td><td>\n",
       "          22000\n",
       "</td><td>0.001</td><td></td><td></td><td><p>Thermal band converted to radiance.\n",
       "If &#39;PROCESSING_LEVEL&#39; is set to &#39;L2SR&#39;, this band is fully masked out.</p></td></tr><tr><td>ST_URAD</td><td>W/(m^2*sr*um)/ DN</td><td>\n",
       "          0\n",
       "</td><td>\n",
       "          28000\n",
       "</td><td>0.001</td><td></td><td></td><td><p>Upwelled Radiance.\n",
       "If &#39;PROCESSING_LEVEL&#39; is set to &#39;L2SR&#39;, this band is fully masked out.</p></td></tr><tr><td>QA_PIXEL</td><td></td><td></td><td></td><td></td><td></td><td></td><td><p>Pixel quality attributes generated from the CFMASK algorithm.</p></td></tr><tr><td colspan=100>\n",
       "      Bitmask for QA_PIXEL\n",
       "<ul><li>\n",
       "          Bit 0: Fill\n",
       "<ul></ul></li><li>\n",
       "          Bit 1: Dilated Cloud\n",
       "<ul></ul></li><li>\n",
       "          Bit 2: Unused\n",
       "<ul></ul></li><li>\n",
       "          Bit 3: Cloud\n",
       "<ul></ul></li><li>\n",
       "          Bit 4: Cloud Shadow\n",
       "<ul></ul></li><li>\n",
       "          Bit 5: Snow\n",
       "<ul></ul></li><li>\n",
       "          Bit 6: Clear\n",
       "<ul><li>0: Cloud or Dilated Cloud bits are set</li><li>1: Cloud and Dilated Cloud bits are not set</li></ul></li><li>\n",
       "          Bit 7: Water\n",
       "<ul></ul></li><li>\n",
       "          Bits 8-9: Cloud Confidence\n",
       "<ul><li>0: None</li><li>1: Low</li><li>2: Medium</li><li>3: High</li></ul></li><li>\n",
       "          Bits 10-11: Cloud Shadow Confidence\n",
       "<ul><li>0: None</li><li>1: Low</li><li>2: Medium</li><li>3: High</li></ul></li><li>\n",
       "          Bits 12-13: Snow/Ice Confidence\n",
       "<ul><li>0: None</li><li>1: Low</li><li>2: Medium</li><li>3: High</li></ul></li><li>\n",
       "          Bits 14-15: Cirrus Confidence\n",
       "<ul><li>0: None</li><li>1: Low</li><li>2: Medium</li><li>3: High</li></ul></li></ul></td></tr><tr><td>QA_RADSAT</td><td></td><td></td><td></td><td></td><td></td><td></td><td><p>Radiometric saturation QA</p></td></tr><tr><td colspan=100>\n",
       "      Bitmask for QA_RADSAT\n",
       "<ul><li>\n",
       "          Bit 0: Band 1 data saturated\n",
       "<ul></ul></li><li>\n",
       "          Bit 1: Band 2 data saturated\n",
       "<ul></ul></li><li>\n",
       "          Bit 2: Band 3 data saturated\n",
       "<ul></ul></li><li>\n",
       "          Bit 3: Band 4 data saturated\n",
       "<ul></ul></li><li>\n",
       "          Bit 4: Band 5 data saturated\n",
       "<ul></ul></li><li>\n",
       "          Bit 5: Band 6L data saturated\n",
       "<ul></ul></li><li>\n",
       "          Bit 6: Band 7 data saturated\n",
       "<ul></ul></li><li>\n",
       "          Bit 7: Unused\n",
       "<ul></ul></li><li>\n",
       "          Bit 8: Band 6H data saturated\n",
       "<ul></ul></li><li>\n",
       "          Bit 9: Dropped pixel\n",
       "<ul><li>0: Pixel present</li><li>1: Detector doesn&#39;t have a value</li></ul></li></ul></td></tr></table><p><b>Image Properties</b><table class=\"eecat\"><tr><th scope=\"col\">Name</th><th scope=\"col\">Type</th><th scope=\"col\">Description</th></tr><tr><td>ALGORITHM_SOURCE_SURFACE_REFLECTANCE</td><td>STRING</td><td><p>Name and version of the surface reflectance algorithm.</p></td></tr><tr><td>ALGORITHM_SOURCE_SURFACE_TEMPERATURE</td><td>STRING</td><td><p>Name and version of the surface temperature algorithm.</p></td></tr><tr><td>CLOUD_COVER</td><td>DOUBLE</td><td><p>Percentage cloud cover (0-100), -1 = not calculated.</p></td></tr><tr><td>CLOUD_COVER_LAND</td><td>DOUBLE</td><td><p>Percentage cloud cover over land (0-100), -1 = not calculated.</p></td></tr><tr><td>COLLECTION_CATEGORY</td><td>STRING</td><td><p>Scene collection category, &quot;T1&quot; or &quot;T2&quot;.</p></td></tr><tr><td>DATA_SOURCE_AIR_TEMPERATURE</td><td>STRING</td><td><p>Air temperature data source.</p></td></tr><tr><td>DATA_SOURCE_ELEVATION</td><td>STRING</td><td><p>Elevation data source.</p></td></tr><tr><td>DATA_SOURCE_OZONE</td><td>STRING</td><td><p>Ozone data source.</p></td></tr><tr><td>DATA_SOURCE_PRESSURE</td><td>STRING</td><td><p>Pressure data source.</p></td></tr><tr><td>DATA_SOURCE_REANALYSIS</td><td>STRING</td><td><p>Reanalysis data source.</p></td></tr><tr><td>DATA_SOURCE_WATER_VAPOR</td><td>STRING</td><td><p>Water vapor data source.</p></td></tr><tr><td>DATE_PRODUCT_GENERATED</td><td>DOUBLE</td><td><p>Timestamp of the date when the product was generated.</p></td></tr><tr><td>EARTH_SUN_DISTANCE</td><td>DOUBLE</td><td><p>Earth-Sun distance (AU).</p></td></tr><tr><td>EPHEMERIS_TYPE</td><td>PROPERTY_TYPE_UNSPECIFIED</td><td><p>Identifier to inform the user of the orbital ephemeris type used:\n",
       "&quot;DEFINITIVE&quot; or &quot;PREDICTIVE&quot;. If the field is not present, the user should\n",
       "assume &quot;PREDICTIVE&quot;.</p></td></tr><tr><td>GEOMETRIC_RMSE_MODEL</td><td>DOUBLE</td><td><p>Combined RMSE (Root Mean Square Error) of the geometric\n",
       "residuals (meters) in both across-track and along-track\n",
       "directions.</p></td></tr><tr><td>GEOMETRIC_RMSE_MODEL_X</td><td>DOUBLE</td><td><p>RMSE (Root Mean Square Error) of the geometric residuals (meters)\n",
       "measured on the GCPs (Ground Control Points) used in geometric\n",
       "precision correction in the across-track direction.</p></td></tr><tr><td>GEOMETRIC_RMSE_MODEL_Y</td><td>DOUBLE</td><td><p>RMSE (Root Mean Square Error) of the geometric residuals (meters)\n",
       "measured on the GCPs (Ground Control Points) used in geometric\n",
       "precision correction in the along-track direction.</p></td></tr><tr><td>GROUND_CONTROL_POINTS_MODEL</td><td>DOUBLE</td><td><p>Number of GCPs used in the precision correction process.\n",
       "This parameter is only present if the PROCESSING_LEVEL is L1TP.</p></td></tr><tr><td>GROUND_CONTROL_POINTS_VERSION</td><td>DOUBLE</td><td><p>GCP dataset version used in the precision correction process. This\n",
       "parameter is only present if the PROCESSING_LEVEL is L1TP.</p></td></tr><tr><td>IMAGE_QUALITY</td><td>INT</td><td><p>Composite image quality for the bands.\n",
       "0 = worst, 9 = best, -1 = quality not calculated or assessed.</p></td></tr><tr><td>L1_DATE_PRODUCT_GENERATED</td><td>STRING</td><td><p>Product generation date for the corresponding L1 product.</p></td></tr><tr><td>L1_LANDSAT_PRODUCT_ID</td><td>STRING</td><td><p>Landsat Product Identifier for the corresponding L1 product.</p></td></tr><tr><td>L1_PROCESSING_LEVEL</td><td>STRING</td><td><p>Processing Level for the corresponding L1 product.</p></td></tr><tr><td>L1_PROCESSING_SOFTWARE_VERSION</td><td>STRING</td><td><p>Processing software version for the corresponding L1 product.</p></td></tr><tr><td>LANDSAT_PRODUCT_ID</td><td>STRING</td><td><p>Landsat Product Identifier</p></td></tr><tr><td>LANDSAT_SCENE_ID</td><td>STRING</td><td><p>Short Landsat Scene Identifier</p></td></tr><tr><td>PROCESSING_LEVEL</td><td>STRING</td><td><p>&quot;L2SP&quot; when both SR and LST bands are present, or &quot;L2SR&quot; when only\n",
       "SR bands are present.</p></td></tr><tr><td>PROCESSING_SOFTWARE_VERSION</td><td>STRING</td><td><p>The processing software version that created the product.</p></td></tr><tr><td>SCENE_CENTER_TIME</td><td>STRING</td><td><p>Time of the observations as in ISO 8601 string.</p></td></tr><tr><td>SENSOR_ID</td><td>STRING</td><td><p>Name of the sensor.</p></td></tr><tr><td>SPACECRAFT_ID</td><td>STRING</td><td><p>Name of the spacecraft.</p></td></tr><tr><td>SUN_AZIMUTH</td><td>DOUBLE</td><td><p>Sun azimuth angle in degrees for the image center location at the\n",
       "image center acquisition time. A positive value indicates angles to the\n",
       "east or clockwise from the north. A negative value indicates angles to\n",
       "the west or counterclockwise from the north.</p></td></tr><tr><td>SUN_ELEVATION</td><td>DOUBLE</td><td><p>Sun elevation angle in degrees for the image center location at the\n",
       "image center acquisition time. A positive value indicates a daytime\n",
       "scene. A negative value indicates a nighttime scene.\n",
       "Note: For reflectance calculation, the sun zenith angle is needed,\n",
       "which is 90 - sun elevation angle.</p></td></tr><tr><td>TEMPERATURE_MAXIMUM_BAND_ST_B6</td><td>DOUBLE</td><td><p>Maximum achievable temperature value for Band 6.</p></td></tr><tr><td>TEMPERATURE_MINIMUM_BAND_ST_B6</td><td>DOUBLE</td><td><p>Minimum achievable temperature value for Band 6.</p></td></tr><tr><td>WRS_PATH</td><td>INT</td><td><p>WRS path number of scene.</p></td></tr><tr><td>WRS_ROW</td><td>INT</td><td><p>WRS row number of scene.</p></td></tr></table><p><b>Terms of Use</b><br><p>Landsat datasets are federally created data\n",
       "and therefore reside in the public domain and may be used, transferred, or reproduced without copyright restriction.</p><p>Acknowledgement or credit of the USGS as data source should be provided\n",
       "by including a line of text citation such as the example shown below.</p><p>(Product, Image, Photograph, or Dataset Name) courtesy of\n",
       "the U.S. Geological Survey</p><p>Example: Landsat-7 image courtesy of the U.S. Geological Survey</p><p>See the\n",
       "<a href=\"https://www.usgs.gov/information-policies-and-instructions/usgs-visual-identity-system\">USGS Visual Identity System Guidance</a>\n",
       "for further details on proper citation and acknowledgement of USGS products.</p><style>\n",
       "  table.eecat {\n",
       "  border: 1px solid black;\n",
       "  border-collapse: collapse;\n",
       "  font-size: 13px;\n",
       "  }\n",
       "  table.eecat td, tr, th {\n",
       "  text-align: left; vertical-align: top;\n",
       "  border: 1px solid gray; padding: 3px;\n",
       "  }\n",
       "  td.nobreak { white-space: nowrap; }\n",
       "</style></span></li><li><label class='ee-shut'>keywords: List (11 elements)<input type='checkbox' class='ee-toggle'></label><ul><li><span class='ee-k'>0:</span><span class='ee-v'>cfmask</span></li><li><span class='ee-k'>1:</span><span class='ee-v'>cloud</span></li><li><span class='ee-k'>2:</span><span class='ee-v'>fmask</span></li><li><span class='ee-k'>3:</span><span class='ee-v'>global</span></li><li><span class='ee-k'>4:</span><span class='ee-v'>landsat</span></li><li><span class='ee-k'>5:</span><span class='ee-v'>lasrc</span></li><li><span class='ee-k'>6:</span><span class='ee-v'>lst</span></li><li><span class='ee-k'>7:</span><span class='ee-v'>reflectance</span></li><li><span class='ee-k'>8:</span><span class='ee-v'>sr</span></li><li><span class='ee-k'>9:</span><span class='ee-v'>tm</span></li><li><span class='ee-k'>10:</span><span class='ee-v'>usgs</span></li></ul></li><li><span class='ee-k'>period:</span><span class='ee-v'>0</span></li><li><label class='ee-shut'>product_tags: List (10 elements)<input type='checkbox' class='ee-toggle'></label><ul><li><span class='ee-k'>0:</span><span class='ee-v'>global</span></li><li><span class='ee-k'>1:</span><span class='ee-v'>sr</span></li><li><span class='ee-k'>2:</span><span class='ee-v'>reflectance</span></li><li><span class='ee-k'>3:</span><span class='ee-v'>lst</span></li><li><span class='ee-k'>4:</span><span class='ee-v'>cloud</span></li><li><span class='ee-k'>5:</span><span class='ee-v'>lasrc</span></li><li><span class='ee-k'>6:</span><span class='ee-v'>fmask</span></li><li><span class='ee-k'>7:</span><span class='ee-v'>cfmask</span></li><li><span class='ee-k'>8:</span><span class='ee-v'>tm</span></li><li><span class='ee-k'>9:</span><span class='ee-v'>lt05</span></li></ul></li><li><span class='ee-k'>provider:</span><span class='ee-v'>USGS</span></li><li><span class='ee-k'>provider_url:</span><span class='ee-v'>https://www.usgs.gov/core-science-systems/nli/landsat/landsat-collection-2-level-2-science-products</span></li><li><span class='ee-k'>sample:</span><span class='ee-v'>https://mw1.google.com/ges/dd/images/LANDSAT_SR_sample.png</span></li><li><label class='ee-shut'>source_tags: ['landsat', 'usgs']<input type='checkbox' class='ee-toggle'></label><ul><li><span class='ee-k'>0:</span><span class='ee-v'>landsat</span></li><li><span class='ee-k'>1:</span><span class='ee-v'>usgs</span></li></ul></li><li><label class='ee-shut'>tags: List (11 elements)<input type='checkbox' class='ee-toggle'></label><ul><li><span class='ee-k'>0:</span><span class='ee-v'>cfmask</span></li><li><span class='ee-k'>1:</span><span class='ee-v'>cloud</span></li><li><span class='ee-k'>2:</span><span class='ee-v'>fmask</span></li><li><span class='ee-k'>3:</span><span class='ee-v'>global</span></li><li><span class='ee-k'>4:</span><span class='ee-v'>landsat</span></li><li><span class='ee-k'>5:</span><span class='ee-v'>lasrc</span></li><li><span class='ee-k'>6:</span><span class='ee-v'>lst</span></li><li><span class='ee-k'>7:</span><span class='ee-v'>reflectance</span></li><li><span class='ee-k'>8:</span><span class='ee-v'>sr</span></li><li><span class='ee-k'>9:</span><span class='ee-v'>tm</span></li><li><span class='ee-k'>10:</span><span class='ee-v'>usgs</span></li></ul></li><li><span class='ee-k'>thumb:</span><span class='ee-v'>https://mw1.google.com/ges/dd/images/LANDSAT_SR_thumb.png</span></li><li><span class='ee-k'>title:</span><span class='ee-v'>USGS Landsat 5 Level 2, Collection 2, Tier 1</span></li><li><span class='ee-k'>type_name:</span><span class='ee-v'>ImageCollection</span></li><li><span class='ee-k'>visualization_0_bands:</span><span class='ee-v'>SR_B3,SR_B2,SR_B1</span></li><li><span class='ee-k'>visualization_0_gain:</span><span class='ee-v'>1.4,1.2,1.0</span></li><li><span class='ee-k'>visualization_0_name:</span><span class='ee-v'>True Color (321)</span></li><li><span class='ee-k'>visualization_1_bands:</span><span class='ee-v'>SR_B4,SR_B3,SR_B2</span></li><li><span class='ee-k'>visualization_1_gain:</span><span class='ee-v'>1.4,1.2,1.4</span></li><li><span class='ee-k'>visualization_1_name:</span><span class='ee-v'>Near Infrared (432)</span></li><li><span class='ee-k'>visualization_2_bands:</span><span class='ee-v'>SR_B7,SR_B4,SR_B2</span></li><li><span class='ee-k'>visualization_2_gain:</span><span class='ee-v'>1.8,1.9,1.9</span></li><li><span class='ee-k'>visualization_2_name:</span><span class='ee-v'>Shortwave Infrared (742)</span></li></ul></li><li><label class='ee-shut'>features: List (1 element)<input type='checkbox' class='ee-toggle'></label><ul><li><label class='ee-shut'>0: Image LANDSAT/LT05/C02/T1_L2/LT05_016028_20110407 (19 bands)<input type='checkbox' class='ee-toggle'></label><ul><li><span class='ee-k'>type:</span><span class='ee-v'>Image</span></li><li><span class='ee-k'>id:</span><span class='ee-v'>LANDSAT/LT05/C02/T1_L2/LT05_016028_20110407</span></li><li><span class='ee-k'>version:</span><span class='ee-v'>1626266804928864</span></li><li><label class='ee-shut'>bands: List (19 elements)<input type='checkbox' class='ee-toggle'></label><ul><li><label class='ee-shut'>0: \"SR_B1\", unsigned int16, EPSG:32618, 8161x7351 px<input type='checkbox' class='ee-toggle'></label><ul><li><span class='ee-k'>id:</span><span class='ee-v'>SR_B1</span></li><li><span class='ee-k'>crs:</span><span class='ee-v'>EPSG:32618</span></li><li><label class='ee-shut'>crs_transform: [30, 0, 296385, 0, -30, 5207415]<input type='checkbox' class='ee-toggle'></label><ul><li><span class='ee-k'>0:</span><span class='ee-v'>30</span></li><li><span class='ee-k'>1:</span><span class='ee-v'>0</span></li><li><span class='ee-k'>2:</span><span class='ee-v'>296385</span></li><li><span class='ee-k'>3:</span><span class='ee-v'>0</span></li><li><span class='ee-k'>4:</span><span class='ee-v'>-30</span></li><li><span class='ee-k'>5:</span><span class='ee-v'>5207415</span></li></ul></li><li><label class='ee-shut'>data_type: unsigned int16<input type='checkbox' class='ee-toggle'></label><ul><li><span class='ee-k'>type:</span><span class='ee-v'>PixelType</span></li><li><span class='ee-k'>max:</span><span class='ee-v'>65535</span></li><li><span class='ee-k'>min:</span><span class='ee-v'>0</span></li><li><span class='ee-k'>precision:</span><span class='ee-v'>int</span></li></ul></li><li><label class='ee-shut'>dimensions: [8161, 7351]<input type='checkbox' class='ee-toggle'></label><ul><li><span class='ee-k'>0:</span><span class='ee-v'>8161</span></li><li><span class='ee-k'>1:</span><span class='ee-v'>7351</span></li></ul></li></ul></li><li><label class='ee-shut'>1: \"SR_B2\", unsigned int16, EPSG:32618, 8161x7351 px<input type='checkbox' class='ee-toggle'></label><ul><li><span class='ee-k'>id:</span><span class='ee-v'>SR_B2</span></li><li><span class='ee-k'>crs:</span><span class='ee-v'>EPSG:32618</span></li><li><label class='ee-shut'>crs_transform: [30, 0, 296385, 0, -30, 5207415]<input type='checkbox' class='ee-toggle'></label><ul><li><span class='ee-k'>0:</span><span class='ee-v'>30</span></li><li><span class='ee-k'>1:</span><span class='ee-v'>0</span></li><li><span class='ee-k'>2:</span><span class='ee-v'>296385</span></li><li><span class='ee-k'>3:</span><span class='ee-v'>0</span></li><li><span class='ee-k'>4:</span><span class='ee-v'>-30</span></li><li><span class='ee-k'>5:</span><span class='ee-v'>5207415</span></li></ul></li><li><label class='ee-shut'>data_type: unsigned int16<input type='checkbox' class='ee-toggle'></label><ul><li><span class='ee-k'>type:</span><span class='ee-v'>PixelType</span></li><li><span class='ee-k'>max:</span><span class='ee-v'>65535</span></li><li><span class='ee-k'>min:</span><span class='ee-v'>0</span></li><li><span class='ee-k'>precision:</span><span class='ee-v'>int</span></li></ul></li><li><label class='ee-shut'>dimensions: [8161, 7351]<input type='checkbox' class='ee-toggle'></label><ul><li><span class='ee-k'>0:</span><span class='ee-v'>8161</span></li><li><span class='ee-k'>1:</span><span class='ee-v'>7351</span></li></ul></li></ul></li><li><label class='ee-shut'>2: \"SR_B3\", unsigned int16, EPSG:32618, 8161x7351 px<input type='checkbox' class='ee-toggle'></label><ul><li><span class='ee-k'>id:</span><span class='ee-v'>SR_B3</span></li><li><span class='ee-k'>crs:</span><span class='ee-v'>EPSG:32618</span></li><li><label class='ee-shut'>crs_transform: [30, 0, 296385, 0, -30, 5207415]<input type='checkbox' class='ee-toggle'></label><ul><li><span class='ee-k'>0:</span><span class='ee-v'>30</span></li><li><span class='ee-k'>1:</span><span class='ee-v'>0</span></li><li><span class='ee-k'>2:</span><span class='ee-v'>296385</span></li><li><span class='ee-k'>3:</span><span class='ee-v'>0</span></li><li><span class='ee-k'>4:</span><span class='ee-v'>-30</span></li><li><span class='ee-k'>5:</span><span class='ee-v'>5207415</span></li></ul></li><li><label class='ee-shut'>data_type: unsigned int16<input type='checkbox' class='ee-toggle'></label><ul><li><span class='ee-k'>type:</span><span class='ee-v'>PixelType</span></li><li><span class='ee-k'>max:</span><span class='ee-v'>65535</span></li><li><span class='ee-k'>min:</span><span class='ee-v'>0</span></li><li><span class='ee-k'>precision:</span><span class='ee-v'>int</span></li></ul></li><li><label class='ee-shut'>dimensions: [8161, 7351]<input type='checkbox' class='ee-toggle'></label><ul><li><span class='ee-k'>0:</span><span class='ee-v'>8161</span></li><li><span class='ee-k'>1:</span><span class='ee-v'>7351</span></li></ul></li></ul></li><li><label class='ee-shut'>3: \"SR_B4\", unsigned int16, EPSG:32618, 8161x7351 px<input type='checkbox' class='ee-toggle'></label><ul><li><span class='ee-k'>id:</span><span class='ee-v'>SR_B4</span></li><li><span class='ee-k'>crs:</span><span class='ee-v'>EPSG:32618</span></li><li><label class='ee-shut'>crs_transform: [30, 0, 296385, 0, -30, 5207415]<input type='checkbox' class='ee-toggle'></label><ul><li><span class='ee-k'>0:</span><span class='ee-v'>30</span></li><li><span class='ee-k'>1:</span><span class='ee-v'>0</span></li><li><span class='ee-k'>2:</span><span class='ee-v'>296385</span></li><li><span class='ee-k'>3:</span><span class='ee-v'>0</span></li><li><span class='ee-k'>4:</span><span class='ee-v'>-30</span></li><li><span class='ee-k'>5:</span><span class='ee-v'>5207415</span></li></ul></li><li><label class='ee-shut'>data_type: unsigned int16<input type='checkbox' class='ee-toggle'></label><ul><li><span class='ee-k'>type:</span><span class='ee-v'>PixelType</span></li><li><span class='ee-k'>max:</span><span class='ee-v'>65535</span></li><li><span class='ee-k'>min:</span><span class='ee-v'>0</span></li><li><span class='ee-k'>precision:</span><span class='ee-v'>int</span></li></ul></li><li><label class='ee-shut'>dimensions: [8161, 7351]<input type='checkbox' class='ee-toggle'></label><ul><li><span class='ee-k'>0:</span><span class='ee-v'>8161</span></li><li><span class='ee-k'>1:</span><span class='ee-v'>7351</span></li></ul></li></ul></li><li><label class='ee-shut'>4: \"SR_B5\", unsigned int16, EPSG:32618, 8161x7351 px<input type='checkbox' class='ee-toggle'></label><ul><li><span class='ee-k'>id:</span><span class='ee-v'>SR_B5</span></li><li><span class='ee-k'>crs:</span><span class='ee-v'>EPSG:32618</span></li><li><label class='ee-shut'>crs_transform: [30, 0, 296385, 0, -30, 5207415]<input type='checkbox' class='ee-toggle'></label><ul><li><span class='ee-k'>0:</span><span class='ee-v'>30</span></li><li><span class='ee-k'>1:</span><span class='ee-v'>0</span></li><li><span class='ee-k'>2:</span><span class='ee-v'>296385</span></li><li><span class='ee-k'>3:</span><span class='ee-v'>0</span></li><li><span class='ee-k'>4:</span><span class='ee-v'>-30</span></li><li><span class='ee-k'>5:</span><span class='ee-v'>5207415</span></li></ul></li><li><label class='ee-shut'>data_type: unsigned int16<input type='checkbox' class='ee-toggle'></label><ul><li><span class='ee-k'>type:</span><span class='ee-v'>PixelType</span></li><li><span class='ee-k'>max:</span><span class='ee-v'>65535</span></li><li><span class='ee-k'>min:</span><span class='ee-v'>0</span></li><li><span class='ee-k'>precision:</span><span class='ee-v'>int</span></li></ul></li><li><label class='ee-shut'>dimensions: [8161, 7351]<input type='checkbox' class='ee-toggle'></label><ul><li><span class='ee-k'>0:</span><span class='ee-v'>8161</span></li><li><span class='ee-k'>1:</span><span class='ee-v'>7351</span></li></ul></li></ul></li><li><label class='ee-shut'>5: \"SR_B7\", unsigned int16, EPSG:32618, 8161x7351 px<input type='checkbox' class='ee-toggle'></label><ul><li><span class='ee-k'>id:</span><span class='ee-v'>SR_B7</span></li><li><span class='ee-k'>crs:</span><span class='ee-v'>EPSG:32618</span></li><li><label class='ee-shut'>crs_transform: [30, 0, 296385, 0, -30, 5207415]<input type='checkbox' class='ee-toggle'></label><ul><li><span class='ee-k'>0:</span><span class='ee-v'>30</span></li><li><span class='ee-k'>1:</span><span class='ee-v'>0</span></li><li><span class='ee-k'>2:</span><span class='ee-v'>296385</span></li><li><span class='ee-k'>3:</span><span class='ee-v'>0</span></li><li><span class='ee-k'>4:</span><span class='ee-v'>-30</span></li><li><span class='ee-k'>5:</span><span class='ee-v'>5207415</span></li></ul></li><li><label class='ee-shut'>data_type: unsigned int16<input type='checkbox' class='ee-toggle'></label><ul><li><span class='ee-k'>type:</span><span class='ee-v'>PixelType</span></li><li><span class='ee-k'>max:</span><span class='ee-v'>65535</span></li><li><span class='ee-k'>min:</span><span class='ee-v'>0</span></li><li><span class='ee-k'>precision:</span><span class='ee-v'>int</span></li></ul></li><li><label class='ee-shut'>dimensions: [8161, 7351]<input type='checkbox' class='ee-toggle'></label><ul><li><span class='ee-k'>0:</span><span class='ee-v'>8161</span></li><li><span class='ee-k'>1:</span><span class='ee-v'>7351</span></li></ul></li></ul></li><li><label class='ee-shut'>6: \"SR_ATMOS_OPACITY\", signed int16, EPSG:32618, 8161x7351 px<input type='checkbox' class='ee-toggle'></label><ul><li><span class='ee-k'>id:</span><span class='ee-v'>SR_ATMOS_OPACITY</span></li><li><span class='ee-k'>crs:</span><span class='ee-v'>EPSG:32618</span></li><li><label class='ee-shut'>crs_transform: [30, 0, 296385, 0, -30, 5207415]<input type='checkbox' class='ee-toggle'></label><ul><li><span class='ee-k'>0:</span><span class='ee-v'>30</span></li><li><span class='ee-k'>1:</span><span class='ee-v'>0</span></li><li><span class='ee-k'>2:</span><span class='ee-v'>296385</span></li><li><span class='ee-k'>3:</span><span class='ee-v'>0</span></li><li><span class='ee-k'>4:</span><span class='ee-v'>-30</span></li><li><span class='ee-k'>5:</span><span class='ee-v'>5207415</span></li></ul></li><li><label class='ee-shut'>data_type: signed int16<input type='checkbox' class='ee-toggle'></label><ul><li><span class='ee-k'>type:</span><span class='ee-v'>PixelType</span></li><li><span class='ee-k'>max:</span><span class='ee-v'>32767</span></li><li><span class='ee-k'>min:</span><span class='ee-v'>-32768</span></li><li><span class='ee-k'>precision:</span><span class='ee-v'>int</span></li></ul></li><li><label class='ee-shut'>dimensions: [8161, 7351]<input type='checkbox' class='ee-toggle'></label><ul><li><span class='ee-k'>0:</span><span class='ee-v'>8161</span></li><li><span class='ee-k'>1:</span><span class='ee-v'>7351</span></li></ul></li></ul></li><li><label class='ee-shut'>7: \"SR_CLOUD_QA\", unsigned int8, EPSG:32618, 8161x7351 px<input type='checkbox' class='ee-toggle'></label><ul><li><span class='ee-k'>id:</span><span class='ee-v'>SR_CLOUD_QA</span></li><li><span class='ee-k'>crs:</span><span class='ee-v'>EPSG:32618</span></li><li><label class='ee-shut'>crs_transform: [30, 0, 296385, 0, -30, 5207415]<input type='checkbox' class='ee-toggle'></label><ul><li><span class='ee-k'>0:</span><span class='ee-v'>30</span></li><li><span class='ee-k'>1:</span><span class='ee-v'>0</span></li><li><span class='ee-k'>2:</span><span class='ee-v'>296385</span></li><li><span class='ee-k'>3:</span><span class='ee-v'>0</span></li><li><span class='ee-k'>4:</span><span class='ee-v'>-30</span></li><li><span class='ee-k'>5:</span><span class='ee-v'>5207415</span></li></ul></li><li><label class='ee-shut'>data_type: unsigned int8<input type='checkbox' class='ee-toggle'></label><ul><li><span class='ee-k'>type:</span><span class='ee-v'>PixelType</span></li><li><span class='ee-k'>max:</span><span class='ee-v'>255</span></li><li><span class='ee-k'>min:</span><span class='ee-v'>0</span></li><li><span class='ee-k'>precision:</span><span class='ee-v'>int</span></li></ul></li><li><label class='ee-shut'>dimensions: [8161, 7351]<input type='checkbox' class='ee-toggle'></label><ul><li><span class='ee-k'>0:</span><span class='ee-v'>8161</span></li><li><span class='ee-k'>1:</span><span class='ee-v'>7351</span></li></ul></li></ul></li><li><label class='ee-shut'>8: \"ST_B6\", unsigned int16, EPSG:32618, 8161x7351 px<input type='checkbox' class='ee-toggle'></label><ul><li><span class='ee-k'>id:</span><span class='ee-v'>ST_B6</span></li><li><span class='ee-k'>crs:</span><span class='ee-v'>EPSG:32618</span></li><li><label class='ee-shut'>crs_transform: [30, 0, 296385, 0, -30, 5207415]<input type='checkbox' class='ee-toggle'></label><ul><li><span class='ee-k'>0:</span><span class='ee-v'>30</span></li><li><span class='ee-k'>1:</span><span class='ee-v'>0</span></li><li><span class='ee-k'>2:</span><span class='ee-v'>296385</span></li><li><span class='ee-k'>3:</span><span class='ee-v'>0</span></li><li><span class='ee-k'>4:</span><span class='ee-v'>-30</span></li><li><span class='ee-k'>5:</span><span class='ee-v'>5207415</span></li></ul></li><li><label class='ee-shut'>data_type: unsigned int16<input type='checkbox' class='ee-toggle'></label><ul><li><span class='ee-k'>type:</span><span class='ee-v'>PixelType</span></li><li><span class='ee-k'>max:</span><span class='ee-v'>65535</span></li><li><span class='ee-k'>min:</span><span class='ee-v'>0</span></li><li><span class='ee-k'>precision:</span><span class='ee-v'>int</span></li></ul></li><li><label class='ee-shut'>dimensions: [8161, 7351]<input type='checkbox' class='ee-toggle'></label><ul><li><span class='ee-k'>0:</span><span class='ee-v'>8161</span></li><li><span class='ee-k'>1:</span><span class='ee-v'>7351</span></li></ul></li></ul></li><li><label class='ee-shut'>9: \"ST_ATRAN\", signed int16, EPSG:32618, 8161x7351 px<input type='checkbox' class='ee-toggle'></label><ul><li><span class='ee-k'>id:</span><span class='ee-v'>ST_ATRAN</span></li><li><span class='ee-k'>crs:</span><span class='ee-v'>EPSG:32618</span></li><li><label class='ee-shut'>crs_transform: [30, 0, 296385, 0, -30, 5207415]<input type='checkbox' class='ee-toggle'></label><ul><li><span class='ee-k'>0:</span><span class='ee-v'>30</span></li><li><span class='ee-k'>1:</span><span class='ee-v'>0</span></li><li><span class='ee-k'>2:</span><span class='ee-v'>296385</span></li><li><span class='ee-k'>3:</span><span class='ee-v'>0</span></li><li><span class='ee-k'>4:</span><span class='ee-v'>-30</span></li><li><span class='ee-k'>5:</span><span class='ee-v'>5207415</span></li></ul></li><li><label class='ee-shut'>data_type: signed int16<input type='checkbox' class='ee-toggle'></label><ul><li><span class='ee-k'>type:</span><span class='ee-v'>PixelType</span></li><li><span class='ee-k'>max:</span><span class='ee-v'>32767</span></li><li><span class='ee-k'>min:</span><span class='ee-v'>-32768</span></li><li><span class='ee-k'>precision:</span><span class='ee-v'>int</span></li></ul></li><li><label class='ee-shut'>dimensions: [8161, 7351]<input type='checkbox' class='ee-toggle'></label><ul><li><span class='ee-k'>0:</span><span class='ee-v'>8161</span></li><li><span class='ee-k'>1:</span><span class='ee-v'>7351</span></li></ul></li></ul></li><li><label class='ee-shut'>10: \"ST_CDIST\", signed int16, EPSG:32618, 8161x7351 px<input type='checkbox' class='ee-toggle'></label><ul><li><span class='ee-k'>id:</span><span class='ee-v'>ST_CDIST</span></li><li><span class='ee-k'>crs:</span><span class='ee-v'>EPSG:32618</span></li><li><label class='ee-shut'>crs_transform: [30, 0, 296385, 0, -30, 5207415]<input type='checkbox' class='ee-toggle'></label><ul><li><span class='ee-k'>0:</span><span class='ee-v'>30</span></li><li><span class='ee-k'>1:</span><span class='ee-v'>0</span></li><li><span class='ee-k'>2:</span><span class='ee-v'>296385</span></li><li><span class='ee-k'>3:</span><span class='ee-v'>0</span></li><li><span class='ee-k'>4:</span><span class='ee-v'>-30</span></li><li><span class='ee-k'>5:</span><span class='ee-v'>5207415</span></li></ul></li><li><label class='ee-shut'>data_type: signed int16<input type='checkbox' class='ee-toggle'></label><ul><li><span class='ee-k'>type:</span><span class='ee-v'>PixelType</span></li><li><span class='ee-k'>max:</span><span class='ee-v'>32767</span></li><li><span class='ee-k'>min:</span><span class='ee-v'>-32768</span></li><li><span class='ee-k'>precision:</span><span class='ee-v'>int</span></li></ul></li><li><label class='ee-shut'>dimensions: [8161, 7351]<input type='checkbox' class='ee-toggle'></label><ul><li><span class='ee-k'>0:</span><span class='ee-v'>8161</span></li><li><span class='ee-k'>1:</span><span class='ee-v'>7351</span></li></ul></li></ul></li><li><label class='ee-shut'>11: \"ST_DRAD\", signed int16, EPSG:32618, 8161x7351 px<input type='checkbox' class='ee-toggle'></label><ul><li><span class='ee-k'>id:</span><span class='ee-v'>ST_DRAD</span></li><li><span class='ee-k'>crs:</span><span class='ee-v'>EPSG:32618</span></li><li><label class='ee-shut'>crs_transform: [30, 0, 296385, 0, -30, 5207415]<input type='checkbox' class='ee-toggle'></label><ul><li><span class='ee-k'>0:</span><span class='ee-v'>30</span></li><li><span class='ee-k'>1:</span><span class='ee-v'>0</span></li><li><span class='ee-k'>2:</span><span class='ee-v'>296385</span></li><li><span class='ee-k'>3:</span><span class='ee-v'>0</span></li><li><span class='ee-k'>4:</span><span class='ee-v'>-30</span></li><li><span class='ee-k'>5:</span><span class='ee-v'>5207415</span></li></ul></li><li><label class='ee-shut'>data_type: signed int16<input type='checkbox' class='ee-toggle'></label><ul><li><span class='ee-k'>type:</span><span class='ee-v'>PixelType</span></li><li><span class='ee-k'>max:</span><span class='ee-v'>32767</span></li><li><span class='ee-k'>min:</span><span class='ee-v'>-32768</span></li><li><span class='ee-k'>precision:</span><span class='ee-v'>int</span></li></ul></li><li><label class='ee-shut'>dimensions: [8161, 7351]<input type='checkbox' class='ee-toggle'></label><ul><li><span class='ee-k'>0:</span><span class='ee-v'>8161</span></li><li><span class='ee-k'>1:</span><span class='ee-v'>7351</span></li></ul></li></ul></li><li><label class='ee-shut'>12: \"ST_EMIS\", signed int16, EPSG:32618, 8161x7351 px<input type='checkbox' class='ee-toggle'></label><ul><li><span class='ee-k'>id:</span><span class='ee-v'>ST_EMIS</span></li><li><span class='ee-k'>crs:</span><span class='ee-v'>EPSG:32618</span></li><li><label class='ee-shut'>crs_transform: [30, 0, 296385, 0, -30, 5207415]<input type='checkbox' class='ee-toggle'></label><ul><li><span class='ee-k'>0:</span><span class='ee-v'>30</span></li><li><span class='ee-k'>1:</span><span class='ee-v'>0</span></li><li><span class='ee-k'>2:</span><span class='ee-v'>296385</span></li><li><span class='ee-k'>3:</span><span class='ee-v'>0</span></li><li><span class='ee-k'>4:</span><span class='ee-v'>-30</span></li><li><span class='ee-k'>5:</span><span class='ee-v'>5207415</span></li></ul></li><li><label class='ee-shut'>data_type: signed int16<input type='checkbox' class='ee-toggle'></label><ul><li><span class='ee-k'>type:</span><span class='ee-v'>PixelType</span></li><li><span class='ee-k'>max:</span><span class='ee-v'>32767</span></li><li><span class='ee-k'>min:</span><span class='ee-v'>-32768</span></li><li><span class='ee-k'>precision:</span><span class='ee-v'>int</span></li></ul></li><li><label class='ee-shut'>dimensions: [8161, 7351]<input type='checkbox' class='ee-toggle'></label><ul><li><span class='ee-k'>0:</span><span class='ee-v'>8161</span></li><li><span class='ee-k'>1:</span><span class='ee-v'>7351</span></li></ul></li></ul></li><li><label class='ee-shut'>13: \"ST_EMSD\", signed int16, EPSG:32618, 8161x7351 px<input type='checkbox' class='ee-toggle'></label><ul><li><span class='ee-k'>id:</span><span class='ee-v'>ST_EMSD</span></li><li><span class='ee-k'>crs:</span><span class='ee-v'>EPSG:32618</span></li><li><label class='ee-shut'>crs_transform: [30, 0, 296385, 0, -30, 5207415]<input type='checkbox' class='ee-toggle'></label><ul><li><span class='ee-k'>0:</span><span class='ee-v'>30</span></li><li><span class='ee-k'>1:</span><span class='ee-v'>0</span></li><li><span class='ee-k'>2:</span><span class='ee-v'>296385</span></li><li><span class='ee-k'>3:</span><span class='ee-v'>0</span></li><li><span class='ee-k'>4:</span><span class='ee-v'>-30</span></li><li><span class='ee-k'>5:</span><span class='ee-v'>5207415</span></li></ul></li><li><label class='ee-shut'>data_type: signed int16<input type='checkbox' class='ee-toggle'></label><ul><li><span class='ee-k'>type:</span><span class='ee-v'>PixelType</span></li><li><span class='ee-k'>max:</span><span class='ee-v'>32767</span></li><li><span class='ee-k'>min:</span><span class='ee-v'>-32768</span></li><li><span class='ee-k'>precision:</span><span class='ee-v'>int</span></li></ul></li><li><label class='ee-shut'>dimensions: [8161, 7351]<input type='checkbox' class='ee-toggle'></label><ul><li><span class='ee-k'>0:</span><span class='ee-v'>8161</span></li><li><span class='ee-k'>1:</span><span class='ee-v'>7351</span></li></ul></li></ul></li><li><label class='ee-shut'>14: \"ST_QA\", signed int16, EPSG:32618, 8161x7351 px<input type='checkbox' class='ee-toggle'></label><ul><li><span class='ee-k'>id:</span><span class='ee-v'>ST_QA</span></li><li><span class='ee-k'>crs:</span><span class='ee-v'>EPSG:32618</span></li><li><label class='ee-shut'>crs_transform: [30, 0, 296385, 0, -30, 5207415]<input type='checkbox' class='ee-toggle'></label><ul><li><span class='ee-k'>0:</span><span class='ee-v'>30</span></li><li><span class='ee-k'>1:</span><span class='ee-v'>0</span></li><li><span class='ee-k'>2:</span><span class='ee-v'>296385</span></li><li><span class='ee-k'>3:</span><span class='ee-v'>0</span></li><li><span class='ee-k'>4:</span><span class='ee-v'>-30</span></li><li><span class='ee-k'>5:</span><span class='ee-v'>5207415</span></li></ul></li><li><label class='ee-shut'>data_type: signed int16<input type='checkbox' class='ee-toggle'></label><ul><li><span class='ee-k'>type:</span><span class='ee-v'>PixelType</span></li><li><span class='ee-k'>max:</span><span class='ee-v'>32767</span></li><li><span class='ee-k'>min:</span><span class='ee-v'>-32768</span></li><li><span class='ee-k'>precision:</span><span class='ee-v'>int</span></li></ul></li><li><label class='ee-shut'>dimensions: [8161, 7351]<input type='checkbox' class='ee-toggle'></label><ul><li><span class='ee-k'>0:</span><span class='ee-v'>8161</span></li><li><span class='ee-k'>1:</span><span class='ee-v'>7351</span></li></ul></li></ul></li><li><label class='ee-shut'>15: \"ST_TRAD\", signed int16, EPSG:32618, 8161x7351 px<input type='checkbox' class='ee-toggle'></label><ul><li><span class='ee-k'>id:</span><span class='ee-v'>ST_TRAD</span></li><li><span class='ee-k'>crs:</span><span class='ee-v'>EPSG:32618</span></li><li><label class='ee-shut'>crs_transform: [30, 0, 296385, 0, -30, 5207415]<input type='checkbox' class='ee-toggle'></label><ul><li><span class='ee-k'>0:</span><span class='ee-v'>30</span></li><li><span class='ee-k'>1:</span><span class='ee-v'>0</span></li><li><span class='ee-k'>2:</span><span class='ee-v'>296385</span></li><li><span class='ee-k'>3:</span><span class='ee-v'>0</span></li><li><span class='ee-k'>4:</span><span class='ee-v'>-30</span></li><li><span class='ee-k'>5:</span><span class='ee-v'>5207415</span></li></ul></li><li><label class='ee-shut'>data_type: signed int16<input type='checkbox' class='ee-toggle'></label><ul><li><span class='ee-k'>type:</span><span class='ee-v'>PixelType</span></li><li><span class='ee-k'>max:</span><span class='ee-v'>32767</span></li><li><span class='ee-k'>min:</span><span class='ee-v'>-32768</span></li><li><span class='ee-k'>precision:</span><span class='ee-v'>int</span></li></ul></li><li><label class='ee-shut'>dimensions: [8161, 7351]<input type='checkbox' class='ee-toggle'></label><ul><li><span class='ee-k'>0:</span><span class='ee-v'>8161</span></li><li><span class='ee-k'>1:</span><span class='ee-v'>7351</span></li></ul></li></ul></li><li><label class='ee-shut'>16: \"ST_URAD\", signed int16, EPSG:32618, 8161x7351 px<input type='checkbox' class='ee-toggle'></label><ul><li><span class='ee-k'>id:</span><span class='ee-v'>ST_URAD</span></li><li><span class='ee-k'>crs:</span><span class='ee-v'>EPSG:32618</span></li><li><label class='ee-shut'>crs_transform: [30, 0, 296385, 0, -30, 5207415]<input type='checkbox' class='ee-toggle'></label><ul><li><span class='ee-k'>0:</span><span class='ee-v'>30</span></li><li><span class='ee-k'>1:</span><span class='ee-v'>0</span></li><li><span class='ee-k'>2:</span><span class='ee-v'>296385</span></li><li><span class='ee-k'>3:</span><span class='ee-v'>0</span></li><li><span class='ee-k'>4:</span><span class='ee-v'>-30</span></li><li><span class='ee-k'>5:</span><span class='ee-v'>5207415</span></li></ul></li><li><label class='ee-shut'>data_type: signed int16<input type='checkbox' class='ee-toggle'></label><ul><li><span class='ee-k'>type:</span><span class='ee-v'>PixelType</span></li><li><span class='ee-k'>max:</span><span class='ee-v'>32767</span></li><li><span class='ee-k'>min:</span><span class='ee-v'>-32768</span></li><li><span class='ee-k'>precision:</span><span class='ee-v'>int</span></li></ul></li><li><label class='ee-shut'>dimensions: [8161, 7351]<input type='checkbox' class='ee-toggle'></label><ul><li><span class='ee-k'>0:</span><span class='ee-v'>8161</span></li><li><span class='ee-k'>1:</span><span class='ee-v'>7351</span></li></ul></li></ul></li><li><label class='ee-shut'>17: \"QA_PIXEL\", unsigned int16, EPSG:32618, 8161x7351 px<input type='checkbox' class='ee-toggle'></label><ul><li><span class='ee-k'>id:</span><span class='ee-v'>QA_PIXEL</span></li><li><span class='ee-k'>crs:</span><span class='ee-v'>EPSG:32618</span></li><li><label class='ee-shut'>crs_transform: [30, 0, 296385, 0, -30, 5207415]<input type='checkbox' class='ee-toggle'></label><ul><li><span class='ee-k'>0:</span><span class='ee-v'>30</span></li><li><span class='ee-k'>1:</span><span class='ee-v'>0</span></li><li><span class='ee-k'>2:</span><span class='ee-v'>296385</span></li><li><span class='ee-k'>3:</span><span class='ee-v'>0</span></li><li><span class='ee-k'>4:</span><span class='ee-v'>-30</span></li><li><span class='ee-k'>5:</span><span class='ee-v'>5207415</span></li></ul></li><li><label class='ee-shut'>data_type: unsigned int16<input type='checkbox' class='ee-toggle'></label><ul><li><span class='ee-k'>type:</span><span class='ee-v'>PixelType</span></li><li><span class='ee-k'>max:</span><span class='ee-v'>65535</span></li><li><span class='ee-k'>min:</span><span class='ee-v'>0</span></li><li><span class='ee-k'>precision:</span><span class='ee-v'>int</span></li></ul></li><li><label class='ee-shut'>dimensions: [8161, 7351]<input type='checkbox' class='ee-toggle'></label><ul><li><span class='ee-k'>0:</span><span class='ee-v'>8161</span></li><li><span class='ee-k'>1:</span><span class='ee-v'>7351</span></li></ul></li></ul></li><li><label class='ee-shut'>18: \"QA_RADSAT\", unsigned int16, EPSG:32618, 8161x7351 px<input type='checkbox' class='ee-toggle'></label><ul><li><span class='ee-k'>id:</span><span class='ee-v'>QA_RADSAT</span></li><li><span class='ee-k'>crs:</span><span class='ee-v'>EPSG:32618</span></li><li><label class='ee-shut'>crs_transform: [30, 0, 296385, 0, -30, 5207415]<input type='checkbox' class='ee-toggle'></label><ul><li><span class='ee-k'>0:</span><span class='ee-v'>30</span></li><li><span class='ee-k'>1:</span><span class='ee-v'>0</span></li><li><span class='ee-k'>2:</span><span class='ee-v'>296385</span></li><li><span class='ee-k'>3:</span><span class='ee-v'>0</span></li><li><span class='ee-k'>4:</span><span class='ee-v'>-30</span></li><li><span class='ee-k'>5:</span><span class='ee-v'>5207415</span></li></ul></li><li><label class='ee-shut'>data_type: unsigned int16<input type='checkbox' class='ee-toggle'></label><ul><li><span class='ee-k'>type:</span><span class='ee-v'>PixelType</span></li><li><span class='ee-k'>max:</span><span class='ee-v'>65535</span></li><li><span class='ee-k'>min:</span><span class='ee-v'>0</span></li><li><span class='ee-k'>precision:</span><span class='ee-v'>int</span></li></ul></li><li><label class='ee-shut'>dimensions: [8161, 7351]<input type='checkbox' class='ee-toggle'></label><ul><li><span class='ee-k'>0:</span><span class='ee-v'>8161</span></li><li><span class='ee-k'>1:</span><span class='ee-v'>7351</span></li></ul></li></ul></li></ul></li><li><label class='ee-shut'>properties: Object (104 properties)<input type='checkbox' class='ee-toggle'></label><ul><li><span class='ee-k'>ALGORITHM_SOURCE_SURFACE_REFLECTANCE:</span><span class='ee-v'>LEDAPS_3.4.0</span></li><li><span class='ee-k'>ALGORITHM_SOURCE_SURFACE_TEMPERATURE:</span><span class='ee-v'>st_1.3.0</span></li><li><span class='ee-k'>CLOUD_COVER:</span><span class='ee-v'>1</span></li><li><span class='ee-k'>CLOUD_COVER_LAND:</span><span class='ee-v'>1</span></li><li><span class='ee-k'>COLLECTION_CATEGORY:</span><span class='ee-v'>T1</span></li><li><span class='ee-k'>COLLECTION_NUMBER:</span><span class='ee-v'>2</span></li><li><span class='ee-k'>CORRECTION_BIAS_BAND_1:</span><span class='ee-v'>CPF</span></li><li><span class='ee-k'>CORRECTION_BIAS_BAND_2:</span><span class='ee-v'>CPF</span></li><li><span class='ee-k'>CORRECTION_BIAS_BAND_3:</span><span class='ee-v'>CPF</span></li><li><span class='ee-k'>CORRECTION_BIAS_BAND_4:</span><span class='ee-v'>CPF</span></li><li><span class='ee-k'>CORRECTION_BIAS_BAND_5:</span><span class='ee-v'>CPF</span></li><li><span class='ee-k'>CORRECTION_BIAS_BAND_6:</span><span class='ee-v'>CPF</span></li><li><span class='ee-k'>CORRECTION_BIAS_BAND_7:</span><span class='ee-v'>CPF</span></li><li><span class='ee-k'>CORRECTION_GAIN_BAND_1:</span><span class='ee-v'>CPF</span></li><li><span class='ee-k'>CORRECTION_GAIN_BAND_2:</span><span class='ee-v'>CPF</span></li><li><span class='ee-k'>CORRECTION_GAIN_BAND_3:</span><span class='ee-v'>CPF</span></li><li><span class='ee-k'>CORRECTION_GAIN_BAND_4:</span><span class='ee-v'>CPF</span></li><li><span class='ee-k'>CORRECTION_GAIN_BAND_5:</span><span class='ee-v'>CPF</span></li><li><span class='ee-k'>CORRECTION_GAIN_BAND_6:</span><span class='ee-v'>INTERNAL_CALIBRATION</span></li><li><span class='ee-k'>CORRECTION_GAIN_BAND_7:</span><span class='ee-v'>CPF</span></li><li><span class='ee-k'>DATA_SOURCE_AIR_TEMPERATURE:</span><span class='ee-v'>NCEP</span></li><li><span class='ee-k'>DATA_SOURCE_ELEVATION:</span><span class='ee-v'>GLS2000</span></li><li><span class='ee-k'>DATA_SOURCE_OZONE:</span><span class='ee-v'>TOMS</span></li><li><span class='ee-k'>DATA_SOURCE_PRESSURE:</span><span class='ee-v'>NCEP</span></li><li><span class='ee-k'>DATA_SOURCE_REANALYSIS:</span><span class='ee-v'>GEOS-5 FP-IT</span></li><li><span class='ee-k'>DATA_SOURCE_WATER_VAPOR:</span><span class='ee-v'>NCEP</span></li><li><span class='ee-k'>DATA_TYPE_L0RP:</span><span class='ee-v'>TMR_L0RP</span></li><li><span class='ee-k'>DATE_ACQUIRED:</span><span class='ee-v'>2011-04-07</span></li><li><span class='ee-k'>DATE_PRODUCT_GENERATED:</span><span class='ee-v'>1598142512000</span></li><li><span class='ee-k'>DATUM:</span><span class='ee-v'>WGS84</span></li><li><span class='ee-k'>EARTH_SUN_DISTANCE:</span><span class='ee-v'>1.0009801</span></li><li><span class='ee-k'>ELLIPSOID:</span><span class='ee-v'>WGS84</span></li><li><span class='ee-k'>EPHEMERIS_TYPE:</span><span class='ee-v'>DEFINITIVE</span></li><li><span class='ee-k'>GEOMETRIC_RMSE_MODEL:</span><span class='ee-v'>4.693</span></li><li><span class='ee-k'>GEOMETRIC_RMSE_MODEL_X:</span><span class='ee-v'>3.307</span></li><li><span class='ee-k'>GEOMETRIC_RMSE_MODEL_Y:</span><span class='ee-v'>3.33</span></li><li><span class='ee-k'>GEOMETRIC_RMSE_VERIFY:</span><span class='ee-v'>0.36</span></li><li><span class='ee-k'>GEOMETRIC_RMSE_VERIFY_QUAD_LL:</span><span class='ee-v'>0.318</span></li><li><span class='ee-k'>GEOMETRIC_RMSE_VERIFY_QUAD_LR:</span><span class='ee-v'>0.308</span></li><li><span class='ee-k'>GEOMETRIC_RMSE_VERIFY_QUAD_UL:</span><span class='ee-v'>0.432</span></li><li><span class='ee-k'>GEOMETRIC_RMSE_VERIFY_QUAD_UR:</span><span class='ee-v'>0.403</span></li><li><span class='ee-k'>GRID_CELL_SIZE_REFLECTIVE:</span><span class='ee-v'>30</span></li><li><span class='ee-k'>GRID_CELL_SIZE_THERMAL:</span><span class='ee-v'>30</span></li><li><span class='ee-k'>GROUND_CONTROL_POINTS_MODEL:</span><span class='ee-v'>681</span></li><li><span class='ee-k'>GROUND_CONTROL_POINTS_VERIFY:</span><span class='ee-v'>2366</span></li><li><span class='ee-k'>GROUND_CONTROL_POINTS_VERSION:</span><span class='ee-v'>5</span></li><li><span class='ee-k'>IMAGE_QUALITY:</span><span class='ee-v'>9</span></li><li><span class='ee-k'>L1_DATE_PRODUCT_GENERATED:</span><span class='ee-v'>2020-08-23T00:07:55Z</span></li><li><span class='ee-k'>L1_LANDSAT_PRODUCT_ID:</span><span class='ee-v'>LT05_L1TP_016028_20110407_20200823_02_T1</span></li><li><span class='ee-k'>L1_PROCESSING_LEVEL:</span><span class='ee-v'>L1TP</span></li><li><span class='ee-k'>L1_PROCESSING_SOFTWARE_VERSION:</span><span class='ee-v'>LPGS_15.3.1c</span></li><li><span class='ee-k'>L1_REQUEST_ID:</span><span class='ee-v'>L2</span></li><li><span class='ee-k'>LANDSAT_PRODUCT_ID:</span><span class='ee-v'>LT05_L2SP_016028_20110407_20200823_02_T1</span></li><li><span class='ee-k'>LANDSAT_SCENE_ID:</span><span class='ee-v'>LT50160282011097GNC01</span></li><li><span class='ee-k'>MAP_PROJECTION:</span><span class='ee-v'>UTM</span></li><li><span class='ee-k'>ORIENTATION:</span><span class='ee-v'>NORTH_UP</span></li><li><span class='ee-k'>PROCESSING_LEVEL:</span><span class='ee-v'>L2SP</span></li><li><span class='ee-k'>PROCESSING_SOFTWARE_VERSION:</span><span class='ee-v'>LPGS_15.3.1c</span></li><li><span class='ee-k'>REFLECTANCE_ADD_BAND_1:</span><span class='ee-v'>-0.2</span></li><li><span class='ee-k'>REFLECTANCE_ADD_BAND_2:</span><span class='ee-v'>-0.2</span></li><li><span class='ee-k'>REFLECTANCE_ADD_BAND_3:</span><span class='ee-v'>-0.2</span></li><li><span class='ee-k'>REFLECTANCE_ADD_BAND_4:</span><span class='ee-v'>-0.2</span></li><li><span class='ee-k'>REFLECTANCE_ADD_BAND_5:</span><span class='ee-v'>-0.2</span></li><li><span class='ee-k'>REFLECTANCE_ADD_BAND_7:</span><span class='ee-v'>-0.2</span></li><li><span class='ee-k'>REFLECTANCE_MULT_BAND_1:</span><span class='ee-v'>2.75e-05</span></li><li><span class='ee-k'>REFLECTANCE_MULT_BAND_2:</span><span class='ee-v'>2.75e-05</span></li><li><span class='ee-k'>REFLECTANCE_MULT_BAND_3:</span><span class='ee-v'>2.75e-05</span></li><li><span class='ee-k'>REFLECTANCE_MULT_BAND_4:</span><span class='ee-v'>2.75e-05</span></li><li><span class='ee-k'>REFLECTANCE_MULT_BAND_5:</span><span class='ee-v'>2.75e-05</span></li><li><span class='ee-k'>REFLECTANCE_MULT_BAND_7:</span><span class='ee-v'>2.75e-05</span></li><li><span class='ee-k'>REFLECTIVE_LINES:</span><span class='ee-v'>7351</span></li><li><span class='ee-k'>REFLECTIVE_SAMPLES:</span><span class='ee-v'>8161</span></li><li><span class='ee-k'>REQUEST_ID:</span><span class='ee-v'>L2</span></li><li><span class='ee-k'>SATURATION_BAND_1:</span><span class='ee-v'>Y</span></li><li><span class='ee-k'>SATURATION_BAND_2:</span><span class='ee-v'>Y</span></li><li><span class='ee-k'>SATURATION_BAND_3:</span><span class='ee-v'>Y</span></li><li><span class='ee-k'>SATURATION_BAND_4:</span><span class='ee-v'>Y</span></li><li><span class='ee-k'>SATURATION_BAND_5:</span><span class='ee-v'>Y</span></li><li><span class='ee-k'>SATURATION_BAND_6:</span><span class='ee-v'>N</span></li><li><span class='ee-k'>SATURATION_BAND_7:</span><span class='ee-v'>Y</span></li><li><span class='ee-k'>SCENE_CENTER_TIME:</span><span class='ee-v'>15:40:26.7500250Z</span></li><li><span class='ee-k'>SENSOR_ANOMALIES:</span><span class='ee-v'>NONE</span></li><li><span class='ee-k'>SENSOR_ID:</span><span class='ee-v'>TM</span></li><li><span class='ee-k'>SENSOR_MODE:</span><span class='ee-v'>BUMPER</span></li><li><span class='ee-k'>SENSOR_MODE_SLC:</span><span class='ee-v'>ON</span></li><li><span class='ee-k'>SPACECRAFT_ID:</span><span class='ee-v'>LANDSAT_5</span></li><li><span class='ee-k'>STATION_ID:</span><span class='ee-v'>GNC</span></li><li><span class='ee-k'>SUN_AZIMUTH:</span><span class='ee-v'>147.99827241</span></li><li><span class='ee-k'>SUN_ELEVATION:</span><span class='ee-v'>46.66876622</span></li><li><span class='ee-k'>TEMPERATURE_ADD_BAND_ST_B6:</span><span class='ee-v'>149</span></li><li><span class='ee-k'>TEMPERATURE_MAXIMUM_BAND_ST_B6:</span><span class='ee-v'>372.999941</span></li><li><span class='ee-k'>TEMPERATURE_MINIMUM_BAND_ST_B6:</span><span class='ee-v'>149.003418</span></li><li><span class='ee-k'>TEMPERATURE_MULT_BAND_ST_B6:</span><span class='ee-v'>0.00341802</span></li><li><span class='ee-k'>THERMAL_LINES:</span><span class='ee-v'>7351</span></li><li><span class='ee-k'>THERMAL_SAMPLES:</span><span class='ee-v'>8161</span></li><li><span class='ee-k'>UTM_ZONE:</span><span class='ee-v'>18</span></li><li><span class='ee-k'>WRS_PATH:</span><span class='ee-v'>16</span></li><li><span class='ee-k'>WRS_ROW:</span><span class='ee-v'>28</span></li><li><span class='ee-k'>WRS_TYPE:</span><span class='ee-v'>2</span></li><li><span class='ee-k'>system:asset_size:</span><span class='ee-v'>676050703</span></li><li><label class='ee-shut'>system:footprint: LinearRing (22 vertices)<input type='checkbox' class='ee-toggle'></label><ul><li><span class='ee-k'>type:</span><span class='ee-v'>LinearRing</span></li><li><label class='ee-shut'>coordinates: List (22 elements)<input type='checkbox' class='ee-toggle'></label><ul><li><label class='ee-shut'>0: [-74.5428999159706, 46.63289501547805]<input type='checkbox' class='ee-toggle'></label><ul><li><span class='ee-k'>0:</span><span class='ee-v'>-74.5428999159706</span></li><li><span class='ee-k'>1:</span><span class='ee-v'>46.63289501547805</span></li></ul></li><li><label class='ee-shut'>1: [-74.6906179513527, 46.655910158512974]<input type='checkbox' class='ee-toggle'></label><ul><li><span class='ee-k'>0:</span><span class='ee-v'>-74.6906179513527</span></li><li><span class='ee-k'>1:</span><span class='ee-v'>46.655910158512974</span></li></ul></li><li><label class='ee-shut'>2: [-75.41425789045495, 46.765598236188886]<input type='checkbox' class='ee-toggle'></label><ul><li><span class='ee-k'>0:</span><span class='ee-v'>-75.41425789045495</span></li><li><span class='ee-k'>1:</span><span class='ee-v'>46.765598236188886</span></li></ul></li><li><label class='ee-shut'>3: [-76.99639446643498, 46.98794245289513]<input type='checkbox' class='ee-toggle'></label><ul><li><span class='ee-k'>0:</span><span class='ee-v'>-76.99639446643498</span></li><li><span class='ee-k'>1:</span><span class='ee-v'>46.98794245289513</span></li></ul></li><li><label class='ee-shut'>4: [-76.99861044761232, 46.9851242964512]<input type='checkbox' class='ee-toggle'></label><ul><li><span class='ee-k'>0:</span><span class='ee-v'>-76.99861044761232</span></li><li><span class='ee-k'>1:</span><span class='ee-v'>46.9851242964512</span></li></ul></li><li><label class='ee-shut'>5: [-77.25065276852672, 46.27084509451875]<input type='checkbox' class='ee-toggle'></label><ul><li><span class='ee-k'>0:</span><span class='ee-v'>-77.25065276852672</span></li><li><span class='ee-k'>1:</span><span class='ee-v'>46.27084509451875</span></li></ul></li><li><label class='ee-shut'>6: [-77.49384425029781, 45.56400851722484]<input type='checkbox' class='ee-toggle'></label><ul><li><span class='ee-k'>0:</span><span class='ee-v'>-77.49384425029781</span></li><li><span class='ee-k'>1:</span><span class='ee-v'>45.56400851722484</span></li></ul></li><li><label class='ee-shut'>7: [-77.54303704336687, 45.41871996156914]<input type='checkbox' class='ee-toggle'></label><ul><li><span class='ee-k'>0:</span><span class='ee-v'>-77.54303704336687</span></li><li><span class='ee-k'>1:</span><span class='ee-v'>45.41871996156914</span></li></ul></li><li><label class='ee-shut'>8: [-77.54582685558312, 45.40964980829832]<input type='checkbox' class='ee-toggle'></label><ul><li><span class='ee-k'>0:</span><span class='ee-v'>-77.54582685558312</span></li><li><span class='ee-k'>1:</span><span class='ee-v'>45.40964980829832</span></li></ul></li><li><label class='ee-shut'>9: [-77.54515092800081, 45.40920293003552]<input type='checkbox' class='ee-toggle'></label><ul><li><span class='ee-k'>0:</span><span class='ee-v'>-77.54515092800081</span></li><li><span class='ee-k'>1:</span><span class='ee-v'>45.40920293003552</span></li></ul></li><li><label class='ee-shut'>10: [-77.53146969403275, 45.404617130071635]<input type='checkbox' class='ee-toggle'></label><ul><li><span class='ee-k'>0:</span><span class='ee-v'>-77.53146969403275</span></li><li><span class='ee-k'>1:</span><span class='ee-v'>45.404617130071635</span></li></ul></li><li><label class='ee-shut'>11: [-77.3459576481995, 45.37967200772975]<input type='checkbox' class='ee-toggle'></label><ul><li><span class='ee-k'>0:</span><span class='ee-v'>-77.3459576481995</span></li><li><span class='ee-k'>1:</span><span class='ee-v'>45.37967200772975</span></li></ul></li><li><label class='ee-shut'>12: [-76.2474479057635, 45.22548000901243]<input type='checkbox' class='ee-toggle'></label><ul><li><span class='ee-k'>0:</span><span class='ee-v'>-76.2474479057635</span></li><li><span class='ee-k'>1:</span><span class='ee-v'>45.22548000901243</span></li></ul></li><li><label class='ee-shut'>13: [-75.12921823258858, 45.05673250433911]<input type='checkbox' class='ee-toggle'></label><ul><li><span class='ee-k'>0:</span><span class='ee-v'>-75.12921823258858</span></li><li><span class='ee-k'>1:</span><span class='ee-v'>45.05673250433911</span></li></ul></li><li><label class='ee-shut'>14: [-75.02801828722417, 45.31943647353724]<input type='checkbox' class='ee-toggle'></label><ul><li><span class='ee-k'>0:</span><span class='ee-v'>-75.02801828722417</span></li><li><span class='ee-k'>1:</span><span class='ee-v'>45.31943647353724</span></li></ul></li><li><label class='ee-shut'>15: [-74.95899098824464, 45.49765799669057]<input type='checkbox' class='ee-toggle'></label><ul><li><span class='ee-k'>0:</span><span class='ee-v'>-74.95899098824464</span></li><li><span class='ee-k'>1:</span><span class='ee-v'>45.49765799669057</span></li></ul></li><li><label class='ee-shut'>16: [-74.90306771987103, 45.64128074987495]<input type='checkbox' class='ee-toggle'></label><ul><li><span class='ee-k'>0:</span><span class='ee-v'>-74.90306771987103</span></li><li><span class='ee-k'>1:</span><span class='ee-v'>45.64128074987495</span></li></ul></li><li><label class='ee-shut'>17: [-74.78370999501789, 45.946240075048344]<input type='checkbox' class='ee-toggle'></label><ul><li><span class='ee-k'>0:</span><span class='ee-v'>-74.78370999501789</span></li><li><span class='ee-k'>1:</span><span class='ee-v'>45.946240075048344</span></li></ul></li><li><label class='ee-shut'>18: [-74.68356517487383, 46.199543300466]<input type='checkbox' class='ee-toggle'></label><ul><li><span class='ee-k'>0:</span><span class='ee-v'>-74.68356517487383</span></li><li><span class='ee-k'>1:</span><span class='ee-v'>46.199543300466</span></li></ul></li><li><label class='ee-shut'>19: [-74.65314244270913, 46.27613497721832]<input type='checkbox' class='ee-toggle'></label><ul><li><span class='ee-k'>0:</span><span class='ee-v'>-74.65314244270913</span></li><li><span class='ee-k'>1:</span><span class='ee-v'>46.27613497721832</span></li></ul></li><li><label class='ee-shut'>20: [-74.5134412282005, 46.62609210687175]<input type='checkbox' class='ee-toggle'></label><ul><li><span class='ee-k'>0:</span><span class='ee-v'>-74.5134412282005</span></li><li><span class='ee-k'>1:</span><span class='ee-v'>46.62609210687175</span></li></ul></li><li><label class='ee-shut'>21: [-74.5428999159706, 46.63289501547805]<input type='checkbox' class='ee-toggle'></label><ul><li><span class='ee-k'>0:</span><span class='ee-v'>-74.5428999159706</span></li><li><span class='ee-k'>1:</span><span class='ee-v'>46.63289501547805</span></li></ul></li></ul></li></ul></li><li><span class='ee-k'>system:index:</span><span class='ee-v'>LT05_016028_20110407</span></li><li><span class='ee-k'>system:time_end:</span><span class='ee-v'>1302190826750</span></li><li><span class='ee-k'>system:time_start:</span><span class='ee-v'>1302190826750</span></li></ul></li></ul></li></ul></li></ul></li></ul></div><script>function toggleHeader() {\n",
       "    const parent = this.parentElement;\n",
       "    parent.className = parent.className === \"ee-open\" ? \"ee-shut\" : \"ee-open\";\n",
       "}\n",
       "\n",
       "for (let c of document.getElementsByClassName(\"ee-toggle\")) {\n",
       "    c.onclick = toggleHeader;\n",
       "}</script></div>"
      ],
      "text/plain": [
       "<ee.imagecollection.ImageCollection at 0x1e5440d3b90>"
      ]
     },
     "execution_count": 139,
     "metadata": {},
     "output_type": "execute_result"
    }
   ],
   "source": [
    "CarletonU = ee.Geometry.Point(-75.69,45.38)\n",
    "\n",
    "L5_Carleton_S2011 = ee.ImageCollection(\"LANDSAT/LT05/C02/T1_L2\")\\\n",
    "                              .filterBounds(CarletonU)\\\n",
    "                              .filterDate('2011-04-01', '2011-04-30')\n",
    "L5_Carleton_S2011.size().getInfo()"
   ]
  },
  {
   "cell_type": "code",
   "execution_count": 138,
   "metadata": {},
   "outputs": [
    {
     "data": {
      "text/html": [
       "\n",
       "            <style>\n",
       "                .geemap-dark {\n",
       "                    --jp-widgets-color: white;\n",
       "                    --jp-widgets-label-color: white;\n",
       "                    --jp-ui-font-color1: white;\n",
       "                    --jp-layout-color2: #454545;\n",
       "                    background-color: #383838;\n",
       "                }\n",
       "\n",
       "                .geemap-dark .jupyter-button {\n",
       "                    --jp-layout-color3: #383838;\n",
       "                }\n",
       "\n",
       "                .geemap-colab {\n",
       "                    background-color: var(--colab-primary-surface-color, white);\n",
       "                }\n",
       "\n",
       "                .geemap-colab .jupyter-button {\n",
       "                    --jp-layout-color3: var(--colab-primary-surface-color, white);\n",
       "                }\n",
       "            </style>\n",
       "            "
      ],
      "text/plain": [
       "<IPython.core.display.HTML object>"
      ]
     },
     "metadata": {},
     "output_type": "display_data"
    },
    {
     "data": {
      "application/vnd.jupyter.widget-view+json": {
       "model_id": "44da8d1890cf47e7a827e61a582b67c1",
       "version_major": 2,
       "version_minor": 0
      },
      "text/plain": [
       "Map(center=[45.38, -75.69], controls=(WidgetControl(options=['position', 'transparent_bg'], widget=SearchDataG…"
      ]
     },
     "execution_count": 138,
     "metadata": {},
     "output_type": "execute_result"
    }
   ],
   "source": [
    "L5_Carleton_S2011 = L5_Carleton_S2011.filterDate('2011-04-01', '2011-04-30')\\\n",
    "                              .filter(ee.Filter.gte('IMAGE_QUALITY',8))\\\n",
    "                              .filterMetadata('CLOUD_COVER', \"less_than\", 30)\n",
    "\n",
    "def apply_scale_factors(image):\n",
    "    optical_bands = image.select('SR_B.*').multiply(0.0000275).add(-0.2)\n",
    "    thermal_band = image.select('ST_B6').multiply(0.00341802).add(149.0)\n",
    "    return image.addBands(optical_bands, overwrite=True).addBands(thermal_band, overwrite=True)\n",
    "\n",
    "# Apply the scaling function to each image in the dataset\n",
    "L5_Carleton_S2011 = L5_Carleton_S2011.map(apply_scale_factors)\n",
    "\n",
    "# Visualization parameters\n",
    "visualization = {\n",
    "    'bands': ['SR_B3', 'SR_B2', 'SR_B1'],\n",
    "    'min': 0.0,\n",
    "    'max': 0.3,\n",
    "}\n",
    "L5_Carleton_S2011 = L5_Carleton_S2011.first()\n",
    "\n",
    "Map = geemap.Map()\n",
    "Map.addLayer(L5_Carleton_S2020, landsatVis, 'Landsat over Carleton')\n",
    "Map.addLayerControl()\n",
    "Map.setCenter(-75.69,45.38, 13)\n",
    "Map"
   ]
  },
  {
   "cell_type": "code",
   "execution_count": 127,
   "metadata": {
    "scrolled": true
   },
   "outputs": [
    {
     "data": {
      "text/html": [
       "\n",
       "            <style>\n",
       "                .geemap-dark {\n",
       "                    --jp-widgets-color: white;\n",
       "                    --jp-widgets-label-color: white;\n",
       "                    --jp-ui-font-color1: white;\n",
       "                    --jp-layout-color2: #454545;\n",
       "                    background-color: #383838;\n",
       "                }\n",
       "\n",
       "                .geemap-dark .jupyter-button {\n",
       "                    --jp-layout-color3: #383838;\n",
       "                }\n",
       "\n",
       "                .geemap-colab {\n",
       "                    background-color: var(--colab-primary-surface-color, white);\n",
       "                }\n",
       "\n",
       "                .geemap-colab .jupyter-button {\n",
       "                    --jp-layout-color3: var(--colab-primary-surface-color, white);\n",
       "                }\n",
       "            </style>\n",
       "            "
      ],
      "text/plain": [
       "<IPython.core.display.HTML object>"
      ]
     },
     "metadata": {},
     "output_type": "display_data"
    },
    {
     "data": {
      "text/html": [
       "<div><style>:root {\n",
       "  --font-color-primary: var(--jp-content-font-color0, rgba(0, 0, 0, 1));\n",
       "  --font-color-secondary: var(--jp-content-font-color2, rgba(0, 0, 0, 0.6));\n",
       "  --font-color-accent: rgba(123, 31, 162, 1);\n",
       "  --border-color: var(--jp-border-color2, #e0e0e0);\n",
       "  --background-color: var(--jp-layout-color0, white);\n",
       "  --background-color-row-even: var(--jp-layout-color1, white);\n",
       "  --background-color-row-odd: var(--jp-layout-color2, #eeeeee);\n",
       "}\n",
       "\n",
       "html[theme=\"dark\"],\n",
       "body[data-theme=\"dark\"],\n",
       "body.vscode-dark {\n",
       "  --font-color-primary: rgba(255, 255, 255, 1);\n",
       "  --font-color-secondary: rgba(255, 255, 255, 0.6);\n",
       "  --font-color-accent: rgb(173, 132, 190);\n",
       "  --border-color: #2e2e2e;\n",
       "  --background-color: #111111;\n",
       "  --background-color-row-even: #111111;\n",
       "  --background-color-row-odd: #313131;\n",
       "}\n",
       "\n",
       ".ee {\n",
       "  padding: 1em;\n",
       "  line-height: 1.5em;\n",
       "  min-width: 300px;\n",
       "  max-width: 1200px;\n",
       "  overflow-y: scroll;\n",
       "  max-height: 600px;\n",
       "  border: 1px solid var(--border-color);\n",
       "  font-family: monospace;\n",
       "}\n",
       "\n",
       ".ee li {\n",
       "  list-style-type: none;\n",
       "}\n",
       "\n",
       ".ee ul {\n",
       "  padding-left: 1.5em !important;\n",
       "  margin: 0;\n",
       "}\n",
       "\n",
       ".ee > ul {\n",
       "  padding-left: 0 !important;\n",
       "}\n",
       "\n",
       ".ee-open,\n",
       ".ee-shut {\n",
       "  color: var(--font-color-secondary);\n",
       "  cursor: pointer;\n",
       "  margin: 0;\n",
       "}\n",
       "\n",
       ".ee-open:hover,\n",
       ".ee-shut:hover {\n",
       "  color: var(--font-color-primary);\n",
       "}\n",
       "\n",
       ".ee-k {\n",
       "  color: var(--font-color-accent);\n",
       "  margin-right: 6px;\n",
       "}\n",
       "\n",
       ".ee-v {\n",
       "  color: var(--font-color-primary);\n",
       "}\n",
       "\n",
       ".ee-toggle {\n",
       "  display: none;\n",
       "}\n",
       "\n",
       ".ee-shut + ul {\n",
       "  display: none;\n",
       "}\n",
       "\n",
       ".ee-open + ul {\n",
       "  display: block;\n",
       "}\n",
       "\n",
       ".ee-shut::before {\n",
       "  display: inline-block;\n",
       "  content: \"▼\";\n",
       "  margin-right: 6px;\n",
       "  transform: rotate(-90deg);\n",
       "  transition: transform 0.2s;\n",
       "}\n",
       "\n",
       ".ee-open::before {\n",
       "  transform: rotate(0deg);\n",
       "  display: inline-block;\n",
       "  content: \"▼\";\n",
       "  margin-right: 6px;\n",
       "  transition: transform 0.2s;\n",
       "}\n",
       "</style><div class='ee'><ul><li><label class='ee-shut'>Object (108 properties)<input type='checkbox' class='ee-toggle'></label><ul><li><span class='ee-k'>ALGORITHM_SOURCE_SURFACE_REFLECTANCE:</span><span class='ee-v'>LEDAPS_3.4.0</span></li><li><span class='ee-k'>ALGORITHM_SOURCE_SURFACE_TEMPERATURE:</span><span class='ee-v'>st_1.3.0</span></li><li><span class='ee-k'>CLOUD_COVER:</span><span class='ee-v'>1</span></li><li><span class='ee-k'>CLOUD_COVER_LAND:</span><span class='ee-v'>1</span></li><li><span class='ee-k'>COLLECTION_CATEGORY:</span><span class='ee-v'>T1</span></li><li><span class='ee-k'>COLLECTION_NUMBER:</span><span class='ee-v'>2</span></li><li><span class='ee-k'>CORRECTION_BIAS_BAND_1:</span><span class='ee-v'>CPF</span></li><li><span class='ee-k'>CORRECTION_BIAS_BAND_2:</span><span class='ee-v'>CPF</span></li><li><span class='ee-k'>CORRECTION_BIAS_BAND_3:</span><span class='ee-v'>CPF</span></li><li><span class='ee-k'>CORRECTION_BIAS_BAND_4:</span><span class='ee-v'>CPF</span></li><li><span class='ee-k'>CORRECTION_BIAS_BAND_5:</span><span class='ee-v'>CPF</span></li><li><span class='ee-k'>CORRECTION_BIAS_BAND_6:</span><span class='ee-v'>CPF</span></li><li><span class='ee-k'>CORRECTION_BIAS_BAND_7:</span><span class='ee-v'>CPF</span></li><li><span class='ee-k'>CORRECTION_GAIN_BAND_1:</span><span class='ee-v'>CPF</span></li><li><span class='ee-k'>CORRECTION_GAIN_BAND_2:</span><span class='ee-v'>CPF</span></li><li><span class='ee-k'>CORRECTION_GAIN_BAND_3:</span><span class='ee-v'>CPF</span></li><li><span class='ee-k'>CORRECTION_GAIN_BAND_4:</span><span class='ee-v'>CPF</span></li><li><span class='ee-k'>CORRECTION_GAIN_BAND_5:</span><span class='ee-v'>CPF</span></li><li><span class='ee-k'>CORRECTION_GAIN_BAND_6:</span><span class='ee-v'>INTERNAL_CALIBRATION</span></li><li><span class='ee-k'>CORRECTION_GAIN_BAND_7:</span><span class='ee-v'>CPF</span></li><li><span class='ee-k'>DATA_SOURCE_AIR_TEMPERATURE:</span><span class='ee-v'>NCEP</span></li><li><span class='ee-k'>DATA_SOURCE_ELEVATION:</span><span class='ee-v'>GLS2000</span></li><li><span class='ee-k'>DATA_SOURCE_OZONE:</span><span class='ee-v'>TOMS</span></li><li><span class='ee-k'>DATA_SOURCE_PRESSURE:</span><span class='ee-v'>NCEP</span></li><li><span class='ee-k'>DATA_SOURCE_REANALYSIS:</span><span class='ee-v'>GEOS-5 FP-IT</span></li><li><span class='ee-k'>DATA_SOURCE_WATER_VAPOR:</span><span class='ee-v'>NCEP</span></li><li><span class='ee-k'>DATA_TYPE_L0RP:</span><span class='ee-v'>TMR_L0RP</span></li><li><span class='ee-k'>DATE_ACQUIRED:</span><span class='ee-v'>2011-04-07</span></li><li><span class='ee-k'>DATE_PRODUCT_GENERATED:</span><span class='ee-v'>1598142512000</span></li><li><span class='ee-k'>DATUM:</span><span class='ee-v'>WGS84</span></li><li><span class='ee-k'>EARTH_SUN_DISTANCE:</span><span class='ee-v'>1.0009801</span></li><li><span class='ee-k'>ELLIPSOID:</span><span class='ee-v'>WGS84</span></li><li><span class='ee-k'>EPHEMERIS_TYPE:</span><span class='ee-v'>DEFINITIVE</span></li><li><span class='ee-k'>GEOMETRIC_RMSE_MODEL:</span><span class='ee-v'>4.693</span></li><li><span class='ee-k'>GEOMETRIC_RMSE_MODEL_X:</span><span class='ee-v'>3.307</span></li><li><span class='ee-k'>GEOMETRIC_RMSE_MODEL_Y:</span><span class='ee-v'>3.33</span></li><li><span class='ee-k'>GEOMETRIC_RMSE_VERIFY:</span><span class='ee-v'>0.36</span></li><li><span class='ee-k'>GEOMETRIC_RMSE_VERIFY_QUAD_LL:</span><span class='ee-v'>0.318</span></li><li><span class='ee-k'>GEOMETRIC_RMSE_VERIFY_QUAD_LR:</span><span class='ee-v'>0.308</span></li><li><span class='ee-k'>GEOMETRIC_RMSE_VERIFY_QUAD_UL:</span><span class='ee-v'>0.432</span></li><li><span class='ee-k'>GEOMETRIC_RMSE_VERIFY_QUAD_UR:</span><span class='ee-v'>0.403</span></li><li><span class='ee-k'>GRID_CELL_SIZE_REFLECTIVE:</span><span class='ee-v'>30</span></li><li><span class='ee-k'>GRID_CELL_SIZE_THERMAL:</span><span class='ee-v'>30</span></li><li><span class='ee-k'>GROUND_CONTROL_POINTS_MODEL:</span><span class='ee-v'>681</span></li><li><span class='ee-k'>GROUND_CONTROL_POINTS_VERIFY:</span><span class='ee-v'>2366</span></li><li><span class='ee-k'>GROUND_CONTROL_POINTS_VERSION:</span><span class='ee-v'>5</span></li><li><span class='ee-k'>IMAGE_DATE:</span><span class='ee-v'>2011-04-07</span></li><li><span class='ee-k'>IMAGE_QUALITY:</span><span class='ee-v'>9</span></li><li><span class='ee-k'>L1_DATE_PRODUCT_GENERATED:</span><span class='ee-v'>2020-08-23T00:07:55Z</span></li><li><span class='ee-k'>L1_LANDSAT_PRODUCT_ID:</span><span class='ee-v'>LT05_L1TP_016028_20110407_20200823_02_T1</span></li><li><span class='ee-k'>L1_PROCESSING_LEVEL:</span><span class='ee-v'>L1TP</span></li><li><span class='ee-k'>L1_PROCESSING_SOFTWARE_VERSION:</span><span class='ee-v'>LPGS_15.3.1c</span></li><li><span class='ee-k'>L1_REQUEST_ID:</span><span class='ee-v'>L2</span></li><li><span class='ee-k'>LANDSAT_PRODUCT_ID:</span><span class='ee-v'>LT05_L2SP_016028_20110407_20200823_02_T1</span></li><li><span class='ee-k'>LANDSAT_SCENE_ID:</span><span class='ee-v'>LT50160282011097GNC01</span></li><li><span class='ee-k'>MAP_PROJECTION:</span><span class='ee-v'>UTM</span></li><li><span class='ee-k'>NOMINAL_SCALE:</span><span class='ee-v'>30</span></li><li><span class='ee-k'>ORIENTATION:</span><span class='ee-v'>NORTH_UP</span></li><li><span class='ee-k'>PROCESSING_LEVEL:</span><span class='ee-v'>L2SP</span></li><li><span class='ee-k'>PROCESSING_SOFTWARE_VERSION:</span><span class='ee-v'>LPGS_15.3.1c</span></li><li><span class='ee-k'>REFLECTANCE_ADD_BAND_1:</span><span class='ee-v'>-0.2</span></li><li><span class='ee-k'>REFLECTANCE_ADD_BAND_2:</span><span class='ee-v'>-0.2</span></li><li><span class='ee-k'>REFLECTANCE_ADD_BAND_3:</span><span class='ee-v'>-0.2</span></li><li><span class='ee-k'>REFLECTANCE_ADD_BAND_4:</span><span class='ee-v'>-0.2</span></li><li><span class='ee-k'>REFLECTANCE_ADD_BAND_5:</span><span class='ee-v'>-0.2</span></li><li><span class='ee-k'>REFLECTANCE_ADD_BAND_7:</span><span class='ee-v'>-0.2</span></li><li><span class='ee-k'>REFLECTANCE_MULT_BAND_1:</span><span class='ee-v'>2.75e-05</span></li><li><span class='ee-k'>REFLECTANCE_MULT_BAND_2:</span><span class='ee-v'>2.75e-05</span></li><li><span class='ee-k'>REFLECTANCE_MULT_BAND_3:</span><span class='ee-v'>2.75e-05</span></li><li><span class='ee-k'>REFLECTANCE_MULT_BAND_4:</span><span class='ee-v'>2.75e-05</span></li><li><span class='ee-k'>REFLECTANCE_MULT_BAND_5:</span><span class='ee-v'>2.75e-05</span></li><li><span class='ee-k'>REFLECTANCE_MULT_BAND_7:</span><span class='ee-v'>2.75e-05</span></li><li><span class='ee-k'>REFLECTIVE_LINES:</span><span class='ee-v'>7351</span></li><li><span class='ee-k'>REFLECTIVE_SAMPLES:</span><span class='ee-v'>8161</span></li><li><span class='ee-k'>REQUEST_ID:</span><span class='ee-v'>L2</span></li><li><span class='ee-k'>SATURATION_BAND_1:</span><span class='ee-v'>Y</span></li><li><span class='ee-k'>SATURATION_BAND_2:</span><span class='ee-v'>Y</span></li><li><span class='ee-k'>SATURATION_BAND_3:</span><span class='ee-v'>Y</span></li><li><span class='ee-k'>SATURATION_BAND_4:</span><span class='ee-v'>Y</span></li><li><span class='ee-k'>SATURATION_BAND_5:</span><span class='ee-v'>Y</span></li><li><span class='ee-k'>SATURATION_BAND_6:</span><span class='ee-v'>N</span></li><li><span class='ee-k'>SATURATION_BAND_7:</span><span class='ee-v'>Y</span></li><li><span class='ee-k'>SCENE_CENTER_TIME:</span><span class='ee-v'>15:40:26.7500250Z</span></li><li><span class='ee-k'>SENSOR_ANOMALIES:</span><span class='ee-v'>NONE</span></li><li><span class='ee-k'>SENSOR_ID:</span><span class='ee-v'>TM</span></li><li><span class='ee-k'>SENSOR_MODE:</span><span class='ee-v'>BUMPER</span></li><li><span class='ee-k'>SENSOR_MODE_SLC:</span><span class='ee-v'>ON</span></li><li><span class='ee-k'>SPACECRAFT_ID:</span><span class='ee-v'>LANDSAT_5</span></li><li><span class='ee-k'>STATION_ID:</span><span class='ee-v'>GNC</span></li><li><span class='ee-k'>SUN_AZIMUTH:</span><span class='ee-v'>147.99827241</span></li><li><span class='ee-k'>SUN_ELEVATION:</span><span class='ee-v'>46.66876622</span></li><li><span class='ee-k'>TEMPERATURE_ADD_BAND_ST_B6:</span><span class='ee-v'>149</span></li><li><span class='ee-k'>TEMPERATURE_MAXIMUM_BAND_ST_B6:</span><span class='ee-v'>372.999941</span></li><li><span class='ee-k'>TEMPERATURE_MINIMUM_BAND_ST_B6:</span><span class='ee-v'>149.003418</span></li><li><span class='ee-k'>TEMPERATURE_MULT_BAND_ST_B6:</span><span class='ee-v'>0.00341802</span></li><li><span class='ee-k'>THERMAL_LINES:</span><span class='ee-v'>7351</span></li><li><span class='ee-k'>THERMAL_SAMPLES:</span><span class='ee-v'>8161</span></li><li><span class='ee-k'>UTM_ZONE:</span><span class='ee-v'>18</span></li><li><span class='ee-k'>WRS_PATH:</span><span class='ee-v'>16</span></li><li><span class='ee-k'>WRS_ROW:</span><span class='ee-v'>28</span></li><li><span class='ee-k'>WRS_TYPE:</span><span class='ee-v'>2</span></li><li><span class='ee-k'>system:asset_size:</span><span class='ee-v'>676.050703 MB</span></li><li><label class='ee-shut'>system:band_names: List (19 elements)<input type='checkbox' class='ee-toggle'></label><ul><li><span class='ee-k'>0:</span><span class='ee-v'>SR_B1</span></li><li><span class='ee-k'>1:</span><span class='ee-v'>SR_B2</span></li><li><span class='ee-k'>2:</span><span class='ee-v'>SR_B3</span></li><li><span class='ee-k'>3:</span><span class='ee-v'>SR_B4</span></li><li><span class='ee-k'>4:</span><span class='ee-v'>SR_B5</span></li><li><span class='ee-k'>5:</span><span class='ee-v'>SR_B7</span></li><li><span class='ee-k'>6:</span><span class='ee-v'>SR_ATMOS_OPACITY</span></li><li><span class='ee-k'>7:</span><span class='ee-v'>SR_CLOUD_QA</span></li><li><span class='ee-k'>8:</span><span class='ee-v'>ST_B6</span></li><li><span class='ee-k'>9:</span><span class='ee-v'>ST_ATRAN</span></li><li><span class='ee-k'>10:</span><span class='ee-v'>ST_CDIST</span></li><li><span class='ee-k'>11:</span><span class='ee-v'>ST_DRAD</span></li><li><span class='ee-k'>12:</span><span class='ee-v'>ST_EMIS</span></li><li><span class='ee-k'>13:</span><span class='ee-v'>ST_EMSD</span></li><li><span class='ee-k'>14:</span><span class='ee-v'>ST_QA</span></li><li><span class='ee-k'>15:</span><span class='ee-v'>ST_TRAD</span></li><li><span class='ee-k'>16:</span><span class='ee-v'>ST_URAD</span></li><li><span class='ee-k'>17:</span><span class='ee-v'>QA_PIXEL</span></li><li><span class='ee-k'>18:</span><span class='ee-v'>QA_RADSAT</span></li></ul></li><li><span class='ee-k'>system:id:</span><span class='ee-v'>LANDSAT/LT05/C02/T1_L2/LT05_016028_20110407</span></li><li><span class='ee-k'>system:index:</span><span class='ee-v'>LT05_016028_20110407</span></li><li><span class='ee-k'>system:time_end:</span><span class='ee-v'>2011-04-07 15:40:26</span></li><li><span class='ee-k'>system:time_start:</span><span class='ee-v'>2011-04-07 15:40:26</span></li><li><span class='ee-k'>system:version:</span><span class='ee-v'>1626266804928864</span></li></ul></li></ul></div><script>function toggleHeader() {\n",
       "    const parent = this.parentElement;\n",
       "    parent.className = parent.className === \"ee-open\" ? \"ee-shut\" : \"ee-open\";\n",
       "}\n",
       "\n",
       "for (let c of document.getElementsByClassName(\"ee-toggle\")) {\n",
       "    c.onclick = toggleHeader;\n",
       "}</script></div>"
      ],
      "text/plain": [
       "<ee.dictionary.Dictionary at 0x1e545335580>"
      ]
     },
     "execution_count": 127,
     "metadata": {},
     "output_type": "execute_result"
    }
   ],
   "source": [
    "geemap.image_props(L5_Carleton_S2011)"
   ]
  },
  {
   "cell_type": "markdown",
   "metadata": {},
   "source": [
    "1. How many bands does it have?\n",
    "19 bands, including ST and QA bands\n",
    "\n",
    "2. What is the solar zenith angle?\n",
    "133.3 degrees\n",
    "\n",
    "4. What percent cloud cover does it have?\n",
    "1%\n",
    "\n",
    "5. What is the path and row of the image?\n",
    "WRS Path 16, WRS Row 28\n",
    "\n",
    "7. What date was the image taken?\n",
    "2011-04-07 15:40:26\n",
    "\n",
    "8. How many images are in the L5 collection over uOttawa in April 2011?\n",
    "Only 1!?\n"
   ]
  },
  {
   "cell_type": "markdown",
   "metadata": {
    "id": "-XndL1U2b8G5"
   },
   "source": [
    "### Q3\n",
    "Create a point at [Point Prim, PEI](https://www.google.com/maps/place/Point+Prim,+PE+C0A+1A0/@46.0494007,-63.0479017,13z/data=!4m5!3m4!1s0x4b5ef7caab12487f:0xd2904fef71355858!8m2!3d46.059052!4d-63.013226). Display a Sentinel-1 SAR and Sentinel-2 MSI image at that point on June 26 2019. Describe the differences in the two images."
   ]
  },
  {
   "cell_type": "code",
   "execution_count": 180,
   "metadata": {
    "id": "gCb0W2kAYHcz"
   },
   "outputs": [
    {
     "data": {
      "text/html": [
       "\n",
       "            <style>\n",
       "                .geemap-dark {\n",
       "                    --jp-widgets-color: white;\n",
       "                    --jp-widgets-label-color: white;\n",
       "                    --jp-ui-font-color1: white;\n",
       "                    --jp-layout-color2: #454545;\n",
       "                    background-color: #383838;\n",
       "                }\n",
       "\n",
       "                .geemap-dark .jupyter-button {\n",
       "                    --jp-layout-color3: #383838;\n",
       "                }\n",
       "\n",
       "                .geemap-colab {\n",
       "                    background-color: var(--colab-primary-surface-color, white);\n",
       "                }\n",
       "\n",
       "                .geemap-colab .jupyter-button {\n",
       "                    --jp-layout-color3: var(--colab-primary-surface-color, white);\n",
       "                }\n",
       "            </style>\n",
       "            "
      ],
      "text/plain": [
       "<IPython.core.display.HTML object>"
      ]
     },
     "metadata": {},
     "output_type": "display_data"
    },
    {
     "data": {
      "text/html": [
       "<div><style>:root {\n",
       "  --font-color-primary: var(--jp-content-font-color0, rgba(0, 0, 0, 1));\n",
       "  --font-color-secondary: var(--jp-content-font-color2, rgba(0, 0, 0, 0.6));\n",
       "  --font-color-accent: rgba(123, 31, 162, 1);\n",
       "  --border-color: var(--jp-border-color2, #e0e0e0);\n",
       "  --background-color: var(--jp-layout-color0, white);\n",
       "  --background-color-row-even: var(--jp-layout-color1, white);\n",
       "  --background-color-row-odd: var(--jp-layout-color2, #eeeeee);\n",
       "}\n",
       "\n",
       "html[theme=\"dark\"],\n",
       "body[data-theme=\"dark\"],\n",
       "body.vscode-dark {\n",
       "  --font-color-primary: rgba(255, 255, 255, 1);\n",
       "  --font-color-secondary: rgba(255, 255, 255, 0.6);\n",
       "  --font-color-accent: rgb(173, 132, 190);\n",
       "  --border-color: #2e2e2e;\n",
       "  --background-color: #111111;\n",
       "  --background-color-row-even: #111111;\n",
       "  --background-color-row-odd: #313131;\n",
       "}\n",
       "\n",
       ".ee {\n",
       "  padding: 1em;\n",
       "  line-height: 1.5em;\n",
       "  min-width: 300px;\n",
       "  max-width: 1200px;\n",
       "  overflow-y: scroll;\n",
       "  max-height: 600px;\n",
       "  border: 1px solid var(--border-color);\n",
       "  font-family: monospace;\n",
       "}\n",
       "\n",
       ".ee li {\n",
       "  list-style-type: none;\n",
       "}\n",
       "\n",
       ".ee ul {\n",
       "  padding-left: 1.5em !important;\n",
       "  margin: 0;\n",
       "}\n",
       "\n",
       ".ee > ul {\n",
       "  padding-left: 0 !important;\n",
       "}\n",
       "\n",
       ".ee-open,\n",
       ".ee-shut {\n",
       "  color: var(--font-color-secondary);\n",
       "  cursor: pointer;\n",
       "  margin: 0;\n",
       "}\n",
       "\n",
       ".ee-open:hover,\n",
       ".ee-shut:hover {\n",
       "  color: var(--font-color-primary);\n",
       "}\n",
       "\n",
       ".ee-k {\n",
       "  color: var(--font-color-accent);\n",
       "  margin-right: 6px;\n",
       "}\n",
       "\n",
       ".ee-v {\n",
       "  color: var(--font-color-primary);\n",
       "}\n",
       "\n",
       ".ee-toggle {\n",
       "  display: none;\n",
       "}\n",
       "\n",
       ".ee-shut + ul {\n",
       "  display: none;\n",
       "}\n",
       "\n",
       ".ee-open + ul {\n",
       "  display: block;\n",
       "}\n",
       "\n",
       ".ee-shut::before {\n",
       "  display: inline-block;\n",
       "  content: \"▼\";\n",
       "  margin-right: 6px;\n",
       "  transform: rotate(-90deg);\n",
       "  transition: transform 0.2s;\n",
       "}\n",
       "\n",
       ".ee-open::before {\n",
       "  transform: rotate(0deg);\n",
       "  display: inline-block;\n",
       "  content: \"▼\";\n",
       "  margin-right: 6px;\n",
       "  transition: transform 0.2s;\n",
       "}\n",
       "</style><div class='ee'><ul><li><label class='ee-shut'>Object (59 properties)<input type='checkbox' class='ee-toggle'></label><ul><li><span class='ee-k'>GRD_Post_Processing_facility_country:</span><span class='ee-v'>United Kingdom</span></li><li><span class='ee-k'>GRD_Post_Processing_facility_name:</span><span class='ee-v'>Copernicus S1 Core Ground Segment - UPA</span></li><li><span class='ee-k'>GRD_Post_Processing_facility_org:</span><span class='ee-v'>ESA</span></li><li><span class='ee-k'>GRD_Post_Processing_facility_site:</span><span class='ee-v'>Airbus DS-Newport</span></li><li><span class='ee-k'>GRD_Post_Processing_software_name:</span><span class='ee-v'>Sentinel-1 IPF</span></li><li><span class='ee-k'>GRD_Post_Processing_software_version:</span><span class='ee-v'>002.91</span></li><li><span class='ee-k'>GRD_Post_Processing_start:</span><span class='ee-v'>1561520591950</span></li><li><span class='ee-k'>GRD_Post_Processing_stop:</span><span class='ee-v'>1561521190000</span></li><li><span class='ee-k'>IMAGE_DATE:</span><span class='ee-v'>2019-06-25</span></li><li><label class='ee-shut'>NOMINAL_SCALE: Object (3 properties)<input type='checkbox' class='ee-toggle'></label><ul><li><span class='ee-k'>VH:</span><span class='ee-v'>10</span></li><li><span class='ee-k'>VV:</span><span class='ee-v'>10</span></li><li><span class='ee-k'>angle:</span><span class='ee-v'>16232.63402626128</span></li></ul></li><li><span class='ee-k'>S1TBX_Calibration_vers:</span><span class='ee-v'>6.0.4</span></li><li><span class='ee-k'>S1TBX_SAR_Processing_vers:</span><span class='ee-v'>6.0.4</span></li><li><span class='ee-k'>SLC_Processing_facility_country:</span><span class='ee-v'>United Kingdom</span></li><li><span class='ee-k'>SLC_Processing_facility_name:</span><span class='ee-v'>Copernicus S1 Core Ground Segment - UPA</span></li><li><span class='ee-k'>SLC_Processing_facility_org:</span><span class='ee-v'>ESA</span></li><li><span class='ee-k'>SLC_Processing_facility_site:</span><span class='ee-v'>Airbus DS-Newport</span></li><li><span class='ee-k'>SLC_Processing_software_name:</span><span class='ee-v'>Sentinel-1 IPF</span></li><li><span class='ee-k'>SLC_Processing_software_version:</span><span class='ee-v'>002.91</span></li><li><span class='ee-k'>SLC_Processing_start:</span><span class='ee-v'>1561520693000</span></li><li><span class='ee-k'>SLC_Processing_stop:</span><span class='ee-v'>1561520969000</span></li><li><span class='ee-k'>SNAP_Graph_Processing_Framework_GPF_vers:</span><span class='ee-v'>6.0.4</span></li><li><span class='ee-k'>cycleNumber:</span><span class='ee-v'>173</span></li><li><span class='ee-k'>familyName:</span><span class='ee-v'>SENTINEL-1</span></li><li><span class='ee-k'>instrument:</span><span class='ee-v'>Synthetic Aperture Radar</span></li><li><span class='ee-k'>instrumentConfigurationID:</span><span class='ee-v'>6</span></li><li><span class='ee-k'>instrumentMode:</span><span class='ee-v'>IW</span></li><li><span class='ee-k'>instrumentSwath:</span><span class='ee-v'>IW</span></li><li><span class='ee-k'>missionDataTakeID:</span><span class='ee-v'>205996</span></li><li><span class='ee-k'>nssdcIdentifier:</span><span class='ee-v'>2014-016A</span></li><li><span class='ee-k'>orbitNumber_start:</span><span class='ee-v'>27842</span></li><li><span class='ee-k'>orbitNumber_stop:</span><span class='ee-v'>27842</span></li><li><span class='ee-k'>orbitProperties_ascendingNodeTime:</span><span class='ee-v'>1561499449900</span></li><li><span class='ee-k'>orbitProperties_pass:</span><span class='ee-v'>ASCENDING</span></li><li><span class='ee-k'>phaseIdentifier:</span><span class='ee-v'>1</span></li><li><span class='ee-k'>platformHeading:</span><span class='ee-v'>-14.1494294009456</span></li><li><span class='ee-k'>platform_number:</span><span class='ee-v'>A</span></li><li><span class='ee-k'>productClass:</span><span class='ee-v'>S</span></li><li><span class='ee-k'>productClassDescription:</span><span class='ee-v'>SAR Standard L1 Product</span></li><li><span class='ee-k'>productComposition:</span><span class='ee-v'>Slice</span></li><li><span class='ee-k'>productTimelinessCategory:</span><span class='ee-v'>Fast-24h</span></li><li><span class='ee-k'>productType:</span><span class='ee-v'>GRD</span></li><li><span class='ee-k'>relativeOrbitNumber_start:</span><span class='ee-v'>120</span></li><li><span class='ee-k'>relativeOrbitNumber_stop:</span><span class='ee-v'>120</span></li><li><span class='ee-k'>resolution:</span><span class='ee-v'>H</span></li><li><span class='ee-k'>resolution_meters:</span><span class='ee-v'>10</span></li><li><span class='ee-k'>segmentStartTime:</span><span class='ee-v'>1561500021230</span></li><li><span class='ee-k'>sliceNumber:</span><span class='ee-v'>7</span></li><li><span class='ee-k'>sliceProductFlag:</span><span class='ee-v'>true</span></li><li><span class='ee-k'>startTimeANX:</span><span class='ee-v'>725035.2</span></li><li><span class='ee-k'>stopTimeANX:</span><span class='ee-v'>750033.2</span></li><li><span class='ee-k'>system:asset_size:</span><span class='ee-v'>4038.782319 MB</span></li><li><label class='ee-shut'>system:band_names: ['VV', 'VH', 'angle']<input type='checkbox' class='ee-toggle'></label><ul><li><span class='ee-k'>0:</span><span class='ee-v'>VV</span></li><li><span class='ee-k'>1:</span><span class='ee-v'>VH</span></li><li><span class='ee-k'>2:</span><span class='ee-v'>angle</span></li></ul></li><li><span class='ee-k'>system:id:</span><span class='ee-v'>COPERNICUS/S1_GRD/S1A_IW_GRDH_1SDV_20190625T220254_20190625T220319_027842_0324AC_599B</span></li><li><span class='ee-k'>system:index:</span><span class='ee-v'>S1A_IW_GRDH_1SDV_20190625T220254_20190625T220319_027842_0324AC_599B</span></li><li><span class='ee-k'>system:time_end:</span><span class='ee-v'>2019-06-25 22:02:54</span></li><li><span class='ee-k'>system:time_start:</span><span class='ee-v'>2019-06-25 22:02:54</span></li><li><span class='ee-k'>system:version:</span><span class='ee-v'>1731447318669130.0</span></li><li><span class='ee-k'>totalSlices:</span><span class='ee-v'>14</span></li><li><label class='ee-shut'>transmitterReceiverPolarisation: ['VV', 'VH']<input type='checkbox' class='ee-toggle'></label><ul><li><span class='ee-k'>0:</span><span class='ee-v'>VV</span></li><li><span class='ee-k'>1:</span><span class='ee-v'>VH</span></li></ul></li></ul></li></ul></div><script>function toggleHeader() {\n",
       "    const parent = this.parentElement;\n",
       "    parent.className = parent.className === \"ee-open\" ? \"ee-shut\" : \"ee-open\";\n",
       "}\n",
       "\n",
       "for (let c of document.getElementsByClassName(\"ee-toggle\")) {\n",
       "    c.onclick = toggleHeader;\n",
       "}</script></div>"
      ],
      "text/plain": [
       "<ee.dictionary.Dictionary at 0x1e54643d040>"
      ]
     },
     "execution_count": 180,
     "metadata": {},
     "output_type": "execute_result"
    }
   ],
   "source": [
    "## Show your code here\n",
    "ptprim = ee.Geometry.Point(-63.038909807336644, 46.050388709156074)\n",
    "\n",
    "# Filter Sentinel 1 Collection by metadata properties\n",
    "## Filter to get images with VV polarization\n",
    "## Filter to get images collected in interferometric wide swath mode\n",
    "## Filter to get images in ascending orbit\n",
    "s1_col =  ee.ImageCollection('COPERNICUS/S1_GRD')\\\n",
    "              .filter(ee.Filter.listContains('transmitterReceiverPolarisation', 'VV'))\\\n",
    "              .filter(ee.Filter.eq('instrumentMode', 'IW'))\\\n",
    "              .filter(ee.Filter.eq('orbitProperties_pass', 'ASCENDING'))\n",
    "\n",
    "# Filter the collection by and location\n",
    "s1_img = s1_col.filterBounds(ptprim)\\\n",
    "                  .filterDate('2019-06-25', '2019-06-26')\\\n",
    "                  .first()# Choose first image in collection\n",
    "# Print image properties\n",
    "geemap.image_props(s1_img)\n"
   ]
  },
  {
   "cell_type": "code",
   "execution_count": 184,
   "metadata": {
    "scrolled": true
   },
   "outputs": [
    {
     "data": {
      "text/html": [
       "\n",
       "            <style>\n",
       "                .geemap-dark {\n",
       "                    --jp-widgets-color: white;\n",
       "                    --jp-widgets-label-color: white;\n",
       "                    --jp-ui-font-color1: white;\n",
       "                    --jp-layout-color2: #454545;\n",
       "                    background-color: #383838;\n",
       "                }\n",
       "\n",
       "                .geemap-dark .jupyter-button {\n",
       "                    --jp-layout-color3: #383838;\n",
       "                }\n",
       "\n",
       "                .geemap-colab {\n",
       "                    background-color: var(--colab-primary-surface-color, white);\n",
       "                }\n",
       "\n",
       "                .geemap-colab .jupyter-button {\n",
       "                    --jp-layout-color3: var(--colab-primary-surface-color, white);\n",
       "                }\n",
       "            </style>\n",
       "            "
      ],
      "text/plain": [
       "<IPython.core.display.HTML object>"
      ]
     },
     "metadata": {},
     "output_type": "display_data"
    },
    {
     "data": {
      "text/plain": [
       "{'AOT_RETRIEVAL_ACCURACY': 0,\n",
       " 'CLOUDY_PIXEL_PERCENTAGE': 3.019048,\n",
       " 'CLOUD_COVERAGE_ASSESSMENT': 3.019048,\n",
       " 'CLOUD_SHADOW_PERCENTAGE': 0.150298,\n",
       " 'DARK_FEATURES_PERCENTAGE': 0.510158,\n",
       " 'DATASTRIP_ID': 'S2B_OPER_MSI_L2A_DS_SGS__20190608T192411_S20190608T151658_N02.12',\n",
       " 'DATATAKE_IDENTIFIER': 'GS2B_20190608T151659_011777_N02.12',\n",
       " 'DATATAKE_TYPE': 'INS-NOBS',\n",
       " 'DEGRADED_MSI_DATA_PERCENTAGE': 0,\n",
       " 'FORMAT_CORRECTNESS': 'PASSED',\n",
       " 'GENERAL_QUALITY': 'PASSED',\n",
       " 'GENERATION_TIME': 1560021851000,\n",
       " 'GEOMETRIC_QUALITY': 'PASSED',\n",
       " 'GRANULE_ID': 'L2A_T20TMS_A011777_20190608T151658',\n",
       " 'HIGH_PROBA_CLOUDS_PERCENTAGE': 1.441631,\n",
       " 'IMAGE_DATE': '2019-06-08',\n",
       " 'MEAN_INCIDENCE_AZIMUTH_ANGLE_B1': 157.586291132,\n",
       " 'MEAN_INCIDENCE_AZIMUTH_ANGLE_B10': 159.860959612,\n",
       " 'MEAN_INCIDENCE_AZIMUTH_ANGLE_B11': 158.266795604,\n",
       " 'MEAN_INCIDENCE_AZIMUTH_ANGLE_B12': 157.506392155,\n",
       " 'MEAN_INCIDENCE_AZIMUTH_ANGLE_B2': 163.22831228,\n",
       " 'MEAN_INCIDENCE_AZIMUTH_ANGLE_B3': 160.650849235,\n",
       " 'MEAN_INCIDENCE_AZIMUTH_ANGLE_B4': 159.184914188,\n",
       " 'MEAN_INCIDENCE_AZIMUTH_ANGLE_B5': 158.622692785,\n",
       " 'MEAN_INCIDENCE_AZIMUTH_ANGLE_B6': 158.283148156,\n",
       " 'MEAN_INCIDENCE_AZIMUTH_ANGLE_B7': 157.820812991,\n",
       " 'MEAN_INCIDENCE_AZIMUTH_ANGLE_B8': 162.041267701,\n",
       " 'MEAN_INCIDENCE_AZIMUTH_ANGLE_B8A': 157.536557252,\n",
       " 'MEAN_INCIDENCE_AZIMUTH_ANGLE_B9': 157.23473518,\n",
       " 'MEAN_INCIDENCE_ZENITH_ANGLE_B1': 3.16649451349,\n",
       " 'MEAN_INCIDENCE_ZENITH_ANGLE_B10': 2.72209630245,\n",
       " 'MEAN_INCIDENCE_ZENITH_ANGLE_B11': 2.89398627495,\n",
       " 'MEAN_INCIDENCE_ZENITH_ANGLE_B12': 3.09365184612,\n",
       " 'MEAN_INCIDENCE_ZENITH_ANGLE_B2': 2.5279628618,\n",
       " 'MEAN_INCIDENCE_ZENITH_ANGLE_B3': 2.63438860932,\n",
       " 'MEAN_INCIDENCE_ZENITH_ANGLE_B4': 2.75481244254,\n",
       " 'MEAN_INCIDENCE_ZENITH_ANGLE_B5': 2.82787390588,\n",
       " 'MEAN_INCIDENCE_ZENITH_ANGLE_B6': 2.90767834261,\n",
       " 'MEAN_INCIDENCE_ZENITH_ANGLE_B7': 2.9874614791,\n",
       " 'MEAN_INCIDENCE_ZENITH_ANGLE_B8': 2.58136384078,\n",
       " 'MEAN_INCIDENCE_ZENITH_ANGLE_B8A': 3.07312476801,\n",
       " 'MEAN_INCIDENCE_ZENITH_ANGLE_B9': 3.26027354079,\n",
       " 'MEAN_SOLAR_AZIMUTH_ANGLE': 150.986699426,\n",
       " 'MEAN_SOLAR_ZENITH_ANGLE': 25.9367008255,\n",
       " 'MEDIUM_PROBA_CLOUDS_PERCENTAGE': 0.289803,\n",
       " 'MGRS_TILE': '20TMS',\n",
       " 'NODATA_PIXEL_PERCENTAGE': 0,\n",
       " 'NOMINAL_SCALE': {'AOT': 10,\n",
       "  'B1': 60,\n",
       "  'B11': 20,\n",
       "  'B12': 20,\n",
       "  'B2': 10,\n",
       "  'B3': 10,\n",
       "  'B4': 10,\n",
       "  'B5': 20,\n",
       "  'B6': 20,\n",
       "  'B7': 20,\n",
       "  'B8': 10,\n",
       "  'B8A': 20,\n",
       "  'B9': 60,\n",
       "  'MSK_CLDPRB': 20,\n",
       "  'MSK_SNWPRB': 20,\n",
       "  'QA10': 10,\n",
       "  'QA20': 20,\n",
       "  'QA60': 60,\n",
       "  'SCL': 20,\n",
       "  'TCI_B': 10,\n",
       "  'TCI_G': 10,\n",
       "  'TCI_R': 10,\n",
       "  'WVP': 10},\n",
       " 'NOT_VEGETATED_PERCENTAGE': 8.583797,\n",
       " 'PROCESSING_BASELINE': '02.12',\n",
       " 'PRODUCT_ID': 'S2B_MSIL2A_20190608T151659_N0212_R025_T20TMS_20190608T192411',\n",
       " 'RADIATIVE_TRANSFER_ACCURACY': 0,\n",
       " 'RADIOMETRIC_QUALITY': 'PASSED',\n",
       " 'REFLECTANCE_CONVERSION_CORRECTION': 0.971605850848,\n",
       " 'SATURATED_DEFECTIVE_PIXEL_PERCENTAGE': 0,\n",
       " 'SENSING_ORBIT_DIRECTION': 'DESCENDING',\n",
       " 'SENSING_ORBIT_NUMBER': 25,\n",
       " 'SENSOR_QUALITY': 'PASSED',\n",
       " 'SNOW_ICE_PERCENTAGE': 0,\n",
       " 'SOLAR_IRRADIANCE_B1': 1874.3,\n",
       " 'SOLAR_IRRADIANCE_B10': 365.41,\n",
       " 'SOLAR_IRRADIANCE_B11': 247.08,\n",
       " 'SOLAR_IRRADIANCE_B12': 87.75,\n",
       " 'SOLAR_IRRADIANCE_B2': 1959.77,\n",
       " 'SOLAR_IRRADIANCE_B3': 1824.93,\n",
       " 'SOLAR_IRRADIANCE_B4': 1512.79,\n",
       " 'SOLAR_IRRADIANCE_B5': 1425.78,\n",
       " 'SOLAR_IRRADIANCE_B6': 1291.13,\n",
       " 'SOLAR_IRRADIANCE_B7': 1175.57,\n",
       " 'SOLAR_IRRADIANCE_B8': 1041.28,\n",
       " 'SOLAR_IRRADIANCE_B8A': 953.93,\n",
       " 'SOLAR_IRRADIANCE_B9': 817.58,\n",
       " 'SPACECRAFT_NAME': 'Sentinel-2B',\n",
       " 'THIN_CIRRUS_PERCENTAGE': 1.287614,\n",
       " 'UNCLASSIFIED_PERCENTAGE': 0.244253,\n",
       " 'VEGETATION_PERCENTAGE': 24.530187,\n",
       " 'WATER_PERCENTAGE': 62.962258,\n",
       " 'WATER_VAPOUR_RETRIEVAL_ACCURACY': 0,\n",
       " 'system:asset_size': '1462.487621 MB',\n",
       " 'system:band_names': ['B1',\n",
       "  'B2',\n",
       "  'B3',\n",
       "  'B4',\n",
       "  'B5',\n",
       "  'B6',\n",
       "  'B7',\n",
       "  'B8',\n",
       "  'B8A',\n",
       "  'B9',\n",
       "  'B11',\n",
       "  'B12',\n",
       "  'AOT',\n",
       "  'WVP',\n",
       "  'SCL',\n",
       "  'TCI_R',\n",
       "  'TCI_G',\n",
       "  'TCI_B',\n",
       "  'MSK_CLDPRB',\n",
       "  'MSK_SNWPRB',\n",
       "  'QA10',\n",
       "  'QA20',\n",
       "  'QA60'],\n",
       " 'system:id': 'COPERNICUS/S2_SR/20190608T151659_20190608T151658_T20TMS',\n",
       " 'system:index': '20190608T151659_20190608T151658_T20TMS',\n",
       " 'system:time_end': '2019-06-08 15:20:09',\n",
       " 'system:time_start': '2019-06-08 15:20:09',\n",
       " 'system:version': 1560553534213639}"
      ]
     },
     "execution_count": 184,
     "metadata": {},
     "output_type": "execute_result"
    }
   ],
   "source": [
    "# Load all Sentinel 2 Surface Reflectance images from April 2019 over Lethbridge\n",
    "## Note that the cloud cover property name is different than Landsat\n",
    "s2_img = ee.ImageCollection('COPERNICUS/S2_SR')\\\n",
    "                  .filterDate('2019-06-01', '2019-06-30')\\\n",
    "                  .filterBounds(ptprim)\\\n",
    "                  .filter(ee.Filter.lte('CLOUDY_PIXEL_PERCENTAGE',30))\\\n",
    "                  .first()\n",
    "                  \n",
    "\n",
    "# Get the properties of the image\n",
    "imageprops = geemap.image_props(s2_img)\n",
    "imageprops.getInfo()\n",
    "# Set the visualization parameters for the image\n"
   ]
  },
  {
   "cell_type": "code",
   "execution_count": 185,
   "metadata": {
    "scrolled": true
   },
   "outputs": [
    {
     "data": {
      "text/html": [
       "\n",
       "            <style>\n",
       "                .geemap-dark {\n",
       "                    --jp-widgets-color: white;\n",
       "                    --jp-widgets-label-color: white;\n",
       "                    --jp-ui-font-color1: white;\n",
       "                    --jp-layout-color2: #454545;\n",
       "                    background-color: #383838;\n",
       "                }\n",
       "\n",
       "                .geemap-dark .jupyter-button {\n",
       "                    --jp-layout-color3: #383838;\n",
       "                }\n",
       "\n",
       "                .geemap-colab {\n",
       "                    background-color: var(--colab-primary-surface-color, white);\n",
       "                }\n",
       "\n",
       "                .geemap-colab .jupyter-button {\n",
       "                    --jp-layout-color3: var(--colab-primary-surface-color, white);\n",
       "                }\n",
       "            </style>\n",
       "            "
      ],
      "text/plain": [
       "<IPython.core.display.HTML object>"
      ]
     },
     "metadata": {},
     "output_type": "display_data"
    },
    {
     "data": {
      "application/vnd.jupyter.widget-view+json": {
       "model_id": "b69fd4ec5e2d4ee6bea81e9cbcd98bd2",
       "version_major": 2,
       "version_minor": 0
      },
      "text/plain": [
       "Map(center=[46.05038870915608, -63.038909807336644], controls=(WidgetControl(options=['position', 'transparent…"
      ]
     },
     "execution_count": 185,
     "metadata": {},
     "output_type": "execute_result"
    }
   ],
   "source": [
    "# # Display image on map\n",
    "Map = geemap.Map()\n",
    "Map.centerObject(ptprim,14)\n",
    "Map.addLayer(s1_img, {'bands': ['VV','VV','VV'], 'min': -20,'max': 0},'S1-image')\n",
    "Map.addLayer(s2_img,  {'bands': ['B4', 'B3', 'B2'], 'min': 0, 'max': 3000}, 'S2-image')\n",
    "Map"
   ]
  },
  {
   "cell_type": "markdown",
   "metadata": {},
   "source": [
    "Surprisingly, I cannot see the lighthouse in the S1 SAR response. Is that because it is round? Or is the image just too noisy.\n",
    "\n",
    "The S2 image is cloudy over the point, but generally clear and crisp.\n",
    "\n",
    "Neither image are available on the exact date chosen. I had to expand the date range.\n",
    "\n"
   ]
  },
  {
   "cell_type": "markdown",
   "metadata": {
    "id": "hECVPw_2fIHQ"
   },
   "source": [
    "### Q4\n",
    "Show the least cloudy Landsat 8 image over Banff National Park from August 2014 in 'Vegetation Analysis' false colour (SWIR1-NIR-BLUE as RGB)."
   ]
  },
  {
   "cell_type": "code",
   "execution_count": 190,
   "metadata": {
    "id": "IqyTnlAV3rwa",
    "scrolled": true
   },
   "outputs": [
    {
     "data": {
      "text/html": [
       "\n",
       "            <style>\n",
       "                .geemap-dark {\n",
       "                    --jp-widgets-color: white;\n",
       "                    --jp-widgets-label-color: white;\n",
       "                    --jp-ui-font-color1: white;\n",
       "                    --jp-layout-color2: #454545;\n",
       "                    background-color: #383838;\n",
       "                }\n",
       "\n",
       "                .geemap-dark .jupyter-button {\n",
       "                    --jp-layout-color3: #383838;\n",
       "                }\n",
       "\n",
       "                .geemap-colab {\n",
       "                    background-color: var(--colab-primary-surface-color, white);\n",
       "                }\n",
       "\n",
       "                .geemap-colab .jupyter-button {\n",
       "                    --jp-layout-color3: var(--colab-primary-surface-color, white);\n",
       "                }\n",
       "            </style>\n",
       "            "
      ],
      "text/plain": [
       "<IPython.core.display.HTML object>"
      ]
     },
     "metadata": {},
     "output_type": "display_data"
    },
    {
     "data": {
      "text/html": [
       "<div><style>:root {\n",
       "  --font-color-primary: var(--jp-content-font-color0, rgba(0, 0, 0, 1));\n",
       "  --font-color-secondary: var(--jp-content-font-color2, rgba(0, 0, 0, 0.6));\n",
       "  --font-color-accent: rgba(123, 31, 162, 1);\n",
       "  --border-color: var(--jp-border-color2, #e0e0e0);\n",
       "  --background-color: var(--jp-layout-color0, white);\n",
       "  --background-color-row-even: var(--jp-layout-color1, white);\n",
       "  --background-color-row-odd: var(--jp-layout-color2, #eeeeee);\n",
       "}\n",
       "\n",
       "html[theme=\"dark\"],\n",
       "body[data-theme=\"dark\"],\n",
       "body.vscode-dark {\n",
       "  --font-color-primary: rgba(255, 255, 255, 1);\n",
       "  --font-color-secondary: rgba(255, 255, 255, 0.6);\n",
       "  --font-color-accent: rgb(173, 132, 190);\n",
       "  --border-color: #2e2e2e;\n",
       "  --background-color: #111111;\n",
       "  --background-color-row-even: #111111;\n",
       "  --background-color-row-odd: #313131;\n",
       "}\n",
       "\n",
       ".ee {\n",
       "  padding: 1em;\n",
       "  line-height: 1.5em;\n",
       "  min-width: 300px;\n",
       "  max-width: 1200px;\n",
       "  overflow-y: scroll;\n",
       "  max-height: 600px;\n",
       "  border: 1px solid var(--border-color);\n",
       "  font-family: monospace;\n",
       "}\n",
       "\n",
       ".ee li {\n",
       "  list-style-type: none;\n",
       "}\n",
       "\n",
       ".ee ul {\n",
       "  padding-left: 1.5em !important;\n",
       "  margin: 0;\n",
       "}\n",
       "\n",
       ".ee > ul {\n",
       "  padding-left: 0 !important;\n",
       "}\n",
       "\n",
       ".ee-open,\n",
       ".ee-shut {\n",
       "  color: var(--font-color-secondary);\n",
       "  cursor: pointer;\n",
       "  margin: 0;\n",
       "}\n",
       "\n",
       ".ee-open:hover,\n",
       ".ee-shut:hover {\n",
       "  color: var(--font-color-primary);\n",
       "}\n",
       "\n",
       ".ee-k {\n",
       "  color: var(--font-color-accent);\n",
       "  margin-right: 6px;\n",
       "}\n",
       "\n",
       ".ee-v {\n",
       "  color: var(--font-color-primary);\n",
       "}\n",
       "\n",
       ".ee-toggle {\n",
       "  display: none;\n",
       "}\n",
       "\n",
       ".ee-shut + ul {\n",
       "  display: none;\n",
       "}\n",
       "\n",
       ".ee-open + ul {\n",
       "  display: block;\n",
       "}\n",
       "\n",
       ".ee-shut::before {\n",
       "  display: inline-block;\n",
       "  content: \"▼\";\n",
       "  margin-right: 6px;\n",
       "  transform: rotate(-90deg);\n",
       "  transition: transform 0.2s;\n",
       "}\n",
       "\n",
       ".ee-open::before {\n",
       "  transform: rotate(0deg);\n",
       "  display: inline-block;\n",
       "  content: \"▼\";\n",
       "  margin-right: 6px;\n",
       "  transition: transform 0.2s;\n",
       "}\n",
       "</style><div class='ee'><ul><li><label class='ee-shut'>Object (134 properties)<input type='checkbox' class='ee-toggle'></label><ul><li><span class='ee-k'>ALGORITHM_SOURCE_SURFACE_REFLECTANCE:</span><span class='ee-v'>LEDAPS_3.4.0</span></li><li><span class='ee-k'>ALGORITHM_SOURCE_SURFACE_TEMPERATURE:</span><span class='ee-v'>st_1.3.0</span></li><li><span class='ee-k'>CLOUD_COVER:</span><span class='ee-v'>13</span></li><li><span class='ee-k'>CLOUD_COVER_LAND:</span><span class='ee-v'>13</span></li><li><span class='ee-k'>COLLECTION_CATEGORY:</span><span class='ee-v'>T1</span></li><li><span class='ee-k'>COLLECTION_NUMBER:</span><span class='ee-v'>2</span></li><li><span class='ee-k'>CORRECTION_BIAS_BAND_1:</span><span class='ee-v'>INTERNAL_CALIBRATION</span></li><li><span class='ee-k'>CORRECTION_BIAS_BAND_2:</span><span class='ee-v'>INTERNAL_CALIBRATION</span></li><li><span class='ee-k'>CORRECTION_BIAS_BAND_3:</span><span class='ee-v'>INTERNAL_CALIBRATION</span></li><li><span class='ee-k'>CORRECTION_BIAS_BAND_4:</span><span class='ee-v'>INTERNAL_CALIBRATION</span></li><li><span class='ee-k'>CORRECTION_BIAS_BAND_5:</span><span class='ee-v'>INTERNAL_CALIBRATION</span></li><li><span class='ee-k'>CORRECTION_BIAS_BAND_6_VCID_1:</span><span class='ee-v'>INTERNAL_CALIBRATION</span></li><li><span class='ee-k'>CORRECTION_BIAS_BAND_6_VCID_2:</span><span class='ee-v'>INTERNAL_CALIBRATION</span></li><li><span class='ee-k'>CORRECTION_BIAS_BAND_7:</span><span class='ee-v'>INTERNAL_CALIBRATION</span></li><li><span class='ee-k'>CORRECTION_BIAS_BAND_8:</span><span class='ee-v'>INTERNAL_CALIBRATION</span></li><li><span class='ee-k'>CORRECTION_GAIN_BAND_1:</span><span class='ee-v'>CPF</span></li><li><span class='ee-k'>CORRECTION_GAIN_BAND_2:</span><span class='ee-v'>CPF</span></li><li><span class='ee-k'>CORRECTION_GAIN_BAND_3:</span><span class='ee-v'>CPF</span></li><li><span class='ee-k'>CORRECTION_GAIN_BAND_4:</span><span class='ee-v'>CPF</span></li><li><span class='ee-k'>CORRECTION_GAIN_BAND_5:</span><span class='ee-v'>CPF</span></li><li><span class='ee-k'>CORRECTION_GAIN_BAND_6_VCID_1:</span><span class='ee-v'>CPF</span></li><li><span class='ee-k'>CORRECTION_GAIN_BAND_6_VCID_2:</span><span class='ee-v'>CPF</span></li><li><span class='ee-k'>CORRECTION_GAIN_BAND_7:</span><span class='ee-v'>CPF</span></li><li><span class='ee-k'>CORRECTION_GAIN_BAND_8:</span><span class='ee-v'>CPF</span></li><li><span class='ee-k'>DATA_SOURCE_AIR_TEMPERATURE:</span><span class='ee-v'>NCEP</span></li><li><span class='ee-k'>DATA_SOURCE_ELEVATION:</span><span class='ee-v'>GLS2000</span></li><li><span class='ee-k'>DATA_SOURCE_OZONE:</span><span class='ee-v'>TOMS</span></li><li><span class='ee-k'>DATA_SOURCE_PRESSURE:</span><span class='ee-v'>NCEP</span></li><li><span class='ee-k'>DATA_SOURCE_REANALYSIS:</span><span class='ee-v'>GEOS-5 FP-IT</span></li><li><span class='ee-k'>DATA_SOURCE_WATER_VAPOR:</span><span class='ee-v'>NCEP</span></li><li><span class='ee-k'>DATE_ACQUIRED:</span><span class='ee-v'>2014-08-10</span></li><li><span class='ee-k'>DATE_PRODUCT_GENERATED:</span><span class='ee-v'>1599351773000</span></li><li><span class='ee-k'>DATUM:</span><span class='ee-v'>WGS84</span></li><li><span class='ee-k'>EARTH_SUN_DISTANCE:</span><span class='ee-v'>1.0136158</span></li><li><span class='ee-k'>ELLIPSOID:</span><span class='ee-v'>WGS84</span></li><li><span class='ee-k'>EPHEMERIS_TYPE:</span><span class='ee-v'>DEFINITIVE</span></li><li><span class='ee-k'>GAIN_BAND_1:</span><span class='ee-v'>L</span></li><li><span class='ee-k'>GAIN_BAND_2:</span><span class='ee-v'>L</span></li><li><span class='ee-k'>GAIN_BAND_3:</span><span class='ee-v'>L</span></li><li><span class='ee-k'>GAIN_BAND_4:</span><span class='ee-v'>L</span></li><li><span class='ee-k'>GAIN_BAND_5:</span><span class='ee-v'>H</span></li><li><span class='ee-k'>GAIN_BAND_6_VCID_1:</span><span class='ee-v'>L</span></li><li><span class='ee-k'>GAIN_BAND_6_VCID_2:</span><span class='ee-v'>H</span></li><li><span class='ee-k'>GAIN_BAND_7:</span><span class='ee-v'>H</span></li><li><span class='ee-k'>GAIN_BAND_8:</span><span class='ee-v'>L</span></li><li><span class='ee-k'>GAIN_CHANGE_BAND_1:</span><span class='ee-v'>LL</span></li><li><span class='ee-k'>GAIN_CHANGE_BAND_2:</span><span class='ee-v'>LL</span></li><li><span class='ee-k'>GAIN_CHANGE_BAND_3:</span><span class='ee-v'>LL</span></li><li><span class='ee-k'>GAIN_CHANGE_BAND_4:</span><span class='ee-v'>LL</span></li><li><span class='ee-k'>GAIN_CHANGE_BAND_5:</span><span class='ee-v'>HH</span></li><li><span class='ee-k'>GAIN_CHANGE_BAND_6_VCID_1:</span><span class='ee-v'>LL</span></li><li><span class='ee-k'>GAIN_CHANGE_BAND_6_VCID_2:</span><span class='ee-v'>HH</span></li><li><span class='ee-k'>GAIN_CHANGE_BAND_7:</span><span class='ee-v'>HH</span></li><li><span class='ee-k'>GAIN_CHANGE_BAND_8:</span><span class='ee-v'>LL</span></li><li><span class='ee-k'>GAIN_CHANGE_SCAN_BAND_1:</span><span class='ee-v'>0</span></li><li><span class='ee-k'>GAIN_CHANGE_SCAN_BAND_2:</span><span class='ee-v'>0</span></li><li><span class='ee-k'>GAIN_CHANGE_SCAN_BAND_3:</span><span class='ee-v'>0</span></li><li><span class='ee-k'>GAIN_CHANGE_SCAN_BAND_4:</span><span class='ee-v'>0</span></li><li><span class='ee-k'>GAIN_CHANGE_SCAN_BAND_5:</span><span class='ee-v'>0</span></li><li><span class='ee-k'>GAIN_CHANGE_SCAN_BAND_6_VCID_1:</span><span class='ee-v'>0</span></li><li><span class='ee-k'>GAIN_CHANGE_SCAN_BAND_6_VCID_2:</span><span class='ee-v'>0</span></li><li><span class='ee-k'>GAIN_CHANGE_SCAN_BAND_7:</span><span class='ee-v'>0</span></li><li><span class='ee-k'>GAIN_CHANGE_SCAN_BAND_8:</span><span class='ee-v'>0</span></li><li><span class='ee-k'>GEOMETRIC_RMSE_MODEL:</span><span class='ee-v'>4.483</span></li><li><span class='ee-k'>GEOMETRIC_RMSE_MODEL_X:</span><span class='ee-v'>2.874</span></li><li><span class='ee-k'>GEOMETRIC_RMSE_MODEL_Y:</span><span class='ee-v'>3.44</span></li><li><span class='ee-k'>GRID_CELL_SIZE_REFLECTIVE:</span><span class='ee-v'>30</span></li><li><span class='ee-k'>GRID_CELL_SIZE_THERMAL:</span><span class='ee-v'>30</span></li><li><span class='ee-k'>GROUND_CONTROL_POINTS_MODEL:</span><span class='ee-v'>840</span></li><li><span class='ee-k'>GROUND_CONTROL_POINTS_VERSION:</span><span class='ee-v'>5</span></li><li><span class='ee-k'>IMAGE_DATE:</span><span class='ee-v'>2014-08-10</span></li><li><span class='ee-k'>IMAGE_QUALITY:</span><span class='ee-v'>9</span></li><li><span class='ee-k'>L1_DATE_PRODUCT_GENERATED:</span><span class='ee-v'>2020-09-05T23:59:30Z</span></li><li><span class='ee-k'>L1_LANDSAT_PRODUCT_ID:</span><span class='ee-v'>LE07_L1TP_043024_20140810_20200905_02_T1</span></li><li><span class='ee-k'>L1_PROCESSING_LEVEL:</span><span class='ee-v'>L1TP</span></li><li><span class='ee-k'>L1_PROCESSING_SOFTWARE_VERSION:</span><span class='ee-v'>LPGS_15.3.1c</span></li><li><span class='ee-k'>L1_REQUEST_ID:</span><span class='ee-v'>L2</span></li><li><span class='ee-k'>LANDSAT_PRODUCT_ID:</span><span class='ee-v'>LE07_L2SP_043024_20140810_20200906_02_T1</span></li><li><span class='ee-k'>LANDSAT_SCENE_ID:</span><span class='ee-v'>LE70430242014222EDC00</span></li><li><span class='ee-k'>MAP_PROJECTION:</span><span class='ee-v'>UTM</span></li><li><span class='ee-k'>NOMINAL_SCALE:</span><span class='ee-v'>30</span></li><li><span class='ee-k'>ORIENTATION:</span><span class='ee-v'>NORTH_UP</span></li><li><span class='ee-k'>PROCESSING_LEVEL:</span><span class='ee-v'>L2SP</span></li><li><span class='ee-k'>PROCESSING_SOFTWARE_VERSION:</span><span class='ee-v'>LPGS_15.3.1c</span></li><li><span class='ee-k'>REFLECTANCE_ADD_BAND_1:</span><span class='ee-v'>-0.2</span></li><li><span class='ee-k'>REFLECTANCE_ADD_BAND_2:</span><span class='ee-v'>-0.2</span></li><li><span class='ee-k'>REFLECTANCE_ADD_BAND_3:</span><span class='ee-v'>-0.2</span></li><li><span class='ee-k'>REFLECTANCE_ADD_BAND_4:</span><span class='ee-v'>-0.2</span></li><li><span class='ee-k'>REFLECTANCE_ADD_BAND_5:</span><span class='ee-v'>-0.2</span></li><li><span class='ee-k'>REFLECTANCE_ADD_BAND_7:</span><span class='ee-v'>-0.2</span></li><li><span class='ee-k'>REFLECTANCE_MULT_BAND_1:</span><span class='ee-v'>2.75e-05</span></li><li><span class='ee-k'>REFLECTANCE_MULT_BAND_2:</span><span class='ee-v'>2.75e-05</span></li><li><span class='ee-k'>REFLECTANCE_MULT_BAND_3:</span><span class='ee-v'>2.75e-05</span></li><li><span class='ee-k'>REFLECTANCE_MULT_BAND_4:</span><span class='ee-v'>2.75e-05</span></li><li><span class='ee-k'>REFLECTANCE_MULT_BAND_5:</span><span class='ee-v'>2.75e-05</span></li><li><span class='ee-k'>REFLECTANCE_MULT_BAND_7:</span><span class='ee-v'>2.75e-05</span></li><li><span class='ee-k'>REFLECTIVE_LINES:</span><span class='ee-v'>7321</span></li><li><span class='ee-k'>REFLECTIVE_SAMPLES:</span><span class='ee-v'>8231</span></li><li><span class='ee-k'>REQUEST_ID:</span><span class='ee-v'>L2</span></li><li><span class='ee-k'>SATURATION_BAND_1:</span><span class='ee-v'>Y</span></li><li><span class='ee-k'>SATURATION_BAND_2:</span><span class='ee-v'>Y</span></li><li><span class='ee-k'>SATURATION_BAND_3:</span><span class='ee-v'>Y</span></li><li><span class='ee-k'>SATURATION_BAND_4:</span><span class='ee-v'>Y</span></li><li><span class='ee-k'>SATURATION_BAND_5:</span><span class='ee-v'>Y</span></li><li><span class='ee-k'>SATURATION_BAND_6_VCID_1:</span><span class='ee-v'>N</span></li><li><span class='ee-k'>SATURATION_BAND_6_VCID_2:</span><span class='ee-v'>Y</span></li><li><span class='ee-k'>SATURATION_BAND_7:</span><span class='ee-v'>Y</span></li><li><span class='ee-k'>SATURATION_BAND_8:</span><span class='ee-v'>N</span></li><li><span class='ee-k'>SCENE_CENTER_TIME:</span><span class='ee-v'>18:33:34.4190392Z</span></li><li><span class='ee-k'>SENSOR_ANOMALIES:</span><span class='ee-v'>NONE</span></li><li><span class='ee-k'>SENSOR_ID:</span><span class='ee-v'>ETM</span></li><li><span class='ee-k'>SENSOR_MODE:</span><span class='ee-v'>BUMPER</span></li><li><span class='ee-k'>SENSOR_MODE_SLC:</span><span class='ee-v'>OFF</span></li><li><span class='ee-k'>SPACECRAFT_ID:</span><span class='ee-v'>LANDSAT_7</span></li><li><span class='ee-k'>STATION_ID:</span><span class='ee-v'>EDC</span></li><li><span class='ee-k'>SUN_AZIMUTH:</span><span class='ee-v'>151.21140258</span></li><li><span class='ee-k'>SUN_ELEVATION:</span><span class='ee-v'>50.8739906</span></li><li><span class='ee-k'>TEMPERATURE_ADD_BAND_ST_B6:</span><span class='ee-v'>149</span></li><li><span class='ee-k'>TEMPERATURE_MAXIMUM_BAND_ST_B6:</span><span class='ee-v'>372.999941</span></li><li><span class='ee-k'>TEMPERATURE_MINIMUM_BAND_ST_B6:</span><span class='ee-v'>149.003418</span></li><li><span class='ee-k'>TEMPERATURE_MULT_BAND_ST_B6:</span><span class='ee-v'>0.00341802</span></li><li><span class='ee-k'>THERMAL_LINES:</span><span class='ee-v'>7321</span></li><li><span class='ee-k'>THERMAL_SAMPLES:</span><span class='ee-v'>8231</span></li><li><span class='ee-k'>UTM_ZONE:</span><span class='ee-v'>11</span></li><li><span class='ee-k'>WRS_PATH:</span><span class='ee-v'>43</span></li><li><span class='ee-k'>WRS_ROW:</span><span class='ee-v'>24</span></li><li><span class='ee-k'>WRS_TYPE:</span><span class='ee-v'>2</span></li><li><span class='ee-k'>system:asset_size:</span><span class='ee-v'>705.489255 MB</span></li><li><label class='ee-shut'>system:band_names: List (19 elements)<input type='checkbox' class='ee-toggle'></label><ul><li><span class='ee-k'>0:</span><span class='ee-v'>SR_B1</span></li><li><span class='ee-k'>1:</span><span class='ee-v'>SR_B2</span></li><li><span class='ee-k'>2:</span><span class='ee-v'>SR_B3</span></li><li><span class='ee-k'>3:</span><span class='ee-v'>SR_B4</span></li><li><span class='ee-k'>4:</span><span class='ee-v'>SR_B5</span></li><li><span class='ee-k'>5:</span><span class='ee-v'>SR_B7</span></li><li><span class='ee-k'>6:</span><span class='ee-v'>SR_ATMOS_OPACITY</span></li><li><span class='ee-k'>7:</span><span class='ee-v'>SR_CLOUD_QA</span></li><li><span class='ee-k'>8:</span><span class='ee-v'>ST_B6</span></li><li><span class='ee-k'>9:</span><span class='ee-v'>ST_ATRAN</span></li><li><span class='ee-k'>10:</span><span class='ee-v'>ST_CDIST</span></li><li><span class='ee-k'>11:</span><span class='ee-v'>ST_DRAD</span></li><li><span class='ee-k'>12:</span><span class='ee-v'>ST_EMIS</span></li><li><span class='ee-k'>13:</span><span class='ee-v'>ST_EMSD</span></li><li><span class='ee-k'>14:</span><span class='ee-v'>ST_QA</span></li><li><span class='ee-k'>15:</span><span class='ee-v'>ST_TRAD</span></li><li><span class='ee-k'>16:</span><span class='ee-v'>ST_URAD</span></li><li><span class='ee-k'>17:</span><span class='ee-v'>QA_PIXEL</span></li><li><span class='ee-k'>18:</span><span class='ee-v'>QA_RADSAT</span></li></ul></li><li><span class='ee-k'>system:id:</span><span class='ee-v'>LANDSAT/LE07/C02/T1_L2/LE07_043024_20140810</span></li><li><span class='ee-k'>system:index:</span><span class='ee-v'>LE07_043024_20140810</span></li><li><span class='ee-k'>system:time_end:</span><span class='ee-v'>2014-08-10 18:33:34</span></li><li><span class='ee-k'>system:time_start:</span><span class='ee-v'>2014-08-10 18:33:34</span></li><li><span class='ee-k'>system:version:</span><span class='ee-v'>1622463608977838</span></li></ul></li></ul></div><script>function toggleHeader() {\n",
       "    const parent = this.parentElement;\n",
       "    parent.className = parent.className === \"ee-open\" ? \"ee-shut\" : \"ee-open\";\n",
       "}\n",
       "\n",
       "for (let c of document.getElementsByClassName(\"ee-toggle\")) {\n",
       "    c.onclick = toggleHeader;\n",
       "}</script></div>"
      ],
      "text/plain": [
       "<ee.dictionary.Dictionary at 0x1e5461d9610>"
      ]
     },
     "execution_count": 190,
     "metadata": {},
     "output_type": "execute_result"
    }
   ],
   "source": [
    "## Show your code here - Note I used Ha Ling peak instead, pretty close\n",
    "haling = ee.Geometry.Point(-115.4017, 51.0633)\n",
    "\n",
    "L7_2014 = ee.ImageCollection(\"LANDSAT/LE07/C02/T1_L2\")\\\n",
    "                              .filterBounds(haling)\\\n",
    "                              .filterDate('2014-08-01', '2014-08-31')\\\n",
    "                              .filterMetadata('CLOUD_COVER', \"less_than\", 70)\\\n",
    "                              .sort(\"CLOUD_COVER\")\\\n",
    "                              .first()\n",
    "geemap.image_props(L7_2014)\n"
   ]
  },
  {
   "cell_type": "code",
   "execution_count": 194,
   "metadata": {},
   "outputs": [
    {
     "data": {
      "text/html": [
       "\n",
       "            <style>\n",
       "                .geemap-dark {\n",
       "                    --jp-widgets-color: white;\n",
       "                    --jp-widgets-label-color: white;\n",
       "                    --jp-ui-font-color1: white;\n",
       "                    --jp-layout-color2: #454545;\n",
       "                    background-color: #383838;\n",
       "                }\n",
       "\n",
       "                .geemap-dark .jupyter-button {\n",
       "                    --jp-layout-color3: #383838;\n",
       "                }\n",
       "\n",
       "                .geemap-colab {\n",
       "                    background-color: var(--colab-primary-surface-color, white);\n",
       "                }\n",
       "\n",
       "                .geemap-colab .jupyter-button {\n",
       "                    --jp-layout-color3: var(--colab-primary-surface-color, white);\n",
       "                }\n",
       "            </style>\n",
       "            "
      ],
      "text/plain": [
       "<IPython.core.display.HTML object>"
      ]
     },
     "metadata": {},
     "output_type": "display_data"
    },
    {
     "data": {
      "application/vnd.jupyter.widget-view+json": {
       "model_id": "6a69856dcddc416bb533ddeda8b9edbc",
       "version_major": 2,
       "version_minor": 0
      },
      "text/plain": [
       "Map(center=[51.0633, -115.4017], controls=(WidgetControl(options=['position', 'transparent_bg'], widget=Search…"
      ]
     },
     "execution_count": 194,
     "metadata": {},
     "output_type": "execute_result"
    }
   ],
   "source": [
    "Map = geemap.Map()\n",
    "landsatVis = {'bands': ['SR_B5', 'SR_B4', 'SR_B3'],'min': 100,'max': 20000,'gamma': 1.4}\n",
    "\n",
    "Map.addLayer(L7_2014, landsatVis, 'Landsat over Ha Ling Peak')\n",
    "Map.addLayerControl()\n",
    "Map.centerObject(haling, 15)\n",
    "Map\n"
   ]
  },
  {
   "cell_type": "code",
   "execution_count": null,
   "metadata": {},
   "outputs": [],
   "source": [
    "Cool! Very little veg seen above treeline, naturally."
   ]
  }
 ],
 "metadata": {
  "colab": {
   "provenance": [],
   "toc_visible": true
  },
  "kernelspec": {
   "display_name": "Python 3 (ipykernel)",
   "language": "python",
   "name": "python3"
  },
  "language_info": {
   "codemirror_mode": {
    "name": "ipython",
    "version": 3
   },
   "file_extension": ".py",
   "mimetype": "text/x-python",
   "name": "python",
   "nbconvert_exporter": "python",
   "pygments_lexer": "ipython3",
   "version": "3.12.5"
  }
 },
 "nbformat": 4,
 "nbformat_minor": 4
}
