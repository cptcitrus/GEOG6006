{
 "cells": [
  {
   "cell_type": "markdown",
   "metadata": {
    "id": "jhC2qVwEjN1x"
   },
   "source": [
    "# Optional Lab: SAR and Ice"
   ]
  },
  {
   "cell_type": "markdown",
   "metadata": {
    "id": "rn5rBNDUj5uw"
   },
   "source": [
    "# Introduction\n"
   ]
  },
  {
   "cell_type": "markdown",
   "metadata": {
    "id": "e3dVog1bjzjm"
   },
   "source": [
    "Synthetic Aperture Radar (SAR) is an active sensor that transmits microwaves and measures the amount of signal that is returned to the sensor. The sensor can be airborne, but is more commonly spaceborne in the current times. SAR is collected on the X-, C-, and L-bands, with varying penetrative depths which dictate the utility (and interpretation of the imagery.\n",
    "\n",
    "\n",
    "Many figures in this lab come from *Flores-Anderson, A.I., Herndon, K.E., Thapa, R.B. and Cherrington, E., 2019. The SAR Handbook: Comprehensive Methodologies for Forest Monitoring and Biomass Estimation.*"
   ]
  },
  {
   "cell_type": "markdown",
   "metadata": {
    "id": "i-birGdTlidg"
   },
   "source": [
    "# Imports, installation, authentication, initialization\n",
    "\n",
    "First and foremost, set up the notebook, as we have done in previous labs.\n",
    "\n"
   ]
  },
  {
   "cell_type": "code",
   "execution_count": 1,
   "metadata": {
    "colab": {
     "base_uri": "https://localhost:8080/",
     "height": 17
    },
    "id": "gDsEcMy2jinD",
    "outputId": "e61d0286-a03b-4f4e-bc27-68ec89fceefc"
   },
   "outputs": [],
   "source": [
    "# Import the necessary libraries\n",
    "import ee\n",
    "import numpy as np\n",
    "import geemap as geemap\n",
    "import pprint\n",
    "\n",
    "####pp = pprint.PrettyPrinter(depth=3)"
   ]
  },
  {
   "cell_type": "code",
   "execution_count": 2,
   "metadata": {
    "colab": {
     "base_uri": "https://localhost:8080/",
     "height": 17
    },
    "id": "-lazdFDijlQK",
    "outputId": "83c4cfe8-b76b-4499-c68e-a9d7c4d26bca"
   },
   "outputs": [
    {
     "data": {
      "text/html": [
       "\n",
       "            <style>\n",
       "                .geemap-dark {\n",
       "                    --jp-widgets-color: white;\n",
       "                    --jp-widgets-label-color: white;\n",
       "                    --jp-ui-font-color1: white;\n",
       "                    --jp-layout-color2: #454545;\n",
       "                    background-color: #383838;\n",
       "                }\n",
       "\n",
       "                .geemap-dark .jupyter-button {\n",
       "                    --jp-layout-color3: #383838;\n",
       "                }\n",
       "\n",
       "                .geemap-colab {\n",
       "                    background-color: var(--colab-primary-surface-color, white);\n",
       "                }\n",
       "\n",
       "                .geemap-colab .jupyter-button {\n",
       "                    --jp-layout-color3: var(--colab-primary-surface-color, white);\n",
       "                }\n",
       "            </style>\n",
       "            "
      ],
      "text/plain": [
       "<IPython.core.display.HTML object>"
      ]
     },
     "metadata": {},
     "output_type": "display_data"
    }
   ],
   "source": [
    "\n",
    "# Authenticate and initialize this instance of GEE in Google Colab\n",
    "# Follow the prompts and fill in authentication code\n",
    "ee.Authenticate()\n",
    "ee.Initialize(project='ee-cptcitrus-main')  #you will need to change this to your own earth engine project"
   ]
  },
  {
   "cell_type": "markdown",
   "metadata": {
    "id": "r0Hg5aTz-1Nz"
   },
   "source": [
    "## Useful Functions"
   ]
  },
  {
   "cell_type": "markdown",
   "metadata": {
    "id": "VaYxL9YNw61i"
   },
   "source": [
    "Before we get too far, we need to define some functions for later use. We will call them to perform certains analysis on the imagery by calling the function and passing it (mostly) an image or a set of images. Have a look at the code to see if you can follow the logic of the functions, but you are NOT required to know the particulars of each function."
   ]
  },
  {
   "cell_type": "code",
   "execution_count": 3,
   "metadata": {
    "colab": {
     "base_uri": "https://localhost:8080/",
     "height": 17
    },
    "id": "sQdA04pUfOVs",
    "outputId": "e8cf9b4c-8852-4860-80a2-9918d95b7ad8"
   },
   "outputs": [
    {
     "data": {
      "text/html": [
       "\n",
       "            <style>\n",
       "                .geemap-dark {\n",
       "                    --jp-widgets-color: white;\n",
       "                    --jp-widgets-label-color: white;\n",
       "                    --jp-ui-font-color1: white;\n",
       "                    --jp-layout-color2: #454545;\n",
       "                    background-color: #383838;\n",
       "                }\n",
       "\n",
       "                .geemap-dark .jupyter-button {\n",
       "                    --jp-layout-color3: #383838;\n",
       "                }\n",
       "\n",
       "                .geemap-colab {\n",
       "                    background-color: var(--colab-primary-surface-color, white);\n",
       "                }\n",
       "\n",
       "                .geemap-colab .jupyter-button {\n",
       "                    --jp-layout-color3: var(--colab-primary-surface-color, white);\n",
       "                }\n",
       "            </style>\n",
       "            "
      ],
      "text/plain": [
       "<IPython.core.display.HTML object>"
      ]
     },
     "metadata": {},
     "output_type": "display_data"
    }
   ],
   "source": [
    "## Group of functions contrbuting to the Lee Filter\n",
    "# Function to convert from dB\n",
    "def toNatural(img):\n",
    "    return ee.Image(10.0).pow(img.select(0).divide(10.0))\n",
    "\n",
    "# Function to convert to dB\n",
    "def toDB(img):\n",
    "    return ee.Image(img).log10().multiply(10.0)\n",
    "\n",
    "# The Lee filter is a commonly used filter for SAR imagery, for discussion under the Backscatter section\n",
    "# Below the Lee Filter is provided as coded in the SNAP 3.0 S1TBX:\n",
    "# see:  https:#earth.esa.int/documents/653194/656796/Speckle_Filtering.pdf\n",
    "# and https://github.com/senbox-org/s1tbx/blob/master/s1tbx-op-sar-processing/src/main/java/org/esa/s1tbx/sar/gpf/filtering/SpeckleFilters/RefinedLee.java\n",
    "# Adapted by Guido Lemoine\n",
    "\n",
    "# uses directional masks to determine the most homogeneous part of\n",
    "# the sliding window where local statistics have to be estimated\n",
    "\n",
    "########## Lee filter\n",
    "def RefinedLee(img):\n",
    "    # img must be in natural units, i.e. not in dB!\n",
    "    # Set up 3x3 kernels\n",
    "\n",
    "    # convert to natural.. do not apply function on dB!\n",
    "    # our images are in dB so we need to apply the toNatural algorithm\n",
    "    myimg = toNatural(img)\n",
    "\n",
    "    weights3 = ee.List.repeat(ee.List.repeat(1,3),3)  #this sets all pixels in window to weight of 1\n",
    "    kernel3 = ee.Kernel.fixed(3,3, weights3, 1, 1, False) #this creates a 3x3 window\n",
    "\n",
    "    mean3 = myimg.reduceNeighborhood(ee.Reducer.mean(), kernel3) #this smooths the image using a 3x3 window and calculating the mean for those pixels\n",
    "    variance3 = myimg.reduceNeighborhood(ee.Reducer.variance(), kernel3) #this calculates the variance of each pixel in a 3x3 window - will highlight edges/texture\n",
    "\n",
    "    # Use a sample of the 3x3 windows inside a 7x7 windows to determine gradients and directions\n",
    "    sample_weights = ee.List([[0,0,0,0,0,0,0], [0,1,0,1,0,1,0],[0,0,0,0,0,0,0], [0,1,0,1,0,1,0], [0,0,0,0,0,0,0], [0,1,0,1,0,1,0],[0,0,0,0,0,0,0]])\n",
    "\n",
    "    sample_kernel = ee.Kernel.fixed(7,7, sample_weights, 3,3, False)\n",
    "\n",
    "    # Calculate mean and variance for the sampled windows and store as 9 bands\n",
    "    sample_mean = mean3.neighborhoodToBands(sample_kernel)\n",
    "    sample_var = variance3.neighborhoodToBands(sample_kernel)\n",
    "\n",
    "    # Determine the 4 gradients for the sampled windows\n",
    "    gradients = sample_mean.select(1).subtract(sample_mean.select(7)).abs()\n",
    "    gradients = gradients.addBands(sample_mean.select(6).subtract(sample_mean.select(2)).abs())\n",
    "    gradients = gradients.addBands(sample_mean.select(3).subtract(sample_mean.select(5)).abs())\n",
    "    gradients = gradients.addBands(sample_mean.select(0).subtract(sample_mean.select(8)).abs())\n",
    "\n",
    "    # And find the maximum gradient amongst gradient bands\n",
    "    max_gradient = gradients.reduce(ee.Reducer.max())\n",
    "\n",
    "    # Create a mask for band pixels that are the maximum gradient\n",
    "    gradmask = gradients.eq(max_gradient)\n",
    "\n",
    "    # duplicate gradmask bands: each gradient represents 2 directions\n",
    "    gradmask = gradmask.addBands(gradmask)\n",
    "\n",
    "    # Determine the 8 directions\n",
    "    directions = sample_mean.select(1).subtract(sample_mean.select(4)).gt(sample_mean.select(4).subtract(sample_mean.select(7))).multiply(1)\n",
    "    directions = directions.addBands(sample_mean.select(6).subtract(sample_mean.select(4)).gt(sample_mean.select(4).subtract(sample_mean.select(2))).multiply(2))\n",
    "    directions = directions.addBands(sample_mean.select(3).subtract(sample_mean.select(4)).gt(sample_mean.select(4).subtract(sample_mean.select(5))).multiply(3))\n",
    "    directions = directions.addBands(sample_mean.select(0).subtract(sample_mean.select(4)).gt(sample_mean.select(4).subtract(sample_mean.select(8))).multiply(4))\n",
    "    # The next 4 are the not() of the previous 4\n",
    "    directions = directions.addBands(directions.select(0).Not().multiply(5))\n",
    "    directions = directions.addBands(directions.select(1).Not().multiply(6))\n",
    "    directions = directions.addBands(directions.select(2).Not().multiply(7))\n",
    "    directions = directions.addBands(directions.select(3).Not().multiply(8))\n",
    "\n",
    "    # Mask all values that are not 1-8\n",
    "    directions = directions.updateMask(gradmask)\n",
    "\n",
    "    # \"collapse\" the stack into a singe band image (due to masking, each pixel has just one value (1-8) in it's directional band, and is otherwise masked)\n",
    "    directions = directions.reduce(ee.Reducer.sum())\n",
    "\n",
    "    sample_stats = sample_var.divide(sample_mean.multiply(sample_mean))\n",
    "\n",
    "    # Calculate localNoiseVariance\n",
    "    sigmaV = sample_stats.toArray().arraySort().arraySlice(0,0,5).arrayReduce(ee.Reducer.mean(), [0])\n",
    "\n",
    "    # Set up the 7*7 kernels for directional statistics\n",
    "    rect_weights = ee.List.repeat(ee.List.repeat(0,7),3).cat(ee.List.repeat(ee.List.repeat(1,7),4))\n",
    "\n",
    "    diag_weights = ee.List([[1,0,0,0,0,0,0], [1,1,0,0,0,0,0], [1,1,1,0,0,0,0],\n",
    "                            [1,1,1,1,0,0,0], [1,1,1,1,1,0,0], [1,1,1,1,1,1,0], [1,1,1,1,1,1,1]])\n",
    "\n",
    "    rect_kernel = ee.Kernel.fixed(7,7, rect_weights, 3, 3, False)\n",
    "    diag_kernel = ee.Kernel.fixed(7,7, diag_weights, 3, 3, False)\n",
    "\n",
    "    # Create stacks for mean and variance using the original kernels. Mask with relevant direction.\n",
    "    dir_mean = myimg.reduceNeighborhood(ee.Reducer.mean(), rect_kernel).updateMask(directions.eq(1))\n",
    "    dir_var = myimg.reduceNeighborhood(ee.Reducer.variance(), rect_kernel).updateMask(directions.eq(1))\n",
    "\n",
    "    dir_mean = dir_mean.addBands(myimg.reduceNeighborhood(ee.Reducer.mean(), diag_kernel).updateMask(directions.eq(2)))\n",
    "    dir_var= dir_var.addBands(myimg.reduceNeighborhood(ee.Reducer.variance(), diag_kernel).updateMask(directions.eq(2)))\n",
    "\n",
    "    # and add the bands for rotated kernels\n",
    "    for i in range(1,4):\n",
    "        dir_mean = dir_mean.addBands(myimg.reduceNeighborhood(ee.Reducer.mean(), rect_kernel.rotate(i)).updateMask(directions.eq(2*i+1)))\n",
    "        dir_var = dir_var.addBands(myimg.reduceNeighborhood(ee.Reducer.variance(), rect_kernel.rotate(i)).updateMask(directions.eq(2*i+1)))\n",
    "        dir_mean = dir_mean.addBands(myimg.reduceNeighborhood(ee.Reducer.mean(), diag_kernel.rotate(i)).updateMask(directions.eq(2*i+2)))\n",
    "        dir_var = dir_var.addBands(myimg.reduceNeighborhood(ee.Reducer.variance(), diag_kernel.rotate(i)).updateMask(directions.eq(2*i+2)))\n",
    "\n",
    "    # \"collapse\" the stack into a single band image (due to masking, each pixel has just one value in it's directional band, and is otherwise masked)\n",
    "    dir_mean = dir_mean.reduce(ee.Reducer.sum())\n",
    "    dir_var= dir_var.reduce(ee.Reducer.sum())\n",
    "\n",
    "    # A finally generate the filtered value\n",
    "    varX = dir_var.subtract(dir_mean.multiply(dir_mean).multiply(sigmaV)).divide(sigmaV.add(1.0))\n",
    "\n",
    "    b = varX.divide(dir_var)\n",
    "\n",
    "    result = dir_mean.add(b.multiply(myimg.subtract(dir_mean)))\n",
    "    #return(result)\n",
    "    return(img.addBands(ee.Image(toDB(result.arrayGet(0))).rename(\"filter\")))\n",
    "    #end of function"
   ]
  },
  {
   "cell_type": "code",
   "execution_count": 4,
   "metadata": {
    "colab": {
     "base_uri": "https://localhost:8080/",
     "height": 17
    },
    "id": "o8y34SwfqFf8",
    "outputId": "f0024186-5598-405c-b9d1-7d90fade6d79"
   },
   "outputs": [
    {
     "data": {
      "text/html": [
       "\n",
       "            <style>\n",
       "                .geemap-dark {\n",
       "                    --jp-widgets-color: white;\n",
       "                    --jp-widgets-label-color: white;\n",
       "                    --jp-ui-font-color1: white;\n",
       "                    --jp-layout-color2: #454545;\n",
       "                    background-color: #383838;\n",
       "                }\n",
       "\n",
       "                .geemap-dark .jupyter-button {\n",
       "                    --jp-layout-color3: #383838;\n",
       "                }\n",
       "\n",
       "                .geemap-colab {\n",
       "                    background-color: var(--colab-primary-surface-color, white);\n",
       "                }\n",
       "\n",
       "                .geemap-colab .jupyter-button {\n",
       "                    --jp-layout-color3: var(--colab-primary-surface-color, white);\n",
       "                }\n",
       "            </style>\n",
       "            "
      ],
      "text/plain": [
       "<IPython.core.display.HTML object>"
      ]
     },
     "metadata": {},
     "output_type": "display_data"
    }
   ],
   "source": [
    "# This function looks at layover, foreshortening, and shadowing, explained in the section on Ascending vs Descending\n",
    "import math\n",
    "\n",
    "# This function identifies area of layover and shadow, and performs terrain correction based on the Arctic DEM\n",
    "# This script is adapted from an implementation by Andreas Vollrath (ESA)\n",
    "def terrainCorrection(image):\n",
    "  imgGeom = ee.Geometry(image.geometry())\n",
    "  srtm = ee.Image('UMN/PGC/ArcticDEM/V3/2m_mosaic').clip(imgGeom) # 2m ArcticDEM\n",
    "  sigma0Pow = ee.Image.constant(10).pow(image.divide(10.0))\n",
    "\n",
    "  #  Radar geometry\n",
    "  theta_i = image.select('angle')\n",
    "  phi_i = ee.Terrain.aspect(theta_i) \\\n",
    "    .reduceRegion(ee.Reducer.mean(), theta_i.get('system:footprint'), 1000) \\\n",
    "    .get('aspect')\n",
    "\n",
    "  #  Terrain geometry\n",
    "  alpha_s = ee.Terrain.slope(srtm).select('slope')\n",
    "  phi_s = ee.Terrain.aspect(srtm).select('aspect')\n",
    "\n",
    "  #  Model geometry\n",
    "  # Reduce to 3 angle\n",
    "  phi_r = ee.Image.constant(phi_i).subtract(phi_s)\n",
    "\n",
    "  # Ronvert all to radians\n",
    "  phi_rRad = phi_r.multiply(math.pi / 180)\n",
    "  alpha_sRad = alpha_s.multiply(math.pi / 180)\n",
    "  theta_iRad = theta_i.multiply(math.pi / 180)\n",
    "  ninetyRad = ee.Image.constant(90).multiply(math.pi / 180)\n",
    "\n",
    "  # Slope steepness in range (eq. 2)\n",
    "  alpha_r = (alpha_sRad.tan().multiply(phi_rRad.cos())).atan()\n",
    "\n",
    "  # Slope steepness in azimuth (eq 3)\n",
    "  alpha_az = (alpha_sRad.tan().multiply(phi_rRad.sin())).atan()\n",
    "\n",
    "  # Local incidence angle (eq. 4)\n",
    "  theta_lia = (alpha_az.cos().multiply((theta_iRad.subtract(alpha_r)).cos())).acos()\n",
    "  theta_liaDeg = theta_lia.multiply(180 / math.pi)\n",
    "\n",
    "  # Gamma_nought_flat\n",
    "  gamma0 = sigma0Pow.divide(theta_iRad.cos())\n",
    "  gamma0dB = ee.Image.constant(10).multiply(gamma0.log10())\n",
    "  ratio_1 = gamma0dB.select('VV').subtract(gamma0dB.select('VH'))\n",
    "\n",
    "  # Volumetric Model\n",
    "  nominator = (ninetyRad.subtract(theta_iRad).add(alpha_r)).tan()\n",
    "  denominator = (ninetyRad.subtract(theta_iRad)).tan()\n",
    "  volModel = (nominator.divide(denominator)).abs()\n",
    "\n",
    "  # Apply model\n",
    "  gamma0_Volume = gamma0.divide(volModel)\n",
    "  gamma0_VolumeDB = ee.Image.constant(10).multiply(gamma0_Volume.log10())\n",
    "\n",
    "  # We add a layover/shadow mask to the original implmentation\n",
    "  # layover, where slope > radar viewing angle\n",
    "  alpha_rDeg = alpha_r.multiply(180 / math.pi)\n",
    "  layover = alpha_rDeg.lt(theta_i)\n",
    "\n",
    "  # Shadow where LIA > 85\n",
    "  shadow = theta_liaDeg.lt(85)\n",
    "\n",
    "  # Calculate the ratio for RGB vis\n",
    "  ratio = gamma0_VolumeDB.select('VV').subtract(gamma0_VolumeDB.select('VH'))\n",
    "\n",
    "  output = gamma0_VolumeDB.addBands(ratio).addBands(alpha_r).addBands(phi_s).addBands(theta_iRad) \\\n",
    "    .addBands(layover).addBands(shadow).addBands(gamma0dB).addBands(ratio_1)\n",
    "\n",
    "  return image.addBands(output.select(['VV', 'VH', 'slope_1', 'slope_2'], ['VV', 'VH', 'layover', 'shadow']), None, True)"
   ]
  },
  {
   "cell_type": "markdown",
   "metadata": {
    "id": "eFLa8pkYkp9w"
   },
   "source": [
    "#Synthetic Aperture Radar\n",
    "\n",
    "Let's start by looking at the difference between SAR imagery and optical imagery.\n",
    "\n",
    "The Kaskawulsh Glacier is a land-terminating glacier in the St Elias Range near the Alaska/Yukon/BC border. It has been the site for a variety of glaciological research and is easily recognizable in satellite imagery. It is located in the rain shadow of the Rocky Mountains, and so has distinctive seasonal differences.\n"
   ]
  },
  {
   "cell_type": "markdown",
   "metadata": {
    "id": "kT3SShku1ZqI"
   },
   "source": [
    "![Kaskwulsh_locator.jpg](data:image/jpeg;base64,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)"
   ]
  },
  {
   "cell_type": "markdown",
   "metadata": {
    "id": "CgS50aceG3pf"
   },
   "source": [
    "We want to choose an appropiate point to help us visualize, map, and compare a variety of imagery, as well as the results of our scripts, where we will be using comparisons to demonstrate some important characteristics of SAR imagery for cryospheric research. The point we have chosen is mid-way up the glacier, near the equilibrium line, and in the middle of the glacier.\n"
   ]
  },
  {
   "cell_type": "code",
   "execution_count": 5,
   "metadata": {
    "colab": {
     "base_uri": "https://localhost:8080/",
     "height": 17
    },
    "id": "_aErAZGl2p3o",
    "outputId": "cfe7a9c1-f58b-42c3-cc6f-ff36e3d1b84c"
   },
   "outputs": [
    {
     "data": {
      "text/html": [
       "\n",
       "            <style>\n",
       "                .geemap-dark {\n",
       "                    --jp-widgets-color: white;\n",
       "                    --jp-widgets-label-color: white;\n",
       "                    --jp-ui-font-color1: white;\n",
       "                    --jp-layout-color2: #454545;\n",
       "                    background-color: #383838;\n",
       "                }\n",
       "\n",
       "                .geemap-dark .jupyter-button {\n",
       "                    --jp-layout-color3: #383838;\n",
       "                }\n",
       "\n",
       "                .geemap-colab {\n",
       "                    background-color: var(--colab-primary-surface-color, white);\n",
       "                }\n",
       "\n",
       "                .geemap-colab .jupyter-button {\n",
       "                    --jp-layout-color3: var(--colab-primary-surface-color, white);\n",
       "                }\n",
       "            </style>\n",
       "            "
      ],
      "text/plain": [
       "<IPython.core.display.HTML object>"
      ]
     },
     "metadata": {},
     "output_type": "display_data"
    }
   ],
   "source": [
    "# Set a point on the Kaskawulsh Glacier (mid-glacier) for filtering purposes\n",
    "kask_gl = ee.Geometry.Point(-139.013173, 60.755079)"
   ]
  },
  {
   "cell_type": "markdown",
   "metadata": {
    "id": "xEyKwHqnyqFm"
   },
   "source": [
    "###Why chose SAR?"
   ]
  },
  {
   "cell_type": "markdown",
   "metadata": {
    "id": "POPClRCY51Dx"
   },
   "source": [
    "There are many times when SAR is a better choice than optical imagery.  It can be very difficult to distinguish between land and ice in the winter images, even if we have chosen the most cloud-free imagery. Synthetic Aperture Radar (SAR) is often used for ice-related topics as research areas are often located in areas with limited season light (i.e. the Arctic), heavy cloud cover, and relatively small optical differences between ice and snow. The active microwave sensor is able to penetrate cloud cover, does not rely on sunlight for acquisition, and carries a distinct and recognizably different response between water, snow, ice, and land.\n",
    "\n"
   ]
  },
  {
   "cell_type": "markdown",
   "metadata": {
    "id": "nfXOffT70iVQ"
   },
   "source": [
    "#### Notable SAR Parameters\n",
    "There are a few parameters in the metadata worth noting, as they are the main filters we use to choose specific imagery:\n",
    "\n",
    "1.   IMAGE_DATE\n",
    "2.   instrumentSwath\n",
    "3.   orbitProperties_pass  \n",
    "4.   transmitterReceiverPolarisation\n",
    "\n",
    "Sentinel-1 collections C-band imagery, which penetrates surface materials, which means that as glacier surface conditions change seasonally, acquired imagery will differ due to changes on the glacier surface. For example, as spring hits, snow accumulated on the surface will start to melt, which increases the water content of the surface materials and returns dark. Winter, on the other hand, tends to accumulate dry snow, which returns on the white and light gray. In either instance, C-band pentrates enough to distinguish the underlying materials (i.e. rock vs. ice). This is important later when looking at surface response along the glacier, which also exhibits an elevation gradient.\n",
    "\n"
   ]
  },
  {
   "cell_type": "markdown",
   "metadata": {
    "id": "tmj8hKbIgJ0m"
   },
   "source": [
    "![image.png](data:image/png;base64,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)"
   ]
  },
  {
   "cell_type": "markdown",
   "metadata": {
    "id": "ow8Azy4Tkt2H"
   },
   "source": [
    "Surface roughness and dielectic properties (if and how deep the microwaves penetrate) are two parameters that influence the amount of backscatter returned to the sensor and the return presented in the imagery.\n",
    "\n",
    "Once we know this, we can look at SAR imagery and make some conclusions about glacier surface conditions. Other techniques can be applied to capture ice motion using the particular patterns of backscatter unique to each pixel ('speckletracking'). For now, we will focus on the static imagery.\n",
    "\n",
    "\n"
   ]
  },
  {
   "cell_type": "code",
   "execution_count": 6,
   "metadata": {
    "colab": {
     "base_uri": "https://localhost:8080/",
     "height": 34
    },
    "id": "a23_oAwXn3GY",
    "outputId": "4fac2912-692d-4852-a009-86dd04cf5b8b"
   },
   "outputs": [
    {
     "data": {
      "text/html": [
       "\n",
       "            <style>\n",
       "                .geemap-dark {\n",
       "                    --jp-widgets-color: white;\n",
       "                    --jp-widgets-label-color: white;\n",
       "                    --jp-ui-font-color1: white;\n",
       "                    --jp-layout-color2: #454545;\n",
       "                    background-color: #383838;\n",
       "                }\n",
       "\n",
       "                .geemap-dark .jupyter-button {\n",
       "                    --jp-layout-color3: #383838;\n",
       "                }\n",
       "\n",
       "                .geemap-colab {\n",
       "                    background-color: var(--colab-primary-surface-color, white);\n",
       "                }\n",
       "\n",
       "                .geemap-colab .jupyter-button {\n",
       "                    --jp-layout-color3: var(--colab-primary-surface-color, white);\n",
       "                }\n",
       "            </style>\n",
       "            "
      ],
      "text/plain": [
       "<IPython.core.display.HTML object>"
      ]
     },
     "metadata": {},
     "output_type": "display_data"
    }
   ],
   "source": [
    "#load an image collection comprised of Sentinel 1 imagery\n",
    "# ee.ImageCollection(\"COPERNICUS/S1_GRD\")"
   ]
  },
  {
   "cell_type": "code",
   "execution_count": 7,
   "metadata": {
    "colab": {
     "base_uri": "https://localhost:8080/",
     "height": 1000
    },
    "id": "_bNtSxPzn3JH",
    "outputId": "3acf19a3-a225-44d2-9477-aca0674ddb5a"
   },
   "outputs": [
    {
     "data": {
      "text/html": [
       "\n",
       "            <style>\n",
       "                .geemap-dark {\n",
       "                    --jp-widgets-color: white;\n",
       "                    --jp-widgets-label-color: white;\n",
       "                    --jp-ui-font-color1: white;\n",
       "                    --jp-layout-color2: #454545;\n",
       "                    background-color: #383838;\n",
       "                }\n",
       "\n",
       "                .geemap-dark .jupyter-button {\n",
       "                    --jp-layout-color3: #383838;\n",
       "                }\n",
       "\n",
       "                .geemap-colab {\n",
       "                    background-color: var(--colab-primary-surface-color, white);\n",
       "                }\n",
       "\n",
       "                .geemap-colab .jupyter-button {\n",
       "                    --jp-layout-color3: var(--colab-primary-surface-color, white);\n",
       "                }\n",
       "            </style>\n",
       "            "
      ],
      "text/plain": [
       "<IPython.core.display.HTML object>"
      ]
     },
     "metadata": {},
     "output_type": "display_data"
    },
    {
     "data": {
      "text/plain": [
       "{'GRD_Post_Processing_facility_country': 'United Kingdom',\n",
       " 'GRD_Post_Processing_facility_name': 'UPA_',\n",
       " 'GRD_Post_Processing_facility_org': 'Aibus DS',\n",
       " 'GRD_Post_Processing_facility_site': 'Farnborough',\n",
       " 'GRD_Post_Processing_software_name': 'Sentinel-1 IPF',\n",
       " 'GRD_Post_Processing_software_version': '002.43',\n",
       " 'GRD_Post_Processing_start': 1433151286180,\n",
       " 'GRD_Post_Processing_stop': 1433151680000,\n",
       " 'IMAGE_DATE': '2015-06-01',\n",
       " 'NOMINAL_SCALE': {'VV': 10.0003, 'angle': 16044.292913500352},\n",
       " 'S1TBX_Calibration_vers': '6.0.4',\n",
       " 'S1TBX_SAR_Processing_vers': '6.0.4',\n",
       " 'SLC_Processing_facility_country': 'United Kingdom',\n",
       " 'SLC_Processing_facility_name': 'UPA_',\n",
       " 'SLC_Processing_facility_org': 'Aibus DS',\n",
       " 'SLC_Processing_facility_site': 'Farnborough',\n",
       " 'SLC_Processing_software_name': 'Sentinel-1 IPF',\n",
       " 'SLC_Processing_software_version': '002.43',\n",
       " 'SLC_Processing_start': 1433151416000,\n",
       " 'SLC_Processing_stop': 1433151608000,\n",
       " 'SNAP_Graph_Processing_Framework_GPF_vers': '6.0.4',\n",
       " 'cycleNumber': 49,\n",
       " 'familyName': 'SENTINEL-1',\n",
       " 'instrument': 'Synthetic Aperture Radar',\n",
       " 'instrumentConfigurationID': 3,\n",
       " 'instrumentMode': 'IW',\n",
       " 'instrumentSwath': 'IW',\n",
       " 'missionDataTakeID': 32919,\n",
       " 'nssdcIdentifier': '0000-000A',\n",
       " 'orbitNumber_start': 6174,\n",
       " 'orbitNumber_stop': 6174,\n",
       " 'orbitProperties_ascendingNodeTime': 1433125811290,\n",
       " 'orbitProperties_pass': 'ASCENDING',\n",
       " 'phaseIdentifier': 1,\n",
       " 'platform_number': 'A',\n",
       " 'productClass': 'S',\n",
       " 'productClassDescription': 'SAR Standard L1 Product',\n",
       " 'productComposition': 'Slice',\n",
       " 'productTimelinessCategory': 'Fast-24h',\n",
       " 'productType': 'GRD',\n",
       " 'relativeOrbitNumber_start': 152,\n",
       " 'relativeOrbitNumber_stop': 152,\n",
       " 'resolution': 'H',\n",
       " 'resolution_meters': 10,\n",
       " 'segmentStartTime': 1433126730960,\n",
       " 'sliceNumber': 3,\n",
       " 'sliceProductFlag': 'true',\n",
       " 'startTimeANX': 973253.4,\n",
       " 'stopTimeANX': 998251.1,\n",
       " 'system:asset_size': '2027.156917 MB',\n",
       " 'system:band_names': ['VV', 'angle'],\n",
       " 'system:id': 'COPERNICUS/S1_GRD/S1A_IW_GRDH_1SSV_20150601T024624_20150601T024649_006174_008097_3791',\n",
       " 'system:index': 'S1A_IW_GRDH_1SSV_20150601T024624_20150601T024649_006174_008097_3791',\n",
       " 'system:time_end': '2015-06-01 02:46:24',\n",
       " 'system:time_start': '2015-06-01 02:46:24',\n",
       " 'system:version': 1731540950173060.0,\n",
       " 'totalSlices': 5,\n",
       " 'transmitterReceiverPolarisation': ['VV']}"
      ]
     },
     "execution_count": 7,
     "metadata": {},
     "output_type": "execute_result"
    }
   ],
   "source": [
    "# Filter Sentinel 1 Collection by metadata properties\n",
    "  # Filter to get images with VV polarization\n",
    "  # Filter to get images collected in interferometric wide swath mode\n",
    "  # Filter to get images in ascending orbit\n",
    "s1_col =  ee.ImageCollection('COPERNICUS/S1_GRD')\\\n",
    "              .filter(ee.Filter.listContains('transmitterReceiverPolarisation', 'VV'))\\\n",
    "              .filter(ee.Filter.eq('instrumentMode', 'IW'))\\\n",
    "              .filter(ee.Filter.eq('orbitProperties_pass', 'ASCENDING'))\n",
    "\n",
    "# Filter the collection by and location. Here, we are looking at a summer image\n",
    "s1_img_VV_summer = s1_col.filterBounds(kask_gl)\\\n",
    "                  .filterDate('2018-06-01','2019-08-30')\\\n",
    "                  .first()# Choose first image in collection\n",
    "\n",
    "s1_img_VV_summer_old = s1_col.filterBounds(kask_gl)\\\n",
    "                  .filterDate('2015-06-01','2015-08-30')\\\n",
    "                  .first()# Choose first image in collection\n",
    "\n",
    "# Print image properties\n",
    "imageprops = geemap.image_props(s1_img_VV_summer_old)\n",
    "imageprops.getInfo()"
   ]
  },
  {
   "cell_type": "code",
   "execution_count": 8,
   "metadata": {
    "colab": {
     "base_uri": "https://localhost:8080/",
     "height": 621,
     "referenced_widgets": [
      "c865fb5e803641ec8a39b6c07006657f",
      "712c1e9fc8654f21adcc68571dceb858",
      "d6f7a27112e34f1f97e305f007607dea",
      "c80f601055764009bdcca8be32259fed",
      "38316c33fd0d4b13bdf44966052b91aa",
      "afe97e95630c48e68b536e723e857b5e",
      "3d5838f315bc40739d94fa3f2f65cc75",
      "80bfa45d9ab0452b84299b9cced0cbbb",
      "10c317a7919d4a36a562f6e5974775d8",
      "617c2d337bbd412b8d1b60e2fb08e469",
      "a06ab3f8f9e241bea85b9024f7904f28",
      "397008f229034dbc8adebad38296308e",
      "00c111299e714ead8a17d77b7ea4bafd",
      "d4af79c524f641bc960d3b7df750de69",
      "02892f44a4af432fbecda60d909d5d00",
      "de4f2d1914da4016a8ffb3c0c23433cb",
      "27add4b190e04b62b2d6e893791db9b4",
      "9b2849155d3640b0a945b8b0d21f82cb",
      "93fef2062c5142118659504383a3af17",
      "c7cc5876fcdd461ca481a8711b6c0c61",
      "453bb4586bc54875b24e257bf8eacce5",
      "b6e3ce8cc5b34786ad458e329d56eb81",
      "d336ebc15e144c688e550ff67e7da0c8",
      "cbc9ca04fca24bb79f1565287fb4ffe9",
      "2a69df9eefb149fe92b42e5f5b8d9fe2",
      "0157eecc4e3a44a7bca41391e4f23575"
     ]
    },
    "id": "4-kg2HkrrU59",
    "outputId": "7476f8b1-64f9-4005-cade-70911ce466c7"
   },
   "outputs": [
    {
     "data": {
      "text/html": [
       "\n",
       "            <style>\n",
       "                .geemap-dark {\n",
       "                    --jp-widgets-color: white;\n",
       "                    --jp-widgets-label-color: white;\n",
       "                    --jp-ui-font-color1: white;\n",
       "                    --jp-layout-color2: #454545;\n",
       "                    background-color: #383838;\n",
       "                }\n",
       "\n",
       "                .geemap-dark .jupyter-button {\n",
       "                    --jp-layout-color3: #383838;\n",
       "                }\n",
       "\n",
       "                .geemap-colab {\n",
       "                    background-color: var(--colab-primary-surface-color, white);\n",
       "                }\n",
       "\n",
       "                .geemap-colab .jupyter-button {\n",
       "                    --jp-layout-color3: var(--colab-primary-surface-color, white);\n",
       "                }\n",
       "            </style>\n",
       "            "
      ],
      "text/plain": [
       "<IPython.core.display.HTML object>"
      ]
     },
     "metadata": {},
     "output_type": "display_data"
    },
    {
     "data": {
      "application/vnd.jupyter.widget-view+json": {
       "model_id": "e8ab6ed9fc0d44fc9ae8d4f6345df861",
       "version_major": 2,
       "version_minor": 0
      },
      "text/plain": [
       "Map(center=[60.75507900000001, -139.013173], controls=(WidgetControl(options=['position', 'transparent_bg'], w…"
      ]
     },
     "execution_count": 8,
     "metadata": {},
     "output_type": "execute_result"
    }
   ],
   "source": [
    "# Display Sentinel 1 image on map\n",
    "Map = geemap.Map()\n",
    "Map.centerObject(kask_gl, 13)\n",
    "Map.addLayer(s1_img_VV_summer, {'bands': ['VV','VV','VV'], 'min': -20,'max': 0},'S1-image')\n",
    "Map.addLayer(s1_img_VV_summer_old, {'bands': ['VV','VV','VV'], 'min': -20,'max': 0},'S1-image_older')\n",
    "Map"
   ]
  },
  {
   "cell_type": "markdown",
   "metadata": {
    "id": "DS89SxpNc-2y"
   },
   "source": [
    "Once again, this is a summer image. Let's compare it with a winter SAR image."
   ]
  },
  {
   "cell_type": "code",
   "execution_count": 9,
   "metadata": {
    "colab": {
     "base_uri": "https://localhost:8080/",
     "height": 17
    },
    "id": "letKavxldIbC",
    "outputId": "380e756d-39a0-4960-fb58-43ed226136da"
   },
   "outputs": [
    {
     "data": {
      "text/html": [
       "\n",
       "            <style>\n",
       "                .geemap-dark {\n",
       "                    --jp-widgets-color: white;\n",
       "                    --jp-widgets-label-color: white;\n",
       "                    --jp-ui-font-color1: white;\n",
       "                    --jp-layout-color2: #454545;\n",
       "                    background-color: #383838;\n",
       "                }\n",
       "\n",
       "                .geemap-dark .jupyter-button {\n",
       "                    --jp-layout-color3: #383838;\n",
       "                }\n",
       "\n",
       "                .geemap-colab {\n",
       "                    background-color: var(--colab-primary-surface-color, white);\n",
       "                }\n",
       "\n",
       "                .geemap-colab .jupyter-button {\n",
       "                    --jp-layout-color3: var(--colab-primary-surface-color, white);\n",
       "                }\n",
       "            </style>\n",
       "            "
      ],
      "text/plain": [
       "<IPython.core.display.HTML object>"
      ]
     },
     "metadata": {},
     "output_type": "display_data"
    }
   ],
   "source": [
    "# Filter the collection by and location for winter imagery\n",
    "s1_img_VV_winter = s1_col.filterBounds(kask_gl)\\\n",
    "                  .filterDate('2019-11-01', '2020-04-01')\\\n",
    "                  .first()# Choose first image in collection\n"
   ]
  },
  {
   "cell_type": "code",
   "execution_count": 10,
   "metadata": {
    "colab": {
     "base_uri": "https://localhost:8080/",
     "height": 621,
     "referenced_widgets": [
      "4ef55a4c11ac49988036ff2b69caff3f",
      "3935778a3ebe479bacb9ecaed5740058",
      "ae588b3ca3b24429a6832a0f8221b9fd",
      "1dc4686bf6e143b7989c535676097b4a",
      "b63829029544455c986a5688e6c453bf",
      "ba65e82930ba4a6e8079d7ebd52d4943",
      "23adea234d1e4b528ff1603418ca772c",
      "d5cd231026694bf388a35cea56f37731",
      "a8ecfc7ad6a5456cbeb189eb0cda3d56",
      "9637f91495aa4d48bd3f3d1bd09813e0",
      "701a69648b704e2683a7f95078649dff",
      "898fbfb785c14cfb96bf6f318da3132a",
      "deef36bc12de424b821ba741861c6e24",
      "b6f846e9f53445b09266147999ffde0d",
      "319b1bf162b34022a385cf67d06a0253",
      "371e61adb7f343ffbb0f2d1625f0c2b9",
      "0f1b2a2456074e2d955b4473d92a765a",
      "a9ae8361a02b45e2ac1f590ed4f449c9",
      "08726b7c3322455a98fcb2ae2a87c1b3",
      "1de6e9a139694ad7b89a836f24642498",
      "79662433cb5d45869e81d9cdd9d6c9ed",
      "2ebfba6aff4c401aa4580bfbb9f81be5",
      "be1a71b272a14e5c95c139718c1405f7",
      "2aa1973f283b466097b28e67c105b0ca",
      "e7602f52c32c4ec2b332caffb309ad4e",
      "16ab11f19d6444f286f5ec2eed02b474",
      "2f54f6ecc46540c48eb0ed6c5d08dc52"
     ]
    },
    "id": "mElbQdYcdfTK",
    "outputId": "1ee49f06-481b-4959-f383-0eab6d6fb569"
   },
   "outputs": [
    {
     "data": {
      "text/html": [
       "\n",
       "            <style>\n",
       "                .geemap-dark {\n",
       "                    --jp-widgets-color: white;\n",
       "                    --jp-widgets-label-color: white;\n",
       "                    --jp-ui-font-color1: white;\n",
       "                    --jp-layout-color2: #454545;\n",
       "                    background-color: #383838;\n",
       "                }\n",
       "\n",
       "                .geemap-dark .jupyter-button {\n",
       "                    --jp-layout-color3: #383838;\n",
       "                }\n",
       "\n",
       "                .geemap-colab {\n",
       "                    background-color: var(--colab-primary-surface-color, white);\n",
       "                }\n",
       "\n",
       "                .geemap-colab .jupyter-button {\n",
       "                    --jp-layout-color3: var(--colab-primary-surface-color, white);\n",
       "                }\n",
       "            </style>\n",
       "            "
      ],
      "text/plain": [
       "<IPython.core.display.HTML object>"
      ]
     },
     "metadata": {},
     "output_type": "display_data"
    },
    {
     "data": {
      "application/vnd.jupyter.widget-view+json": {
       "model_id": "fff002b2d9254b439af075de6f830cb8",
       "version_major": 2,
       "version_minor": 0
      },
      "text/plain": [
       "Map(center=[60.75507900000001, -139.013173], controls=(WidgetControl(options=['position', 'transparent_bg'], w…"
      ]
     },
     "execution_count": 10,
     "metadata": {},
     "output_type": "execute_result"
    }
   ],
   "source": [
    "# Display images on a map for comparison\n",
    "Map = geemap.Map()\n",
    "\n",
    "Map.centerObject(kask_gl, 13)\n",
    "\n",
    "Map.addLayer(s1_img_VV_summer, {'bands': ['VV','VV','VV'], 'min': -20,'max': 0},'S1-image_summer')\n",
    "Map.addLayer(s1_img_VV_winter, {'bands': ['VV','VV','VV'], 'min': -20,'max': 0},'S1-image_winter')\n",
    "\n",
    "Map.addLayerControl()\n",
    "Map"
   ]
  },
  {
   "cell_type": "markdown",
   "metadata": {
    "id": "ORLXk5C_CPkk"
   },
   "source": [
    "You will notice that the summer image has a lot more dark areas, whereas the winter image has more light areas, particularly in the upper reaches of the glacier. Seasonal differences in surface materials and their properties are the main reasons behind these differences."
   ]
  },
  {
   "cell_type": "markdown",
   "metadata": {
    "id": "mMDP4qWb6kU5"
   },
   "source": [
    "#Surface properties and their impacts\n"
   ]
  },
  {
   "cell_type": "markdown",
   "metadata": {
    "id": "09qBqOwLfOoI"
   },
   "source": [
    "# Backscatter\n",
    "SAR imagery measures how much of the transmitted signal is scattered or absorbed by the surface materials (backscatter) and returned to the sensor (the 'return'). The two main factors that influence backscatter are:\n",
    "\n",
    "1.   Roughness\n",
    "2.   Dielectric properties\n"
   ]
  },
  {
   "cell_type": "markdown",
   "metadata": {
    "id": "BXXmBLsV1eXk"
   },
   "source": [
    "### A note on Speckle and Lee Filters\n",
    "Materials scatter the transmitted signal and often there are other surfaces in the same pixel causing the signal to bounce around, creating 'speckle' or the salt and pepper pattern that underlies most areas. If you zoom into the previous image, you will notice the grainy appearance of the image which is the speckle.\n",
    "\n",
    "We can apply a filter to the image to help reduce noise. The Lee filter uses local statistics to 'despeckle' the images. Applying such a filter will make flat surfaces appear more smooth, but edges are hard to maintain. We could adjust the window size (the area taken into account when caluclating the statistics). Smaller window sizes are better for more heterogenous areas like these mountains, where the measurements can varying dramatically over a small area. There are also newer versions of the Lee filter than the one we apply here."
   ]
  },
  {
   "cell_type": "code",
   "execution_count": 11,
   "metadata": {
    "colab": {
     "base_uri": "https://localhost:8080/",
     "height": 17
    },
    "id": "66p6kILv6MV9",
    "outputId": "9c3d91ba-d8a0-4793-f117-b8b48334915c"
   },
   "outputs": [
    {
     "data": {
      "text/html": [
       "\n",
       "            <style>\n",
       "                .geemap-dark {\n",
       "                    --jp-widgets-color: white;\n",
       "                    --jp-widgets-label-color: white;\n",
       "                    --jp-ui-font-color1: white;\n",
       "                    --jp-layout-color2: #454545;\n",
       "                    background-color: #383838;\n",
       "                }\n",
       "\n",
       "                .geemap-dark .jupyter-button {\n",
       "                    --jp-layout-color3: #383838;\n",
       "                }\n",
       "\n",
       "                .geemap-colab {\n",
       "                    background-color: var(--colab-primary-surface-color, white);\n",
       "                }\n",
       "\n",
       "                .geemap-colab .jupyter-button {\n",
       "                    --jp-layout-color3: var(--colab-primary-surface-color, white);\n",
       "                }\n",
       "            </style>\n",
       "            "
      ],
      "text/plain": [
       "<IPython.core.display.HTML object>"
      ]
     },
     "metadata": {},
     "output_type": "display_data"
    }
   ],
   "source": [
    "# Set a point on the Kaskawulsh Glacier (mid-glacier) for filtering purposes\n",
    "kask_gl = ee.Geometry.Point(-139.013173, 60.755079)\n",
    "\n",
    "# Import sentinel 1 and filter data series according to location and date\n",
    "s1_img_VV_lee =  ee.ImageCollection('COPERNICUS/S1_GRD') \\\n",
    "                .filter(ee.Filter.eq('instrumentMode', 'IW')) \\\n",
    "                .filter(ee.Filter.listContains('transmitterReceiverPolarisation', 'VV')) \\\n",
    "                .filterBounds(kask_gl) \\\n",
    "                .filterDate('2018-06-01','2019-08-30') \\\n",
    "\n",
    "collection_asc = s1_img_VV_lee.map(RefinedLee)"
   ]
  },
  {
   "cell_type": "code",
   "execution_count": 12,
   "metadata": {
    "colab": {
     "base_uri": "https://localhost:8080/",
     "height": 621,
     "referenced_widgets": [
      "1d38e0b4e8414ecdbae7cd5a84a15a03",
      "3090522a399746de93267a91c0cd70e2",
      "d92003973f9240c6b5a560abf7752977",
      "e3693f5f84b141d5b4a13ee20e673f8e",
      "4cd6579f59ab4a9e947cfe8fcf400d6b",
      "f9bfddb7e11f474aa1649e4e14818af2",
      "f429e348e79746da857c04d60e5d19a8",
      "5f6a1fe22a5b4de69baeab2c65bc6a0c",
      "30005758e76e4e14ad622439d03415f4",
      "c1d8f1eafa794d72ab052fa6537a8005",
      "7f869c17904c42d09325cf3bbae97595",
      "1dd39eb22f2f4626b7942ae63c2fc674",
      "41a25047e8604650b518d150932fbecc",
      "f73eccbc694c4d46a5dd0a1ea68fd639",
      "0d4cd9a5331843089fd79c3c5e98b0f1",
      "1fd68a995b1a4c7caface9dafd3bf5bd",
      "eb91fd6f08784b8c9d53e9b82747e473",
      "51252184cc84445aaae50f0f10081e4b",
      "04d449c24d2d4f45a53c671774b3e603",
      "0000c92d0fad4341a7c2cf234daa3bee",
      "8cc51a012a17428d897ecb736c091dcb",
      "f2fc7b35c3174fcf9a7722b83cb568f8",
      "756c7a7724354f90884504ca3cfb6ab0",
      "31ca8fe520044872ab9167f63de796d2",
      "b55caf17609048f68cb79d68d72be501",
      "ce8b239667c44ff8839c7b1cb3edb09d"
     ]
    },
    "id": "eSJsYrEI4MK2",
    "outputId": "12778cec-dc14-42dd-c183-d5b31ecfe4a3"
   },
   "outputs": [
    {
     "data": {
      "text/html": [
       "\n",
       "            <style>\n",
       "                .geemap-dark {\n",
       "                    --jp-widgets-color: white;\n",
       "                    --jp-widgets-label-color: white;\n",
       "                    --jp-ui-font-color1: white;\n",
       "                    --jp-layout-color2: #454545;\n",
       "                    background-color: #383838;\n",
       "                }\n",
       "\n",
       "                .geemap-dark .jupyter-button {\n",
       "                    --jp-layout-color3: #383838;\n",
       "                }\n",
       "\n",
       "                .geemap-colab {\n",
       "                    background-color: var(--colab-primary-surface-color, white);\n",
       "                }\n",
       "\n",
       "                .geemap-colab .jupyter-button {\n",
       "                    --jp-layout-color3: var(--colab-primary-surface-color, white);\n",
       "                }\n",
       "            </style>\n",
       "            "
      ],
      "text/plain": [
       "<IPython.core.display.HTML object>"
      ]
     },
     "metadata": {},
     "output_type": "display_data"
    },
    {
     "data": {
      "application/vnd.jupyter.widget-view+json": {
       "model_id": "6891ca3e661845a6ade6e6c7e9bb6867",
       "version_major": 2,
       "version_minor": 0
      },
      "text/plain": [
       "Map(center=[60.75507900000001, -139.013173], controls=(WidgetControl(options=['position', 'transparent_bg'], w…"
      ]
     },
     "execution_count": 12,
     "metadata": {},
     "output_type": "execute_result"
    }
   ],
   "source": [
    "# Display unfiltered and filtered images on a map for comparison\n",
    "Map = geemap.Map()\n",
    "\n",
    "S1_vis = {\n",
    "  'bands': ['filter'],\n",
    "  'min': -20,\n",
    "  'max': 0,\n",
    "  'gamma': 1.4,\n",
    "}\n",
    "\n",
    "Map.addLayer(s1_img_VV_summer, {'bands': ['VV','VV','VV'], 'min': -20,'max': 0},'S1-image_summer')\n",
    "Map.addLayer(collection_asc.first(), S1_vis, \"S1_VV_summer_Filtered\")\n",
    "Map.centerObject(kask_gl, 12)\n",
    "\n",
    "Map"
   ]
  },
  {
   "cell_type": "markdown",
   "metadata": {
    "id": "931CELCJcfIl"
   },
   "source": [
    "Pan around and notice areas of homogeneity and heterogeneity. In areas of homogeneity, the Lee filter does a great job of highlighting distinct features. However, in areas of heterogeneity (such as mountainous regions), the filter is less useful. This would be where we could play around with the window size to find one that maximizes the features without losing detail."
   ]
  },
  {
   "cell_type": "markdown",
   "metadata": {
    "id": "_Xz7AlNK6oc8"
   },
   "source": [
    "## Flat vs. Rough\n",
    "\n",
    "Increased roughness increases the backscatter return, as the waves are redirected in multiple directions and the amount of signal returned to the sensor is limited. This results in flat surfaces appearing dark in the imagery, while rough areas (which can include ocean surfaces broken up by waves) appear light.\n"
   ]
  },
  {
   "cell_type": "markdown",
   "metadata": {
    "id": "uQoJ1RA7fkNU"
   },
   "source": [
    "![image.png](data:image/png;base64,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)"
   ]
  },
  {
   "cell_type": "markdown",
   "metadata": {
    "id": "DvGp7IhV2z0P"
   },
   "source": [
    "Let's load up a summer SAR image so that we can see the difference between the glacier surface, the surrounding rock materials, and Kluane Lake to the northeast."
   ]
  },
  {
   "cell_type": "code",
   "execution_count": 13,
   "metadata": {
    "colab": {
     "base_uri": "https://localhost:8080/",
     "height": 771,
     "referenced_widgets": [
      "1ece4f6dbd184316925af5ba99a5d0fc",
      "1fba95e93ead4dbbb8339d9bd8e44b80",
      "1323efb493ff4909b416f5964594fb7a",
      "0f52974d87fb46e1bba660cfc80a6852",
      "94a5c9469b55414382c3ab8c70b6bcf1",
      "cf03fade17e440acbe1ec68bb0b22eef",
      "8be0cd4490794e559e96a5dfeaf17258",
      "bffd4b6032f14948bbb8aa9ab95aa2b5",
      "623dbafec1e448069d1a0392de833a41",
      "979c5de883dd4b509720830d2df90899",
      "0ebe5c418cbf4fde8968ae5995904560",
      "b77e4e17bf914b87b6f2066ae0d3ffa5",
      "5c18073f28f2451dbfacbccbebb90200",
      "786d4d45d05c42fe956fa981821cdc8e",
      "973b75a76958439694b86613b60e8438",
      "177cf89f9135401b8149519dc4f8dff0",
      "bc7e8b91f9d74865aea5d6b86c1a8a9b",
      "960f3e300ad14d1c927986d356669132",
      "6d7c4efea74b44c58352d5ea27e83de0",
      "6940ad93a5da4bd2a5c9250b48358eda",
      "e7ab758266e94704bc2f7670d3211336",
      "d0e8d8abcd6c43db8df64000bd071281",
      "f524691cf4ae48968516d5e679de0b18",
      "c392a19fa8d44053a5a2df048758f719",
      "74e1306043624539a1a89db1617ac4b4"
     ]
    },
    "id": "bnmpLXrR6oA1",
    "outputId": "d724bf1d-78cc-4f77-af36-84cec2deedb2"
   },
   "outputs": [
    {
     "data": {
      "text/html": [
       "\n",
       "            <style>\n",
       "                .geemap-dark {\n",
       "                    --jp-widgets-color: white;\n",
       "                    --jp-widgets-label-color: white;\n",
       "                    --jp-ui-font-color1: white;\n",
       "                    --jp-layout-color2: #454545;\n",
       "                    background-color: #383838;\n",
       "                }\n",
       "\n",
       "                .geemap-dark .jupyter-button {\n",
       "                    --jp-layout-color3: #383838;\n",
       "                }\n",
       "\n",
       "                .geemap-colab {\n",
       "                    background-color: var(--colab-primary-surface-color, white);\n",
       "                }\n",
       "\n",
       "                .geemap-colab .jupyter-button {\n",
       "                    --jp-layout-color3: var(--colab-primary-surface-color, white);\n",
       "                }\n",
       "            </style>\n",
       "            "
      ],
      "text/plain": [
       "<IPython.core.display.HTML object>"
      ]
     },
     "metadata": {},
     "output_type": "display_data"
    },
    {
     "data": {
      "application/vnd.jupyter.widget-view+json": {
       "model_id": "2ed1e925be124618b882bc5106ef8de6",
       "version_major": 2,
       "version_minor": 0
      },
      "text/plain": [
       "Map(center=[60.81000000000001, -138.59], controls=(WidgetControl(options=['position', 'transparent_bg'], widge…"
      ]
     },
     "execution_count": 13,
     "metadata": {},
     "output_type": "execute_result"
    }
   ],
   "source": [
    "# Create point in the wet zone to focus our map\n",
    "kask_wet = ee.Geometry.Point(-138.59, 60.81)\n",
    "\n",
    "Map = geemap.Map(width = 1000, height = 750)\n",
    "Map.addLayer(s1_img_VV_summer, {'bands': ['VV','VV','VV'], 'min': -20,'max': 0},'S1-image_summer')\n",
    "\n",
    "Map.centerObject(kask_wet, 9)\n",
    "Map"
   ]
  },
  {
   "cell_type": "markdown",
   "metadata": {
    "id": "5fLqTdEfKyHX"
   },
   "source": [
    "If you look to the northeast, you can see a large dark area, which is Kluane Lake. Because it is a lake, it is a mostly flat surface and water absorbs the signal. If you zoom into Kluane Lake, you might notice small areas that have more noticable speckle. This is caused by surface wave action created by the wind and a more rough surface at the time of acquisition. This can be an important factor in other regions, such as ocean-terminating glaciers.\n",
    "\n",
    "Zoom in to examine the terminus of this land-based glacier. Notice the dark response of what we know to be water bodies, particularly the pro-glacial and supraglacial ponds and lakes, a stark contrast to bare ice."
   ]
  },
  {
   "cell_type": "markdown",
   "metadata": {
    "id": "cyc0wLdq9lib"
   },
   "source": [
    "## Wet vs Dry\n",
    "\n",
    "In that same image, notice that the upper reaches of the glacier surface (to the southeast) look similar to the lake surface. These are areas of saturated melting snow, so they act similar to water. The lower reaches of the glacier are slightly lighter, as these regions are bare ice with a thin layer of meltwater on top.\n",
    "\n",
    "Figure source: Arigony-Neto (2009) *Spatial and temporal changes in dry-snow line altitude on the Antarctic Peninsula.* Climatic Change 94(1):19-33"
   ]
  },
  {
   "cell_type": "markdown",
   "metadata": {
    "id": "J_npJUEvySg_"
   },
   "source": [
    "![image.png](data:image/png;base64,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)"
   ]
  },
  {
   "cell_type": "markdown",
   "metadata": {
    "id": "g7kGKDaBRUS7"
   },
   "source": [
    "One advantage of SAR is that it can be used to differentiate amongst areas where there is bare ice, where the snow and ice is actively melting, and where the snow and ice remain frozen or dry. These lines are important when calculating the mass balance of glaciers and to examine the effects of climate change on glacier melt.\n",
    "\n",
    "Remember that the signal is penetrating the surface materials, so the scatter seen here is caused by the surface materials as well as scatter caused by the underlying materials, which is why the Dry Snow Zone response appears similar to the Wet Snow Zone response. Basically, with dry snow, we are seeing both the response from the snow surface and the response from the underlying ice surface. Of course, the roughness of these surfaces also comes into play."
   ]
  },
  {
   "cell_type": "code",
   "execution_count": 14,
   "metadata": {
    "colab": {
     "base_uri": "https://localhost:8080/",
     "height": 584
    },
    "id": "lBIUoLf3Le8C",
    "outputId": "bc2ffcd3-97d8-4ba3-b141-6114035ab013"
   },
   "outputs": [
    {
     "data": {
      "text/html": [
       "\n",
       "            <style>\n",
       "                .geemap-dark {\n",
       "                    --jp-widgets-color: white;\n",
       "                    --jp-widgets-label-color: white;\n",
       "                    --jp-ui-font-color1: white;\n",
       "                    --jp-layout-color2: #454545;\n",
       "                    background-color: #383838;\n",
       "                }\n",
       "\n",
       "                .geemap-dark .jupyter-button {\n",
       "                    --jp-layout-color3: #383838;\n",
       "                }\n",
       "\n",
       "                .geemap-colab {\n",
       "                    background-color: var(--colab-primary-surface-color, white);\n",
       "                }\n",
       "\n",
       "                .geemap-colab .jupyter-button {\n",
       "                    --jp-layout-color3: var(--colab-primary-surface-color, white);\n",
       "                }\n",
       "            </style>\n",
       "            "
      ],
      "text/plain": [
       "<IPython.core.display.HTML object>"
      ]
     },
     "metadata": {},
     "output_type": "display_data"
    },
    {
     "data": {
      "application/vnd.jupyter.widget-view+json": {
       "model_id": "d6857ba0ec8446bba997396b579accb0",
       "version_major": 2,
       "version_minor": 0
      },
      "text/plain": [
       "Map(center=[60.720200000000006, -139.1666], controls=(WidgetControl(options=['position', 'transparent_bg'], wi…"
      ]
     },
     "execution_count": 14,
     "metadata": {},
     "output_type": "execute_result"
    }
   ],
   "source": [
    "# Pick a point in the wet zone for comparison\n",
    "kask_dry = ee.Geometry.Point(-139.1666, 60.7202)\n",
    "\n",
    "# Filter the collection by and location for winter imagery\n",
    "s1_img_VV_spring = s1_col.filterBounds(kask_gl)\\\n",
    "                  .filterDate('2019-03-15', '2020-06-15')\\\n",
    "                  .first()# Choose first image in collection\n",
    "\n",
    "Map = geemap.Map()\n",
    "Map.addLayer(s1_img_VV_spring, {'bands': ['VV','VV','VV'], 'min': -20,'max': 0},'S1-image_winter')\n",
    "Map.centerObject(kask_dry, 13)\n",
    "Map"
   ]
  },
  {
   "cell_type": "markdown",
   "metadata": {
    "id": "_zSH1rwGg632"
   },
   "source": [
    "#Ascending vs Descending\n",
    "\n",
    "Spaceborne SAR imagery is acquired on both ascending and descending orbital paths. This important to note, since the angle at which the imagery is acquired impacts the pattern of the backscatter. This is noticable if you compare two images (below).\n",
    "\n",
    "To compare images at the same location we need to compare apples to apples (in this case: ascending to ascending OR descending to descending) or apply terrain corrections prior to further analysis if we wanted to mix images from the two orbital paths.  "
   ]
  },
  {
   "cell_type": "code",
   "execution_count": 15,
   "metadata": {
    "colab": {
     "base_uri": "https://localhost:8080/",
     "height": 17
    },
    "id": "vI8BCjl5hNm8",
    "outputId": "ca10e03d-6f90-4fab-c1de-a799580ff7a8"
   },
   "outputs": [
    {
     "data": {
      "text/html": [
       "\n",
       "            <style>\n",
       "                .geemap-dark {\n",
       "                    --jp-widgets-color: white;\n",
       "                    --jp-widgets-label-color: white;\n",
       "                    --jp-ui-font-color1: white;\n",
       "                    --jp-layout-color2: #454545;\n",
       "                    background-color: #383838;\n",
       "                }\n",
       "\n",
       "                .geemap-dark .jupyter-button {\n",
       "                    --jp-layout-color3: #383838;\n",
       "                }\n",
       "\n",
       "                .geemap-colab {\n",
       "                    background-color: var(--colab-primary-surface-color, white);\n",
       "                }\n",
       "\n",
       "                .geemap-colab .jupyter-button {\n",
       "                    --jp-layout-color3: var(--colab-primary-surface-color, white);\n",
       "                }\n",
       "            </style>\n",
       "            "
      ],
      "text/plain": [
       "<IPython.core.display.HTML object>"
      ]
     },
     "metadata": {},
     "output_type": "display_data"
    }
   ],
   "source": [
    "# Filter Sentinel 1 Collection by metadata properties\n",
    "  # Filter to get images with VV polarization\n",
    "  # Filter to get images collected in interferometric wide swath mode\n",
    "  # Filter to get images in ascending orbit\n",
    "s1_col_A =  ee.ImageCollection('COPERNICUS/S1_GRD')\\\n",
    "              .filter(ee.Filter.listContains('transmitterReceiverPolarisation', 'VV'))\\\n",
    "              .filter(ee.Filter.eq('instrumentMode', 'IW'))\\\n",
    "              .filter(ee.Filter.eq('orbitProperties_pass', 'ASCENDING'))\n",
    "\n",
    "# Filter the collection by date and location\n",
    "s1_img_VV_winter_asc = s1_col_A.filterBounds(kask_gl)\\\n",
    "                  .filterDate('2019-11-01', '2020-04-01')\\\n",
    "                  .first() # Choose first image in collection\n",
    "\n",
    "  # Filter to get images with VV polarization\n",
    "  # Filter to get images collected in interferometric wide swath mode\n",
    "  # Filter to get images in ascending orbit\n",
    "s1_col_D =  ee.ImageCollection('COPERNICUS/S1_GRD')\\\n",
    "              .filter(ee.Filter.listContains('transmitterReceiverPolarisation', 'VV'))\\\n",
    "              .filter(ee.Filter.eq('instrumentMode', 'IW'))\\\n",
    "              .filter(ee.Filter.eq('orbitProperties_pass', 'DESCENDING'))\n",
    "\n",
    "# Filter the collection by date and location\n",
    "s1_img_VV_winter_desc = s1_col_D.filterBounds(kask_gl)\\\n",
    "                  .filterDate('2019-11-01', '2020-04-01')\\\n",
    "                  .first()# Choose first image in collection\n"
   ]
  },
  {
   "cell_type": "code",
   "execution_count": 16,
   "metadata": {
    "colab": {
     "base_uri": "https://localhost:8080/",
     "height": 621,
     "referenced_widgets": [
      "34e96adb8c724873b05a5e4a212a33a7",
      "36722ab18ef24301bd24f424975a6590",
      "dedfd74ec1d844adaf87433c713a739f",
      "936278541fcb4c0ea301db016b1c6152",
      "2db1608fbecd4ce49614b66315b47d2e",
      "d3a960bfc5f345d09a8f74a3d92bd0f0",
      "1f7e1a8e24504f4d9f7e00015b82d904",
      "f6fd16d11d054817a515a4111270bf6b",
      "7d8178eec22e4c8e9db30d3ecd684e2a",
      "c6f6209f97204d3dabcb1d3fd08e68c4",
      "9acc9a0b69024b7a84ef74dc978407f7",
      "9f64b339833747f19499babb13b26cb9",
      "c5df815a81af42cf839a007221d16a5b",
      "f1e4b464eda543f48df6c935763e1c6b",
      "2702718ee65644f5bc54a332adb72f58",
      "13755d63101e4ad8baf8587e0c2feedb",
      "94829847312c410c8401c587a6b21738",
      "d8b7ed59815c42429914703a0da072fc",
      "a103253bd9e4494393623ce5e3da3a08",
      "db44939c7eff4aaf817121d7614cbb99",
      "ce2ab7d6fdfd4adbb2c5a9e357e0fc10",
      "bdaabce16bb64a6ebaa861c2ff12b103",
      "fc4a8b3dec474103b3b73946ec4d8c23",
      "f055ed60be204a6caadc74ff011fbaa7",
      "95619514a54e4c849ffd2f2995cfd858",
      "c1d41e3b962a484fb10a42efdba80a2e"
     ]
    },
    "id": "xPR_UhyVg_cG",
    "outputId": "b5e48481-9d7c-4ff4-d14f-8c3c08ea5112"
   },
   "outputs": [
    {
     "data": {
      "text/html": [
       "\n",
       "            <style>\n",
       "                .geemap-dark {\n",
       "                    --jp-widgets-color: white;\n",
       "                    --jp-widgets-label-color: white;\n",
       "                    --jp-ui-font-color1: white;\n",
       "                    --jp-layout-color2: #454545;\n",
       "                    background-color: #383838;\n",
       "                }\n",
       "\n",
       "                .geemap-dark .jupyter-button {\n",
       "                    --jp-layout-color3: #383838;\n",
       "                }\n",
       "\n",
       "                .geemap-colab {\n",
       "                    background-color: var(--colab-primary-surface-color, white);\n",
       "                }\n",
       "\n",
       "                .geemap-colab .jupyter-button {\n",
       "                    --jp-layout-color3: var(--colab-primary-surface-color, white);\n",
       "                }\n",
       "            </style>\n",
       "            "
      ],
      "text/plain": [
       "<IPython.core.display.HTML object>"
      ]
     },
     "metadata": {},
     "output_type": "display_data"
    },
    {
     "data": {
      "application/vnd.jupyter.widget-view+json": {
       "model_id": "e0bcb855ec2c494f8ce550c9808a0bb7",
       "version_major": 2,
       "version_minor": 0
      },
      "text/plain": [
       "Map(center=[60.75507900000001, -139.013173], controls=(WidgetControl(options=['position', 'transparent_bg'], w…"
      ]
     },
     "execution_count": 16,
     "metadata": {},
     "output_type": "execute_result"
    }
   ],
   "source": [
    "# Display images on map\n",
    "Map = geemap.Map()\n",
    "Map.centerObject(kask_gl,8)\n",
    "Map.addLayer(s1_img_VV_winter_asc, {'bands': ['VV','VV','VV'], 'min': -20,'max': 0},'S1-image_asc')\n",
    "Map.addLayer(s1_img_VV_winter_desc, {'bands': ['VV','VV','VV'], 'min': -20,'max': 0},'S1-image_dsc')\n",
    "Map"
   ]
  },
  {
   "cell_type": "markdown",
   "metadata": {
    "id": "_7NjPBgC9vOS"
   },
   "source": [
    "Notice how the mountains appear to shift when comparing the images. This is a result of the angle from which the images are acquired (the look angle). The look angle can have three main impacts on the resulting image:\n",
    "\n",
    "1.   Foreshortening\n",
    "2.   Layover\n",
    "3.   Shadow\n",
    "\n",
    "These concerns have particularly noticable impacts in mountainous areas, such as the St. Elias Range. Keep in mind that glaciers are often curvi-linear features, can be oriented along, parallel, or oblique to the orbital path, so you may choose your imagery differently depending on your AOI and the type of analysis you are performing. Flat areas, with little relief, are not as heavily influenced by these challenges, but thinking about them beforehand can save some mis-interpretations. There are some corrections that can be applied to help adjust this."
   ]
  },
  {
   "cell_type": "markdown",
   "metadata": {
    "id": "rbQtWLTWeX-R"
   },
   "source": [
    "![image.png](data:image/png;base64,iVBORw0KGgoAAAANSUhEUgAAAw0AAAFqCAYAAABYj7YrAAAgAElEQVR4Aey9ebx2ZVX///3j+3tZoSlC+i0pNdMcs9K0csIcMBXnUtQcMoEUS9PKVMq+pTng18oRFcEhFBQQQQQBEXEAfVAURQYFkRkZHh545nPO9Xu993k+h/Us9r3vYd33PnvfZ12v1zl7X8OaPtda67qufU//q2RJBBKBRCARSAQSgUQgEUgEEoFEoAGB/9XQl12JQCKQCCQCiUAikAgkAolAIpAIlDw0pBMkAolAIpAIJAKJQCKQCCQCiUAjAnloaIQnOxOBRCARSAQSgUQgEUgEEoFEIA8N6QOJQCKQCCQCiUAikAgkAolAItCIQB4aGuHJzkQgEUgEEoFEIBFIBBKBRCARyEND+kAikAgkAolAIpAIJAKJQCKQCDQikIeGRniyMxFIBBKBRCARSAQSgUQgEUgE8tCQPpAIJAKJQCKQCCQCiUAikAgkAo0I5KGhEZ7sTAQSgUQgEUgEEoFEIBFIBBKBPDSkDyQCiUAikAgkAolAIpAIJAKJQCMCeWhohCc7E4FEIBFIBBKBRCARSAQSgUQgDw3pA4lAIpAIJAKJQCKQCCQCiUAi0IhAHhoa4cnORCARSAQSgUQgEUgEEoFEIBHIQ0P6QCKQCCQCiUAikAgkAolAIpAINCKQh4ZGeLIzEUgEEoFEIBFIBBKBRCARSATy0JA+kAgkAolAIpAIJAKJQCKQCCQCjQjkoaERnuxMBBKBRCARSAQSgUQgEUgEEoE8NKQPJAKJQCKQCCQCiUAikAgkAolAIwLhQ8OXzzi75F9ikD7QDx9ozAZDOnOO+zHHOU85T/hApKQPpQ+lD/THByKxPi7tVA4N4wrN8YlAItA+AtPYSLSvdUpMBBKBcRHIWB8XsRyfCPQTgWisj2t1HhrGRSzHJwI9RSCaXKL0PYUt1U4EeodANFaj9L0DLBVOBHqKQNuxmoeGnjpKqp0IjItANLlE6cfVN8cnAonAZAhEYzVKP5nWSZUIJALjItB2rOahYdwZyvGJQE8RiCaXKH1PYUu1E4HeIRCN1Sh97wBLhROBniLQdqzmoaGnjpJqJwLjIhBNLlH6cfXN8YlAIjAZAtFYjdJPpnVSJQKJwLgItB2reWgYd4ZyfCLQUwSiySVK31PYUu1EoHcIRGM1St87wFLhRKCnCLQdq3lo6KmjpNqJwLgIRJNLlH5cfXN8IpAITIZANFaj9JNpnVSJQCIwLgJtx2oeGsadoRyfCPQUgWhyidL3FLZUOxHoHQLRWI3S9w6wVDgR6CkCbcdqHhp66iipdiIwLgLR5BKlH1ffHJ8IJAKTIRCN1Sj9ZFonVSKQCIyLQNuxmoeGcWcoxycCPUUgmlyi9D2FLdVOBHqHQDRWo/S9AywVTgR6ikDbsZqHhp46SqqdCIyLQDS5ROnH1TfHJwKJwGQIRGM1Sj+Z1kmVCCQC4yLQdqzmoWHcGcrxiUBPEYgmlyh9T2FLtROB3iEQjdUofe8AS4UTgZ4i0Has5qGhp46SaicC4yIQTS5R+nH1zfGJQCIwGQLRWI3ST6Z1UiUCicC4CLQdq3loGHeGcnwi0FMEosklSt9T2FLtRKB3CERjNUrfO8BS4USgpwi0Hat5aOipo6TaicC4CESTS5R+XH1zfCKQCEyGQDRWo/STaZ1UiUAiMC4CbcdqHhrGnaEcnwj0FIFoconS9xS2VDsR6B0C0ViN0vcOsFQ4EegpAm3Hah4aeuooqXYiMC4C0eQSpR9X3xyfCCQCkyEQjdUo/WRaJ1UikAiMi0DbsZqHhnFnKMcnAj1FIJpcovQ9hS3VTgR6h0A0VqP0vQMsFU4EeopA27Gah4YRHeXwww8ve+752Nv8XXnllSscGLP33k9bGbPvvvuVCy64YKWfG8+D8dDZ4sdQP+igd60M4d6Oob5hw4aybt26lXbuKeinsccdd9wKD26i+lrekmGvkmHbdC/cVOdqsZKNr33t61Z0rmujXzwsjtiq9hUGO24OPvhDt5knS+vHz0s9mlyi9POC4yztqIthLw//lW9zJfYpxI/arT8rJxE/Kk2xD786PtCKFzpYXTWeq/KMjU31K1dJj7zOBoForEbpZ2PVfHElftgjKDa497FTt/7ts8/zdwLCxiu8iE1btG5KDte6vQk0rMs+bm0usWv+aad9ZUWM8oLVza7BylErBHkzNQTajtU8NIw4dQSODTrda/PrF3L1E0wagyi1+6uSxaAxWvDr9FCg2kWce4oNcitjGvpa3t4e6pQ6fekTJpZONkKnRFeXNG2bTXDCAXqbsCpFdvyz461smxjt+Hm6jyaXKP08YTkrW+pi2MuyGw182C7e6lOM0Cc/V04YJfbF581vfvOKeHsoga/VVTK4Ks8MijUb5yvM82aqCERjNUo/VWPmkBmbaG20m2JHcQwEWhPtOke7jXF4Ebu2iM7K0b19UMeaXKcTY+1BRGO0ZvpDiw4IyjOMzzI7BNqO1Tw0jDiX2vz6gIXcbp4V5ASjgssuvApW+NkgFR387BivHvLp13gWbm0G7CKuNqubFnPbJj4RfdFRevkNgXBD57oiW3VVwlGik37Q1rXRL1qu2kDVHRqsLpav5qJOv3lqiyaXKP08YTkrW+pi2MqyC7Tyi13Qrd8zVjGjvDVq7Nct+J73MF0Vm4o1HUSI0yyzRSAaq1H62VrXf+42lrRW2zj2sYPFPpaFgo1VrYVaRy2d4s6u9YpNP046SSa0OmBIN/oo/tAiWvY90Nn9T0WQ/6aKQNuxmoeGEadPG04tvpZMfTaw6Fcw064g5p4/aCgKQBu8foyVVbdRUH/dIm43CSQqyrT1hee0Dg3CRcnK4lLXJvyEmcbbpCx8tGmpm0ONmedrNLlE6ecZ22nZVhfDlrddoJVf7JNF8oxyBLFk7+EzauxbOdoseHnDdFVsKiatbGtT3k8fgWisRumnb9F8cbSxoL2BtdDHDn1a//z6pXVN8claqIdnlo52FStf8a1cYTf56Ka1Ff4UyVHesbwYS51i9aoa8t9MEGg7VvPQMOI0KjB8wEKuICLobLEbVwWmAhB+bOjrAtWOsfy4VyBCJ54aU7eI1x0apq0v8qOHBtklfJUgteFARl2bkqvowQ6bLfbQ1iU/4bZWrtHkEqVfKzhH7KyLYctPsYu/24293XgoTpRHuKpf9MNylY0XbUAUY/CgDNNVsakYFr2Xbe3L++kgEI3VKP10rJhfLjZ2iVdffOzQr7jWGkmbj1PFmGLU0pEHVGzsoovlo02/xmpt12FCeyHFsV5RkGzZo/yjh5Xil9fpItB2rOahYcT5U6AoELgqeOuCGbY2MLmnWHp7bw8Atl33CmSbbOhTu5cnOntV8E5bX2QrsShhVMa6J5tWF/WrzW7yuZeO2nAwvq5NyRUcrA6WH7T+8GTr6KC5lF7zeI0mlyj9PGI6bZvqcoaVYRdmu9BrY89YywPftjGpGPL+bmmUqySLDUidLEujOOYqesWm7ePe5ixrW95PD4ForEbpp2fJ/HJSfBET3LMmqQyKHcba2LX7Aej1UAB+Kop5aFXYb1Dnj7XSrofUbZEuXCmWFjqtu1a2HWP3NpZv3k8HgbZjNQ8NI84bC52CTFcFr4JSdbG0i6oWUtHaq19EbZ/u7Rh4KVDp11MFK0909qpkMG19sVf6wNuWOtzQSUX6obueWJCcpKMSFePr2pTQkCNZPAHRvWT5pGjrjPFzJ/3m6RpNLlH6ecJyVrbYGObeFrtxx78p2ngoB2i82vFty0cx5P29Tu6wTYClURxbeYpN26enldIzr7NBIBqrUfrZWDV/XLXmESOsW6xLlLrYURzZ2FWM6qm/PUSQLyiKeehV7KZ+3EODzUNWnl1Tbbtk5nU2CLQdq3loGHEetQm1AStSH7hqJxgV6Dptqw4/Lex2YwytHSNe/krgip7x1O0iro2CDWQdGqatL7qBC3qQoGwRbvTVFdmKvlZ/8bPYKPnZNiVX5IAByROeopdciwNjVcSzbl41Zl6u0eQSpZ8XHGdph40BxbDk2YVYcaMrucCWQXE3TuxbeeKnzQmymnSlX7HJ1colTrPMFoForEbpZ2vdfHG3+wTihGJjR9bWrVV2D6BcoCvxSxEd7So2trknJkVn10fGay21B37J1aFH66fWX8n0eUny8zo9BNqO1Tw0jDh3WjQVHJZMfQSdDgf0a6GkXQulDUxLpycM0NkxVo6/t4HPAl63iNvNsg4NVu409EUvJRaShS1Wlm3XvWzVBknJSO0kTxUlItum5IocisVcPESvhGaTn3jWzavo5uUaTS5R+nnBcZZ21MWw5NX5tnycq3IM4wfFnW0fFvt2I6H4trHTpCs6KDa5Iku6Kg/JrrxOH4ForEbpp2/RfHPUuqe1zcaOLPdrlY1PxZa96gAiOvpUbC5R3qhbH60M8YOHDguexrcjO8tsEWg7VvPQMOJ8arGt21zawFLQ20XSLrQKavhBp6CzAWnHWPU4AGgBpt0GPn11i3jdoWHa+qKLNhU+SQg3m7CsTbJVhwb71IU+4QmNkp9t455xyKFYe8Vb8kRPuzYuaqubV9HNyzWaXKL084LjLO2oi2HJ08bC5hObZ/RkkfGD4m6c2IeP4lqxpDijr0lX+hWbilfV8+kj6My2RGM1Sj9b6/rPnbVbscSapX2A1k/FimIHi/1aZR8a2gcA2rgrzkRHDFOIW8mz/O1+QuuxeEFrZdj8Qp9ssTxse/9nrLsWtB2reWgY0RcUJIM2l+onUOwfwUlSUFGfgkwBzTgWdIrG2Cvj6jbEjFHg1y3ilkYbZWRMU1/4aXOBnrYMkiNMZKOSlD1IWdvgKaxkL23cM0542jbxlj7IlJ7q03XQvIp2Hq7R5BKlnwcMZ22DjWH5JlcbR9bX0UcbABZsFTtebbraPivD5yrG200DY+3GYZCuyjOKTcWrfSCgeJdOeZ0uAtFYjdJP15r546a1zMYf94oLHzsgIBqtVdqgE7e22PhmPRWdlwWdjWfGDlofbW5Blj2wwFcPLHy77LH65f10EWg7VvPQMOL8KRAVsHVkjNECTiBx0rdBCY0Cl7EUu/BqsdUYeyXw6xIAyUUbcMtLwTro0IDsaekLLyUb9LRFuFlbuJfOape+0kvt2nDQruRn25RchSfjLA7wsQW5opEM5snS2/HzdB9NLlH6ecJyVrZ435WP2jjyOUUbez1ZRDc7vk5X+oflKs/Hb04G6ao8pjhTvNoHAj5P1OmYbZMjEI3VKP3kmq8NSmKEeFV8E1t2DfKxAypa/7QHET3xbwv5QXzZxItObVzh7/MIPOrWR6uX5Nh9Bfy0nlvZtBPzWWaLQNuxmoeG2c5nck8EOoNANLlE6TsDRCqSCMw5AtFYjdLPObxpXiLQGQTajtU8NHRm6lORRGC2CESTS5R+ttYl90QgERAC0ViN0kuPvCYCicBsEWg7VvPQMNv5TO6JQGcQiCaXKH1ngEhFEoE5RyAaq1H6OYc3zUsEOoNA27Gah4bOTH0qkgjMFoFoconSz9a65J4IJAJCIBqrUXrpkddEIBGYLQJtx2oeGmY7n8k9EegMAtHkEqXvDBCpSCIw5whEYzVKP+fwpnmJQGcQaDtW89DQmalPRRKB2SIQTS5R+tlal9wTgURACERjNUovPfKaCCQCs0Wg7VjNQ8Ns5zO5JwKdQSCaXKL0nQEiFUkE5hyBaKxG6ecc3jQvEegMAm3Hah4aOjP1qUgiMFsEosklSj9b65J7IpAICIForEbppUdeE4FEYLYItB2reWiY7Xwm90SgMwhEk0uUvjNApCKJwJwjEI3VKP2cw5vmJQKdQaDtWM1DQ2emPhVJBGaLQDS5ROlna11yTwQSASEQjdUovfTIayKQCMwWgbZjNQ8Ns53P5J4IdAaBaHKJ0ncGiFQkEZhzBKKxGqWfc3jTvESgMwi0Hat5aGhx6i+44IKy556Prf6473I57rjjykEHvavLKqZuYyIQTS5R+jHVzeE9RYC8Qf7IsnoIRGM1Sr96lo8ved26dWWffZ4/PmEp1Ro5K19/7Wtfl3E00aysLaK2Y7XXhwYWJ23CCfqub8Tf/OY3l8MPP3xij4YWHm2UPDS0gXK7MqLJJUo/qbX4PXG+YcOG27Cgjb6uHXDbjNXbgLLKDaMeGsjXe+/9tFXWdj7FR2M1Sh9B9bTTvjIw3iN8B9HO8tCAf0+6L5mnQ0PG+iDvi7e3Hau9PTSwKO+7734rGwk2uVdeeWV8BmbIgSRAgpq0tLkRyUPDpLPUXbpoconST4qMDg1sJnzRBqONQwOyRpUTidWDD/5Qr58w5qHBe2n79WisRukjFuP/PAioi/cI30G0eWgYhExzOw9sRn2FZl4ODeOsAc3oTa+37Vjt7aGBA0NbSWVa00uARQ4N09JjFD55aBgFpX6NiSaXKP2kaOkBQd2GnQ0GuaCub1J5g+jQow05vJpI/PW1jHpo6Kt9fdA7GqtR+ghGxDMP2IjtNsosDw0R/bv+SgMHgVEPDREcukTb1howjs1tx+rcHhpYuPTWJbsAazNMYqKfq33bA04hOtsHXV07k0twQ8dLkdDUFcmDhzYeVhY8bFFASkf6vMPCR3ItX/GxGNDvZTCOV2esbsJKOImX1ce/FUx6iY/vB99BfeKf19kjEE0uUfpJLcS/2EDUvZWFNvoUU8gYxVeli/dzfBd5xAt/igd4qo2rCht8tUOnophQfVisapyVbePVxrK1lQ0P4/iTHtJZPO11EDbItZs0xhGzlKb4RS60Nvehn9VhEEZ+szYqRrJnECbkNIsJumHPWirRWI3ST4o1vsZ88UBQ/idedb7W5JvyL+KCuB70TgSNGxRDTTLwQf7QGTnwsIU2yVWu0VrIFd4q+Kj40MefjSON46pYUcwr36iOTbYMihXZrrHoClYqkiO9qKuoDZmSNyh/eTnDsJAMXa3+elgsnsj38zsoj8NvmOxBOZJ24cu1K6XtWO3coUFOy6T4oLKThHMOen8/TiUnwrFwbgUnDgNvBaMSEbzlLApyZFCoQ6PAgMYGj5IN9E0FncSDcegAb3SjT8FAH7bbRZw2JQbJQAdsQy48uBd/YUA79/CrK2AoO+EjGxRYolEQUmc8dRXqFlPqNnlih+q+TzzyOnsEosklSu8txFfxG/5sPPlx+Ax/+LD8kzHc00afpR/mq3ZsnZ/Dk7hBP5s7vBx0oE26YAd0ardyuB8UqxWB+UesKD/RzD02kSv44179wlCyvM6GbXU7CBthqfHYpfzTFL91uQ9dpB/8BmGEruijMg5GTZgoXwsT5Cv/SNa8X6OxGqX3+DIHinXrG34caxVzRRzZeGJcna81+SY+jY9RWOfkz16mjyF0sHHfJMP7LP5scxQ24I8U7KYu+7FHsUG/j0071uuMXMbDG3mM1RoPT91LrsbW5Q/6VNSvurfP7jF8/EoWPJg/+IIlxY8dhoXkc9V8wNeWpvlF9qA8Pkw2tJoXrhYf6sorVpfVvJ92rA6zpXOHBiaFANCfnK7OEBIBjqEg1Bi7EaaN4BQfxvqAkhPg2LZP/NAJnio4K8GjAn/br3Z/xfmQUVfQATkUgsMmLY33DguNTYTUhQXt4gd9HT/aLTaSwxU+wsXbK360U5BjcfMJH9kaS98gXSpm+W9mCESTS5TeG0bMKM654ht1Bf/Sn/V32uTn4/iqxiLL+jl1YlS5QnUtVsiztF5XG99+LHRWd+qKVc+HmLR9Pp/BW/mGfOKxIxatDeI/LI5tXMJfPJrity73NdlmMfIbiXEwasKE+bKYUEfuWirRWI3Se6zxIcW6XSv8OGJEceL9uM7XmnzT8iaeoK8rw2KoScYwn8Vm5Q90sLZTh54yKDZtHrC6e7k2b2n91fimWPEx6GPFy6EunTyt5OnKWHIVxY9twkL0ulo+avNX+Nn5tXgwlnpkHrR/8Xnd67Ea9WnH6jAben1owDgmk0DEsVR8srFOh3PZsb6Oc8nRxU8bE9W52mSAs3oaO1b38CZ46orVkTE2uWi8d1ho0F/F1r3OJD4FjcZzhR5Zvs/iwubBBiR01CXb60W/bFUCsxtC9Vk98n72CESTS5TeW8hipo0EV+sjdiz+xZ9iXX34LW3W/8b1Vevn8MU3bSzYupUjHezV+rUfa2MTGl+3fGxs0Y6dNm/YBdjeiwe8ke/LMGz8QYH5GBa/dbmvyTaLkdfd0/m6tacJE+YPOSq+rvZ5vkZjNUrvsR310MC86rBqDxDw8742zDetDsQ59HUFP0Q/WxRDw2R4H/V1u0/wucbWh8Wm1Y17L8fGFf3IVWmKFR+DPla8HFv3tJKnK2OVh/xYazvjfV08uDJv8gnbbu+ht/MLHoPyuJdl68Pmwed1q8Nq3U87VofZ0blDA0GKk+P0XKmPUnAYJp+Cw0Bv/+S81kEY6+vIgxey5XTW+aWLdUorm35kWdkEDMUHNrKtrlZHGwCS6R3WBjBjbB3ewo9AQM6gwliSpuQzzuLCvdfHyvJ6QS9bwdBioXthMkinbJ8+AtHkEqX3FrHh12YCfxpU8C/5JuPxKeJUC731v3F91fo58vFbxb2vWznSlTb5NFf5tR9r4wVaXxc/rj6fKJY0Bv0Uz34xFm/k+zIKNmzU7OFsWPx6XSUfWSqDMPK6e0x8Xfy4NmFi8WGsr1s+83ofjdUovccVf1CcWN+w44hpjdGVNUzF+9ow35Qfi5dfw8TX+yHt+B5+O0yG91FfRzY8KNhNv4qtc+/18/aKjquX4+MBuSq+z8aDt9321cmxcj0t47EDecJceciPtbaLzmIj3bl6/dXXNL/QCHfxUL1Jdt08WJuxZ5Ce0qvt67RjdZj+nTs0DFN4UD+TyYJHIdHgpHWlyWHseMYpYfmn9oyzyaApuC1P6/zox6ZHeuKINsAk29J7h7XOzLi6OnpaOZafvSdhI1MneovTKKdvnlLagq0EtRYC25f3q4NANLlE6Se1Gr9XbCgW8U/5nI2LUXzVJn1Li35Ni40fS52Y0WJk49uPrYtNbKgrPp8gQ3mC8dwjS/c6PIkXspDvyzBs6EcWeimXDotfrysyra1NGFk7PF1d3drThInf+Pi65TOv99FYjdJPgiv+Z32Z9YP1Cx+keF9r8k364KU4wKehryv4oZXLGMVQkwyNs3FsfZ9+u09gHP0qtj4sNkWjq5djcw9jkKvSFCs+BsFcuQV6L8fWPa1w5Cpa4e/HWtsZ6+sVgx3/mDfwsWXY/GKD8jJ0tu5l2fqwecAeO4dWp9W6bztW5+bQwCKnhY7NhJzVT6R1EPp83Y4nkeB48NIGhX4CyyYZn8wsD3tvA9s7n9VZ/AkMWzyNDWDG2Tq0JAsbOJZX3b3lb3GRPpYG+2mnQIcsFSVa6W/Hakxe20cgmlyi9JNajH/xRyGpEyv8aSGxfjuKr9qkT86wdbu4IM/WrRz6fNzj51ow/Vgbm9D6Om0qnq/NDYyBN20U5NmNFW3EorCpBu34NwwbxS2YEP8qTfHrdYXG2ub7LUZ+I2HpPB/pomsTJv6Q4OviMc/XaKxG6SfBFr+TX4ue+JMve19izCDf9L5FzEBfV4bF0CAZ8Brms6MeGgbFpo1Dq7uXa/cWjLOHhqZYQS60KmBt616OrddhTL+KlevH2v0F431dPLhaPmr3/Pz8YoPd+9i6l2Xrg+aBdorP69JnNa9tx2pvDw1MngoOZANbDqWJxinkQNZBoLd1xlCniCf3Wkxpo5B8bHDUJbNqoPuH44oH+is40ZMgtzbRp0OQ2HiHtQHMGFuHp/iLvu4KT23usUM6WFygYyOiPq6WN3X0F3bobRM0/dBLjvjU6ZNts0Mgmlyi9JNahr/IZ/AhfI94t/5k47HJV7UoQkuMwMfSwlu5An1tHR3spoZ70dJHDNj4Vh98uFd81NUtNn6RlM7oxR86iRfykCtZjLXYWL7cN2GjfptLacO2QfFbl/usrU0YoTu2qFg62nxd47g2YSKMNN7X1T7P12isRuknwRYfY15tYS3ROljna4N8U2sqc6+cYdckK2NYDA2SAQ/vo75ObKIDxa+pvk4sIIvC1a6pVaP55+VAq9zDMGhVmmIFbBgLXtwzB6PGpPKn5KCzaIW/7PGx7m33dfHkSh85STjSJv6D5hc97Hhb97J8vSlHYo9dA6yeq3Xfdqz29tBA0ODs/OFQTLwtCjr6cQI5kHcQW2cMY8XX8uRe7YwhwFTqkpn67BXHtYENHTxpxx4FGDQEBe3Snzb6GafiE4evi79kwNMXj5PssrhAY/VBL8sLHsgSdr4fegJN+HUt6Dwm81qPJpco/aS44l/8qeA/+JsKfTYumnwVGsUFecPT4rvKFYy1ddqhwY+5549+6vDkT/Ht+frY9HXZwpVFXjGrdsYrfqytWoxlE2Ns3hK9rsOwYYOGjb4Mil/kennWtiaMpLtkWTrafF3jdKW/DhPJ1DhfV/s8X6OxGqUfF1ttXrX+iJ5YYF2h1Pka7YN8kxiUf3APfV3BD+njT+O9Tw+S4X3U1+GH/1H8murr6KH8gs3I9HpIfy+HPAS9CnJtGRQrjPE4wUvFy/F1rfnSUxjCg7HwpvhY97b7uuTravXXwdLrbecX+cIdHrbuZfl6U46Ep+bI8peeq3FtO1Z7e2hYjcnpk0wbsOhNgCn5TtsOeCMvS7cRiCaXKH230emndn4x7qcVqfW0EYjGapR+2vYkv0QgEahHoO1YzUND/Tz0ulVPbawRnIrtEwTbF73PQ0MUwXboo8klSt+OlWtLSh4a1tZ8j2ptNFaj9KPqmeMSgUQghkDbsZqHhth8dZaal9D0Mh6HCF66m9WrAXlo6Kwb7KRYNLlE6XdSJitTQSAPDVOBce6YRGM1Sj93gKZBiUBHEWg7VvPQ0FFHiKrF+/T03jve38j7I/37RaMyRJ+HBiHR7Ws0uUTpu41OP7XLQ0M/523WWkdjNUo/a/uSfyKQCCwj0Has5lf8RYsAACAASURBVKEhPS8RWCMIRJNLlH6NwJxmJgKrjkA0VqP0qw5AKpAIrBEE2o7VPDSsEcdKMxOBaHKJ0ucMJAKJQDsIRGM1St+OlSklEUgE2o7VPDSkzyUCawSBaHKJ0q8RmNPMRGDVEYjGapR+1QFIBRKBNYJA27Ha60ODvjuZaxtllt9A1Ib+kpHvgxYSa+saTS5R+nlDe9LP8vjvBZ8VLvY74seV0XZuHVe/HN+MQDRWo/TN2g3u5Qs7iI8+l3mwoc/4rzXd247V3h4a+AEOPug7qw/31jneWjg0CNc6+4e1sYlq6wA3TJfsvy0C0eQSpb+tRv1umddDg3JAm7l1lp4ge2Ypo2u8o7EapZ8Uj3nYcM+DDZPOX9K1j0DbsdrbQwNPywnONsu0Dw0syrP67YQmXJpeaYgssHloaEJ99fuiySVKv/oITFeDeT00rEZuHXdmxsmdkZw2rl5dGR+N1Sj9pDjMw4Z7HmyYdP6Srn0E2o7V3h4aeAmz74cGFrOuHRrad/mU2BYC0eQSpW/LzrbkzOuhYTVy67hztlq5c1w9V2t8NFaj9JPaPQ8b7nmwYdL5S7r2EWg7Vnt5aOBHy3i/rv54BYDCYqe2fffdb6e3LtGu/oMP/lA1nqdVjKOPzTsLkQqBL176UTS90qA+3h7FUzkVy0/y1Kend/CiDxvs7yiIjxZDxlgbkI1cK9vqixzx9rJ9H+MGHVbQw/Yxls2RdKU+qPhNFHxoQx/ZbPHWvMHPjsNGWzRv4sNVpclmjcnrMgLR5BKln3Qe8HP5n3wAP62LKWRYf7ExRB++Rb8K/qP6sBiz8Y1v81a8pnjQ5wLQGf9WQR56KBa42lgYlAOgHzVOFBeWr+RztbagnzAYlFstLbytHtxLHryUy5rk0OdzDbqOmnusP0ie1cnmEC9H+osH9Xkr0ViN0k+KJ/PGfGhufPzip8oBTfPGnIsHPqW10vq9bUffpr5xfKbJBnRCjgo5Qj/Cqjaug/Rvyg3YY2NAMQ0/Ykv5xsa7tdm2SwfZQl+dnlbnvF8dBNqO1V4eGpgaLbyaJoICx9YCImdXP30ElQ1YDg+MoxBsdfeMV/BJhpIVNPY9/LSLB3ogExqK6nY8behkC4ENXwq8dF8nW7IYS0DDi3HwtckJ/WU7/dx7udLB64RN8CJZgQX3jKkr6Cps6EeGdKQPPHRgAwfdMxYd0Q0Z0ClBUYcO+fRbu5psrtNvrbdFk0uUflL8bUxwL9/AD/ENG1P4CG3yUfzP+iR1xTP60Ke6aDUen5X/aqxkSbbG1tmm2MV30QlfpiCPuuTCU2Ppt/Yi3/ZBUxcn0h1ZFOiQQXtdQW/ZJls0FhnqG0RLjDJetqEzBV11T71JDnJtHoKfrUM7KPd4WmQNwsaPbeJbGTEH/6KxGqWfFEL8TnMODxsLWguYT/kK93XFrlP4hWJv0JoPj6a+cXymyQZiXfkLmXY9s3YM0t/igRybG4gd+rEVXCxvm2OIWeWJYfFJDlHOs/rlfXcQaDtW5+bQQPBY5yYoCBoVnN8GGO30K3gINAUZ4+yGVjxIVPBRAlLiUr/lR5sNVIIYWsmjnza7SHqd6dcCPEy2lQVvEoqSk+/DPitX+tfpRFKxWFAnCdcV+NKvggzp4PWnHR3rCjw0V34ctoint8vaXMd3rbdFk0uUfhL8iTXiRsXGZl1M0Y9fqPiYwkes/1p/9j46Snxbf5fMuiuxgL4U5CuuVRcfr6/NAZ6vjZM6u8ENG+pKU65Cv0GxCS/k2pxg49zPV5McbLN5yOPt5VDX3Hlab6PFxo9t4uv59LUejdUo/aS44XfWt8j1ihXv4zYXeHl2nbZ91h/tms+Ypr5xfGaYDbKPWJdtVkfu6/QflhtsHMKDuuIfnbRuWlnWZtrtmkrcoAdys3QXgbZjdW4ODQQiScQWu2h659fixlWFICNQCDSCiXtb/KJm6+Jnx6MPyYYCL3jaQptdNG2CZBz80Vv3dqyVTT/JxyYFu2jSZ23xcisBO/75PvhooWaIr1taay/tNmlZW+hDzqCNidUdm+w4kpr0abLZ6pX3ywhEk0uUfpJ58HFlfQwf8jE1LA/gS/If9LH+7GPK1r0e0Fpdhtmm3MI45CNXxdabcoDG62rjZJjdouE6zBb0sTFnabm3mFG3tlFXzhomx+cai3edHCvX0zLeFouNH2v5QOPrlk9f76OxGqWfFDf8jrhSsesGPs6fSpOfMqfeh+WPXFXku019jPU+4uvix7XJBntQwE5rj+VRp/+w3GDXW3jZOlixXoKnimxWnavNaXX51Y7N+24g0Haszs2hgSCzyYbptEFjDxD0KRnRbv8IFIqC2z619IuarYtfRbzjn90M+IWLIb6N8VYX3TPWyqqrY6vG6yo86JNddXJpU/E6+eTo66LjahMOdYu/xwc5Nqlju7VBukOnpyG65yr+slVX0VUD8t9OCESTS5R+J2XGqOAX+AeFhU/33lfpH5YH8DnRa7zq+BWyVGyde3zMFu/vto97+uWXXBWDyENPFVvn3tLo3o6ti5M6u6FVrIiea50tXgcbm5aWe58D0Ee20Y9cyjA5fv4Yb/H3cmzd0yIPG+qw8WMtH+h8vVK+5/+isRqlnxQ+H5/Wh5gnxYOuTX7Khtz6pniJVlf8o6mvzkeafKbJBnixnrFhZ29hH/R5zLz+w3IDtmKHiq9Dj2ytkbJZ47naPODjxo7L++4g0Haszs2hgQBTMGg6SQoKIntPf90pW3T2SnLQ0wB4EYgqtl7Hz24q6gLQt/mn6pLD1cqqq/tXEyyt7/Ny7Vjf55Ojr1taay/tNmmhP3OgghwlfO5JZlwpyLBzaZOlbfd2iXde6xGIJpcofb1Ww1v1sjz+I5+ByvsqbcPygF/Q7StXTTE2LL69Ffgp/glPCrEg/7YLM3223pQDmuJkmN1Wv2G2oI/F2dJy73OAtY1+xfkwOX7+mGebX70cW/e0Tdj4sZZPnT3e3j7Wo7EapZ8UM/zO5njih7WBUufjw+TIp+BT54+ib+pjzDg+02QDvHRY0OFBOtRdrf5NuQFau97W1WnDTvISvOpsBntspfi4qRrzX+cQaDtW5+bQgLPbVwW00dAM+0MD7QQt45qKgpYxTZuKOn7oowRYF4C+zets9Rom28qydNz7PnSyi7Md73UaJ1nahANPm8TQX5sJ+pCjjYmn8/pSJ8n54sf5/qzvjEA0uUTpd9Zm9Br+oYO7pfK+Sh9j8QsVH1P0sSlWYQFVfViM+XwBLy2w4qcrvi2+tEGLvhTaLZ2te33Fj2tTnNTZXZfzxK/OFnhQ0EexqfH26nMCcS7bGGfjvEmOza3QEeM2L3k5tu7nvgkbP9byQa6vW1v7eh+N1Sj9pLjhdzbW8QlilOJ9fFQZNua9P1oeTX3eR3zd8mmywdohuyxt3b30b8oN0Nn1tq4u3jZWvM3IUh7wcSP6vHYLgbZjdW4ODTo1a/EicAlslboFlOAgcKGl2GAhQNVGIFGGbSpIdlps0cPKrAvAuiRg9UYv6TRMtvhLbxZ+aCjcK6GIj12cq0E7/omP2nxy9HWN44quFnPJpA+5djOBHGEFnfRBf8bJbmhJbLLFypOudTbbcXm/jEA0uUTpJ50HLZqeXvNv24flAWJU8Uxc4GtcKYoN8fN1fFs+i2xorb+Ljisy1IcvMxYaCvLUV1cflAOa4kTxJRnwQGZd3CCzKVehn+ysFHb/0F2Y0UXsSi515Ko0ydFcEb/ck4uVB6D3cmwdGvKCShM26DYqX/Hr+zUaq1H6SfHD7+xGFp/QWoCP0Cffwwes31mZolEMa42gvW7Nh7apz/oeY33dym6ygXHoQowQG4PKIP3hjWwKeGgcdXzcxrutM47xFHiIrik+fdxUxPmvcwi0Hatzc2hgJkkmBCN/NjHQR5sNKM08i7totJkgWEhOtBN4SjhKQKL1dS184qfkxvhBAYiejNdYeKqNdgW3l+XryGCsZMODMSokCvUxzi6iGsPV6+mTo69bWvgqodFukxa6IF8FOeikIv2ggYfspt/aBQ9h5fu8zeKd12UEosklSj/pPOAr8l2u8jHvq+LflAfwQ8UXV+vPPqbq6qLFT1lwpYtk6ypa9MW3+UNfCvpZOl+3OkJvY2HUOIG/jT/ppWtTrkIf5AwqFjPGIEe2UUdnlSY5jLGxzT28VLwcX9dcoC9lEDbeTzwfX5f8Pl+jsRqlnxQ75hA/0PrLHGuzC0/NJT7m/c7KlC8wjvm1pW7NV/+gPu8jvi56rsNsYAz21b16Lj6D9G/KDT7ebd3GmcW0KT6FtXTKazcRaDtWe3to6Ob0pVbTRsBvYEhkLAR2IZm2zHnlF00uUfpJcOXAziLHYknRZrxpwZ1ETtIkAvOEQDRWo/TzhOUsbOHQkGvYLJBdezzbjtU8NKw9H+uVxWwYOSjYYp+g2Pa8b0Ygmlyi9M3a1ffyNJ+nZLY0PeWz4/I+EVirCERjNUq/VnEfxW49CBllbI5JBIYh0Has5qFh2Ixk/6oiwMvF9r2f3HNoyDI+AtHkEqUfX+Nb32csWl554imdXnlQe14TgUTgVgSisRqlv1WTvPMI+DXN92c9ERgHgbZjNQ8N48xOjm0dAT2V4S1J/PHKgz5j0royPRcYTS5R+kng4yV8+/5eDox6D/sk/JImEVgLCERjNUq/FjAe10YedLCGkcPyrUnjopfjByHQdqzmoWHQTGR7IjBnCESTS5R+zuBMcxKBziIQjdUofWeBScUSgTlDoO1YzUPDnDlQmpMIDEIgmlyi9IP0yvZEIBGYLgLRWI3ST9ea5JYIJAKDEGg7VvPQMGgmsj0RmDMEosklSj9ncKY5iUBnEYjGapS+s8CkYonAnCHQdqzmoWHOHCjNSQQGIRBNLlH6QXpleyKQCEwXgWisRumna01ySwQSgUEItB2reWgYNBPZngjMGQLR5BKlnzM405xEoLMIRGM1St9ZYFKxRGDOEGg7VvPQMGcOlOYkAoMQiCaXKP0gvbI9EUgEpotANFaj9NO1JrklAonAIATajtU8NAyaiWxPBOYMgWhyidLPGZxpTiLQWQSisRql7ywwqVgiMGcItB2reWiY0IHyV4lvBY5f7OX7p/nRLQq/o6DfVejCbyrU/ar0rdqvnbtoconSrx2kR7fUx4qvj85pNiPXcuzwvfp9/SHJaKxG6WfhjdP6Jfh169at6rx2fb2cxdx1mee0/Gq1bGw7Vnt7aOAHnrQx1bXNH33q6qGBhMQvTrZZOCyQiFWQjx5dKeiXP6ZTSjS5ROkn9QeSepf8aVI76uh8rPh6HU2bbfMeO9g36MFGHhra9LRlWawjHFS1phP7KtPa3K32oaFr62VTDAj7Pl+H7Ymm5VerhVHb63KvDw38UuxqlWkfGkiULFLRMixAovzr6EnwtjAv9hBh+0a5Z4M/rSd8bAjANkseGrroAz5WfH0SnaeVS9ZC7NgN02mnfaXYTWoeGibxvslpyPvMhx7+UbcPC6a1uVvtQ0OX18vJZ6+7lH5P5PPjtPxqtRDIQ8OIyJNY5unQQLKcxqFhRPimNgydfRJkwx85NLBZmdahAT+xG4GpGd5DRtHkEqWfFDLmz24eJuXTRTofK74+ic7TyiVrLXbwMZsr8tAwifdNTsOhrekBz7Q2d6t5aOj6ejn57PWH0ufHafnVaiHQ9ro8l680aNPJZpZFmLoKBw0WBxxHCYonGtzXjWcs7fwxhrEU+OJs6vObGtvHvS3QsCBzPfjgD1VvJ/J8rA1WrmRbveClQruVxz1t2IsM2wcNdcnmOuggJn0tDxKg+NLOGOFoxzXha/ugoW556vCBXvRbvrLZX2UTfDTfGqM++Fi/0EJi+fNWEY3X/Foc1AZvO1/QIJvi7bM04u11ka7TvkaTS5R+UnvAyeImPvif9Tf5CmOJKxXmhnEUPx+KnVFpRsknkqur9Q0by1Z3bPR1r6+X7W2hjs/iT/wJs2nFziDfHzV2LA7oqWLtAAP+GGvbrT3QNcUOcy/bGYv91h9sP3zxI+QJN64U2sFc+BHT8rFqQIf/RWM1Sj8JNKMcGph3rQ/Miy11vq9+6y/cM68q3s+UE2hXHmcsc49v0E7x/eLH1cYK8ijTWC9tDBEnFOGBbujo86LsqQa7fzbvwRtMlYdsjEJm8VXMaLzFyWINTxWPifjbdmTDm2LnhfkS7uqzMpvmBhs1B9YG5Qj6+BOO3q+kf1evbcdq5w4NOAwOQgDgQNZR7KThaIMmF3o5BFebIKCBt3VmFhHxYrzuFaByYvFED3hKP8ZZB0Y3+qGTPbSpIJ9+axttksM4eEse+ujeyyZYkC1ejFOAMFbBgI6MYSw0FJK09GhK2NChnxISNOKBzvTZYvtpH4Sv+rDVFnjDQwWbNCfoYrHUGF0Zq3nBJnTTXKOH+uzGARvAxfOlTePhL7zgx73VCX1FD40SInJ0jxzhNkgX2TGLazS5ROm9TWDB/PBnfdaPo8/6v/rxBbVr3uljfpgDFfrAmwIvzZvkMy9NNNCKBl66hx/31sck017RRXoyXveM8bHi602y5UNWFvfog00Uq28kdgb5/qixY8cpn0hv4kPzj03EHYX7SWIHm0UHH8Wx5DEfygkeK+nBWHS2vun5il8Xr9FYjdJ7TMAOLPlTnvRj8AvmSnPj+5kb9TOWWLFjkUGhDTmMoSCPsdSZU+75UxmUE+iXPO5lA7FA4Wr9rGrcsdlFPvlF8pT35VMayxVd1E+9KebxXfptgdbag04WC4uRpeOesbJH9oEXWGED+lKQiWxhSpsdXw1y46CxeghLeHJPn+RIR42HH/IUj9xbjOgXP6uLbLFzA0/xYay1i/owv2JMl8u0Y3WYrZ07NDDBTKr+5ATeEBzbLt7qx/lwJlusc0HjA93248TUueKkOGtdIUitbtQVYDZoocUmKxPbbHAwxjqyt8Hr0STbBwgBYZMMdSVtG9ToILu9vV5/6uI5ShIchC9ysMUnA+q0q1h5aqu7au40D0pOjNU9YyjgAF/dU7eFObBzQp/VFQw1p/Cx9J638Bb/Jl00ZhbXaHKJ0nubwE9xzlVz48dZPH2f6mAKDxXry8hRrFpfZCx98oNRaORj0rUun0gHrqPEsvV/62PQW329bD9Wcq3fTiN24GtlWd9nbqzvy2arA212DuX/tPtY97wniR0wV97WPThShGFVcXnXx7F8SnNNHRz6UKKxGqX3GIE/PsGf5saPoS5/wF+Eu8bRpnWHNurePzTW+quNcfqZZzuPNsbot+Nt7uAe3ZUv/Pop2fQzVoW69JZPqY+r1ZW61Uf+ylVx43ERZuJJTlK+U9ugK7LED53BlCK53EtnrrbY8Rpn+cFLWKGTnStsJjbhaedC/BkLjYrGq84V+bKT+0Fzgw6yC7q63KT5ob/Jr6z8rtxPO1aH2dXrQ4OSkK44IE5knQ0ArMNyL0emj+CAXoFDmw1i7u14AUq7DSJbx3ntRsAHNfIIGFtoEz9ssImVdvpVrCzabN0HiA8AW/dJj4CXDpLFlXE2qGxAe92kj+wfhq/HHnqPFzLQTTytbvbe6kW7NgzcW1zAwNrKvZ8PeNk5oB+cxQsaJSzarW74mPo8H9GjA8XrUjXO6F80uUTpvVkkeuZffzYG7VgwqotBO8b7oV1QmCt4yxctnfWLJhqrm51vn08sb+5HiWXrO5a39B0kuy52kEm74ngasdPk+6PEDjoxDl2wlbhSPvFzy3yoLxI7mnN4wA+Z2IF85kzFYmV9gX70VczX1cWji9dorEbpPSbMh+Lc5lU/TnXmwvsWvsJ8qvi62rnaOEKejTHuNa+KMUtr/cD6IzTIJ09Q8CPLVzzwN/kwbdDI5/ApcLDF6ip96mIeWXXYWXskj3HIairEAxirWD3ok85gIJs1livjtc5Rt7gxN/BGB/64tzaBgeqeD7yQB27Qoked3aPOjdUL3jbmqXs/8nXGdLlMO1aH2dq5QwOOhIMwsVzlWN4QG4i2r67dOgEOyBgVnBJZ/k/JAPlyWsaq4OiD6jb4GM842lS809Ju29DP60NdpUm2DxBrO/S2jhxhTPBbHSVLNF4fJRThZ8db+9Xv6cFXfZaWe58EaSOJoWtd8hI9fdivYpMKfdKBe/hRfOIUrU/88BI9esiH6uh9ggRz/lQG6aL+WV2jySVK7+0SduBq8fHj6LPzqn5i02IJHxXNPTKYL0qdvzGPkt1Eo7nXVfnB5xPJ13WUWBYvaKKxAw90xFYVYQBWgwp9FmNhwXjuZfcw32e8jx3kix77rBxihX4V9LAbEeZG88MYO9/cW1rx0Dj4oAtzwBW51i7GWazos7LA0OZEX7fyunYfjdUovcfDxgH3oxS/DjA3ltbXmT/5GVfFlY0p5Fq+w3KCYodcAx+u+CzF53nZhF5WD+6nsV5iu/hIFldrj9oZi35gMqgQH8QQBbvQkyvFxgljPB8/HppBsQmt5DBOmFaCdtTB1sYyugtD8JReorF86GuaG+TDQwW+Nj96P/J10XX1Ou1YHWZn5w4NwxRW/6AAIhB8YNmF3d7DS84vvoOuyNPmgzE4qXU8W2ecEhZjfVB7p2WMbauzweplZXldfID4AKirI5sgtTpbeVpwbZvu65Iu+onXMHyR7ROCx0uyuKI/+tQVjztzDZYUq5OlHeRH8BIt45HrEyftfq7Q3fqJZFn59l79bVyjySVKP6mNg7BnfvmjeD/UwsScyV/qfNHGC3PJ3OETTTTWDp9PbB/33j98v/cFW6/T19LXxQ79NpfY8ZPGziD8R42dQeO8fdTrNmIWE3tvbfP3ylnMJ76geWbzYuPaYqUx4oVPIU/F19XexWs0VqP008LE+jh+iC+p2Dpzx1wzRxTrJ7RrPaLPri/eB+m3fqB+fEYbX3xUuaIS5v7J91xzVfV5ikarq+TV0Q5aW6w9lg5e2G793fZbPb09Nk6sfqL342mvG0e7lUMdfGmzxeaIOozsWN0LK3Rpmhs7n9DamKdu/aiuLnldvbYdq3N3aGCBIKhtoa5TbN0ib/stnb9nnE1KumccAaM6DoyjqnAvp6bNO61vq7NBvLhaWb7uA6QpIJRUpLeVYe+9/rYPWuyxxSePJnzpswkdPoOSIH1gA/+6YnFhHHpp3unTvaUlWdm5UR+04KMCjnZO1Q49fSrwquNn6QfpIh6zukaTS5R+UrssdpaHjSPNt+3Ht5gLu2h6X6Rf86pFiAXNbk48jZVRl09sP3pBP6jgC9b/fb1JNn2WVjIsLmrjii7wryu0Kw8IS66UQfiPGjuDxiHP6sM81GFl5TNeetXZoTZtJMQPGjZQ0Nu4tlghH1kqXj9f17guXqOxGqWfBiaKR80Xc2Pj0tZ9HNrYsDGOXsyz9TvGWp/y4/Eb28Y9f37jK5vhT39dwYfwOVvQxcax10dj0ZE+4aH2pvXS+7RouNrDFOOsPVZOXcz58fCrG0e7nSd0Zxz0tlhcuEf+KGWUufEY2JhHhtWvrj6KHqs5pu1YnbtDA5OHI8kpueKkKj650M4YaBSMosV5laQITOvI8KRfxdZZsFRnDPfiw3jvtLTB2yYu9MSZKeglnaiLd9Xp6owTHf1NAYE8eA0ryEc/2QCdkhz2DUuCg/CVfmBvi5Kj2pAlbOA1KCHDBx3RiXs7X+CppAg/zZ3mChtp4w9ZXifZgE6Mkf2ip50xYMFVdY0HZ8ZSBulSdc7wXzS5ROknNQ0fFqaWh/VJfML7odoU19DiA+BPYQ59LMpv5G+M09yLj9UFXoqLimnNP8YoJuFh6fEL+RKkvt4kG57eT+Fhcwm8ZQu8Jokd6QDvOt8fFjvogE7QUmQ/dMJfcyH9NAaaSWJHvDXXwsXjJfnSS/KpSzb3FF/f0dzJSzRWo/STgIKf2lhg7ux8NK1ljFOM4TvMq3gRn/gQ86c5pK4yLCfQb/mJv/K5+OiK79ncZO1CPrxsGSfmGat1TDzgjzwV9EMHChgqltSvK3poHPjJHnS0/IgZ8RCmdrz4IUu6MQ4+FNo0N4xBLjrrjzHwV2wKP+kj2ZJjr6PMDfSSDy22IVulya80psvXtmN1Lg8NOATBhXNytQ6C09Yt8gQB4/njnoLT48hqt3TwVVAw1tdxRNFZh2Us7ZaWNjm/xnrZNnC8LFv3ATIsIBTE6AQfixV6qZAE6Nc4JQ/0pM0Wxqlf7XX40keCEMYEs3BRG5jDiz7JHqQjYxnDH3ZrHpEDjeUhOfQJA8kHQyU/6W/1hL/ss+3ozJ/0szZrXofpInmzuEaTS5R+UpvATvPKFf+iMAdqZ864t4U25sMWO1+MtzHNOOYdP/DFzqX1q0H5xNIPi2X5EjTTiB2bS6YROx4zq+8osYNddg6ZFxW1Yze4qs/iPWnsMPc2jqlbXuiADygXcFWO4J4/+RpjfV02dPEajdUo/SSYkDfBWzGNb+F7KsydjVdb19xACx1/dX5KPz5m59X7t5WBbDav0EkX1ZE5qCBbtnCVLtDAyxbbr3br/zbfWIxsbuMevuiOfdzzR7v0Fm+u8LH0+L3GYZ+Vie6KC8WTHS++8NQ4bBI+tp05Y4x0kJ6MZ5wKdqiPuRxUNBdWd+gkGzrwsHFv8yP91o/q6oNkd6W97Vjt7aGhKxPWZz0IFi3S2MG9TSR9ti11vy0C0eQSpb+tRrNtwZ+1yM1WUnJPBLqFQDRWo/TdQiO1SQTmF4G2YzUPDfPrS42WcTLnRG4Lp3NO/FnmE4FoconSt40qT8t4EpUlEVhrCERjNUq/1vBOexOB1UKg7VjNQ8NqzXQH5PIyoTZVHCJ4GdC+jNcBFVOFKSIQTS5R+imaMpQVL3VzKNbL1kMJckAiMEcIRGM1Sj9HUKYpiUCnEWg7VvPQ0Gl3mK1yvG9Q70Fkg8WT2dxkzRbz1eQeTS5R+rZs5+CLP9u33rUlO+UkAl1AIBqrUfouYJA6JAJrAYG2YzUPncPrGAAAIABJREFUDWvBq9LGRKCUEk0uUfqchEQgEWgHgWisRunbsTKlJAKJQNuxmoeG9LlEYI0gEE0uUfo1AnOamQisOgLRWI3SrzoAqUAisEYQaDtW89CwRhwrzUwEosklSp8zkAgkAu0gEI3VKH07VqaURCARaDtW1/yhwX6fcLpfPQLT/FYl3mtuv0O5XuL0W6dpw/S1a4djNLlE6duxcr6kTCs/8SUH/vvn20JqWja0pe88yInGapR+HjBs04Zprk+5xrY5c6svq+1YnftDAx/ubfpA5DgLGh8atj9AsvruclsNsNX+MMttR4zfkgltfMy6SBFNLlH6STEZFsOT8p0mnX7AaJo84TVOfmqSnYeGJnTmry8aq1H6SRHtQ6znGls/u9PcJ9RLyNY6BNqO1TV1aOCbgViEbRlnUc5Dg0Vusvt8CjIZbtOgiiaXKP2kNvRhI5GHhsGzO06OHcwle8ZBIBqrUfpxdLVj+xDreWiwM3brfR4absWizbu2Y3XuDw128ljYI4cGy2st3U8zGeShYfU8J5pcovSrZ3l/JU9rw52vNPTXBybRPBqrUfpJdF7LNLnGruXZj9nedqz28tDAD5LxREKFk/++++6navWDZeq3i6X9TYJ169ZV41mU9b3ubGjhNajYDS9BDm/+aPevQvCqBjrRxx91ZDJe8vTDarzXWOP8j6thh/qsbsi3/PV+ZcZYHthHm3hoHDZ6HRljZQgHn9A8neUJjeyDn9WFPtrgR2l6qtRkdxPueuIre7mCe5MNYATdvJdoconST4ov8219rMmnkWH9TzEGD3ybOFWusH7sfQCfoQ3/4SqfhT+85F/yb42XjbRLHmM1zvaLB1d41hUv29rmeeqhCPy8PRZD9FJ+9DJlh3hYu+EJrfS2c2KxVD9jKd4G6DTG2+D1yfpkCERjNUo/mdbLsSW/wvfwW8XbKGsscvEt+djBB3+oUsXGBvGPv6pYn7ZxiPzoGosMG7PoZmVIB2QRJyo+noSJ+mUf/Lw9tClum9bYJrubcB91jUVXa7u3QbbkNYZA27Hay0ODnFZQa4OpRECi0IKF88tZtSCKjiuBqqDzfO047m0wEpTUteghzyYDdICvLciHxi7Y6EwbfUoc3KvIDnRjnGy0yYA+/iiMl07UrX3wJfGKBzpKF+75qyvSS33wl62ySUkKrLVJEJ3whx4baGczJx7ia6+D7IYWHrLR4w7mouVem0bpIhnYKvmeh8bM2zWaXKL0k+LJPFkfavJp5hsfZ75tgQd+ozihr8kHGKc4JEYUG9ZXiCPpxVj0UsE/tclhHPfih46MpZ17nyfEg6tiifthscVY+T5Xq48wVBwoB1hZ3A+yW7qgK7TYMmousTZAyzxAL12Ei9cl65MjEI3VKP2kmstPocc/mnI9MVkXO9Dgc9bHGafYQIbukUNcIYvx0GnNmMYaO2qsKxaEW9MaK1wUN9ij9RB67GcMsukbVAbZLf7iCVaWj8WSe+HlbZDttPt8MUinbB8fgbZjtZeHBmC1Cxb3OK82BPYeZx+0sMPHJgnVcfK6omCkT4GlxOQDBr4KavGiDg/pSTsBqY276tqgiE5XyxO7FKzqF72CnXqTfeAkHdGJel3xtoG3tcEmV3svfax9sh+9BuHsdbB2N+GuDYnowVZYNtkAnfUn0c/bNZpcovST4mljGB5NPo3v2w2BZMLD+iHt1o+bfID8AT3F+pR4cyWO0EsFPeR7tFFXHqLd6tjkezZOmmKLeISPLdY+YQgP6WHH1t1bu+lvwr0pl1gbsNvOwyA86/TJttERiMZqlH50TXceKT+ltSnX049faf2yXFhjbHz52IBm0Fpn8we6RNfYUWO9aX3CNhv7Poa8fZOssdbuJtzHWWOtztgwCE87d3k/PgJtx2pvDw04JAGNg5MAbHASNCo2CfmFnTF2Qauriw9X+CKP4oPc1xlLgNmCfL+wozd/Kn6hVjtXmyQZh93SR+NIKCQAlSb7/ELP2LpibfNJg/FWpuVJn8ccXNDPbhzqZNo2a7fVhTG27nWzetWNs/NjZVjZ83QfTS5R+kmxtDEMjyafHrQw0Y4/qMhXRvEBG5P4ETGMX9vi/Rwfh07F1m2uoh9+8K0r1tam2CIXYqMtFjfu0cHnHzve31u76bO6+LrVjU0MY1Us3Tj5TvR5HR+BaKxG6cfXeJnC+qzN2fT6et0ayzja8UEVYgP/VIEPY+oKMaI8MY01dtRYt7YpN1n97FrmeTIOe+Che+wYZ421dltd4GfrXjerlx0HHZjbQ5eVUSma/6aCQNux2ttDA85K8OCUOCNXgoRkYROETUJ+YWfG7IJWV7ezagPTB4itc1+XlOrkoztj7R86q2Cn7bObFZIamwDGqNggpq3JPmTzRwFL3YuXrsNsQw/RIs/qaGnhhy3MT9NGiXGD7Pb8fB356ENBju7tOO4tprq3elcM5uxfNLlE6SeF08YwPJp82vufZHoew3xAeUS+YWNSfXZR9rFNPMj30MHWacc3WYDJW+g8qFhbvW3Wp+FpdfQy6SPmbEzUyZRtdXZbXaC1dexTDvC5xI8Tb1293nV6Zdt4CERjNUo/nra3jsYXFDfWvxlh64rfWylvvcOv6FeBn3zNXm0/Pqo+u55CG1ljoR8l1ofZBh/FF1erI3bYGMMOZA5bY+FZZ7fVBd6+Dg20FJtP6sYJU1293hWT/BdCoO1Y7e2hgcWWBKNTN4sdzoxT0qZik5Bf2Bljg62uLj5ccXwCg+IDxNcZa59iQlMnX/pXTN0/bCEoJRNd/cYWGYwBDwo0Si7Um+wTLbpaOU6NnWyFhvG2WJnwsTp6m6Flria12+Ps6/AmWSLHbkbsuDobrD3zeh9NLlH6SXG1MQyPJp9mrGLByvM8mnyAPrtRYIG0viS+xJlyjfdz+rSwMr6ujo8ix8aLeOtqbW2KLeVD0XG1NnNPnNaNE80wu60u0Ng6tOiHTT6X2HFNcS898hpHIBqrUfpJLbA+a3M2/HwdX8PvfKGdsSpNPk/s2RgkTokTW+Tbyit2vWOc9e+6OjyHxbq1DXmMt8XKrIshazP3w9bYJrutLujg66OssdD5fGXtyfvpIdB2rPb20EBgEewkGZyYQp2nfwpu2mwS8gs7/cMCvmK8458NTB9Ivm4TkXjUyScZ2CeWGsvV6k69jiftNqHYe/qa7AM3AntYqbNNmEOL/sj199S9fcIQenSrK012e118HXnayFnefhxYWhvs2Hm9jyaXKP2kuHp/aPJp64tWnudB3yAf8HGKT0Hvi/VhT1N3SNAhQpsQfHJYsbZ622xsoQv22GLts/bTXifb2+Dttrogx9aRPyiX2HFWZ6tr3k8XgWisRukntcb6qc/Zvo4f47O+aI1Re11sqA9/JFZVfIyp3Y6z9/Rb//b1UWO9zjb0VrF6+Rjy9sl+2tGtrngbLH+vi69DO8oaa3nW6ZBt00Gg7Vjt7aEBuFmkCBAVnJQ6gapik5APLsY0Bbx46KpgpO4DyddJRH4R9YsyfHT40YYCHZUIsUcJjUBFvvqoy05spE7hKhrqTfb5sRWDmn/eNhIGMinoY3HhwCaZopNtjLdj4WEPeBLdZLd4aqyvQ2vlDRqH7cyPMBR+Gj+P12hyidJPiqmNYXjIv8TP1pn7uk2x5wHtIB8gBuWn+Af8rb/TL3r8jeJjmxi0fmjr0MNzlGJtGxZb+LP8mKuVYe2nr27Rb7IbXa0uvg5Pm3esbZauKd9ZmryPIRCN1Sj9pNpbP/W53dfxN7/GIlexa3WAr/wTH6yLE/m/7dP6AL1tFy9kWP/29VFj3dvWtMaiEzZqL2Bt8/bTV7fGYovyg7fb6+Lro66xyonwp5AP4ZVlugi0Hau9PjQQWDZpUFcgaFoIGrt4M56AU1tTwIuHrjYZ+UDydQJbsrSJURCJn65qhz/6KBmIJ+3YwZ/6CHra+UOOkhvtoyY0aNCtjo904yo91GZtg1ZYqh/54ml1oZ92+FGg06ZLtFwlj7HebvVpvK+Dj2RzlXw/Dnpka2ydHpIxL9doconST4qjj+FhMWv9Twum5yFdBvmAjS/uoafgX4oZ9NCCSDt1FXSwceHr8JPvWT6i19Xbam3j3hZtUODreVr7iQVsqCuD7Gas18XWm3KJHQcfYSU9qWeZLgLRWI3ST2qN91N8R8XncLsOaY1lLH7FWFuoaz2mHz9XUSwii5hSn42FSddYZIi//F05Q/K5NtkGnc0ljKdOO39WN/pok/2D1ljGSS9vt9fF14lXyeaqPOTHIcNjKL3oyzIdBNqO1V4fGqYD+drkooRrF2ySSN0TyL4gRDImgSoxKYlp49gXO2alZzS5ROlnZVff+NqNCbqzsOK3fS3zmEv6OhfSOxqrUXrpsdav8xbrucZ2z6PbjtU8NHTPB1rRiI00hwRbeCqhpwa2vS/3HHj0lEg6Y49/SqO+tXaNJpco/VrDu85eNtg8nbNFh1vb1qf7ecwlfcK/TtdorEbp63Raa23zGOu5xnbPi9uO1Tw0dM8HWtGIJwb2JV09QejzBts/scUWa2MrwHZYSDS5ROk7DE2rquGTevWLjQWH9z4f1ucxl7TqEDMQFo3VKP0MTOoly3mL9Vxju+eGbcdqHhq65wOtacRTA/veRP+UvjVFpiRIGzDZxHs1+3wImhIsK2yiySVKv6LIGr/RYVZ+yucq8N0+l3nLJX2eC3SPxmqUvu/4TUv/eYv1XGOn5RnT49N2rOahYXpzl5wSgU4jEE0uUfpOg5PKJQJzhEA0VqP0cwRlmpIIdBqBtmM1Dw2ddodULhGYHgLR5BKln54lySkRSASaEIjGapS+SbfsSwQSgekh0Has5qFhenOXnBKBTiMQTS5R+k6Dk8olAnOEQDRWo/RzBGWakgh0GoG2YzUPDZ12h1QuEZgeAtHkEqWfniXJKRFIBJoQiMZqlL5Jt+xLBBKB6SHQdqzmoWF6c5ecEoFOIxBNLlH6ToOTyiUCc4RANFaj9HMEZZqSCHQagbZjNQ8NnXaHVC4RmB4C0eQSpZ+eJckpEUgEmhCIxmqUvkm37EsEEoHpIdB2rOahYXpzl5wSgU4jEE0uUfpOg5PKJQJzhEA0VqP0cwRlmpIIdBqBtmM1Dw2ddodULhGYHgLR5BKln54lySkRSASaEIjGapS+SbfsSwQSgekh0Has5qFhenOXnBKBTiMQTS5R+k6Dk8olAnOEQDRWo/RzBGWakgh0GoG2YzUPDZ12h1QuEZgeAtHkEqWfniXJKRFIBJoQiMZqlL5Jt+xLBBKB6SHQdqzmoWF6c5ecEoFOIxBNLlH6ToOTyiUCc4RANFaj9HMEZZqSCHQagbZjNQ8NnXaHVC4RmB4C0eQSpZ+eJckpEUgEmhCIxmqUvkm37EsEEoHpIdB2rOahYXpzl5wSgU4jEE0uUfpOg5PKJQJzhEA0VqP0cwRlmpIIdBqBtmM1Dw2ddodULhGYHgLR5BKln54lySkRSASaEIjGapS+SbfsSwQSgekh0Has5qFhenOXnBKBTiMQTS5R+k6Dk8olAnOEQDRWo/RzBGWakgh0GoG2YzUPDZ12h1QuEZgeAtHkEqWfniXJKRFIBJoQiMZqlL5Jt+xLBBKB6SHQdqzmoWF6c5ecEoFOIxBNLlH6ToOTyiUCc4RANFaj9HMEZZqSCHQagbZjNQ8NnXaHVC4RmB4C0eQSpZ+eJckpEUgEmhCIxmqUvkm37EsEEoHpIdB2rOahYXpzl5wSgU4jEE0uUfpOg5PKJQJzhEA0VqP0cwRlmpIIdBqBtmM1Dw2ddodULhGYHgLR5BKln54lySkRSASaEIjGapS+SbfsSwQSgekh0Has5qFhenO3qpyWlpYKf1kSgUEIRJNLlH6QXtmeCCQC00UgGqtR+ulak9wSgURgEAJtx2oeGgbNRE/aOSgsLixUBwauWRKBQQhEk0uUfpBe2Z4IJALTRSAaq1H66VqT3BKBRGAQAm3Hah4aBs1ET9rPO++8cq973ats3rKl0jhfbejJxK2CmtHkEqVfBZNTZCKwJhGIxmqUfk2CnkYnAquAQNuxmoeGVZjkaYo855xzyu1u9wtl0+Yt1asNeWiYJrrzxSuaXKL084VmWpMIdBeBaKxG6buLTGqWCMwXAm3Hah4aeu4/HBp22WWX6tDQc1NS/RkjEE0uUfoZm5fsE4FEYAcC0ViN0udEJAKJQDsItB2reWhoZ15nJsUeGniVIV9pmBnUvWccTS5R+t4DmAYkAj1BIBqrUfqewJRqJgK9R6DtWM1DQ89dxh8aem5Oqj9DBKLJJUo/Q9OSdSKQCBgEorEapTeq5G0ikAjMEIG2YzUPDTOczDZY69DAB6H1LUptyE0Z/UMgmlyi9P1DLDVOBPqJQDRWo/T9RC21TgT6h0DbsZqHhv75yE4ac2j4hV/8xfKj88+v2vPtSTvBc5vK1q3bbtO2VhqiySVKv1ZwTjvrEdDbJ/Vww1/rqbJ1EgSisRqln0TnpEkEEoHxEWg7VvPQMP4cdYqieqXh9rcvnzv22HLWmWeV7du2rfxmw1o/QGiTwvWyyy8vL3rxS8oznvGM8vJ99y3f/e53Vz7/YcfZ+05N9BSUiSaXKP0UTEgWPUaA2KJwWODP3ivuqsb8F0YgGqtR+rABySARSARGQqDtWM1Dw0jT0t1BenvSLbdsLAd/6EPl0EMPLTxNz0W4rBye2KB86UsnV98yBV7/9IY3lAc/+MHlp5f+dOXgwAzP+5PPaHKJ0nc3ilKzNhAgJynGkHfaaaeVq6+5ZiUGdahoQ5d5lxGN1Sj9vOOb9iUCXUGg7VjNQ0NXZn5CPfRKA7/TwMHh/R94f/n0pz69sjjrid6E7HtNtmXLlvKGN72xfOKTnyxXXX1NedjDHlY+/vFPlFNOOaXseuc7V1cMBKMjjjiiGmc3Nb02vkb5aHKJ0teolE1rCAEdCpSTeLXvPe95T/Xq6BqCoRVTo7EapW/FyBSSCCQCpe1YzUNDz51OrzRwaKBc+/Pryv9797vLhRdetNOrDWvxlYfrrr+h3O1udysHHXRQhc373//+st/++5fvfOc75WlPe3r5/ve/X7UfdthhZffddy8HHPDKlVdpqo45+xdNLlH6OYMzzQkisHHT5vK61762kMMoOlQE2SZ5KeGNRMZ6ulEi0A8E2o7VPDT0wy8GaqlDA9+eRGHh3bBhQznyiCPLzy67bKVtLR4aNm3aXPZ5/vPLC17wgnLJJZdUb4V43OMeV8CKQxaf//iv//qvsueee1avQPBKjXCaxw1MNLlE6Qc6cXasWQQOP/xT5R3veGf1at+aBWEGhkdjNUo/A5OSZSKQCNQg0Has5qGhZhL61FR3aGDDy1P2f/u//7ec+4MfVOZoM9wn26ahKweo1/zd35X7P+D+5b73vW956lP3rjYoC9u3VweGRzzykTv9mvY84xRNLlH6acxn8pgvBPiCggNedUD1+aL5smx1rYnGapR+da1P6YnA2kGg7VjNQ0PPfWvQoYHNL+8Z5uCwVr+OFQwofDCczyy8/vWvr96aRP0/3va2suuudy7Hf+EL5ctf/nJV/9jHPlYdIOb14BBNLlH6nodaqj8DBIi1r3zltCr+eAVQMYsoez8D0XPNMhqrUfq5BjeNSwQ6hEDbsZqHhg5N/iSqNB0a4Hf22WeXf/6Xf7nNZxzom5dFGTv0NwxD3pJ04IEHll3vdKfqbRHQ/eu//mu53/3vX37nwQ+uPkjueeiDm769b/VoconS9w2v1He2CNiY5QPR+hpktXPNMhkC0ViN0k+mdVIlAonAuAi0Hat5aBh3hjo2ftihAXXPOOOM8pa3vqX6diXqLMbz8C1B2lToOsrUnHDCF8sd7vDL1VuTeAsXTzm5Xn/jjeWii35cvX3pmmuv3YkV/MeRsRNxhyrR5BKl7xAUqUoHELAxxdsoP3vUUZVW85CbVhveaKxG6Vfb/pSfCKwVBNqO1Tw09Nyz6g4NWnR5G46ekv/4Jz8pn/nsZwsfDtYm2C7afYQB/b/+9W+U4447bqfPJTTZcv75F1Q0fEf8w//w4eUvXvSi8tznPa/6xqmLL764vPrVf1veedBBO2HUd5yERzS5ROmlR14TARAgrpSr+IwRvzOjWNM1kZoMgWisRukn0zqpEoFEYFwE2o7VPDSMO0MdG193aEDFD3zwA+WvX/GKsteTnlTO+NrXKq35itH3ve99Ox0cOmbOWOqwsVi/fn35t3/7t+otRrz1qKkwXpsRDga/vsce1asMP7/uuuo91Q996EPLb//2faofnYKPNjS6NvHuQ180uUTp+4BR6tgeAopHxeQXTvhi+cY3v1EpoL72tJkvSdFYjdLPF5ppTSLQXQTajtU8NHTXF0bSTIcG/U4DRGedeVb1jUHc//d73lMe/4QnVB8GZlN9yEcPKfwuAT98poWZax83xuhM4RuS3njggeX000+v6tqEVJUB//gK1kc9+tHlsB2/oM1nP+51r3uVfffbt6LgySe/6/CRj3xk5aAhvsJtAOvONkeTS5S+s8CkYp1A4Morr6p+jJEHARTFWyeU65kS0ViN0vcMrlQ3EegtAm3Hah4aeusqy4rr0KDfabj55lsKT8zP/OaZ1QDeJ8zTc/1mAz+o9MEPHlwdHNgYawOsa5/gsJsKXi3gA9+8JYsy6BBkab73ve9Vn2HY87GPLXe/+92rr2TlbVwcqPiBvF/aZZfy+Mc/vlz6s0srnqLlKv667wNu0eQSpe8DRqnj6iFAPiKGT/rSSaunxJxIjsZqlH5OYEwzEoHOI9B2rOahofMu0aygDg280sAGlq9YfchDH1IdEvh1aH6j4MEPfnD1Nh5tetlYn3LKKdUf3GnXX7O0bvVKZ12/ddZZlf0cBuqKxtkrTzc5ZL3oxS+pviueX9L+0yc/uXCQ4ODAj0+94AUvLPC2dLpHDvd9KNHkEqXvA0ap4+oiwJc2vOFNb6xePVxdTfotPRqrUfp+o5faJwL9QaDtWM1DQ398o1ZTHRp4pYGX9Xli/rKX/VW14X3rf/xHuetd7lpteiHWRlebXL5J6EtfOnmFr9pXGjp+g772iT/q8psUf/myvyxHHX30bbSX/epQnW9L4iDFtyj98SMeUd729revvGLBWN6mtM/z9qlegaB+9TXXVK8+eNni29VrNLlE6buKy2rrtbS0WMXmIv68fUu5+frry9Zty68CFg6kK4d6xi1W9eW2HXSLtx76fQxXPr64VOC97O+LZZH64jIt/NS3uLiwrAf9C9vLUjVG426lr2gWl3g5r9JHcVTpGgATPryF8uMf/0T5z//6z9vENv1ZRkMgGqtR+tG0zFGJQCIQRaDtWM1DQ3TGVpneHhq4/5Xdf6XoSTvfBsQPmB166KGVliy62ujScMstG8tBBx208lYmLf52zLCFms3HwsJiWVhc/qYmlnVtgjZfe375ykmnlRs3ba02KWxOZlmkK68K8MoB9svmUeS+4x3vLHvv/bTC2yRs4RDCbztccOGF1Ve0vvAv/mJlU8M4ybU0XbyPJpcofRcx6YJOS9r0l1Ju+PEp5Xn3+73yxXU/LQts6Be2l8UlNvAL1R8b9cWlhVJt8Be4Lu7YvC/f+wjjgABN9be0UBagX9y2zG8Jnsvxu7R9+cCwLIcDwmIpxDUy+FvaXumyUMnjoFHK0uKWsh1+O/SodAkAqjjiLZb8dgrxS1F7gPWaI43GapR+zQGeBicCq4RA27Gah4ZVmuhpidWhgbcnHX3MMeXe97n18wt8QxCHiKuuvqZWHJ8D4C04T37KUwrfrKQNNlf91RLaRm1mFhYKG5btG64tl1x7TSlLW8qX/vMl5S67/VH53tUby+LC4vKmx9JO+d4edr761a+W9773vWNJ4L3U4EnRRuXUU0+t3t7F25jo/43f+I3yuMc9rnq1Qcw1VvWuXqPJJUrfVVxWW6+lavO+/KH+my44tjz91+9ZjjvrsrK0fXvZyu68KjuuHM51+K4OD8sbfA4CpSzexhR8k4ODuDCg8teFhepQssx6+fBQja14M3r5FYltC+YbyZa2lcVFHgBYbsv8lg83yzbcRokRG2wc1b19ckQ2OayUEo3VKH1OQiKQCLSDQNuxmoeGduZ1ZlLsoeHLX/5y+c3fvGfhtwh4Ks579T937LGVbBZk/fHh6Ec+6lFlt912K7vvvns1ht9w+Pa3vlWN0eZb45uU54ln9YRxaalsvPwb5Z+f+/TyyVN+UMrmn5S37Puc8uK3fL5s3sZTyh3jmpgF+6QvVwq2821RHI7UNkiE+rmi67nn/qAccMArKwxPPvnk6m1cvArxxCc+sfzjP/7jCpbwE+0g3l1pjyaXKH1XcOiaHhwaFheXX9265fwTyrPvce9y/LcuqdS8+eqflDO/flY56xtnlQsvva4s4NrbtpZLz/92ufjaG3ncX7ZV71jaUn5w4Y/Klu07b9yJT8ri1vXlnO98t5x51lll/eZlWRwILvzx+eWWLRwGeDVhsdx0/eXlBz+7oixUr3CUsrhtQzn7rG+Vdd89t6zfAt1iWdi6sVx04SXlhvXXlnO/eVa54GdXl6WF5b5pYcvbLflmMxViMsvoCERjNUo/uqY5MhFIBCIItB2reWiIzFYHaO2hgc3rRz/60fLMZz2rvOpVryr6ZWPa9YfK3/nOd8rd7na38r9vd7vq20pkBu8l5ok6ReO5NpXqbRKllK3rLyxvfuNzygPv+uvlc2ddUrb99Nxy5GcPLxfetPzWCr1HuolXtE86iw/1I444ouy///4r34Ckvrqr6MGND5PzCsxll19evcJwxzveqfqsA29d4n3XjNVGhnuKrnW8u9AWTS5R+i5g0EUd8CPeNoQXrb/whPKMe9y3nPCti8u5Z3y6vOhRDyq77bpb2fWXdy33e+izyuFnnFcWtq8vh/7NY8tr/v1TK68ILN3wvbL38145ORHyAAAgAElEQVRS1m/hlQEbs0vluovPKe9+9TPKHrvdudzxzncue//de8p3rri5LC7eXPb/8z8rX/zhzwsHF8rh//535aXvPals2r5YbrlsXXnva/cud73zbmX3u+5Rnv2mQ8uF124um686vzzlMc8qf/maZ5e77bpbec3bP17R8rYp/7kGbCNeiBvum2KEPv3BkAM/tFnGRyAaq1H68TVOikQgEZgEgbZjNQ8Nk8xSh2j8oQHV+MpQffWoXYT5ulXem8/nHJ717GeXBz7oQdUHh2UOHyLmA4g8madoU8w9fGxdNNVnGrZuKF8+4rBy8CcPK6945uPKF793Zdm2aUvZdPPG5fc+LzO4zYZCPGZ5RWfepsQhSq84YIsvFic+68HbIzhA8bYvvkmJD5ULU2gtD91rU2R5eTmrWY8mlyj9atreZdl6pQ4dN1x4YvVKw3Hf+GE57pC3lrcfekz51ne/X75+6jFl7/vepdzjWW8qF9+0UG4+//jynH3+umzYulCWFjaWL73zxeXV//GJsmn9z8tFP764/PjHPymXXnVt2XTNOeXVT3xgecQzDihHnX5m+fZZXymvedZjy/2euG/55mW3lM/+95vKU99wRNm4baGU7RvLAS9+SVl37cay9drvl7958oPK7z3pFeWYE04qJxx7SHn5E36/PPLl7y43XPWj8sjf/j/l8fu9tZy+7nvlmhtu2vHZi+XPN/DlCnyLG3//8uY3V6/MkXeIob//h3+oPq9AO2+N5FVPXiEl9/jfjuEthkceceTKYUNx1uW57Ipu0ViN0ncFh9QjEZh3BNqO1Tw09Nyjvvvd75Zddtml8HJ+06LKV4k+9al7V+/PP+Zzx1QLMV9vaJ/kQc/blFjM+cE0iuXJva3Tz4bnwlMPL+877EvlhqvOKC9+zCPLGT9Zv/wNLXxYUs892ajXbNZnCb90ZbP/rne9q9q8DMJJtvmDEVjxioN41V3VZvGybbO0cRze0eQSpR9H17U0dqdDw0UnlWfd44Hl+G//tNz8o2+U973ln8s/HXhg+eMH3Lvc4fa/VO75zNeVC6/fWkXVP/3lPuWzF2womy45vjz2t+5Rjj/74nLU259fbr/LLuVOd9qtPPDxzys/POvT5eF7PKy8/8wrK0iRdfW6j5c/+rW7lrd98bxy1brjywPu85hy8qUby9aLP1tetN+bKt6Xnv6x8pDd71xuf8c7ll3veOey6x13Lb98h9uXPe7zzHLBReeURz/wN8sbTryoGsuHp3nbEj5P/Ny0YUOVPzgEKJ7UxysOxOOmTZvLt9etK+95z3vK61772rLXXnsVvmDguOOPL9ffeGPFizH8aKN+c6aLMdVVP43GapS+q7ikXonAvCHQdqzmoaHnHsQ3JenQYE1hseZtNkd+5jPlmc98ZvVVrK985StWDgMay0KsxZgri/qnP/Xp8oEPfqA6iGjcoOu2m35WXvX0R5Q9n/dX5RXPf3y53/3+oHznyo1lqfrgs3uivwqHBtnGBoQnnV844YuVKWr3dqldVz7P8Od//twVGtrtHzjrj0Hci9bzXu16NLlE6Vfb/q7Kt4eG9RecWJ7zG3cvx5+xrhz4zIeWu+z+a+Xev/uY8r5PHl72f8zdy92f8obyo+uX37Jz5DtfU17wn8eXUz701+W3fuep5cc3bCqXn//N8rmjjymf//zny8lnnFkuOeuw8pBffWh539cvXz6+Ly2Wy9d9tPzB/7lPeccpF5btN11S9nnI75T9P/j1csYhB5R/ePenK5gu/voh5aG737287G2HlM8fd3Q59tijyuePP76cevI3y3VXfK/s+cB7lQOPPb8au/wh6KUdX9HqYn5E0PnxSR5W8KreXk96UnnLW99SHR6OO+646tVP+yrfiCzX9LBorEbp1zT4aXwi0CICbcdqpw4N1beCaBO7Y4M5sw1YxX/Hhjm4ma2epvOUbcdXJ47rL9qE8lxe99XSu0PHJn68Pel2t/uFapH997f8e/mnN7yh/O3f/m31laP77b9/9fYA3tfPtyNpQ7siw22A1c6rDzzd+9CHP1yuuOKKSjx9FF2XdVosXzv52HLCWd8t5//oB+XE9+5b7vvwp5YLrt+8vJGuvpex/VcYlnW7VVfpzJPPgz/0oeprU8HCFtmuq7DiEMXbJNTur/yC9Itf+tJqDK/O2H7Lvwv30eQSpe8CBl3UofpcEL+JUEq5+YITy7Puea/y2aOPKw/Y7Z7lwE+vq36zYf2l55a97v0rZY+n/XP58Y5XGi78yqfKvR/2yLLnQx5Wnva6T5TNfG2qM3DzT08tz73fXcsT/+YD5bJbtpey/eZy6GueUn79N59WTrnghlKWtpdP/cNTyx8+/inlyY95WPnYST+sOGy65LTy3AfvUf7kdYeUjVuXY+Wq879Wjv/aOeWmq39YHvPg3ypvOGb50LD8uw28TWr51QYYEAf2au/VZ9t0z2+g8IOKz33e86rfm/nGN79R5TR9/SrjWivkdL1aSq5EsK63QRrbd/72KuWCZSY7eGl922HE8mdJdqabhn3RWI3ST8OG5JEIJALDEWg7VrtzaKhe2t7xLTv82FH1w0G3PgUfDt14I0joK993vuNDiCscxjxEVIsDH/jjG0eqzahfulc4194sHzb4BhV95/nyN5nwnejVDy/VUi038qFmPtDMwYCvB+WVBxbeSNGizvel8w0mWvywrdJ1YVvZunl9+dbRHyjv/sxp1cZjy8bryxH/8JRy7wc8vZx33aZSwMN9NWNEp2nRYtMBrzqg+sC4Dgbwls2D5AgDXRn3xRNPrF7BedjDHlbu8it3KU972tOrV3fsGHs/iHdb7dHkEqVvy86+yaniithaWiw3//jUss/9/6CccMZ3y7v2f0p56B89ujxl76eVJzzpT8tTH/P75V5/8tfla5ffgseWbbdcUV76h79W9rjfc8pJl/CWntu+ysWrAD8541Pl1fs8sTxyzyeWJ+31uPL4Z76sfOjE75XN25Z/++H6875YXvDQe5Z7PvIl5YKfb1p+a+HC5vL9Uw4rf/XMx5RHP/5Py5P3enJ58tNfWN5z9Lqy8efnl8c9/HfLv37hwqlCTaxQuPLg4rTTTqt+HVpvXTr3Bz/Y6cHHVIU7ZtVBaGF7WeBB0OJC2bZta7Ve3HT5ueWYjx9evnfZzTsfG3Z8bS5ryjLtcj5ff91V5bLLLi2XXnlt2bR1a9nGlygsbilnfOyN5c/2e2e5YdO2suQeYDhVJqpGYzVKP5HSSZQIJAJjI9B2rHbq0MAPDdl9ZrVhHnMDPyri1UvqK8Lc4WRcmdWrDDwtWv5u8/GODHxr4vJm/Na3KezgxdcYVt9qMpgjH9blK0CXDyu3Wq/NqhbiW3ua7zwdb8/RW3qgrL4hZXF7+dbH3lb2/qMHlr/5j8PK0rbrypH/7xVlz997cHnQA363vOvI01awaJbWbq9s++mlPy377rdv9SFLtY2qiQ4ax3/hC9XX2/KbDXyIk1cw+MwIb7OgCHeNH5X/LMdFk0uUfpa29Zm3NvtVlG/dWDbecsPyZ42WtpVNN99Y1l+/vmzYxOcDbikbNtxcbWAXFpbK5qt/UH7/nr9VXvnhr1Z5k5zmPzfE76Ms/67DYrl5w43lhvXrd/gmr4xuXf4A8+JS2bL5lrJh85bCg4rql6AXt+94sr5Y1q+/rlx70y3VKxnVZxcWtpZbNt5SNm/jsxXTK8SMjRfFEF9MwCuov/qrv1p95koS1a/6NK/wrn4Ib6mUDRd8rRz/1bPL0uKGcszbnlvuvMejy4kXrd/p0FDpvrh9x4Fr+ZWD00/4ZNn/r15eXrb/y8tfv/Lvy3sOenv56PGnl7LpovIvL3xkecl7Tqt+HK/wg3lTLtFYjdJP2ZxklwgkAgMQaDtWu3NoqDakpXz7yyeWQz95RPnWedcuHyBYxMbdxA8A1zbzvehLW24q55x0bDnt+/z6qukdUx6LMucPnkbxbTvj6qv3BJfF7eXK759czvrRZdVhgc3EwsrL4Ua/mttq0drxfnrux9XBsrQHEL5xiV9KPvHEkyqey68AbS8bN1xTrr32yrL+plvK4sK2suHGq8vVP7+uXH/jdeWGDRurX6DlyWmXisWFD4bzS89s+G37IH01huvZZ59d/WgenxXRD+fRzoGBtzLx4XTe1mRpBvFtsz2aXKL0bdraK1k7XiEg7nglr8on1b02/DseLKwcChbLFed8obz4T/+4/PYT/q6ceeXG6rDAIWCnpy5VTt1WlvidlOp3GJTklsrW7duqA8JyO69w8svSy0/V4VP9wnv1y9F8vfDi8quG6MkhpNrkoud045t4UeHeHiAuueSS6i2XfJ00X9Zgc5RopnmtXi3A3q2Xlve+6KnlnYefXpa231De+zcvKM9+0+Hl5q3LbydbkVk9ONqBY1ksV55zeHn6c15Yvv/T65eHLGwqn3vDC8qB7zuqLPz0rPKWv39B+fyPOMAtv7q8wmdKN9FYjdJPyYxkkwgkAkMQaDtWV/XQoE2V3id63bnHl73+8DFl3wNeXz719Z9U69/KmAq4W9/z73G0C85y3/JT/2ohrNlEsygs3PTD8oo/3KM84XWfML+8ykq7fFC5DU8WtVpeS2XzFaeV5++9dzn1h9fs2Cz6w06T7ovVjynxsvW3jv2v8omTz16WUz2xZmHeeTHdGROGivfyU0IttrfR34NWUxfNrTyXqm9D4VuEDjv0sLJxE29fAFs2OLry1HL5rREVXfU2K71Vq0bIKjVVmzLzQWU2/Hz4Uq8OoJbs9yoKD9r5xhfetsWBinY+pMk9Byt+E+Ll++5bfeuLDpCR+fB6ROrR5BKlj+g+17QmfvXqKocHXmVc0tNrbeirBxRL5Ypv/k954iMfUz67js8cLW/4b32l8la0KjY78tbygYR8oty4/EvQ1auH/I5CFdO8TYozf/WLcVXmqV6pgAcdVXpc7vOvatwqdTp3xJYOB1z5jNX//M/h1S+y85Wt61deNbmtvEFxfNuRaln+zEJl645vggKnc056R3nQ7ruVD55wTln8+U/KB9/xz+Wo7/GV1DsfGipdd7xisPmKb5SX/MmDylv/56sV8+3Vt0stlct+8qVy0ok/KDdcdUH54tFHV7+psYz5rfld2kSv0ViN0kf1T/pEIBEYDYG2Y3VVDw1shlnoeDl800/PLB944wvLo/Z6QTnpaxeUW7YvP8X65qnHl0MP/XA58vivles2LVRPsHk//ZdP/Xb5yWUXlS988rDy5bPOq9Bd2Hh1OenIw8thHz+8XHTd5upJmBadi3/wzXLYIYeVQz7xqXL6BVdXm73tN11Y/vaP71Gec+BR5Wtf+0L52OHHlR/xfnwWhGoB3VK+d+pR5ZCPfLh89NCPlwuuvXl5wV3YUi5bd3o5+5xvl0985LBy/HEnlyM+cmC5z6/erbz+A0eVTduWf3G1bLmmHP3Jj5fDDj+qnPPzZb4LW24upx//mbLuZz8rPzzl6HLYIR8pp575/eqQsLi0vVx9/jfL2ZdcWxY2XFW+cuJx5ds/u7yc/JnDy+FHfq5ccP3G5SdTi0tl4zWXlk9/+JDyiWNPL5fdeGP52jfWLX/+wTytG83lmkfZxZcn6J89+uiKoNqA8FSUDz+KxZRli+2srtjGByz5IDOfDaFUi/+A9xj7PuocGPhWKn4Mjt+D4MPWlNe//vXlnQcdtPK0lLGU1TxARJNLlL4CIP+FEJAP8uokr2zaBwohxh0ktjGDenwVK4eGG264sTq0v/SlL61+44FxdX/jmLSM647P1PEwZNvmctYXP1+OOuGY8ro/27Mc9fVLysKWrWXDDT8vm6oD1s6vsqy8YrD5ivL+/R5Vfv1Rf1V+tp5XnXl4xAOVhbJly43lpps27Xh1YccrOzUPocbRe9DYaKxG6QfpNe12+Yj4yg+o2z57r7F5TQTmAYG2Y3VVDw3VS8C85F5KOe/TB5bfvPPty/93u18ov/un/1wu2XBzOftz7y333+Mu5fZ32KXcade7lKe87r/L93++uWy67NvlSQ/cqzz7xY8pu//yHcqr3vo/Zf15Xypvev4jyq673KH80i67lIc/95/Kly7gidBS2XbTxeUFe/1e9dWkv7jLLuWuD3hKOfVHV5eFG84rr3vcb5U/3vvl5fcfsEf5pV+6Q3n0i95Rzr1u+Wn6Wf8/e+8dJlWVrQ//833f/f2ucyfojOPM3NEZxZzjgAlEBMkqCAIKooIIKEiSIEGQKKhIEhMigpJpcs4ZRDJNpsnQOVau93vetWtVny46cqqrq9vaz1O1z9ln53PW2nvtlRZMwK03XIv/e83/SNl67Qcjy+2D35uBub1boVr1/+CPv78eNeq8iKce/hv+3//6L1z/UF1czPYi8/gGDGhTHX/8HfvzO9xZryPm7r8MT/IpNLvnz/jng4/g3pv+gj9ccw0qPVYPCZluwO/EnP710X70PDgPLkKDu/6MWx57Gn+77o+45r9/j/rdJ+NyNuWWXRjb+3X89/+5Btf+9R9o3OENPNe4s8wjF6dwhlBkO+WHH3HiJO2zB7gMXPQCnJnAQWQ4my/VunRs5KKQcKCFKaZpurVxa5o1z7p163Df/fcLZ+HOu+5C45dfBkUpaLL2hRdeEDEl1qNlNLbWHalru8jFbvlIjbOityMbVG5sA9yAijreUJjjOCdNmhQ0G01rZc2aN8eGjRtlCngAQA/u1nLFnRvhMATmlHodx7bNxivvjELcrPGo/Z+HsfLAZXj4nOJEwr4JwbOBdMfxjXjxlr+iybC5cIkxCCPqZbg0SkDkxTFX09+ixmUXVu2WL6p/4Xqu+JS+QfTARtPC1UasntgMRPMMRBpWy5Ro4GkZF0Cv3wdH0knEffEu6rzUCbv3nsal+Pmof+9f0KrXCGzYsBaTh72Dv117LWr1nY60s3tQ+aZrUalGc0xavgYJZ05gyOuV8b/318PkJeuwZf0KtPhPJTzx9qdIcXhxeN5QPFv7NWzYtBHbNs5Dn8ZPY9zcdUD6QfSpeTN+/5dbMP6n+RjbuS7+8ud/4qMlxwF48e4LVVCvyydYvmET1q6ZjScfewTjNpyWzf3iwc3xSPWXsHL9Dhw5cQy7Fo3Egzfdhk9mrIXHeQHj3quBG26rhXkr12P9mvnoWP1+VGn+ES5dPIYmD1+PP/zlbnz47TxsWL8KNR59DCPXst5sxH3cAB3Gx8F1bBFevv86/N8bHsEP85dgQJOHcc31j2LCtsvwpB1G1cpP4Mu4tdi4dDLa1r0Xd9ftYL7rMJ/2Wxc0blJOnDiJT0aMwOnLl4zogkWUqzwRDbqwMObp//fffw+aqKXIQ0HBWkbnhT4tWI6Bzqrq128gxEK1atUwcuTI4AZG8zOfcr8Kaqe00u0iF7vlS2tcv7V6DZHODWioCGTFmgkrzOjIaFGJJlk1UIeIXD56oSanz2oeWfMUJ1ZCgGsRw9xvP0fnXj3Q8+1GuLnSbdhyKk041+agy1hIstZLooMERc7Z7Whx1/Wo12caHJ4AkRAQWyLc65rHwywrPrHWFY5ru7Bqt3w4xlDcOjiPtGQ3bPhw0ScrbrlYvtgMVIQZiDSsli3REJCDN3Kkfpxc9jneeu8z2bCvHdEO/6rUEEeTeervBfxuLP+kNW7+Vy3sP7gNj939d/SYYWyKZyT8gqev/wNuergGXm7aAk1faYbnHr0VN9xUG7MPJCN1/yLUrfY4GjVuglff/wjTZs3HifPJ8KYdRucn/4mnOnyFbLcPjuPzUe3uu9Fy3Fb4co6i2YttkUEb5X5j1Wnx2D54uv2XyHLlYGH/Wuj8xSw5ceeHl3FsLqrddR8W7r2E1P3zUPumP+Gfdz+Fl5s1xStNX0Hdqvfhuuufwva9e9Hk7r/gxSHzRASLQivDPmiDnrMOAv4cLBjcFB3HzYf78CLUu+svaDpqFdw+4PSGL3Drvx/A8DWncWLtYLTsOlq4KESYjsPzUL/5+3IfbjljqziNLnKHDsdjaZs2SH6pKVy7dhuFSor0qCJ24GS9SICUU309fdMNkInNIm49kQsKQRVZbXEz6HiYn9dUcB43bpx4q9U0zcNYg6bxPik5RYgGKmdu27oNU6ZMwa233SZebim6RL0Jyl/TChWDtazWF6nYLnKxWz5S46zo7fgD1Ln5JnO/y4o+bo6PnARaUkpMIhfZhPETxqNylcq4/fbbghbR+ERhNr9Y07QO5Xpzah2XdmH+8lXyyBW/EM9WroadFzICorRe0HIV81sD66NiuNd5AV+9Ww3X39sQRy5RJJUdcSHh8Gos2HgADldkdL3swqrd8ta5Ke1rzj1N9FKnjGKho0ePFj08bTf0XWt6LI7NQEWYgUjDapkSDaEv7MiST/FGx1FCICwb/AZuvaM5zma6RL+A4jDbv+qESv/7LPbv24qqd9+IDwN2wtNO7sBj1/0THT+dhY2btmDd+rVYv3EDNmzahTOpOXIifulUPBZ8NQQNHr4flf79v3i513jAcQydn7wJ9XtOhYMmDM8uRf2HHsSrY7fBnXEULRp1FKtK1G9gWPvNYFRtNQ7priws7PccekycK0QDl+2M+Hl48q67MX/3eaTsnomqf/0Hmn44FRs2rsPa9RuxfuNGbN30C1LOH0bju29A6zGrkRPQ2/iszzvoPfuIcBrmD3oJ745bAOeRBWh459/R4dvN0ocLWyfizkoP49M1Z3BsRX+82W+c9Ilt+y6vQaPXuprptGxuTYK9f0W4ejoum3mPB2ndeiHx5vuQ/Gwt+LJyhPsu5hq5RgZO07VsQT3gc6/PA4/XeLjNzSc1CBeKBFvWpeO4lJKR+7gUr7i579O3L2jmkYF91LHn1yyfXU5MEm/TlSrdIj4zevbqJboOFF2659578Yc//AFVHn8cs+fMiREN+U1iLC02A8WcAcIbT5Tj4uZLCRoxGDVqlPhLob+aQQMHSrrCLOHXiodC77VZ4jX+nMlHMWHcSGxIMFaPzq74DI/dWx27E7NlHTLlqQgeIp5E/TwhJHxIPrEFXZo9gZbt++Hn6T/jp0lj0LNvb8zffdYYj/AT3xHHlV6wu5GwW770RpZ/zfqOiYup90IDF9SBYdB3rnk0Lf+aYqmxGShfMxBpWI0qouHo0hF4swM5DT4cjBuAO/98PWZvNw6Ess+ux3vP3I+bnu2J88d/wRP3/Rv9FlKMCPCknkTzh2/AE63640i60ZE4s3sZfpy7HokOB87Fr8earYckr8/jxMnNo1GvWW/4nSfx7pP/Qt0e0+D0+uFMWIp6992L5uO2we9Jxyu1qmPmgYtGHNXvQr/XG6PV6C1GPKlfTXT5yigFE/1nxk/B43fdg0UHEuG/vB1tqv0Td73US/Qb2HDiwfWYPGcFEi8cQ7N7/oaWY1YiO0A0fNq7PXrNOSr1Lhj8AjqNjYPn6Hw0uPMGtP9mk7R/YfvXuP3WRzBi1WmkHpmNag3fRKqDY/Vg3cS3UfmlgHgSLamEMSjCZZW8dns8SE9OAxW60z7oicRK9yGtRw/4c7LMPAXySf4i+sH6KA5Ak61LZkzG19+Nx9gJYzH683FYt/MYG4TbkYChrz6JwZOWFFFbeB6TO0DOwNBhw2TjL+MI2XhYW9L5oXx1nbp1xYttTo4DCacTZCNzzz33YM5cWp6ahBtvvFHMRWoZaz2RuLaLXOyWj8QYY21U7Bkg7JDb0PvDPqCzN3IcFi9ego8Hf4wmTZqCytEKX4wZSEDQs/2O7dsL1Hkg5yDtzG5MGTkQHd/rj32nEnFo0xwMHdAT7737Hmas3Gk4zj4edBjuqHWmRc9EzOQaU8teVzq2b1iPNWtXYuO2X5FIPxti9MOIKFnLlsa1XVi1W740xlRYnXzHVkLx4MGDmDx5soidrl27RrjH+j3o91FYfbFnsRkoLzMQaViNKqLh0OLBeO3tYfKuPBln8XmbKnjg4afRsW0b1Hu8Ev543e3oOX0HMs7uwAO3XY8P5x2W8xq/14nlX7THX//wO9xbozHavfEmHrrxejzeeiROZThxbOkoPHDvvXijzVti6aZJ1fvx7rAfgcwD6PDw3/FMtx+FaMg+Mw/P3Xkzmo6kqTw/JvR6GTfd9ThavdUBbVu9hJvvrIJ1ZzMAfxZmflANncYYTgM7nHFiDmrceAMadhyCTJcTGyd1xh3X/h7PvvQq2r7VHFVuvQEPvNQPZy4cR73br0OLT5dJmyw7oueb6DL9kNQ766OGeOeLeXAfmofn/3Ut3vxyjWzGz2wfjRv/eTuGLDgmBE2Lqo+hVqNX0ea1hrj979fitgZGETrcttPZP0W2vN6waQNmT/lO5t2bnYOkJ58RwiH9o4/hdRlnT4qUizxLo3gaLZG4HZjYrzWuubEKugz6Al989iHqN3oLh1NdcF5egfr3VMKUVYfZfKmFYJ/9xsRst65d5bRK/S3k17C1DK8pnsTNCcM77dvj8SeekI0N77mg1a1XT35kpZdFsItc7JYvizHH2qw4M6DwxhFRd4EcPcIS0zWkpWfA6zEbSKaqkYYjh48Ip4+6D1SYtZZhWeprGTFZU9OVeJSHG8aDtnBbA9xnbZdtBU3WijgtDUXQCp9x+MYDEPHH46V4UsC6nhYuhdgurNotXwpDKrJKfafW74QK0vPi4oQ7RUeoGpTA0PtYHJuB8joDkYbVqCIajq+bhA8GfiPvjkjYmXwQbRrVxC233YKHqr6IL5cdRJrDBceFvWhStzo+XXPMiMLQhnnOeaz8ti+euO9u3HrnXXit1484diFDFgefIxWf926NW+68DXfcegeq1OuMI5fT4ck8iY+aVsNbI+Lg9vnguLge7eo8j27fb5M+pF/Yi7YvPI5Kt92G226/E0N/WGwWG58bqz97A8OmLuNSIWxtrzMRM/q3xqM1muFUqgt+ZyJ2zBiKh+69A3fccT/qvzcWh8+kwJOagE71qqDLD2Un1+8AACAASURBVDvgDojlfDN6AEYvNZyG1RM6YtAPK5FzchXa1X4SfWfsEgW7xD0/4/majTF+3Snp264Fk3D/Hbfj1tufQIeu7VG3VTczb5YFVBJs/lkRMBFt//4DcOSIIdYo/5s9dToS/30fEm+9H5mjPgso+gWU/IpoWyyRcBH1eXFw5fd44JV+OJ9tNtT932qIXnHHkH50KurVehuHkx1F1Gb/sXWs1EXo/H5nfPPNN2azEDKv1gUqtOVVq1aBHIb4+FxCh9yH/1T+jxAN5GaURbCLXOyWL4sxx9qseDNA2CM8Dfh4IOKPxMsBDzf5PO33u1zwedzBdUFP953ObKxdu1YIB+ohaQjCPLmJmhhyUMLk3GeaLzdFiylO0HtTivlMXnke0k5u3vBe2YVVu+XDO5qiawu+x8C7s96z9MqVK4XIXLZ8WdDKUtG1xnLEZiD6ZyDSsBpVRAN8XrjVx0EA0fKk1+F0BkVFiIDJSubGy02Tg0GUbK5cLpfkl9MgSQo47fF6JZ2nTC63kUclYuHpuMdjHJNRTtXtcsMVEBticZ4KsX3+TJ2BBcDjlnLMEww+r/SL+XRJcbtccDpdojzHfOw722QbsohQ7dvjgTcwFi54pj8+eFwuuD3sq3hbkr5xzOlntqPn+70wY24c4uZNx4gOL+LNfhMkH1nn4QzsI4kFit/wVC/h7Bnpt6TTBCEdm/04DUmPVhGOQ8pLTeA+fUZO+LhgFxY4F8bDtB/fDn4PvX7agWxHDi6fOYz3X38VMw6mIPvQZqzec0TMFxZWV7ifcXwcMxWbZ82eHaye6fxZg6Zp+u7du8WSEvMwjU7eOnbsgBYtXhURiY2bNolMtpqHtJbXa2v94bq2i1zslg/XOGL1/HZngPChp8SLly7F8uXLDTeBeNTvh3P/AaT36w/vxXOCg4m/iVt5wEFTyDSvTG/wDKzLGstNBfmzC6t2y0fjNNLQxZChQ0Vnjdf8jhTfhsbR2P9Yn2IzkN8MRBpWo4toyG9GYmlXzIDX68SXfV/HHXfchTsq3YnabQfjSFKOURi/QkHviuIlTqBVis6dO4lTJRa2IlgiXi7InlOnkVz3RVGOTnntLclzJYs/pGluAFjYl4W2Df6DGg1fRuOXXkbjtt2wbt8J4eIYa1B0hBSqeBhSV5hvdYyslhaVaNJPA5+FBqbpZobPNA9Z4i83aYIWLVqIA7kaNWrgb3/7Gx555BE8+NCD2Lplq1Ql82hZxELrD8e9XeRit3w4xhCr47c7AwpjCmc8yPnhhyni5E6e0YHaLzsEByU98B+k9/lQrLtRZ4p4hoceNItMTiAPnVhGfxVtVu3Cqt3y0TaffM8MfO+nEk7JoQ3NbFMvxvotME9F/Sai7Z3E+hOeGYg0rMaIhvC8t4jW4veSC+FEeloa0tPSA9wNH9ziybjw0/2SdpSb3patXhf2LhdrRaiMee8Nms0F3AmnkfLSi8JxyJ401TifKqRBonEvaQbHMbzVugNOJV7GhbNHMLnXC+j+yTRjPUlOCY0scSFVhf2RdZzUU6DzN242GPjMGqx59ZrPKULRslUr/Onaa0UG+84778STTz0lhAKtM73x5huiuMlFi4FldY6t9Yfr2i5ysVs+XOOI1fPbnQEr7CUmJqJX/57YeoyEtxFPcv6yW/APLbvRSEPSQ1WQs24DgUsmLTvHgUWLl+DwkSNBIt8KsxVlZu3Cqt3y0TiPoe+ZYmqfj/5czLRSR4Ycf4bQfNE4llifYjOgMxBpWI0RDTrz5SQmQjMKd7kbVxGHClruCO+J/KXLl/OI2ihCZcxA8SJhFgREstxHjiPpnkeQePsDyJlFPxZWJJzbZ01n39P2TME7Pel3woSsg7PwYrN2YgaX7dAsa1GiTlo2nHFwjH4/6FSKxBMtsGi6tS2mhf5IGHz55URRxONG5ZZbbsGBgweDxci9ILeBCp1Hjx7Lt95g5jBc2EUudsuHYQixKn5DM6BwpnBlHTo3fP1698cT39dD19V1cSbtsBAGrl92CqeBBEPibfcj/eMRcO3ZE/SrwLq4QVy9erWIDbJO5VxY6y/v13Zh1W75aJs//YYYW983D2woLtq3b1/Rd4m2fsf6E5uBomYg0rAaIxqKeiNR8NyK8HhdWkHbYf1clGmyTi1O6LP84mB/Agg5Z+FiJN71EBJvvQ9pnbvAm5JirJP4eJIT0AkQU6s++JzJ+O69OhgyZbUs7Fnn9uLnT9qhdddP8lgzCbZRhhc04zd4yGBs2rRZNvjKFcjvnWhaSkoqWI7eat/v0kV6z2c88Wz7dlv89fq/iowtFa+Zbq2T9/oLx7DtIhe75cMxhlgdv50Z0G9fY46ceIkWcTIzs7Bj2x6M3toRHVbWw6TdowRWXDu3I6X5q0h5qYURlWz6Kvxut+F6BnDnofh40W2gWWQG1l/Rgl1YtVu+vM0nucLkOnz33XdBx4H63en3oXF5G1usvxV7BiINqzGioRx8T4qsFImVdpe5KHfv0QMTvpwgLFs9mbG2z2tNt/bHKyJLPrh27kJS5WoiIpD2fpc8TvLMeHy4HL8OnVs1wC3X/QnPN34dbdq8gWcr34vnWg/AkctpcnJorTtarqlMR6dSDNY5ya9/w0eMEE+1dPRGT9ETv/pKytIyE/Ua9uzZgxMnTohJwEGDBgUdEuVXl900u8jFbnm7/Y+V/23NgMKWxuTy0fszHXgJDvH7se/iDnRcWQ/vrqyHHWdXw3P+MtzJSXAfOICkx5+SgwvHihXGslKAOCDBsWDhQvEgTCKkIga7sGq3fHmcUxq+mDRpErp16yYibGrOV78/jsl6XR7HGOtzxZuBSMNqjGgoB98QEVV+G/TS6jqt/XAzy9MXWZxDkCWRqfVE3NqPoC1yP+BYsRZJD1ZG4p0PwLVrR8CiVIDTAD8cyUewccVSrN+0GatWLMfi5UuxcuMvOJPpgV/0M6LrBFDfAdnZ3PRbPY5a54DXOm90OkWxpLS0NJCAoGdoeom+9dZKMse0zHT//feD+g6PPfaYOKhSXw+hddq9t4tc7Ja32/9Y+Yo5AworOjq9J56hX4UFCxaI3hZFSQiDCoe0vkZRzS+2dsQ7K+qh55q6cLrpnd6IaGYvWyWHFiktW0vV9MMg5X1+7Nu3X8RRNmzYEJRl1/avJiamMv2WK97kvS+0Ur84jjN1+IKW9wotUsRDu7Bqt3wR3Yu6x3x3+m1RJJf6a+Q6bN6yWazo6TfJPHoddYOIdeg3OQORhtUY0VAOPjNFUpR7V2s77Lamh2MIrIuLMhdRyuJr0AVa77mI07uxnsJousasxyzaZvFzLFshssVJT1eFe/cO9lr6LQt+gTSBMUdb4GNtLIIxx6U/zsmoUaNEgY5cGaZr0GuNaX6VRAHthNPcL8WU/vuaazB69GjMmDkT/33N7/B///saOeG6eOmSKEr37NlT5pd1aj1av53YLnKxW95O32NlK+YM8Pu2/qyjpE19enimPlF+cCDW2Xw+bD29TDgN5Djsv7hDLCURIn1ZWUh5pRloSYnXJBpoRII6WBkZ6cJpoOMvEvR2A3WzRO9KcIHZgOaOqyjjFMaktmxaqb+Vi06uult2YdVu+avueBkV1O9L3xm7wcOzKT/+KGKlM2fNEuKB6Zq3jLr6G2tWie9cGBLwIJz5c9PCMyna1tXWxj7l4rOrraWk5SINqzGioaRvqAzyK5LasHEjateuI6Y7mRaOUw9rPT//9LOwZUk8aDqv165dg379+6NatWpiCWj8+PEyC9qvgqZE6vADWd9NwtgqXVC7wzx8vSJB/GQYYiTcQF9QT8KfTqKJmxoqMdP+O4O+D45b548xzfp16NAer7VsiWavNBMC4djx47j55n9j6LBhmDF9hrzXhYsWCTFBTgR1HKx1yo3NP7vIxW55m92PFa9gM6BwwmFZrxOTksQvDrmdPPUNfa7TQGdu3Kw7PDkYvvFl4TZM2/uZLNy6ocieP09ElHLmLwqISBpPzYTVvXv3ig8WwqL94Iefu33CvmU8ggeKoAKEwKEhCcEb3hinwf7LCEsN+k3ysO6TkSPR+8M+YnVLK5d3KxxxTYnFYZ8B7nPE2IqxoCiGVwJwZsywh4HCDnTaeI/3gv66CMfELSUJxEfsk4H58BqkKawfkV6XY0RDYW8jSp7xI9RAsRgq0NI8nDVdn5c01joYq7iNtQ4urrSHTvvmJBr+8Y9/oCTiM26XE1998w2mbL2I6h3jULXtbPy8+XzARGLuuKxtlodrnTdyByiCRCKCQdOtMa/5M4SSGR2VMTmXv/76qyTwtLPGc8+JmBJNsZIroXWYEvb/7SIXu+XtjyBWQ0WcAYUPnuzSdn6nTp1kQ28da76w4KNlNbPAbzuzRrgNA9bVBbzG/Co5C94cB5IeehwpjZvDnZ1hTDyLzxeD70j4b9+2zdrUVV6TWxDgkIp3anJcDRFRVIXEgmYfxA2HqaOoMkU9twurdssX1b/y8Fy/S/aV6y0Pz6h3Rtyt36PG5WE85bGPcjDg9cJDWKej28BBgWzoLfui8IzNEArqdLakRIOBYa71PJiI3N4m0rAaIxrC87WVai1W5EVlQCrQUnnWmm6nAzzhpodMBisS1Prj4w/jpUaNhE37Vps2QVOF+rygtqnf8OVXEzDl+ylS76SVCXimwzw07LUMmQ5usiMHWAX18WrTOXYlAsjCpgKdzoc1Zh6917Z4T2XMmjVriq8GnqxyUfrmm29wzz33iLw182o5xuEIdpGL3fLhGEOsjoozA/yuCR+00MbTfiol0zQxuQtWuCkIDkw6TyCNbsOU3YNFKfrQ5Z0COxQXoghT+qAhYkkpfcBH8DqdIkbE00uWJ5dw8eIlAo+cWW33ylm2wiCvrfcCrEYsyu9FVvIRrFiyGImZ1AkjEeCTk8sr61QYN4RCxoVD2LH7QEw8Kb+JinCa9ZvjtQYq4c+eM0cMWtC7eFApXzPE4rDOQHAD73GLE0ePx3AX+U7CvTHnfsXjoSNIQ7yXtH7D+fTC4/GERU+quBMZ6XU5RjQU982UYT5FYNqFbl27Ytq0n/RWFr/gTQkuuEAS8dEBGZ0dabC2x8WcHAZyN2g+lAssRZaKE3gysGzlaiSl0kKJD26PByMWHEfVt+dg0Mx4ON1k4ZlF1SDmXORcnPqjJQ/nhfNDMSMN1s2HXpsxag6IrDaJhMpVKqNevfqYPn26iDLl5tBNRXjmxS5ysVveOq7Y9W9vBvj9ExY08Prb775Fs+bNRdQvFD40X3Fjl9eBbqvrYsC6+sihQrSI/HjhPnLUOHyrdB+yZ8yBVzgAph8k1umzYdvWbYLXSLDkj9+sMOiDKzsJ61Ytx5IVi7Awbg5mzV+By+kOwO/EyuEtcd11D2P3ucwAfvPD53Hg4OYVWL58OeYtXoy5C+ZjwZK1SHeQY0zCJx2zujdAxwHfFXe4heazC6t2yxfauXLyUL9Ha6zXHAK57x999JEcuFm/az5jPmvecjLksHdTvm2BN6ODINw3IbhJ0BvCPVcPgMQ1RZaVyOYcGiLh4v75eL3Z25i19XSAWPCJKJCIEgVE+1iP/ILzH6jLvBAL8W7SDUfA6DjxXe1b9TPeGfw9khwewOcWH1QiphTgHDAPCQrDUTR1KHdBuJrCXfBhzvefY+ziQ0L889BCyhF9BL8JIyIZYC8asclAPubVOTP4K8C5sKKfkLcUaViNEQ0hL6A83NLcZ7t27YJIST7Kq7DqQLEj6irQGhCD+WBzv04unm3atgV1GCguw0CzdJovFFHyOdP4XE8ONa8Uhg8OtweN+6/CM+3mYNT8Y3CS5QgfvD5FFCZnefunwjOVNsm1YdB50PEztga9J4eH+g7kOsTFzQ+WteYN17Vd5GK3fLjGEaun/M6Afve0zEZxJCoi0+Ghptsamd+PIRsaid+GFcdmBhZpH7wul4gn0Ut08gsvw+d2BeGT7VG3gXBLUUH+iBevDHnh15GSgDZ1HsVtNVqie8+uaNfyBXQZ8D183kRM7vIK6nb6ATluOr40OgpedxpWfD0C999yK1p37I4ePbugQ+uG6DLsB7iJ+lxn8MlbjfDzWh7ecENiL9iFVbvl7fW+/JQ+cuSoGMT4YswY8FoDv2ddH8PybWvF5Sz2eYxEATfAcnIvhIIxksINuNdLxX/zvXPPbfL4hHso8xYgIi6tGYlb/n4/Bi8+KZtqOWyUPYshPnw+cgh8EOuNfje8gXKMlasosYeOYt1w+0ismwNLlqGBhE1Th+ChlsNxLtsVgEG+Q+NYltYc2R/Z0Af2ShSNFB0Lr8ccRATezdgPO6D9d7tNfupjUGwx8EyMxMi4DdFBUcrcOTDERJCYkrLmO9I5yu/1RxpWY0RDfm+hHKTxhI5WdorrL0CHZD58PyiLT90ELpBM000uCQUuomPGjBEOBFmxWoYxQ2HIkHlWrFiBTz/7LMjyZxmpIyBGcOBcNup/sBTV2s3BW6M245eETIMIQjbW2ufyElPMgotHvmMPGZvOqY6N865pjEsj2EUudsuXxphidZavGSCxQHOWHTt2COIuHYHd797n9WHewbEiojRwfV1kOdNEWYCLcM68eYbbcOv9cB86Ys46vV6xnMTNHomXOXPnionNojkNRtn5pzFd0GPmYdP9zKOo27ARTl06iq+GDsS32y/JZsGtCz9h2peFjm+3MyeZADyOM3j95Rex5Eg6/Od3YuTAPtiXZESadE6uNrYLq3bLX22/y0s567dKXcAffpiCXr17i7Ulfj+6RnI81rzlZXxh6yc37dyo+91wuVxwuN1wZecgIz0TDqdLdBRysrOQlZ6OzKx04fKZjTgJbsDrciI7x4lLW8figUqPYtTik6Ir5HM7kZWZiYzMbGRkpEk5Nzf4Xg+cOVmgLmV2eoakc3PPdG7QiSNIcLicTjkAzWIfYAiPLdOHomqb0Uh2upDjyEBmVrbRmaKZZ1mSfdJmSkYWHDkuQwhI3V45iMii00mHCxOGdMd7UyjuTb0mwOt2IiMzHZnZGXBI+3642Yas+caEtNuZA4peqc6G1+NEDg8vhLvBU4VcDm3ou4k0rMaIhtA3UE7uiZRo9pO2/SmqRDZ7cQNP9lq1bn2FKAytRDR95RURl6FjNytXgYhPf2ynMERID8gMSohoXsZMIwCfTXGgzaebUbXtLDzXeSEOnKeZ19LZLBd3Xq42n3VeWAdFuL78cqJUp2MOrdtaRq81L+PSCHaRi93ypTGmWJ3RNQP67Vq/aV6ToCbsUxeLvknIieQ9g+a1OxKeJCZmX0SXVfWE2/Dljl4iXyxiCG430j8eIoRDer8B0iZPAMlB3bNnL+IWzBeigd7elYC39od1iOgD8SAf+Jzo0fYtbL+QCbczDXs2zkbLth1xKcuJlIunkOU2hipkkyKnq15c2voN3ug0UDYS5gTTj3U/DsJj7SfifEo2ki9fhvsqOMbWfuq1XVi1W177UVFj/WatMXXT1q9fLybJaSaY9/q8os5DUeOSk/mAbtH6GRNR+5VX8GrjeqjT6C38vCkeE4d2Q63nG6B+/fqoV+dZNH69By5le+BzpWL1pI9R6+lnUKdhI7R9qzFu/ndlfLLyFE7vXYNmdevh+br10bDhC6j7fDU0a98PaU4vPKdX470XX0SjZi+iYYtuWHck2VhfEo6BF15HEhZM6I56tWqhXoP6qFm7IboO+wnnstzYMvMTPFClKd7v3g4vvNgAzzzyEIZNWiIb9sObpqLjqy+hdp16aNigFio/UAVtBn2N+GQHzuzfiBdrVkP15+rhhZeaoE6tmnh/2h4hRi7sX4o3mtZH7YYNUa/mU6j10lsYE7cNu1Z8j6dbDMDRNHI1fRj4dmM0GTgfmS4PfM4LmNS5AcbM3RQgGlwBJfD89wWRhtUY0VDUVx+FzxURMaYCLhWjx40bl6enfMZg3bhrOdqcpvy85qFfBlqGeOGFF9Cnb988bFZrpZqfaXqtdTLtVMKpICFiTdc6mCYUe6Bvhy7koPngdXi6zSz0FnZegAUYUEQqT0SEzoeOdeTIkbIx0rkKfa75NM5vvvRZuGK7yMVu+XCNI1ZP9M6Afsf6vfMwg96XKftdkoONqxkhN+Lc3C8+PFksKdFL9NYz6wKmUH3wZaUi5ZXmSHrwP/BlkLtJM6k8ffTi5OlToldBs9b5Ew3MS/wUOAG99CuqP3ovXmv+Opo3eQM9hozHoYsBzobXbQgM6yD8bszs3gBDv1osqXKa6vdj+/zP8Y9q7yM+ySHpIkJhLXeV13Zh1W75q+x2uSmm37fG1o7zO6eu4AcffICvvv5anKTqc12P9b68xNZxWsdgTdexMC2YbpHpX/PDIPzt6TbYdzkg/ufNxsZ160Wmn2V9znN4ufazWH4mG6fXfYrbr/s33pm8FT5PJr7tVB1/+MfdGL0yAWeO7sDyvWe0OXhSDqNe9ZrYdtkF/5n1ePWJv2PETxsCz41OgfYn7fhSPHXddaj1/mRkOF1ITtiKpctW4WK2E9tnj8D1d9TF/PgkKXtp+yRUfaUT/D4P4rfOw/xVu0SUEJ5MxPVrgj/e+Cim/pKIsd3exEtDFyDLw4OFbLRu+CS6zoiHL/sU+j5TCR+MNyLL8Gdhyacd8Oe/PYi1v+zAk3dWwVebzsPvPodXalbBv59sgnXncpAdvwC1/n0XVh24KJwO4gTOeUEh0rAaIxoKehNRnm4FzF27dokiLU1/UrTI6pzNOgx+ePxRlpiB4knjJ4wXy0hPPf206C7ox6n1K7BZ67Fe63OeHFIZmCx+1qHp1rxXXvvw65ksvNBnuZhj3ZaQZbgNAiT25XqvbK/0UnS8GlM2mnonVvGx4s9L6fTTLnKxW750RhWrNZpmQL9/fuvcPNFKGDkLZ86eLfVuUi6Z7Wc6U9B/XR3hNgze0NSIJhCn0Ev9siXCbcieMStw4k+ZY4OveDJMgxCqv2XtMOsVuWmKW/iBS5snoW2PEbhw7jx+XfIdXnm6MuI2GFOcZg7yngr60n7FG0/di6+X7jeEB620+IFF43vh0Q4TkEzlSzq+DJNul11YtVveOne/1euE0wnizJNrrHVN1nVAY4WZaJ4n7SNj/RXUXx0X41zlX2DV9x+jSqevkeYK6DH6geRzx7B+3UrMGj0AVe+6HTfc8ii2ns7Cju/b4i931cPKE5mi83Bp49e4699VMHzFCcos4cDOzVi7dhmmDH8PT955E/5+9+PYdYlEw2q0ePIfmL4twdgxDumkN/skxrz5JP587V9wx0PVMXHOBhw8eB5urx+bpg/DE69/gvPZxtCLJ2kN6r7W3RA1fjfO7N2GZXN+RP1H78VNf/szfnf7E5i6Pw392zfDxA3nzN4FwIRBndHp50NIP7sF9f59FxZup/K22fRnn9qABjfeigUbd6Htk5Xwxnc74UzYjA5vtcBjVarhs03nsW9Od/zz3ro4kOgQXU85qCBeKCBEGlZjREMBLyKakxVorTEt+ND0J+1IU7aSTscoW0+EpT9u6unngad+dFTTt29f4TjQCgQ9GwuQB7gI1roLmwvm48ncggULwFM6bhSKW1YUhHxenE12oOnANXjuvfkYt+g4krMp308gy7vwFtaPsn5mHbNe03s3Fc2pF0I/DtyMUKZbkWqk+2wXudgtH+nxxtqL/Azw2+e3PmXKFMEH1h7wWWkGGlMgTuFGZdaBL0W3gdyGY0n7cOjyHtmkuxw5SHqwMpIbNoQ3M80QDpaNusLmlX3lZskQJfC7sejT1zF48gozHL8Ts7rXRKdRU83GX63CWAZ7cfUoPHLHXVh/PAXgoYpsAvwY/m4LDF0SL/0QMSpSEoENhqV4iS/twqrd8iXucAUtwO+JVvX6DxgAir5ZuW1XfmPRPQnsr/7YU46NB4+0PjZ16jQMHjIYK1eulHQ+408I4QDck2h4otOXSCXRwPXdnYWOTZ7An/78FzzTtB169/4A/3nySaw/l4ONX7fCDQ82xsYEenIHUrePxwO3PIZRy0/hwOrvceMf/4g/3VAJdVp3Rd8+3fHIk08boiFhFV576h+YtuXkFdw+cb4IHzwpB/HzF/3Q8OlH8d/X/A7X31Ebk3ZexpYZo1Ct9XBczAkQDZc34MXXegunYee03nj479ei0v2Po2vvPnizYWX86c5n8NOvyfiwYxN8vzNRXh6tKH05tAu6TTsAx+mNqHvTPVi0+yzcYvAFcJ7Zjldu+gdmb4/Ht+/VRJX2X2HrorEYOeFbfPzy02gzeg6+6d4Y1Vp/hkyn0XM0hJchOvL7QiINqzGiIb+3EOVpBEYF3oIQD+1Hc9O6ectm0LcDxZjIKqW+Ac0KqjMyDlXr0DpD0wqbDnptJcFhDdb+WdOvvOYi7xFq+tD5bNTotECcv705chOyncXX0biy3sinhM6dQZiQEyYiUyqHU86V+if6LNK9tItc7JaP9Hhj7ZXNDJDzyYOJwrw5l0bP1JIJZYSTcy7jw7V1hXAYu+19zDkw1ihC+oGUlq2Nl+g5c6UbQmiI6edcokZxYm4/LSIXjqPoXudxzFgXb441/Fn4sWs1vP85iQZjrSX0wGPjuM6odGcDnEylnwjTjuP0JjR7qTmOZxDXkdghF4NmIwveIOT2p/Aru7Bqt3zhvavYT3UtUDzPmMr/PMwbO3asiPFyBvQb0ziaZyW0j/v270f3Hj3w7LPPokGDhmjR4lXQFDz3Gjp+IbIDXDyObdWkQXi680SkuszannN6ExrXboYN23YJ98HvTsIrNatjzbkcHJ4/FP+8/hF8tilBYGPr123x57/fi3GrzuDLD95Gy37fYPveI8jx+ODPOoE61WtiB8WTElYKp+GnzSeuJBr8frhd6Th99qyUS088h3WLRuPxm/6JFwYuw+YZI1Dt9eG4HCAanInr0bBVN7gzj6F9lbvwYOMPse/UeTGrPLd7ffzpX1UwfU8yRnRqhfenh0OdTgAAIABJREFU7gq+vr5vN0LXnw7Cm3oAb973T0yYbxy4Al4cXDEKt95wF9bHJ+LovOF4/MGaaNG0Or5bvAXzBjbGg7WeR7XK1dHrR/qaCehRidPIgnFCpGE1RjQEX3XFuMgF2NwFkN6GNT1co2R9ZLnyJJ0K0wxMK2lgCVPKj5lbL6DGe/OFcJhGdp+fZtR48hbwrlrSysswP+dCFw2Kgw0bPlyc49Esq5Vgi2QX7SIXu+UjOdZYW6UzA/pdK6wz5qEBT1OpJ0VOGjlq+ekFlE6PcmtVqyupjkSsOj4Ln215W4iGDivrYfaBL4J4xLFmNRIr3Y+U196EJyU1IDpQOO4SrqjXiZP7t+CLfi1w6023YeQ30/Dz5LHo+nYTNHvtXew5kwqvz1hwIexTJCH9/D4s+mE4nr/zJtzXqBumz5uLqT9+h+H9+2HAwFHYtv9EUHQhdyT2r+zCqt3y9kdQvmsgXFhhhddcB0hQ8+Do559+FqMAypnnaJknGoK1H7zWH8WtKM1A4oDrPi2O8RCS8M+x6Xqn5SUOiPNxlV85aRCeevcrUVjmvTP9KFrWr4E32rZBm7dao87zz+O2ux/Fj3uT4M0+hykD30KVys/htTffwFuNauGGGx/Cp6tOY8W3Q1HlmQZ4vV07vPVmMzxfowYqPfA4VpzIhD9hFVo8/g/8tPn4FfNJgtyReACfvtMIz9dtjNZt2qBNi5fQ4IU2mL71FDbPHIknW5LT4BGCw5G4Dg1bdoPHmYTJXZvgoUeekDIN69bDUw/diz/+8z8YvvQEDm6ei6pPVEPTFq3Rpl0bVHviKXSZtk/2L/tXfosX6tdC6zfb4I1XG+Hxp6rjjY8nI9PphTd9H7rWeBB/+PtdWHskEec2T0aVv/4eNz/aBlsv5QTm3ZiF1TnN7/uINKzGiIb83kIFSSMQ04rP6NGjw7aI8+NV5EBLERRLYmB6YR92caaUBMLXS0+gevt5aNhnOdIDFL+w7QtRBCpO3ZHOwznSuaJc9/fff4//+Z/f49HHHg3qOUS6T3aRi93ykR5vrL3wz4B+11ozNz10jEZdJh4iKA7QWPNFJKZOg88Hj8+P48nx+HRzS1GI7riyHmbu/0K6IJt/twvOX/bAm5UJr9iPz7WjXlA/RVzS58X5k7uxdesO7N17EFs2rcfaTVuw70wKXAFHcuL4iWejgXqzkhKwfcc2/LL/EHZv24zNGzZi/eZtOJ6UI02xXiOKWVDLV5duF1btlr+6XlfMUlZY0LWTum4UWRox4pN8jYdoGcZ6HanZYXvsp/7Y7pKlS/HwIw+LSLPq6TFdx1Ng3/xekSQgPKReOoW9p87DK2ujV5SKky5Qp2GDiDLuOXkZZxMScDaVIknmZD3j3CFs3bYbWZmp2LNrN06n5sDnduDwr6uxYcN6rFu3AQfOp+LMiaO4kOGE35mB+H2bkJhFR4t59QBkHyGnlE6cOrEP6zZsxJbdx5DlNiZXM5ISsO/4OTjIvSCx40rDwSNHTF98TpyO3yHWsXYeOQm3MxMHdu3EoYvGb5Uz6Ri2blyDzbuO4OyZEziRSFxo9J8SL53Ahg0bBVecTaWVSOIHw5FMPrEfv+zeKz5dPM5MHN+7E7tPJouORXFJyEjDaoxoKPBrL98PCPjc0NPbM083FPnYRUBansiCJwz082BFLvZmzQeX24vPFhwX528DfjqIHCflHwPeGe1VHtHSOk+cH/rUuOfee/H//Nd/4U/XXhsktCLaIQB2kYvd8pEeb6y90pkBwjtPHWkhbNnyZVfIafPbZx6FgdLpxZW1cvOtzpxok93tdSLu0LeiEP3jns+CBaj74BUGplf0C4SQKOKUV4iAgI33YEWWCz/twIsYQeCEWYw50D696mPm3cCInLI6dnIXLHpgaaJEl3Zh1W75EnW2gmdWOGCsPw5ZjQS836ULNmxQaz9mMrRMWUyNwq72gWKGjRo3FhEra3/0uTUt9NqM1+ga6SaYsEQRPDVAYC1j6jRW0IxPBX2aK67MzbjWZZ4StszPIzDKU0zjuVlLMxapQJ8XHl9uXVqeHELTNvcbdLjmFYdvrFcIe2tFcp3bA+a1BlOPETUUvJEHtwQc0InVNoOHWJZcUipjB0NAHyR4X8hFpGE1RjQU8jLK6yN+tBQTOHnypDhx473+7I6JCIRWmkiIMLDeUCRztW0Yk4l+uD0efDT1gBAOrw5dj81H04yCY7DigK304H30Xei8cG4oqkHPz3T8Rj8Yn4/+vOgTmlIYkl3kYrd8KQwpVmUpzwCXMctSJq3R6AINKoz+4gvhmvFb16DXGmt6JGLZi1CJ2O8XMSHG/E3c2Red13SGWzw0c4HmJsYoHMuJX8DqUmF95HhonYmcCcY8CSVsG9ynGwHqZ/GAw7Qrz0V52myavF5jgUnq4ikkTcSKVae8m47C+lHcZ3Zh1W754vbzt5KP3wKDefd5uQe0LDZ02DDExc2/wiFqWcyP+aYNTO/evVt0Fr6fNClPV6zjyfMg5EYIchLT3JRTv4GGUijCF4A/D79/EekjLFG0j7HCkwskAugcjg7avF6ngZfAhtvFjX3ADDI33MZrsg/03pzfQYA8D3A5BO4CbYlRAsEBhjPg9Shc++Fl+4E2aKDAjMct/SKxwGfy4zXL+Tzia0X6wzEGxivvXWAdYL9l/pQLQ1xAwwgcY2Ce5B2EzGVBt5GG1RjRUNCbKEfpoYhIFZ/DMQTWLR9wYGOwaPESUXZi3fLhh6MRrYMLc0BxyuF0471x20W/4dn35mPfmSxzEiAiCO6AKbLczYpWEa0x51GDVY5V0yIR20UudstHYoyxNuzNgBWXGNg3FoMupiRh5fJliPvsc/y6chW2bd+JnBzDareWsde6vdJBPGU5JKF1l+ETp+ORDnFo+9kWnEt1ySIvBIW95qK6tF1YtVs+qicnwp2zwof12toNHvLRUMY333wjRkvoaJV5GaxlNM1a1u611m9ti3qQQ4YOxauvvYaFixYFrSJa8xSrLySaucmXjTGJZhJMxvyxcAyEsDc4hjoHkiZEudlIm74FTvsDBLikBbh6LGMIBOYx9fC5bMIta67pd6AdER0MtCX9ChADvBZ6n3+mPlO3IfKEayD913GYw0u2m9sHk1e4E2xfDygsOCn4LDBeHstIf4OcSs5PKDel4LccaViNEQ0Fv4ty80SAJHCSQXlDenum1+dwbOoN0BpAUAVHA4CGmAjnJBFFEgANS9CP82kutB5lvEZ3+5Ju2Y2FETnJK8bpYDj7VhHqsotc7JavCHNY0ceg8B7EHT43HFu2YN9ztbH9lnuRePN9mN/yVcyftxBr165CUkpKcHNT1nPDvjPQMMO+ffuR48jGxcRLOHb+ouhI0fv8R3S6JCZWQ8SFyrrzYW7fLqzaLR/m4VT46hTuONCk5BQR/aPCNDfvGqx5NC0cscKNxlznm73SDO+0bx90TKdta55wtBurIzwzEGlYjREN4XlvZV6LAjMdFNFfggK53Y5pvZS5HDVqlFj+0br1md02tLxwLEl9i3wh2bl+HE9y4uX+q/BMxzisP5wqhINYKKHMYshJgtYTzXFpzV1xxmwXudgtX5w+xvKU7Qzo98leJKenI27kcFys/rw4REusdB8Sb7sfo5o0x8YdOzFzzlyx0a7OIsOND65mJshZoCfewUOGIinVeHblQcTEJSdQ9e05qNtjCTJoYCEMvhCupn+RKmMXVu2Wj9Q4K0o7CndKrJNYGDduHN59910sXWr0hkoLvrRtrZ9iUo1fflmIF86vpmtcUea8oowj0rAaIxrK6ZejAMyYPzpoo5MVDZqu+TS9JLGWJdt0+IgRcnpnrVefl6TOwvKqaJJhYfrho9dUnw8X051oOWQdnn03DsNnH5b7XCWqgNiPEBCB68IaKaNnOlc6f2XRDbvIxW75shhzrM3CZ0C/y9BcpxIS0Pndjug9aCgujBwmHAZyGRLvehDHN21CTkYa1qxaKd6eaXaRoaC6Quu2c18Y/NCUMfHgDz9MEUtOImoQOIA4dTkHdXsuBbkNW44ETFBrn6Mcd1zNfNmFVbvlr6bPv+UyCjtBETtA/Dl06NAeDzzwgIgKhfpDCvd8aR+omH0q4VSe6pWY0Tx5HsZuynQGIg2rMaKhTF/31TVOwCUQK4JhTD8AVLi1G1i3FTHQwoMGa7qmlWZMhSaxdODx4thlB2p3WSSLfvOP1+LYBZo0M5YOKK6US0SUZo/Kd912kYvd8uV79ipG763wrfhD0zIzMrB8xXJcTrwkYgnnEhKQtWAhku59FMm1X0BKo1eQ0uoNnDlxUpSjc5xOHIqPF5lnikPSUpjiCI3DOWusU/Ge1ss26R/ik5Ej8euvvwZxYn7tz9x2Ec++Ox/dJ/5ilDFFYVqVKSuWuJJdWLVbXt9PLC7eDFi/V17TOSsP6mhAg3qE1Z55Bj179RLDJlqjtUxhafqsoJj1EK4YCMe9P+wTzMpnob/gw9hFVMxApGE1RjRExWsveScUyFmSQE22fLiC1s06aS5UgyIPvS/tmGJIHp9bxJD8Pjfm7LiE5zrTa/QstP3EeI1WxSqxOlDaHSrn9dtFLnbLl/PpqxDdVxhmrEHTKEM9d/58SfZmpyGtSw8RS0qu8bxYNnHv3gf3rzsx7JNRApNanhuNWbNnC6eT4pEM1vo1XzhirZdy17Q6Q/nvtWvXBA9MiLs0T972jPLiqDmHxYHk2VQXeyl2GOXw4QobUXlLl7c7u7Bqt3x5m6+y7q/CIOMLFy9hxsyZEmv6sePHxaN0z5498elnn4nfBPpF0cB8BX/7miv/mGUZyKV7uUmTKyQK8i8VS42WGYg0rMaIhmh58yXohyISWlxYvnwFaAZVAV/jElSXJ6sSDBcvXRIPxhRN0vbs1p2noWLcUFxJ7DnTAZJYFvBixqZzclpI+eRpG88Z04d+t9hbL486DsWYhrBlsYtc7JYP20BiFV31DCgMK5wfjI+XTTfvKf4gpgjT0pHWzRAM1GNwLFho/A14CGcefP75F8ZxEeV/APEGSzwxc9asPITDVXeyiIJHjhzFoEGD0L1HDxFDYnYdV0G4Sg0sHLqYA1pj+3r5SWN0Qb3Ox4iGPLMeg/U801HqN/r9bt+2TUSRSHzrt6yNU2SoW7dumPDlBCEcyHmgvxRr0HqsacW55gFhzZo1RbRP69C4OOVjecpuBiINqzGioezedYlbViTCmLbS6VFy6tRpQbEAfV7iii0FaA6UdVMs6cSJE8HTi7JAIMaeuppRo7MWI5K15Vg6mg9ZL1yHlbsTpY95xJNCRKwsw/tNX9pFLnbL/6YnP0oGb4Vjnmj26N4dK1evMXbTaWbA7URaj15BHYb0fn3hc7qMycQAc2L3r7sD9slzuRXJqaliMpIcB578kxNQWLD2w5ovv3RrGokbelcfNHBg0EcEn2sevdZ7rVuMLNAOuseLxn1X4sW+K8WDLECb8cYqm+atCLFdWLVbviLMYaTGoN/sunXr5Lvmumv9fvnN6z0NklA5etKkSRgzZgxat24tewDVd9B8Je07/TC81KiRWGvS/pS0jlj+spmBSMNqjGgom/dcolYVaViBmRZLuLm3G7ROxlQkJOuTru3DoR9ht2+h5cUesriX9yHN4cLLA1aj2jtzMSLuGJzi+l3tJxuHLFe6pQqt8bd1bxe52C3/25rt6BitFb55zcBTTOIPEg27d9KUsT/ojTQnboEhGCrdh/TefeB15NVT0Dryq5eEA40xzJ4zR2SjdQYUf/E+tLzm0Wd8zvwa9JqHGEuWLhUxTHJYebhR0kBRRppt7vfjfjzdbg6+X8lTWuIKpucSQCWtNxrz24VVu+WjcU6iuU8kFOjgTRWQrfDFfivc8JpiRHSuSBGm7777TkyjUnmZRIfCi45Vy4XWZ31OvaD69Rtg/ITxmiyxls2TGLuJuhmINKzGiIao+wSu7FAo8BI5UMYxHIF166K+Z88edO7cSWSFWXdou+Fo76rr4IYn4FjF9MuHuB2XUPXt2XimwzxM5AZAxJjcsvwb0aaKtRG46rkLFLSLXOyWt9v/WPmSzwBhxQrHP//0s5zUq/gDN8w8afe6nMiZN88oPT/3PBwLl8LndktZqUM8lhplYYohaZ1av8YkRqzK0bzXZ1qmsFFY8/IQg7iJxA03NHPmzhVix5qnsLryPiPHkk6c/NhxMgPVOsxDrfcXYvOJDEk3eg15S5TnO7uward8eZ67SPRdv2F+3/Qpwm+b/kU0vag+UCR5/PjxmDx5MhYvXoIpU6aI4jQP/SjilJ3jkCqUiNB6NeZD5qEzuSk//ijrPnUkFF6Laj/2PHpmINKwGiMaoufdF9gTAjoDYxIMLVu1khM3KwIosHARD6x10GKDykgyXRFOEVVE5rFYOnEHdBv88PqBHKcbb3++BU+3mSXKjXsu5MDvNu7qpVOBeYtMB6O/FbvIxW756J+hitlDWmDZvXu3nM6rsyiFe26ivdnZSHu/a67Ss8NpPJKSCKdnUhHf8YPeVxnor8UatC6m8ZqBytHkOJDzQGVl4hKryJLms9aj18zLTRE5nlR2tgZtq7Dy1vy51z4j3ujzw+PxoO+PB8SgwmvD1sPpJteiYh0w2IVVu+Vz5z12ld8M8PslN58E+BdjxsgGnt89f0V92/qcsEwRZcLJgoULhXigeGDHdzsK94GenNmG1sly+mOfeN23b1/c8Ncb8Oabb4kOIw8Otf78+h1Li74ZiDSsxoiG6PsGruiRAjERAE8SiAyswH9FgRImsK7NWzaLHgOLKpLRuITVlU52IRp8ECtJgliNkvTpVCfajNwkG4AuEwNeo8VbdNHIt3Q6Gr212kUudstH78yU354RdgmnDIonNOYmnaeR9BBPgwkayFnweD0sAJ/TibQPegdFkrKXLDGcuoA5YzEuECAElGjYuGmTVnVFrG3zxJIHHGpViaJL9Favz62xFc8wnfe05MTTU4ohMU1/VzRY7AS/jFfr2XUqE892WoBn2s/F/jOZQcKI49U8xa46CjPahVW75aNwSqKqS+Si8YSfHDQxQKAwVkyiQb9RKjB/9NFHItpEjgP3BoxZb9u324K6Chq0DGMN9Gny//3X/8GNN94ouhHsVyyUrxmINKzGiIYo/D6swM1rEguUY6Qsr54c2Om2tX4u5iNHjsTYsWNFoTq0XiuCCX0W0XsiOhW1CCA9EUHy+ZCa48GnC0+gesc49Jl6ADSnKPoPIlLhNRaWvFR2zEWWEe17lDRmF7nYLR8l01DhukEYtW68OUDKKVPcgJuG+PjDMmaTj5twKv/6hTjInr8w6O05rSeVnsllIFeBpwdX+i4IJVBCJ9OKL6hzpVaVNm3aLGITxF8atN9aJ4kKHl4wnaIaVoIhdHxax9XGDrcXnSbsFC7l5HXkZhiDC+Fu52r7Z7ecXVi1W95u/ytaeX7T+uPYqNBMfQQS11cTWJcGihpSH4JcAxIN5DpQ/2fuvLlibYnrO3UmGLQPCnMk7P907bWgF+hYKJ8zEGlYjRENUfidKELQmHLIn4/+XAgGu91VpKF1c2GnKAGDptltI1LlZSzc2MhJqxdDph+STcBLH63GnoTMgGgFkbVHCIdI9Sta27GLXOyWj9Z5Kc/9IgzoBoDX9M5M8aGJX30lhwwCI5YNi+RlGacTOTNnIOmeh5H8bG04lq0QXwzkQhg9B785fc9ncrgpYb35BU1nzLa4odmwcaNsYOikivoJ1j7xZJP3PDGlfDUVQa3Prdf5tXfVaZyr89lo2Gc5mn60Gg4XiSnqPJiY7ZbnYBdW7ZYvz3MX7r5bv2ES8+vXrxeHbSSg9ZmdNlkHiQ+KAlISYcGCBYZ4WLBAiIFx48YJN4JiTCTeCZf6fRPeVEeJaYpL7PQnVjayMxBpWI0RDZF9v8VuTYGaBagkpfLA1vRiVxaSUevYsX17EHkwTdNDskftrVnkDQLkRudUogPPd1uMqm1no8lHq5Gc45KNkCz/5XwTEI6XYBe52C0fjjHE6sh/Brj407cKdQHIPWRQmGZMYkDvPdkZSOvazegwPFsTvqwcY1LVF/CHQiK8EHih9+XCcEWwHbdbdBKIZygyQR0HnrCq5SMSOLQ7f/ToseCgpK+BTY21jXBvZqRuvwfLDqWieod52ByfIn0wppsDehzBXpW/C7uward8+Zux0uuxfseES27qyQHQ75nP9PnV9sBaB+GL/hsIa4Q5EhD8qegSn/Xr31+MFWgf2C7rsN5fbV9i5SI/A5GG1RjREPl3XGSLikR4EqE/LaTP9L6ksSIGWjjhyQOD1qlxSessq/xi8UT0F3RT5MXcbRdEKZpeo3PFDiqeHfarmXO7yMVu+avpc6xM3s2/wqjGPEzgocIbb74BKjFeEbgpoX8CIQj88FKH4f1cPww5K5ZLEdbno9JzIcSC1m3Vj9C0wmISCdwwbd/xCzZv2Qqfx1h2GT36c6xZsRJOZ7ZwAovTdmHtlPiZ3w+H0416PZag85c7A9wGn8wD/FeKZpW4/jIsYBdW7ZYvw6FHZdNKMBBWuQYLvAV0kXRNttNxrY/7Beoz9OrdW7gM5ApS9EiIh4ULRXSp94d9RM+J+cj5Y9A+RRwG7Qw6VlZmINKwGiMaouDDI6BafwRgsvR5IrB3715bPVTZfr/XB68gKx/cbjeWrVyEcxfOlXObIUbPwUyQEg4+MalI5ejnOi3A7K0X4KJFJRE98Aly9FIEI4CwbU1uOStsF7nYLV/Opitququ4QRd27Rg347RMRA+xVE7O75sm/MNvxCCop5AzZ3ZQhyF9wLBcs6qslARDMYgG3VhorP3JL7bmYf/27d+LuOXr8PXqM/jlWFKwiIhERXSjTm4CFch9eG/8DvEyv3Jfstz7vMQXMfGk4MuJXZRoBvjt6I8F6WOE3LmlS5cFN+clqrCEmSnyR10mcvHmxcXlJR4WLpR+UAGavh46dGifZ4+h/dbvX+MSdiGWPYIzEOl1OUY0RPDlFtQUAVM3BLymfCLle6kYaDsEThp9fi8cDifiZs7BhSQujgjoAthuIWoq4CbA5zUy2R6PF80/Xouq7eZg4LxjRh9ETly5gTL22qOm4xHqiF3kYrd8hIZZ4ZoJxQ9UaiR+WLlypYxVF3aNrRMgBDJ9MTidcMydbXQYnquDnCVLAatlIjEaUDSngW2sWrUqz6bI2l7oNfPzR1lublQmTpiIruO24vE3Z6Ll0PVISMoJ+Elgvsid7rNPqr9BYqHa23PwwocrcOwS+8NnMaIh9F3G7os/A7qeswR1eZQ7p/DAuDQDOQ5UtKY5V7Yf5DRQXClgnpXK0jSAQg/TNLRiPXTQfpZmH2N1h2cGIr0ux4iG8Ly3sNRCQOXpIa0kKQDbRy7Gp4E3JQuL4+Zj8MBBcDmy5USR8rsVKXATABINfi+8fj+W70sSz6905DR6/lG4vbQaY6wpGfMwFWn0RY/FLnKxW77oHsZyFDQDFEMi15F4gSIF589fuCJrXlxhNiX892RlIrXDu0aH4fk68DuNwzVR+iXMcAND7lsxN8vDR4yQtvO2d0V3xMM8HU0NGjQI9AHDE3yGiV98jqadh6BWl4Vo0GsZNhyiPkFA58LULBv3K2sMXwrHysMD/qgE/erQ9ajaZhb6/7AXbo+zWByX8PUm/DXZhVW75cM/ovJVI2GD3zytGVHxmff6sxIU4R4V29D6GVM0afTo0WL6mH0RUSUVWVq4UAgKGlr5ePDHoiz9/fffB32jaF3h7mOsvvDOQKRhNUY0hPf9XVVtBE4NBGqe5DEoktFnhcW5NZhc1jrd+3cjpXFL1KnSAl0n7cXZTC7e5kQ+b52hteR9Gu133AAY8QqKH/ng9PjQ54d9qPr2HDzTMQ7jVp6WjYvH6xZHTyUZj3U+TTmdq8BiEFKZPjVOo3LvQrJF9NYucrFbPqKDLUeNWeFcrzXmMHhqSBEk/rgRKCywHDfnQhzTcVtWBtK69TYiSbfeh+ylS6U4T9KZtzjiSKHtUclSylpwlPVe83OTQl0LchjEtKQQ9H4smD0fKxbOxOCZ8WLtrF7PZdh6JDXXTLLfDU9AcVvrKp1Y4dKHOdsuis+Gmp0WYO/pTPEuz7nJb1yl05fw1moXVu2WD+9oyl9t1C8aMnQotm3dJp1XuNW4NEekbfDb5Y+cBYoq0e9JkHAIWFZSfQdyI8h5+Pa7b9GxYwfhjMR8NpTmWwpf3ZGG1RjREL53V6yaCMQEagVojVmYegw0j0ZnL9Y8hVdsFB1lo+Cl90dDDHizspH14zSkNGqGxNvuF7GE56q/i+c6L0DNzgvR7atdiD+XFRTVEesqFZDzwFPEKWvPoHaXRaj2zlz8sOa0mFU0myqebgZOOC2EW37zbU4lc/PrpozpTqcDOQ4XnB5zcsl3kJVyARu37UGKgxaczPvOr95IptlFLnbLR3Ks5aktKw7QfjNNA/UW6AiKHMiiAkX0/DQb6vPB63QgrVOPXB2GPgPh87iNSVXSC4R3SztF1a3PyQ3VjYl+29Yx0IwzPTmTG6KKlnzOvB6fGzkuN7xuJ04nO1C/5zJxzNjgg6U4k+QQTqGMXYia0hVXss5xcrYbrw5ZJ33pO3mv8WMRmBvCszWvzkM0x3Zh1W75aJ6b0uqbwgS/eRIM9MTOUNbfDtvnQeQHH3yAGTNnBi0qUWRJiQYVX6LexaRJk9CyVSvhPljNsec3jvzSSmt+Y/XmPwORhtUY0ZD/eyjVVAKaAhvj7ByHmEvURq3PNK2w2EuZ5cCP+fxZGUhp+brx8nrbfUjr0hOu02cxb8E8bEzIwmvDN4qsf60ui7B4XzK8dHwmnIdcx0uFtVdenpEgoJgSxxZ/IRtNh6wT84qrDgTEIXzkOBhCgCJNhQfWY05m/QHHWP6cZOxdOwvvtGmBZq074KufV2P3jgWI23YBiyb0we3Pf4ij6dzoRcemwy49y40ZAAAgAElEQVRysVu+8Pn97T4NhXfe07kZxQooa8x73ZAUNUv8joWLACB71owgwZAxZAi8TpcxrUppJBtEg3qw1X4p4cCYtuJ5UkkzqxqYHszj8yA17RLS0jOE27fpeDoa9lslokEDptFfjBEvFFHDCOo4AF78uOk8qrWbI4cq55IdMu/6bq6GuNLxl0VsF1btli+LMZdlm/y+GRhPnToNu3fvDnYn+A0FUyJ3YW2bYlK0mEiOghIMeYiGgHlWch1oFrZP377CKRwzZozsUdhr1mf9RW4ksZYKmoFIw2qMaCjoTZRyugIemyH7ngDNoIurArs1X75d4oYiQDC4fV649+1DSqu3hWBIeqI6cmbOFjOLLOtycQPrx4VUF4bHHRN2fI335uOTeUdxPt1tWPL5NlI+E2XugqepPuw+lSHmWHm6+cupTBmUKE/7uVEpaoyBDLLb8iL95G6Mbd0E9Vp1wsadu3H42H5MHdYRt95yDz7dlICZY/qj14974eUGjdZYiqo+As/tIhe75SMwxHLVhMK2wjrFAWiakThg2fJlWLt2TZ7FWnFDfoOUOgK4wOtyIWfePCTe/RCSa9WBY+FS+NzGwaHhROTldOZXnzVN+6dp3ERY006ePCny2zz8oIdZ+l8gN4J58vwC+hPjxn2F8ePGBZ8lJDkwePohsWA06OdDOJ1MnYuA+KSljnBu3LVfHJO59iHb6UH3b37F02/PxrdrzgT7p9xIHX95iO3Cqt3y5WGOwtVH/ZaOHT8ua3kowcDnZRmINxjYD/pxoPfoadN+CipI50c4UKSJxAMdvxHeqfNAXw/kHioe0nGX5dhibQORhtUY0VAGX50V2MjKHDRwoCgNalcUyWis6cGYC6ls/wUTiA12n8uJrHHjkPRgZSEYkp+rA/ex47IZNhtXHzLkdE+5Ck6Mijsm8v5cJOkVNf5SjjRh+mfyyUItSC8g/1zGCDA4B8W4MCJXKo7B8Xjx0bSDqPrWTDTqvwr7z9JrNE9mDbehsCq5ceBckMvgyjqHd597CE82/Qj7kugYyywKrkub0LP1x9h+PAU/f/cVdl5yyGmqN0pMONpFLnbLFza/v6VnuuhaY4oB0LY6nT9Rh6G4QfCAfF+Gw+DJzEBqu/YGBzxfX7gLrEsUfwMbh+LWrflC8RBPUjWQo0DT0PkpZmsejXXzQsVL/ghPbgFLg2s+nnVYdBwa9FyKTfEpxpoSxa2Ue1KKuIc+KsjlOJ/mFNzwcv9V8HpdhnCIiH6FzlJ4Yruward8eEZRPmrhd82N98iRI/OI42nvQ+FH0yMVh7ZPor5nz55iWYniSCqaJHGA20CiIXgfICBo0KBlq9dBQwg83IiF6JiBSMNqjGgog/duBeKsrGzQm6sG6zNNC42N3oLx3srFjoffmWPHG1GEm+9D0pPV4T64T9LlBD1wWkfbzQzc+MLvQbbTjc8WHhc9BzpDowWRUylOWTwps0/ZaNV1YCzWT4oU4wntbfTcc/Nx7LIDNbsuEtnlFoPXIS3HJbLdRZ4m0rIV58Dnx94l3+FfD9TG4hOGW6GcBJcjAXN/Xo9Ll9JxYPdO5Li5kaNoRnTYfbeLXOyWj54voWx7osSC9oKWkSiKNHny5Dxiivq8sJj4QkSS+H3ScVu3nkGRpJxFy83hQgD+pZ4SbrxZv/60HxSdio8/LMQNzUIrwVAU7tJ6iPOon8F7r+AYr5h/po5DvQ+WGuXoHktEx0GIIiHWjdiS9iH8ccCfhc+Lr1edRvWOcTh6LkuOZqgfEk4uR/j7fmWNdmHVbvkre1QxUwjLM6bPkNP48rSRptlmEvs8pCBHQbkNGgcJhgARwXSajZ0+fTq69+ghnAfreBW2+ZaLwgMV80sou1FFGlZjREMZvGtuEsjqI+tPNxAKdBoX1i1uRLmB9V64gOypM5DS6BUk3vEgUlq+iZy4OfCkpBpFSG5YA6dkbIdsRgZzckeigM89OJnkwDcrTqF29yWo+f5CYdGvPZgs7Hqj8MvNcvRsfgubm4KfUYzLjPnA+Wy8O34Hnmk3B10m7hKTi8JFKGRDRWLBI2xeHwa2a4LuP/waNFEZnBuvMd+o96qUTr2JaNh02EUudssX/G5+W08I44RHbr55ap9wOsFYF7qKaeChAXWSeA6QM3c2Em+9T7gM6f36wecKnJSzXm68+f0W8o0X1Lx1E8BrWmEZNWqUOK3SMtY8mhYaMw9/9NlAa0rETfS87PM5BJ+RcN90JA31ei8XwmHgz4doMNZ4qqaYYSkaahDdpwC34fCFbBFj/GTOEQPjwmUsSucpdLRle28XVu2WL9vRl37r+r3v279f1tW0tDRpVL/x0u/B1bVg7R8PK/sPGCDwTM5CQQSDciL4nPsW/j766CN06tRJdJgoishAnMagcyM3sb9Sn4FIw2qMaCj1V3plAzxRJJVPhUIGBWQCHX9FAR1P3xwbNwZFkRJvvR9Z02YFRJEoQmOsm8im1WIdKKjAGJDzF+6BsP+NPsPJxBxxuESHaPxRcXgfRWxA3wZ+eIL6AVeOqTykkEiiV2wRJ/J78fWKBLGo1GvSHmQ4KBJixIzym395EthUdHilFuYfJ5ch4BeCitEWMQq+CHIXvJLGTZEvptNQHj6QUupj6PdE8SOe1I+fMF5O+fTUnc3rwltYV4Kn71YdhjlzjQ7Dc7XhWLEaflo4Es5YQAlfDw+E9VhY7XkXffaduhaH4uNx6fJl6V/nzp3Agw8GPrf+Cq/ZPP3yy4ngjyf4Rh+LeC9w7ffhVLJDzLE+++589J96AGeTjTEB5jVthR+eWK/AqYzHi25f/iKEw4LdiaLrxeflKdjdSNgtX57m6mr7Sjj+6uuvQc4Zg34jGl9tvaVZTr5zyx6D4tGDhwwW5WiaY80jlqSiSmpliSJLAbElEg7kUrRu3Rp9+/YFiadoHndpzmlZ1x1pWI0RDaXwxkOBJ/SeJ4vK2uMz6082DSJyEEBCXKwCCz2XLV469/yKpMpPGmXnys8ge8Zc+L3q6ZjmFlmnOVVk3boR4YmA2cjyRCBw+i0bXsoWm7TETBeGLTiBGp0XiEWT14dvwMUMs6E2/TSLuylPOeDyE2QuuKEX9QyviFe0oNfot+dg4KwjwnHQdxE6KikbIBo6Na2NWfEk+HwBbk1gPmHm3RAQuiEKvN/QCsvg3i5ysVu+DIZcJk3qN6SxdoIL9CcjR2LFihWadFWxLwjrfngyMpD6bpeAHlM9eANmWUWHgSf5JQz5HVpQrJGWVCgLzUBPs1cTOB8MNOmoopLWeoi33FTAClhzGzj9UFBUadMRylAbeDMcUiGdrMVtXgt2DW58tsSnCF6g87kzydT1Mn232UjEituFVbvlIzbQMmiIRDT9L9ArO8XzGGR9sJhSL4NuFbtJxUsaE66pHM3DTCUKyF3Ij/NgTVOxJhJO5DxQkuHwkSNB/UyF92J3LJbxqmYg0rAaIxqu6jUVXsgKLAqYjIlsdu3aVXhhLo2KfHxu2ZSKLD3X0sxkZE2ciKQH/iObhLTOneE5dlSWM56SScjnRIz18UdEUHQwm921h1Px2rD1snA2H7gGK3ZfhtdjFIaNbD/FBaJD7KboMeWXw2wSlu1NkjE+034uRi88LvPETRlCdDdkiyJz68eori3QbOhMZLkMO5a1O1L2Y+mmzTiSSFvzRXOL8utRaafZRS52y5f2+KKpfisOYL9IsI8fP15MHtLvgj5X/FDcvjO/iL+R2Hc6kdrhvVwdhhVrDC6groAQxsXb6ObXB6aRyOFpKu3NqwgC0+mHgYHXJQ0sQ1EO/kLLCzEgSs9ewOMBrSo16LMCVd+eDfpxWH84lY0Kd8KIKpWcKCq4vwLh0icZY44XdbouFtwwcdXpK/pacD3R8cQurNotHx2zEP5ekMM2duxYsZLE9ZzfSuh3HP5WS7dG9p9SCOQc0ChLqD5Dce7JeaCoJZ05duvaFZs2bQ4eVur8aFy6o/nt1R5pWI0RDRH6xshZoI3kjZs2FdmiYdlz8x6wiHLmDNJ690fSQ1Vkg5D0ZDXkzJ0LrzpqUjY/T+hCFnIFVBINRAqFBuFKsF2PbJqzHB58t/o0ar2/ENU6zEOTfiuxfH+yiBJwU00lxpJvGwrtQeQeEtn7vHB5vJi++TzqfrBUdBy+WnFKxm6sqVi6IzodxtN00tlDGPL+G2jTuQs+++xLjB0zDl9Pm4Z1B8/B4XYH5LOjb2bsIhe75S2zWWEvCW9K9HOQ3Fhs3bJV0ogDdKPBZwqbJZkMyv1TlIdflyNuTtD4QVqvfvC53QE/DMpNK943yH5Y+8LTU4pODRs+XEypav80j45P7/V5UTHzs6xwPANy0NYyAnNi2MElHAfiv60nMlCnp1GOrttzmYgucVQqSmQtH65r9pN6IvQbQQMRL/ZZjixH7gFBuNopzXrswqrd8qU5tkjVnd/3TT8kdJCmFs6YJ798kepjONrRMVDHigcb5KCo52grZyFf4kF1IQIWlubFxYl1pWbNm4PX1lDe58k6lmi6jjSsxoiGCLx9LpKUe+SmoTiAwwVRzKT6fXD/sh1JlZ8yxMJTtZAze6aIIsnGQRCWsaKk9XJRtgZNZ3zkyFHro3yvjRUhn1G0DmysL6Q6xMpSjU4LRAdg8Mx4nE1zibhAeWPb66A5HySOKFfNa4ogvDlyk/iuWPxrYmBsmpv6miSmXIGTTrNpc7kdyHE5keOkUqc5AXV7jT4J5zHagl3kYrd8tM3H1faH34v+tA7rPRV9CfMUQ+Sp5OYtmzWbxNZNN8sVFZhDvif5Zv3wuFzInjFLvLwn120Ax+Ll8NMPg+jQ5JpGzq9uaz/ZruZhn6gYSTy1Zs0a8SCrHAXNp3m5qdDrovqe33OKN+UrnhQYH0UrWb8hDHw4RT8OM+NFx4DihKcSaXnJwK3kC1yHHpjk13Zhablj4vv14VyKA2+O2IiqbWdj/i+XBCeYPITtot9bYW2V9jO7sGq3fGmPLxL1813nfhMAOYQUrdM0fa73kehTabSh42DdhH8eLs6ZO1cUnvMlFCy6DvI8oOsgBMbChVKOhNU77duLknVmJq2Q5eKa0hjDb7nOSMNqjGgopa+NgMiF+MzZswKA1pOJ0CZlw0kuQYBjwLKenGxkjhmfK4r0fje4jyeoeoORy5eKcjcJvC1oKSs+YjOIUpSFRUafC6SxlU6Rpee7LDQiS4PXYfmeRKNsKYt2rg6FjJ2boVK0dhI6hyW/50wFlERl4+bDycs5qNlpAWp1XYy1R9NNlcLtUXEjw8kxBIHOtNlAiAy5LjJRqjBuF7nYLV/ydxSdJfh9W3/spd5v37ZNTtrOnTsXts6LjgwJAnIucrJBscTESvchuUYd+BxXKiQX1rD2k7GGi5cuCReUi7zKaPOZNY/mZczTSDtBFaGLqoPjpigkxf0Iq+tPZIop1Po9lmB7QMdBOQ60fpQ7oqJqLvq56ITBh4NnMoXT2m4UCT8jusl+RXuwC6t2y0f7/BTVPyucUHSH4jd0wpqYlBSEdc1TVF3R/lzHofDOPQsPO/gjt0AUpEMJhZB7Egx5uBILF4pXaRIg1IeiDwur0zudk9C2tQ/6PBYXPQORhtUY0VD0OylxDgUEFhw3bpwAE6+t6dZKzSk2T6hpz98Hz+XLSGn1hhE9qHQf0jp1gc/tlEVRFlFr4WJcKyBSTKKkgQQNT/D8PipDe7FoXzKe62SUpJ99bz6W7E2SxZTiSsZnhCEwaKWI4kvlJdDWPTcFn9DhXZtZYvZxl3iNJjEX/ZuE4syzXeRit3xx+lge8hCerNwC7TPT6TmVIojkNCi8K/xpvpLF9GVgLH75UpKQ1qWr6DMl3nwfcpauEJyg7RTnpD2YN4CPaLmJhALlkXmSag359Ztp5KDk98xatqBrlmN7VuKkoLwinul3iR8KQzh48NGMeBEZIuFA86zEl8RRZpMfRrJBuRfw4cOpB1Cr0wKk5hAHGr0uc3BQUM/LPt0urNotX/YzUPIehH7TvKfVsCFDh2L9+vVSIeH+txB4yEluAx1OkmsQNMlqdfoWQjjkx5UgwUGCi8RHx44dROyRhJcGzrH+mBb6DjRfLC54BiINqzGioeB3cdVP+OETuRDwfv311zwbjPyAQnUXnBcvI/vHaUiqXBWJdz2ElFZtkTM/Dl7aNBdlZi6QJTM3qO2xPKn9kgaeqmn/5MTT78XpRAe+W5mAFkPW4f9n773joyq6//F/ft+PPvo8FoodUMSCShMQC2IBlCKCAiK99470DqGpoEgRUDpITaMTQg8dpIQOSSCkENLr9t337/WeuxNulpB2dzeFva/X7twy58yZM3Nm5sycOUO3iKOWnsO+SwlI0ytKD2kUCpDwgpLfFAspvjCHsCBVb8Tkfy7jy35+QjlasCM006tSIVHmtGS1Ni5a4Z2WkUJGJGVKhnRucPHiJSGjsXFKh8hv8qeVXA6KLQY9kvr3zdzDkDJlBqxG7mGwD2KEYp/3AQ1Nj+j1hB5Q1JfMk/qd+l7mKbd4ahj1fX7g2I5QEbJYjTALr2c24X612Zg9QnH4ZnQAwmJ5IrtiPqhOR+u9dMtMJeF4SAq+6OeP9cfv2t1PKxMjWtNwJbxWWdUK78q8uQq3rJsypCxzX4/ch8g+lN/kd1fRUdh4Zf448cH2Yez4cfdXEfKpNKjNl3x8fUF3zdws7efvl3nOi+SpTLew81/c0ne3rHqUBhfUEO5dWLR4kXA/RkFQBvwPb3AsRiPSFy/O3Oic8PnXMIXdFp2hOO2VdvLigCG755AC0Ew6ZOOXH3BhJ83OW8zmUWmhEqHMuLFD/8XvpjjToV5vH7SfeRg7r6eIgYwxc/YvP6kVYlyahHGDqdjjYIX3yRg0HLJdDE5WHqRbPSfOYhZSNrU2LlrhCynbTk9W3bkdOnRI+CrnjJq8+F39k+8LFLL94MFtPIehknJwW/LYieL05yyDGKH0KnFzS4e00b3igIEDQDMqSSvheJ/bxT0PeYnniEfCHDx4QOybcPz+wHOmaaByKKOY3bdZcTwsFd/aN0d7iQPgeLhd7nQ/gD+HF2KF1b5HRG80gysbbN/oHEKsvDo5vRxIKdAnrbKqFb5ARBcykFoOSApPP5beDtXfZD0uZHJdlrxjXinvNDPavTtArBhkt6KQ6zv7vge2kzRP5PkOQ4cNE/uoZEbYnnmu/HPA3bLqURryX0YPQEghY8hNkKNHjxZ+i6k8cLDJpXMTTd/FZlnlBFcxCBevbEhf+GfmgCC+bn3ogy+LTpDdIAexymXvFAvQWUn6HiA8Dy8yl+FFuvbBkGoInW4wY/aOMHCTdL2e3sLmeAcPROI5EPY9A4rCU7waBPJs/ZEofDloK5qP3IUMo2JqpYWXeWC3S6NobVy0wrs0c05ELstYDsplyPe8p0MBKgv0NhIWFvaAnbNWUuRKHQenZqMBGZu56bkWEhp/C31AgDi4TdKoTku0Fw4KC+Px4gnMNE+k3THzQDttroTK72o8ud3zNOiCXDItDkD4y/XKnNW179sSe74Uc8FbCXp4bbyKBgO3YvqGK/c3RwtFQzEhyhV/DhEEfznxYVccFuy+JfZyzfa/CZP94LwcwAv9k1ZZ1Qpf6AwoAAGyfhKUsuLt4yOw8L26DVDHK0AyRR5EnVdJ7LLly7Bh/QahOOSqIGRntmT3skSlgcoH2yEvLy/hnvXWrVsymQK1R5nAj+iNu2XVozQ4qaJR0HjRXu+PP/4Qfsj5rMyOcQaQBxcZhcceeu3h7KE1JQ3pfy5A3JvVEPdmVSQPHQLL7evUFJTVCdFX2pUFDXTKRiAv3pPym4xcCTl0IxkdZgWJjvWrIduxLzgOFgsH2oqLSM7cMc/F5WK5WcwW/L0/Ak1G7EJswn3f9MW109DauGiFLy5lTzpZxuqfpJ0nn/bo2VMs20vnBjK+OpTxCxJKc0BrchKSh8qD2xrDYqB9P/0lKLRRqXC8JM2yPZIuXin7HKjLjZyyTShIXb585UqBOneZFg+T4onY+b3kKqdY6bQfAOflfV3sQWqq2uMg0pFmW/lNxB6f8k8PdeKgOXpXi9cL701fDNiCrWdj7ZMiBUTuBjCtsqoV3g1Z1JwE64laDvjMSYB169aLGXXu95HfNSdWjBCQD0KG7DTznhMkXJ2c+8dcoUxRcXhg83N2ysLD3tldtHJz+cRJk8ResM3e3mJflUw/u7AYsdFtpLpbVj1KgxOLlg0MZ/RoC8hLVHpuorUoexHEhkbaJ9sA04XLYs8CNzTGVa4O3YYNsJpNYkVCzDSKg6CzCm9BSCUNvEgblRlnX8QrVxViUoyYsS1MuGX9csAWzNwWhuhUxU2p3Mzp7PRdhU+aO8Qmp2D70ctYuGAu2InwUvLsqpRdh1dr46IV3nU5cy5mdWclMXMwERIaKs4toLchXo7x5LOEKWjI1UWLwYDkwQMzNz3rd+9TFAa6I1USF7Pg2aUhZZ6bOGmTHR1NW3zl0kqjxF1QGVDDSVySttxCDuQ5808HC/SWRFyRCXo0s5sqMQyL1yvujx/Up3JDn+W7vdUET6mmcsa0+v52TKym9vr9OFINbOM1JpIlRec+aJVVrfDOzY3zsUk5UNdByjdPRqbrYV7ymwydT0XxwSjllt7h6A2JqzBZvCU9TDnI6b19f8Su3bvFZulfZ8/GwIEDM/eHkTtMV6btKYfs64u7ZdWjNGRfDvl6y8p8+swZoTFzcMGuRPzY2diX1On1iPH0x48i8bsflNWFt2sIxcF4/oJYiRCz8Sq3q4wvf/kiSBVZwlPw6GPa2ZeYkRMmAWI3ohDwwCtJaOt1UGwe5KrDooDbSNfzlGW1qVXR7XDJo7j4OMybPx+LFiyEyWjAubPnsXjJ4syDupzNR3fg09q4aIV3Rx6dnQZ9jPNMgU6du4gZSMqTvKRsOb6T3/MX3sfLcWqG9/2D21KnTxeOBTjTTs1BpGdvG6Ry65gW5X36jOmiY5crIoTje0mvDB1hc3s+eeJkJo7c4qq/y86fAw/iyPcl2lO6dlZMlMgPtj/Hbiaj+VhujvYRTgykWeR9/Pd5e/9dzneCV8IjnNyLZsXuc7GiTePp8QGXEpRV5JzRFNpXrbKqFb7QMp7HhFm+jj/2j/diuYrkURjUbBSyoGo3uFLIVUt6RSqQqdJDFAmaLfFQyfbtO2D+/PmZkx2O6atp89wD7pZVj9JQwFrHDlB2guyUV65cieDgYIGNy9pmzsDbN/JxEGDR6ZGxbJmiLLxRFUn9BsAcGiJmD2WXJsMCkpQrmKQ314gaIlDA6X6V3k4OX4jFj14HhclSx1mHceBSvDJoESdOm2HjCozY5G2DTdUoaUi+wKDqDoRIqAT6+foJfCJP9oNv2Kip/U1LuAIn7EZArY2LVng3ZjVfSckyVIccPNy8GSJWl7h/gW5GKT+yLuQrgVwiCxkQHseUFYYMX3/EvVsTCY2+hS5gT2a6avqyu6e3lzVr1uD0qVOCzuTk5FxSLthnemErCB8kTJ73NORGnn3/AtvZ24l6TNt0TeypmrHhCsLjdYo7Vg4OZbzc8OXwncqJ0WTGLL+b+LyPL1pO3CtcsFJxUSaE5IRIDkjc+EmrrGqFd2NWC5yUrI+Ua86a7927V+CS/aT8LsMCJ1QCAMkDyRdmh+5Yuc9Bq+IgVyukqRPxrVm7FoMHK16WaLIk9155yiH7iuRuWfUoDdmXQ65vWYH5o29zaTdMIPGeM2D22Xfa/JvOX0Bih86KqcG7NcQsotWgnLsg9gRQq3DhJYXN0Q+7K5JU8q8oAzabGXeTDejxS5DwQtRg0FbM9LuJNL1JmBAIMwOxv4MemegBpfA6XkG3zQYDzUKS6f8960yU5BU3kHLmWZqguWogKdNzZqi1cdEK78y8OBuX7BAZBuwJECsLcjZcyo+rypp42QRYU5LEZII4uK3xN7DxpHHOdvOjGPzKwwXv103yQdJFX+r0kEZnDPKdpN2Z/OJKgZSP/OCVtFAh50/rxb0Nyk8xAeUKg5efcs5Ks1G7cfBKgjCd5ICfExlaLuGQwmaDzmBG73knhZnSljP3BB9YRoqJppYUnAurVVa1wjs3N9qxyfqqDikjdInO9pwegtSDU1lXtadcsjCQL+QbzbB59gJX43nGC9seuc9By+qDUCLs+x2oPPzyy6/inAxO3Mjxi7oMSxZ3C5Ybd8uqR2koWDkJKM4+0u/w3Zj7Ns78IEx2xAw6oAs6ivjqHyjekd6oiox/NghYdjSyIxKdmgY68gJKQV+6dGleomqKIwY4woyC5liKa9awWD06zDgsVhw+6+2LmZuvif0bwoxAbJBWbJWz29ipiZgCALPR4mwHL9lxyIZSPu/ZEyhOyZTo5Xv5XFRDrY2LVviiyhdJF1cXKCf//vuvsKvle5atunwdnyWslpB285aUJCQPGay0E5WqQr8jMFOxFmnazyzg9IKkRw56fv7lF7GUz2d58V79LN87KywoHyTtpEN9XxC6RDtL3tn3ONBLXWSCAc1GBygHNI7ajQMhKUxIKGUFSUPCKIqH4tjB72QMaKI0euk55kJ4xxOmYzJyEQi1yqpW+CLAgiwkZFdfKed0jU4TRF4yjtZ6mSXhEvigbls49qE3NZ4SzzMdtCgMaqVDrjwQJ++HDx8uJnK4usFJEVleJZC9+c6Su2XVozTko4gcGxNWZtr3UYhEg2Pft8BVBP2Zs0gZP1kc0hZftwFSf50D46VrmbbJXNIWXlDsYT7IyHdU0kYaeTq1qy92nsLW2H7egXzOMJgRdD0Jo1deAE+SbjNlP5buDceNWHqo4IwhZwOVfR8Kn127+iL5IMuUIRujTRs3Zc44MY4sW94zjozHw2k4E8JNphKHI075XFRCrY2LVviiwgdHOjjDuG/fPnDw7XjJspWh4/eCPN8f+CsrCEaubg0coqxEVqqKlImTYTWbxWCY6bIOwt5OqJHt0/wAACAASURBVE+EZ9vDvRa0xZYdqZoeZ9Ksxst0eRUEP2HoOYmbtAsCr6ZDmn+KE9tFe8N22CIOY/t2TIDY48DN0be5OZqyaweWZ95kwZXLA2kV+0dsViTqTGgz9QC+HbUbZrPdba1qg3ouqNzyWausaoV3SybzkQjLT13f6A1oyV9/iRlzopHfZZgP1I9cVMkjyU8qDjRZpHclulTVqjio4TnGkm5aeRglPdfRg5N0SvLIMT+bDLtbVj1KQzaF4PiKwqEePEZHRyHyVrjSCdGmle45eTAYzwuNuYvE9p0yZwyTRwzH3wv/wsHDhxS0dsUiC07V5krHtLU+S8FmKGdUtOIsKLyyomJFQHA8vhqyTcwGfjlwi7BF5kZpdspUpMhPmne54yJfuNR64cKFzIEX30m+5UQDBz6TJk8WHnUkDEN1XckJ3t3ftDYuWuHdnV91erJ8+E7e0z84l7zT0zPEuQvcE8Bvrr44sGUdEXWdCsPQ4aK9SGjQFPrAvZn1R9BpPyeA9zSJuxMRITyXyHMieLKzzI9QLlxNPJB5snx+eSXjO21Pg0NemX96aaMpEvc4zPC+Lk6sb+91IHOPg/SEJCYpHOBzepSrGlRQWH7HwlIF7g3HokU5in0pXF2mcidcTbu+HuVEr1ZZ1QqfE22F/Y0ys2DBgix700gT66e7ZKiweeCM9KU8ExfNdrl5mSsDUnHggF+tAOTlXg0j7lUnUNPLEs2gRowcKU6plgfvybKTeVLTJd+V5NDdsupRGvJYm2RFZKc9oP9AbPPdCrN9hpwdFV0A2tIzkNS9T+aMYVKffrAkJqJ37z54+plnsHTF8iwdvDsaKaYhf9x7UZiX0vGahfnW7itJaDMrCPX6+AqzpTl+N2ATJ01zet/uI93FxEr+c2mVDZHjXoackicsL9q907aTl+SzDMXLIvSntXHRCl+YrJDlJWmgLfPoMWNEZyffyTgylO+dHQqFgc4REuOQPGCQaC9SJnvBZtBlKs6CBvteBpk+PbPRp7mPr2/mBADjqX8yrqtCprV///7MNPOTjhyQ0X6cOJx9KSucZnG+gnIopnJ6NPdSccXh0HWetaK4v863KaTgM2EVD1bE03POMXz9005cvpMm9p6k6c3KqfLc4+AG5TMn/mmVVa3wOdHmjm9SJpiWvOfqAjc7c0b84sVLWZXzQi4vd/DEVWmQv7zoqpaKA1c+panSA0rAQzwn5UWhEHHsJ0tz1YFtIX8sT7rBluUs2leVqaar8l1U8LpbVj1KQx5LnhWSZgwTJkzA9BkzoRObDe0mRvx27gISO3URM4Y81Vm3ebN9IyMwcOgQ/H+PPYb/e+xxUcGZpOxAZUXPIxkFjsb05AmXBUaiFVDM5MhVBCti0o34fVso6g/eJmyEp/mHICrJKLxOZSoQWtPMAZ6856FXvfv0wfUbN0RMvpNlkwOoaKDkd5opqU+15HviKWqX1sZFK3xh84PyK1cTOEvFCQBesszVoStpFekkxCOpT1+hMCQ0agarkStttNBT2hQqziKezSb2THGQzXqpNkPid16yvspnV9Mu8WtNTyu8pCMzpGmkWMHhxnL7jL/Nhlmbr4mNy83GBODAlcQspkqZsLnciJUJuwmU2LcFmzCv/KyXN2b63sD+kFScCkkWk0daN13nQkqePmuVVa3weSLShZFYt+SPyXA1kZtquV9NLS+8V8dzIUklErVahnnP9on94YyZMyFWBqSSYD8ROs/KgYR7SMiJOuKncsJ9KX369BGb2dVlq6atRDLfnil3y6pHachjbeKAg6YMHHTwnt21JSMDGes3IPH7Noor1XeqI3XWbFiSk5WOyd5wDejfTygNVBz69u8n4JmsOxos2SAypFlAYV6CFvueB+lxhEv5YQl6jFl+XigOPNdhxNJzuHFPx+GcmLFThN9+zwxwsOSEQTnLMiEpSXQoaj4p6eXMKXV8Ls1ykzm97tDUSSHRozTkzEHXfJVlJ0OZCjc5jx0/TtjDqr+py1HeSxhnhtIenvXWbDQi+acRigljxarQB+wR7YnwlMTBrmqF4fCxI+jUpbNYlnekxx3th2OafKaypYVXhI+IjBQ4ssNf4HfC/al9lp/Kv92D3Z0EPb4ZHSAUB54czdOdaWJECVXqQu5e20R7Jc7IoJc3C0xmM06FpoiDLBuN2IXvxu3BoauJSppFYJZT60BCK3yBy9BJgLJ+KuULsRpMkz5e8p2MI+XISUk/cmgk/yRf+bxp82bRJ4oVB5WJkValQa5cMJTmS1QEuUG6Y6dO8Jo6VbjKfpQKwd2y6lEaHlK7ZIPCz9x08/vvc7Fj5w7R4LBPt6amIalbD6Xjf6MakgcNg+n6VeU7I9gbJ+LhYJ0bhRo0bCg6fwqVvGinLIVNvnNmqMZNb09F6RKdttgATVtkEw5eS0K7acq5Do2GbceuK0mwmHmiNPeMmGGzu2eltxlh6lQAN4rkB/kfdOQIOnftmjkA0soX4uXmaJY1lQg+S97LUGsaWuG1Ni5a4bXS/zB4yWvHUB2fHQvtmKkouvsSZjNiH4Oy7ynD21sxYaxYFSkTpsBqUiYhKA+ybWCbw3uav9GNKu9l/txNv2N6dLOo5aJDBnc4ZeCqjYnti9WCo7fS0IwHwPX0xvT1lznlYzcFU9w95y6j9+WZkxnJOhMW77mNhtyb1dcPn/XxFRuwlf0quSshWviXF1itsqoVPi80OjOOY/mpZYWryTy/RF7ymwz53hFexvWEeeOA5J8MOa7hCgD3N0hTpewUBqkEZPctr++Ig+37hvUbhJeltu3a4ejRY1kIdyxrSWeWSMX0wd2y6lEaHlJR1JWMFXJI/35ITU0RJgTGc8GZm53j634Gnd9mWIzGLG791JVSDgToz5iaMC+JX4YPIcMpr92RRkEIFR2s6NQ5K6i4Z41ON2He1pti1aHB4G2Y5n0dUck03VA2OXL/iDJrq+7E85a6LBPato4aNUoM8iVv5Le8Yco+FhtKNlxsLHnegzNwZp9Swd5qbVy0wheM6rxBqQfV5DtXfNjp8DC+kNBQsYnYmWWdN6qUWJI2i0EPHRUGHtz2dSPoAw8KuriyIGlLS02Fj4+P8H0u4eQ3YuN9YV/Llyt7s/JLh6SdfvF5GKYrL7l/Sqw2cMJBuGPVY7rvDbGBedKaiwiXKw72k6Vzpidre0OFhCffNx8fKJSGLzKVBk5KKOdp5IzPtV+1yqpWeNfm7kHsUkbUIWPRU5eXl1eW04UfhPa8cRYH1PyXvOf4Sa04ZCoKTlyBYFvPdHiqNNuXXr17if5dmnPKtkeOxWTb6qx8FyYed8uqR2nIobRlRYtNiMftmChxtkD6kuWIf7+OYov8eSOYbtxWLXMDG9ZtEPsWuOmYy/By0yAraYZOL1wkMkm1cOVAguZPMg9EdPjwYc34nIlAPViixiU6W7FR0YZffa7js94+ymnSMw4hJFbPeVjBN2GvLLyk5G8AJXlB8zKaRwgzMwfb14LmT+KmskClgT7AeclyLiheZ8JpbVy0wjszL464JP8pZ1zpoSvcoKCgB8zFCqM8mKY5IR7JAwcpXpIaNQUVCGGFZLGKerhz2w5cu3ZNnDosPSLJjk3SLEPHvLvzmTSo6cpP2hKW8BJHfuDzGzfzgE0x0WB3rmCziHNi6vX0Bvc4HL6ueJ+yLw7nkIRDW2O1itVRg8mMlQcj8OWgrdh7MR5cBRWmTKJXyAGdiz9plVWt8C7O3gPopWzIkHsY6D6bP5omyvcEVN8/gMjzQhMHyFsp2ww5YUPTIW5cpuejTIVh2zZxr37O68rCA/HsyofExdUNniQ9c9YsjBk7Vqwwkw5Z7upQU2aLCLC7ZdWjNORQ8NzceuL4ycwY6QuXZNohx9drCGPwFdHx03TGaDSif/+BWDB/PoYMGyYqKn2oL168RMCzovKi3Z2605QVODMRF90wzez80Lsoubyh5YDd7sJQdPDi9FujmBXkuQ5zt4eCqw3s4NvPPIw7KVyNUFwqWuwmSnlL6H6sE8dPZO4p4VvZwMnyuR8zf3eyHBly0EcPEsTNSyvu/FHy8NhaGxet8A+nLPcvkodqPkso+Y6KAs0A+eOqj7zkd/ns6lCYL4q9CYqnHZ7DkNS7v9J28OC2g4rnIKVFsGHl8hUYN25ctra46ny7mu684o+LV1zTStryCifj00RMnu6aV9gCxRMTApxoUCYbaOZIUyXucWhOU6Ve3mg6ejfCYnWZZ8QoZ8UopmC5pakoGixFK9buvwXfPWcp7G5zF50TfVplVSt8TrS54hvrlrot52bcmzdDRFL8JuueDF1BgwfnfQ448pwTOJxM48GoHNyLAb6TVxqkMqFWHrhZmhYePXv1Ehu0aWUgr5JSF9wtqx6lwV6DOOstZr7tm+foHWnhkr8Qdek8dBs2IfH7HxD3RjUkduyOjO07YE5MUuLbvSpRQejeo7sYrBw7fgxPPPlf4ZXH0UyFmq+chWbSauGSldmZoRQMhnTVWLQupcNVTlXlvWrjMzsBqwWhcTr8ve8OGg3fKc52GP73ORy+ngy9UTE5UFYreLr2gx295K3kwamTJ8XSpXzvSl7QGxNnV+gm0x3p5SUvWhsXrfB5oTGnOJKPMpRKGWE4s0j3ezRF4LI44xTGJWq0cMupnMPAZ52ff6bCkDJuEmx2hUbsfbFahRtI3vMqLLrzwyseiqWFVs488ufOi+UgDtTkeTo8ZyE0Rbhh5YSEssfBCjPbEDPbEuW8hfzQl6HXYdmqFQqIWEIqnPonadYqq1rhJR2uDGU7oJYZ3nNFnQNHeam/y3ee0LUcUJeN5P+6devFCgAdhtD7EVce5EBfhnLAL5+1hBIXVx6YNg+G69+/n1iBdpxUci03XIvd3bLqURrs5UkvPsLGnqYEJjNMVgvSDhxC/PsfKZsWK1VFxtq1YtFZKBgWntiqbHg7dOAgXnrpJVy2n5TKzbCf1K0LmihJgZHVhjbW9GUsL8fv8r0zQynAzsTpDlyKXTLtg00IiTOg7c9H8DnPdejlDR7YxNOkhaIhzA+yVxpIJxsI/rgCoDZJcnUeoqKiMG36tCyu4FydZk74tTYuWuFzoi23b7IOy5Dxae5Hv+u0l6UCITcPq+PkhtfZ35m2ctCXFRaDAbp16xH/Xk0kNPsOhn17hYnjlauXMWfOHOzcvhMmemKzz4TK0Nk0ORsfV09Ja34vCUNlmt7G3HoJF6zKafXi8DX7Hodp3OMwaCumrr+C8Dg9dEYzzoSmZK4S5kajzBNXGPx8fXH9hl1hLQB/cksrP9+1yqpW+PzQWtC46pUF4mBZ8GR3trn0iue5Cp8DLBP5o7k2J3ZoMkbFgYN6ObAXYTZKhBalQcDaTaLYR9BRCU2W2vz4owjVq52yLhU+x/JPgbtl1aM02MtIKgDnrt/A6vU+0J29gPiPvxAKQ/wnXyDDx1fMEJq4wk3TGC5K2w1h6ZWlQoUKYg8DBy4VK74G7uCXFVEKDUPO9nOpTF5858pL4mcolRpXpudU3OKQNyoDyi8mxYjft4ag4dDtwmSp46wgRCZScTADNpqjPMhLKgncGBUcHCxIIx/kz6m0OiCTfKfHKg6y5IYsh2hufdTauGiF15JZypK8qADy+fz582LpWZ50Tp7Tn77kvYzv7pDNAt0uJw8emrmHwaQ34PzFC7h95w7iE+JhsLvmlaegk0Z31Etn8IKbzAvCYwnDNrKgOApKf2Z7bT/HQUxIiA3LFsz0vi68KjUbswerjt5Fh5mHEZuiuE7Oc3rcfG8wIE2XIQ6nlHnNM7yTI2qVVa3wTs5OtujIY7YD/PGwNh7yxcEoVx0Lm//ZEvwIvmQ5qH80beTgnQeqMpSnR2tWDh5ynoNaKWFa/In0F/0pFBiuQNAqILsJ3uJSXO6WVY/SYK8ZVADuxCShX/+++Lt+A8TX/ER0+Em9B8IcekvsXeCARBzyw0Gs3eMJwWmr98QTT4pBDG0p36tSJVMxYIMmGzCGdPX5+RdfZNrVy2+uqqBSYEkHZzeL00VlgQclKQMrruoopgWB15LR1usA6vX2QcdZhxF4mf7ROSzIqjSwIeCMZt9+/cTGZ+Zd8sMdfJe8lqsb8rmwQq2Ni1Z4yfu85P++hyypBLDzsYI2qYv/WoIUejITioTslBiPPvSVkPeu+lksyr4bpS2gDTsPLFTaBprUGZMTkDx4uGKS9EZVJO7YjqmTp6B3vz44c/aMyL7khZiAUHWs/Ci/qe/lO8dQ8pLvFX5kv09HfpPwErcaXr5zjOMIyxUexnGML+FyCzmoU+NQ0+AIK9NmKL/Jd9mlL9/JUMKI1oE0y/0NwhxVqVsRiXp8Pz5QnE7P06O/HLgFp2+lsiCUTc1270rEJS+JV6bDtkfUN5af3VTSkU4ZV41H4nN2qFVWtcI7Oz+O+NT85+QB3QBzQMpL1hVHGM+z+zkgy0kdkgruF+Wsv6+fX+Zqg6sUB4nXcTWDqw9z/5grVh5oNs5TpYvj5W5ZdanSwIoiBVhdaYrEPU1aLPT/r3T2ptthCO7SA2cqVRWdvTjV2c8PNjPdfdr3O4jOnV447ndgzAs7QVY6ri5w6Y0+gjlQ5QnMXAJjHF6E44xI5cqVMztNLbxQ06G+zw4nv3Mmhld233N7p8avviec43NOuHJL3/G78qx07nS3KjdOp+jNWLY3HF8P3Y4v+vnjh8n7ESi8l9wvG5YLzVfkUnVOdBXVb8y/sy6tjYtWeOZDzeec8iUVRm5cFfeAcDbg5TUdy1csh8V8f+WBON15caBvNBtxNvo4YtMjmStYxIynWZgkJfXsm6kwpEz7Gfei7+Kvv/5GeOT9E6jVfJD36jzwnZQrvlfnUd6r4/BePsv4ju/U74lbPosb+5+EYchL0iBDvqO7VPWzvJcwEocdZWaZy+fVq9eITYnymfHVOCSe3L7LdNTx5b38JnEQPy/5niG9HLE90RlMWBUUJU6m53kLn/Xygc+Ju4ws+gehPAjvbkrb4kirGqf63jE9+SxpEQS56E+rrDrCM19F8eIKLl0Ay9VGRxol3TLk95zKyPGbOr76XuKToTpdNQ75Xb6T8dTvH4Y3Oxj1O96r65KslzINNV75Tqarfla/U+OX8I5hdvFzeyfTU+Oi+S5XHOhhkgN7Dupd8ZNKg0xDHdJNK/dX0GxqyNAhwlpE0qrOk3z3sFAdl/fq54fBOOu9o6w6C+/D8LhcaXhYwoX9XjaBDNODz8C/ag3R0Sd81hA6X3/YTGaHeeusHTfpL0jFoIb9XNnnhP11djiyq3CO6Tg+O/Iyu+/qxoXxHZ8dYbJ7zu6dOu3cvj8svznhyEqnojyIZR87UEySAbP9buDrYdvxeX9//LwtDIk6C04fO44LwRfVqIvdPfmZNf/asqC1cdEKnz/q7x+QlRSdgDs3I7iTFdEhETAbTWJApyz/8aRF+wnhHNi442f3wx989xh+O9YRtxOvKTRw07O3f+bBbYH1PsM67/VC2RF02RnAclXLivpe8ii7d/KbDHOL4/g9u2fHdxK3DLP7Tu9U8nL87lhfHZ8J9+vs2WKG72E4HHE6PhNO/Y736mfH79k9K+6dlV4gOCoD3X85Aq4yfN7PT5y7MMPnBlORJD6APzuceaEhO1ozE3HijVZZ1QrvxKw8FBWdjFBhoEc89ZWXclDHL8h9bmk44sxLfMc4BcFREBjHdJ397EgTn2UatLygUwSGnOALDAwUIe9d/WNa/FFp4WnhPHCSpuNc/eD+x4JeMm8Fhc8vnLtl1aVKA80yOEim6zP6yeWP3mSKwo+03LwViuubN2DKO1Wx4dW3EdmxA24ePIRbUdHQGfVIzdAh7EYIQsJuipkMNlIC7maIWEGg+YvMH7Vm2lonJyeL/HLTD+NztpsnUjLPXJKnjftjjz0uPCjJikk/0sR7N+aeGCRyZpwwPEuAaXAWhTyUOFgp6V6SMHIlgzgYR+Igbj4zPWkewz0Nt8NvZyospJk45AnGEgeX6ZgG6WeapEPakRMf39EmmRfzSR7QbIQDBIZMV/rG5kwQ02Ba/C55RhhJF10wEob84SV5KDcqMa2QkFDE3o0Xm0wJdzsiCiG3bsBsVk7O9T9+Bx/38hEmBp8O3Y5G3zbBvn2Bglamzx/pLg4/Savkj7MaIa2NixZ4liEbY3mwV2a4cqWYuebstfq3asUKLF+zDEP3d0XPPc3QfnczjNzfFKMONBWh4z2f3f0bsb8pBuz9BgP3foMxB5riz1Oj4fNhNSR8+z1W9+qH9l074ZfZvyHs1i3ExcWLVUi64qUNLeWEtrUc9HC/DcuaBxOxA6WPcbYb9ALDZx4YSBnl6dDkG1cM2T7QHEPy7OzZs0JuaB5JnOyE2W5s3LhRuP/lBlHKHuPxO1dBpazymba9lHvKM036eIIu6yHrHu3EmeaFCxeEfHLQTzpIDy+mRRzsfGUbSHh6R2G+uIeBdLD8mSZPuKb7Z644UPaZBnEwL2yf+My0mIbci0SPWHymTTK/k066UiROtits75jGps2bRZpsSzijSP7RfIV00P0in0k3N0MfPhSEZcuX4+DhQ0jRmeC/7yx6TViBmj1XYtw/lxESFooVy1di2fK/EBERIfjDNJlXDjbYtnFlmThZlkyD9PGZZcg6TxeTfCYc80o6WbauvrTIKmlzhN+9ezd++eVXofCx/Av7R8WVnnDodISyQFMX3st9e6wHjMN6xYsz2KxzLDfWH/ZjNNdl/WG5sa+hiRPrLesOy4iz4JQFlhtlh/sRmQZhWedYtkxDpkmviXxmPeTFusv4rC+8KF/EOWPmTCGHlE/W6ekzpgvrBPa3rE985oCZabAOz/r5Z6Fks+4cOHBAwDMd9vWUZ96zPDjwZT6YL5YVzW+YhkyTPKEssj4yDbZFzOu5c+cETu69I41XrlwRaZIfUh4pq8yLbANYv5kmXamSTson+UsZ40X5JB1sZ8hftl80BaKMyz1NbNeIY8qUKeIkZ3qg7NS5s1t/dIGvpNkF3bp3Q4MGDfDsM8/gu++/F/Qzzw+r6+Q7+cwfeco88mL9cuflKKuuTtulSgMrIAvihx/aCLsxGXL3emH/fmzzA1q174BWjZugTflKiOo/CJOnzkTLH9uKxujilas49e9ptGnVCh07dcHefftFJ9q+fXuRH3aiHBjTjVfLVq2EELKTYOPECselLgocO0h+Jx/YWV28dAl1PqwjcFDweNGjEuNQyChgfE8co0ePFoNtdsb83qFjR7Bh4kXXkuQnOyNeFPjvW7YUgkscFFbiGDpsmMDBd7379EHnrl0zO2IuybEc2HDyolcnpsPGQg7uKVBjx48TnR2FnTh42iIbal40y2rfvoMY8PCZgxPSxcaWwsPGhN95Ejbh2fB1794DAwb0Fw0LGxzmn3SwAeLFjledNzaMNP36ZfZsmMx6xNyLw5Ahw9CtW1fExMbBbNJjwR+zUb/Jj6jbfTOqNpmMrz/9HG1/bCvwyLCw61xe02feu3btKsqNPHRWI6S1cdECz3Jm50tllz92eDn9YiOiEX7vDtYGL8D0oKaYGdQCM4KaY2YR+M0IaoHpQc0xI6iZUBqoOEw+1ATbb2zG0a0+sHIlBEBcQhwio6PEBlnKHxUHKs+UAw6uyQ8+s+NmGXOygAo62xV+ZydEXslBCwcAfGa7yraGOMlDvuM3yiyfiZODcz4zLp+piDMNDob4LHFy4CtxEh8HLnwmHqbBi3QRj6STaREHQ16kU50GaSc8BzAsd/4ITyWHNPEifUyHaZIu4iAM05d08jvT5EWe8Ttx8DvjESfzwWfiJd/4k2kyfdJFHHzHfBAn0+bKT2qKQoPkjeBvTAySEuKEUsH8M03iYHqkVfKT7RhxMn2WGenis0yT78kHpkl4wpFG/hjP1ZcWWSVtjvC3bt8WE110F14UfqfPnBHKIOsz6w5pYj9BfrM+cBKK71h+5DcniwjDwSy/s6wZn/H4neVL5ZL9FcuZPw6QqRBQRhiHSjRhmCZxEBfTYF3gM8uYz+wb+Uxa+EwcfGZ9oiJx+tQpUV+YBr+RLsIyDcLyO+sUYTi5xmcO7Ekj6xLjkw7KBOsb7/mO30irfJYThjJN4maaHIMwPpUDPrPu8pmm07KP5jPTJJ9Ix9Vr1wRepsdnQeeZM0Ke+EweMK9Mk8+UOdIh+ct0iI9pUi4oB+Q1ec7yIx8Yn3Hc+WOa6nRZ5uQX31FR4viGEzFUPpk/9Y88Yjy+I09ZPryYf/7cdTnKqqvTdanSQCFgJWQFKmq/9IwMpHFDniEDulOnYU5Khs5oQnpGOnQ6pZFg5c7QG8SzbOxlfigEMn9sRCisvPiez2wg+J1wzDvhiI/vWLn4zG+8+EwYhqxs2eHgd+IhDsYhfj4zrhrmYXRIGOIhDl6My2dJB5+JU9Ih88f3vBc47HnJfHagg7hkXpgG48lnwvNZ8MPOH75jeuq8SZ7JvIly0OkFvRIH86+Uk1UYEZBGgyEDR28mi9OjzUYlb8RbHH+sH+SVMy+tjYtW+ILlheZHdLvrJtOjPKRjo3mS1YbwpBBMPNQEu29uhs6YkmmilJd8sh7LS30v3+UldIRzfHbEkdt3x/h8zg0mt+/Z4cgLjJoWx/iOz+q42aXn+D2vcdRwuaWZHc68wKjTcOa9VlnVCu/MvHhweThQWBzg2IWTqJw45SqK7JOlbDOU94VFo7tl1aVKQ2ExMS/pCo8n9gKnxxNublRMo5XBiawMMiROdeWQ750Vqml2TCe7tGV8mb58lnHle2eHMh01XvU7dfqO7+U39XvikZcap3zv+C6n99KbjeLlip6X7uOWaTzKodbGRSu8Y1nmVBZ0PiDcIBeBRtmRTm6gpReeY3d24fK906KeCe9dVgvEZn07zSK/doXHsd4SJzsg+V6moeYR3+Xlu4RxjK9+L7897J06fXkvQzUNEl79zjFednFkZyvjMnSM1ZcxIQAAIABJREFU54hTfneEcYR9GJyEV3+X7yTO7J4lfhknu1ANl90930k8vJf5l++zw+nMd1plVSu8M/PiweXhQGFxQMorV3to0kXTMynLpEm24TJeYdDpbll9ZJUG4eqQbhLFRKaiLYqO/yEddU6VIbcKo/U7084NR070qb9lweMwIMvyzQ6U3buH4ssjjBr+YffqdHkvf+r46jh8r7jbVE6StliV1RR1/OJ0n11+tdKvtXHRCp8f+qn4KTxQDuSiByXFhSpDec847v+xoxATDRauHCre1O4/2ycgxGoE7+mdLesA0rFs5XN2oeQZv8nLMR7fO76Tz47fssOR3TsJn20o0pPlI2VTeVanR6U9W/jM93YcdpemjvGz4Momj44dtjqt7GAd8/mwZzUsccpnGcp0HJ/VcWWch4UCqQv/tMqqVngXZs2D2sMBt3CAsqtWELj6z/0hPJeL5lnycown37srdLesPrJKAwta+tYWbh2tFsW8wL7qIBv77ApegX1wIC9h5HfCqu8f9qyGk/HlO0eYh32X8WUo6c5cPYHiNlZ2zAxzG8zklrYjLY5pq58d7yXu7HBI2uU3+SzD+++VQ/aE+Yrwlc8yVGZv6UqR+eNPxFcNuiSeRy3U2rhohc8Pv3kOipnujkU5WsWqg1Ke7rEJzw+tioLDAbDiwpP10WQxirpopEmiXWnID86iEtdqs59YbaVZJOWLZcF3ykoeO1UzbZRpSme77/GK9IsWVrQzPMeCqzA0MyMe4lA6ZFGmFoV3xZlPRaW8JB1aZVUrvKTDE3o4UJw5wLGD/DEfNJ3mPgY6juDmZ+6/5J4MdRx359fdsvrIKg2OBStmBNl5WYxiE5za3Z5j3KL9bFeGOFi2z3KKg7Ls51FYLGZYREduEr7li28+qePZAPs+EauZAzYzaG8uOCDyy02Yyj4ShkJ5KNqF51LqtDYuWuHzkzmLDeDp6zzcTyiALFQx8DSJ5/zgcnVcZeBrgt5ghMFohEHH/Ul6u7Jg34/haiJchl/uJVFWBaxWIwsCJqMBOr1ObPLmMxUHtjfqS6ziCmWCpp8swAcvk8UGE+VWrCw5dw/Pg6k9Om+0yqpW+EeH056cPqoc4F5MOqahUxpu5JYXxxlyhUIqE64ce7hbVj1Kg72kWchpd8MQnpAGk0PnJytDcQo5mwdYEHPjNHZs9sbajRvh4+2Njb47cD403m5eoczKF6d8qWnlYNJk4cwzZ3OtSEu6i70Bm7DZezO8/QIREhGJsJg0ZdDJgYka+BG819q4aIXPD8uVWW0OWJUVo/SbF7A/6Dji9YpJUH5wuSOuPu4qFgzthKbNvhHe1tq0aYW+0zYjMk3/wAy8O+hxWhpi8kHxgKR0fDaEBgdhRK9OaNeuMzoOmog9QUdwLDSFy6pZk+UsnX3iwqhLw82LVxAWGoqrV87j/IVzuBoSrsS3GWCjyZfDSkVWZJ6n/HBAq6xqhc8PrZ64Hg4UZw7Qi9Lwn34S3pboiYqXVBY4rpT3rsqju2XVozTYS9KQHIJO9b/DggM3lQ3RriphN+CVnTtnAFPjwuAz80eUerUW/A4ew6qZ3fFG+bqYFxBS7DtpxRxEGajcvXoUfbt3h/dBxQ3a6TOH0a51Syy/GC8GbRyUFOdVFWdUG62Ni1b4/OSBSq8wfbFYkBR1Hi2rfITuc/fCaD95OT+4XB1XWaU0I+nCJvzYewTiExMRHX4Wo5q9h6odf0aSrvjurxHlYN9foku8jsWjB2PK3L9x624sEuITERcXiTHDR+NqkvEB5YjtEPd8ULnXp8Zjs1dPvPNaJfScuQLevt74e9EsdOg+Ad4nb8Fi35vi6rJ6VPBrlVWt8I8Knz35fHQ5oFYG6H6XruOHDx8u3NNKrsg4cuVBvndm6G5ZfWSVBtEZisNkFXOWszsWoVTZevjnfKxYfndmoboXF23w7CsIYubPhoN/dECNpv2RqLfAFrEP375bFrXGbhADMPfS5tzUpC25/t4R9Pm8Ov7YfDBLAqsX/IXL8XrQ240QWseZ0CyxS/6D1sZFK3x+OMyN7NzPwMtn7e+oWbUOJmzmCd/cp5LVDCY/eF0RV9myYMW+33pi2jIebmRG+Bk/tKv2Jr4bvw46U/E1u2Gnx70ItvRo/Prjh3i7xTAk2ld7lNVMG04dPwuzOTulXDFLUkwDLdj3e09UrfYDTscqZy9wUmPn1B9Q8aMfcDRG98gr9c6sm1plVSu8M/PiweXhQFHkgFQIGPLiGIPnxPCcLR5iR9MlunuX8VyVB3fL6iOrNHAGjJ0hOzR2XotmDsHbtb/F9hs8Ptxhmd1Vpe0CvEoFvb8p0Wa4iZ8afYK2swIBmwn/bpiG9195DcPWnYGpmNv5c/+C1RCNFf2/RPmP2+NOqhEQy4HKoPL0sRPISDMIe2op2C5gebFBqbVx0QqfH0ZxdppSaEgIwdZNG9CteX3M3X9HoBCmS/lB5uq4NMPRRWBiq3fQvNtgzJ2/EJOnjsbYOcsRkSQHyK4mwjX45V6DK9tm4e3SFTBx81WxkRlWk6JM8GA1o/EhMkbzMrv3KGMSRrV4Bx/1WoJUo13BsFoRu28m3nirMn7ZazdVck02HjmsWmVVK/wjx3BPhh95DnCMIVcUeAgeFQceEMd3rhx/uFtWH2GlQbGDt+oScNh3LbZuXI4G3wzByXvs5IvWTGa+pFFscuZsrKIMXfcdheqvv4nOw2di1jQvjB7nhS3HbkJnUmZyi696xPGICSeWDkK5cu9i2o4QMQPNAaWYobbaYDFxs7dSzvZDOPLFypIWWWvjohU+P/zk5mKbORbb/poA740b0LhOI6w7nyBQKDPc+cHm2rhcaUgP3YtWtd7GkHEzMbF/D7Tr2gsbz0TY6S2+UqaUgwErh9bGM9Wb4MBt5YRYrt6Z7YfcKUqcsmKbhdOiEzULr3SG+GtoXPkNjNoULJRBnmfBFaP4A3PwRrk3MH7T5SygngdtHNAqq1rhtVHvgfZwoHhyQJm0zdree5QGh7Isro2LGFjaTDiydAzqfVgPTRp8ik86T0NoKgfbxdecgAqPMCegSYExErM71keDIauQYDAj5fZJfFTuLQxcfARGu8vDYr2qYjFiZbfaqFj3OwTFGBUXq5RX4TlJululln/fV75D9X2kHrXKqlb4/DCbm2LDDy1H58Zfoknj+qhYuykCbmcIhd7RS09+8LoiLgfWl7fOQO26PyIs0QSbMQKz29RG5bq9cDGetv5ZOxFX0OAqnPS0ZjMbsLRbVVT4gqZFBrFHQbhdpflYppLOjcwPUqF0ohbcDQ5ApUqN4BscJyKJ8y3It5UDUL5CNfx9IuZBYM+bAnNAq6xqhS8w4R5ADweKKQekwvCw0FXZcresPjIrDcIzB32O0/hI+N61Iu7iLsz7dT72XbyEf+aPx6eDFyNOR5eOpuJroiRWGmh2ZUXate34pk5dTN5yTjnEzpiEkfUqoFb3uYjJsM/Iu6omuwEv3eOu6/shSn3YAoejDZnKAX38cyAnz6Kg+07FPj6bUY0b6CwqSWhtXLTC58QHlpdFepowpePsYR+s3LwTYbFpuHF4I97/ujfOx9M+1L4/JSdkLv7G9kPMwNs371rSrmHsd5+i7axtMFks0CeHYn7Punjts044cc/wwAZhF5PnVPQKv80IWtgNr79ZG4sO3lDMOjkpYTUjKeYWIuPTxBL8A25V7SsNbHsD/56G+j8tQ7xOUeLJQ138DXT5tCZajl+DJL3HJbIzC06rrGqFd2ZePLg8HCgOHFArC6RXPntWGhxKr7g0LkonryyJcxBp0cfiz78XYn9IosjREe8FaDphE3Tm4u1XnfnkAJkV9syqoahUuzX2304XeUyPPo+PK72CH3/dgTSj0nk7FGexeuRg5NzGoXi9dEWM23Q+y0ynJeUmLoUrm9ozVxqK8YyvMwpGq6xqhc8pD1IZSI8LwayezVH166E4Hp0BmAxYNL4HSpX/FAsDLiLVYLelzwmZy78pJ8nTPCclLgK/DvgKT/+vNHrMWoVN65ahed1K+KRhF2wP5uw5zzcovuaOQpmjgmBKwoElU/FBzWr49c8V8PfxweYlCzB+6s+4HqcDuHHdQb7YBomzNmDD1IE9sPQU5VG5dOE3Mb5fL0xctQ+pRvshfg7wMq4nzD8HtMqqVvj8U+yB8HCg+HOAbZ76cnxWf3PWvbtl9ZFZaeBJpsqA2garSQ+/xb+g94JdQkmw6JMxb1QXfN5jFoLvpdg3RzurSN2Nh0qDEYmR1zGg/mt4+atB2HruMq5eu4IpA79D7aZDcCaankrIj+JshsXVAyvMhmisHdIeb773ATbsO4pL167jwpEtmDX5Jxy8Gi1OoBUHhLm7GIpgelobF63wObPEKk4Vvhd6BhNHjsKoiXNxPCwONkMsFs4ejwnjR2Likq24k8qZ+6wNc854nf+VHYGYhLCaEX3zBCaMGolxE8Zj4sTxGDl2JKb+tQ23kgxiVZN11HEw7XyKXIdR5JVuboXtkQXhJ30xYfRwDB8zCj8v8cYNbvSWKwoP2CfZYMlIwI6lk1G5YgX8OHQ8poydjImjR6Bji+8w/c8NdkVfca9bnJUr15VAwTBrlVWt8AWj2gPl4YCHA/nlgLtl9ZFRGtghcTaT9v4mfQK2bVoPnx1nkKQzQRd7DZs2rMWKtWuw/d8wGE3F2a863RxaEHLhGFavWIs169Zj3aZ12Lx5PXx3BiJJbxIzn+KUXWGTXLgDsPwKiDo+l/3EoMxswJ3gIGxcvxb/rNsE/517cfNuonLiNc1ZmEVbdi4h1dhK/r3WxkUrfI4cFq49lfKU8cRmWXGisDJTz2JUDvIrXGVXKAxUXKTyIAi2giuYikIjboQnL8XdKJ+L5yUOXTMrqzsWedq6UNpEaSjunYV73AdXGsT+Kl0yjgduxmZfH6xZ8w/WrFqBFSuXY2PAKRi4qsv2WJy9UfxXPotSCWuVVa3wRYkXHlo8HCjJHHC3rD4ySoNSaZTOXJi722uRnN1Sd+vuWFJydSVW50emJXLP/Rx8IfZ1ZBdLxi76IcspMy/Mkopk3stnGao+P5K3WhsXrfA5M/1+WYp49vopylgOUu0D9aIhn0qtEvVM0kfC7feCRvV9zpkvwl9FDjPlTLQbmdRKyeLZMEq8zE/ixl6mWV9meSKcskCRe9wsgJ6HHDmgVVa1wudInOejhwMeDjiNA+6W1UdMaXBaOXkQeThQ7DigtXHRCl/sGOYh2MOBYsoBrbKqFb6Yss1DtocDxY4D7pZVj9JQ7KqIh2APBwrGAa2Ni1b4glHtgfJwwMOB/HJAq6xqhc8vvZ74Hg54OFAwDrhbVj1KQ8HKyQPl4UCx44DWxkUrfLFjmIdgDweKKQe0yqpW+GLKNg/ZHg4UOw64W1Y9SkOxqyIegj0cKBgHtDYuWuELRrUHysMBDwfyywGtsqoVPr/0euJ7OODhQME44G5Z9SgNBSsnD5SHA8WOA1obF63wxY5hHoI9HCimHNAqq1rhiynbPGR7OFDsOOBuWfUoDcWuingI9nCgYBzQ2rhohS8Y1R4oDwc8HMgvB7TKqlb4/NLrie/hgIcDBeOAu2XVozQUrJw8UHnkQKYrxkwXr9I9IxFIl415ROaJpokDWhsXrfCaiPcAFwMO3Jdnyr0i+8WA7BJIolZZ1QpfAlnqyZKHA0WSA+6WVY/SUCSrQUkhigMHK3iQnBxO8BTq+6fkKod2lZTcFvV8aG1ctMIXdf546NPKAZsi6zYe1KbIvlaMHviCcUCrrGqFLxjVHqjixwF7z055L37ElwiK3S2rHqWhRFSbopoJZRBhtRgQfy8Od5P0isJgtYKn6npWGtxbblobF63w7s2tJzW3c4AHtVkssFl12LTZF4m6wj252+35L0IJapVVrfBFiBUeUlzKAZu9L+e5ljbA5pkIdCm7s0Hubln1KA3ZFILnlXM4QLWAyoHVGINezb9Cu+l+MFqs9llIz7yEc7icdyxaGxet8Hmn1BOzWHPAlo7WP3TAlXhDsc5GcSZeq6xqhS/OvPPQnncOUFEwp9/GmsULcT483mOSmHfWOS2mu2XVozQ4reg8iBw5INUCqy4KP7z/FmqN2AydiaYLVBzkaoMjlOfZVRzQ2rhohXdVvjx4rbDYAH1qKm5HRCFFb4ZFn4zEdD1g1iMpLhY6kwnJEZGITUiymxGYcS8mGrfDo5BmlCsCNujTEnEv3QCbVTE3sJkMiE1MBawW6BLuIj5Nj5SEONy6E4UUncnOes4wmpBwJxw3wpl+HDp07JqN0qC0CFabDfqMBKSmpeJu+C1E3Y2F0WKBUa/DnfAoRESEI+J2BAxmKxjXlJaMqPgEGMxm3IuIQGRsssgvVyo5aNHFReNWeBRik3XISElFusEo6FJSs+Fe5B3ciYhGhj2ffC8WOktwxdEqq1rhSzBrPVlz4IAxbh++eectLN9/3eGL59EdHHC3rHqUBneUqjvToIkAzX8sBgTv88XMsWMxdsrP2HL0FNZt2AKd2YrEa0excoUPVi2dh2l/bMDtFCNMaTHYsHQexo4Zgwk//4bA4DvQm6zQJ0XirznzcDAsQXTQ6XEhmPP7alyK1cOSdgeb/lmDjYt+xtixozBx8ixsPREKs8UCiz4JJ/zXYOrYMVi04m90qFsNn45W0id9is2ztHu2IfLKv9i0MxDef8/F2LGTcDY0GjdOBmLe1LEYM24MJk6YiX3nwoTSAYsRZ7f9hbXr1mHamLEYPXY8Fm8IQIbRDJvVhNDgIPw5ZQJmL16N0wEbMWfpFkSkcCBhw92Qs5g1YRxGjx2DyT//gasxybA+IgqM1sZFK7w7xeDRSYsmgFZYLCmY1rM1Spd+Hk2GemHZ9L6YuGQnrOGHMbBlT4z+YyQaVnoBHUfMh8EQi4NLJ6H6Gy+jTJnn0Wb8IiHPlI+AxV7oOm8H0k2KjOrDdqD78JmAVYeVQxujYeuuaPhBFZQp8wK+HTgXN+P1sFn0CFw2E7Vffg6lSj2PRn3G4/tW3XEpLutKg7Kfie2THmdWeWFA75545dlS+Kj1NISl6PDn6K4oU/p5lCpbGmXLlscSv6NCZm9s8sLX9T7FgBFD8UaZMnjjo++x6VyMaENS7l5Dx9qV8Wyp0njn274Y2rcv/j5xRxS/1ZiM075eePOVF1DquQpoPekfXIyjiSQnLqSiVDJrilZZ1QpfMrlaVHKlmAClJ8ThdnQsDBYr0hPvIiYhHRajAXGJacgwJCM6PALxKWmKLJjTER4RhYjo6My9B0IhN6QhITldyBkVaaMuEfGpOsBsQGxMLNINFugTYnEnIkKMHYiMfbfVZMCdOxG4HZOA9HtBaF6rCtYcuiHwqLlEObNazUhLjEN6Shoiwm8hNjldUfptJsRERiD8TgQiohJhIQE2C5ivhBQ9TPoU3I0IR0xcopIHWi3YAF1aIkIjI5FmMMOsT0RkbBKsFrtZlEmHuxGRuBUVBZN4RZz3TajUtJWUe3fLqkdpKCk1x54PRUhtCD2yGc898wK+7DIYU0cPR8umNfDSBy0QrzcjYvvPqP7i82jUrhP+WBuE+PjLmNqiOmrW+wrjJ45Dz9Zf4n9ly6Hfov1ICD2KWuVex+Rdt4TAxl4JROnydbH5cjJsMSdR4+XSaNhhIMZPGIVvqpXHfyt8hDPRMdgwtDFKP/M6Wvcegp4dmqL0sy+j0dSt0JvtCgPppTDbbSBPb1mIMmXLoVHnzhg1cT6Cdq7Hi2VfRJPOP2HSuCno07EZnny+BuYdioLNmor1P32A0uXewrBJkzDwx69Q5qky2Hj8Jm5s/w1VyjyLt7/qjCH9OuKFZ59B+U8H48w9PWymJLT+ug76jxyPqV5TMbhvWzTv/JO9MSz5tphaGxet8CVM1IpEdmj+ZzOnInBuHzRuPxSB+/Zi2+ppqP/eCxjwmz8s4XvR5v3yeLdJF6zavhtXLl7EL+0/QuVajfDHP1uxZ48fhrT5HOU/64id15Ox9bcRaOW1Hakmsxhc6K/7onW3sUJpWNq7Jp4u+xbmr/WH9+IReLfsc2jitRP/7l6O1yvWw5QVW3FgfyA2Lx6LNz9qjOsPKA3KngfYjDi5tD8+bdIO2/cdwLmQe4i/FIDJM2dj774D2B+4A2vnjkTdZl2RZrLg2j/DUP7Zp1G75Shs370FvT9/HeUajMDleD3mDOuMFiPmISBwL3Zt+Rs1q1XFn0HRgDEWK0Y0ReWPvsGqjf7Y7rcO4zt+hVpfdUN4ikGsdBaJAnQREVplVSu8i7LlQWvngF4XhW4NP0bpV6tgxMLlGP1jUzQatRExV46idethmDypDV57tjQmLd2NtIizmPdTa7xYuhTKln8d07zP2lcXrQjb9RuGei2098UWXNg8CaPn+sJ8ay/6NHgf7Qb9hFYfV0KZlypgwopjQh65Cnlw/QK8+GwpPFuuDsbNnYkWH9TEisMPrjQIi4KM21g4oAe6dW2J0mUq4qe/9kNvSIb/nKF4tXQZlCpVGq+8/jlmrz8AgzEDK4Y1wmctu2Bgp2/xyrPPokq9FrieqLcrK8kY274JSpV9CW0n/oF5ozqizg+zkKAzIS32PFZO7YrXSpVBmVfewASfM0g1mIUiYrFaFKWkBNYgd8uqR2koYZVIzOBbbfD9YwhqdlmAqHRlRi3y5CrU/Pw7JBssiNo1HW+Vfwn+Z5QZuZCdM/Fe2ZfgfSJMcMOafhMzu9TG6zW643rwMXxU8Q1M30ulwYa4K4F48c0v4Xc9BbbYE/j6y8a4mqSYKdz0GYWXy76G7YeO4IuXXkSzEetF4xR39SAqli2FuhP8sigNbHw46wdY8a//HyhTsyX2RnDWA0i9dwNbj5xGst2kICRoC15+oRyGrbsC2AxYNfhD/DD0dxHXFnsIneu8jLmbgzCrY21U+LgbDkbqYE65hW71yuGVz4ci+J4BhvNr0bxNF4RFRyMyMhpREVfQoWU7Mfh4FDZla21ctMKLwvL8OZUDwgQn6RIGN62MpXuvCBmFLQOBv/fE4DnesIXvRasPyqHn36eE0p8ccRYfPV8Fk/2VWUFh3hN2EN+9XA795wdhy/zRaDtjmxgckFDd9c34oddEwJaORV2q46O205BEmcy4hEENa6DOEF+s/m0ovhi9HSa7LNusKWjfriuuxytmQjLDQsGx8Z0VJ5b2xICfl4p7tgO8gk/sw5ZNK9GnyfsoVeppvPVlW2SYrLi4eiiqvPUBll9OFvGPLOiJCrW74Gx0Anr16IhbiQpOyvDUQV0x73A0jGE70bpSKTz1VCmUKV0GZcpwcPI//O+pV7HvcixgM0uySmSoVVa1wpdIphZapigfioyQBEvKRUxtUxddR/6KA3t2YNGUbihX6inUGrgG0Vf2ocILL+L74bOxbe9BXD17HM2rvoZ6bYdg06492OW3Gl+8/x6+6r8Qd9KMCPOfii4//aLkzGbAqVVD0NtrLcy39uP7KmVQtnozzPfZgbV/TMIzr9TGvGMx0N09jG8bfIt1O/bg4J6tmDH0ezxX6jmsDQoVA3s1mzhmQMZt/N6pDpr3Go29B04iPD4R5/1mo9eg0fAPCMCeXX6Y0aURyrz8Hg6HJWBZj+p44vkKGDhzJfbsP4Dh7Ruj6dRdsJrTsXZ8K3zbdRQO7t0L7yVj8cFrpfF8k7GIvnsTXT97E/Xbj8b6LVvgu2kF2nxcA60mbca9DJPdq9t9HqppLO737pZVj9JQ3GuMI/20AbYCS8Z3w7B/LiudMt2hGUOEyQBXGsJ3TEGV997ByUguXVpxaMEgvPlaM9yI18NiX+a7vMkLb5apjaNHD6Duq6/j58BQMSBJuLYPL1X6Cv6Xk2C7dxydug2CgQbVABIurUWdt2tgy+6dKPfau5i8LVS8t+oj0eHD91B3jG8WpYF20larSSgOZ3x/QZV20xGeZhKmA1yBCD+zF9u2+OGfJTPwXvmyeOLFShjldx2wZGBFv1rwWrpD4LeZIuDV+hP8sSEA3Ru8iUYTtgtabVYDtszshFc/6otzcQaE+E7HK08/hRdKl0WZ0qXEQOLZMu9gT6iy/CmQleA/rY2LVvgSzNpCy5qQvMTz6Pf1O1i+/5oyg24z4tDvPTB0th9sIXvQpk45dP8rSJgEpEScRp3n38ekXSGCZqvNgozbR9C6fDm0n78PW+f9hLbTdiLVpEw2mMK2olXvCYAlHQs710DtjjPFRIAt9QIGNayJOkM3Yfnvw/DZpF12cwC6WE5A+07dcNlhI7RwisBBBKw49Vdn9Ju1XNyTkOTL/qj+Sim88O4nGDhuBqaO7IMPv2mHDLMVV1YOxftvfYpVbHNsJhye3wev1u6O83eT0aNXJ4QnGcVghbOaMwb1wvyguzBc24FvXn4BH37THVMnTsbEiVMwaco0zJj1F0Lvpog9GoVWaG5IWKusaoV3QxYfoSS4Cm4VqwHMdNrx+aj8dhUcvpmk7M3RX8bQxjVRu/dy3Lu4G29XqYm1F5MEf64f8kWld9rjcJRO4OAkwbnlP6Hii59g47VkRO+Yjh4jf1V4aTPi31XD0Xf6BphvBeD7t8uhz+qzot3QRZ/Ae5U+wKzAcETtnoLvB/+WKbumuCNoWvMdrDx084EyoeWDLSMGsztWxRz/oEwauAfq1vFd2Lh6Meq//Tye/d//8NRL7+BwSDSWdKyO6t+Oxe00KvY27Fw5Ax8M9YE19hRa1n0bG4JuKfJuTcK60c1Rvv5IXDizC5X++xSeZd9elv17WTz9vyfx2tttcTw8HWznmPeSeLlbVj1KQwmrRRQMi82GpVP7oOvcIBiFnaANluRzaNqikzBPitwyCe+98x5ORnJW34J//xqDii/Xw9noVPugw4SghUNR8YUvceL0AdSp8DIm+t0Qcx23z/jjuUoNseVqMmx3FaVBL5QGK1LOr0Ldt6rBf+9uvF3hLQxbcU40aqakEDSp4rDmAAAV+UlEQVSp+irqjtsm7C+VjdA2sflRsS+24bTfbFRvMxGhqco5Dud3r0Ct6vXQvkt3eC3dAL/lc/Di8+UxwvsaOJO6us+HmLRspyg9m/42Jrf+GPM2BmDQN+/hoz7Lkai3wGbOwLIhX+HVj/vhfJwet3fOQtMWnXF4334cOLAf+/btxZ7d+3A3VVn6LGFV4YHsaG1ctMI/QJDnhWYOCPE2RmJmu1qYsGy/gs9wC7/2rI2Bc3xgDT+A7+qUR68lh4Qs6uNuoEWF59Fqio/dRMGGywGz8UaZypjuewM75g7DZ8NWIU6vrB6GbZuAZp3GCJlb0Pl91PpxuoCzpv2LQfVr4oPBm7Ft8SS83vwXRKbbZ+9TruLLxt/ihoN5kjBVEOaIVpxY3BX9Z/2l0GszYfvYVmjf1wtnwqPEu8Rj/6B+s/ZCabi0ZhiqVP4Qa89yhcCAA4u6oELNLjgXm4L+7VtiyzWuQHB8kYGePzTAIponJZ3BgI9fQf3hKzNtsWFMQuidO9AbjcqKjAJVIv+1yqpW+BLJ1ELLFAe7irJNElKOLkDldyrj2E1FMbAZbmBYs1r4oOcK3L0YgHfffR8rghMEtdcOeOON97ogKNq+b8FixbkVI1C57MdYfjEZUTumo+fIX+3rGFZcWDsc/aathz5sD1q9XQFDVyhKQ0b0GdSu+D6mB4YjYscYtBy+QCgAbH/MCYfRqua7WJmdeZIQyyj81q4KfrUrDbAYcHLtcFR57mm8UvlDTJg1E4M7fCrMjfeG3MPiju+jVoupuJnCPVE27F7uhfd/2iQsG1rXfQ2bjt8Rq5o0U9489ju8/uVEnD+6E68/+yraDx6NyZMmY/KEyZjs9QvmLfAW+64s9n2UhVaELkzY3bLqURpcWJiFgZpCzIH4+R1/o3SpNzBgzj/w816DoW0/QJlazZCoNyNq61RUeetdnIigBg4YooMw8MvX0KTTEPhv24r5U7vjhWeewtfDVyEt7gYavfMcyn3SBcs2bcSwTo1R5vXG2HYtRSgNHboOVhQTNmbnV+Cj1ytj14UwrOz1IZ555VNMXvgPFs8YhKf/Wwb1vXaIDpwzjlxlEHsaLIrt9Bnf2Xjvh1EITTULxWXfsml45d3mWOq7Azu3bcEPn7+PJ0u9gv4brwj76n961caE5cpKg9V4E5Na1MZc/zM4vWIUKjxVGvUH/4Gl8ybh6ccfR+mvBiE41gCk3cDnH72DUfPXwd/fHz7rFqFJq052Ey7Pnobc6qu7G6fc6PF8pxcgxZlAdPAWNPuiIX5s9yNaNf4C71R8AQPm+cMaug/ffVAeXf8+ItwdW81GnPGfi7YNPsTnTb7DD61boNZHn6PnjLWITDXh6tENeKPCW6jf9Ad07tINvbp+iwadx4t9RIs61kCdNl5INVpgS/kXA76sjtp9liE+Mhidv/4Sn37xLdq3b4/OPTqj1qff46LDSgMPeRTmCrDizKLu6COUBmUwFOzzOz6r9yk6deyMts2/wid16qByvZaI11lwefVAVH29LlYHxwMwY/+8rqjwfiecjMrAwY1/oEaNz9C6bTu0/q4RXnvrPfx5OArcN3E5cDl+aFgNDZt9j/Y/tkWTRl+j04g/Ea+j0uDZCJ2T/HhkPSfuFNY3pY/SX/fDF5VexfrDNDEE0q5vQf0qL6Jm/xWIvhyAt96rhvX/xooB992zu/Fa2SqYt++mohhYDVg++Bu8WrkNjsUYELl9Olr2Hivw2MwpWDXqM/SYuV7saWhZuRwGrjotVhDTIk+gVqUa8Np5C8n/LsU3P45QVjkARB/+A9UqPI9VQbQsyNqPchLTpovAr52qYY4PVxps0KdeweAPK6Jmiwn4N+SOkNWgn7vghefewsGb9/Bnx+qo9t0YXE9WzBt3rZiKOoO8AX0IBjWojF82HFfoTb6I0a3exouNx+H21SOo8Up5TAmgdYVyGRIjEBaVBLPZAivHGSX0DAl3y6pHaZA1rISEFFIOyi36ePzctTFK/ee/ePI/T6FStU9Qo3EnJIiN0JNR/c0qOHEnTXgdoDAlXduNL6qVx2OP/wfPlH4eLYfPx/moVNgsBuxdMgyvl3oa//fYf9C0bRtUePMb+F5LgTX6KDp2G5A5k5d6YS3qvl4bgcExSA49iJGtv8Sz/3kC73zcAE1r1ELD0evtqwvKITDCraN92fCUzxxUazset9KUZcTEm0H4uspzgp4nHvsPqn1cH1XKVUTjybtgNemxqveHmPj3dlFqNuMtTGr9MX7zPgGbMRabvfqi4n+fQpnSL+KrL6rj+c8H4mS0XsT1XzQCTzz+BP7z+JN48omnMHquX4mfdZRVW2vjohVe0uEJnccBsWpnMSIuOgI3gy8gcN8BnD9zAn+N+AbDF28HDEn490gALkYkKWemWMyis7eaYnH88HZsCwjAtXjFwwoVeZvVjIjgM9ixcwv2nrqOZF0cLl66IfYARF04gqPnw2A0m2A1peP6ySM4ejUGZp69YkrEhf27sW3XLvx7JxmXL11UNiGqsyoUHCoOFiRHBONSWASsFtobK6saV84cwK49u7Bz7yHcStQh+NxZZBgsSIu+iCOHjuNOqrKBOfH2eQQGXUSq3oR79yJx68wp7N+7D4ePncWgrq2wJpgzsIq7VhiTcWDPTmzfuRcnw5TZVyovYtJCTVsJu9cqq1rhSxg7i0h2FPMamzEGS3o1RL2WvbFj83L0aV4D/+//HscHwzfg7qUdqFSlKlafp4LNVYAwdP+wPEq9URczV23AmoXT8cz/nsU3UzchyWCB7rIPqlf7FKt9vbFm/mh8Wq4sus7aCMOtPWj95svovfKksA7QRZxCjQrVMWlbKGzGCLT45AP8smQjtvusRv/Wn+KZp1/EmqCwB02AaBKkD8ev7d7Drz70hgaY065i6Mevo3ztdti0dRt+HtkGrzzxJP5b9k3suxaNxR2r4/0WIzKVht3LJ6N2343CacrBuT1Q87O28N+yHtMHfoUnH38cz7eYirikWAxoXAlPv1oDE5ZshM+GZfj+o9fQcPhKxGfQeoHjiqwKjSCmBPy5W1Y9SkMJqDRZskDzJKsFKYmxiAgLxdn9AQjcH4TLJwPQrF0vsRFaH3MNhw8dQZreKDRwxufk//VLJ7Bz+zbsPXQC8XYf7MI9qjkZ544GYsfOXbgVHYFDh07hXoYFNkMSLgRfgslCL0g2mFIjcfzAUcSmKQN0Y2wIgvb44d9Lobjy70GcuB4Hs4X2x5zlUzZBswPnPoqke2E4dOGmcPNKt2t00xYRfBg7d+/E9l3bcPVWJK4cP4Kgy3dgtphx98oR3IyIVWY7LAbcPH8IIXcTkRB5C1GRMbhy+ACOHAnCnwO/xotNR+JKgpKuSZeIwD3bsGvHDuzccxRxGUbhorak2juq64bWxkUrvJoWz71zOCAMF0wJWDGiGdr2mYgtu/2xat5IvFemLJbuOZ8lEaWOq7yXZflqf8iD3S87X7YXmVceYDLjirMV7nfeYiaS57bcj5D1Lgtuh1g2E8Z2+x5Dfl+Dbbu2w2/9n/jowwZihUOhUTlrIgtC+8oMVzlL8qVVVrXCl2TeFnbeuFoYH3UdcyaOROduveE1cRTq13oLn/y0CYkRlzB85FgcvpMmTmfmCe3p965hy7Kp6NypM7r06I11gWfFaptY+TOnYdOf09G2fReM/X0Vdvouxmr/YzDGBuP34f2x6tBt0LRHlxCKCUPGwfvUXaEYXDy4DT06dULHnoOx2mcT5kwcg0M3YrNVGqzGBGz/cxS2neSeK05MWBB/7QB+G90J7Tt2RPehE7HRZwPGDh2GE1fvYu+i8ZgwewPidNzfaMP5A/6YvOwQTBYTUpOjsHzWFHTq0g0jx05Gr+9q4JUWXsKCIu3uVfj/PR0dO3REp869MXP1PtyJz4DVynEOxxQlU+bdLasepaGwWwBnp29fafh3x3LUrf0JvmvfCW07tMW3X9fH2IWbsnb27MBF+sohSY6kZH5z/ODwzHjqQbe4f0inrMSTwqv4UBbwWXBmT4+Mcj8tO/32tDhjue+v0aj3fi1807o9Wrdqjk+++hELdgWLg6KyHSgIWEmPTKFkhlobF63wJZOrhZsrRRasuHvKH++XL43H/u9xPP3Mc2g8Zgli0o2ZmycLl0rXpM6Jir0rf0bp/z6J//fY43j8iSfx05/+oi1SvLK5Jt3igFWrrGqFLw48Kq40mmKOo9vnb2Cw13xs2+aL6X2b4dnnXsf0Pcq+w/v5UjZPZ9e7yT46u2+Ed3x/v89VvmZ9VlIkjCMcv9wfq9sPjBSu1rOLqeBR/zMdOdinw5OZXT9DpyFTsHX7diybNQgVnyqNLgt3CwsGZTIyC7SgR9D1kPGIOnZxvXe3rHqUhuJaUx5GtzjoSZnFv30xCLt3bseuPTtw5PRNYUZwX4AfhqD4vuchV/S6dC/0LAIC92DPvoNI0CmbM/ntUb+0Ni5a4R91/rsk/xYe5Eh7XRuCzxzF7oA9CDx8DLE65Z1L0iwiSDmYMBtScGzvbuzaE4iAfXuQxNnJR8D8KLci0CqrWuFzo8/zveAcsJl1CFo1CeWe/R/+89hjeLpibYxeFSROgi95yjJXRrk6wQlGE24E/I3KLz6Lxx97DE+VeRHtZqxHSII+c29XwblafCHdLasepaH41pXsKadGTXMjy4N+yGmvXJIvDiIcG03xjnbcwod83mY3SiqPtDYuWuFLKl8LNV82qzAfUJbfFdMj7hmQ9T7b1bVCJdh5idN0ku2c2Fxtn5EUJhd8Z6EJ5KN7aZVVrfCPLufdlHOrDqeCArHr/2/vbnqjrKIAjm9M6gfohqUkssCuJCER+RryCQQXssDgSv0AtlBJJSlVlpLIDoiEl0U3xkCoSWNSN4oxAdKoiVYkIKUvuebczh2eaWfkds7Ty7mn/0km8/acZ8793XvuPHde2ps3wncLv278ueMBr/uFMtqZp+l8nTC+fsdPC9bDD3e+Ddev3wizt+fj163j75fW/b9JMgi4dK2yaBjUE5Xenw6c44tp/GGj/CdEWURsXPb7WLHSpm5JW96RiAdP8aBBFgor3dvx3UfHH1Fuwehzh3Zy0cb3SYm7hhCQGu6p487tdflBchzju3hx/IIal/mh6ZduD9ENpkO0taqNN41TeXLx9zqdPyG6cX0thLXVsCbf2+/zZmHNzZVvCMSvHcmPmOW3VJ36jb+1lHkv/qdneZMgvTFYc2uHy710rbJoGK6fTEfF7/B1vl/4/OBiNxxIbG7j5tu93ZYOHp4bbfw2o3m7N6LuW9rJRRtft56N7GVsygunnNL4TddtZGg3C/FaW33+aWvyS552M99+Ztpa1cZvP2MiXiQg47X/adD9/beu796c9qXfZ/a2LpmlWk+XafHRu3Wdt0rXKouGOsfJwKxTUTQvB268ix9IPs+erYSFhR/Dn38tdQ/C0mPeeLSTizbem6el9ngds20by6Jhdna2u/CS/Yudt5O2VrXx3jxfZnvkANfjwnanTaWu5fVdTml+TIuFdLnTOZTYf+laZdFQold5DtMCX124EN4+fDh8Oj4e/nn0yHSumuS0k4s2XpM7sb0C6UXwt9//CN/PzYW5O3c4Zxp89MnH4c0DB8KHJ0+Gy1euhIcPO/9Rupe46lvaWtXGV41nMPlU7+nSYIrmUhKrpaW/w8WvL26pcU+OpWuVRYO5oa5LaHVlJb6TNj09HabPTYdzM+fipVzn3DDo+IjJ6dOnw969r4WRkVfDO0eOhJ9+3vhPm7qesBetnVy08fZE6s5IXvhu3b4Vx6+M4VOcBxqIz8TEqTA5ORlOfHAivDIyEs9jY2Pxk8a6R8LW7LW1qo3fmhH3aASk1jkNJ/Dl+fPh3aNHw/0HD7qfKrJoGM5Solg0DG9nMlIWDd9cvRpfIDmI+P8DKTmQSAdbBw8ejAcRr+/bF+bn5032rTYp7YGANl6bP/G9AhxI9Hrk3pI3Cva/sT98duZMuHv3l+6BRG58Ddtpa1UbX4NRLTlKncvXadJru4zbqakpzhkGn589G8YnJsLo6GjYs2dPOH78/e6bgl7mz9K1yqKhlpkjM8+0gvZSEJnN3vZmyUm+4yxfTzr23rEwM/NFWFxcdHkQIUDayUUbv+1OImCgQKrvNI4HbsgDUSB5ycGXvPN47/69rkx6rHuHgyvaWtXGOyA004RU4x7HaQnka9euh7cOHQqXLl+Kv12U55R5QM4eTqVrlUWDh1HTpw1pgkmXfTbZ9XeJjbx78+Tfpz0Wcr9HN+3koo3vQebG0AJpbKZL2ZHXMTs00qbA5CP1vry83H1UDhyajt0HKr+irVVtfOV8ptJPYzddmkrOeDLyeyX5WqL87qt58mRZulZZNDRHkrPrHl8M2+6iplFzImne3/Zzvqz9aScXbfzLajfPi8BuE9DWqjZ+t3mXaK/H16Sddnu6vBweP34Sn2bz67sXz9K1yqJhp0ct+0fAiIB2ctHGG2EgDQTcC2hrVRvvHrhwA9MBbvPAt3AKVT9d061pWXWjOsmXrlUWDR5GDW1AIENAO7lo4zNSZBMEEGhBQFur2vgWmsAuEEAgQ6B0rbJoyOgUNkHAg4B2ctHGezCkDQjUIKCtVW18DUbkiIAHgdK1yqLBw6ihDQhkCGgnF218RopsggACLQhoa1Ub30IT2AUCCGQIlK5VFg0ZncImCHgQ0E4u2ngPhrQBgRoEtLWqja/BiBwR8CBQulZZNHgYNbQBgQwB7eSijc9IkU0QQKAFAW2tauNbaAK7QACBDIHStcqiIaNT2AQBDwLayUUb78GQNiBQg4C2VrXxNRiRIwIeBErXKosGD6OGNiCQIaCdXLTxGSmyCQIItCCgrVVtfAtNYBcIIJAhULpWWTRkdAqbIOBBQDu5aOM9GNIGBGoQ0NaqNr4GI3JEwINA6Vpl0eBh1NAGBDIEtJOLNj4jRTZBAIEWBLS1qo1voQnsAgEEMgRK1yqLhoxOYRMEPAhoJxdtvAdD2oBADQLaWtXG12BEjgh4EChdqywaPIwa2oBAhoB2ctHGZ6TIJggg0IKAtla18S00gV0ggECGQOlabWXRIElzxoAxYH8MZMxBAzehf+33L31EH6UxMLCQMx5I++CS8cQYsD8GMkq6tU3Ui4bWMmFHCCCAAAIIIIAAAgggYFKARYPJbiEpBBBAAAEEEEAAAQTsCLBosNMXZIIAAggggAACCCCAgEkBFg0mu4WkEEAAAQQQQAABBBCwI8CiwU5fkAkCCCCAAAIIIIAAAiYFWDSY7BaSQgABBBBAAAEEEEDAjgCLBjt9QSYIIIAAAggggAACCJgUYNFgsltICgEEEEAAAQQQQAABOwIsGuz0BZkggAACCCCAAAIIIGBSgEWDyW4hKQQQQAABBBBAAAEE7AiwaLDTF2SCAAIIIIAAAggggIBJARYNJruFpBBAAAEEEEAAAQQQsCPAosFOX5AJAggggAACCCCAAAImBVg0mOwWkkIAAQQQQAABBBBAwI7Afx+whVbplpKVAAAAAElFTkSuQmCC)"
   ]
  },
  {
   "cell_type": "markdown",
   "metadata": {
    "id": "Sf2LO7rVg09W"
   },
   "source": [
    "First, let's look at a hillshade and a relevent DEM to see what is actually happening on the ground. Then we will compare it to an uncorrected image to see what these errors look like."
   ]
  },
  {
   "cell_type": "code",
   "execution_count": 17,
   "metadata": {
    "colab": {
     "base_uri": "https://localhost:8080/",
     "height": 17
    },
    "id": "42rmwkeGjlFI",
    "outputId": "43d5fd02-e20a-45fd-c9d5-5e82717e56b6"
   },
   "outputs": [
    {
     "data": {
      "text/html": [
       "\n",
       "            <style>\n",
       "                .geemap-dark {\n",
       "                    --jp-widgets-color: white;\n",
       "                    --jp-widgets-label-color: white;\n",
       "                    --jp-ui-font-color1: white;\n",
       "                    --jp-layout-color2: #454545;\n",
       "                    background-color: #383838;\n",
       "                }\n",
       "\n",
       "                .geemap-dark .jupyter-button {\n",
       "                    --jp-layout-color3: #383838;\n",
       "                }\n",
       "\n",
       "                .geemap-colab {\n",
       "                    background-color: var(--colab-primary-surface-color, white);\n",
       "                }\n",
       "\n",
       "                .geemap-colab .jupyter-button {\n",
       "                    --jp-layout-color3: var(--colab-primary-surface-color, white);\n",
       "                }\n",
       "            </style>\n",
       "            "
      ],
      "text/plain": [
       "<IPython.core.display.HTML object>"
      ]
     },
     "metadata": {},
     "output_type": "display_data"
    }
   ],
   "source": [
    "# A script for visualizing a hillshade based on\n",
    "# the Arctic DEM to help demonstrate the effects of layover, foreshortenting, and shadow\n",
    "# https://developers.google.com/earth-engine/datasets/catalog/UMN_PGC_ArcticDEM_V3_2m_mosaic\n",
    "\n",
    "kask_DEM = ee.Image('UMN/PGC/ArcticDEM/V3/2m_mosaic')\n",
    "\n",
    "# Hillshade for better visualization\n",
    "exaggeration = 50\n",
    "azimuth = 60\n",
    "hillshade = ee.Terrain.hillshade(kask_DEM.multiply(exaggeration))\n"
   ]
  },
  {
   "cell_type": "code",
   "execution_count": 18,
   "metadata": {
    "colab": {
     "base_uri": "https://localhost:8080/",
     "height": 621,
     "referenced_widgets": [
      "a76de387607240de9144afaab35e472e",
      "82877c0ae6af4140bb07596ae3952b22",
      "249e88ac263843e4ae162feb6b68e8d1",
      "7545fe4bf06744aaaf3c7db06615cd7c",
      "13c9c6cad8df4f5daf37f111a8dc7c03",
      "b08a5bf9ffe1455f8f44728dafa56aa1",
      "15a684d8a0a84cd981c34287f5af6076",
      "5ea607b420844fa2880a9709e980e0b0",
      "56ff102419344dffb9b9b566f922b975",
      "73097dd50f774e349db75fa1d59b08af",
      "72b35220196047a584fb85466016ccb8",
      "67089de93f6e492f92997e51b121a972",
      "5b9902ac7a5f4cb599f19c55f644ea4d",
      "64e7953d488e43cea31c837f6be81439",
      "6170c6060c4c4052b5ecad8ccfa764f4",
      "c49b655204614383b2286fbc74601a4c",
      "655df6ee1c364ea0a76abb7317f530ec",
      "8c6fb9382eab42339b24839102b2894f",
      "56dccc83bbc14ecfad634ebdcd8d76e9",
      "cec2fe2683c54c6395567b53b90653e5",
      "eb7f56d6cc924eb6a3a436f570806926",
      "8ab876980e804685a6bdcccf95b984ee",
      "bff41ccc572c402b84c5a9af25c7179c",
      "e9ff81b278184d3ca138ac8e031f4c69",
      "b008ddfb68db4d729a9ccfc5b6548996",
      "ea1d4a3f77e546b291949d1dcdcd052e"
     ]
    },
    "id": "CKe-_4kReosm",
    "outputId": "7cdf4fb9-0a68-4a5b-d545-dfb114356aae"
   },
   "outputs": [
    {
     "data": {
      "text/html": [
       "\n",
       "            <style>\n",
       "                .geemap-dark {\n",
       "                    --jp-widgets-color: white;\n",
       "                    --jp-widgets-label-color: white;\n",
       "                    --jp-ui-font-color1: white;\n",
       "                    --jp-layout-color2: #454545;\n",
       "                    background-color: #383838;\n",
       "                }\n",
       "\n",
       "                .geemap-dark .jupyter-button {\n",
       "                    --jp-layout-color3: #383838;\n",
       "                }\n",
       "\n",
       "                .geemap-colab {\n",
       "                    background-color: var(--colab-primary-surface-color, white);\n",
       "                }\n",
       "\n",
       "                .geemap-colab .jupyter-button {\n",
       "                    --jp-layout-color3: var(--colab-primary-surface-color, white);\n",
       "                }\n",
       "            </style>\n",
       "            "
      ],
      "text/plain": [
       "<IPython.core.display.HTML object>"
      ]
     },
     "metadata": {},
     "output_type": "display_data"
    },
    {
     "data": {
      "application/vnd.jupyter.widget-view+json": {
       "model_id": "39c9521e8f614fc29500379c30951fb6",
       "version_major": 2,
       "version_minor": 0
      },
      "text/plain": [
       "Map(center=[60.75507900000001, -139.013173], controls=(WidgetControl(options=['position', 'transparent_bg'], w…"
      ]
     },
     "execution_count": 18,
     "metadata": {},
     "output_type": "execute_result"
    }
   ],
   "source": [
    "# Display image on map with the S1 image underneath and a DEM overlain\n",
    "Map = geemap.Map()\n",
    "\n",
    "DEM_vis = {\n",
    "  'bands': ['elevation'],\n",
    "  'min': 0,\n",
    "  'max' : 5000,\n",
    "  'palette': ['0000ff', '00ffff', 'ff0000' ]\n",
    "}\n",
    "\n",
    "#, 'fbff00', '8D33FF', '33FF4F', 'DDFF33', 'A233FF', '33C4FF'\n",
    "HS_vis = {\n",
    "  'bands': ['hillshade'],\n",
    "  'palette': ['fbff00', '00ffff', 'ff0000' ]\n",
    "}\n",
    "\n",
    "Map.centerObject(kask_gl, 13)\n",
    "Map.addLayer(hillshade, HS_vis, 'Arctic_DEM Hillshade')\n",
    "Map.addLayer(kask_DEM, DEM_vis, 'kask_DEM', opacity = 0.5)\n",
    "\n",
    "Map\n"
   ]
  },
  {
   "cell_type": "code",
   "execution_count": 19,
   "metadata": {
    "colab": {
     "base_uri": "https://localhost:8080/",
     "height": 17
    },
    "id": "e_QgKZrhGNWH",
    "outputId": "a884b35e-de00-48e3-b0c1-79e1e727e6d1"
   },
   "outputs": [
    {
     "data": {
      "text/html": [
       "\n",
       "            <style>\n",
       "                .geemap-dark {\n",
       "                    --jp-widgets-color: white;\n",
       "                    --jp-widgets-label-color: white;\n",
       "                    --jp-ui-font-color1: white;\n",
       "                    --jp-layout-color2: #454545;\n",
       "                    background-color: #383838;\n",
       "                }\n",
       "\n",
       "                .geemap-dark .jupyter-button {\n",
       "                    --jp-layout-color3: #383838;\n",
       "                }\n",
       "\n",
       "                .geemap-colab {\n",
       "                    background-color: var(--colab-primary-surface-color, white);\n",
       "                }\n",
       "\n",
       "                .geemap-colab .jupyter-button {\n",
       "                    --jp-layout-color3: var(--colab-primary-surface-color, white);\n",
       "                }\n",
       "            </style>\n",
       "            "
      ],
      "text/plain": [
       "<IPython.core.display.HTML object>"
      ]
     },
     "metadata": {},
     "output_type": "display_data"
    }
   ],
   "source": [
    "# Filter the collection by date and location for a summer image\n",
    "s1_img_VV_summer = s1_col_D.filterBounds(kask_gl)\\\n",
    "                  .filterDate('2019-04-01', '2020-08-01')\\\n",
    "                  .first() # Choose first image in collection"
   ]
  },
  {
   "cell_type": "code",
   "execution_count": 20,
   "metadata": {
    "colab": {
     "base_uri": "https://localhost:8080/",
     "height": 621,
     "referenced_widgets": [
      "2a0410d130244212ac0403ded4e93f7d",
      "a441ef01da6b4ab18b9d667ecf93d0ab",
      "faaf87a5b84b41eca56aff6073d6f0a1",
      "8e94f894ed3049428ca972afb2d9d77f",
      "e5e41d69663345a5b7bbb1b3b4d46ef8",
      "ba024b4cd938463c96a13068523d436d",
      "f54f2d873476409d90255801ebce766d",
      "c28715d0398f48188e6c75941af12a8b",
      "fef5c276e3f849529f1c1ce36499302a",
      "fb87ecc1669f4710848ad24f712e1b12",
      "a6ebe1a19dc145289362eb1c21659796",
      "2278af2cfca547ce9f560bae25d11240",
      "1e4f46f0d55e48babadd730a536f2481",
      "6ceb1df3a13e441e9d57ad4a5fd974e6",
      "65c62ab543954324813f9d1ab8e13b59",
      "4d709e84d65c4b13b221ddc40ffc06cf",
      "9e694ef9d3cc4b15ae49c85cd95ed27a",
      "2332d4ee01764ca8813e0d22f9b41547",
      "1bdc9f38cee240e4b7450cf7890c82a4",
      "09873d624c8e48c287d89d62c1c6f724",
      "ec3a4440229b414886b5c06e6e7f226e",
      "021f90dc19fc4b07bb9eaec877598271",
      "23cad0a5e789436086f843598ac7d217",
      "e0ad468eaa1b46ad8b8518118094ca1d",
      "1e26a8ebc10b448b92b92c6e7cf06a77",
      "9a90ce8006ff4b76a288960627eff35e"
     ]
    },
    "id": "QpzBqIzw2Cc2",
    "outputId": "d9d110b9-4e42-4edd-9121-eee1431bb8cb"
   },
   "outputs": [
    {
     "data": {
      "text/html": [
       "\n",
       "            <style>\n",
       "                .geemap-dark {\n",
       "                    --jp-widgets-color: white;\n",
       "                    --jp-widgets-label-color: white;\n",
       "                    --jp-ui-font-color1: white;\n",
       "                    --jp-layout-color2: #454545;\n",
       "                    background-color: #383838;\n",
       "                }\n",
       "\n",
       "                .geemap-dark .jupyter-button {\n",
       "                    --jp-layout-color3: #383838;\n",
       "                }\n",
       "\n",
       "                .geemap-colab {\n",
       "                    background-color: var(--colab-primary-surface-color, white);\n",
       "                }\n",
       "\n",
       "                .geemap-colab .jupyter-button {\n",
       "                    --jp-layout-color3: var(--colab-primary-surface-color, white);\n",
       "                }\n",
       "            </style>\n",
       "            "
      ],
      "text/plain": [
       "<IPython.core.display.HTML object>"
      ]
     },
     "metadata": {},
     "output_type": "display_data"
    },
    {
     "data": {
      "application/vnd.jupyter.widget-view+json": {
       "model_id": "e600b3ec57d04728aaa64ecb117f2176",
       "version_major": 2,
       "version_minor": 0
      },
      "text/plain": [
       "Map(center=[60.75507900000001, -139.013173], controls=(WidgetControl(options=['position', 'transparent_bg'], w…"
      ]
     },
     "execution_count": 20,
     "metadata": {},
     "output_type": "execute_result"
    }
   ],
   "source": [
    "# Compare an uncorrected S1 image to the hillshade based on the Arctic DEM\n",
    "Map = geemap.Map()\n",
    "\n",
    "HS_vis = {\n",
    "  'bands': ['hillshade'],\n",
    "  'palette': ['fbff00', '00ffff', 'ff0000' ]\n",
    "}\n",
    "\n",
    "Map.addLayer(s1_img_VV_summer, {'bands': ['VV','VV','VV'], 'min': -20,'max': 0},'S1-image_VV')\n",
    "Map.addLayer(hillshade, HS_vis, 'Arctic_DEM Hillshade', opacity = 0.5)\n",
    "Map.centerObject(kask_gl, 13)\n",
    "\n",
    "Map\n"
   ]
  },
  {
   "cell_type": "markdown",
   "metadata": {
    "id": "-KaHkpsLXoRu"
   },
   "source": [
    "If we take a closer look at some of these areas, you will notice mis-matches between the hillshade (colour) and the underlying S1 image (gray scale). In the map below we zoom into a ridge where some mismatch is happening. By flipping between the hillshade and S1 image you can see that the ridgeline does not quite match up between the two layers."
   ]
  },
  {
   "cell_type": "code",
   "execution_count": 21,
   "metadata": {
    "colab": {
     "base_uri": "https://localhost:8080/",
     "height": 621,
     "referenced_widgets": [
      "0b87acdb9e534d3faa7178a502c9ccdb",
      "117b185d4da24551bcc90d4335d29298",
      "c08e06e74c28479e8081f7d669a91bab",
      "9eeb3939dae04b4f9bec9c5d3dc7f4f5",
      "c475fd15c364423ea2f872166914315c",
      "f7083db33a0146739536a6dd7e799f76",
      "696af567870b4dd9a3aefff6853de580",
      "7be07322cb38462ea1f6b188634622fc",
      "56e004fcb95b4001ba08f0425e06751d",
      "0de052c4da8a479f934aac323e17db89",
      "c79db3a3131f45bc8b6b1cd4018c3752",
      "f7c71e8e94aa4203899753af8cde3382",
      "f3764076cdc24ea6b32100b008adf73c",
      "d185a56237c84884897cde5196bc85e9",
      "c3c11d074c8348bcb99639e3c2f08636",
      "9fc197f868e6436fb7df24bbc21739ce",
      "e0a9b25788134c15b0b72d6e71b3872c",
      "9b9970bd1fb54faca6b8bef4d24f9254",
      "685f05502ed2429e825eb70c20b92d32",
      "684784d676814ac5bfc1ac15243c0f01",
      "0d7111d51ad5406988a63d93fdd7f917",
      "b9a406a968b0443e9fa89a756ac8cbb9",
      "0ad5de52404744e5bea758a08a8b794e",
      "289120ab18c34b2fb428905c12f62285",
      "9ad1915b152d422385b28d17ea56ecfe",
      "6acdde6258424830972d6a1b41bc75f3",
      "f3351de5d74f4f168678fd0305a004e1",
      "f4658009c55d438eb267122acc738687"
     ]
    },
    "id": "4ZBDQQaO0ssR",
    "outputId": "8303b113-5a69-4acb-d467-48e84f44ea53"
   },
   "outputs": [
    {
     "data": {
      "text/html": [
       "\n",
       "            <style>\n",
       "                .geemap-dark {\n",
       "                    --jp-widgets-color: white;\n",
       "                    --jp-widgets-label-color: white;\n",
       "                    --jp-ui-font-color1: white;\n",
       "                    --jp-layout-color2: #454545;\n",
       "                    background-color: #383838;\n",
       "                }\n",
       "\n",
       "                .geemap-dark .jupyter-button {\n",
       "                    --jp-layout-color3: #383838;\n",
       "                }\n",
       "\n",
       "                .geemap-colab {\n",
       "                    background-color: var(--colab-primary-surface-color, white);\n",
       "                }\n",
       "\n",
       "                .geemap-colab .jupyter-button {\n",
       "                    --jp-layout-color3: var(--colab-primary-surface-color, white);\n",
       "                }\n",
       "            </style>\n",
       "            "
      ],
      "text/plain": [
       "<IPython.core.display.HTML object>"
      ]
     },
     "metadata": {},
     "output_type": "display_data"
    },
    {
     "data": {
      "application/vnd.jupyter.widget-view+json": {
       "model_id": "d303376d740646aca3de3d1da04b697a",
       "version_major": 2,
       "version_minor": 0
      },
      "text/plain": [
       "Map(center=[60.7944, -139.0544], controls=(WidgetControl(options=['position', 'transparent_bg'], widget=Search…"
      ]
     },
     "execution_count": 21,
     "metadata": {},
     "output_type": "execute_result"
    }
   ],
   "source": [
    "Map = geemap.Map()\n",
    "\n",
    "mismatch = ee.Geometry.Point(-139.0544,60.7944)\n",
    "\n",
    "HS_vis = {\n",
    "  'bands': ['hillshade'],\n",
    "  'palette': ['fbff00', '00ffff', 'ff0000' ]\n",
    "}\n",
    "\n",
    "Map.addLayer(s1_img_VV_summer, {'bands': ['VV','VV','VV'], 'min': -20,'max': 0},'S1-image_VV')\n",
    "Map.addLayer(hillshade, HS_vis, 'Arctic_DEM Hillshade', opacity = 0.5)\n",
    "Map.addLayer(mismatch, {},'Mismatched Ridge')\n",
    "\n",
    "Map.addLayerControl()\n",
    "Map.centerObject(mismatch, 14)\n",
    "Map"
   ]
  },
  {
   "cell_type": "markdown",
   "metadata": {
    "id": "-BGP2uvKYQc3"
   },
   "source": [
    "The function used here (adapted from an implementation by Andreas Vollrath (ESA)) produces masks of areas of shadow and layover using the Arctic DEM as a base. Run the code below, then turn off the various layers to see the areas of layover and shadow are identified in this region."
   ]
  },
  {
   "cell_type": "code",
   "execution_count": 23,
   "metadata": {
    "colab": {
     "base_uri": "https://localhost:8080/",
     "height": 621,
     "referenced_widgets": [
      "56c2ca77d0524b2d9c4bd87101ceba50",
      "6f50e937961a43ffb5fb20a39ac08238",
      "dec269c0e2f84e25a7d19b393c2c2911",
      "73c2f78b81d54569834723b02aece41c",
      "81760eb10aba4fde881dae98368ea346",
      "dc284812c26048ff8fb198ced7c96208",
      "3fff9d271a744f41845b0ab763257520",
      "4e84a7173d1d46c1bd03382490a5b630",
      "dd44a70b005c4f75b2d811911e9fbf8d",
      "79775748c3c445488dada9042bf8e5e0",
      "2c814e2279e941e99f3f2f12679fcbb4",
      "71208e4e7ecb4678aa1be4508f3df78e",
      "6f48a3e66b644108b056eaa44fb20a84",
      "4d59f457e0e341fdbfe2dd977ecd7ac9",
      "1abca052ed834eb4ab662f69158b5ddc",
      "1dd3e09cca874e3094ca4d81ef032b62",
      "e418611cf9814ef097e9ad70982d4271",
      "d2fc08493a9f4605b1f81314bc459300",
      "cdf1dd20a39f4b27b83b0d905db6e28f",
      "a9c1366f1bad49daa307e2e0446bd0ac",
      "65922bc1661b4b08b8144f58d0420b74",
      "4e0b4506931b4057810f4102d5282c33",
      "43778d747ddc4bbba3d63cac1b80aae6",
      "fdad499bdb8f4ed483cfb789bf428745",
      "44076758ea5c465bac72d8e1b94cc3ab",
      "c7a402e4dba74d838bd747b45451ae06",
      "e16e40739ca84ddfb1d9feced8b6de0e",
      "97edea645b1d4e67ad4f10f83b11b72f",
      "dfd91a53325947b5a6d51d756a5be804"
     ]
    },
    "id": "w5Rhz7YAKnF_",
    "outputId": "d49e270e-1e4c-4f4c-f217-4d03e367d667"
   },
   "outputs": [
    {
     "data": {
      "text/html": [
       "\n",
       "            <style>\n",
       "                .geemap-dark {\n",
       "                    --jp-widgets-color: white;\n",
       "                    --jp-widgets-label-color: white;\n",
       "                    --jp-ui-font-color1: white;\n",
       "                    --jp-layout-color2: #454545;\n",
       "                    background-color: #383838;\n",
       "                }\n",
       "\n",
       "                .geemap-dark .jupyter-button {\n",
       "                    --jp-layout-color3: #383838;\n",
       "                }\n",
       "\n",
       "                .geemap-colab {\n",
       "                    background-color: var(--colab-primary-surface-color, white);\n",
       "                }\n",
       "\n",
       "                .geemap-colab .jupyter-button {\n",
       "                    --jp-layout-color3: var(--colab-primary-surface-color, white);\n",
       "                }\n",
       "            </style>\n",
       "            "
      ],
      "text/plain": [
       "<IPython.core.display.HTML object>"
      ]
     },
     "metadata": {},
     "output_type": "display_data"
    },
    {
     "data": {
      "application/vnd.jupyter.widget-view+json": {
       "model_id": "19179d09d33c4247b969aa6ac666fa25",
       "version_major": 2,
       "version_minor": 0
      },
      "text/plain": [
       "Map(center=[60.75507900000001, -139.013173], controls=(WidgetControl(options=['position', 'transparent_bg'], w…"
      ]
     },
     "execution_count": 23,
     "metadata": {},
     "output_type": "execute_result"
    }
   ],
   "source": [
    "Map = geemap.Map()\n",
    "\n",
    "# Set a point on the Kaskawulsh Glacier (mid-glacier) for filtering purposes\n",
    "kask_gl = ee.Geometry.Point(-139.013173, 60.755079)\n",
    "\n",
    "# import sentinel 1 and filter by mode, polarization date and bounds\n",
    "# adapted from an implementation by Andreas Vollrath (ESA)\n",
    "s1_stack =  ee.ImageCollection('COPERNICUS/S1_GRD') \\\n",
    "    .filter(ee.Filter.listContains('transmitterReceiverPolarisation', 'VV')) \\\n",
    "    .filter(ee.Filter.eq('instrumentMode', 'IW')) \\\n",
    "    .filterBounds(kask_gl) \\\n",
    "    .filterDate('2018-06-01','2018-08-30')\n",
    "\n",
    "\n",
    "# make a subset of just the ascending mode images\n",
    "s1_stack_asc =  s1_stack \\\n",
    "    .filter(ee.Filter.eq('orbitProperties_pass', 'ASCENDING'))\n",
    "\n",
    "# make a subset of just the descending mode images\n",
    "s1_stack_desc =  s1_stack \\\n",
    "    .filter(ee.Filter.eq('orbitProperties_pass', 'DESCENDING'))\n",
    "\n",
    "# We call the terrainCorrection function we lined up at the beginning of the lab\n",
    "corrected_asc = s1_stack_asc.map(terrainCorrection)\n",
    "corrected_desc = s1_stack_desc.map(terrainCorrection)\n",
    "\n",
    "S1_vis = {\n",
    "  'bands': ['VV'],\n",
    "  'min': -20,\n",
    "  'max': 0,\n",
    "  'gamma': 1.4,\n",
    "}\n",
    "\n",
    "S1_layover = {\n",
    "    'bands': ['layover'],\n",
    "    'palette': ['ff0000', 'f1c232']\n",
    "}\n",
    "\n",
    "S1_shadow = {\n",
    "    'bands': ['shadow'],\n",
    "    'palette': ['ff0000', 'f1c232']\n",
    "}\n",
    "#image = image.mask(image.mask().where(image.eq(0),0.0))\n",
    "# medianWinterMask = medianWinter.gt(0.4)\n",
    "\n",
    "Map.addLayer(s1_stack_desc.first(), S1_vis, \"original descending\")\n",
    "Map.addLayer(corrected_desc.first(), S1_vis, \"corrected descending\")\n",
    "Map.addLayer(corrected_desc.first(), S1_layover, \"layover descending\", opacity = 0.5)\n",
    "Map.addLayer(corrected_asc.first(), S1_shadow, \"shadow descending\", opacity = 0.5)\n",
    "\n",
    "Map.addLayerControl()\n",
    "Map.centerObject(kask_gl,10)\n",
    "Map\n"
   ]
  },
  {
   "cell_type": "markdown",
   "metadata": {
    "id": "mQHFQaLn1wje"
   },
   "source": [
    "**Notice the areas of concern (in red) we have identified.** For the most part they are areas near the ridgelines of mountains, which makes sense when we look at the diagrams above. The peaks of mountains cause interruptions in the signal that can be corrected for.\n",
    "\n",
    "Since there is a large impact on the signal, we always need to make sure we are comparing similarly acquired images or are applying appropriate terrain corrections before performing any complex analyses."
   ]
  },
  {
   "cell_type": "markdown",
   "metadata": {
    "id": "OHAufKp09Ydg"
   },
   "source": [
    "#Polarization\n",
    "\n",
    "SAR imagery also contains information on the state of the wave as it leaves the sensor and then is returned.\n",
    "\n",
    "Thus far, we have been looking at VV (vertical transmission, vertical return), where the signal is returned to the sensor in the same plane as it is transmitted. VH (vertical transmission, horizontal return) and HH (horizontal transmission, horizontal return) are also possibilities.\n",
    "\n",
    "We choose which polarization to use in order to optimize for the materials of interest or for the technique we want to use. Similar to the ascending/descending discussion, we need to assess the polarization options prior to further analysis.\n",
    "\n",
    "Now let's compare the VV and VH polarized images from the above dates."
   ]
  },
  {
   "cell_type": "code",
   "execution_count": 24,
   "metadata": {
    "colab": {
     "base_uri": "https://localhost:8080/",
     "height": 17
    },
    "id": "9DIy2vw-r2ro",
    "outputId": "997f3a2d-c16b-4422-b34a-8f7a5be87146"
   },
   "outputs": [
    {
     "data": {
      "text/html": [
       "\n",
       "            <style>\n",
       "                .geemap-dark {\n",
       "                    --jp-widgets-color: white;\n",
       "                    --jp-widgets-label-color: white;\n",
       "                    --jp-ui-font-color1: white;\n",
       "                    --jp-layout-color2: #454545;\n",
       "                    background-color: #383838;\n",
       "                }\n",
       "\n",
       "                .geemap-dark .jupyter-button {\n",
       "                    --jp-layout-color3: #383838;\n",
       "                }\n",
       "\n",
       "                .geemap-colab {\n",
       "                    background-color: var(--colab-primary-surface-color, white);\n",
       "                }\n",
       "\n",
       "                .geemap-colab .jupyter-button {\n",
       "                    --jp-layout-color3: var(--colab-primary-surface-color, white);\n",
       "                }\n",
       "            </style>\n",
       "            "
      ],
      "text/plain": [
       "<IPython.core.display.HTML object>"
      ]
     },
     "metadata": {},
     "output_type": "display_data"
    }
   ],
   "source": [
    "# Filter Sentinel 1 Collection by metadata properties\n",
    "  # Filter to get images with VH polarization\n",
    "  # Filter to get images collected in interferometric wide swath mode\n",
    "  # Filter to get images in ascending orbit\n",
    "s1_col_VH =  ee.ImageCollection('COPERNICUS/S1_GRD')\\\n",
    "              .filter(ee.Filter.listContains('transmitterReceiverPolarisation', 'VH'))\\\n",
    "              .filter(ee.Filter.eq('instrumentMode', 'IW'))\\\n",
    "              .filter(ee.Filter.eq('orbitProperties_pass', 'ASCENDING'))\n",
    "\n",
    "# Filter the collection by and location\n",
    "s1_img_VH = s1_col_VH.filterBounds(kask_gl)\\\n",
    "                  .filterDate('2018-04-01','2019-05-31')\\\n",
    "                  .first()# Choose first image in collection\n",
    "\n",
    "# Filter to get images with VV polarization\n",
    "# Filter to get images collected in interferometric wide swath mode\n",
    "# Filter to get images in ascending orbit\n",
    "s1_col_VV =  ee.ImageCollection('COPERNICUS/S1_GRD')\\\n",
    "              .filter(ee.Filter.listContains('transmitterReceiverPolarisation', 'VV'))\\\n",
    "              .filter(ee.Filter.eq('instrumentMode', 'IW'))\\\n",
    "              .filter(ee.Filter.eq('orbitProperties_pass', 'ASCENDING'))\n",
    "\n",
    "# Filter the collection by and location\n",
    "s1_img_VV = s1_col_VV.filterBounds(kask_gl)\\\n",
    "                  .filterDate('2018-04-01','2019-05-31')\\\n",
    "                  .first() # Choose first image in collection"
   ]
  },
  {
   "cell_type": "markdown",
   "metadata": {
    "id": "T0fnwKU6AQUs"
   },
   "source": [
    "We're going to add a shapefile that outlines the Kaskwulsh Glacier so that we can easily pick out our AOI when we look at the VV and VH images.\n",
    "\n",
    "First we need to mount our drive so that we can import files from it."
   ]
  },
  {
   "cell_type": "code",
   "execution_count": 25,
   "metadata": {
    "colab": {
     "base_uri": "https://localhost:8080/",
     "height": 35
    },
    "id": "a7lK1sHcBc1e",
    "outputId": "8f340acb-33ed-49d6-f4a0-aba3a6fac1f1"
   },
   "outputs": [
    {
     "data": {
      "text/html": [
       "\n",
       "            <style>\n",
       "                .geemap-dark {\n",
       "                    --jp-widgets-color: white;\n",
       "                    --jp-widgets-label-color: white;\n",
       "                    --jp-ui-font-color1: white;\n",
       "                    --jp-layout-color2: #454545;\n",
       "                    background-color: #383838;\n",
       "                }\n",
       "\n",
       "                .geemap-dark .jupyter-button {\n",
       "                    --jp-layout-color3: #383838;\n",
       "                }\n",
       "\n",
       "                .geemap-colab {\n",
       "                    background-color: var(--colab-primary-surface-color, white);\n",
       "                }\n",
       "\n",
       "                .geemap-colab .jupyter-button {\n",
       "                    --jp-layout-color3: var(--colab-primary-surface-color, white);\n",
       "                }\n",
       "            </style>\n",
       "            "
      ],
      "text/plain": [
       "<IPython.core.display.HTML object>"
      ]
     },
     "metadata": {},
     "output_type": "display_data"
    }
   ],
   "source": [
    "# from google.colab import drive\n",
    "# drive.mount('/content/drive')"
   ]
  },
  {
   "cell_type": "code",
   "execution_count": 27,
   "metadata": {
    "colab": {
     "base_uri": "https://localhost:8080/",
     "height": 35
    },
    "id": "C7bl3JgWFz8a",
    "outputId": "52e346b1-ca63-433c-e83c-4012d322721e"
   },
   "outputs": [
    {
     "data": {
      "text/html": [
       "\n",
       "            <style>\n",
       "                .geemap-dark {\n",
       "                    --jp-widgets-color: white;\n",
       "                    --jp-widgets-label-color: white;\n",
       "                    --jp-ui-font-color1: white;\n",
       "                    --jp-layout-color2: #454545;\n",
       "                    background-color: #383838;\n",
       "                }\n",
       "\n",
       "                .geemap-dark .jupyter-button {\n",
       "                    --jp-layout-color3: #383838;\n",
       "                }\n",
       "\n",
       "                .geemap-colab {\n",
       "                    background-color: var(--colab-primary-surface-color, white);\n",
       "                }\n",
       "\n",
       "                .geemap-colab .jupyter-button {\n",
       "                    --jp-layout-color3: var(--colab-primary-surface-color, white);\n",
       "                }\n",
       "            </style>\n",
       "            "
      ],
      "text/plain": [
       "<IPython.core.display.HTML object>"
      ]
     },
     "metadata": {},
     "output_type": "display_data"
    }
   ],
   "source": [
    "# If the path to your data is different than mine, you should change it\n",
    "# Kask_outline = '/content/drive/My Drive/Kaskwulsh_outline.shp'\n",
    "shp = 'C:/Users/cptci/OneDrive - Carleton University/Documents/GitHub/GEOG6006-qb/data/Kaskwulsh_outline/Kaskwulsh_outline.shp'\n",
    "shpdata = geemap.shp_to_ee(shp)\n",
    "\n",
    "# All the other extemsions which accompany the shapefile will be read as well\n",
    "# shpdata = geemap.shp_to_ee(Kask_outline)"
   ]
  },
  {
   "cell_type": "markdown",
   "metadata": {
    "id": "rGaLuDdPkrjc"
   },
   "source": [
    "Let's compare the VH polarization with the previous VV polarization from the same AOI."
   ]
  },
  {
   "cell_type": "code",
   "execution_count": 28,
   "metadata": {
    "colab": {
     "base_uri": "https://localhost:8080/",
     "height": 621,
     "referenced_widgets": [
      "1b8cf51d6d5c47cd84fe58450dad5d9d",
      "a62dcedc8d2b414f8a68a60c407e8762",
      "c23e0cb903d54b8dbe56df012944412a",
      "54f8c4494f77426cbf9e4375725455b6",
      "d687276ab4c54e87bc24316970f0bb43",
      "cdc6ec4792694ff89f47e2e74f0c21c4",
      "c453340d80b64a6690baf9cbaa85fb5e",
      "10fba89767994c5a9dae044a6513e6a8",
      "87b362562d9840219b649fd2d24c8e1f",
      "36f5bc65032142c6890f6d240565ceaf",
      "e034a2e3728f4f5c9b19e4a44e356a65",
      "896cc5fb6b1f4c24b0c27c7b8faa1f4b",
      "4ed029fcd7184a58bcea1da68d501786",
      "3dca9b95cf934d00a7f3df6ec6518885",
      "edab27180e9a4586a68ff89ff576f94c",
      "0b8e6ce23c384dba8acb033069e3c183",
      "0ded156ba5d74badbdbec91de19e87e4",
      "2a1ffdca1a914fecb7ee24f4a06ac84b",
      "278c8f97b28e4d679ca5c1673d452c38",
      "f047693b97b74d4a9d187fe21129886a",
      "7050db0be8424a459870c25f227e784b",
      "13cbb0c1b342485fb234779aa5db5cf5",
      "8d7fd2b1675743f0aad9c9b9a8b81290",
      "f289208f14d64496b1b8546ad98c8adf",
      "6791000649914521b5accc461ed4a0f9",
      "df554b881d4847a8b50060ceea7468ff"
     ]
    },
    "id": "0Q3QE1B59rBl",
    "outputId": "920804af-76d8-482f-b390-40e7dbbe2b6d"
   },
   "outputs": [
    {
     "data": {
      "text/html": [
       "\n",
       "            <style>\n",
       "                .geemap-dark {\n",
       "                    --jp-widgets-color: white;\n",
       "                    --jp-widgets-label-color: white;\n",
       "                    --jp-ui-font-color1: white;\n",
       "                    --jp-layout-color2: #454545;\n",
       "                    background-color: #383838;\n",
       "                }\n",
       "\n",
       "                .geemap-dark .jupyter-button {\n",
       "                    --jp-layout-color3: #383838;\n",
       "                }\n",
       "\n",
       "                .geemap-colab {\n",
       "                    background-color: var(--colab-primary-surface-color, white);\n",
       "                }\n",
       "\n",
       "                .geemap-colab .jupyter-button {\n",
       "                    --jp-layout-color3: var(--colab-primary-surface-color, white);\n",
       "                }\n",
       "            </style>\n",
       "            "
      ],
      "text/plain": [
       "<IPython.core.display.HTML object>"
      ]
     },
     "metadata": {},
     "output_type": "display_data"
    },
    {
     "data": {
      "application/vnd.jupyter.widget-view+json": {
       "model_id": "31ef5b3d9cf94b65adfc68e47c133afa",
       "version_major": 2,
       "version_minor": 0
      },
      "text/plain": [
       "Map(center=[60.75507900000001, -139.013173], controls=(WidgetControl(options=['position', 'transparent_bg'], w…"
      ]
     },
     "execution_count": 28,
     "metadata": {},
     "output_type": "execute_result"
    }
   ],
   "source": [
    "# Display image on map\n",
    "Map = geemap.Map()\n",
    "\n",
    "Map.centerObject(kask_gl,8)\n",
    "Map.addLayer(s1_img_VV, {'bands': ['VV','VV','VV'], 'min': -20,'max': 0},'S1-image_VV')\n",
    "Map.addLayer(s1_img_VH, {'bands': ['VH','VH','VH'], 'min': -20,'max': 0},'S1-image_VH')\n",
    "SHPViz = {\n",
    "  'color': 'blue'\n",
    "  }\n",
    "\n",
    "# Defining the opacity argument of the addLayer function\n",
    "# We want the shpdata layer to be easy to see through\n",
    "shown = True\n",
    "opacity = 0.25\n",
    "\n",
    "Map.addLayer(shpdata, SHPViz, 'shpdata', shown, opacity)\n",
    "\n",
    "Map"
   ]
  },
  {
   "cell_type": "markdown",
   "metadata": {
    "id": "z_444gZ6nUR0"
   },
   "source": [
    "#Questions to Submit\n",
    "\n",
    "Answer the following questions in the space provided. Feel free to add additional code and text cells as needed. Make sure to show all of your code.\n",
    "\n",
    "In all cases, if you use code chunks from another source (not a bad thing), make sure to reference where you found them.\n"
   ]
  },
  {
   "cell_type": "markdown",
   "metadata": {
    "id": "9IGfMTb0ngVt"
   },
   "source": [
    "## Q1\n",
    "\n",
    "We compared Sentinel 1 imagery from the summer (July) and the winter (January). Include code to look at the same site in spring (April) and fall (October) and compare the images in the same map. Do they show similar patterns? How do the two images differ? Explain and interpret."
   ]
  },
  {
   "cell_type": "code",
   "execution_count": 29,
   "metadata": {
    "scrolled": true
   },
   "outputs": [
    {
     "data": {
      "text/html": [
       "\n",
       "            <style>\n",
       "                .geemap-dark {\n",
       "                    --jp-widgets-color: white;\n",
       "                    --jp-widgets-label-color: white;\n",
       "                    --jp-ui-font-color1: white;\n",
       "                    --jp-layout-color2: #454545;\n",
       "                    background-color: #383838;\n",
       "                }\n",
       "\n",
       "                .geemap-dark .jupyter-button {\n",
       "                    --jp-layout-color3: #383838;\n",
       "                }\n",
       "\n",
       "                .geemap-colab {\n",
       "                    background-color: var(--colab-primary-surface-color, white);\n",
       "                }\n",
       "\n",
       "                .geemap-colab .jupyter-button {\n",
       "                    --jp-layout-color3: var(--colab-primary-surface-color, white);\n",
       "                }\n",
       "            </style>\n",
       "            "
      ],
      "text/plain": [
       "<IPython.core.display.HTML object>"
      ]
     },
     "metadata": {},
     "output_type": "display_data"
    },
    {
     "data": {
      "application/vnd.jupyter.widget-view+json": {
       "model_id": "2b0e93e07abb4330858ca9fefb900d7b",
       "version_major": 2,
       "version_minor": 0
      },
      "text/plain": [
       "Map(center=[60.75507900000001, -139.013173], controls=(WidgetControl(options=['position', 'transparent_bg'], w…"
      ]
     },
     "execution_count": 29,
     "metadata": {},
     "output_type": "execute_result"
    }
   ],
   "source": [
    "s1_col =  ee.ImageCollection('COPERNICUS/S1_GRD')\\\n",
    "              .filter(ee.Filter.listContains('transmitterReceiverPolarisation', 'VV'))\\\n",
    "              .filter(ee.Filter.eq('instrumentMode', 'IW'))\\\n",
    "              .filter(ee.Filter.eq('orbitProperties_pass', 'ASCENDING'))\n",
    "\n",
    "# Filter the collection by and location. Here, we are looking at a summer image\n",
    "s1_img_VV_spring = s1_col.filterBounds(kask_gl)\\\n",
    "                  .filterDate('2019-04-01','2019-04-30')\\\n",
    "                  .first()# Choose first image in collection\n",
    "\n",
    "# Filter the collection by and location for winter imagery\n",
    "s1_img_VV_autumn = s1_col.filterBounds(kask_gl)\\\n",
    "                  .filterDate('2019-10-01', '2019-10-30')\\\n",
    "                  .first()# Choose first image in collection\n",
    "\n",
    "\n",
    "# Display images on a map for comparison\n",
    "Map = geemap.Map()\n",
    "\n",
    "Map.centerObject(kask_gl, 13)\n",
    "\n",
    "Map.addLayer(s1_img_VV_spring, {'bands': ['VV','VV','VV'], 'min': -20,'max': 0},'S1-image_spring')\n",
    "Map.addLayer(s1_img_VV_autumn, {'bands': ['VV','VV','VV'], 'min': -20,'max': 0},'S1-image_autumn')\n",
    "\n",
    "Map.addLayerControl()\n",
    "Map"
   ]
  },
  {
   "cell_type": "markdown",
   "metadata": {},
   "source": [
    "The spring image is generally lighter than the autumn image, probably because of increased snow water content in the fall when the glacier is at its minimum extent. The lateral moraines are brighter in the fall, maybe because surface snow has melted and exposed rougher ice, but the water has flowed off of these raised ridges so a strong response is preserved."
   ]
  },
  {
   "cell_type": "markdown",
   "metadata": {
    "id": "AU46rwX6nu47"
   },
   "source": [
    "## Q2\n",
    "Looking at the same images, there are strips on the glacier that are appear white in the image. Comparing the SAR imagery with Landsat or Sentinel-2 imagery.  Based on visual interpretation, what are these features and why might they appear white in the SAR data? Include code that compares the Landsat Mosaic with at least one SAR image.\n",
    "\n",
    "If you're unfamiliar with glacial landforms, check out the information at this link to help you: https://nsidc.org/cryosphere/glaciers/gallery/grooves.html"
   ]
  },
  {
   "cell_type": "code",
   "execution_count": 30,
   "metadata": {},
   "outputs": [
    {
     "data": {
      "text/html": [
       "\n",
       "            <style>\n",
       "                .geemap-dark {\n",
       "                    --jp-widgets-color: white;\n",
       "                    --jp-widgets-label-color: white;\n",
       "                    --jp-ui-font-color1: white;\n",
       "                    --jp-layout-color2: #454545;\n",
       "                    background-color: #383838;\n",
       "                }\n",
       "\n",
       "                .geemap-dark .jupyter-button {\n",
       "                    --jp-layout-color3: #383838;\n",
       "                }\n",
       "\n",
       "                .geemap-colab {\n",
       "                    background-color: var(--colab-primary-surface-color, white);\n",
       "                }\n",
       "\n",
       "                .geemap-colab .jupyter-button {\n",
       "                    --jp-layout-color3: var(--colab-primary-surface-color, white);\n",
       "                }\n",
       "            </style>\n",
       "            "
      ],
      "text/plain": [
       "<IPython.core.display.HTML object>"
      ]
     },
     "metadata": {},
     "output_type": "display_data"
    },
    {
     "data": {
      "application/vnd.jupyter.widget-view+json": {
       "model_id": "5fcdf15c71a744d1bf01e8f4d3cf615c",
       "version_major": 2,
       "version_minor": 0
      },
      "text/plain": [
       "Map(center=[45.3, -75.701271], controls=(WidgetControl(options=['position', 'transparent_bg'], widget=SearchDa…"
      ]
     },
     "execution_count": 30,
     "metadata": {},
     "output_type": "execute_result"
    }
   ],
   "source": [
    "kask_gl = ee.Geometry.Point(-139.013173, 60.755079)\n",
    "kask_gl = ee.Geometry.Point(-75.701271, 45.3)\n",
    "\n",
    "#Note I tried this exercise on Gatineau instead\n",
    "\n",
    "\n",
    "# Load all Sentinel 2 Surface Reflectance images from June 2019\n",
    "sentinel2 = ee.ImageCollection('COPERNICUS/S2_SR')\\\n",
    "                  .filterDate('2021-08-01', '2021-08-31')\\\n",
    "                  .filterBounds(kask_gl)\\\n",
    "                  .filter(ee.Filter.lte('CLOUDY_PIXEL_PERCENTAGE',30))\\\n",
    "                  .sort('CLOUDY_PIXEL_PERCENTAGE')\\\n",
    "                  .first()\n",
    "\n",
    "#Sentinel 1 SAR\n",
    "s1_col =  ee.ImageCollection('COPERNICUS/S1_GRD')\\\n",
    "              .filter(ee.Filter.listContains('transmitterReceiverPolarisation', 'VV'))\\\n",
    "              .filter(ee.Filter.eq('instrumentMode', 'IW'))\\\n",
    "              .filter(ee.Filter.eq('orbitProperties_pass', 'ASCENDING'))\n",
    "# Filter the collection by and location for winter imagery\n",
    "s1_img_VV = s1_col.filterBounds(kask_gl)\\\n",
    "                  .filterDate('2021-08-01', '2021-08-31')\\\n",
    "                  .first()# Choose first image in collection\n",
    "\n",
    "# Hillshade for better visualization\n",
    "DEM = ee.ImageCollection(\"NRCan/CDEM\")\\\n",
    "                  .filterBounds(kask_gl)\\\n",
    "\n",
    "exaggeration = 50\n",
    "azimuth = 60\n",
    "DEM = DEM.mean()\n",
    "hillshade = ee.Terrain.hillshade(DEM.multiply(exaggeration))\n",
    "\n",
    "HS_vis = {\n",
    "  'bands': ['hillshade'],\n",
    "  'palette': ['fbff00', '00ffff', 'ff0000' ]\n",
    "}\n",
    "\n",
    "# Set the visualization parameters for the image\n",
    "visParams = {\n",
    "  'bands': ['B4', 'B3', 'B2'],\n",
    "  'min': 0,\n",
    "  'max': 3000\n",
    "}\n",
    "\n",
    "# Display images on a map for comparison\n",
    "Map = geemap.Map()\n",
    "Map.centerObject(kask_gl, zoom=11)\n",
    "\n",
    "Map.addLayer(sentinel2, visParams, 'Sentinel-2 Visual')\n",
    "Map.addLayerControl()\n",
    "\n",
    "Map.addLayer(s1_img_VV, {'bands': ['VV','VV','VV'], 'min': -20,'max': 0},'S1 SAR')\n",
    "Map.addLayerControl()\n",
    "\n",
    "Map.addLayer(hillshade, HS_vis, 'Gatineau Hillshade')\n",
    "\n",
    "Map"
   ]
  },
  {
   "cell_type": "markdown",
   "metadata": {
    "id": "DcfJQkw-nxH8"
   },
   "source": [
    "## Q3\n",
    "\n",
    "We looked at potential errors introduced into our SAR imagery, particularly in mountainous regions (layover, shadow, foreshortening), then we performed a terrain correction on the imagery using a descending image. Write code to perform a similar correction but on an ascending image.\n",
    "\n",
    "Using what we discussed about foreshortening, shadow and layover, compare and contrast the two images. Are the results similar to the descending example in the lab? Are there more corrections needed in certain areas?"
   ]
  },
  {
   "cell_type": "code",
   "execution_count": 31,
   "metadata": {
    "scrolled": true
   },
   "outputs": [
    {
     "data": {
      "text/html": [
       "\n",
       "            <style>\n",
       "                .geemap-dark {\n",
       "                    --jp-widgets-color: white;\n",
       "                    --jp-widgets-label-color: white;\n",
       "                    --jp-ui-font-color1: white;\n",
       "                    --jp-layout-color2: #454545;\n",
       "                    background-color: #383838;\n",
       "                }\n",
       "\n",
       "                .geemap-dark .jupyter-button {\n",
       "                    --jp-layout-color3: #383838;\n",
       "                }\n",
       "\n",
       "                .geemap-colab {\n",
       "                    background-color: var(--colab-primary-surface-color, white);\n",
       "                }\n",
       "\n",
       "                .geemap-colab .jupyter-button {\n",
       "                    --jp-layout-color3: var(--colab-primary-surface-color, white);\n",
       "                }\n",
       "            </style>\n",
       "            "
      ],
      "text/plain": [
       "<IPython.core.display.HTML object>"
      ]
     },
     "metadata": {},
     "output_type": "display_data"
    },
    {
     "data": {
      "application/vnd.jupyter.widget-view+json": {
       "model_id": "4c18522702cf48e69bd2d0a99e865b8c",
       "version_major": 2,
       "version_minor": 0
      },
      "text/plain": [
       "Map(center=[60.75507900000001, -139.013173], controls=(WidgetControl(options=['position', 'transparent_bg'], w…"
      ]
     },
     "execution_count": 31,
     "metadata": {},
     "output_type": "execute_result"
    }
   ],
   "source": [
    "Map = geemap.Map()\n",
    "\n",
    "# Set a point on the Kaskawulsh Glacier (mid-glacier) for filtering purposes\n",
    "kask_gl = ee.Geometry.Point(-139.013173, 60.755079)\n",
    "\n",
    "# import sentinel 1 and filter by mode, polarization date and bounds\n",
    "# adapted from an implementation by Andreas Vollrath (ESA)\n",
    "s1_stack =  ee.ImageCollection('COPERNICUS/S1_GRD') \\\n",
    "    .filter(ee.Filter.listContains('transmitterReceiverPolarisation', 'VV')) \\\n",
    "    .filter(ee.Filter.eq('instrumentMode', 'IW')) \\\n",
    "    .filterBounds(kask_gl) \\\n",
    "    .filterDate('2018-06-01','2018-08-30')\n",
    "\n",
    "\n",
    "# make a subset of just the ascending mode images\n",
    "s1_stack_asc =  s1_stack \\\n",
    "    .filter(ee.Filter.eq('orbitProperties_pass', 'ASCENDING'))\n",
    "\n",
    "# make a subset of just the descending mode images\n",
    "s1_stack_desc =  s1_stack \\\n",
    "    .filter(ee.Filter.eq('orbitProperties_pass', 'DESCENDING'))\n",
    "\n",
    "# We call the terrainCorrection function we lined up at the beginning of the lab\n",
    "corrected_asc = s1_stack_asc.map(terrainCorrection)\n",
    "corrected_desc = s1_stack_desc.map(terrainCorrection)\n",
    "\n",
    "S1_vis = {\n",
    "  'bands': ['VV'],\n",
    "  'min': -20,\n",
    "  'max': 0,\n",
    "  'gamma': 1.4,\n",
    "}\n",
    "\n",
    "S1_layover = {\n",
    "    'bands': ['layover'],\n",
    "    'palette': ['ff0000', 'f1c232']\n",
    "}\n",
    "\n",
    "S1_shadow = {\n",
    "    'bands': ['shadow'],\n",
    "    'palette': ['ff0000', 'f1c232']\n",
    "}\n",
    "#image = image.mask(image.mask().where(image.eq(0),0.0))\n",
    "# medianWinterMask = medianWinter.gt(0.4)\n",
    "\n",
    "Map.addLayer(s1_stack_desc.first(), S1_vis, \"original descending\")\n",
    "Map.addLayer(corrected_desc.first(), S1_vis, \"corrected descending\")\n",
    "Map.addLayer(corrected_desc.first(), S1_layover, \"layover descending\", opacity = 0.5)\n",
    "Map.addLayer(corrected_desc.first(), S1_shadow, \"shadow descending\", opacity = 0.5)\n",
    "\n",
    "Map.addLayer(s1_stack_asc.first(), S1_vis, \"original ascending\")\n",
    "Map.addLayer(corrected_asc.first(), S1_vis, \"corrected ascending\")\n",
    "Map.addLayer(corrected_asc.first(), S1_layover, \"layover ascending\", opacity = 0.5)\n",
    "Map.addLayer(corrected_asc.first(), S1_shadow, \"shadow ascending\", opacity = 0.5)\n",
    "\n",
    "Map.addLayerControl()\n",
    "Map.centerObject(kask_gl,10)\n",
    "Map"
   ]
  },
  {
   "cell_type": "markdown",
   "metadata": {},
   "source": [
    "The two images are similar but mirrored, so that in the ascending image, the layover is worse on southern and west aspects and absent on northern and east aspects, but in the descending image this pattern in switched. Similarly, the shadow is worse on the north/west side (ascending), and south/east side (descending)."
   ]
  }
 ],
 "metadata": {
  "colab": {
   "collapsed_sections": [
    "BXXmBLsV1eXk",
    "_Xz7AlNK6oc8",
    "cyc0wLdq9lib",
    "sRCuS3cnlZ23"
   ],
   "provenance": [],
   "toc_visible": true
  },
  "kernelspec": {
   "display_name": "Python 3 (ipykernel)",
   "language": "python",
   "name": "python3"
  },
  "language_info": {
   "codemirror_mode": {
    "name": "ipython",
    "version": 3
   },
   "file_extension": ".py",
   "mimetype": "text/x-python",
   "name": "python",
   "nbconvert_exporter": "python",
   "pygments_lexer": "ipython3",
   "version": "3.12.5"
  },
  "widgets": {
   "application/vnd.jupyter.widget-state+json": {
    "0000c92d0fad4341a7c2cf234daa3bee": {
     "model_module": "@jupyter-widgets/base",
     "model_module_version": "1.2.0",
     "model_name": "LayoutModel",
     "state": {
      "_model_module": "@jupyter-widgets/base",
      "_model_module_version": "1.2.0",
      "_model_name": "LayoutModel",
      "_view_count": null,
      "_view_module": "@jupyter-widgets/base",
      "_view_module_version": "1.2.0",
      "_view_name": "LayoutView",
      "align_content": null,
      "align_items": null,
      "align_self": null,
      "border": null,
      "bottom": null,
      "display": null,
      "flex": null,
      "flex_flow": null,
      "grid_area": null,
      "grid_auto_columns": null,
      "grid_auto_flow": null,
      "grid_auto_rows": null,
      "grid_column": null,
      "grid_gap": null,
      "grid_row": null,
      "grid_template_areas": null,
      "grid_template_columns": null,
      "grid_template_rows": null,
      "height": null,
      "justify_content": null,
      "justify_items": null,
      "left": null,
      "margin": null,
      "max_height": null,
      "max_width": null,
      "min_height": null,
      "min_width": null,
      "object_fit": null,
      "object_position": null,
      "order": null,
      "overflow": null,
      "overflow_x": null,
      "overflow_y": null,
      "padding": null,
      "right": null,
      "top": null,
      "visibility": null,
      "width": null
     }
    },
    "00c111299e714ead8a17d77b7ea4bafd": {
     "model_module": "jupyter-leaflet",
     "model_module_version": "^0.18",
     "model_name": "LeafletTileLayerModel",
     "state": {
      "_model_module": "jupyter-leaflet",
      "_model_module_version": "^0.18",
      "_model_name": "LeafletTileLayerModel",
      "_view_count": null,
      "_view_module": "jupyter-leaflet",
      "_view_module_version": "^0.18",
      "_view_name": "LeafletTileLayerView",
      "attribution": "Google Earth Engine",
      "base": false,
      "bottom": true,
      "bounds": null,
      "detect_retina": false,
      "loading": false,
      "max_native_zoom": null,
      "max_zoom": 24,
      "min_native_zoom": null,
      "min_zoom": 0,
      "name": "S1-image",
      "no_wrap": false,
      "opacity": 1,
      "options": [
       "attribution",
       "bounds",
       "detect_retina",
       "max_native_zoom",
       "max_zoom",
       "min_native_zoom",
       "min_zoom",
       "no_wrap",
       "tile_size",
       "tms",
       "zoom_offset"
      ],
      "pane": "",
      "popup": null,
      "popup_max_height": null,
      "popup_max_width": 300,
      "popup_min_width": 50,
      "show_loading": false,
      "subitems": [],
      "tile_size": 256,
      "tms": false,
      "url": "https://earthengine.googleapis.com/v1/projects/ee-koreenmillard/maps/77154e386f4a0a3230f3d2b5c6c84df7-059180142e37d8a5807e7e3952c43bc2/tiles/{z}/{x}/{y}",
      "visible": true,
      "zoom_offset": 0
     }
    },
    "0157eecc4e3a44a7bca41391e4f23575": {
     "model_module": "@jupyter-widgets/controls",
     "model_module_version": "1.5.0",
     "model_name": "DescriptionStyleModel",
     "state": {
      "_model_module": "@jupyter-widgets/controls",
      "_model_module_version": "1.5.0",
      "_model_name": "DescriptionStyleModel",
      "_view_count": null,
      "_view_module": "@jupyter-widgets/base",
      "_view_module_version": "1.2.0",
      "_view_name": "StyleView",
      "description_width": ""
     }
    },
    "021f90dc19fc4b07bb9eaec877598271": {
     "model_module": "@jupyter-widgets/base",
     "model_module_version": "1.2.0",
     "model_name": "LayoutModel",
     "state": {
      "_model_module": "@jupyter-widgets/base",
      "_model_module_version": "1.2.0",
      "_model_name": "LayoutModel",
      "_view_count": null,
      "_view_module": "@jupyter-widgets/base",
      "_view_module_version": "1.2.0",
      "_view_name": "LayoutView",
      "align_content": null,
      "align_items": null,
      "align_self": null,
      "border": null,
      "bottom": null,
      "display": null,
      "flex": null,
      "flex_flow": null,
      "grid_area": null,
      "grid_auto_columns": null,
      "grid_auto_flow": null,
      "grid_auto_rows": null,
      "grid_column": null,
      "grid_gap": null,
      "grid_row": null,
      "grid_template_areas": null,
      "grid_template_columns": null,
      "grid_template_rows": null,
      "height": null,
      "justify_content": null,
      "justify_items": null,
      "left": null,
      "margin": null,
      "max_height": null,
      "max_width": null,
      "min_height": null,
      "min_width": null,
      "object_fit": null,
      "object_position": null,
      "order": null,
      "overflow": null,
      "overflow_x": null,
      "overflow_y": null,
      "padding": null,
      "right": null,
      "top": null,
      "visibility": null,
      "width": null
     }
    },
    "02892f44a4af432fbecda60d909d5d00": {
     "model_module": "@jupyter-widgets/base",
     "model_module_version": "1.2.0",
     "model_name": "LayoutModel",
     "state": {
      "_model_module": "@jupyter-widgets/base",
      "_model_module_version": "1.2.0",
      "_model_name": "LayoutModel",
      "_view_count": null,
      "_view_module": "@jupyter-widgets/base",
      "_view_module_version": "1.2.0",
      "_view_name": "LayoutView",
      "align_content": null,
      "align_items": null,
      "align_self": null,
      "border": null,
      "bottom": null,
      "display": null,
      "flex": null,
      "flex_flow": null,
      "grid_area": null,
      "grid_auto_columns": null,
      "grid_auto_flow": null,
      "grid_auto_rows": null,
      "grid_column": null,
      "grid_gap": null,
      "grid_row": null,
      "grid_template_areas": null,
      "grid_template_columns": null,
      "grid_template_rows": null,
      "height": "600px",
      "justify_content": null,
      "justify_items": null,
      "left": null,
      "margin": null,
      "max_height": null,
      "max_width": null,
      "min_height": null,
      "min_width": null,
      "object_fit": null,
      "object_position": null,
      "order": null,
      "overflow": null,
      "overflow_x": null,
      "overflow_y": null,
      "padding": null,
      "right": null,
      "top": null,
      "visibility": null,
      "width": null
     }
    },
    "04d449c24d2d4f45a53c671774b3e603": {
     "model_module": "@jupyter-widgets/controls",
     "model_module_version": "1.5.0",
     "model_name": "ToggleButtonModel",
     "state": {
      "_dom_classes": [],
      "_model_module": "@jupyter-widgets/controls",
      "_model_module_version": "1.5.0",
      "_model_name": "ToggleButtonModel",
      "_view_count": null,
      "_view_module": "@jupyter-widgets/controls",
      "_view_module_version": "1.5.0",
      "_view_name": "ToggleButtonView",
      "button_style": "",
      "description": "",
      "description_tooltip": null,
      "disabled": false,
      "icon": "globe",
      "layout": "IPY_MODEL_756c7a7724354f90884504ca3cfb6ab0",
      "style": "IPY_MODEL_31ca8fe520044872ab9167f63de796d2",
      "tooltip": "Search location/data",
      "value": false
     }
    },
    "08726b7c3322455a98fcb2ae2a87c1b3": {
     "model_module": "@jupyter-widgets/controls",
     "model_module_version": "1.5.0",
     "model_name": "VBoxModel",
     "state": {
      "_dom_classes": [
       "geemap-colab"
      ],
      "_model_module": "@jupyter-widgets/controls",
      "_model_module_version": "1.5.0",
      "_model_name": "VBoxModel",
      "_view_count": null,
      "_view_module": "@jupyter-widgets/controls",
      "_view_module_version": "1.5.0",
      "_view_name": "VBoxView",
      "box_style": "",
      "children": [
       "IPY_MODEL_2ebfba6aff4c401aa4580bfbb9f81be5"
      ],
      "layout": "IPY_MODEL_be1a71b272a14e5c95c139718c1405f7"
     }
    },
    "09873d624c8e48c287d89d62c1c6f724": {
     "model_module": "@jupyter-widgets/base",
     "model_module_version": "1.2.0",
     "model_name": "LayoutModel",
     "state": {
      "_model_module": "@jupyter-widgets/base",
      "_model_module_version": "1.2.0",
      "_model_name": "LayoutModel",
      "_view_count": null,
      "_view_module": "@jupyter-widgets/base",
      "_view_module_version": "1.2.0",
      "_view_name": "LayoutView",
      "align_content": null,
      "align_items": null,
      "align_self": null,
      "border": null,
      "bottom": null,
      "display": null,
      "flex": null,
      "flex_flow": null,
      "grid_area": null,
      "grid_auto_columns": null,
      "grid_auto_flow": null,
      "grid_auto_rows": null,
      "grid_column": null,
      "grid_gap": null,
      "grid_row": null,
      "grid_template_areas": null,
      "grid_template_columns": null,
      "grid_template_rows": null,
      "height": null,
      "justify_content": null,
      "justify_items": null,
      "left": null,
      "margin": null,
      "max_height": null,
      "max_width": null,
      "min_height": null,
      "min_width": null,
      "object_fit": null,
      "object_position": null,
      "order": null,
      "overflow": null,
      "overflow_x": null,
      "overflow_y": null,
      "padding": null,
      "right": null,
      "top": null,
      "visibility": null,
      "width": null
     }
    },
    "0ad5de52404744e5bea758a08a8b794e": {
     "model_module": "@jupyter-widgets/controls",
     "model_module_version": "1.5.0",
     "model_name": "ToggleButtonModel",
     "state": {
      "_dom_classes": [],
      "_model_module": "@jupyter-widgets/controls",
      "_model_module_version": "1.5.0",
      "_model_name": "ToggleButtonModel",
      "_view_count": null,
      "_view_module": "@jupyter-widgets/controls",
      "_view_module_version": "1.5.0",
      "_view_name": "ToggleButtonView",
      "button_style": "",
      "description": "",
      "description_tooltip": null,
      "disabled": false,
      "icon": "wrench",
      "layout": "IPY_MODEL_f3351de5d74f4f168678fd0305a004e1",
      "style": "IPY_MODEL_f4658009c55d438eb267122acc738687",
      "tooltip": "Toolbar",
      "value": false
     }
    },
    "0b87acdb9e534d3faa7178a502c9ccdb": {
     "model_module": "jupyter-leaflet",
     "model_module_version": "^0.18",
     "model_name": "LeafletMapModel",
     "state": {
      "_dom_classes": [],
      "_model_module": "jupyter-leaflet",
      "_model_module_version": "^0.18",
      "_model_name": "LeafletMapModel",
      "_view_count": null,
      "_view_module": "jupyter-leaflet",
      "_view_module_version": "^0.18",
      "_view_name": "LeafletMapView",
      "bottom": 1199587,
      "bounce_at_zoom_limits": true,
      "box_zoom": true,
      "center": [
       60.7944,
       -139.0544
      ],
      "close_popup_on_click": true,
      "controls": [
       "IPY_MODEL_117b185d4da24551bcc90d4335d29298",
       "IPY_MODEL_c08e06e74c28479e8081f7d669a91bab",
       "IPY_MODEL_9eeb3939dae04b4f9bec9c5d3dc7f4f5",
       "IPY_MODEL_c475fd15c364423ea2f872166914315c",
       "IPY_MODEL_f7083db33a0146739536a6dd7e799f76",
       "IPY_MODEL_696af567870b4dd9a3aefff6853de580",
       "IPY_MODEL_7be07322cb38462ea1f6b188634622fc",
       "IPY_MODEL_56e004fcb95b4001ba08f0425e06751d",
       "IPY_MODEL_0de052c4da8a479f934aac323e17db89"
      ],
      "crs": {
       "custom": false,
       "name": "EPSG3857"
      },
      "default_style": "IPY_MODEL_c79db3a3131f45bc8b6b1cd4018c3752",
      "double_click_zoom": true,
      "dragging": true,
      "dragging_style": "IPY_MODEL_f7c71e8e94aa4203899753af8cde3382",
      "east": -139.00331497192386,
      "fullscreen": false,
      "inertia": true,
      "inertia_deceleration": 3000,
      "inertia_max_speed": 1500,
      "interpolation": "bilinear",
      "keyboard": true,
      "keyboard_pan_offset": 80,
      "keyboard_zoom_offset": 1,
      "layers": [
       "IPY_MODEL_f3764076cdc24ea6b32100b008adf73c",
       "IPY_MODEL_d185a56237c84884897cde5196bc85e9",
       "IPY_MODEL_c3c11d074c8348bcb99639e3c2f08636",
       "IPY_MODEL_9fc197f868e6436fb7df24bbc21739ce"
      ],
      "layout": "IPY_MODEL_e0a9b25788134c15b0b72d6e71b3872c",
      "left": 476455,
      "max_zoom": 24,
      "min_zoom": null,
      "modisdate": "2024-03-23",
      "north": 60.806962233841915,
      "options": [
       "bounce_at_zoom_limits",
       "box_zoom",
       "center",
       "close_popup_on_click",
       "double_click_zoom",
       "dragging",
       "fullscreen",
       "inertia",
       "inertia_deceleration",
       "inertia_max_speed",
       "interpolation",
       "keyboard",
       "keyboard_pan_offset",
       "keyboard_zoom_offset",
       "max_zoom",
       "min_zoom",
       "prefer_canvas",
       "scroll_wheel_zoom",
       "tap",
       "tap_tolerance",
       "touch_zoom",
       "world_copy_jump",
       "zoom",
       "zoom_animation_threshold",
       "zoom_delta",
       "zoom_snap"
      ],
      "panes": {},
      "prefer_canvas": false,
      "right": 477646,
      "scroll_wheel_zoom": true,
      "south": 60.78183384191489,
      "style": "IPY_MODEL_9b9970bd1fb54faca6b8bef4d24f9254",
      "tap": true,
      "tap_tolerance": 15,
      "top": 1198987,
      "touch_zoom": true,
      "west": -139.10553932189944,
      "window_url": "https://92xnw0u9qnb-496ff2e9c6d22116-0-colab.googleusercontent.com/outputframe.html?vrz=colab_20240321-060149_RC00_617803427",
      "world_copy_jump": false,
      "zoom": 14,
      "zoom_animation_threshold": 4,
      "zoom_delta": 1,
      "zoom_snap": 1
     }
    },
    "0b8e6ce23c384dba8acb033069e3c183": {
     "model_module": "jupyter-leaflet",
     "model_module_version": "^0.18",
     "model_name": "LeafletMapStyleModel",
     "state": {
      "_model_module": "jupyter-leaflet",
      "_model_module_version": "^0.18",
      "_model_name": "LeafletMapStyleModel",
      "_view_count": null,
      "_view_module": "@jupyter-widgets/base",
      "_view_module_version": "1.2.0",
      "_view_name": "StyleView",
      "cursor": "grab"
     }
    },
    "0d4cd9a5331843089fd79c3c5e98b0f1": {
     "model_module": "@jupyter-widgets/base",
     "model_module_version": "1.2.0",
     "model_name": "LayoutModel",
     "state": {
      "_model_module": "@jupyter-widgets/base",
      "_model_module_version": "1.2.0",
      "_model_name": "LayoutModel",
      "_view_count": null,
      "_view_module": "@jupyter-widgets/base",
      "_view_module_version": "1.2.0",
      "_view_name": "LayoutView",
      "align_content": null,
      "align_items": null,
      "align_self": null,
      "border": null,
      "bottom": null,
      "display": null,
      "flex": null,
      "flex_flow": null,
      "grid_area": null,
      "grid_auto_columns": null,
      "grid_auto_flow": null,
      "grid_auto_rows": null,
      "grid_column": null,
      "grid_gap": null,
      "grid_row": null,
      "grid_template_areas": null,
      "grid_template_columns": null,
      "grid_template_rows": null,
      "height": "600px",
      "justify_content": null,
      "justify_items": null,
      "left": null,
      "margin": null,
      "max_height": null,
      "max_width": null,
      "min_height": null,
      "min_width": null,
      "object_fit": null,
      "object_position": null,
      "order": null,
      "overflow": null,
      "overflow_x": null,
      "overflow_y": null,
      "padding": null,
      "right": null,
      "top": null,
      "visibility": null,
      "width": null
     }
    },
    "0d7111d51ad5406988a63d93fdd7f917": {
     "model_module": "@jupyter-widgets/controls",
     "model_module_version": "1.5.0",
     "model_name": "ToggleButtonModel",
     "state": {
      "_dom_classes": [],
      "_model_module": "@jupyter-widgets/controls",
      "_model_module_version": "1.5.0",
      "_model_name": "ToggleButtonModel",
      "_view_count": null,
      "_view_module": "@jupyter-widgets/controls",
      "_view_module_version": "1.5.0",
      "_view_name": "ToggleButtonView",
      "button_style": "",
      "description": "",
      "description_tooltip": null,
      "disabled": false,
      "icon": "globe",
      "layout": "IPY_MODEL_9ad1915b152d422385b28d17ea56ecfe",
      "style": "IPY_MODEL_6acdde6258424830972d6a1b41bc75f3",
      "tooltip": "Search location/data",
      "value": false
     }
    },
    "0de052c4da8a479f934aac323e17db89": {
     "model_module": "jupyter-leaflet",
     "model_module_version": "^0.18",
     "model_name": "LeafletLayersControlModel",
     "state": {
      "_model_module": "jupyter-leaflet",
      "_model_module_version": "^0.18",
      "_model_name": "LeafletLayersControlModel",
      "_view_count": null,
      "_view_module": "jupyter-leaflet",
      "_view_module_version": "^0.18",
      "_view_name": "LeafletLayersControlView",
      "collapsed": true,
      "options": [
       "collapsed",
       "position"
      ],
      "position": "topright"
     }
    },
    "0ded156ba5d74badbdbec91de19e87e4": {
     "model_module": "@jupyter-widgets/controls",
     "model_module_version": "1.5.0",
     "model_name": "HBoxModel",
     "state": {
      "_dom_classes": [
       "geemap-colab"
      ],
      "_model_module": "@jupyter-widgets/controls",
      "_model_module_version": "1.5.0",
      "_model_name": "HBoxModel",
      "_view_count": null,
      "_view_module": "@jupyter-widgets/controls",
      "_view_module_version": "1.5.0",
      "_view_name": "HBoxView",
      "box_style": "",
      "children": [
       "IPY_MODEL_278c8f97b28e4d679ca5c1673d452c38"
      ],
      "layout": "IPY_MODEL_f047693b97b74d4a9d187fe21129886a"
     }
    },
    "0ebe5c418cbf4fde8968ae5995904560": {
     "model_module": "jupyter-leaflet",
     "model_module_version": "^0.18",
     "model_name": "LeafletMapStyleModel",
     "state": {
      "_model_module": "jupyter-leaflet",
      "_model_module_version": "^0.18",
      "_model_name": "LeafletMapStyleModel",
      "_view_count": null,
      "_view_module": "@jupyter-widgets/base",
      "_view_module_version": "1.2.0",
      "_view_name": "StyleView",
      "cursor": "move"
     }
    },
    "0f1b2a2456074e2d955b4473d92a765a": {
     "model_module": "jupyter-leaflet",
     "model_module_version": "^0.18",
     "model_name": "LeafletMapStyleModel",
     "state": {
      "_model_module": "jupyter-leaflet",
      "_model_module_version": "^0.18",
      "_model_name": "LeafletMapStyleModel",
      "_view_count": null,
      "_view_module": "@jupyter-widgets/base",
      "_view_module_version": "1.2.0",
      "_view_name": "StyleView",
      "cursor": "grab"
     }
    },
    "0f52974d87fb46e1bba660cfc80a6852": {
     "model_module": "jupyter-leaflet",
     "model_module_version": "^0.18",
     "model_name": "LeafletFullScreenControlModel",
     "state": {
      "_model_module": "jupyter-leaflet",
      "_model_module_version": "^0.18",
      "_model_name": "LeafletFullScreenControlModel",
      "_view_count": null,
      "_view_module": "jupyter-leaflet",
      "_view_module_version": "^0.18",
      "_view_name": "LeafletFullScreenControlView",
      "options": [
       "position"
      ],
      "position": "topleft"
     }
    },
    "10c317a7919d4a36a562f6e5974775d8": {
     "model_module": "jupyter-leaflet",
     "model_module_version": "^0.18",
     "model_name": "LeafletAttributionControlModel",
     "state": {
      "_model_module": "jupyter-leaflet",
      "_model_module_version": "^0.18",
      "_model_name": "LeafletAttributionControlModel",
      "_view_count": null,
      "_view_module": "jupyter-leaflet",
      "_view_module_version": "^0.18",
      "_view_name": "LeafletAttributionControlView",
      "options": [
       "position",
       "prefix"
      ],
      "position": "bottomright",
      "prefix": "ipyleaflet"
     }
    },
    "10fba89767994c5a9dae044a6513e6a8": {
     "model_module": "jupyter-leaflet",
     "model_module_version": "^0.18",
     "model_name": "LeafletWidgetControlModel",
     "state": {
      "_model_module": "jupyter-leaflet",
      "_model_module_version": "^0.18",
      "_model_name": "LeafletWidgetControlModel",
      "_view_count": null,
      "_view_module": "jupyter-leaflet",
      "_view_module_version": "^0.18",
      "_view_name": "LeafletWidgetControlView",
      "max_height": null,
      "max_width": null,
      "min_height": null,
      "min_width": null,
      "options": [
       "position",
       "transparent_bg"
      ],
      "position": "topright",
      "transparent_bg": false,
      "widget": "IPY_MODEL_2a1ffdca1a914fecb7ee24f4a06ac84b"
     }
    },
    "117b185d4da24551bcc90d4335d29298": {
     "model_module": "jupyter-leaflet",
     "model_module_version": "^0.18",
     "model_name": "LeafletWidgetControlModel",
     "state": {
      "_model_module": "jupyter-leaflet",
      "_model_module_version": "^0.18",
      "_model_name": "LeafletWidgetControlModel",
      "_view_count": null,
      "_view_module": "jupyter-leaflet",
      "_view_module_version": "^0.18",
      "_view_name": "LeafletWidgetControlView",
      "max_height": null,
      "max_width": null,
      "min_height": null,
      "min_width": null,
      "options": [
       "position",
       "transparent_bg"
      ],
      "position": "topleft",
      "transparent_bg": false,
      "widget": "IPY_MODEL_685f05502ed2429e825eb70c20b92d32"
     }
    },
    "1323efb493ff4909b416f5964594fb7a": {
     "model_module": "jupyter-leaflet",
     "model_module_version": "^0.18",
     "model_name": "LeafletZoomControlModel",
     "state": {
      "_model_module": "jupyter-leaflet",
      "_model_module_version": "^0.18",
      "_model_name": "LeafletZoomControlModel",
      "_view_count": null,
      "_view_module": "jupyter-leaflet",
      "_view_module_version": "^0.18",
      "_view_name": "LeafletZoomControlView",
      "options": [
       "position",
       "zoom_in_text",
       "zoom_in_title",
       "zoom_out_text",
       "zoom_out_title"
      ],
      "position": "topleft",
      "zoom_in_text": "+",
      "zoom_in_title": "Zoom in",
      "zoom_out_text": "-",
      "zoom_out_title": "Zoom out"
     }
    },
    "13755d63101e4ad8baf8587e0c2feedb": {
     "model_module": "jupyter-leaflet",
     "model_module_version": "^0.18",
     "model_name": "LeafletMapStyleModel",
     "state": {
      "_model_module": "jupyter-leaflet",
      "_model_module_version": "^0.18",
      "_model_name": "LeafletMapStyleModel",
      "_view_count": null,
      "_view_module": "@jupyter-widgets/base",
      "_view_module_version": "1.2.0",
      "_view_name": "StyleView",
      "cursor": "grab"
     }
    },
    "13c9c6cad8df4f5daf37f111a8dc7c03": {
     "model_module": "jupyter-leaflet",
     "model_module_version": "^0.18",
     "model_name": "LeafletDrawControlModel",
     "state": {
      "_model_module": "jupyter-leaflet",
      "_model_module_version": "^0.18",
      "_model_name": "LeafletDrawControlModel",
      "_view_count": null,
      "_view_module": "jupyter-leaflet",
      "_view_module_version": "^0.18",
      "_view_name": "LeafletDrawControlView",
      "circle": {},
      "circlemarker": {},
      "data": [],
      "edit": true,
      "marker": {
       "shapeOptions": {
        "color": "#3388ff"
       }
      },
      "options": [
       "position"
      ],
      "polygon": {
       "shapeOptions": {}
      },
      "polyline": {
       "shapeOptions": {}
      },
      "position": "topleft",
      "rectangle": {
       "shapeOptions": {
        "color": "#3388ff"
       }
      },
      "remove": true
     }
    },
    "13cbb0c1b342485fb234779aa5db5cf5": {
     "model_module": "@jupyter-widgets/base",
     "model_module_version": "1.2.0",
     "model_name": "LayoutModel",
     "state": {
      "_model_module": "@jupyter-widgets/base",
      "_model_module_version": "1.2.0",
      "_model_name": "LayoutModel",
      "_view_count": null,
      "_view_module": "@jupyter-widgets/base",
      "_view_module_version": "1.2.0",
      "_view_name": "LayoutView",
      "align_content": null,
      "align_items": null,
      "align_self": null,
      "border": null,
      "bottom": null,
      "display": null,
      "flex": null,
      "flex_flow": null,
      "grid_area": null,
      "grid_auto_columns": null,
      "grid_auto_flow": null,
      "grid_auto_rows": null,
      "grid_column": null,
      "grid_gap": null,
      "grid_row": null,
      "grid_template_areas": null,
      "grid_template_columns": null,
      "grid_template_rows": null,
      "height": null,
      "justify_content": null,
      "justify_items": null,
      "left": null,
      "margin": null,
      "max_height": null,
      "max_width": null,
      "min_height": null,
      "min_width": null,
      "object_fit": null,
      "object_position": null,
      "order": null,
      "overflow": null,
      "overflow_x": null,
      "overflow_y": null,
      "padding": null,
      "right": null,
      "top": null,
      "visibility": null,
      "width": null
     }
    },
    "15a684d8a0a84cd981c34287f5af6076": {
     "model_module": "jupyter-leaflet",
     "model_module_version": "^0.18",
     "model_name": "LeafletMeasureControlModel",
     "state": {
      "_custom_units": {},
      "_model_module": "jupyter-leaflet",
      "_model_module_version": "^0.18",
      "_model_name": "LeafletMeasureControlModel",
      "_view_count": null,
      "_view_module": "jupyter-leaflet",
      "_view_module_version": "^0.18",
      "_view_name": "LeafletMeasureControlView",
      "active_color": "orange",
      "capture_z_index": 10000,
      "completed_color": "#C8F2BE",
      "options": [
       "active_color",
       "capture_z_index",
       "completed_color",
       "popup_options",
       "position",
       "primary_area_unit",
       "primary_length_unit",
       "secondary_area_unit",
       "secondary_length_unit"
      ],
      "popup_options": {
       "autoPanPadding": [
        10,
        10
       ],
       "className": "leaflet-measure-resultpopup"
      },
      "position": "bottomleft",
      "primary_area_unit": "acres",
      "primary_length_unit": "kilometers",
      "secondary_area_unit": null,
      "secondary_length_unit": null
     }
    },
    "16ab11f19d6444f286f5ec2eed02b474": {
     "model_module": "@jupyter-widgets/base",
     "model_module_version": "1.2.0",
     "model_name": "LayoutModel",
     "state": {
      "_model_module": "@jupyter-widgets/base",
      "_model_module_version": "1.2.0",
      "_model_name": "LayoutModel",
      "_view_count": null,
      "_view_module": "@jupyter-widgets/base",
      "_view_module_version": "1.2.0",
      "_view_name": "LayoutView",
      "align_content": null,
      "align_items": null,
      "align_self": null,
      "border": null,
      "bottom": null,
      "display": null,
      "flex": null,
      "flex_flow": null,
      "grid_area": null,
      "grid_auto_columns": null,
      "grid_auto_flow": null,
      "grid_auto_rows": null,
      "grid_column": null,
      "grid_gap": null,
      "grid_row": null,
      "grid_template_areas": null,
      "grid_template_columns": null,
      "grid_template_rows": null,
      "height": "28px",
      "justify_content": null,
      "justify_items": null,
      "left": null,
      "margin": null,
      "max_height": null,
      "max_width": null,
      "min_height": null,
      "min_width": null,
      "object_fit": null,
      "object_position": null,
      "order": null,
      "overflow": null,
      "overflow_x": null,
      "overflow_y": null,
      "padding": "0px 0px 0px 4px",
      "right": null,
      "top": null,
      "visibility": null,
      "width": "28px"
     }
    },
    "177cf89f9135401b8149519dc4f8dff0": {
     "model_module": "@jupyter-widgets/controls",
     "model_module_version": "1.5.0",
     "model_name": "HBoxModel",
     "state": {
      "_dom_classes": [
       "geemap-colab"
      ],
      "_model_module": "@jupyter-widgets/controls",
      "_model_module_version": "1.5.0",
      "_model_name": "HBoxModel",
      "_view_count": null,
      "_view_module": "@jupyter-widgets/controls",
      "_view_module_version": "1.5.0",
      "_view_name": "HBoxView",
      "box_style": "",
      "children": [
       "IPY_MODEL_960f3e300ad14d1c927986d356669132"
      ],
      "layout": "IPY_MODEL_6d7c4efea74b44c58352d5ea27e83de0"
     }
    },
    "1abca052ed834eb4ab662f69158b5ddc": {
     "model_module": "jupyter-leaflet",
     "model_module_version": "^0.18",
     "model_name": "LeafletTileLayerModel",
     "state": {
      "_model_module": "jupyter-leaflet",
      "_model_module_version": "^0.18",
      "_model_name": "LeafletTileLayerModel",
      "_view_count": null,
      "_view_module": "jupyter-leaflet",
      "_view_module_version": "^0.18",
      "_view_name": "LeafletTileLayerView",
      "attribution": "Google Earth Engine",
      "base": false,
      "bottom": true,
      "bounds": null,
      "detect_retina": false,
      "loading": false,
      "max_native_zoom": null,
      "max_zoom": 24,
      "min_native_zoom": null,
      "min_zoom": 0,
      "name": "corrected descending",
      "no_wrap": false,
      "opacity": 1,
      "options": [
       "attribution",
       "bounds",
       "detect_retina",
       "max_native_zoom",
       "max_zoom",
       "min_native_zoom",
       "min_zoom",
       "no_wrap",
       "tile_size",
       "tms",
       "zoom_offset"
      ],
      "pane": "",
      "popup": null,
      "popup_max_height": null,
      "popup_max_width": 300,
      "popup_min_width": 50,
      "show_loading": false,
      "subitems": [],
      "tile_size": 256,
      "tms": false,
      "url": "https://earthengine.googleapis.com/v1/projects/ee-koreenmillard/maps/560e63503b2bbf0227b5ff57e59ae0dc-4ea8297fe873bb25a87582a39c3edf97/tiles/{z}/{x}/{y}",
      "visible": true,
      "zoom_offset": 0
     }
    },
    "1b8cf51d6d5c47cd84fe58450dad5d9d": {
     "model_module": "jupyter-leaflet",
     "model_module_version": "^0.18",
     "model_name": "LeafletMapModel",
     "state": {
      "_dom_classes": [],
      "_model_module": "jupyter-leaflet",
      "_model_module_version": "^0.18",
      "_model_name": "LeafletMapModel",
      "_view_count": null,
      "_view_module": "jupyter-leaflet",
      "_view_module_version": "^0.18",
      "_view_name": "LeafletMapView",
      "bottom": 19054,
      "bounce_at_zoom_limits": true,
      "box_zoom": true,
      "center": [
       60.75507900000001,
       -139.013173
      ],
      "close_popup_on_click": true,
      "controls": [
       "IPY_MODEL_a62dcedc8d2b414f8a68a60c407e8762",
       "IPY_MODEL_c23e0cb903d54b8dbe56df012944412a",
       "IPY_MODEL_54f8c4494f77426cbf9e4375725455b6",
       "IPY_MODEL_d687276ab4c54e87bc24316970f0bb43",
       "IPY_MODEL_cdc6ec4792694ff89f47e2e74f0c21c4",
       "IPY_MODEL_c453340d80b64a6690baf9cbaa85fb5e",
       "IPY_MODEL_10fba89767994c5a9dae044a6513e6a8",
       "IPY_MODEL_87b362562d9840219b649fd2d24c8e1f"
      ],
      "crs": {
       "custom": false,
       "name": "EPSG3857"
      },
      "default_style": "IPY_MODEL_36f5bc65032142c6890f6d240565ceaf",
      "double_click_zoom": true,
      "dragging": true,
      "dragging_style": "IPY_MODEL_e034a2e3728f4f5c9b19e4a44e356a65",
      "east": -135.74157714843753,
      "fullscreen": false,
      "inertia": true,
      "inertia_deceleration": 3000,
      "inertia_max_speed": 1500,
      "interpolation": "bilinear",
      "keyboard": true,
      "keyboard_pan_offset": 80,
      "keyboard_zoom_offset": 1,
      "layers": [
       "IPY_MODEL_896cc5fb6b1f4c24b0c27c7b8faa1f4b",
       "IPY_MODEL_4ed029fcd7184a58bcea1da68d501786",
       "IPY_MODEL_3dca9b95cf934d00a7f3df6ec6518885"
      ],
      "layout": "IPY_MODEL_edab27180e9a4586a68ff89ff576f94c",
      "left": 6866,
      "max_zoom": 24,
      "min_zoom": null,
      "modisdate": "2024-03-23",
      "north": 61.54887590143483,
      "options": [
       "bounce_at_zoom_limits",
       "box_zoom",
       "center",
       "close_popup_on_click",
       "double_click_zoom",
       "dragging",
       "fullscreen",
       "inertia",
       "inertia_deceleration",
       "inertia_max_speed",
       "interpolation",
       "keyboard",
       "keyboard_pan_offset",
       "keyboard_zoom_offset",
       "max_zoom",
       "min_zoom",
       "prefer_canvas",
       "scroll_wheel_zoom",
       "tap",
       "tap_tolerance",
       "touch_zoom",
       "world_copy_jump",
       "zoom",
       "zoom_animation_threshold",
       "zoom_delta",
       "zoom_snap"
      ],
      "panes": {},
      "prefer_canvas": false,
      "right": 8057,
      "scroll_wheel_zoom": true,
      "south": 59.938504253195234,
      "style": "IPY_MODEL_0b8e6ce23c384dba8acb033069e3c183",
      "tap": true,
      "tap_tolerance": 15,
      "top": 18454,
      "touch_zoom": true,
      "west": -142.28393554687503,
      "window_url": "https://92xnw0u9qnb-496ff2e9c6d22116-0-colab.googleusercontent.com/outputframe.html?vrz=colab_20240321-060149_RC00_617803427",
      "world_copy_jump": false,
      "zoom": 8,
      "zoom_animation_threshold": 4,
      "zoom_delta": 1,
      "zoom_snap": 1
     }
    },
    "1bdc9f38cee240e4b7450cf7890c82a4": {
     "model_module": "@jupyter-widgets/controls",
     "model_module_version": "1.5.0",
     "model_name": "ToggleButtonModel",
     "state": {
      "_dom_classes": [],
      "_model_module": "@jupyter-widgets/controls",
      "_model_module_version": "1.5.0",
      "_model_name": "ToggleButtonModel",
      "_view_count": null,
      "_view_module": "@jupyter-widgets/controls",
      "_view_module_version": "1.5.0",
      "_view_name": "ToggleButtonView",
      "button_style": "",
      "description": "",
      "description_tooltip": null,
      "disabled": false,
      "icon": "globe",
      "layout": "IPY_MODEL_23cad0a5e789436086f843598ac7d217",
      "style": "IPY_MODEL_e0ad468eaa1b46ad8b8518118094ca1d",
      "tooltip": "Search location/data",
      "value": false
     }
    },
    "1d38e0b4e8414ecdbae7cd5a84a15a03": {
     "model_module": "jupyter-leaflet",
     "model_module_version": "^0.18",
     "model_name": "LeafletMapModel",
     "state": {
      "_dom_classes": [],
      "_model_module": "jupyter-leaflet",
      "_model_module_version": "^0.18",
      "_model_name": "LeafletMapModel",
      "_view_count": null,
      "_view_module": "jupyter-leaflet",
      "_view_module_version": "^0.18",
      "_view_name": "LeafletMapView",
      "bottom": 9677,
      "bounce_at_zoom_limits": true,
      "box_zoom": true,
      "center": [
       60.755079,
       -139.013173
      ],
      "close_popup_on_click": true,
      "controls": [
       "IPY_MODEL_3090522a399746de93267a91c0cd70e2",
       "IPY_MODEL_d92003973f9240c6b5a560abf7752977",
       "IPY_MODEL_e3693f5f84b141d5b4a13ee20e673f8e",
       "IPY_MODEL_4cd6579f59ab4a9e947cfe8fcf400d6b",
       "IPY_MODEL_f9bfddb7e11f474aa1649e4e14818af2",
       "IPY_MODEL_f429e348e79746da857c04d60e5d19a8",
       "IPY_MODEL_5f6a1fe22a5b4de69baeab2c65bc6a0c",
       "IPY_MODEL_30005758e76e4e14ad622439d03415f4"
      ],
      "crs": {
       "custom": false,
       "name": "EPSG3857"
      },
      "default_style": "IPY_MODEL_c1d8f1eafa794d72ab052fa6537a8005",
      "double_click_zoom": true,
      "dragging": true,
      "dragging_style": "IPY_MODEL_7f869c17904c42d09325cf3bbae97595",
      "east": -132.47314453125003,
      "fullscreen": false,
      "inertia": true,
      "inertia_deceleration": 3000,
      "inertia_max_speed": 1500,
      "interpolation": "bilinear",
      "keyboard": true,
      "keyboard_pan_offset": 80,
      "keyboard_zoom_offset": 1,
      "layers": [
       "IPY_MODEL_1dd39eb22f2f4626b7942ae63c2fc674",
       "IPY_MODEL_41a25047e8604650b518d150932fbecc",
       "IPY_MODEL_f73eccbc694c4d46a5dd0a1ea68fd639"
      ],
      "layout": "IPY_MODEL_0d4cd9a5331843089fd79c3c5e98b0f1",
      "left": 3135,
      "max_zoom": 24,
      "min_zoom": null,
      "modisdate": "2024-03-23",
      "north": 62.32410603355886,
      "options": [
       "bounce_at_zoom_limits",
       "box_zoom",
       "center",
       "close_popup_on_click",
       "double_click_zoom",
       "dragging",
       "fullscreen",
       "inertia",
       "inertia_deceleration",
       "inertia_max_speed",
       "interpolation",
       "keyboard",
       "keyboard_pan_offset",
       "keyboard_zoom_offset",
       "max_zoom",
       "min_zoom",
       "prefer_canvas",
       "scroll_wheel_zoom",
       "tap",
       "tap_tolerance",
       "touch_zoom",
       "world_copy_jump",
       "zoom",
       "zoom_animation_threshold",
       "zoom_delta",
       "zoom_snap"
      ],
      "panes": {},
      "prefer_canvas": false,
      "right": 4326,
      "scroll_wheel_zoom": true,
      "south": 59.10266722885383,
      "style": "IPY_MODEL_c1d8f1eafa794d72ab052fa6537a8005",
      "tap": true,
      "tap_tolerance": 15,
      "top": 9077,
      "touch_zoom": true,
      "west": -145.55786132812503,
      "window_url": "https://92xnw0u9qnb-496ff2e9c6d22116-0-colab.googleusercontent.com/outputframe.html?vrz=colab_20240321-060149_RC00_617803427",
      "world_copy_jump": false,
      "zoom": 8,
      "zoom_animation_threshold": 4,
      "zoom_delta": 1,
      "zoom_snap": 1
     }
    },
    "1dc4686bf6e143b7989c535676097b4a": {
     "model_module": "jupyter-leaflet",
     "model_module_version": "^0.18",
     "model_name": "LeafletFullScreenControlModel",
     "state": {
      "_model_module": "jupyter-leaflet",
      "_model_module_version": "^0.18",
      "_model_name": "LeafletFullScreenControlModel",
      "_view_count": null,
      "_view_module": "jupyter-leaflet",
      "_view_module_version": "^0.18",
      "_view_name": "LeafletFullScreenControlView",
      "options": [
       "position"
      ],
      "position": "topleft"
     }
    },
    "1dd39eb22f2f4626b7942ae63c2fc674": {
     "model_module": "jupyter-leaflet",
     "model_module_version": "^0.18",
     "model_name": "LeafletTileLayerModel",
     "state": {
      "_model_module": "jupyter-leaflet",
      "_model_module_version": "^0.18",
      "_model_name": "LeafletTileLayerModel",
      "_view_count": null,
      "_view_module": "jupyter-leaflet",
      "_view_module_version": "^0.18",
      "_view_name": "LeafletTileLayerView",
      "attribution": "&copy; <a href=\"https://www.openstreetmap.org/copyright\">OpenStreetMap</a> contributors",
      "base": true,
      "bottom": true,
      "bounds": null,
      "detect_retina": false,
      "loading": false,
      "max_native_zoom": null,
      "max_zoom": 19,
      "min_native_zoom": null,
      "min_zoom": 1,
      "name": "OpenStreetMap.Mapnik",
      "no_wrap": false,
      "opacity": 1,
      "options": [
       "attribution",
       "bounds",
       "detect_retina",
       "max_native_zoom",
       "max_zoom",
       "min_native_zoom",
       "min_zoom",
       "no_wrap",
       "tile_size",
       "tms",
       "zoom_offset"
      ],
      "pane": "",
      "popup": null,
      "popup_max_height": null,
      "popup_max_width": 300,
      "popup_min_width": 50,
      "show_loading": false,
      "subitems": [],
      "tile_size": 256,
      "tms": false,
      "url": "https://tile.openstreetmap.org/{z}/{x}/{y}.png",
      "visible": true,
      "zoom_offset": 0
     }
    },
    "1dd3e09cca874e3094ca4d81ef032b62": {
     "model_module": "jupyter-leaflet",
     "model_module_version": "^0.18",
     "model_name": "LeafletTileLayerModel",
     "state": {
      "_model_module": "jupyter-leaflet",
      "_model_module_version": "^0.18",
      "_model_name": "LeafletTileLayerModel",
      "_view_count": null,
      "_view_module": "jupyter-leaflet",
      "_view_module_version": "^0.18",
      "_view_name": "LeafletTileLayerView",
      "attribution": "Google Earth Engine",
      "base": false,
      "bottom": true,
      "bounds": null,
      "detect_retina": false,
      "loading": false,
      "max_native_zoom": null,
      "max_zoom": 24,
      "min_native_zoom": null,
      "min_zoom": 0,
      "name": "layover descending",
      "no_wrap": false,
      "opacity": 0.5,
      "options": [
       "attribution",
       "bounds",
       "detect_retina",
       "max_native_zoom",
       "max_zoom",
       "min_native_zoom",
       "min_zoom",
       "no_wrap",
       "tile_size",
       "tms",
       "zoom_offset"
      ],
      "pane": "",
      "popup": null,
      "popup_max_height": null,
      "popup_max_width": 300,
      "popup_min_width": 50,
      "show_loading": false,
      "subitems": [],
      "tile_size": 256,
      "tms": false,
      "url": "https://earthengine.googleapis.com/v1/projects/ee-koreenmillard/maps/a40a51f5226eccd20d72b2f3668c3ce5-f532e044889ef34385a6e03fd73cfbe5/tiles/{z}/{x}/{y}",
      "visible": true,
      "zoom_offset": 0
     }
    },
    "1de6e9a139694ad7b89a836f24642498": {
     "model_module": "@jupyter-widgets/controls",
     "model_module_version": "1.5.0",
     "model_name": "ToggleButtonModel",
     "state": {
      "_dom_classes": [],
      "_model_module": "@jupyter-widgets/controls",
      "_model_module_version": "1.5.0",
      "_model_name": "ToggleButtonModel",
      "_view_count": null,
      "_view_module": "@jupyter-widgets/controls",
      "_view_module_version": "1.5.0",
      "_view_name": "ToggleButtonView",
      "button_style": "",
      "description": "",
      "description_tooltip": null,
      "disabled": false,
      "icon": "globe",
      "layout": "IPY_MODEL_2aa1973f283b466097b28e67c105b0ca",
      "style": "IPY_MODEL_e7602f52c32c4ec2b332caffb309ad4e",
      "tooltip": "Search location/data",
      "value": false
     }
    },
    "1e26a8ebc10b448b92b92c6e7cf06a77": {
     "model_module": "@jupyter-widgets/base",
     "model_module_version": "1.2.0",
     "model_name": "LayoutModel",
     "state": {
      "_model_module": "@jupyter-widgets/base",
      "_model_module_version": "1.2.0",
      "_model_name": "LayoutModel",
      "_view_count": null,
      "_view_module": "@jupyter-widgets/base",
      "_view_module_version": "1.2.0",
      "_view_name": "LayoutView",
      "align_content": null,
      "align_items": null,
      "align_self": null,
      "border": null,
      "bottom": null,
      "display": null,
      "flex": null,
      "flex_flow": null,
      "grid_area": null,
      "grid_auto_columns": null,
      "grid_auto_flow": null,
      "grid_auto_rows": null,
      "grid_column": null,
      "grid_gap": null,
      "grid_row": null,
      "grid_template_areas": null,
      "grid_template_columns": null,
      "grid_template_rows": null,
      "height": "28px",
      "justify_content": null,
      "justify_items": null,
      "left": null,
      "margin": null,
      "max_height": null,
      "max_width": null,
      "min_height": null,
      "min_width": null,
      "object_fit": null,
      "object_position": null,
      "order": null,
      "overflow": null,
      "overflow_x": null,
      "overflow_y": null,
      "padding": "0px 0px 0px 4px",
      "right": null,
      "top": null,
      "visibility": null,
      "width": "28px"
     }
    },
    "1e4f46f0d55e48babadd730a536f2481": {
     "model_module": "jupyter-leaflet",
     "model_module_version": "^0.18",
     "model_name": "LeafletTileLayerModel",
     "state": {
      "_model_module": "jupyter-leaflet",
      "_model_module_version": "^0.18",
      "_model_name": "LeafletTileLayerModel",
      "_view_count": null,
      "_view_module": "jupyter-leaflet",
      "_view_module_version": "^0.18",
      "_view_name": "LeafletTileLayerView",
      "attribution": "Google Earth Engine",
      "base": false,
      "bottom": true,
      "bounds": null,
      "detect_retina": false,
      "loading": false,
      "max_native_zoom": null,
      "max_zoom": 24,
      "min_native_zoom": null,
      "min_zoom": 0,
      "name": "S1-image_VV",
      "no_wrap": false,
      "opacity": 1,
      "options": [
       "attribution",
       "bounds",
       "detect_retina",
       "max_native_zoom",
       "max_zoom",
       "min_native_zoom",
       "min_zoom",
       "no_wrap",
       "tile_size",
       "tms",
       "zoom_offset"
      ],
      "pane": "",
      "popup": null,
      "popup_max_height": null,
      "popup_max_width": 300,
      "popup_min_width": 50,
      "show_loading": false,
      "subitems": [],
      "tile_size": 256,
      "tms": false,
      "url": "https://earthengine.googleapis.com/v1/projects/ee-koreenmillard/maps/6b5f40f4375bdd18703016de0dc4cf04-16deb500085dd0c8d3efe06ecef12c3d/tiles/{z}/{x}/{y}",
      "visible": true,
      "zoom_offset": 0
     }
    },
    "1ece4f6dbd184316925af5ba99a5d0fc": {
     "model_module": "jupyter-leaflet",
     "model_module_version": "^0.18",
     "model_name": "LeafletMapModel",
     "state": {
      "_dom_classes": [],
      "_model_module": "jupyter-leaflet",
      "_model_module_version": "^0.18",
      "_model_name": "LeafletMapModel",
      "_view_count": null,
      "_view_module": "jupyter-leaflet",
      "_view_module_version": "^0.18",
      "_view_name": "LeafletMapView",
      "bottom": 37841,
      "bounce_at_zoom_limits": true,
      "box_zoom": true,
      "center": [
       60.81000000000001,
       -138.59
      ],
      "close_popup_on_click": true,
      "controls": [
       "IPY_MODEL_1fba95e93ead4dbbb8339d9bd8e44b80",
       "IPY_MODEL_1323efb493ff4909b416f5964594fb7a",
       "IPY_MODEL_0f52974d87fb46e1bba660cfc80a6852",
       "IPY_MODEL_94a5c9469b55414382c3ab8c70b6bcf1",
       "IPY_MODEL_cf03fade17e440acbe1ec68bb0b22eef",
       "IPY_MODEL_8be0cd4490794e559e96a5dfeaf17258",
       "IPY_MODEL_bffd4b6032f14948bbb8aa9ab95aa2b5",
       "IPY_MODEL_623dbafec1e448069d1a0392de833a41"
      ],
      "crs": {
       "custom": false,
       "name": "EPSG3857"
      },
      "default_style": "IPY_MODEL_979c5de883dd4b509720830d2df90899",
      "double_click_zoom": true,
      "dragging": true,
      "dragging_style": "IPY_MODEL_0ebe5c418cbf4fde8968ae5995904560",
      "east": -137.21649169921878,
      "fullscreen": false,
      "inertia": true,
      "inertia_deceleration": 3000,
      "inertia_max_speed": 1500,
      "interpolation": "bilinear",
      "keyboard": true,
      "keyboard_pan_offset": 80,
      "keyboard_zoom_offset": 1,
      "layers": [
       "IPY_MODEL_b77e4e17bf914b87b6f2066ae0d3ffa5",
       "IPY_MODEL_5c18073f28f2451dbfacbccbebb90200"
      ],
      "layout": "IPY_MODEL_786d4d45d05c42fe956fa981821cdc8e",
      "left": 14577,
      "max_zoom": 24,
      "min_zoom": null,
      "modisdate": "2024-03-23",
      "north": 61.30849597641668,
      "options": [
       "bounce_at_zoom_limits",
       "box_zoom",
       "center",
       "close_popup_on_click",
       "double_click_zoom",
       "dragging",
       "fullscreen",
       "inertia",
       "inertia_deceleration",
       "inertia_max_speed",
       "interpolation",
       "keyboard",
       "keyboard_pan_offset",
       "keyboard_zoom_offset",
       "max_zoom",
       "min_zoom",
       "prefer_canvas",
       "scroll_wheel_zoom",
       "tap",
       "tap_tolerance",
       "touch_zoom",
       "world_copy_jump",
       "zoom",
       "zoom_animation_threshold",
       "zoom_delta",
       "zoom_snap"
      ],
      "panes": {},
      "prefer_canvas": false,
      "right": 15577,
      "scroll_wheel_zoom": true,
      "south": 60.303824732543795,
      "style": "IPY_MODEL_973b75a76958439694b86613b60e8438",
      "tap": true,
      "tap_tolerance": 15,
      "top": 37091,
      "touch_zoom": true,
      "west": -139.96307373046878,
      "window_url": "https://92xnw0u9qnb-496ff2e9c6d22116-0-colab.googleusercontent.com/outputframe.html?vrz=colab_20240321-060149_RC00_617803427",
      "world_copy_jump": false,
      "zoom": 9,
      "zoom_animation_threshold": 4,
      "zoom_delta": 1,
      "zoom_snap": 1
     }
    },
    "1f7e1a8e24504f4d9f7e00015b82d904": {
     "model_module": "jupyter-leaflet",
     "model_module_version": "^0.18",
     "model_name": "LeafletMeasureControlModel",
     "state": {
      "_custom_units": {},
      "_model_module": "jupyter-leaflet",
      "_model_module_version": "^0.18",
      "_model_name": "LeafletMeasureControlModel",
      "_view_count": null,
      "_view_module": "jupyter-leaflet",
      "_view_module_version": "^0.18",
      "_view_name": "LeafletMeasureControlView",
      "active_color": "orange",
      "capture_z_index": 10000,
      "completed_color": "#C8F2BE",
      "options": [
       "active_color",
       "capture_z_index",
       "completed_color",
       "popup_options",
       "position",
       "primary_area_unit",
       "primary_length_unit",
       "secondary_area_unit",
       "secondary_length_unit"
      ],
      "popup_options": {
       "autoPanPadding": [
        10,
        10
       ],
       "className": "leaflet-measure-resultpopup"
      },
      "position": "bottomleft",
      "primary_area_unit": "acres",
      "primary_length_unit": "kilometers",
      "secondary_area_unit": null,
      "secondary_length_unit": null
     }
    },
    "1fba95e93ead4dbbb8339d9bd8e44b80": {
     "model_module": "jupyter-leaflet",
     "model_module_version": "^0.18",
     "model_name": "LeafletWidgetControlModel",
     "state": {
      "_model_module": "jupyter-leaflet",
      "_model_module_version": "^0.18",
      "_model_name": "LeafletWidgetControlModel",
      "_view_count": null,
      "_view_module": "jupyter-leaflet",
      "_view_module_version": "^0.18",
      "_view_name": "LeafletWidgetControlView",
      "max_height": null,
      "max_width": null,
      "min_height": null,
      "min_width": null,
      "options": [
       "position",
       "transparent_bg"
      ],
      "position": "topleft",
      "transparent_bg": false,
      "widget": "IPY_MODEL_177cf89f9135401b8149519dc4f8dff0"
     }
    },
    "1fd68a995b1a4c7caface9dafd3bf5bd": {
     "model_module": "jupyter-leaflet",
     "model_module_version": "^0.18",
     "model_name": "LeafletMapStyleModel",
     "state": {
      "_model_module": "jupyter-leaflet",
      "_model_module_version": "^0.18",
      "_model_name": "LeafletMapStyleModel",
      "_view_count": null,
      "_view_module": "@jupyter-widgets/base",
      "_view_module_version": "1.2.0",
      "_view_name": "StyleView",
      "cursor": "grab"
     }
    },
    "2278af2cfca547ce9f560bae25d11240": {
     "model_module": "jupyter-leaflet",
     "model_module_version": "^0.18",
     "model_name": "LeafletTileLayerModel",
     "state": {
      "_model_module": "jupyter-leaflet",
      "_model_module_version": "^0.18",
      "_model_name": "LeafletTileLayerModel",
      "_view_count": null,
      "_view_module": "jupyter-leaflet",
      "_view_module_version": "^0.18",
      "_view_name": "LeafletTileLayerView",
      "attribution": "&copy; <a href=\"https://www.openstreetmap.org/copyright\">OpenStreetMap</a> contributors",
      "base": true,
      "bottom": true,
      "bounds": null,
      "detect_retina": false,
      "loading": false,
      "max_native_zoom": null,
      "max_zoom": 19,
      "min_native_zoom": null,
      "min_zoom": 1,
      "name": "OpenStreetMap.Mapnik",
      "no_wrap": false,
      "opacity": 1,
      "options": [
       "attribution",
       "bounds",
       "detect_retina",
       "max_native_zoom",
       "max_zoom",
       "min_native_zoom",
       "min_zoom",
       "no_wrap",
       "tile_size",
       "tms",
       "zoom_offset"
      ],
      "pane": "",
      "popup": null,
      "popup_max_height": null,
      "popup_max_width": 300,
      "popup_min_width": 50,
      "show_loading": false,
      "subitems": [],
      "tile_size": 256,
      "tms": false,
      "url": "https://tile.openstreetmap.org/{z}/{x}/{y}.png",
      "visible": true,
      "zoom_offset": 0
     }
    },
    "2332d4ee01764ca8813e0d22f9b41547": {
     "model_module": "@jupyter-widgets/controls",
     "model_module_version": "1.5.0",
     "model_name": "VBoxModel",
     "state": {
      "_dom_classes": [
       "geemap-colab"
      ],
      "_model_module": "@jupyter-widgets/controls",
      "_model_module_version": "1.5.0",
      "_model_name": "VBoxModel",
      "_view_count": null,
      "_view_module": "@jupyter-widgets/controls",
      "_view_module_version": "1.5.0",
      "_view_name": "VBoxView",
      "box_style": "",
      "children": [
       "IPY_MODEL_ec3a4440229b414886b5c06e6e7f226e"
      ],
      "layout": "IPY_MODEL_021f90dc19fc4b07bb9eaec877598271"
     }
    },
    "23adea234d1e4b528ff1603418ca772c": {
     "model_module": "jupyter-leaflet",
     "model_module_version": "^0.18",
     "model_name": "LeafletMeasureControlModel",
     "state": {
      "_custom_units": {},
      "_model_module": "jupyter-leaflet",
      "_model_module_version": "^0.18",
      "_model_name": "LeafletMeasureControlModel",
      "_view_count": null,
      "_view_module": "jupyter-leaflet",
      "_view_module_version": "^0.18",
      "_view_name": "LeafletMeasureControlView",
      "active_color": "orange",
      "capture_z_index": 10000,
      "completed_color": "#C8F2BE",
      "options": [
       "active_color",
       "capture_z_index",
       "completed_color",
       "popup_options",
       "position",
       "primary_area_unit",
       "primary_length_unit",
       "secondary_area_unit",
       "secondary_length_unit"
      ],
      "popup_options": {
       "autoPanPadding": [
        10,
        10
       ],
       "className": "leaflet-measure-resultpopup"
      },
      "position": "bottomleft",
      "primary_area_unit": "acres",
      "primary_length_unit": "kilometers",
      "secondary_area_unit": null,
      "secondary_length_unit": null
     }
    },
    "23cad0a5e789436086f843598ac7d217": {
     "model_module": "@jupyter-widgets/base",
     "model_module_version": "1.2.0",
     "model_name": "LayoutModel",
     "state": {
      "_model_module": "@jupyter-widgets/base",
      "_model_module_version": "1.2.0",
      "_model_name": "LayoutModel",
      "_view_count": null,
      "_view_module": "@jupyter-widgets/base",
      "_view_module_version": "1.2.0",
      "_view_name": "LayoutView",
      "align_content": null,
      "align_items": null,
      "align_self": null,
      "border": null,
      "bottom": null,
      "display": null,
      "flex": null,
      "flex_flow": null,
      "grid_area": null,
      "grid_auto_columns": null,
      "grid_auto_flow": null,
      "grid_auto_rows": null,
      "grid_column": null,
      "grid_gap": null,
      "grid_row": null,
      "grid_template_areas": null,
      "grid_template_columns": null,
      "grid_template_rows": null,
      "height": "28px",
      "justify_content": null,
      "justify_items": null,
      "left": null,
      "margin": null,
      "max_height": null,
      "max_width": null,
      "min_height": null,
      "min_width": null,
      "object_fit": null,
      "object_position": null,
      "order": null,
      "overflow": null,
      "overflow_x": null,
      "overflow_y": null,
      "padding": "0px 0px 0px 4px",
      "right": null,
      "top": null,
      "visibility": null,
      "width": "28px"
     }
    },
    "249e88ac263843e4ae162feb6b68e8d1": {
     "model_module": "jupyter-leaflet",
     "model_module_version": "^0.18",
     "model_name": "LeafletZoomControlModel",
     "state": {
      "_model_module": "jupyter-leaflet",
      "_model_module_version": "^0.18",
      "_model_name": "LeafletZoomControlModel",
      "_view_count": null,
      "_view_module": "jupyter-leaflet",
      "_view_module_version": "^0.18",
      "_view_name": "LeafletZoomControlView",
      "options": [
       "position",
       "zoom_in_text",
       "zoom_in_title",
       "zoom_out_text",
       "zoom_out_title"
      ],
      "position": "topleft",
      "zoom_in_text": "+",
      "zoom_in_title": "Zoom in",
      "zoom_out_text": "-",
      "zoom_out_title": "Zoom out"
     }
    },
    "2702718ee65644f5bc54a332adb72f58": {
     "model_module": "@jupyter-widgets/base",
     "model_module_version": "1.2.0",
     "model_name": "LayoutModel",
     "state": {
      "_model_module": "@jupyter-widgets/base",
      "_model_module_version": "1.2.0",
      "_model_name": "LayoutModel",
      "_view_count": null,
      "_view_module": "@jupyter-widgets/base",
      "_view_module_version": "1.2.0",
      "_view_name": "LayoutView",
      "align_content": null,
      "align_items": null,
      "align_self": null,
      "border": null,
      "bottom": null,
      "display": null,
      "flex": null,
      "flex_flow": null,
      "grid_area": null,
      "grid_auto_columns": null,
      "grid_auto_flow": null,
      "grid_auto_rows": null,
      "grid_column": null,
      "grid_gap": null,
      "grid_row": null,
      "grid_template_areas": null,
      "grid_template_columns": null,
      "grid_template_rows": null,
      "height": "600px",
      "justify_content": null,
      "justify_items": null,
      "left": null,
      "margin": null,
      "max_height": null,
      "max_width": null,
      "min_height": null,
      "min_width": null,
      "object_fit": null,
      "object_position": null,
      "order": null,
      "overflow": null,
      "overflow_x": null,
      "overflow_y": null,
      "padding": null,
      "right": null,
      "top": null,
      "visibility": null,
      "width": null
     }
    },
    "278c8f97b28e4d679ca5c1673d452c38": {
     "model_module": "@jupyter-widgets/controls",
     "model_module_version": "1.5.0",
     "model_name": "ToggleButtonModel",
     "state": {
      "_dom_classes": [],
      "_model_module": "@jupyter-widgets/controls",
      "_model_module_version": "1.5.0",
      "_model_name": "ToggleButtonModel",
      "_view_count": null,
      "_view_module": "@jupyter-widgets/controls",
      "_view_module_version": "1.5.0",
      "_view_name": "ToggleButtonView",
      "button_style": "",
      "description": "",
      "description_tooltip": null,
      "disabled": false,
      "icon": "globe",
      "layout": "IPY_MODEL_8d7fd2b1675743f0aad9c9b9a8b81290",
      "style": "IPY_MODEL_f289208f14d64496b1b8546ad98c8adf",
      "tooltip": "Search location/data",
      "value": false
     }
    },
    "27add4b190e04b62b2d6e893791db9b4": {
     "model_module": "@jupyter-widgets/controls",
     "model_module_version": "1.5.0",
     "model_name": "HBoxModel",
     "state": {
      "_dom_classes": [
       "geemap-colab"
      ],
      "_model_module": "@jupyter-widgets/controls",
      "_model_module_version": "1.5.0",
      "_model_name": "HBoxModel",
      "_view_count": null,
      "_view_module": "@jupyter-widgets/controls",
      "_view_module_version": "1.5.0",
      "_view_name": "HBoxView",
      "box_style": "",
      "children": [
       "IPY_MODEL_93fef2062c5142118659504383a3af17"
      ],
      "layout": "IPY_MODEL_c7cc5876fcdd461ca481a8711b6c0c61"
     }
    },
    "289120ab18c34b2fb428905c12f62285": {
     "model_module": "@jupyter-widgets/base",
     "model_module_version": "1.2.0",
     "model_name": "LayoutModel",
     "state": {
      "_model_module": "@jupyter-widgets/base",
      "_model_module_version": "1.2.0",
      "_model_name": "LayoutModel",
      "_view_count": null,
      "_view_module": "@jupyter-widgets/base",
      "_view_module_version": "1.2.0",
      "_view_name": "LayoutView",
      "align_content": null,
      "align_items": null,
      "align_self": null,
      "border": null,
      "bottom": null,
      "display": null,
      "flex": null,
      "flex_flow": null,
      "grid_area": null,
      "grid_auto_columns": null,
      "grid_auto_flow": null,
      "grid_auto_rows": null,
      "grid_column": null,
      "grid_gap": null,
      "grid_row": null,
      "grid_template_areas": null,
      "grid_template_columns": null,
      "grid_template_rows": null,
      "height": null,
      "justify_content": null,
      "justify_items": null,
      "left": null,
      "margin": null,
      "max_height": null,
      "max_width": null,
      "min_height": null,
      "min_width": null,
      "object_fit": null,
      "object_position": null,
      "order": null,
      "overflow": null,
      "overflow_x": null,
      "overflow_y": null,
      "padding": null,
      "right": null,
      "top": null,
      "visibility": null,
      "width": null
     }
    },
    "2a0410d130244212ac0403ded4e93f7d": {
     "model_module": "jupyter-leaflet",
     "model_module_version": "^0.18",
     "model_name": "LeafletMapModel",
     "state": {
      "_dom_classes": [],
      "_model_module": "jupyter-leaflet",
      "_model_module_version": "^0.18",
      "_model_name": "LeafletMapModel",
      "_view_count": null,
      "_view_module": "jupyter-leaflet",
      "_view_module_version": "^0.18",
      "_view_name": "LeafletMapView",
      "bottom": 593,
      "bounce_at_zoom_limits": true,
      "box_zoom": true,
      "center": [
       60.755079,
       -139.013173
      ],
      "close_popup_on_click": true,
      "controls": [
       "IPY_MODEL_a441ef01da6b4ab18b9d667ecf93d0ab",
       "IPY_MODEL_faaf87a5b84b41eca56aff6073d6f0a1",
       "IPY_MODEL_8e94f894ed3049428ca972afb2d9d77f",
       "IPY_MODEL_e5e41d69663345a5b7bbb1b3b4d46ef8",
       "IPY_MODEL_ba024b4cd938463c96a13068523d436d",
       "IPY_MODEL_f54f2d873476409d90255801ebce766d",
       "IPY_MODEL_c28715d0398f48188e6c75941af12a8b",
       "IPY_MODEL_fef5c276e3f849529f1c1ce36499302a"
      ],
      "crs": {
       "custom": false,
       "name": "EPSG3857"
      },
      "default_style": "IPY_MODEL_fb87ecc1669f4710848ad24f712e1b12",
      "double_click_zoom": true,
      "dragging": true,
      "dragging_style": "IPY_MODEL_a6ebe1a19dc145289362eb1c21659796",
      "east": 70.31250000000001,
      "fullscreen": false,
      "inertia": true,
      "inertia_deceleration": 3000,
      "inertia_max_speed": 1500,
      "interpolation": "bilinear",
      "keyboard": true,
      "keyboard_pan_offset": 80,
      "keyboard_zoom_offset": 1,
      "layers": [
       "IPY_MODEL_2278af2cfca547ce9f560bae25d11240",
       "IPY_MODEL_1e4f46f0d55e48babadd730a536f2481",
       "IPY_MODEL_6ceb1df3a13e441e9d57ad4a5fd974e6"
      ],
      "layout": "IPY_MODEL_65c62ab543954324813f9d1ab8e13b59",
      "left": -479,
      "max_zoom": 24,
      "min_zoom": null,
      "modisdate": "2024-03-23",
      "north": 85.25894723497557,
      "options": [
       "bounce_at_zoom_limits",
       "box_zoom",
       "center",
       "close_popup_on_click",
       "double_click_zoom",
       "dragging",
       "fullscreen",
       "inertia",
       "inertia_deceleration",
       "inertia_max_speed",
       "interpolation",
       "keyboard",
       "keyboard_pan_offset",
       "keyboard_zoom_offset",
       "max_zoom",
       "min_zoom",
       "prefer_canvas",
       "scroll_wheel_zoom",
       "tap",
       "tap_tolerance",
       "touch_zoom",
       "world_copy_jump",
       "zoom",
       "zoom_animation_threshold",
       "zoom_delta",
       "zoom_snap"
      ],
      "panes": {},
      "prefer_canvas": false,
      "right": 712,
      "scroll_wheel_zoom": true,
      "south": -27.371767300523032,
      "style": "IPY_MODEL_4d709e84d65c4b13b221ddc40ffc06cf",
      "tap": true,
      "tap_tolerance": 15,
      "top": -7,
      "touch_zoom": true,
      "west": -348.39843750000006,
      "window_url": "https://92xnw0u9qnb-496ff2e9c6d22116-0-colab.googleusercontent.com/outputframe.html?vrz=colab_20240321-060149_RC00_617803427",
      "world_copy_jump": false,
      "zoom": 3,
      "zoom_animation_threshold": 4,
      "zoom_delta": 1,
      "zoom_snap": 1
     }
    },
    "2a1ffdca1a914fecb7ee24f4a06ac84b": {
     "model_module": "@jupyter-widgets/controls",
     "model_module_version": "1.5.0",
     "model_name": "VBoxModel",
     "state": {
      "_dom_classes": [
       "geemap-colab"
      ],
      "_model_module": "@jupyter-widgets/controls",
      "_model_module_version": "1.5.0",
      "_model_name": "VBoxModel",
      "_view_count": null,
      "_view_module": "@jupyter-widgets/controls",
      "_view_module_version": "1.5.0",
      "_view_name": "VBoxView",
      "box_style": "",
      "children": [
       "IPY_MODEL_7050db0be8424a459870c25f227e784b"
      ],
      "layout": "IPY_MODEL_13cbb0c1b342485fb234779aa5db5cf5"
     }
    },
    "2a69df9eefb149fe92b42e5f5b8d9fe2": {
     "model_module": "@jupyter-widgets/base",
     "model_module_version": "1.2.0",
     "model_name": "LayoutModel",
     "state": {
      "_model_module": "@jupyter-widgets/base",
      "_model_module_version": "1.2.0",
      "_model_name": "LayoutModel",
      "_view_count": null,
      "_view_module": "@jupyter-widgets/base",
      "_view_module_version": "1.2.0",
      "_view_name": "LayoutView",
      "align_content": null,
      "align_items": null,
      "align_self": null,
      "border": null,
      "bottom": null,
      "display": null,
      "flex": null,
      "flex_flow": null,
      "grid_area": null,
      "grid_auto_columns": null,
      "grid_auto_flow": null,
      "grid_auto_rows": null,
      "grid_column": null,
      "grid_gap": null,
      "grid_row": null,
      "grid_template_areas": null,
      "grid_template_columns": null,
      "grid_template_rows": null,
      "height": "28px",
      "justify_content": null,
      "justify_items": null,
      "left": null,
      "margin": null,
      "max_height": null,
      "max_width": null,
      "min_height": null,
      "min_width": null,
      "object_fit": null,
      "object_position": null,
      "order": null,
      "overflow": null,
      "overflow_x": null,
      "overflow_y": null,
      "padding": "0px 0px 0px 4px",
      "right": null,
      "top": null,
      "visibility": null,
      "width": "28px"
     }
    },
    "2aa1973f283b466097b28e67c105b0ca": {
     "model_module": "@jupyter-widgets/base",
     "model_module_version": "1.2.0",
     "model_name": "LayoutModel",
     "state": {
      "_model_module": "@jupyter-widgets/base",
      "_model_module_version": "1.2.0",
      "_model_name": "LayoutModel",
      "_view_count": null,
      "_view_module": "@jupyter-widgets/base",
      "_view_module_version": "1.2.0",
      "_view_name": "LayoutView",
      "align_content": null,
      "align_items": null,
      "align_self": null,
      "border": null,
      "bottom": null,
      "display": null,
      "flex": null,
      "flex_flow": null,
      "grid_area": null,
      "grid_auto_columns": null,
      "grid_auto_flow": null,
      "grid_auto_rows": null,
      "grid_column": null,
      "grid_gap": null,
      "grid_row": null,
      "grid_template_areas": null,
      "grid_template_columns": null,
      "grid_template_rows": null,
      "height": "28px",
      "justify_content": null,
      "justify_items": null,
      "left": null,
      "margin": null,
      "max_height": null,
      "max_width": null,
      "min_height": null,
      "min_width": null,
      "object_fit": null,
      "object_position": null,
      "order": null,
      "overflow": null,
      "overflow_x": null,
      "overflow_y": null,
      "padding": "0px 0px 0px 4px",
      "right": null,
      "top": null,
      "visibility": null,
      "width": "28px"
     }
    },
    "2c814e2279e941e99f3f2f12679fcbb4": {
     "model_module": "jupyter-leaflet",
     "model_module_version": "^0.18",
     "model_name": "LeafletMapStyleModel",
     "state": {
      "_model_module": "jupyter-leaflet",
      "_model_module_version": "^0.18",
      "_model_name": "LeafletMapStyleModel",
      "_view_count": null,
      "_view_module": "@jupyter-widgets/base",
      "_view_module_version": "1.2.0",
      "_view_name": "StyleView",
      "cursor": "grab"
     }
    },
    "2db1608fbecd4ce49614b66315b47d2e": {
     "model_module": "jupyter-leaflet",
     "model_module_version": "^0.18",
     "model_name": "LeafletDrawControlModel",
     "state": {
      "_model_module": "jupyter-leaflet",
      "_model_module_version": "^0.18",
      "_model_name": "LeafletDrawControlModel",
      "_view_count": null,
      "_view_module": "jupyter-leaflet",
      "_view_module_version": "^0.18",
      "_view_name": "LeafletDrawControlView",
      "circle": {},
      "circlemarker": {},
      "data": [],
      "edit": true,
      "marker": {
       "shapeOptions": {
        "color": "#3388ff"
       }
      },
      "options": [
       "position"
      ],
      "polygon": {
       "shapeOptions": {}
      },
      "polyline": {
       "shapeOptions": {}
      },
      "position": "topleft",
      "rectangle": {
       "shapeOptions": {
        "color": "#3388ff"
       }
      },
      "remove": true
     }
    },
    "2ebfba6aff4c401aa4580bfbb9f81be5": {
     "model_module": "@jupyter-widgets/controls",
     "model_module_version": "1.5.0",
     "model_name": "ToggleButtonModel",
     "state": {
      "_dom_classes": [],
      "_model_module": "@jupyter-widgets/controls",
      "_model_module_version": "1.5.0",
      "_model_name": "ToggleButtonModel",
      "_view_count": null,
      "_view_module": "@jupyter-widgets/controls",
      "_view_module_version": "1.5.0",
      "_view_name": "ToggleButtonView",
      "button_style": "",
      "description": "",
      "description_tooltip": null,
      "disabled": false,
      "icon": "wrench",
      "layout": "IPY_MODEL_16ab11f19d6444f286f5ec2eed02b474",
      "style": "IPY_MODEL_2f54f6ecc46540c48eb0ed6c5d08dc52",
      "tooltip": "Toolbar",
      "value": false
     }
    },
    "2f54f6ecc46540c48eb0ed6c5d08dc52": {
     "model_module": "@jupyter-widgets/controls",
     "model_module_version": "1.5.0",
     "model_name": "DescriptionStyleModel",
     "state": {
      "_model_module": "@jupyter-widgets/controls",
      "_model_module_version": "1.5.0",
      "_model_name": "DescriptionStyleModel",
      "_view_count": null,
      "_view_module": "@jupyter-widgets/base",
      "_view_module_version": "1.2.0",
      "_view_name": "StyleView",
      "description_width": ""
     }
    },
    "30005758e76e4e14ad622439d03415f4": {
     "model_module": "jupyter-leaflet",
     "model_module_version": "^0.18",
     "model_name": "LeafletAttributionControlModel",
     "state": {
      "_model_module": "jupyter-leaflet",
      "_model_module_version": "^0.18",
      "_model_name": "LeafletAttributionControlModel",
      "_view_count": null,
      "_view_module": "jupyter-leaflet",
      "_view_module_version": "^0.18",
      "_view_name": "LeafletAttributionControlView",
      "options": [
       "position",
       "prefix"
      ],
      "position": "bottomright",
      "prefix": "ipyleaflet"
     }
    },
    "3090522a399746de93267a91c0cd70e2": {
     "model_module": "jupyter-leaflet",
     "model_module_version": "^0.18",
     "model_name": "LeafletWidgetControlModel",
     "state": {
      "_model_module": "jupyter-leaflet",
      "_model_module_version": "^0.18",
      "_model_name": "LeafletWidgetControlModel",
      "_view_count": null,
      "_view_module": "jupyter-leaflet",
      "_view_module_version": "^0.18",
      "_view_name": "LeafletWidgetControlView",
      "max_height": null,
      "max_width": null,
      "min_height": null,
      "min_width": null,
      "options": [
       "position",
       "transparent_bg"
      ],
      "position": "topleft",
      "transparent_bg": false,
      "widget": "IPY_MODEL_eb91fd6f08784b8c9d53e9b82747e473"
     }
    },
    "319b1bf162b34022a385cf67d06a0253": {
     "model_module": "jupyter-leaflet",
     "model_module_version": "^0.18",
     "model_name": "LeafletTileLayerModel",
     "state": {
      "_model_module": "jupyter-leaflet",
      "_model_module_version": "^0.18",
      "_model_name": "LeafletTileLayerModel",
      "_view_count": null,
      "_view_module": "jupyter-leaflet",
      "_view_module_version": "^0.18",
      "_view_name": "LeafletTileLayerView",
      "attribution": "Google Earth Engine",
      "base": false,
      "bottom": true,
      "bounds": null,
      "detect_retina": false,
      "loading": false,
      "max_native_zoom": null,
      "max_zoom": 24,
      "min_native_zoom": null,
      "min_zoom": 0,
      "name": "S1-image_winter",
      "no_wrap": false,
      "opacity": 1,
      "options": [
       "attribution",
       "bounds",
       "detect_retina",
       "max_native_zoom",
       "max_zoom",
       "min_native_zoom",
       "min_zoom",
       "no_wrap",
       "tile_size",
       "tms",
       "zoom_offset"
      ],
      "pane": "",
      "popup": null,
      "popup_max_height": null,
      "popup_max_width": 300,
      "popup_min_width": 50,
      "show_loading": false,
      "subitems": [],
      "tile_size": 256,
      "tms": false,
      "url": "https://earthengine.googleapis.com/v1/projects/ee-koreenmillard/maps/a23a96efbd4eff5b3fccbfa953ebe709-d0e123d8afe621bde67bbb82c1aa1bbb/tiles/{z}/{x}/{y}",
      "visible": true,
      "zoom_offset": 0
     }
    },
    "31ca8fe520044872ab9167f63de796d2": {
     "model_module": "@jupyter-widgets/controls",
     "model_module_version": "1.5.0",
     "model_name": "DescriptionStyleModel",
     "state": {
      "_model_module": "@jupyter-widgets/controls",
      "_model_module_version": "1.5.0",
      "_model_name": "DescriptionStyleModel",
      "_view_count": null,
      "_view_module": "@jupyter-widgets/base",
      "_view_module_version": "1.2.0",
      "_view_name": "StyleView",
      "description_width": ""
     }
    },
    "34e96adb8c724873b05a5e4a212a33a7": {
     "model_module": "jupyter-leaflet",
     "model_module_version": "^0.18",
     "model_name": "LeafletMapModel",
     "state": {
      "_dom_classes": [],
      "_model_module": "jupyter-leaflet",
      "_model_module_version": "^0.18",
      "_model_name": "LeafletMapModel",
      "_view_count": null,
      "_view_module": "jupyter-leaflet",
      "_view_module_version": "^0.18",
      "_view_name": "LeafletMapView",
      "bottom": 19054,
      "bounce_at_zoom_limits": true,
      "box_zoom": true,
      "center": [
       60.75507900000001,
       -139.013173
      ],
      "close_popup_on_click": true,
      "controls": [
       "IPY_MODEL_36722ab18ef24301bd24f424975a6590",
       "IPY_MODEL_dedfd74ec1d844adaf87433c713a739f",
       "IPY_MODEL_936278541fcb4c0ea301db016b1c6152",
       "IPY_MODEL_2db1608fbecd4ce49614b66315b47d2e",
       "IPY_MODEL_d3a960bfc5f345d09a8f74a3d92bd0f0",
       "IPY_MODEL_1f7e1a8e24504f4d9f7e00015b82d904",
       "IPY_MODEL_f6fd16d11d054817a515a4111270bf6b",
       "IPY_MODEL_7d8178eec22e4c8e9db30d3ecd684e2a"
      ],
      "crs": {
       "custom": false,
       "name": "EPSG3857"
      },
      "default_style": "IPY_MODEL_c6f6209f97204d3dabcb1d3fd08e68c4",
      "double_click_zoom": true,
      "dragging": true,
      "dragging_style": "IPY_MODEL_9acc9a0b69024b7a84ef74dc978407f7",
      "east": -135.74157714843753,
      "fullscreen": false,
      "inertia": true,
      "inertia_deceleration": 3000,
      "inertia_max_speed": 1500,
      "interpolation": "bilinear",
      "keyboard": true,
      "keyboard_pan_offset": 80,
      "keyboard_zoom_offset": 1,
      "layers": [
       "IPY_MODEL_9f64b339833747f19499babb13b26cb9",
       "IPY_MODEL_c5df815a81af42cf839a007221d16a5b",
       "IPY_MODEL_f1e4b464eda543f48df6c935763e1c6b"
      ],
      "layout": "IPY_MODEL_2702718ee65644f5bc54a332adb72f58",
      "left": 6866,
      "max_zoom": 24,
      "min_zoom": null,
      "modisdate": "2024-03-23",
      "north": 61.54887590143483,
      "options": [
       "bounce_at_zoom_limits",
       "box_zoom",
       "center",
       "close_popup_on_click",
       "double_click_zoom",
       "dragging",
       "fullscreen",
       "inertia",
       "inertia_deceleration",
       "inertia_max_speed",
       "interpolation",
       "keyboard",
       "keyboard_pan_offset",
       "keyboard_zoom_offset",
       "max_zoom",
       "min_zoom",
       "prefer_canvas",
       "scroll_wheel_zoom",
       "tap",
       "tap_tolerance",
       "touch_zoom",
       "world_copy_jump",
       "zoom",
       "zoom_animation_threshold",
       "zoom_delta",
       "zoom_snap"
      ],
      "panes": {},
      "prefer_canvas": false,
      "right": 8057,
      "scroll_wheel_zoom": true,
      "south": 59.938504253195234,
      "style": "IPY_MODEL_13755d63101e4ad8baf8587e0c2feedb",
      "tap": true,
      "tap_tolerance": 15,
      "top": 18454,
      "touch_zoom": true,
      "west": -142.28393554687503,
      "window_url": "https://92xnw0u9qnb-496ff2e9c6d22116-0-colab.googleusercontent.com/outputframe.html?vrz=colab_20240321-060149_RC00_617803427",
      "world_copy_jump": false,
      "zoom": 8,
      "zoom_animation_threshold": 4,
      "zoom_delta": 1,
      "zoom_snap": 1
     }
    },
    "36722ab18ef24301bd24f424975a6590": {
     "model_module": "jupyter-leaflet",
     "model_module_version": "^0.18",
     "model_name": "LeafletWidgetControlModel",
     "state": {
      "_model_module": "jupyter-leaflet",
      "_model_module_version": "^0.18",
      "_model_name": "LeafletWidgetControlModel",
      "_view_count": null,
      "_view_module": "jupyter-leaflet",
      "_view_module_version": "^0.18",
      "_view_name": "LeafletWidgetControlView",
      "max_height": null,
      "max_width": null,
      "min_height": null,
      "min_width": null,
      "options": [
       "position",
       "transparent_bg"
      ],
      "position": "topleft",
      "transparent_bg": false,
      "widget": "IPY_MODEL_94829847312c410c8401c587a6b21738"
     }
    },
    "36f5bc65032142c6890f6d240565ceaf": {
     "model_module": "jupyter-leaflet",
     "model_module_version": "^0.18",
     "model_name": "LeafletMapStyleModel",
     "state": {
      "_model_module": "jupyter-leaflet",
      "_model_module_version": "^0.18",
      "_model_name": "LeafletMapStyleModel",
      "_view_count": null,
      "_view_module": "@jupyter-widgets/base",
      "_view_module_version": "1.2.0",
      "_view_name": "StyleView",
      "cursor": "grab"
     }
    },
    "371e61adb7f343ffbb0f2d1625f0c2b9": {
     "model_module": "@jupyter-widgets/base",
     "model_module_version": "1.2.0",
     "model_name": "LayoutModel",
     "state": {
      "_model_module": "@jupyter-widgets/base",
      "_model_module_version": "1.2.0",
      "_model_name": "LayoutModel",
      "_view_count": null,
      "_view_module": "@jupyter-widgets/base",
      "_view_module_version": "1.2.0",
      "_view_name": "LayoutView",
      "align_content": null,
      "align_items": null,
      "align_self": null,
      "border": null,
      "bottom": null,
      "display": null,
      "flex": null,
      "flex_flow": null,
      "grid_area": null,
      "grid_auto_columns": null,
      "grid_auto_flow": null,
      "grid_auto_rows": null,
      "grid_column": null,
      "grid_gap": null,
      "grid_row": null,
      "grid_template_areas": null,
      "grid_template_columns": null,
      "grid_template_rows": null,
      "height": "600px",
      "justify_content": null,
      "justify_items": null,
      "left": null,
      "margin": null,
      "max_height": null,
      "max_width": null,
      "min_height": null,
      "min_width": null,
      "object_fit": null,
      "object_position": null,
      "order": null,
      "overflow": null,
      "overflow_x": null,
      "overflow_y": null,
      "padding": null,
      "right": null,
      "top": null,
      "visibility": null,
      "width": null
     }
    },
    "38316c33fd0d4b13bdf44966052b91aa": {
     "model_module": "jupyter-leaflet",
     "model_module_version": "^0.18",
     "model_name": "LeafletDrawControlModel",
     "state": {
      "_model_module": "jupyter-leaflet",
      "_model_module_version": "^0.18",
      "_model_name": "LeafletDrawControlModel",
      "_view_count": null,
      "_view_module": "jupyter-leaflet",
      "_view_module_version": "^0.18",
      "_view_name": "LeafletDrawControlView",
      "circle": {},
      "circlemarker": {},
      "data": [],
      "edit": true,
      "marker": {
       "shapeOptions": {
        "color": "#3388ff"
       }
      },
      "options": [
       "position"
      ],
      "polygon": {
       "shapeOptions": {}
      },
      "polyline": {
       "shapeOptions": {}
      },
      "position": "topleft",
      "rectangle": {
       "shapeOptions": {
        "color": "#3388ff"
       }
      },
      "remove": true
     }
    },
    "3935778a3ebe479bacb9ecaed5740058": {
     "model_module": "jupyter-leaflet",
     "model_module_version": "^0.18",
     "model_name": "LeafletWidgetControlModel",
     "state": {
      "_model_module": "jupyter-leaflet",
      "_model_module_version": "^0.18",
      "_model_name": "LeafletWidgetControlModel",
      "_view_count": null,
      "_view_module": "jupyter-leaflet",
      "_view_module_version": "^0.18",
      "_view_name": "LeafletWidgetControlView",
      "max_height": null,
      "max_width": null,
      "min_height": null,
      "min_width": null,
      "options": [
       "position",
       "transparent_bg"
      ],
      "position": "topleft",
      "transparent_bg": false,
      "widget": "IPY_MODEL_a9ae8361a02b45e2ac1f590ed4f449c9"
     }
    },
    "397008f229034dbc8adebad38296308e": {
     "model_module": "jupyter-leaflet",
     "model_module_version": "^0.18",
     "model_name": "LeafletTileLayerModel",
     "state": {
      "_model_module": "jupyter-leaflet",
      "_model_module_version": "^0.18",
      "_model_name": "LeafletTileLayerModel",
      "_view_count": null,
      "_view_module": "jupyter-leaflet",
      "_view_module_version": "^0.18",
      "_view_name": "LeafletTileLayerView",
      "attribution": "&copy; <a href=\"https://www.openstreetmap.org/copyright\">OpenStreetMap</a> contributors",
      "base": true,
      "bottom": true,
      "bounds": null,
      "detect_retina": false,
      "loading": false,
      "max_native_zoom": null,
      "max_zoom": 19,
      "min_native_zoom": null,
      "min_zoom": 1,
      "name": "OpenStreetMap.Mapnik",
      "no_wrap": false,
      "opacity": 1,
      "options": [
       "attribution",
       "bounds",
       "detect_retina",
       "max_native_zoom",
       "max_zoom",
       "min_native_zoom",
       "min_zoom",
       "no_wrap",
       "tile_size",
       "tms",
       "zoom_offset"
      ],
      "pane": "",
      "popup": null,
      "popup_max_height": null,
      "popup_max_width": 300,
      "popup_min_width": 50,
      "show_loading": false,
      "subitems": [],
      "tile_size": 256,
      "tms": false,
      "url": "https://tile.openstreetmap.org/{z}/{x}/{y}.png",
      "visible": true,
      "zoom_offset": 0
     }
    },
    "3d5838f315bc40739d94fa3f2f65cc75": {
     "model_module": "jupyter-leaflet",
     "model_module_version": "^0.18",
     "model_name": "LeafletMeasureControlModel",
     "state": {
      "_custom_units": {},
      "_model_module": "jupyter-leaflet",
      "_model_module_version": "^0.18",
      "_model_name": "LeafletMeasureControlModel",
      "_view_count": null,
      "_view_module": "jupyter-leaflet",
      "_view_module_version": "^0.18",
      "_view_name": "LeafletMeasureControlView",
      "active_color": "orange",
      "capture_z_index": 10000,
      "completed_color": "#C8F2BE",
      "options": [
       "active_color",
       "capture_z_index",
       "completed_color",
       "popup_options",
       "position",
       "primary_area_unit",
       "primary_length_unit",
       "secondary_area_unit",
       "secondary_length_unit"
      ],
      "popup_options": {
       "autoPanPadding": [
        10,
        10
       ],
       "className": "leaflet-measure-resultpopup"
      },
      "position": "bottomleft",
      "primary_area_unit": "acres",
      "primary_length_unit": "kilometers",
      "secondary_area_unit": null,
      "secondary_length_unit": null
     }
    },
    "3dca9b95cf934d00a7f3df6ec6518885": {
     "model_module": "jupyter-leaflet",
     "model_module_version": "^0.18",
     "model_name": "LeafletTileLayerModel",
     "state": {
      "_model_module": "jupyter-leaflet",
      "_model_module_version": "^0.18",
      "_model_name": "LeafletTileLayerModel",
      "_view_count": null,
      "_view_module": "jupyter-leaflet",
      "_view_module_version": "^0.18",
      "_view_name": "LeafletTileLayerView",
      "attribution": "Google Earth Engine",
      "base": false,
      "bottom": true,
      "bounds": null,
      "detect_retina": false,
      "loading": false,
      "max_native_zoom": null,
      "max_zoom": 24,
      "min_native_zoom": null,
      "min_zoom": 0,
      "name": "S1-image_VH",
      "no_wrap": false,
      "opacity": 1,
      "options": [
       "attribution",
       "bounds",
       "detect_retina",
       "max_native_zoom",
       "max_zoom",
       "min_native_zoom",
       "min_zoom",
       "no_wrap",
       "tile_size",
       "tms",
       "zoom_offset"
      ],
      "pane": "",
      "popup": null,
      "popup_max_height": null,
      "popup_max_width": 300,
      "popup_min_width": 50,
      "show_loading": false,
      "subitems": [],
      "tile_size": 256,
      "tms": false,
      "url": "https://earthengine.googleapis.com/v1/projects/ee-koreenmillard/maps/65eb81919fb497ca2e90e3015222768e-62ff54242e0976e65a7642cb57344d48/tiles/{z}/{x}/{y}",
      "visible": true,
      "zoom_offset": 0
     }
    },
    "3fff9d271a744f41845b0ab763257520": {
     "model_module": "jupyter-leaflet",
     "model_module_version": "^0.18",
     "model_name": "LeafletMeasureControlModel",
     "state": {
      "_custom_units": {},
      "_model_module": "jupyter-leaflet",
      "_model_module_version": "^0.18",
      "_model_name": "LeafletMeasureControlModel",
      "_view_count": null,
      "_view_module": "jupyter-leaflet",
      "_view_module_version": "^0.18",
      "_view_name": "LeafletMeasureControlView",
      "active_color": "orange",
      "capture_z_index": 10000,
      "completed_color": "#C8F2BE",
      "options": [
       "active_color",
       "capture_z_index",
       "completed_color",
       "popup_options",
       "position",
       "primary_area_unit",
       "primary_length_unit",
       "secondary_area_unit",
       "secondary_length_unit"
      ],
      "popup_options": {
       "autoPanPadding": [
        10,
        10
       ],
       "className": "leaflet-measure-resultpopup"
      },
      "position": "bottomleft",
      "primary_area_unit": "acres",
      "primary_length_unit": "kilometers",
      "secondary_area_unit": null,
      "secondary_length_unit": null
     }
    },
    "41a25047e8604650b518d150932fbecc": {
     "model_module": "jupyter-leaflet",
     "model_module_version": "^0.18",
     "model_name": "LeafletTileLayerModel",
     "state": {
      "_model_module": "jupyter-leaflet",
      "_model_module_version": "^0.18",
      "_model_name": "LeafletTileLayerModel",
      "_view_count": null,
      "_view_module": "jupyter-leaflet",
      "_view_module_version": "^0.18",
      "_view_name": "LeafletTileLayerView",
      "attribution": "Google Earth Engine",
      "base": false,
      "bottom": true,
      "bounds": null,
      "detect_retina": false,
      "loading": false,
      "max_native_zoom": null,
      "max_zoom": 24,
      "min_native_zoom": null,
      "min_zoom": 0,
      "name": "S1-image_summer",
      "no_wrap": false,
      "opacity": 1,
      "options": [
       "attribution",
       "bounds",
       "detect_retina",
       "max_native_zoom",
       "max_zoom",
       "min_native_zoom",
       "min_zoom",
       "no_wrap",
       "tile_size",
       "tms",
       "zoom_offset"
      ],
      "pane": "",
      "popup": null,
      "popup_max_height": null,
      "popup_max_width": 300,
      "popup_min_width": 50,
      "show_loading": false,
      "subitems": [],
      "tile_size": 256,
      "tms": false,
      "url": "https://earthengine.googleapis.com/v1/projects/ee-koreenmillard/maps/77154e386f4a0a3230f3d2b5c6c84df7-b557c8ca05780d4c726baa50639b1c8d/tiles/{z}/{x}/{y}",
      "visible": true,
      "zoom_offset": 0
     }
    },
    "43778d747ddc4bbba3d63cac1b80aae6": {
     "model_module": "@jupyter-widgets/base",
     "model_module_version": "1.2.0",
     "model_name": "LayoutModel",
     "state": {
      "_model_module": "@jupyter-widgets/base",
      "_model_module_version": "1.2.0",
      "_model_name": "LayoutModel",
      "_view_count": null,
      "_view_module": "@jupyter-widgets/base",
      "_view_module_version": "1.2.0",
      "_view_name": "LayoutView",
      "align_content": null,
      "align_items": null,
      "align_self": null,
      "border": null,
      "bottom": null,
      "display": null,
      "flex": null,
      "flex_flow": null,
      "grid_area": null,
      "grid_auto_columns": null,
      "grid_auto_flow": null,
      "grid_auto_rows": null,
      "grid_column": null,
      "grid_gap": null,
      "grid_row": null,
      "grid_template_areas": null,
      "grid_template_columns": null,
      "grid_template_rows": null,
      "height": null,
      "justify_content": null,
      "justify_items": null,
      "left": null,
      "margin": null,
      "max_height": null,
      "max_width": null,
      "min_height": null,
      "min_width": null,
      "object_fit": null,
      "object_position": null,
      "order": null,
      "overflow": null,
      "overflow_x": null,
      "overflow_y": null,
      "padding": null,
      "right": null,
      "top": null,
      "visibility": null,
      "width": null
     }
    },
    "44076758ea5c465bac72d8e1b94cc3ab": {
     "model_module": "@jupyter-widgets/base",
     "model_module_version": "1.2.0",
     "model_name": "LayoutModel",
     "state": {
      "_model_module": "@jupyter-widgets/base",
      "_model_module_version": "1.2.0",
      "_model_name": "LayoutModel",
      "_view_count": null,
      "_view_module": "@jupyter-widgets/base",
      "_view_module_version": "1.2.0",
      "_view_name": "LayoutView",
      "align_content": null,
      "align_items": null,
      "align_self": null,
      "border": null,
      "bottom": null,
      "display": null,
      "flex": null,
      "flex_flow": null,
      "grid_area": null,
      "grid_auto_columns": null,
      "grid_auto_flow": null,
      "grid_auto_rows": null,
      "grid_column": null,
      "grid_gap": null,
      "grid_row": null,
      "grid_template_areas": null,
      "grid_template_columns": null,
      "grid_template_rows": null,
      "height": null,
      "justify_content": null,
      "justify_items": null,
      "left": null,
      "margin": null,
      "max_height": null,
      "max_width": null,
      "min_height": null,
      "min_width": null,
      "object_fit": null,
      "object_position": null,
      "order": null,
      "overflow": null,
      "overflow_x": null,
      "overflow_y": null,
      "padding": null,
      "right": null,
      "top": null,
      "visibility": null,
      "width": null
     }
    },
    "453bb4586bc54875b24e257bf8eacce5": {
     "model_module": "@jupyter-widgets/controls",
     "model_module_version": "1.5.0",
     "model_name": "ToggleButtonModel",
     "state": {
      "_dom_classes": [],
      "_model_module": "@jupyter-widgets/controls",
      "_model_module_version": "1.5.0",
      "_model_name": "ToggleButtonModel",
      "_view_count": null,
      "_view_module": "@jupyter-widgets/controls",
      "_view_module_version": "1.5.0",
      "_view_name": "ToggleButtonView",
      "button_style": "",
      "description": "",
      "description_tooltip": null,
      "disabled": false,
      "icon": "wrench",
      "layout": "IPY_MODEL_2a69df9eefb149fe92b42e5f5b8d9fe2",
      "style": "IPY_MODEL_0157eecc4e3a44a7bca41391e4f23575",
      "tooltip": "Toolbar",
      "value": false
     }
    },
    "4cd6579f59ab4a9e947cfe8fcf400d6b": {
     "model_module": "jupyter-leaflet",
     "model_module_version": "^0.18",
     "model_name": "LeafletDrawControlModel",
     "state": {
      "_model_module": "jupyter-leaflet",
      "_model_module_version": "^0.18",
      "_model_name": "LeafletDrawControlModel",
      "_view_count": null,
      "_view_module": "jupyter-leaflet",
      "_view_module_version": "^0.18",
      "_view_name": "LeafletDrawControlView",
      "circle": {},
      "circlemarker": {},
      "data": [],
      "edit": true,
      "marker": {
       "shapeOptions": {
        "color": "#3388ff"
       }
      },
      "options": [
       "position"
      ],
      "polygon": {
       "shapeOptions": {}
      },
      "polyline": {
       "shapeOptions": {}
      },
      "position": "topleft",
      "rectangle": {
       "shapeOptions": {
        "color": "#3388ff"
       }
      },
      "remove": true
     }
    },
    "4d59f457e0e341fdbfe2dd977ecd7ac9": {
     "model_module": "jupyter-leaflet",
     "model_module_version": "^0.18",
     "model_name": "LeafletTileLayerModel",
     "state": {
      "_model_module": "jupyter-leaflet",
      "_model_module_version": "^0.18",
      "_model_name": "LeafletTileLayerModel",
      "_view_count": null,
      "_view_module": "jupyter-leaflet",
      "_view_module_version": "^0.18",
      "_view_name": "LeafletTileLayerView",
      "attribution": "Google Earth Engine",
      "base": false,
      "bottom": true,
      "bounds": null,
      "detect_retina": false,
      "loading": false,
      "max_native_zoom": null,
      "max_zoom": 24,
      "min_native_zoom": null,
      "min_zoom": 0,
      "name": "original descending",
      "no_wrap": false,
      "opacity": 1,
      "options": [
       "attribution",
       "bounds",
       "detect_retina",
       "max_native_zoom",
       "max_zoom",
       "min_native_zoom",
       "min_zoom",
       "no_wrap",
       "tile_size",
       "tms",
       "zoom_offset"
      ],
      "pane": "",
      "popup": null,
      "popup_max_height": null,
      "popup_max_width": 300,
      "popup_min_width": 50,
      "show_loading": false,
      "subitems": [],
      "tile_size": 256,
      "tms": false,
      "url": "https://earthengine.googleapis.com/v1/projects/ee-koreenmillard/maps/42612d193b51415681d16bc97069eb29-0fbc7ae1df39c4e31f6a02e89385fbce/tiles/{z}/{x}/{y}",
      "visible": true,
      "zoom_offset": 0
     }
    },
    "4d709e84d65c4b13b221ddc40ffc06cf": {
     "model_module": "jupyter-leaflet",
     "model_module_version": "^0.18",
     "model_name": "LeafletMapStyleModel",
     "state": {
      "_model_module": "jupyter-leaflet",
      "_model_module_version": "^0.18",
      "_model_name": "LeafletMapStyleModel",
      "_view_count": null,
      "_view_module": "@jupyter-widgets/base",
      "_view_module_version": "1.2.0",
      "_view_name": "StyleView",
      "cursor": "grab"
     }
    },
    "4e0b4506931b4057810f4102d5282c33": {
     "model_module": "@jupyter-widgets/controls",
     "model_module_version": "1.5.0",
     "model_name": "ToggleButtonModel",
     "state": {
      "_dom_classes": [],
      "_model_module": "@jupyter-widgets/controls",
      "_model_module_version": "1.5.0",
      "_model_name": "ToggleButtonModel",
      "_view_count": null,
      "_view_module": "@jupyter-widgets/controls",
      "_view_module_version": "1.5.0",
      "_view_name": "ToggleButtonView",
      "button_style": "",
      "description": "",
      "description_tooltip": null,
      "disabled": false,
      "icon": "globe",
      "layout": "IPY_MODEL_c7a402e4dba74d838bd747b45451ae06",
      "style": "IPY_MODEL_e16e40739ca84ddfb1d9feced8b6de0e",
      "tooltip": "Search location/data",
      "value": false
     }
    },
    "4e84a7173d1d46c1bd03382490a5b630": {
     "model_module": "jupyter-leaflet",
     "model_module_version": "^0.18",
     "model_name": "LeafletWidgetControlModel",
     "state": {
      "_model_module": "jupyter-leaflet",
      "_model_module_version": "^0.18",
      "_model_name": "LeafletWidgetControlModel",
      "_view_count": null,
      "_view_module": "jupyter-leaflet",
      "_view_module_version": "^0.18",
      "_view_name": "LeafletWidgetControlView",
      "max_height": null,
      "max_width": null,
      "min_height": null,
      "min_width": null,
      "options": [
       "position",
       "transparent_bg"
      ],
      "position": "topright",
      "transparent_bg": false,
      "widget": "IPY_MODEL_65922bc1661b4b08b8144f58d0420b74"
     }
    },
    "4ed029fcd7184a58bcea1da68d501786": {
     "model_module": "jupyter-leaflet",
     "model_module_version": "^0.18",
     "model_name": "LeafletTileLayerModel",
     "state": {
      "_model_module": "jupyter-leaflet",
      "_model_module_version": "^0.18",
      "_model_name": "LeafletTileLayerModel",
      "_view_count": null,
      "_view_module": "jupyter-leaflet",
      "_view_module_version": "^0.18",
      "_view_name": "LeafletTileLayerView",
      "attribution": "Google Earth Engine",
      "base": false,
      "bottom": true,
      "bounds": null,
      "detect_retina": false,
      "loading": false,
      "max_native_zoom": null,
      "max_zoom": 24,
      "min_native_zoom": null,
      "min_zoom": 0,
      "name": "S1-image_VV",
      "no_wrap": false,
      "opacity": 1,
      "options": [
       "attribution",
       "bounds",
       "detect_retina",
       "max_native_zoom",
       "max_zoom",
       "min_native_zoom",
       "min_zoom",
       "no_wrap",
       "tile_size",
       "tms",
       "zoom_offset"
      ],
      "pane": "",
      "popup": null,
      "popup_max_height": null,
      "popup_max_width": 300,
      "popup_min_width": 50,
      "show_loading": false,
      "subitems": [],
      "tile_size": 256,
      "tms": false,
      "url": "https://earthengine.googleapis.com/v1/projects/ee-koreenmillard/maps/ea956c2ca46614e3e0ee7e099aac88c2-01827924a79bf361cddfaa21b52837f9/tiles/{z}/{x}/{y}",
      "visible": true,
      "zoom_offset": 0
     }
    },
    "4ef55a4c11ac49988036ff2b69caff3f": {
     "model_module": "jupyter-leaflet",
     "model_module_version": "^0.18",
     "model_name": "LeafletMapModel",
     "state": {
      "_dom_classes": [],
      "_model_module": "jupyter-leaflet",
      "_model_module_version": "^0.18",
      "_model_name": "LeafletMapModel",
      "_view_count": null,
      "_view_module": "jupyter-leaflet",
      "_view_module_version": "^0.18",
      "_view_name": "LeafletMapView",
      "bottom": 2644,
      "bounce_at_zoom_limits": true,
      "box_zoom": true,
      "center": [
       60.755079,
       -139.013173
      ],
      "close_popup_on_click": true,
      "controls": [
       "IPY_MODEL_3935778a3ebe479bacb9ecaed5740058",
       "IPY_MODEL_ae588b3ca3b24429a6832a0f8221b9fd",
       "IPY_MODEL_1dc4686bf6e143b7989c535676097b4a",
       "IPY_MODEL_b63829029544455c986a5688e6c453bf",
       "IPY_MODEL_ba65e82930ba4a6e8079d7ebd52d4943",
       "IPY_MODEL_23adea234d1e4b528ff1603418ca772c",
       "IPY_MODEL_d5cd231026694bf388a35cea56f37731",
       "IPY_MODEL_a8ecfc7ad6a5456cbeb189eb0cda3d56",
       "IPY_MODEL_9637f91495aa4d48bd3f3d1bd09813e0"
      ],
      "crs": {
       "custom": false,
       "name": "EPSG3857"
      },
      "default_style": "IPY_MODEL_701a69648b704e2683a7f95078649dff",
      "double_click_zoom": true,
      "dragging": true,
      "dragging_style": "IPY_MODEL_898fbfb785c14cfb96bf6f318da3132a",
      "east": -112.85156250000001,
      "fullscreen": false,
      "inertia": true,
      "inertia_deceleration": 3000,
      "inertia_max_speed": 1500,
      "interpolation": "bilinear",
      "keyboard": true,
      "keyboard_pan_offset": 80,
      "keyboard_zoom_offset": 1,
      "layers": [
       "IPY_MODEL_deef36bc12de424b821ba741861c6e24",
       "IPY_MODEL_b6f846e9f53445b09266147999ffde0d",
       "IPY_MODEL_319b1bf162b34022a385cf67d06a0253"
      ],
      "layout": "IPY_MODEL_371e61adb7f343ffbb0f2d1625f0c2b9",
      "left": 337,
      "max_zoom": 24,
      "min_zoom": null,
      "modisdate": "2024-03-23",
      "north": 66.58321725728176,
      "options": [
       "bounce_at_zoom_limits",
       "box_zoom",
       "center",
       "close_popup_on_click",
       "double_click_zoom",
       "dragging",
       "fullscreen",
       "inertia",
       "inertia_deceleration",
       "inertia_max_speed",
       "interpolation",
       "keyboard",
       "keyboard_pan_offset",
       "keyboard_zoom_offset",
       "max_zoom",
       "min_zoom",
       "prefer_canvas",
       "scroll_wheel_zoom",
       "tap",
       "tap_tolerance",
       "touch_zoom",
       "world_copy_jump",
       "zoom",
       "zoom_animation_threshold",
       "zoom_delta",
       "zoom_snap"
      ],
      "panes": {},
      "prefer_canvas": false,
      "right": 1528,
      "scroll_wheel_zoom": true,
      "south": 53.64463782485651,
      "style": "IPY_MODEL_701a69648b704e2683a7f95078649dff",
      "tap": true,
      "tap_tolerance": 15,
      "top": 2044,
      "touch_zoom": true,
      "west": -165.19042968750003,
      "window_url": "https://92xnw0u9qnb-496ff2e9c6d22116-0-colab.googleusercontent.com/outputframe.html?vrz=colab_20240321-060149_RC00_617803427",
      "world_copy_jump": false,
      "zoom": 6,
      "zoom_animation_threshold": 4,
      "zoom_delta": 1,
      "zoom_snap": 1
     }
    },
    "51252184cc84445aaae50f0f10081e4b": {
     "model_module": "@jupyter-widgets/controls",
     "model_module_version": "1.5.0",
     "model_name": "VBoxModel",
     "state": {
      "_dom_classes": [
       "geemap-colab"
      ],
      "_model_module": "@jupyter-widgets/controls",
      "_model_module_version": "1.5.0",
      "_model_name": "VBoxModel",
      "_view_count": null,
      "_view_module": "@jupyter-widgets/controls",
      "_view_module_version": "1.5.0",
      "_view_name": "VBoxView",
      "box_style": "",
      "children": [
       "IPY_MODEL_8cc51a012a17428d897ecb736c091dcb"
      ],
      "layout": "IPY_MODEL_f2fc7b35c3174fcf9a7722b83cb568f8"
     }
    },
    "54f8c4494f77426cbf9e4375725455b6": {
     "model_module": "jupyter-leaflet",
     "model_module_version": "^0.18",
     "model_name": "LeafletFullScreenControlModel",
     "state": {
      "_model_module": "jupyter-leaflet",
      "_model_module_version": "^0.18",
      "_model_name": "LeafletFullScreenControlModel",
      "_view_count": null,
      "_view_module": "jupyter-leaflet",
      "_view_module_version": "^0.18",
      "_view_name": "LeafletFullScreenControlView",
      "options": [
       "position"
      ],
      "position": "topleft"
     }
    },
    "56c2ca77d0524b2d9c4bd87101ceba50": {
     "model_module": "jupyter-leaflet",
     "model_module_version": "^0.18",
     "model_name": "LeafletMapModel",
     "state": {
      "_dom_classes": [],
      "_model_module": "jupyter-leaflet",
      "_model_module_version": "^0.18",
      "_model_name": "LeafletMapModel",
      "_view_count": null,
      "_view_module": "jupyter-leaflet",
      "_view_module_version": "^0.18",
      "_view_name": "LeafletMapView",
      "bottom": 75314,
      "bounce_at_zoom_limits": true,
      "box_zoom": true,
      "center": [
       60.75507900000001,
       -139.013173
      ],
      "close_popup_on_click": true,
      "controls": [
       "IPY_MODEL_6f50e937961a43ffb5fb20a39ac08238",
       "IPY_MODEL_dec269c0e2f84e25a7d19b393c2c2911",
       "IPY_MODEL_73c2f78b81d54569834723b02aece41c",
       "IPY_MODEL_81760eb10aba4fde881dae98368ea346",
       "IPY_MODEL_dc284812c26048ff8fb198ced7c96208",
       "IPY_MODEL_3fff9d271a744f41845b0ab763257520",
       "IPY_MODEL_4e84a7173d1d46c1bd03382490a5b630",
       "IPY_MODEL_dd44a70b005c4f75b2d811911e9fbf8d",
       "IPY_MODEL_79775748c3c445488dada9042bf8e5e0"
      ],
      "crs": {
       "custom": false,
       "name": "EPSG3857"
      },
      "default_style": "IPY_MODEL_2c814e2279e941e99f3f2f12679fcbb4",
      "double_click_zoom": true,
      "dragging": true,
      "dragging_style": "IPY_MODEL_71208e4e7ecb4678aa1be4508f3df78e",
      "east": -138.1956481933594,
      "fullscreen": false,
      "inertia": true,
      "inertia_deceleration": 3000,
      "inertia_max_speed": 1500,
      "interpolation": "bilinear",
      "keyboard": true,
      "keyboard_pan_offset": 80,
      "keyboard_zoom_offset": 1,
      "layers": [
       "IPY_MODEL_6f48a3e66b644108b056eaa44fb20a84",
       "IPY_MODEL_4d59f457e0e341fdbfe2dd977ecd7ac9",
       "IPY_MODEL_1abca052ed834eb4ab662f69158b5ddc",
       "IPY_MODEL_1dd3e09cca874e3094ca4d81ef032b62",
       "IPY_MODEL_e418611cf9814ef097e9ad70982d4271"
      ],
      "layout": "IPY_MODEL_d2fc08493a9f4605b1f81314bc459300",
      "left": 29250,
      "max_zoom": 24,
      "min_zoom": null,
      "modisdate": "2024-03-23",
      "north": 60.955777330339906,
      "options": [
       "bounce_at_zoom_limits",
       "box_zoom",
       "center",
       "close_popup_on_click",
       "double_click_zoom",
       "dragging",
       "fullscreen",
       "inertia",
       "inertia_deceleration",
       "inertia_max_speed",
       "interpolation",
       "keyboard",
       "keyboard_pan_offset",
       "keyboard_zoom_offset",
       "max_zoom",
       "min_zoom",
       "prefer_canvas",
       "scroll_wheel_zoom",
       "tap",
       "tap_tolerance",
       "touch_zoom",
       "world_copy_jump",
       "zoom",
       "zoom_animation_threshold",
       "zoom_delta",
       "zoom_snap"
      ],
      "panes": {},
      "prefer_canvas": false,
      "right": 30441,
      "scroll_wheel_zoom": true,
      "south": 60.55322844442429,
      "style": "IPY_MODEL_cdf1dd20a39f4b27b83b0d905db6e28f",
      "tap": true,
      "tap_tolerance": 15,
      "top": 74714,
      "touch_zoom": true,
      "west": -139.83123779296878,
      "window_url": "https://92xnw0u9qnb-496ff2e9c6d22116-0-colab.googleusercontent.com/outputframe.html?vrz=colab_20240321-060149_RC00_617803427",
      "world_copy_jump": false,
      "zoom": 10,
      "zoom_animation_threshold": 4,
      "zoom_delta": 1,
      "zoom_snap": 1
     }
    },
    "56dccc83bbc14ecfad634ebdcd8d76e9": {
     "model_module": "@jupyter-widgets/controls",
     "model_module_version": "1.5.0",
     "model_name": "ToggleButtonModel",
     "state": {
      "_dom_classes": [],
      "_model_module": "@jupyter-widgets/controls",
      "_model_module_version": "1.5.0",
      "_model_name": "ToggleButtonModel",
      "_view_count": null,
      "_view_module": "@jupyter-widgets/controls",
      "_view_module_version": "1.5.0",
      "_view_name": "ToggleButtonView",
      "button_style": "",
      "description": "",
      "description_tooltip": null,
      "disabled": false,
      "icon": "globe",
      "layout": "IPY_MODEL_bff41ccc572c402b84c5a9af25c7179c",
      "style": "IPY_MODEL_e9ff81b278184d3ca138ac8e031f4c69",
      "tooltip": "Search location/data",
      "value": false
     }
    },
    "56e004fcb95b4001ba08f0425e06751d": {
     "model_module": "jupyter-leaflet",
     "model_module_version": "^0.18",
     "model_name": "LeafletAttributionControlModel",
     "state": {
      "_model_module": "jupyter-leaflet",
      "_model_module_version": "^0.18",
      "_model_name": "LeafletAttributionControlModel",
      "_view_count": null,
      "_view_module": "jupyter-leaflet",
      "_view_module_version": "^0.18",
      "_view_name": "LeafletAttributionControlView",
      "options": [
       "position",
       "prefix"
      ],
      "position": "bottomright",
      "prefix": "ipyleaflet"
     }
    },
    "56ff102419344dffb9b9b566f922b975": {
     "model_module": "jupyter-leaflet",
     "model_module_version": "^0.18",
     "model_name": "LeafletAttributionControlModel",
     "state": {
      "_model_module": "jupyter-leaflet",
      "_model_module_version": "^0.18",
      "_model_name": "LeafletAttributionControlModel",
      "_view_count": null,
      "_view_module": "jupyter-leaflet",
      "_view_module_version": "^0.18",
      "_view_name": "LeafletAttributionControlView",
      "options": [
       "position",
       "prefix"
      ],
      "position": "bottomright",
      "prefix": "ipyleaflet"
     }
    },
    "5b9902ac7a5f4cb599f19c55f644ea4d": {
     "model_module": "jupyter-leaflet",
     "model_module_version": "^0.18",
     "model_name": "LeafletTileLayerModel",
     "state": {
      "_model_module": "jupyter-leaflet",
      "_model_module_version": "^0.18",
      "_model_name": "LeafletTileLayerModel",
      "_view_count": null,
      "_view_module": "jupyter-leaflet",
      "_view_module_version": "^0.18",
      "_view_name": "LeafletTileLayerView",
      "attribution": "Google Earth Engine",
      "base": false,
      "bottom": true,
      "bounds": null,
      "detect_retina": false,
      "loading": false,
      "max_native_zoom": null,
      "max_zoom": 24,
      "min_native_zoom": null,
      "min_zoom": 0,
      "name": "Arctic_DEM Hillshade",
      "no_wrap": false,
      "opacity": 1,
      "options": [
       "attribution",
       "bounds",
       "detect_retina",
       "max_native_zoom",
       "max_zoom",
       "min_native_zoom",
       "min_zoom",
       "no_wrap",
       "tile_size",
       "tms",
       "zoom_offset"
      ],
      "pane": "",
      "popup": null,
      "popup_max_height": null,
      "popup_max_width": 300,
      "popup_min_width": 50,
      "show_loading": false,
      "subitems": [],
      "tile_size": 256,
      "tms": false,
      "url": "https://earthengine.googleapis.com/v1/projects/ee-koreenmillard/maps/45b2e056c7df1e95f721435bfea9ebfc-bd8e271d56108714d15f20bb136bc1b3/tiles/{z}/{x}/{y}",
      "visible": true,
      "zoom_offset": 0
     }
    },
    "5c18073f28f2451dbfacbccbebb90200": {
     "model_module": "jupyter-leaflet",
     "model_module_version": "^0.18",
     "model_name": "LeafletTileLayerModel",
     "state": {
      "_model_module": "jupyter-leaflet",
      "_model_module_version": "^0.18",
      "_model_name": "LeafletTileLayerModel",
      "_view_count": null,
      "_view_module": "jupyter-leaflet",
      "_view_module_version": "^0.18",
      "_view_name": "LeafletTileLayerView",
      "attribution": "Google Earth Engine",
      "base": false,
      "bottom": true,
      "bounds": null,
      "detect_retina": false,
      "loading": false,
      "max_native_zoom": null,
      "max_zoom": 24,
      "min_native_zoom": null,
      "min_zoom": 0,
      "name": "S1-image_summer",
      "no_wrap": false,
      "opacity": 1,
      "options": [
       "attribution",
       "bounds",
       "detect_retina",
       "max_native_zoom",
       "max_zoom",
       "min_native_zoom",
       "min_zoom",
       "no_wrap",
       "tile_size",
       "tms",
       "zoom_offset"
      ],
      "pane": "",
      "popup": null,
      "popup_max_height": null,
      "popup_max_width": 300,
      "popup_min_width": 50,
      "show_loading": false,
      "subitems": [],
      "tile_size": 256,
      "tms": false,
      "url": "https://earthengine.googleapis.com/v1/projects/ee-koreenmillard/maps/77154e386f4a0a3230f3d2b5c6c84df7-d85a1671088815079ffb2a4f06f5cfd4/tiles/{z}/{x}/{y}",
      "visible": true,
      "zoom_offset": 0
     }
    },
    "5ea607b420844fa2880a9709e980e0b0": {
     "model_module": "jupyter-leaflet",
     "model_module_version": "^0.18",
     "model_name": "LeafletWidgetControlModel",
     "state": {
      "_model_module": "jupyter-leaflet",
      "_model_module_version": "^0.18",
      "_model_name": "LeafletWidgetControlModel",
      "_view_count": null,
      "_view_module": "jupyter-leaflet",
      "_view_module_version": "^0.18",
      "_view_name": "LeafletWidgetControlView",
      "max_height": null,
      "max_width": null,
      "min_height": null,
      "min_width": null,
      "options": [
       "position",
       "transparent_bg"
      ],
      "position": "topright",
      "transparent_bg": false,
      "widget": "IPY_MODEL_8c6fb9382eab42339b24839102b2894f"
     }
    },
    "5f6a1fe22a5b4de69baeab2c65bc6a0c": {
     "model_module": "jupyter-leaflet",
     "model_module_version": "^0.18",
     "model_name": "LeafletWidgetControlModel",
     "state": {
      "_model_module": "jupyter-leaflet",
      "_model_module_version": "^0.18",
      "_model_name": "LeafletWidgetControlModel",
      "_view_count": null,
      "_view_module": "jupyter-leaflet",
      "_view_module_version": "^0.18",
      "_view_name": "LeafletWidgetControlView",
      "max_height": null,
      "max_width": null,
      "min_height": null,
      "min_width": null,
      "options": [
       "position",
       "transparent_bg"
      ],
      "position": "topright",
      "transparent_bg": false,
      "widget": "IPY_MODEL_51252184cc84445aaae50f0f10081e4b"
     }
    },
    "6170c6060c4c4052b5ecad8ccfa764f4": {
     "model_module": "@jupyter-widgets/base",
     "model_module_version": "1.2.0",
     "model_name": "LayoutModel",
     "state": {
      "_model_module": "@jupyter-widgets/base",
      "_model_module_version": "1.2.0",
      "_model_name": "LayoutModel",
      "_view_count": null,
      "_view_module": "@jupyter-widgets/base",
      "_view_module_version": "1.2.0",
      "_view_name": "LayoutView",
      "align_content": null,
      "align_items": null,
      "align_self": null,
      "border": null,
      "bottom": null,
      "display": null,
      "flex": null,
      "flex_flow": null,
      "grid_area": null,
      "grid_auto_columns": null,
      "grid_auto_flow": null,
      "grid_auto_rows": null,
      "grid_column": null,
      "grid_gap": null,
      "grid_row": null,
      "grid_template_areas": null,
      "grid_template_columns": null,
      "grid_template_rows": null,
      "height": "600px",
      "justify_content": null,
      "justify_items": null,
      "left": null,
      "margin": null,
      "max_height": null,
      "max_width": null,
      "min_height": null,
      "min_width": null,
      "object_fit": null,
      "object_position": null,
      "order": null,
      "overflow": null,
      "overflow_x": null,
      "overflow_y": null,
      "padding": null,
      "right": null,
      "top": null,
      "visibility": null,
      "width": null
     }
    },
    "617c2d337bbd412b8d1b60e2fb08e469": {
     "model_module": "jupyter-leaflet",
     "model_module_version": "^0.18",
     "model_name": "LeafletMapStyleModel",
     "state": {
      "_model_module": "jupyter-leaflet",
      "_model_module_version": "^0.18",
      "_model_name": "LeafletMapStyleModel",
      "_view_count": null,
      "_view_module": "@jupyter-widgets/base",
      "_view_module_version": "1.2.0",
      "_view_name": "StyleView",
      "cursor": "grab"
     }
    },
    "623dbafec1e448069d1a0392de833a41": {
     "model_module": "jupyter-leaflet",
     "model_module_version": "^0.18",
     "model_name": "LeafletAttributionControlModel",
     "state": {
      "_model_module": "jupyter-leaflet",
      "_model_module_version": "^0.18",
      "_model_name": "LeafletAttributionControlModel",
      "_view_count": null,
      "_view_module": "jupyter-leaflet",
      "_view_module_version": "^0.18",
      "_view_name": "LeafletAttributionControlView",
      "options": [
       "position",
       "prefix"
      ],
      "position": "bottomright",
      "prefix": "ipyleaflet"
     }
    },
    "64e7953d488e43cea31c837f6be81439": {
     "model_module": "jupyter-leaflet",
     "model_module_version": "^0.18",
     "model_name": "LeafletTileLayerModel",
     "state": {
      "_model_module": "jupyter-leaflet",
      "_model_module_version": "^0.18",
      "_model_name": "LeafletTileLayerModel",
      "_view_count": null,
      "_view_module": "jupyter-leaflet",
      "_view_module_version": "^0.18",
      "_view_name": "LeafletTileLayerView",
      "attribution": "Google Earth Engine",
      "base": false,
      "bottom": true,
      "bounds": null,
      "detect_retina": false,
      "loading": false,
      "max_native_zoom": null,
      "max_zoom": 24,
      "min_native_zoom": null,
      "min_zoom": 0,
      "name": "kask_DEM",
      "no_wrap": false,
      "opacity": 0.5,
      "options": [
       "attribution",
       "bounds",
       "detect_retina",
       "max_native_zoom",
       "max_zoom",
       "min_native_zoom",
       "min_zoom",
       "no_wrap",
       "tile_size",
       "tms",
       "zoom_offset"
      ],
      "pane": "",
      "popup": null,
      "popup_max_height": null,
      "popup_max_width": 300,
      "popup_min_width": 50,
      "show_loading": false,
      "subitems": [],
      "tile_size": 256,
      "tms": false,
      "url": "https://earthengine.googleapis.com/v1/projects/ee-koreenmillard/maps/7a233e91703cf429c4bfdb77f793551e-ed2f040d98c813d962607b0134c367dc/tiles/{z}/{x}/{y}",
      "visible": true,
      "zoom_offset": 0
     }
    },
    "655df6ee1c364ea0a76abb7317f530ec": {
     "model_module": "@jupyter-widgets/controls",
     "model_module_version": "1.5.0",
     "model_name": "HBoxModel",
     "state": {
      "_dom_classes": [
       "geemap-colab"
      ],
      "_model_module": "@jupyter-widgets/controls",
      "_model_module_version": "1.5.0",
      "_model_name": "HBoxModel",
      "_view_count": null,
      "_view_module": "@jupyter-widgets/controls",
      "_view_module_version": "1.5.0",
      "_view_name": "HBoxView",
      "box_style": "",
      "children": [
       "IPY_MODEL_56dccc83bbc14ecfad634ebdcd8d76e9"
      ],
      "layout": "IPY_MODEL_cec2fe2683c54c6395567b53b90653e5"
     }
    },
    "65922bc1661b4b08b8144f58d0420b74": {
     "model_module": "@jupyter-widgets/controls",
     "model_module_version": "1.5.0",
     "model_name": "VBoxModel",
     "state": {
      "_dom_classes": [
       "geemap-colab"
      ],
      "_model_module": "@jupyter-widgets/controls",
      "_model_module_version": "1.5.0",
      "_model_name": "VBoxModel",
      "_view_count": null,
      "_view_module": "@jupyter-widgets/controls",
      "_view_module_version": "1.5.0",
      "_view_name": "VBoxView",
      "box_style": "",
      "children": [
       "IPY_MODEL_fdad499bdb8f4ed483cfb789bf428745"
      ],
      "layout": "IPY_MODEL_44076758ea5c465bac72d8e1b94cc3ab"
     }
    },
    "65c62ab543954324813f9d1ab8e13b59": {
     "model_module": "@jupyter-widgets/base",
     "model_module_version": "1.2.0",
     "model_name": "LayoutModel",
     "state": {
      "_model_module": "@jupyter-widgets/base",
      "_model_module_version": "1.2.0",
      "_model_name": "LayoutModel",
      "_view_count": null,
      "_view_module": "@jupyter-widgets/base",
      "_view_module_version": "1.2.0",
      "_view_name": "LayoutView",
      "align_content": null,
      "align_items": null,
      "align_self": null,
      "border": null,
      "bottom": null,
      "display": null,
      "flex": null,
      "flex_flow": null,
      "grid_area": null,
      "grid_auto_columns": null,
      "grid_auto_flow": null,
      "grid_auto_rows": null,
      "grid_column": null,
      "grid_gap": null,
      "grid_row": null,
      "grid_template_areas": null,
      "grid_template_columns": null,
      "grid_template_rows": null,
      "height": "600px",
      "justify_content": null,
      "justify_items": null,
      "left": null,
      "margin": null,
      "max_height": null,
      "max_width": null,
      "min_height": null,
      "min_width": null,
      "object_fit": null,
      "object_position": null,
      "order": null,
      "overflow": null,
      "overflow_x": null,
      "overflow_y": null,
      "padding": null,
      "right": null,
      "top": null,
      "visibility": null,
      "width": null
     }
    },
    "67089de93f6e492f92997e51b121a972": {
     "model_module": "jupyter-leaflet",
     "model_module_version": "^0.18",
     "model_name": "LeafletTileLayerModel",
     "state": {
      "_model_module": "jupyter-leaflet",
      "_model_module_version": "^0.18",
      "_model_name": "LeafletTileLayerModel",
      "_view_count": null,
      "_view_module": "jupyter-leaflet",
      "_view_module_version": "^0.18",
      "_view_name": "LeafletTileLayerView",
      "attribution": "&copy; <a href=\"https://www.openstreetmap.org/copyright\">OpenStreetMap</a> contributors",
      "base": true,
      "bottom": true,
      "bounds": null,
      "detect_retina": false,
      "loading": false,
      "max_native_zoom": null,
      "max_zoom": 19,
      "min_native_zoom": null,
      "min_zoom": 1,
      "name": "OpenStreetMap.Mapnik",
      "no_wrap": false,
      "opacity": 1,
      "options": [
       "attribution",
       "bounds",
       "detect_retina",
       "max_native_zoom",
       "max_zoom",
       "min_native_zoom",
       "min_zoom",
       "no_wrap",
       "tile_size",
       "tms",
       "zoom_offset"
      ],
      "pane": "",
      "popup": null,
      "popup_max_height": null,
      "popup_max_width": 300,
      "popup_min_width": 50,
      "show_loading": false,
      "subitems": [],
      "tile_size": 256,
      "tms": false,
      "url": "https://tile.openstreetmap.org/{z}/{x}/{y}.png",
      "visible": true,
      "zoom_offset": 0
     }
    },
    "6791000649914521b5accc461ed4a0f9": {
     "model_module": "@jupyter-widgets/base",
     "model_module_version": "1.2.0",
     "model_name": "LayoutModel",
     "state": {
      "_model_module": "@jupyter-widgets/base",
      "_model_module_version": "1.2.0",
      "_model_name": "LayoutModel",
      "_view_count": null,
      "_view_module": "@jupyter-widgets/base",
      "_view_module_version": "1.2.0",
      "_view_name": "LayoutView",
      "align_content": null,
      "align_items": null,
      "align_self": null,
      "border": null,
      "bottom": null,
      "display": null,
      "flex": null,
      "flex_flow": null,
      "grid_area": null,
      "grid_auto_columns": null,
      "grid_auto_flow": null,
      "grid_auto_rows": null,
      "grid_column": null,
      "grid_gap": null,
      "grid_row": null,
      "grid_template_areas": null,
      "grid_template_columns": null,
      "grid_template_rows": null,
      "height": "28px",
      "justify_content": null,
      "justify_items": null,
      "left": null,
      "margin": null,
      "max_height": null,
      "max_width": null,
      "min_height": null,
      "min_width": null,
      "object_fit": null,
      "object_position": null,
      "order": null,
      "overflow": null,
      "overflow_x": null,
      "overflow_y": null,
      "padding": "0px 0px 0px 4px",
      "right": null,
      "top": null,
      "visibility": null,
      "width": "28px"
     }
    },
    "684784d676814ac5bfc1ac15243c0f01": {
     "model_module": "@jupyter-widgets/controls",
     "model_module_version": "1.5.0",
     "model_name": "VBoxModel",
     "state": {
      "_dom_classes": [
       "geemap-colab"
      ],
      "_model_module": "@jupyter-widgets/controls",
      "_model_module_version": "1.5.0",
      "_model_name": "VBoxModel",
      "_view_count": null,
      "_view_module": "@jupyter-widgets/controls",
      "_view_module_version": "1.5.0",
      "_view_name": "VBoxView",
      "box_style": "",
      "children": [
       "IPY_MODEL_0ad5de52404744e5bea758a08a8b794e"
      ],
      "layout": "IPY_MODEL_289120ab18c34b2fb428905c12f62285"
     }
    },
    "685f05502ed2429e825eb70c20b92d32": {
     "model_module": "@jupyter-widgets/controls",
     "model_module_version": "1.5.0",
     "model_name": "HBoxModel",
     "state": {
      "_dom_classes": [
       "geemap-colab"
      ],
      "_model_module": "@jupyter-widgets/controls",
      "_model_module_version": "1.5.0",
      "_model_name": "HBoxModel",
      "_view_count": null,
      "_view_module": "@jupyter-widgets/controls",
      "_view_module_version": "1.5.0",
      "_view_name": "HBoxView",
      "box_style": "",
      "children": [
       "IPY_MODEL_0d7111d51ad5406988a63d93fdd7f917"
      ],
      "layout": "IPY_MODEL_b9a406a968b0443e9fa89a756ac8cbb9"
     }
    },
    "6940ad93a5da4bd2a5c9250b48358eda": {
     "model_module": "@jupyter-widgets/controls",
     "model_module_version": "1.5.0",
     "model_name": "ToggleButtonModel",
     "state": {
      "_dom_classes": [],
      "_model_module": "@jupyter-widgets/controls",
      "_model_module_version": "1.5.0",
      "_model_name": "ToggleButtonModel",
      "_view_count": null,
      "_view_module": "@jupyter-widgets/controls",
      "_view_module_version": "1.5.0",
      "_view_name": "ToggleButtonView",
      "button_style": "",
      "description": "",
      "description_tooltip": null,
      "disabled": false,
      "icon": "wrench",
      "layout": "IPY_MODEL_c392a19fa8d44053a5a2df048758f719",
      "style": "IPY_MODEL_74e1306043624539a1a89db1617ac4b4",
      "tooltip": "Toolbar",
      "value": false
     }
    },
    "696af567870b4dd9a3aefff6853de580": {
     "model_module": "jupyter-leaflet",
     "model_module_version": "^0.18",
     "model_name": "LeafletMeasureControlModel",
     "state": {
      "_custom_units": {},
      "_model_module": "jupyter-leaflet",
      "_model_module_version": "^0.18",
      "_model_name": "LeafletMeasureControlModel",
      "_view_count": null,
      "_view_module": "jupyter-leaflet",
      "_view_module_version": "^0.18",
      "_view_name": "LeafletMeasureControlView",
      "active_color": "orange",
      "capture_z_index": 10000,
      "completed_color": "#C8F2BE",
      "options": [
       "active_color",
       "capture_z_index",
       "completed_color",
       "popup_options",
       "position",
       "primary_area_unit",
       "primary_length_unit",
       "secondary_area_unit",
       "secondary_length_unit"
      ],
      "popup_options": {
       "autoPanPadding": [
        10,
        10
       ],
       "className": "leaflet-measure-resultpopup"
      },
      "position": "bottomleft",
      "primary_area_unit": "acres",
      "primary_length_unit": "kilometers",
      "secondary_area_unit": null,
      "secondary_length_unit": null
     }
    },
    "6acdde6258424830972d6a1b41bc75f3": {
     "model_module": "@jupyter-widgets/controls",
     "model_module_version": "1.5.0",
     "model_name": "DescriptionStyleModel",
     "state": {
      "_model_module": "@jupyter-widgets/controls",
      "_model_module_version": "1.5.0",
      "_model_name": "DescriptionStyleModel",
      "_view_count": null,
      "_view_module": "@jupyter-widgets/base",
      "_view_module_version": "1.2.0",
      "_view_name": "StyleView",
      "description_width": ""
     }
    },
    "6ceb1df3a13e441e9d57ad4a5fd974e6": {
     "model_module": "jupyter-leaflet",
     "model_module_version": "^0.18",
     "model_name": "LeafletTileLayerModel",
     "state": {
      "_model_module": "jupyter-leaflet",
      "_model_module_version": "^0.18",
      "_model_name": "LeafletTileLayerModel",
      "_view_count": null,
      "_view_module": "jupyter-leaflet",
      "_view_module_version": "^0.18",
      "_view_name": "LeafletTileLayerView",
      "attribution": "Google Earth Engine",
      "base": false,
      "bottom": true,
      "bounds": null,
      "detect_retina": false,
      "loading": false,
      "max_native_zoom": null,
      "max_zoom": 24,
      "min_native_zoom": null,
      "min_zoom": 0,
      "name": "Arctic_DEM Hillshade",
      "no_wrap": false,
      "opacity": 0.5,
      "options": [
       "attribution",
       "bounds",
       "detect_retina",
       "max_native_zoom",
       "max_zoom",
       "min_native_zoom",
       "min_zoom",
       "no_wrap",
       "tile_size",
       "tms",
       "zoom_offset"
      ],
      "pane": "",
      "popup": null,
      "popup_max_height": null,
      "popup_max_width": 300,
      "popup_min_width": 50,
      "show_loading": false,
      "subitems": [],
      "tile_size": 256,
      "tms": false,
      "url": "https://earthengine.googleapis.com/v1/projects/ee-koreenmillard/maps/45b2e056c7df1e95f721435bfea9ebfc-8c9ff61dad7c3b49b7318be4daf9d0b6/tiles/{z}/{x}/{y}",
      "visible": true,
      "zoom_offset": 0
     }
    },
    "6d7c4efea74b44c58352d5ea27e83de0": {
     "model_module": "@jupyter-widgets/base",
     "model_module_version": "1.2.0",
     "model_name": "LayoutModel",
     "state": {
      "_model_module": "@jupyter-widgets/base",
      "_model_module_version": "1.2.0",
      "_model_name": "LayoutModel",
      "_view_count": null,
      "_view_module": "@jupyter-widgets/base",
      "_view_module_version": "1.2.0",
      "_view_name": "LayoutView",
      "align_content": null,
      "align_items": null,
      "align_self": null,
      "border": null,
      "bottom": null,
      "display": null,
      "flex": null,
      "flex_flow": null,
      "grid_area": null,
      "grid_auto_columns": null,
      "grid_auto_flow": null,
      "grid_auto_rows": null,
      "grid_column": null,
      "grid_gap": null,
      "grid_row": null,
      "grid_template_areas": null,
      "grid_template_columns": null,
      "grid_template_rows": null,
      "height": null,
      "justify_content": null,
      "justify_items": null,
      "left": null,
      "margin": null,
      "max_height": null,
      "max_width": null,
      "min_height": null,
      "min_width": null,
      "object_fit": null,
      "object_position": null,
      "order": null,
      "overflow": null,
      "overflow_x": null,
      "overflow_y": null,
      "padding": null,
      "right": null,
      "top": null,
      "visibility": null,
      "width": null
     }
    },
    "6f48a3e66b644108b056eaa44fb20a84": {
     "model_module": "jupyter-leaflet",
     "model_module_version": "^0.18",
     "model_name": "LeafletTileLayerModel",
     "state": {
      "_model_module": "jupyter-leaflet",
      "_model_module_version": "^0.18",
      "_model_name": "LeafletTileLayerModel",
      "_view_count": null,
      "_view_module": "jupyter-leaflet",
      "_view_module_version": "^0.18",
      "_view_name": "LeafletTileLayerView",
      "attribution": "&copy; <a href=\"https://www.openstreetmap.org/copyright\">OpenStreetMap</a> contributors",
      "base": true,
      "bottom": true,
      "bounds": null,
      "detect_retina": false,
      "loading": false,
      "max_native_zoom": null,
      "max_zoom": 19,
      "min_native_zoom": null,
      "min_zoom": 1,
      "name": "OpenStreetMap.Mapnik",
      "no_wrap": false,
      "opacity": 1,
      "options": [
       "attribution",
       "bounds",
       "detect_retina",
       "max_native_zoom",
       "max_zoom",
       "min_native_zoom",
       "min_zoom",
       "no_wrap",
       "tile_size",
       "tms",
       "zoom_offset"
      ],
      "pane": "",
      "popup": null,
      "popup_max_height": null,
      "popup_max_width": 300,
      "popup_min_width": 50,
      "show_loading": false,
      "subitems": [],
      "tile_size": 256,
      "tms": false,
      "url": "https://tile.openstreetmap.org/{z}/{x}/{y}.png",
      "visible": true,
      "zoom_offset": 0
     }
    },
    "6f50e937961a43ffb5fb20a39ac08238": {
     "model_module": "jupyter-leaflet",
     "model_module_version": "^0.18",
     "model_name": "LeafletWidgetControlModel",
     "state": {
      "_model_module": "jupyter-leaflet",
      "_model_module_version": "^0.18",
      "_model_name": "LeafletWidgetControlModel",
      "_view_count": null,
      "_view_module": "jupyter-leaflet",
      "_view_module_version": "^0.18",
      "_view_name": "LeafletWidgetControlView",
      "max_height": null,
      "max_width": null,
      "min_height": null,
      "min_width": null,
      "options": [
       "position",
       "transparent_bg"
      ],
      "position": "topleft",
      "transparent_bg": false,
      "widget": "IPY_MODEL_a9c1366f1bad49daa307e2e0446bd0ac"
     }
    },
    "701a69648b704e2683a7f95078649dff": {
     "model_module": "jupyter-leaflet",
     "model_module_version": "^0.18",
     "model_name": "LeafletMapStyleModel",
     "state": {
      "_model_module": "jupyter-leaflet",
      "_model_module_version": "^0.18",
      "_model_name": "LeafletMapStyleModel",
      "_view_count": null,
      "_view_module": "@jupyter-widgets/base",
      "_view_module_version": "1.2.0",
      "_view_name": "StyleView",
      "cursor": "grab"
     }
    },
    "7050db0be8424a459870c25f227e784b": {
     "model_module": "@jupyter-widgets/controls",
     "model_module_version": "1.5.0",
     "model_name": "ToggleButtonModel",
     "state": {
      "_dom_classes": [],
      "_model_module": "@jupyter-widgets/controls",
      "_model_module_version": "1.5.0",
      "_model_name": "ToggleButtonModel",
      "_view_count": null,
      "_view_module": "@jupyter-widgets/controls",
      "_view_module_version": "1.5.0",
      "_view_name": "ToggleButtonView",
      "button_style": "",
      "description": "",
      "description_tooltip": null,
      "disabled": false,
      "icon": "wrench",
      "layout": "IPY_MODEL_6791000649914521b5accc461ed4a0f9",
      "style": "IPY_MODEL_df554b881d4847a8b50060ceea7468ff",
      "tooltip": "Toolbar",
      "value": false
     }
    },
    "71208e4e7ecb4678aa1be4508f3df78e": {
     "model_module": "jupyter-leaflet",
     "model_module_version": "^0.18",
     "model_name": "LeafletMapStyleModel",
     "state": {
      "_model_module": "jupyter-leaflet",
      "_model_module_version": "^0.18",
      "_model_name": "LeafletMapStyleModel",
      "_view_count": null,
      "_view_module": "@jupyter-widgets/base",
      "_view_module_version": "1.2.0",
      "_view_name": "StyleView",
      "cursor": "move"
     }
    },
    "712c1e9fc8654f21adcc68571dceb858": {
     "model_module": "jupyter-leaflet",
     "model_module_version": "^0.18",
     "model_name": "LeafletWidgetControlModel",
     "state": {
      "_model_module": "jupyter-leaflet",
      "_model_module_version": "^0.18",
      "_model_name": "LeafletWidgetControlModel",
      "_view_count": null,
      "_view_module": "jupyter-leaflet",
      "_view_module_version": "^0.18",
      "_view_name": "LeafletWidgetControlView",
      "max_height": null,
      "max_width": null,
      "min_height": null,
      "min_width": null,
      "options": [
       "position",
       "transparent_bg"
      ],
      "position": "topleft",
      "transparent_bg": false,
      "widget": "IPY_MODEL_27add4b190e04b62b2d6e893791db9b4"
     }
    },
    "72b35220196047a584fb85466016ccb8": {
     "model_module": "jupyter-leaflet",
     "model_module_version": "^0.18",
     "model_name": "LeafletMapStyleModel",
     "state": {
      "_model_module": "jupyter-leaflet",
      "_model_module_version": "^0.18",
      "_model_name": "LeafletMapStyleModel",
      "_view_count": null,
      "_view_module": "@jupyter-widgets/base",
      "_view_module_version": "1.2.0",
      "_view_name": "StyleView",
      "cursor": "move"
     }
    },
    "73097dd50f774e349db75fa1d59b08af": {
     "model_module": "jupyter-leaflet",
     "model_module_version": "^0.18",
     "model_name": "LeafletMapStyleModel",
     "state": {
      "_model_module": "jupyter-leaflet",
      "_model_module_version": "^0.18",
      "_model_name": "LeafletMapStyleModel",
      "_view_count": null,
      "_view_module": "@jupyter-widgets/base",
      "_view_module_version": "1.2.0",
      "_view_name": "StyleView",
      "cursor": "grab"
     }
    },
    "73c2f78b81d54569834723b02aece41c": {
     "model_module": "jupyter-leaflet",
     "model_module_version": "^0.18",
     "model_name": "LeafletFullScreenControlModel",
     "state": {
      "_model_module": "jupyter-leaflet",
      "_model_module_version": "^0.18",
      "_model_name": "LeafletFullScreenControlModel",
      "_view_count": null,
      "_view_module": "jupyter-leaflet",
      "_view_module_version": "^0.18",
      "_view_name": "LeafletFullScreenControlView",
      "options": [
       "position"
      ],
      "position": "topleft"
     }
    },
    "74e1306043624539a1a89db1617ac4b4": {
     "model_module": "@jupyter-widgets/controls",
     "model_module_version": "1.5.0",
     "model_name": "DescriptionStyleModel",
     "state": {
      "_model_module": "@jupyter-widgets/controls",
      "_model_module_version": "1.5.0",
      "_model_name": "DescriptionStyleModel",
      "_view_count": null,
      "_view_module": "@jupyter-widgets/base",
      "_view_module_version": "1.2.0",
      "_view_name": "StyleView",
      "description_width": ""
     }
    },
    "7545fe4bf06744aaaf3c7db06615cd7c": {
     "model_module": "jupyter-leaflet",
     "model_module_version": "^0.18",
     "model_name": "LeafletFullScreenControlModel",
     "state": {
      "_model_module": "jupyter-leaflet",
      "_model_module_version": "^0.18",
      "_model_name": "LeafletFullScreenControlModel",
      "_view_count": null,
      "_view_module": "jupyter-leaflet",
      "_view_module_version": "^0.18",
      "_view_name": "LeafletFullScreenControlView",
      "options": [
       "position"
      ],
      "position": "topleft"
     }
    },
    "756c7a7724354f90884504ca3cfb6ab0": {
     "model_module": "@jupyter-widgets/base",
     "model_module_version": "1.2.0",
     "model_name": "LayoutModel",
     "state": {
      "_model_module": "@jupyter-widgets/base",
      "_model_module_version": "1.2.0",
      "_model_name": "LayoutModel",
      "_view_count": null,
      "_view_module": "@jupyter-widgets/base",
      "_view_module_version": "1.2.0",
      "_view_name": "LayoutView",
      "align_content": null,
      "align_items": null,
      "align_self": null,
      "border": null,
      "bottom": null,
      "display": null,
      "flex": null,
      "flex_flow": null,
      "grid_area": null,
      "grid_auto_columns": null,
      "grid_auto_flow": null,
      "grid_auto_rows": null,
      "grid_column": null,
      "grid_gap": null,
      "grid_row": null,
      "grid_template_areas": null,
      "grid_template_columns": null,
      "grid_template_rows": null,
      "height": "28px",
      "justify_content": null,
      "justify_items": null,
      "left": null,
      "margin": null,
      "max_height": null,
      "max_width": null,
      "min_height": null,
      "min_width": null,
      "object_fit": null,
      "object_position": null,
      "order": null,
      "overflow": null,
      "overflow_x": null,
      "overflow_y": null,
      "padding": "0px 0px 0px 4px",
      "right": null,
      "top": null,
      "visibility": null,
      "width": "28px"
     }
    },
    "786d4d45d05c42fe956fa981821cdc8e": {
     "model_module": "@jupyter-widgets/base",
     "model_module_version": "1.2.0",
     "model_name": "LayoutModel",
     "state": {
      "_model_module": "@jupyter-widgets/base",
      "_model_module_version": "1.2.0",
      "_model_name": "LayoutModel",
      "_view_count": null,
      "_view_module": "@jupyter-widgets/base",
      "_view_module_version": "1.2.0",
      "_view_name": "LayoutView",
      "align_content": null,
      "align_items": null,
      "align_self": null,
      "border": null,
      "bottom": null,
      "display": null,
      "flex": null,
      "flex_flow": null,
      "grid_area": null,
      "grid_auto_columns": null,
      "grid_auto_flow": null,
      "grid_auto_rows": null,
      "grid_column": null,
      "grid_gap": null,
      "grid_row": null,
      "grid_template_areas": null,
      "grid_template_columns": null,
      "grid_template_rows": null,
      "height": "750px",
      "justify_content": null,
      "justify_items": null,
      "left": null,
      "margin": null,
      "max_height": null,
      "max_width": null,
      "min_height": null,
      "min_width": null,
      "object_fit": null,
      "object_position": null,
      "order": null,
      "overflow": null,
      "overflow_x": null,
      "overflow_y": null,
      "padding": null,
      "right": null,
      "top": null,
      "visibility": null,
      "width": "1000px"
     }
    },
    "79662433cb5d45869e81d9cdd9d6c9ed": {
     "model_module": "@jupyter-widgets/base",
     "model_module_version": "1.2.0",
     "model_name": "LayoutModel",
     "state": {
      "_model_module": "@jupyter-widgets/base",
      "_model_module_version": "1.2.0",
      "_model_name": "LayoutModel",
      "_view_count": null,
      "_view_module": "@jupyter-widgets/base",
      "_view_module_version": "1.2.0",
      "_view_name": "LayoutView",
      "align_content": null,
      "align_items": null,
      "align_self": null,
      "border": null,
      "bottom": null,
      "display": null,
      "flex": null,
      "flex_flow": null,
      "grid_area": null,
      "grid_auto_columns": null,
      "grid_auto_flow": null,
      "grid_auto_rows": null,
      "grid_column": null,
      "grid_gap": null,
      "grid_row": null,
      "grid_template_areas": null,
      "grid_template_columns": null,
      "grid_template_rows": null,
      "height": null,
      "justify_content": null,
      "justify_items": null,
      "left": null,
      "margin": null,
      "max_height": null,
      "max_width": null,
      "min_height": null,
      "min_width": null,
      "object_fit": null,
      "object_position": null,
      "order": null,
      "overflow": null,
      "overflow_x": null,
      "overflow_y": null,
      "padding": null,
      "right": null,
      "top": null,
      "visibility": null,
      "width": null
     }
    },
    "79775748c3c445488dada9042bf8e5e0": {
     "model_module": "jupyter-leaflet",
     "model_module_version": "^0.18",
     "model_name": "LeafletLayersControlModel",
     "state": {
      "_model_module": "jupyter-leaflet",
      "_model_module_version": "^0.18",
      "_model_name": "LeafletLayersControlModel",
      "_view_count": null,
      "_view_module": "jupyter-leaflet",
      "_view_module_version": "^0.18",
      "_view_name": "LeafletLayersControlView",
      "collapsed": true,
      "options": [
       "collapsed",
       "position"
      ],
      "position": "topright"
     }
    },
    "7be07322cb38462ea1f6b188634622fc": {
     "model_module": "jupyter-leaflet",
     "model_module_version": "^0.18",
     "model_name": "LeafletWidgetControlModel",
     "state": {
      "_model_module": "jupyter-leaflet",
      "_model_module_version": "^0.18",
      "_model_name": "LeafletWidgetControlModel",
      "_view_count": null,
      "_view_module": "jupyter-leaflet",
      "_view_module_version": "^0.18",
      "_view_name": "LeafletWidgetControlView",
      "max_height": null,
      "max_width": null,
      "min_height": null,
      "min_width": null,
      "options": [
       "position",
       "transparent_bg"
      ],
      "position": "topright",
      "transparent_bg": false,
      "widget": "IPY_MODEL_684784d676814ac5bfc1ac15243c0f01"
     }
    },
    "7d8178eec22e4c8e9db30d3ecd684e2a": {
     "model_module": "jupyter-leaflet",
     "model_module_version": "^0.18",
     "model_name": "LeafletAttributionControlModel",
     "state": {
      "_model_module": "jupyter-leaflet",
      "_model_module_version": "^0.18",
      "_model_name": "LeafletAttributionControlModel",
      "_view_count": null,
      "_view_module": "jupyter-leaflet",
      "_view_module_version": "^0.18",
      "_view_name": "LeafletAttributionControlView",
      "options": [
       "position",
       "prefix"
      ],
      "position": "bottomright",
      "prefix": "ipyleaflet"
     }
    },
    "7f869c17904c42d09325cf3bbae97595": {
     "model_module": "jupyter-leaflet",
     "model_module_version": "^0.18",
     "model_name": "LeafletMapStyleModel",
     "state": {
      "_model_module": "jupyter-leaflet",
      "_model_module_version": "^0.18",
      "_model_name": "LeafletMapStyleModel",
      "_view_count": null,
      "_view_module": "@jupyter-widgets/base",
      "_view_module_version": "1.2.0",
      "_view_name": "StyleView",
      "cursor": "move"
     }
    },
    "80bfa45d9ab0452b84299b9cced0cbbb": {
     "model_module": "jupyter-leaflet",
     "model_module_version": "^0.18",
     "model_name": "LeafletWidgetControlModel",
     "state": {
      "_model_module": "jupyter-leaflet",
      "_model_module_version": "^0.18",
      "_model_name": "LeafletWidgetControlModel",
      "_view_count": null,
      "_view_module": "jupyter-leaflet",
      "_view_module_version": "^0.18",
      "_view_name": "LeafletWidgetControlView",
      "max_height": null,
      "max_width": null,
      "min_height": null,
      "min_width": null,
      "options": [
       "position",
       "transparent_bg"
      ],
      "position": "topright",
      "transparent_bg": false,
      "widget": "IPY_MODEL_9b2849155d3640b0a945b8b0d21f82cb"
     }
    },
    "81760eb10aba4fde881dae98368ea346": {
     "model_module": "jupyter-leaflet",
     "model_module_version": "^0.18",
     "model_name": "LeafletDrawControlModel",
     "state": {
      "_model_module": "jupyter-leaflet",
      "_model_module_version": "^0.18",
      "_model_name": "LeafletDrawControlModel",
      "_view_count": null,
      "_view_module": "jupyter-leaflet",
      "_view_module_version": "^0.18",
      "_view_name": "LeafletDrawControlView",
      "circle": {},
      "circlemarker": {},
      "data": [],
      "edit": true,
      "marker": {
       "shapeOptions": {
        "color": "#3388ff"
       }
      },
      "options": [
       "position"
      ],
      "polygon": {
       "shapeOptions": {}
      },
      "polyline": {
       "shapeOptions": {}
      },
      "position": "topleft",
      "rectangle": {
       "shapeOptions": {
        "color": "#3388ff"
       }
      },
      "remove": true
     }
    },
    "82877c0ae6af4140bb07596ae3952b22": {
     "model_module": "jupyter-leaflet",
     "model_module_version": "^0.18",
     "model_name": "LeafletWidgetControlModel",
     "state": {
      "_model_module": "jupyter-leaflet",
      "_model_module_version": "^0.18",
      "_model_name": "LeafletWidgetControlModel",
      "_view_count": null,
      "_view_module": "jupyter-leaflet",
      "_view_module_version": "^0.18",
      "_view_name": "LeafletWidgetControlView",
      "max_height": null,
      "max_width": null,
      "min_height": null,
      "min_width": null,
      "options": [
       "position",
       "transparent_bg"
      ],
      "position": "topleft",
      "transparent_bg": false,
      "widget": "IPY_MODEL_655df6ee1c364ea0a76abb7317f530ec"
     }
    },
    "87b362562d9840219b649fd2d24c8e1f": {
     "model_module": "jupyter-leaflet",
     "model_module_version": "^0.18",
     "model_name": "LeafletAttributionControlModel",
     "state": {
      "_model_module": "jupyter-leaflet",
      "_model_module_version": "^0.18",
      "_model_name": "LeafletAttributionControlModel",
      "_view_count": null,
      "_view_module": "jupyter-leaflet",
      "_view_module_version": "^0.18",
      "_view_name": "LeafletAttributionControlView",
      "options": [
       "position",
       "prefix"
      ],
      "position": "bottomright",
      "prefix": "ipyleaflet"
     }
    },
    "896cc5fb6b1f4c24b0c27c7b8faa1f4b": {
     "model_module": "jupyter-leaflet",
     "model_module_version": "^0.18",
     "model_name": "LeafletTileLayerModel",
     "state": {
      "_model_module": "jupyter-leaflet",
      "_model_module_version": "^0.18",
      "_model_name": "LeafletTileLayerModel",
      "_view_count": null,
      "_view_module": "jupyter-leaflet",
      "_view_module_version": "^0.18",
      "_view_name": "LeafletTileLayerView",
      "attribution": "&copy; <a href=\"https://www.openstreetmap.org/copyright\">OpenStreetMap</a> contributors",
      "base": true,
      "bottom": true,
      "bounds": null,
      "detect_retina": false,
      "loading": false,
      "max_native_zoom": null,
      "max_zoom": 19,
      "min_native_zoom": null,
      "min_zoom": 1,
      "name": "OpenStreetMap.Mapnik",
      "no_wrap": false,
      "opacity": 1,
      "options": [
       "attribution",
       "bounds",
       "detect_retina",
       "max_native_zoom",
       "max_zoom",
       "min_native_zoom",
       "min_zoom",
       "no_wrap",
       "tile_size",
       "tms",
       "zoom_offset"
      ],
      "pane": "",
      "popup": null,
      "popup_max_height": null,
      "popup_max_width": 300,
      "popup_min_width": 50,
      "show_loading": false,
      "subitems": [],
      "tile_size": 256,
      "tms": false,
      "url": "https://tile.openstreetmap.org/{z}/{x}/{y}.png",
      "visible": true,
      "zoom_offset": 0
     }
    },
    "898fbfb785c14cfb96bf6f318da3132a": {
     "model_module": "jupyter-leaflet",
     "model_module_version": "^0.18",
     "model_name": "LeafletMapStyleModel",
     "state": {
      "_model_module": "jupyter-leaflet",
      "_model_module_version": "^0.18",
      "_model_name": "LeafletMapStyleModel",
      "_view_count": null,
      "_view_module": "@jupyter-widgets/base",
      "_view_module_version": "1.2.0",
      "_view_name": "StyleView",
      "cursor": "move"
     }
    },
    "8ab876980e804685a6bdcccf95b984ee": {
     "model_module": "@jupyter-widgets/base",
     "model_module_version": "1.2.0",
     "model_name": "LayoutModel",
     "state": {
      "_model_module": "@jupyter-widgets/base",
      "_model_module_version": "1.2.0",
      "_model_name": "LayoutModel",
      "_view_count": null,
      "_view_module": "@jupyter-widgets/base",
      "_view_module_version": "1.2.0",
      "_view_name": "LayoutView",
      "align_content": null,
      "align_items": null,
      "align_self": null,
      "border": null,
      "bottom": null,
      "display": null,
      "flex": null,
      "flex_flow": null,
      "grid_area": null,
      "grid_auto_columns": null,
      "grid_auto_flow": null,
      "grid_auto_rows": null,
      "grid_column": null,
      "grid_gap": null,
      "grid_row": null,
      "grid_template_areas": null,
      "grid_template_columns": null,
      "grid_template_rows": null,
      "height": null,
      "justify_content": null,
      "justify_items": null,
      "left": null,
      "margin": null,
      "max_height": null,
      "max_width": null,
      "min_height": null,
      "min_width": null,
      "object_fit": null,
      "object_position": null,
      "order": null,
      "overflow": null,
      "overflow_x": null,
      "overflow_y": null,
      "padding": null,
      "right": null,
      "top": null,
      "visibility": null,
      "width": null
     }
    },
    "8be0cd4490794e559e96a5dfeaf17258": {
     "model_module": "jupyter-leaflet",
     "model_module_version": "^0.18",
     "model_name": "LeafletMeasureControlModel",
     "state": {
      "_custom_units": {},
      "_model_module": "jupyter-leaflet",
      "_model_module_version": "^0.18",
      "_model_name": "LeafletMeasureControlModel",
      "_view_count": null,
      "_view_module": "jupyter-leaflet",
      "_view_module_version": "^0.18",
      "_view_name": "LeafletMeasureControlView",
      "active_color": "orange",
      "capture_z_index": 10000,
      "completed_color": "#C8F2BE",
      "options": [
       "active_color",
       "capture_z_index",
       "completed_color",
       "popup_options",
       "position",
       "primary_area_unit",
       "primary_length_unit",
       "secondary_area_unit",
       "secondary_length_unit"
      ],
      "popup_options": {
       "autoPanPadding": [
        10,
        10
       ],
       "className": "leaflet-measure-resultpopup"
      },
      "position": "bottomleft",
      "primary_area_unit": "acres",
      "primary_length_unit": "kilometers",
      "secondary_area_unit": null,
      "secondary_length_unit": null
     }
    },
    "8c6fb9382eab42339b24839102b2894f": {
     "model_module": "@jupyter-widgets/controls",
     "model_module_version": "1.5.0",
     "model_name": "VBoxModel",
     "state": {
      "_dom_classes": [
       "geemap-colab"
      ],
      "_model_module": "@jupyter-widgets/controls",
      "_model_module_version": "1.5.0",
      "_model_name": "VBoxModel",
      "_view_count": null,
      "_view_module": "@jupyter-widgets/controls",
      "_view_module_version": "1.5.0",
      "_view_name": "VBoxView",
      "box_style": "",
      "children": [
       "IPY_MODEL_eb7f56d6cc924eb6a3a436f570806926"
      ],
      "layout": "IPY_MODEL_8ab876980e804685a6bdcccf95b984ee"
     }
    },
    "8cc51a012a17428d897ecb736c091dcb": {
     "model_module": "@jupyter-widgets/controls",
     "model_module_version": "1.5.0",
     "model_name": "ToggleButtonModel",
     "state": {
      "_dom_classes": [],
      "_model_module": "@jupyter-widgets/controls",
      "_model_module_version": "1.5.0",
      "_model_name": "ToggleButtonModel",
      "_view_count": null,
      "_view_module": "@jupyter-widgets/controls",
      "_view_module_version": "1.5.0",
      "_view_name": "ToggleButtonView",
      "button_style": "",
      "description": "",
      "description_tooltip": null,
      "disabled": false,
      "icon": "wrench",
      "layout": "IPY_MODEL_b55caf17609048f68cb79d68d72be501",
      "style": "IPY_MODEL_ce8b239667c44ff8839c7b1cb3edb09d",
      "tooltip": "Toolbar",
      "value": false
     }
    },
    "8d7fd2b1675743f0aad9c9b9a8b81290": {
     "model_module": "@jupyter-widgets/base",
     "model_module_version": "1.2.0",
     "model_name": "LayoutModel",
     "state": {
      "_model_module": "@jupyter-widgets/base",
      "_model_module_version": "1.2.0",
      "_model_name": "LayoutModel",
      "_view_count": null,
      "_view_module": "@jupyter-widgets/base",
      "_view_module_version": "1.2.0",
      "_view_name": "LayoutView",
      "align_content": null,
      "align_items": null,
      "align_self": null,
      "border": null,
      "bottom": null,
      "display": null,
      "flex": null,
      "flex_flow": null,
      "grid_area": null,
      "grid_auto_columns": null,
      "grid_auto_flow": null,
      "grid_auto_rows": null,
      "grid_column": null,
      "grid_gap": null,
      "grid_row": null,
      "grid_template_areas": null,
      "grid_template_columns": null,
      "grid_template_rows": null,
      "height": "28px",
      "justify_content": null,
      "justify_items": null,
      "left": null,
      "margin": null,
      "max_height": null,
      "max_width": null,
      "min_height": null,
      "min_width": null,
      "object_fit": null,
      "object_position": null,
      "order": null,
      "overflow": null,
      "overflow_x": null,
      "overflow_y": null,
      "padding": "0px 0px 0px 4px",
      "right": null,
      "top": null,
      "visibility": null,
      "width": "28px"
     }
    },
    "8e94f894ed3049428ca972afb2d9d77f": {
     "model_module": "jupyter-leaflet",
     "model_module_version": "^0.18",
     "model_name": "LeafletFullScreenControlModel",
     "state": {
      "_model_module": "jupyter-leaflet",
      "_model_module_version": "^0.18",
      "_model_name": "LeafletFullScreenControlModel",
      "_view_count": null,
      "_view_module": "jupyter-leaflet",
      "_view_module_version": "^0.18",
      "_view_name": "LeafletFullScreenControlView",
      "options": [
       "position"
      ],
      "position": "topleft"
     }
    },
    "936278541fcb4c0ea301db016b1c6152": {
     "model_module": "jupyter-leaflet",
     "model_module_version": "^0.18",
     "model_name": "LeafletFullScreenControlModel",
     "state": {
      "_model_module": "jupyter-leaflet",
      "_model_module_version": "^0.18",
      "_model_name": "LeafletFullScreenControlModel",
      "_view_count": null,
      "_view_module": "jupyter-leaflet",
      "_view_module_version": "^0.18",
      "_view_name": "LeafletFullScreenControlView",
      "options": [
       "position"
      ],
      "position": "topleft"
     }
    },
    "93fef2062c5142118659504383a3af17": {
     "model_module": "@jupyter-widgets/controls",
     "model_module_version": "1.5.0",
     "model_name": "ToggleButtonModel",
     "state": {
      "_dom_classes": [],
      "_model_module": "@jupyter-widgets/controls",
      "_model_module_version": "1.5.0",
      "_model_name": "ToggleButtonModel",
      "_view_count": null,
      "_view_module": "@jupyter-widgets/controls",
      "_view_module_version": "1.5.0",
      "_view_name": "ToggleButtonView",
      "button_style": "",
      "description": "",
      "description_tooltip": null,
      "disabled": false,
      "icon": "globe",
      "layout": "IPY_MODEL_d336ebc15e144c688e550ff67e7da0c8",
      "style": "IPY_MODEL_cbc9ca04fca24bb79f1565287fb4ffe9",
      "tooltip": "Search location/data",
      "value": false
     }
    },
    "94829847312c410c8401c587a6b21738": {
     "model_module": "@jupyter-widgets/controls",
     "model_module_version": "1.5.0",
     "model_name": "HBoxModel",
     "state": {
      "_dom_classes": [
       "geemap-colab"
      ],
      "_model_module": "@jupyter-widgets/controls",
      "_model_module_version": "1.5.0",
      "_model_name": "HBoxModel",
      "_view_count": null,
      "_view_module": "@jupyter-widgets/controls",
      "_view_module_version": "1.5.0",
      "_view_name": "HBoxView",
      "box_style": "",
      "children": [
       "IPY_MODEL_a103253bd9e4494393623ce5e3da3a08"
      ],
      "layout": "IPY_MODEL_db44939c7eff4aaf817121d7614cbb99"
     }
    },
    "94a5c9469b55414382c3ab8c70b6bcf1": {
     "model_module": "jupyter-leaflet",
     "model_module_version": "^0.18",
     "model_name": "LeafletDrawControlModel",
     "state": {
      "_model_module": "jupyter-leaflet",
      "_model_module_version": "^0.18",
      "_model_name": "LeafletDrawControlModel",
      "_view_count": null,
      "_view_module": "jupyter-leaflet",
      "_view_module_version": "^0.18",
      "_view_name": "LeafletDrawControlView",
      "circle": {},
      "circlemarker": {},
      "data": [],
      "edit": true,
      "marker": {
       "shapeOptions": {
        "color": "#3388ff"
       }
      },
      "options": [
       "position"
      ],
      "polygon": {
       "shapeOptions": {}
      },
      "polyline": {
       "shapeOptions": {}
      },
      "position": "topleft",
      "rectangle": {
       "shapeOptions": {
        "color": "#3388ff"
       }
      },
      "remove": true
     }
    },
    "95619514a54e4c849ffd2f2995cfd858": {
     "model_module": "@jupyter-widgets/base",
     "model_module_version": "1.2.0",
     "model_name": "LayoutModel",
     "state": {
      "_model_module": "@jupyter-widgets/base",
      "_model_module_version": "1.2.0",
      "_model_name": "LayoutModel",
      "_view_count": null,
      "_view_module": "@jupyter-widgets/base",
      "_view_module_version": "1.2.0",
      "_view_name": "LayoutView",
      "align_content": null,
      "align_items": null,
      "align_self": null,
      "border": null,
      "bottom": null,
      "display": null,
      "flex": null,
      "flex_flow": null,
      "grid_area": null,
      "grid_auto_columns": null,
      "grid_auto_flow": null,
      "grid_auto_rows": null,
      "grid_column": null,
      "grid_gap": null,
      "grid_row": null,
      "grid_template_areas": null,
      "grid_template_columns": null,
      "grid_template_rows": null,
      "height": "28px",
      "justify_content": null,
      "justify_items": null,
      "left": null,
      "margin": null,
      "max_height": null,
      "max_width": null,
      "min_height": null,
      "min_width": null,
      "object_fit": null,
      "object_position": null,
      "order": null,
      "overflow": null,
      "overflow_x": null,
      "overflow_y": null,
      "padding": "0px 0px 0px 4px",
      "right": null,
      "top": null,
      "visibility": null,
      "width": "28px"
     }
    },
    "960f3e300ad14d1c927986d356669132": {
     "model_module": "@jupyter-widgets/controls",
     "model_module_version": "1.5.0",
     "model_name": "ToggleButtonModel",
     "state": {
      "_dom_classes": [],
      "_model_module": "@jupyter-widgets/controls",
      "_model_module_version": "1.5.0",
      "_model_name": "ToggleButtonModel",
      "_view_count": null,
      "_view_module": "@jupyter-widgets/controls",
      "_view_module_version": "1.5.0",
      "_view_name": "ToggleButtonView",
      "button_style": "",
      "description": "",
      "description_tooltip": null,
      "disabled": false,
      "icon": "globe",
      "layout": "IPY_MODEL_d0e8d8abcd6c43db8df64000bd071281",
      "style": "IPY_MODEL_f524691cf4ae48968516d5e679de0b18",
      "tooltip": "Search location/data",
      "value": false
     }
    },
    "9637f91495aa4d48bd3f3d1bd09813e0": {
     "model_module": "jupyter-leaflet",
     "model_module_version": "^0.18",
     "model_name": "LeafletLayersControlModel",
     "state": {
      "_model_module": "jupyter-leaflet",
      "_model_module_version": "^0.18",
      "_model_name": "LeafletLayersControlModel",
      "_view_count": null,
      "_view_module": "jupyter-leaflet",
      "_view_module_version": "^0.18",
      "_view_name": "LeafletLayersControlView",
      "collapsed": true,
      "options": [
       "collapsed",
       "position"
      ],
      "position": "topright"
     }
    },
    "973b75a76958439694b86613b60e8438": {
     "model_module": "jupyter-leaflet",
     "model_module_version": "^0.18",
     "model_name": "LeafletMapStyleModel",
     "state": {
      "_model_module": "jupyter-leaflet",
      "_model_module_version": "^0.18",
      "_model_name": "LeafletMapStyleModel",
      "_view_count": null,
      "_view_module": "@jupyter-widgets/base",
      "_view_module_version": "1.2.0",
      "_view_name": "StyleView",
      "cursor": "grab"
     }
    },
    "979c5de883dd4b509720830d2df90899": {
     "model_module": "jupyter-leaflet",
     "model_module_version": "^0.18",
     "model_name": "LeafletMapStyleModel",
     "state": {
      "_model_module": "jupyter-leaflet",
      "_model_module_version": "^0.18",
      "_model_name": "LeafletMapStyleModel",
      "_view_count": null,
      "_view_module": "@jupyter-widgets/base",
      "_view_module_version": "1.2.0",
      "_view_name": "StyleView",
      "cursor": "grab"
     }
    },
    "97edea645b1d4e67ad4f10f83b11b72f": {
     "model_module": "@jupyter-widgets/base",
     "model_module_version": "1.2.0",
     "model_name": "LayoutModel",
     "state": {
      "_model_module": "@jupyter-widgets/base",
      "_model_module_version": "1.2.0",
      "_model_name": "LayoutModel",
      "_view_count": null,
      "_view_module": "@jupyter-widgets/base",
      "_view_module_version": "1.2.0",
      "_view_name": "LayoutView",
      "align_content": null,
      "align_items": null,
      "align_self": null,
      "border": null,
      "bottom": null,
      "display": null,
      "flex": null,
      "flex_flow": null,
      "grid_area": null,
      "grid_auto_columns": null,
      "grid_auto_flow": null,
      "grid_auto_rows": null,
      "grid_column": null,
      "grid_gap": null,
      "grid_row": null,
      "grid_template_areas": null,
      "grid_template_columns": null,
      "grid_template_rows": null,
      "height": "28px",
      "justify_content": null,
      "justify_items": null,
      "left": null,
      "margin": null,
      "max_height": null,
      "max_width": null,
      "min_height": null,
      "min_width": null,
      "object_fit": null,
      "object_position": null,
      "order": null,
      "overflow": null,
      "overflow_x": null,
      "overflow_y": null,
      "padding": "0px 0px 0px 4px",
      "right": null,
      "top": null,
      "visibility": null,
      "width": "28px"
     }
    },
    "9a90ce8006ff4b76a288960627eff35e": {
     "model_module": "@jupyter-widgets/controls",
     "model_module_version": "1.5.0",
     "model_name": "DescriptionStyleModel",
     "state": {
      "_model_module": "@jupyter-widgets/controls",
      "_model_module_version": "1.5.0",
      "_model_name": "DescriptionStyleModel",
      "_view_count": null,
      "_view_module": "@jupyter-widgets/base",
      "_view_module_version": "1.2.0",
      "_view_name": "StyleView",
      "description_width": ""
     }
    },
    "9acc9a0b69024b7a84ef74dc978407f7": {
     "model_module": "jupyter-leaflet",
     "model_module_version": "^0.18",
     "model_name": "LeafletMapStyleModel",
     "state": {
      "_model_module": "jupyter-leaflet",
      "_model_module_version": "^0.18",
      "_model_name": "LeafletMapStyleModel",
      "_view_count": null,
      "_view_module": "@jupyter-widgets/base",
      "_view_module_version": "1.2.0",
      "_view_name": "StyleView",
      "cursor": "move"
     }
    },
    "9ad1915b152d422385b28d17ea56ecfe": {
     "model_module": "@jupyter-widgets/base",
     "model_module_version": "1.2.0",
     "model_name": "LayoutModel",
     "state": {
      "_model_module": "@jupyter-widgets/base",
      "_model_module_version": "1.2.0",
      "_model_name": "LayoutModel",
      "_view_count": null,
      "_view_module": "@jupyter-widgets/base",
      "_view_module_version": "1.2.0",
      "_view_name": "LayoutView",
      "align_content": null,
      "align_items": null,
      "align_self": null,
      "border": null,
      "bottom": null,
      "display": null,
      "flex": null,
      "flex_flow": null,
      "grid_area": null,
      "grid_auto_columns": null,
      "grid_auto_flow": null,
      "grid_auto_rows": null,
      "grid_column": null,
      "grid_gap": null,
      "grid_row": null,
      "grid_template_areas": null,
      "grid_template_columns": null,
      "grid_template_rows": null,
      "height": "28px",
      "justify_content": null,
      "justify_items": null,
      "left": null,
      "margin": null,
      "max_height": null,
      "max_width": null,
      "min_height": null,
      "min_width": null,
      "object_fit": null,
      "object_position": null,
      "order": null,
      "overflow": null,
      "overflow_x": null,
      "overflow_y": null,
      "padding": "0px 0px 0px 4px",
      "right": null,
      "top": null,
      "visibility": null,
      "width": "28px"
     }
    },
    "9b2849155d3640b0a945b8b0d21f82cb": {
     "model_module": "@jupyter-widgets/controls",
     "model_module_version": "1.5.0",
     "model_name": "VBoxModel",
     "state": {
      "_dom_classes": [
       "geemap-colab"
      ],
      "_model_module": "@jupyter-widgets/controls",
      "_model_module_version": "1.5.0",
      "_model_name": "VBoxModel",
      "_view_count": null,
      "_view_module": "@jupyter-widgets/controls",
      "_view_module_version": "1.5.0",
      "_view_name": "VBoxView",
      "box_style": "",
      "children": [
       "IPY_MODEL_453bb4586bc54875b24e257bf8eacce5"
      ],
      "layout": "IPY_MODEL_b6e3ce8cc5b34786ad458e329d56eb81"
     }
    },
    "9b9970bd1fb54faca6b8bef4d24f9254": {
     "model_module": "jupyter-leaflet",
     "model_module_version": "^0.18",
     "model_name": "LeafletMapStyleModel",
     "state": {
      "_model_module": "jupyter-leaflet",
      "_model_module_version": "^0.18",
      "_model_name": "LeafletMapStyleModel",
      "_view_count": null,
      "_view_module": "@jupyter-widgets/base",
      "_view_module_version": "1.2.0",
      "_view_name": "StyleView",
      "cursor": "grab"
     }
    },
    "9e694ef9d3cc4b15ae49c85cd95ed27a": {
     "model_module": "@jupyter-widgets/controls",
     "model_module_version": "1.5.0",
     "model_name": "HBoxModel",
     "state": {
      "_dom_classes": [
       "geemap-colab"
      ],
      "_model_module": "@jupyter-widgets/controls",
      "_model_module_version": "1.5.0",
      "_model_name": "HBoxModel",
      "_view_count": null,
      "_view_module": "@jupyter-widgets/controls",
      "_view_module_version": "1.5.0",
      "_view_name": "HBoxView",
      "box_style": "",
      "children": [
       "IPY_MODEL_1bdc9f38cee240e4b7450cf7890c82a4"
      ],
      "layout": "IPY_MODEL_09873d624c8e48c287d89d62c1c6f724"
     }
    },
    "9eeb3939dae04b4f9bec9c5d3dc7f4f5": {
     "model_module": "jupyter-leaflet",
     "model_module_version": "^0.18",
     "model_name": "LeafletFullScreenControlModel",
     "state": {
      "_model_module": "jupyter-leaflet",
      "_model_module_version": "^0.18",
      "_model_name": "LeafletFullScreenControlModel",
      "_view_count": null,
      "_view_module": "jupyter-leaflet",
      "_view_module_version": "^0.18",
      "_view_name": "LeafletFullScreenControlView",
      "options": [
       "position"
      ],
      "position": "topleft"
     }
    },
    "9f64b339833747f19499babb13b26cb9": {
     "model_module": "jupyter-leaflet",
     "model_module_version": "^0.18",
     "model_name": "LeafletTileLayerModel",
     "state": {
      "_model_module": "jupyter-leaflet",
      "_model_module_version": "^0.18",
      "_model_name": "LeafletTileLayerModel",
      "_view_count": null,
      "_view_module": "jupyter-leaflet",
      "_view_module_version": "^0.18",
      "_view_name": "LeafletTileLayerView",
      "attribution": "&copy; <a href=\"https://www.openstreetmap.org/copyright\">OpenStreetMap</a> contributors",
      "base": true,
      "bottom": true,
      "bounds": null,
      "detect_retina": false,
      "loading": false,
      "max_native_zoom": null,
      "max_zoom": 19,
      "min_native_zoom": null,
      "min_zoom": 1,
      "name": "OpenStreetMap.Mapnik",
      "no_wrap": false,
      "opacity": 1,
      "options": [
       "attribution",
       "bounds",
       "detect_retina",
       "max_native_zoom",
       "max_zoom",
       "min_native_zoom",
       "min_zoom",
       "no_wrap",
       "tile_size",
       "tms",
       "zoom_offset"
      ],
      "pane": "",
      "popup": null,
      "popup_max_height": null,
      "popup_max_width": 300,
      "popup_min_width": 50,
      "show_loading": false,
      "subitems": [],
      "tile_size": 256,
      "tms": false,
      "url": "https://tile.openstreetmap.org/{z}/{x}/{y}.png",
      "visible": true,
      "zoom_offset": 0
     }
    },
    "9fc197f868e6436fb7df24bbc21739ce": {
     "model_module": "jupyter-leaflet",
     "model_module_version": "^0.18",
     "model_name": "LeafletTileLayerModel",
     "state": {
      "_model_module": "jupyter-leaflet",
      "_model_module_version": "^0.18",
      "_model_name": "LeafletTileLayerModel",
      "_view_count": null,
      "_view_module": "jupyter-leaflet",
      "_view_module_version": "^0.18",
      "_view_name": "LeafletTileLayerView",
      "attribution": "Google Earth Engine",
      "base": false,
      "bottom": true,
      "bounds": null,
      "detect_retina": false,
      "loading": false,
      "max_native_zoom": null,
      "max_zoom": 24,
      "min_native_zoom": null,
      "min_zoom": 0,
      "name": "Mismatched Ridge",
      "no_wrap": false,
      "opacity": 1,
      "options": [
       "attribution",
       "bounds",
       "detect_retina",
       "max_native_zoom",
       "max_zoom",
       "min_native_zoom",
       "min_zoom",
       "no_wrap",
       "tile_size",
       "tms",
       "zoom_offset"
      ],
      "pane": "",
      "popup": null,
      "popup_max_height": null,
      "popup_max_width": 300,
      "popup_min_width": 50,
      "show_loading": false,
      "subitems": [],
      "tile_size": 256,
      "tms": false,
      "url": "https://earthengine.googleapis.com/v1/projects/ee-koreenmillard/maps/e05c319422edaaccf09aef4f15920abb-073597a028e7a06b6bb06c66da22ab00/tiles/{z}/{x}/{y}",
      "visible": true,
      "zoom_offset": 0
     }
    },
    "a06ab3f8f9e241bea85b9024f7904f28": {
     "model_module": "jupyter-leaflet",
     "model_module_version": "^0.18",
     "model_name": "LeafletMapStyleModel",
     "state": {
      "_model_module": "jupyter-leaflet",
      "_model_module_version": "^0.18",
      "_model_name": "LeafletMapStyleModel",
      "_view_count": null,
      "_view_module": "@jupyter-widgets/base",
      "_view_module_version": "1.2.0",
      "_view_name": "StyleView",
      "cursor": "move"
     }
    },
    "a103253bd9e4494393623ce5e3da3a08": {
     "model_module": "@jupyter-widgets/controls",
     "model_module_version": "1.5.0",
     "model_name": "ToggleButtonModel",
     "state": {
      "_dom_classes": [],
      "_model_module": "@jupyter-widgets/controls",
      "_model_module_version": "1.5.0",
      "_model_name": "ToggleButtonModel",
      "_view_count": null,
      "_view_module": "@jupyter-widgets/controls",
      "_view_module_version": "1.5.0",
      "_view_name": "ToggleButtonView",
      "button_style": "",
      "description": "",
      "description_tooltip": null,
      "disabled": false,
      "icon": "globe",
      "layout": "IPY_MODEL_fc4a8b3dec474103b3b73946ec4d8c23",
      "style": "IPY_MODEL_f055ed60be204a6caadc74ff011fbaa7",
      "tooltip": "Search location/data",
      "value": false
     }
    },
    "a441ef01da6b4ab18b9d667ecf93d0ab": {
     "model_module": "jupyter-leaflet",
     "model_module_version": "^0.18",
     "model_name": "LeafletWidgetControlModel",
     "state": {
      "_model_module": "jupyter-leaflet",
      "_model_module_version": "^0.18",
      "_model_name": "LeafletWidgetControlModel",
      "_view_count": null,
      "_view_module": "jupyter-leaflet",
      "_view_module_version": "^0.18",
      "_view_name": "LeafletWidgetControlView",
      "max_height": null,
      "max_width": null,
      "min_height": null,
      "min_width": null,
      "options": [
       "position",
       "transparent_bg"
      ],
      "position": "topleft",
      "transparent_bg": false,
      "widget": "IPY_MODEL_9e694ef9d3cc4b15ae49c85cd95ed27a"
     }
    },
    "a62dcedc8d2b414f8a68a60c407e8762": {
     "model_module": "jupyter-leaflet",
     "model_module_version": "^0.18",
     "model_name": "LeafletWidgetControlModel",
     "state": {
      "_model_module": "jupyter-leaflet",
      "_model_module_version": "^0.18",
      "_model_name": "LeafletWidgetControlModel",
      "_view_count": null,
      "_view_module": "jupyter-leaflet",
      "_view_module_version": "^0.18",
      "_view_name": "LeafletWidgetControlView",
      "max_height": null,
      "max_width": null,
      "min_height": null,
      "min_width": null,
      "options": [
       "position",
       "transparent_bg"
      ],
      "position": "topleft",
      "transparent_bg": false,
      "widget": "IPY_MODEL_0ded156ba5d74badbdbec91de19e87e4"
     }
    },
    "a6ebe1a19dc145289362eb1c21659796": {
     "model_module": "jupyter-leaflet",
     "model_module_version": "^0.18",
     "model_name": "LeafletMapStyleModel",
     "state": {
      "_model_module": "jupyter-leaflet",
      "_model_module_version": "^0.18",
      "_model_name": "LeafletMapStyleModel",
      "_view_count": null,
      "_view_module": "@jupyter-widgets/base",
      "_view_module_version": "1.2.0",
      "_view_name": "StyleView",
      "cursor": "move"
     }
    },
    "a76de387607240de9144afaab35e472e": {
     "model_module": "jupyter-leaflet",
     "model_module_version": "^0.18",
     "model_name": "LeafletMapModel",
     "state": {
      "_dom_classes": [],
      "_model_module": "jupyter-leaflet",
      "_model_module_version": "^0.18",
      "_model_name": "LeafletMapModel",
      "_view_count": null,
      "_view_module": "jupyter-leaflet",
      "_view_module_version": "^0.18",
      "_view_name": "LeafletMapView",
      "bottom": 1229031026,
      "bounce_at_zoom_limits": true,
      "box_zoom": true,
      "center": [
       60.755079,
       -139.013173
      ],
      "close_popup_on_click": true,
      "controls": [
       "IPY_MODEL_82877c0ae6af4140bb07596ae3952b22",
       "IPY_MODEL_249e88ac263843e4ae162feb6b68e8d1",
       "IPY_MODEL_7545fe4bf06744aaaf3c7db06615cd7c",
       "IPY_MODEL_13c9c6cad8df4f5daf37f111a8dc7c03",
       "IPY_MODEL_b08a5bf9ffe1455f8f44728dafa56aa1",
       "IPY_MODEL_15a684d8a0a84cd981c34287f5af6076",
       "IPY_MODEL_5ea607b420844fa2880a9709e980e0b0",
       "IPY_MODEL_56ff102419344dffb9b9b566f922b975"
      ],
      "crs": {
       "custom": false,
       "name": "EPSG3857"
      },
      "default_style": "IPY_MODEL_73097dd50f774e349db75fa1d59b08af",
      "double_click_zoom": true,
      "dragging": true,
      "dragging_style": "IPY_MODEL_72b35220196047a584fb85466016ccb8",
      "east": -139.01312305592,
      "fullscreen": false,
      "inertia": true,
      "inertia_deceleration": 3000,
      "inertia_max_speed": 1500,
      "interpolation": "bilinear",
      "keyboard": true,
      "keyboard_pan_offset": 80,
      "keyboard_zoom_offset": 1,
      "layers": [
       "IPY_MODEL_67089de93f6e492f92997e51b121a972",
       "IPY_MODEL_5b9902ac7a5f4cb599f19c55f644ea4d",
       "IPY_MODEL_64e7953d488e43cea31c837f6be81439"
      ],
      "layout": "IPY_MODEL_6170c6060c4c4052b5ecad8ccfa764f4",
      "left": 488991298,
      "max_zoom": 24,
      "min_zoom": null,
      "modisdate": "2024-03-23",
      "north": 60.75509128739761,
      "options": [
       "bounce_at_zoom_limits",
       "box_zoom",
       "center",
       "close_popup_on_click",
       "double_click_zoom",
       "dragging",
       "fullscreen",
       "inertia",
       "inertia_deceleration",
       "inertia_max_speed",
       "interpolation",
       "keyboard",
       "keyboard_pan_offset",
       "keyboard_zoom_offset",
       "max_zoom",
       "min_zoom",
       "prefer_canvas",
       "scroll_wheel_zoom",
       "tap",
       "tap_tolerance",
       "touch_zoom",
       "world_copy_jump",
       "zoom",
       "zoom_animation_threshold",
       "zoom_delta",
       "zoom_snap"
      ],
      "panes": {},
      "prefer_canvas": false,
      "right": 488992489,
      "scroll_wheel_zoom": true,
      "south": 60.755066717831774,
      "style": "IPY_MODEL_73097dd50f774e349db75fa1d59b08af",
      "tap": true,
      "tap_tolerance": 15,
      "top": 1229030426,
      "touch_zoom": true,
      "west": -139.0132228843868,
      "window_url": "https://92xnw0u9qnb-496ff2e9c6d22116-0-colab.googleusercontent.com/outputframe.html?vrz=colab_20240321-060149_RC00_617803427",
      "world_copy_jump": false,
      "zoom": 25,
      "zoom_animation_threshold": 4,
      "zoom_delta": 1,
      "zoom_snap": 1
     }
    },
    "a8ecfc7ad6a5456cbeb189eb0cda3d56": {
     "model_module": "jupyter-leaflet",
     "model_module_version": "^0.18",
     "model_name": "LeafletAttributionControlModel",
     "state": {
      "_model_module": "jupyter-leaflet",
      "_model_module_version": "^0.18",
      "_model_name": "LeafletAttributionControlModel",
      "_view_count": null,
      "_view_module": "jupyter-leaflet",
      "_view_module_version": "^0.18",
      "_view_name": "LeafletAttributionControlView",
      "options": [
       "position",
       "prefix"
      ],
      "position": "bottomright",
      "prefix": "ipyleaflet"
     }
    },
    "a9ae8361a02b45e2ac1f590ed4f449c9": {
     "model_module": "@jupyter-widgets/controls",
     "model_module_version": "1.5.0",
     "model_name": "HBoxModel",
     "state": {
      "_dom_classes": [
       "geemap-colab"
      ],
      "_model_module": "@jupyter-widgets/controls",
      "_model_module_version": "1.5.0",
      "_model_name": "HBoxModel",
      "_view_count": null,
      "_view_module": "@jupyter-widgets/controls",
      "_view_module_version": "1.5.0",
      "_view_name": "HBoxView",
      "box_style": "",
      "children": [
       "IPY_MODEL_1de6e9a139694ad7b89a836f24642498"
      ],
      "layout": "IPY_MODEL_79662433cb5d45869e81d9cdd9d6c9ed"
     }
    },
    "a9c1366f1bad49daa307e2e0446bd0ac": {
     "model_module": "@jupyter-widgets/controls",
     "model_module_version": "1.5.0",
     "model_name": "HBoxModel",
     "state": {
      "_dom_classes": [
       "geemap-colab"
      ],
      "_model_module": "@jupyter-widgets/controls",
      "_model_module_version": "1.5.0",
      "_model_name": "HBoxModel",
      "_view_count": null,
      "_view_module": "@jupyter-widgets/controls",
      "_view_module_version": "1.5.0",
      "_view_name": "HBoxView",
      "box_style": "",
      "children": [
       "IPY_MODEL_4e0b4506931b4057810f4102d5282c33"
      ],
      "layout": "IPY_MODEL_43778d747ddc4bbba3d63cac1b80aae6"
     }
    },
    "ae588b3ca3b24429a6832a0f8221b9fd": {
     "model_module": "jupyter-leaflet",
     "model_module_version": "^0.18",
     "model_name": "LeafletZoomControlModel",
     "state": {
      "_model_module": "jupyter-leaflet",
      "_model_module_version": "^0.18",
      "_model_name": "LeafletZoomControlModel",
      "_view_count": null,
      "_view_module": "jupyter-leaflet",
      "_view_module_version": "^0.18",
      "_view_name": "LeafletZoomControlView",
      "options": [
       "position",
       "zoom_in_text",
       "zoom_in_title",
       "zoom_out_text",
       "zoom_out_title"
      ],
      "position": "topleft",
      "zoom_in_text": "+",
      "zoom_in_title": "Zoom in",
      "zoom_out_text": "-",
      "zoom_out_title": "Zoom out"
     }
    },
    "afe97e95630c48e68b536e723e857b5e": {
     "model_module": "jupyter-leaflet",
     "model_module_version": "^0.18",
     "model_name": "LeafletScaleControlModel",
     "state": {
      "_model_module": "jupyter-leaflet",
      "_model_module_version": "^0.18",
      "_model_name": "LeafletScaleControlModel",
      "_view_count": null,
      "_view_module": "jupyter-leaflet",
      "_view_module_version": "^0.18",
      "_view_name": "LeafletScaleControlView",
      "imperial": true,
      "max_width": 100,
      "metric": true,
      "options": [
       "imperial",
       "max_width",
       "metric",
       "position",
       "update_when_idle"
      ],
      "position": "bottomleft",
      "update_when_idle": false
     }
    },
    "b008ddfb68db4d729a9ccfc5b6548996": {
     "model_module": "@jupyter-widgets/base",
     "model_module_version": "1.2.0",
     "model_name": "LayoutModel",
     "state": {
      "_model_module": "@jupyter-widgets/base",
      "_model_module_version": "1.2.0",
      "_model_name": "LayoutModel",
      "_view_count": null,
      "_view_module": "@jupyter-widgets/base",
      "_view_module_version": "1.2.0",
      "_view_name": "LayoutView",
      "align_content": null,
      "align_items": null,
      "align_self": null,
      "border": null,
      "bottom": null,
      "display": null,
      "flex": null,
      "flex_flow": null,
      "grid_area": null,
      "grid_auto_columns": null,
      "grid_auto_flow": null,
      "grid_auto_rows": null,
      "grid_column": null,
      "grid_gap": null,
      "grid_row": null,
      "grid_template_areas": null,
      "grid_template_columns": null,
      "grid_template_rows": null,
      "height": "28px",
      "justify_content": null,
      "justify_items": null,
      "left": null,
      "margin": null,
      "max_height": null,
      "max_width": null,
      "min_height": null,
      "min_width": null,
      "object_fit": null,
      "object_position": null,
      "order": null,
      "overflow": null,
      "overflow_x": null,
      "overflow_y": null,
      "padding": "0px 0px 0px 4px",
      "right": null,
      "top": null,
      "visibility": null,
      "width": "28px"
     }
    },
    "b08a5bf9ffe1455f8f44728dafa56aa1": {
     "model_module": "jupyter-leaflet",
     "model_module_version": "^0.18",
     "model_name": "LeafletScaleControlModel",
     "state": {
      "_model_module": "jupyter-leaflet",
      "_model_module_version": "^0.18",
      "_model_name": "LeafletScaleControlModel",
      "_view_count": null,
      "_view_module": "jupyter-leaflet",
      "_view_module_version": "^0.18",
      "_view_name": "LeafletScaleControlView",
      "imperial": true,
      "max_width": 100,
      "metric": true,
      "options": [
       "imperial",
       "max_width",
       "metric",
       "position",
       "update_when_idle"
      ],
      "position": "bottomleft",
      "update_when_idle": false
     }
    },
    "b55caf17609048f68cb79d68d72be501": {
     "model_module": "@jupyter-widgets/base",
     "model_module_version": "1.2.0",
     "model_name": "LayoutModel",
     "state": {
      "_model_module": "@jupyter-widgets/base",
      "_model_module_version": "1.2.0",
      "_model_name": "LayoutModel",
      "_view_count": null,
      "_view_module": "@jupyter-widgets/base",
      "_view_module_version": "1.2.0",
      "_view_name": "LayoutView",
      "align_content": null,
      "align_items": null,
      "align_self": null,
      "border": null,
      "bottom": null,
      "display": null,
      "flex": null,
      "flex_flow": null,
      "grid_area": null,
      "grid_auto_columns": null,
      "grid_auto_flow": null,
      "grid_auto_rows": null,
      "grid_column": null,
      "grid_gap": null,
      "grid_row": null,
      "grid_template_areas": null,
      "grid_template_columns": null,
      "grid_template_rows": null,
      "height": "28px",
      "justify_content": null,
      "justify_items": null,
      "left": null,
      "margin": null,
      "max_height": null,
      "max_width": null,
      "min_height": null,
      "min_width": null,
      "object_fit": null,
      "object_position": null,
      "order": null,
      "overflow": null,
      "overflow_x": null,
      "overflow_y": null,
      "padding": "0px 0px 0px 4px",
      "right": null,
      "top": null,
      "visibility": null,
      "width": "28px"
     }
    },
    "b63829029544455c986a5688e6c453bf": {
     "model_module": "jupyter-leaflet",
     "model_module_version": "^0.18",
     "model_name": "LeafletDrawControlModel",
     "state": {
      "_model_module": "jupyter-leaflet",
      "_model_module_version": "^0.18",
      "_model_name": "LeafletDrawControlModel",
      "_view_count": null,
      "_view_module": "jupyter-leaflet",
      "_view_module_version": "^0.18",
      "_view_name": "LeafletDrawControlView",
      "circle": {},
      "circlemarker": {},
      "data": [],
      "edit": true,
      "marker": {
       "shapeOptions": {
        "color": "#3388ff"
       }
      },
      "options": [
       "position"
      ],
      "polygon": {
       "shapeOptions": {}
      },
      "polyline": {
       "shapeOptions": {}
      },
      "position": "topleft",
      "rectangle": {
       "shapeOptions": {
        "color": "#3388ff"
       }
      },
      "remove": true
     }
    },
    "b6e3ce8cc5b34786ad458e329d56eb81": {
     "model_module": "@jupyter-widgets/base",
     "model_module_version": "1.2.0",
     "model_name": "LayoutModel",
     "state": {
      "_model_module": "@jupyter-widgets/base",
      "_model_module_version": "1.2.0",
      "_model_name": "LayoutModel",
      "_view_count": null,
      "_view_module": "@jupyter-widgets/base",
      "_view_module_version": "1.2.0",
      "_view_name": "LayoutView",
      "align_content": null,
      "align_items": null,
      "align_self": null,
      "border": null,
      "bottom": null,
      "display": null,
      "flex": null,
      "flex_flow": null,
      "grid_area": null,
      "grid_auto_columns": null,
      "grid_auto_flow": null,
      "grid_auto_rows": null,
      "grid_column": null,
      "grid_gap": null,
      "grid_row": null,
      "grid_template_areas": null,
      "grid_template_columns": null,
      "grid_template_rows": null,
      "height": null,
      "justify_content": null,
      "justify_items": null,
      "left": null,
      "margin": null,
      "max_height": null,
      "max_width": null,
      "min_height": null,
      "min_width": null,
      "object_fit": null,
      "object_position": null,
      "order": null,
      "overflow": null,
      "overflow_x": null,
      "overflow_y": null,
      "padding": null,
      "right": null,
      "top": null,
      "visibility": null,
      "width": null
     }
    },
    "b6f846e9f53445b09266147999ffde0d": {
     "model_module": "jupyter-leaflet",
     "model_module_version": "^0.18",
     "model_name": "LeafletTileLayerModel",
     "state": {
      "_model_module": "jupyter-leaflet",
      "_model_module_version": "^0.18",
      "_model_name": "LeafletTileLayerModel",
      "_view_count": null,
      "_view_module": "jupyter-leaflet",
      "_view_module_version": "^0.18",
      "_view_name": "LeafletTileLayerView",
      "attribution": "Google Earth Engine",
      "base": false,
      "bottom": true,
      "bounds": null,
      "detect_retina": false,
      "loading": false,
      "max_native_zoom": null,
      "max_zoom": 24,
      "min_native_zoom": null,
      "min_zoom": 0,
      "name": "S1-image_summer",
      "no_wrap": false,
      "opacity": 1,
      "options": [
       "attribution",
       "bounds",
       "detect_retina",
       "max_native_zoom",
       "max_zoom",
       "min_native_zoom",
       "min_zoom",
       "no_wrap",
       "tile_size",
       "tms",
       "zoom_offset"
      ],
      "pane": "",
      "popup": null,
      "popup_max_height": null,
      "popup_max_width": 300,
      "popup_min_width": 50,
      "show_loading": false,
      "subitems": [],
      "tile_size": 256,
      "tms": false,
      "url": "https://earthengine.googleapis.com/v1/projects/ee-koreenmillard/maps/77154e386f4a0a3230f3d2b5c6c84df7-e621c736f8e597b733926205569c596a/tiles/{z}/{x}/{y}",
      "visible": true,
      "zoom_offset": 0
     }
    },
    "b77e4e17bf914b87b6f2066ae0d3ffa5": {
     "model_module": "jupyter-leaflet",
     "model_module_version": "^0.18",
     "model_name": "LeafletTileLayerModel",
     "state": {
      "_model_module": "jupyter-leaflet",
      "_model_module_version": "^0.18",
      "_model_name": "LeafletTileLayerModel",
      "_view_count": null,
      "_view_module": "jupyter-leaflet",
      "_view_module_version": "^0.18",
      "_view_name": "LeafletTileLayerView",
      "attribution": "&copy; <a href=\"https://www.openstreetmap.org/copyright\">OpenStreetMap</a> contributors",
      "base": true,
      "bottom": true,
      "bounds": null,
      "detect_retina": false,
      "loading": false,
      "max_native_zoom": null,
      "max_zoom": 19,
      "min_native_zoom": null,
      "min_zoom": 1,
      "name": "OpenStreetMap.Mapnik",
      "no_wrap": false,
      "opacity": 1,
      "options": [
       "attribution",
       "bounds",
       "detect_retina",
       "max_native_zoom",
       "max_zoom",
       "min_native_zoom",
       "min_zoom",
       "no_wrap",
       "tile_size",
       "tms",
       "zoom_offset"
      ],
      "pane": "",
      "popup": null,
      "popup_max_height": null,
      "popup_max_width": 300,
      "popup_min_width": 50,
      "show_loading": false,
      "subitems": [],
      "tile_size": 256,
      "tms": false,
      "url": "https://tile.openstreetmap.org/{z}/{x}/{y}.png",
      "visible": true,
      "zoom_offset": 0
     }
    },
    "b9a406a968b0443e9fa89a756ac8cbb9": {
     "model_module": "@jupyter-widgets/base",
     "model_module_version": "1.2.0",
     "model_name": "LayoutModel",
     "state": {
      "_model_module": "@jupyter-widgets/base",
      "_model_module_version": "1.2.0",
      "_model_name": "LayoutModel",
      "_view_count": null,
      "_view_module": "@jupyter-widgets/base",
      "_view_module_version": "1.2.0",
      "_view_name": "LayoutView",
      "align_content": null,
      "align_items": null,
      "align_self": null,
      "border": null,
      "bottom": null,
      "display": null,
      "flex": null,
      "flex_flow": null,
      "grid_area": null,
      "grid_auto_columns": null,
      "grid_auto_flow": null,
      "grid_auto_rows": null,
      "grid_column": null,
      "grid_gap": null,
      "grid_row": null,
      "grid_template_areas": null,
      "grid_template_columns": null,
      "grid_template_rows": null,
      "height": null,
      "justify_content": null,
      "justify_items": null,
      "left": null,
      "margin": null,
      "max_height": null,
      "max_width": null,
      "min_height": null,
      "min_width": null,
      "object_fit": null,
      "object_position": null,
      "order": null,
      "overflow": null,
      "overflow_x": null,
      "overflow_y": null,
      "padding": null,
      "right": null,
      "top": null,
      "visibility": null,
      "width": null
     }
    },
    "ba024b4cd938463c96a13068523d436d": {
     "model_module": "jupyter-leaflet",
     "model_module_version": "^0.18",
     "model_name": "LeafletScaleControlModel",
     "state": {
      "_model_module": "jupyter-leaflet",
      "_model_module_version": "^0.18",
      "_model_name": "LeafletScaleControlModel",
      "_view_count": null,
      "_view_module": "jupyter-leaflet",
      "_view_module_version": "^0.18",
      "_view_name": "LeafletScaleControlView",
      "imperial": true,
      "max_width": 100,
      "metric": true,
      "options": [
       "imperial",
       "max_width",
       "metric",
       "position",
       "update_when_idle"
      ],
      "position": "bottomleft",
      "update_when_idle": false
     }
    },
    "ba65e82930ba4a6e8079d7ebd52d4943": {
     "model_module": "jupyter-leaflet",
     "model_module_version": "^0.18",
     "model_name": "LeafletScaleControlModel",
     "state": {
      "_model_module": "jupyter-leaflet",
      "_model_module_version": "^0.18",
      "_model_name": "LeafletScaleControlModel",
      "_view_count": null,
      "_view_module": "jupyter-leaflet",
      "_view_module_version": "^0.18",
      "_view_name": "LeafletScaleControlView",
      "imperial": true,
      "max_width": 100,
      "metric": true,
      "options": [
       "imperial",
       "max_width",
       "metric",
       "position",
       "update_when_idle"
      ],
      "position": "bottomleft",
      "update_when_idle": false
     }
    },
    "bc7e8b91f9d74865aea5d6b86c1a8a9b": {
     "model_module": "@jupyter-widgets/controls",
     "model_module_version": "1.5.0",
     "model_name": "VBoxModel",
     "state": {
      "_dom_classes": [
       "geemap-colab"
      ],
      "_model_module": "@jupyter-widgets/controls",
      "_model_module_version": "1.5.0",
      "_model_name": "VBoxModel",
      "_view_count": null,
      "_view_module": "@jupyter-widgets/controls",
      "_view_module_version": "1.5.0",
      "_view_name": "VBoxView",
      "box_style": "",
      "children": [
       "IPY_MODEL_6940ad93a5da4bd2a5c9250b48358eda"
      ],
      "layout": "IPY_MODEL_e7ab758266e94704bc2f7670d3211336"
     }
    },
    "bdaabce16bb64a6ebaa861c2ff12b103": {
     "model_module": "@jupyter-widgets/base",
     "model_module_version": "1.2.0",
     "model_name": "LayoutModel",
     "state": {
      "_model_module": "@jupyter-widgets/base",
      "_model_module_version": "1.2.0",
      "_model_name": "LayoutModel",
      "_view_count": null,
      "_view_module": "@jupyter-widgets/base",
      "_view_module_version": "1.2.0",
      "_view_name": "LayoutView",
      "align_content": null,
      "align_items": null,
      "align_self": null,
      "border": null,
      "bottom": null,
      "display": null,
      "flex": null,
      "flex_flow": null,
      "grid_area": null,
      "grid_auto_columns": null,
      "grid_auto_flow": null,
      "grid_auto_rows": null,
      "grid_column": null,
      "grid_gap": null,
      "grid_row": null,
      "grid_template_areas": null,
      "grid_template_columns": null,
      "grid_template_rows": null,
      "height": null,
      "justify_content": null,
      "justify_items": null,
      "left": null,
      "margin": null,
      "max_height": null,
      "max_width": null,
      "min_height": null,
      "min_width": null,
      "object_fit": null,
      "object_position": null,
      "order": null,
      "overflow": null,
      "overflow_x": null,
      "overflow_y": null,
      "padding": null,
      "right": null,
      "top": null,
      "visibility": null,
      "width": null
     }
    },
    "be1a71b272a14e5c95c139718c1405f7": {
     "model_module": "@jupyter-widgets/base",
     "model_module_version": "1.2.0",
     "model_name": "LayoutModel",
     "state": {
      "_model_module": "@jupyter-widgets/base",
      "_model_module_version": "1.2.0",
      "_model_name": "LayoutModel",
      "_view_count": null,
      "_view_module": "@jupyter-widgets/base",
      "_view_module_version": "1.2.0",
      "_view_name": "LayoutView",
      "align_content": null,
      "align_items": null,
      "align_self": null,
      "border": null,
      "bottom": null,
      "display": null,
      "flex": null,
      "flex_flow": null,
      "grid_area": null,
      "grid_auto_columns": null,
      "grid_auto_flow": null,
      "grid_auto_rows": null,
      "grid_column": null,
      "grid_gap": null,
      "grid_row": null,
      "grid_template_areas": null,
      "grid_template_columns": null,
      "grid_template_rows": null,
      "height": null,
      "justify_content": null,
      "justify_items": null,
      "left": null,
      "margin": null,
      "max_height": null,
      "max_width": null,
      "min_height": null,
      "min_width": null,
      "object_fit": null,
      "object_position": null,
      "order": null,
      "overflow": null,
      "overflow_x": null,
      "overflow_y": null,
      "padding": null,
      "right": null,
      "top": null,
      "visibility": null,
      "width": null
     }
    },
    "bff41ccc572c402b84c5a9af25c7179c": {
     "model_module": "@jupyter-widgets/base",
     "model_module_version": "1.2.0",
     "model_name": "LayoutModel",
     "state": {
      "_model_module": "@jupyter-widgets/base",
      "_model_module_version": "1.2.0",
      "_model_name": "LayoutModel",
      "_view_count": null,
      "_view_module": "@jupyter-widgets/base",
      "_view_module_version": "1.2.0",
      "_view_name": "LayoutView",
      "align_content": null,
      "align_items": null,
      "align_self": null,
      "border": null,
      "bottom": null,
      "display": null,
      "flex": null,
      "flex_flow": null,
      "grid_area": null,
      "grid_auto_columns": null,
      "grid_auto_flow": null,
      "grid_auto_rows": null,
      "grid_column": null,
      "grid_gap": null,
      "grid_row": null,
      "grid_template_areas": null,
      "grid_template_columns": null,
      "grid_template_rows": null,
      "height": "28px",
      "justify_content": null,
      "justify_items": null,
      "left": null,
      "margin": null,
      "max_height": null,
      "max_width": null,
      "min_height": null,
      "min_width": null,
      "object_fit": null,
      "object_position": null,
      "order": null,
      "overflow": null,
      "overflow_x": null,
      "overflow_y": null,
      "padding": "0px 0px 0px 4px",
      "right": null,
      "top": null,
      "visibility": null,
      "width": "28px"
     }
    },
    "bffd4b6032f14948bbb8aa9ab95aa2b5": {
     "model_module": "jupyter-leaflet",
     "model_module_version": "^0.18",
     "model_name": "LeafletWidgetControlModel",
     "state": {
      "_model_module": "jupyter-leaflet",
      "_model_module_version": "^0.18",
      "_model_name": "LeafletWidgetControlModel",
      "_view_count": null,
      "_view_module": "jupyter-leaflet",
      "_view_module_version": "^0.18",
      "_view_name": "LeafletWidgetControlView",
      "max_height": null,
      "max_width": null,
      "min_height": null,
      "min_width": null,
      "options": [
       "position",
       "transparent_bg"
      ],
      "position": "topright",
      "transparent_bg": false,
      "widget": "IPY_MODEL_bc7e8b91f9d74865aea5d6b86c1a8a9b"
     }
    },
    "c08e06e74c28479e8081f7d669a91bab": {
     "model_module": "jupyter-leaflet",
     "model_module_version": "^0.18",
     "model_name": "LeafletZoomControlModel",
     "state": {
      "_model_module": "jupyter-leaflet",
      "_model_module_version": "^0.18",
      "_model_name": "LeafletZoomControlModel",
      "_view_count": null,
      "_view_module": "jupyter-leaflet",
      "_view_module_version": "^0.18",
      "_view_name": "LeafletZoomControlView",
      "options": [
       "position",
       "zoom_in_text",
       "zoom_in_title",
       "zoom_out_text",
       "zoom_out_title"
      ],
      "position": "topleft",
      "zoom_in_text": "+",
      "zoom_in_title": "Zoom in",
      "zoom_out_text": "-",
      "zoom_out_title": "Zoom out"
     }
    },
    "c1d41e3b962a484fb10a42efdba80a2e": {
     "model_module": "@jupyter-widgets/controls",
     "model_module_version": "1.5.0",
     "model_name": "DescriptionStyleModel",
     "state": {
      "_model_module": "@jupyter-widgets/controls",
      "_model_module_version": "1.5.0",
      "_model_name": "DescriptionStyleModel",
      "_view_count": null,
      "_view_module": "@jupyter-widgets/base",
      "_view_module_version": "1.2.0",
      "_view_name": "StyleView",
      "description_width": ""
     }
    },
    "c1d8f1eafa794d72ab052fa6537a8005": {
     "model_module": "jupyter-leaflet",
     "model_module_version": "^0.18",
     "model_name": "LeafletMapStyleModel",
     "state": {
      "_model_module": "jupyter-leaflet",
      "_model_module_version": "^0.18",
      "_model_name": "LeafletMapStyleModel",
      "_view_count": null,
      "_view_module": "@jupyter-widgets/base",
      "_view_module_version": "1.2.0",
      "_view_name": "StyleView",
      "cursor": "grab"
     }
    },
    "c23e0cb903d54b8dbe56df012944412a": {
     "model_module": "jupyter-leaflet",
     "model_module_version": "^0.18",
     "model_name": "LeafletZoomControlModel",
     "state": {
      "_model_module": "jupyter-leaflet",
      "_model_module_version": "^0.18",
      "_model_name": "LeafletZoomControlModel",
      "_view_count": null,
      "_view_module": "jupyter-leaflet",
      "_view_module_version": "^0.18",
      "_view_name": "LeafletZoomControlView",
      "options": [
       "position",
       "zoom_in_text",
       "zoom_in_title",
       "zoom_out_text",
       "zoom_out_title"
      ],
      "position": "topleft",
      "zoom_in_text": "+",
      "zoom_in_title": "Zoom in",
      "zoom_out_text": "-",
      "zoom_out_title": "Zoom out"
     }
    },
    "c28715d0398f48188e6c75941af12a8b": {
     "model_module": "jupyter-leaflet",
     "model_module_version": "^0.18",
     "model_name": "LeafletWidgetControlModel",
     "state": {
      "_model_module": "jupyter-leaflet",
      "_model_module_version": "^0.18",
      "_model_name": "LeafletWidgetControlModel",
      "_view_count": null,
      "_view_module": "jupyter-leaflet",
      "_view_module_version": "^0.18",
      "_view_name": "LeafletWidgetControlView",
      "max_height": null,
      "max_width": null,
      "min_height": null,
      "min_width": null,
      "options": [
       "position",
       "transparent_bg"
      ],
      "position": "topright",
      "transparent_bg": false,
      "widget": "IPY_MODEL_2332d4ee01764ca8813e0d22f9b41547"
     }
    },
    "c392a19fa8d44053a5a2df048758f719": {
     "model_module": "@jupyter-widgets/base",
     "model_module_version": "1.2.0",
     "model_name": "LayoutModel",
     "state": {
      "_model_module": "@jupyter-widgets/base",
      "_model_module_version": "1.2.0",
      "_model_name": "LayoutModel",
      "_view_count": null,
      "_view_module": "@jupyter-widgets/base",
      "_view_module_version": "1.2.0",
      "_view_name": "LayoutView",
      "align_content": null,
      "align_items": null,
      "align_self": null,
      "border": null,
      "bottom": null,
      "display": null,
      "flex": null,
      "flex_flow": null,
      "grid_area": null,
      "grid_auto_columns": null,
      "grid_auto_flow": null,
      "grid_auto_rows": null,
      "grid_column": null,
      "grid_gap": null,
      "grid_row": null,
      "grid_template_areas": null,
      "grid_template_columns": null,
      "grid_template_rows": null,
      "height": "28px",
      "justify_content": null,
      "justify_items": null,
      "left": null,
      "margin": null,
      "max_height": null,
      "max_width": null,
      "min_height": null,
      "min_width": null,
      "object_fit": null,
      "object_position": null,
      "order": null,
      "overflow": null,
      "overflow_x": null,
      "overflow_y": null,
      "padding": "0px 0px 0px 4px",
      "right": null,
      "top": null,
      "visibility": null,
      "width": "28px"
     }
    },
    "c3c11d074c8348bcb99639e3c2f08636": {
     "model_module": "jupyter-leaflet",
     "model_module_version": "^0.18",
     "model_name": "LeafletTileLayerModel",
     "state": {
      "_model_module": "jupyter-leaflet",
      "_model_module_version": "^0.18",
      "_model_name": "LeafletTileLayerModel",
      "_view_count": null,
      "_view_module": "jupyter-leaflet",
      "_view_module_version": "^0.18",
      "_view_name": "LeafletTileLayerView",
      "attribution": "Google Earth Engine",
      "base": false,
      "bottom": true,
      "bounds": null,
      "detect_retina": false,
      "loading": false,
      "max_native_zoom": null,
      "max_zoom": 24,
      "min_native_zoom": null,
      "min_zoom": 0,
      "name": "Arctic_DEM Hillshade",
      "no_wrap": false,
      "opacity": 0.5,
      "options": [
       "attribution",
       "bounds",
       "detect_retina",
       "max_native_zoom",
       "max_zoom",
       "min_native_zoom",
       "min_zoom",
       "no_wrap",
       "tile_size",
       "tms",
       "zoom_offset"
      ],
      "pane": "",
      "popup": null,
      "popup_max_height": null,
      "popup_max_width": 300,
      "popup_min_width": 50,
      "show_loading": false,
      "subitems": [],
      "tile_size": 256,
      "tms": false,
      "url": "https://earthengine.googleapis.com/v1/projects/ee-koreenmillard/maps/45b2e056c7df1e95f721435bfea9ebfc-a2a62b435ce72185decb428cc5337dbb/tiles/{z}/{x}/{y}",
      "visible": true,
      "zoom_offset": 0
     }
    },
    "c453340d80b64a6690baf9cbaa85fb5e": {
     "model_module": "jupyter-leaflet",
     "model_module_version": "^0.18",
     "model_name": "LeafletMeasureControlModel",
     "state": {
      "_custom_units": {},
      "_model_module": "jupyter-leaflet",
      "_model_module_version": "^0.18",
      "_model_name": "LeafletMeasureControlModel",
      "_view_count": null,
      "_view_module": "jupyter-leaflet",
      "_view_module_version": "^0.18",
      "_view_name": "LeafletMeasureControlView",
      "active_color": "orange",
      "capture_z_index": 10000,
      "completed_color": "#C8F2BE",
      "options": [
       "active_color",
       "capture_z_index",
       "completed_color",
       "popup_options",
       "position",
       "primary_area_unit",
       "primary_length_unit",
       "secondary_area_unit",
       "secondary_length_unit"
      ],
      "popup_options": {
       "autoPanPadding": [
        10,
        10
       ],
       "className": "leaflet-measure-resultpopup"
      },
      "position": "bottomleft",
      "primary_area_unit": "acres",
      "primary_length_unit": "kilometers",
      "secondary_area_unit": null,
      "secondary_length_unit": null
     }
    },
    "c475fd15c364423ea2f872166914315c": {
     "model_module": "jupyter-leaflet",
     "model_module_version": "^0.18",
     "model_name": "LeafletDrawControlModel",
     "state": {
      "_model_module": "jupyter-leaflet",
      "_model_module_version": "^0.18",
      "_model_name": "LeafletDrawControlModel",
      "_view_count": null,
      "_view_module": "jupyter-leaflet",
      "_view_module_version": "^0.18",
      "_view_name": "LeafletDrawControlView",
      "circle": {},
      "circlemarker": {},
      "data": [],
      "edit": true,
      "marker": {
       "shapeOptions": {
        "color": "#3388ff"
       }
      },
      "options": [
       "position"
      ],
      "polygon": {
       "shapeOptions": {}
      },
      "polyline": {
       "shapeOptions": {}
      },
      "position": "topleft",
      "rectangle": {
       "shapeOptions": {
        "color": "#3388ff"
       }
      },
      "remove": true
     }
    },
    "c49b655204614383b2286fbc74601a4c": {
     "model_module": "jupyter-leaflet",
     "model_module_version": "^0.18",
     "model_name": "LeafletMapStyleModel",
     "state": {
      "_model_module": "jupyter-leaflet",
      "_model_module_version": "^0.18",
      "_model_name": "LeafletMapStyleModel",
      "_view_count": null,
      "_view_module": "@jupyter-widgets/base",
      "_view_module_version": "1.2.0",
      "_view_name": "StyleView",
      "cursor": "grab"
     }
    },
    "c5df815a81af42cf839a007221d16a5b": {
     "model_module": "jupyter-leaflet",
     "model_module_version": "^0.18",
     "model_name": "LeafletTileLayerModel",
     "state": {
      "_model_module": "jupyter-leaflet",
      "_model_module_version": "^0.18",
      "_model_name": "LeafletTileLayerModel",
      "_view_count": null,
      "_view_module": "jupyter-leaflet",
      "_view_module_version": "^0.18",
      "_view_name": "LeafletTileLayerView",
      "attribution": "Google Earth Engine",
      "base": false,
      "bottom": true,
      "bounds": null,
      "detect_retina": false,
      "loading": false,
      "max_native_zoom": null,
      "max_zoom": 24,
      "min_native_zoom": null,
      "min_zoom": 0,
      "name": "S1-image_asc",
      "no_wrap": false,
      "opacity": 1,
      "options": [
       "attribution",
       "bounds",
       "detect_retina",
       "max_native_zoom",
       "max_zoom",
       "min_native_zoom",
       "min_zoom",
       "no_wrap",
       "tile_size",
       "tms",
       "zoom_offset"
      ],
      "pane": "",
      "popup": null,
      "popup_max_height": null,
      "popup_max_width": 300,
      "popup_min_width": 50,
      "show_loading": false,
      "subitems": [],
      "tile_size": 256,
      "tms": false,
      "url": "https://earthengine.googleapis.com/v1/projects/ee-koreenmillard/maps/a23a96efbd4eff5b3fccbfa953ebe709-42020c5e62cedd1ecd8c60ca5113c305/tiles/{z}/{x}/{y}",
      "visible": true,
      "zoom_offset": 0
     }
    },
    "c6f6209f97204d3dabcb1d3fd08e68c4": {
     "model_module": "jupyter-leaflet",
     "model_module_version": "^0.18",
     "model_name": "LeafletMapStyleModel",
     "state": {
      "_model_module": "jupyter-leaflet",
      "_model_module_version": "^0.18",
      "_model_name": "LeafletMapStyleModel",
      "_view_count": null,
      "_view_module": "@jupyter-widgets/base",
      "_view_module_version": "1.2.0",
      "_view_name": "StyleView",
      "cursor": "grab"
     }
    },
    "c79db3a3131f45bc8b6b1cd4018c3752": {
     "model_module": "jupyter-leaflet",
     "model_module_version": "^0.18",
     "model_name": "LeafletMapStyleModel",
     "state": {
      "_model_module": "jupyter-leaflet",
      "_model_module_version": "^0.18",
      "_model_name": "LeafletMapStyleModel",
      "_view_count": null,
      "_view_module": "@jupyter-widgets/base",
      "_view_module_version": "1.2.0",
      "_view_name": "StyleView",
      "cursor": "grab"
     }
    },
    "c7a402e4dba74d838bd747b45451ae06": {
     "model_module": "@jupyter-widgets/base",
     "model_module_version": "1.2.0",
     "model_name": "LayoutModel",
     "state": {
      "_model_module": "@jupyter-widgets/base",
      "_model_module_version": "1.2.0",
      "_model_name": "LayoutModel",
      "_view_count": null,
      "_view_module": "@jupyter-widgets/base",
      "_view_module_version": "1.2.0",
      "_view_name": "LayoutView",
      "align_content": null,
      "align_items": null,
      "align_self": null,
      "border": null,
      "bottom": null,
      "display": null,
      "flex": null,
      "flex_flow": null,
      "grid_area": null,
      "grid_auto_columns": null,
      "grid_auto_flow": null,
      "grid_auto_rows": null,
      "grid_column": null,
      "grid_gap": null,
      "grid_row": null,
      "grid_template_areas": null,
      "grid_template_columns": null,
      "grid_template_rows": null,
      "height": "28px",
      "justify_content": null,
      "justify_items": null,
      "left": null,
      "margin": null,
      "max_height": null,
      "max_width": null,
      "min_height": null,
      "min_width": null,
      "object_fit": null,
      "object_position": null,
      "order": null,
      "overflow": null,
      "overflow_x": null,
      "overflow_y": null,
      "padding": "0px 0px 0px 4px",
      "right": null,
      "top": null,
      "visibility": null,
      "width": "28px"
     }
    },
    "c7cc5876fcdd461ca481a8711b6c0c61": {
     "model_module": "@jupyter-widgets/base",
     "model_module_version": "1.2.0",
     "model_name": "LayoutModel",
     "state": {
      "_model_module": "@jupyter-widgets/base",
      "_model_module_version": "1.2.0",
      "_model_name": "LayoutModel",
      "_view_count": null,
      "_view_module": "@jupyter-widgets/base",
      "_view_module_version": "1.2.0",
      "_view_name": "LayoutView",
      "align_content": null,
      "align_items": null,
      "align_self": null,
      "border": null,
      "bottom": null,
      "display": null,
      "flex": null,
      "flex_flow": null,
      "grid_area": null,
      "grid_auto_columns": null,
      "grid_auto_flow": null,
      "grid_auto_rows": null,
      "grid_column": null,
      "grid_gap": null,
      "grid_row": null,
      "grid_template_areas": null,
      "grid_template_columns": null,
      "grid_template_rows": null,
      "height": null,
      "justify_content": null,
      "justify_items": null,
      "left": null,
      "margin": null,
      "max_height": null,
      "max_width": null,
      "min_height": null,
      "min_width": null,
      "object_fit": null,
      "object_position": null,
      "order": null,
      "overflow": null,
      "overflow_x": null,
      "overflow_y": null,
      "padding": null,
      "right": null,
      "top": null,
      "visibility": null,
      "width": null
     }
    },
    "c80f601055764009bdcca8be32259fed": {
     "model_module": "jupyter-leaflet",
     "model_module_version": "^0.18",
     "model_name": "LeafletFullScreenControlModel",
     "state": {
      "_model_module": "jupyter-leaflet",
      "_model_module_version": "^0.18",
      "_model_name": "LeafletFullScreenControlModel",
      "_view_count": null,
      "_view_module": "jupyter-leaflet",
      "_view_module_version": "^0.18",
      "_view_name": "LeafletFullScreenControlView",
      "options": [
       "position"
      ],
      "position": "topleft"
     }
    },
    "c865fb5e803641ec8a39b6c07006657f": {
     "model_module": "jupyter-leaflet",
     "model_module_version": "^0.18",
     "model_name": "LeafletMapModel",
     "state": {
      "_dom_classes": [],
      "_model_module": "jupyter-leaflet",
      "_model_module_version": "^0.18",
      "_model_name": "LeafletMapModel",
      "_view_count": null,
      "_view_module": "jupyter-leaflet",
      "_view_module_version": "^0.18",
      "_view_name": "LeafletMapView",
      "bottom": 886,
      "bounce_at_zoom_limits": true,
      "box_zoom": true,
      "center": [
       60.755079,
       -139.013173
      ],
      "close_popup_on_click": true,
      "controls": [
       "IPY_MODEL_712c1e9fc8654f21adcc68571dceb858",
       "IPY_MODEL_d6f7a27112e34f1f97e305f007607dea",
       "IPY_MODEL_c80f601055764009bdcca8be32259fed",
       "IPY_MODEL_38316c33fd0d4b13bdf44966052b91aa",
       "IPY_MODEL_afe97e95630c48e68b536e723e857b5e",
       "IPY_MODEL_3d5838f315bc40739d94fa3f2f65cc75",
       "IPY_MODEL_80bfa45d9ab0452b84299b9cced0cbbb",
       "IPY_MODEL_10c317a7919d4a36a562f6e5974775d8"
      ],
      "crs": {
       "custom": false,
       "name": "EPSG3857"
      },
      "default_style": "IPY_MODEL_617c2d337bbd412b8d1b60e2fb08e469",
      "double_click_zoom": true,
      "dragging": true,
      "dragging_style": "IPY_MODEL_a06ab3f8f9e241bea85b9024f7904f28",
      "east": -34.27734375000001,
      "fullscreen": false,
      "inertia": true,
      "inertia_deceleration": 3000,
      "inertia_max_speed": 1500,
      "interpolation": "bilinear",
      "keyboard": true,
      "keyboard_pan_offset": 80,
      "keyboard_zoom_offset": 1,
      "layers": [
       "IPY_MODEL_397008f229034dbc8adebad38296308e",
       "IPY_MODEL_00c111299e714ead8a17d77b7ea4bafd",
       "IPY_MODEL_d4af79c524f641bc960d3b7df750de69"
      ],
      "layout": "IPY_MODEL_02892f44a4af432fbecda60d909d5d00",
      "left": -362,
      "max_zoom": 24,
      "min_zoom": null,
      "modisdate": "2024-03-23",
      "north": 78.1344931829381,
      "options": [
       "bounce_at_zoom_limits",
       "box_zoom",
       "center",
       "close_popup_on_click",
       "double_click_zoom",
       "dragging",
       "fullscreen",
       "inertia",
       "inertia_deceleration",
       "inertia_max_speed",
       "interpolation",
       "keyboard",
       "keyboard_pan_offset",
       "keyboard_zoom_offset",
       "max_zoom",
       "min_zoom",
       "prefer_canvas",
       "scroll_wheel_zoom",
       "tap",
       "tap_tolerance",
       "touch_zoom",
       "world_copy_jump",
       "zoom",
       "zoom_animation_threshold",
       "zoom_delta",
       "zoom_snap"
      ],
      "panes": {},
      "prefer_canvas": false,
      "right": 829,
      "scroll_wheel_zoom": true,
      "south": 23.56398712845123,
      "style": "IPY_MODEL_617c2d337bbd412b8d1b60e2fb08e469",
      "tap": true,
      "tap_tolerance": 15,
      "top": 286,
      "touch_zoom": true,
      "west": -243.63281250000003,
      "window_url": "https://92xnw0u9qnb-496ff2e9c6d22116-0-colab.googleusercontent.com/outputframe.html?vrz=colab_20240321-060149_RC00_617803427",
      "world_copy_jump": false,
      "zoom": 4,
      "zoom_animation_threshold": 4,
      "zoom_delta": 1,
      "zoom_snap": 1
     }
    },
    "cbc9ca04fca24bb79f1565287fb4ffe9": {
     "model_module": "@jupyter-widgets/controls",
     "model_module_version": "1.5.0",
     "model_name": "DescriptionStyleModel",
     "state": {
      "_model_module": "@jupyter-widgets/controls",
      "_model_module_version": "1.5.0",
      "_model_name": "DescriptionStyleModel",
      "_view_count": null,
      "_view_module": "@jupyter-widgets/base",
      "_view_module_version": "1.2.0",
      "_view_name": "StyleView",
      "description_width": ""
     }
    },
    "cdc6ec4792694ff89f47e2e74f0c21c4": {
     "model_module": "jupyter-leaflet",
     "model_module_version": "^0.18",
     "model_name": "LeafletScaleControlModel",
     "state": {
      "_model_module": "jupyter-leaflet",
      "_model_module_version": "^0.18",
      "_model_name": "LeafletScaleControlModel",
      "_view_count": null,
      "_view_module": "jupyter-leaflet",
      "_view_module_version": "^0.18",
      "_view_name": "LeafletScaleControlView",
      "imperial": true,
      "max_width": 100,
      "metric": true,
      "options": [
       "imperial",
       "max_width",
       "metric",
       "position",
       "update_when_idle"
      ],
      "position": "bottomleft",
      "update_when_idle": false
     }
    },
    "cdf1dd20a39f4b27b83b0d905db6e28f": {
     "model_module": "jupyter-leaflet",
     "model_module_version": "^0.18",
     "model_name": "LeafletMapStyleModel",
     "state": {
      "_model_module": "jupyter-leaflet",
      "_model_module_version": "^0.18",
      "_model_name": "LeafletMapStyleModel",
      "_view_count": null,
      "_view_module": "@jupyter-widgets/base",
      "_view_module_version": "1.2.0",
      "_view_name": "StyleView",
      "cursor": "grab"
     }
    },
    "ce2ab7d6fdfd4adbb2c5a9e357e0fc10": {
     "model_module": "@jupyter-widgets/controls",
     "model_module_version": "1.5.0",
     "model_name": "ToggleButtonModel",
     "state": {
      "_dom_classes": [],
      "_model_module": "@jupyter-widgets/controls",
      "_model_module_version": "1.5.0",
      "_model_name": "ToggleButtonModel",
      "_view_count": null,
      "_view_module": "@jupyter-widgets/controls",
      "_view_module_version": "1.5.0",
      "_view_name": "ToggleButtonView",
      "button_style": "",
      "description": "",
      "description_tooltip": null,
      "disabled": false,
      "icon": "wrench",
      "layout": "IPY_MODEL_95619514a54e4c849ffd2f2995cfd858",
      "style": "IPY_MODEL_c1d41e3b962a484fb10a42efdba80a2e",
      "tooltip": "Toolbar",
      "value": false
     }
    },
    "ce8b239667c44ff8839c7b1cb3edb09d": {
     "model_module": "@jupyter-widgets/controls",
     "model_module_version": "1.5.0",
     "model_name": "DescriptionStyleModel",
     "state": {
      "_model_module": "@jupyter-widgets/controls",
      "_model_module_version": "1.5.0",
      "_model_name": "DescriptionStyleModel",
      "_view_count": null,
      "_view_module": "@jupyter-widgets/base",
      "_view_module_version": "1.2.0",
      "_view_name": "StyleView",
      "description_width": ""
     }
    },
    "cec2fe2683c54c6395567b53b90653e5": {
     "model_module": "@jupyter-widgets/base",
     "model_module_version": "1.2.0",
     "model_name": "LayoutModel",
     "state": {
      "_model_module": "@jupyter-widgets/base",
      "_model_module_version": "1.2.0",
      "_model_name": "LayoutModel",
      "_view_count": null,
      "_view_module": "@jupyter-widgets/base",
      "_view_module_version": "1.2.0",
      "_view_name": "LayoutView",
      "align_content": null,
      "align_items": null,
      "align_self": null,
      "border": null,
      "bottom": null,
      "display": null,
      "flex": null,
      "flex_flow": null,
      "grid_area": null,
      "grid_auto_columns": null,
      "grid_auto_flow": null,
      "grid_auto_rows": null,
      "grid_column": null,
      "grid_gap": null,
      "grid_row": null,
      "grid_template_areas": null,
      "grid_template_columns": null,
      "grid_template_rows": null,
      "height": null,
      "justify_content": null,
      "justify_items": null,
      "left": null,
      "margin": null,
      "max_height": null,
      "max_width": null,
      "min_height": null,
      "min_width": null,
      "object_fit": null,
      "object_position": null,
      "order": null,
      "overflow": null,
      "overflow_x": null,
      "overflow_y": null,
      "padding": null,
      "right": null,
      "top": null,
      "visibility": null,
      "width": null
     }
    },
    "cf03fade17e440acbe1ec68bb0b22eef": {
     "model_module": "jupyter-leaflet",
     "model_module_version": "^0.18",
     "model_name": "LeafletScaleControlModel",
     "state": {
      "_model_module": "jupyter-leaflet",
      "_model_module_version": "^0.18",
      "_model_name": "LeafletScaleControlModel",
      "_view_count": null,
      "_view_module": "jupyter-leaflet",
      "_view_module_version": "^0.18",
      "_view_name": "LeafletScaleControlView",
      "imperial": true,
      "max_width": 100,
      "metric": true,
      "options": [
       "imperial",
       "max_width",
       "metric",
       "position",
       "update_when_idle"
      ],
      "position": "bottomleft",
      "update_when_idle": false
     }
    },
    "d0e8d8abcd6c43db8df64000bd071281": {
     "model_module": "@jupyter-widgets/base",
     "model_module_version": "1.2.0",
     "model_name": "LayoutModel",
     "state": {
      "_model_module": "@jupyter-widgets/base",
      "_model_module_version": "1.2.0",
      "_model_name": "LayoutModel",
      "_view_count": null,
      "_view_module": "@jupyter-widgets/base",
      "_view_module_version": "1.2.0",
      "_view_name": "LayoutView",
      "align_content": null,
      "align_items": null,
      "align_self": null,
      "border": null,
      "bottom": null,
      "display": null,
      "flex": null,
      "flex_flow": null,
      "grid_area": null,
      "grid_auto_columns": null,
      "grid_auto_flow": null,
      "grid_auto_rows": null,
      "grid_column": null,
      "grid_gap": null,
      "grid_row": null,
      "grid_template_areas": null,
      "grid_template_columns": null,
      "grid_template_rows": null,
      "height": "28px",
      "justify_content": null,
      "justify_items": null,
      "left": null,
      "margin": null,
      "max_height": null,
      "max_width": null,
      "min_height": null,
      "min_width": null,
      "object_fit": null,
      "object_position": null,
      "order": null,
      "overflow": null,
      "overflow_x": null,
      "overflow_y": null,
      "padding": "0px 0px 0px 4px",
      "right": null,
      "top": null,
      "visibility": null,
      "width": "28px"
     }
    },
    "d185a56237c84884897cde5196bc85e9": {
     "model_module": "jupyter-leaflet",
     "model_module_version": "^0.18",
     "model_name": "LeafletTileLayerModel",
     "state": {
      "_model_module": "jupyter-leaflet",
      "_model_module_version": "^0.18",
      "_model_name": "LeafletTileLayerModel",
      "_view_count": null,
      "_view_module": "jupyter-leaflet",
      "_view_module_version": "^0.18",
      "_view_name": "LeafletTileLayerView",
      "attribution": "Google Earth Engine",
      "base": false,
      "bottom": true,
      "bounds": null,
      "detect_retina": false,
      "loading": false,
      "max_native_zoom": null,
      "max_zoom": 24,
      "min_native_zoom": null,
      "min_zoom": 0,
      "name": "S1-image_VV",
      "no_wrap": false,
      "opacity": 1,
      "options": [
       "attribution",
       "bounds",
       "detect_retina",
       "max_native_zoom",
       "max_zoom",
       "min_native_zoom",
       "min_zoom",
       "no_wrap",
       "tile_size",
       "tms",
       "zoom_offset"
      ],
      "pane": "",
      "popup": null,
      "popup_max_height": null,
      "popup_max_width": 300,
      "popup_min_width": 50,
      "show_loading": false,
      "subitems": [],
      "tile_size": 256,
      "tms": false,
      "url": "https://earthengine.googleapis.com/v1/projects/ee-koreenmillard/maps/6b5f40f4375bdd18703016de0dc4cf04-baad962c59d6a2663218c0dc63438ece/tiles/{z}/{x}/{y}",
      "visible": true,
      "zoom_offset": 0
     }
    },
    "d2fc08493a9f4605b1f81314bc459300": {
     "model_module": "@jupyter-widgets/base",
     "model_module_version": "1.2.0",
     "model_name": "LayoutModel",
     "state": {
      "_model_module": "@jupyter-widgets/base",
      "_model_module_version": "1.2.0",
      "_model_name": "LayoutModel",
      "_view_count": null,
      "_view_module": "@jupyter-widgets/base",
      "_view_module_version": "1.2.0",
      "_view_name": "LayoutView",
      "align_content": null,
      "align_items": null,
      "align_self": null,
      "border": null,
      "bottom": null,
      "display": null,
      "flex": null,
      "flex_flow": null,
      "grid_area": null,
      "grid_auto_columns": null,
      "grid_auto_flow": null,
      "grid_auto_rows": null,
      "grid_column": null,
      "grid_gap": null,
      "grid_row": null,
      "grid_template_areas": null,
      "grid_template_columns": null,
      "grid_template_rows": null,
      "height": "600px",
      "justify_content": null,
      "justify_items": null,
      "left": null,
      "margin": null,
      "max_height": null,
      "max_width": null,
      "min_height": null,
      "min_width": null,
      "object_fit": null,
      "object_position": null,
      "order": null,
      "overflow": null,
      "overflow_x": null,
      "overflow_y": null,
      "padding": null,
      "right": null,
      "top": null,
      "visibility": null,
      "width": null
     }
    },
    "d336ebc15e144c688e550ff67e7da0c8": {
     "model_module": "@jupyter-widgets/base",
     "model_module_version": "1.2.0",
     "model_name": "LayoutModel",
     "state": {
      "_model_module": "@jupyter-widgets/base",
      "_model_module_version": "1.2.0",
      "_model_name": "LayoutModel",
      "_view_count": null,
      "_view_module": "@jupyter-widgets/base",
      "_view_module_version": "1.2.0",
      "_view_name": "LayoutView",
      "align_content": null,
      "align_items": null,
      "align_self": null,
      "border": null,
      "bottom": null,
      "display": null,
      "flex": null,
      "flex_flow": null,
      "grid_area": null,
      "grid_auto_columns": null,
      "grid_auto_flow": null,
      "grid_auto_rows": null,
      "grid_column": null,
      "grid_gap": null,
      "grid_row": null,
      "grid_template_areas": null,
      "grid_template_columns": null,
      "grid_template_rows": null,
      "height": "28px",
      "justify_content": null,
      "justify_items": null,
      "left": null,
      "margin": null,
      "max_height": null,
      "max_width": null,
      "min_height": null,
      "min_width": null,
      "object_fit": null,
      "object_position": null,
      "order": null,
      "overflow": null,
      "overflow_x": null,
      "overflow_y": null,
      "padding": "0px 0px 0px 4px",
      "right": null,
      "top": null,
      "visibility": null,
      "width": "28px"
     }
    },
    "d3a960bfc5f345d09a8f74a3d92bd0f0": {
     "model_module": "jupyter-leaflet",
     "model_module_version": "^0.18",
     "model_name": "LeafletScaleControlModel",
     "state": {
      "_model_module": "jupyter-leaflet",
      "_model_module_version": "^0.18",
      "_model_name": "LeafletScaleControlModel",
      "_view_count": null,
      "_view_module": "jupyter-leaflet",
      "_view_module_version": "^0.18",
      "_view_name": "LeafletScaleControlView",
      "imperial": true,
      "max_width": 100,
      "metric": true,
      "options": [
       "imperial",
       "max_width",
       "metric",
       "position",
       "update_when_idle"
      ],
      "position": "bottomleft",
      "update_when_idle": false
     }
    },
    "d4af79c524f641bc960d3b7df750de69": {
     "model_module": "jupyter-leaflet",
     "model_module_version": "^0.18",
     "model_name": "LeafletTileLayerModel",
     "state": {
      "_model_module": "jupyter-leaflet",
      "_model_module_version": "^0.18",
      "_model_name": "LeafletTileLayerModel",
      "_view_count": null,
      "_view_module": "jupyter-leaflet",
      "_view_module_version": "^0.18",
      "_view_name": "LeafletTileLayerView",
      "attribution": "Google Earth Engine",
      "base": false,
      "bottom": true,
      "bounds": null,
      "detect_retina": false,
      "loading": false,
      "max_native_zoom": null,
      "max_zoom": 24,
      "min_native_zoom": null,
      "min_zoom": 0,
      "name": "S1-image_older",
      "no_wrap": false,
      "opacity": 1,
      "options": [
       "attribution",
       "bounds",
       "detect_retina",
       "max_native_zoom",
       "max_zoom",
       "min_native_zoom",
       "min_zoom",
       "no_wrap",
       "tile_size",
       "tms",
       "zoom_offset"
      ],
      "pane": "",
      "popup": null,
      "popup_max_height": null,
      "popup_max_width": 300,
      "popup_min_width": 50,
      "show_loading": false,
      "subitems": [],
      "tile_size": 256,
      "tms": false,
      "url": "https://earthengine.googleapis.com/v1/projects/ee-koreenmillard/maps/79bcbb62f7eade8833bfeb3d72e36c85-52b8a1d58b5f070428924f154113f214/tiles/{z}/{x}/{y}",
      "visible": true,
      "zoom_offset": 0
     }
    },
    "d5cd231026694bf388a35cea56f37731": {
     "model_module": "jupyter-leaflet",
     "model_module_version": "^0.18",
     "model_name": "LeafletWidgetControlModel",
     "state": {
      "_model_module": "jupyter-leaflet",
      "_model_module_version": "^0.18",
      "_model_name": "LeafletWidgetControlModel",
      "_view_count": null,
      "_view_module": "jupyter-leaflet",
      "_view_module_version": "^0.18",
      "_view_name": "LeafletWidgetControlView",
      "max_height": null,
      "max_width": null,
      "min_height": null,
      "min_width": null,
      "options": [
       "position",
       "transparent_bg"
      ],
      "position": "topright",
      "transparent_bg": false,
      "widget": "IPY_MODEL_08726b7c3322455a98fcb2ae2a87c1b3"
     }
    },
    "d687276ab4c54e87bc24316970f0bb43": {
     "model_module": "jupyter-leaflet",
     "model_module_version": "^0.18",
     "model_name": "LeafletDrawControlModel",
     "state": {
      "_model_module": "jupyter-leaflet",
      "_model_module_version": "^0.18",
      "_model_name": "LeafletDrawControlModel",
      "_view_count": null,
      "_view_module": "jupyter-leaflet",
      "_view_module_version": "^0.18",
      "_view_name": "LeafletDrawControlView",
      "circle": {},
      "circlemarker": {},
      "data": [],
      "edit": true,
      "marker": {
       "shapeOptions": {
        "color": "#3388ff"
       }
      },
      "options": [
       "position"
      ],
      "polygon": {
       "shapeOptions": {}
      },
      "polyline": {
       "shapeOptions": {}
      },
      "position": "topleft",
      "rectangle": {
       "shapeOptions": {
        "color": "#3388ff"
       }
      },
      "remove": true
     }
    },
    "d6f7a27112e34f1f97e305f007607dea": {
     "model_module": "jupyter-leaflet",
     "model_module_version": "^0.18",
     "model_name": "LeafletZoomControlModel",
     "state": {
      "_model_module": "jupyter-leaflet",
      "_model_module_version": "^0.18",
      "_model_name": "LeafletZoomControlModel",
      "_view_count": null,
      "_view_module": "jupyter-leaflet",
      "_view_module_version": "^0.18",
      "_view_name": "LeafletZoomControlView",
      "options": [
       "position",
       "zoom_in_text",
       "zoom_in_title",
       "zoom_out_text",
       "zoom_out_title"
      ],
      "position": "topleft",
      "zoom_in_text": "+",
      "zoom_in_title": "Zoom in",
      "zoom_out_text": "-",
      "zoom_out_title": "Zoom out"
     }
    },
    "d8b7ed59815c42429914703a0da072fc": {
     "model_module": "@jupyter-widgets/controls",
     "model_module_version": "1.5.0",
     "model_name": "VBoxModel",
     "state": {
      "_dom_classes": [
       "geemap-colab"
      ],
      "_model_module": "@jupyter-widgets/controls",
      "_model_module_version": "1.5.0",
      "_model_name": "VBoxModel",
      "_view_count": null,
      "_view_module": "@jupyter-widgets/controls",
      "_view_module_version": "1.5.0",
      "_view_name": "VBoxView",
      "box_style": "",
      "children": [
       "IPY_MODEL_ce2ab7d6fdfd4adbb2c5a9e357e0fc10"
      ],
      "layout": "IPY_MODEL_bdaabce16bb64a6ebaa861c2ff12b103"
     }
    },
    "d92003973f9240c6b5a560abf7752977": {
     "model_module": "jupyter-leaflet",
     "model_module_version": "^0.18",
     "model_name": "LeafletZoomControlModel",
     "state": {
      "_model_module": "jupyter-leaflet",
      "_model_module_version": "^0.18",
      "_model_name": "LeafletZoomControlModel",
      "_view_count": null,
      "_view_module": "jupyter-leaflet",
      "_view_module_version": "^0.18",
      "_view_name": "LeafletZoomControlView",
      "options": [
       "position",
       "zoom_in_text",
       "zoom_in_title",
       "zoom_out_text",
       "zoom_out_title"
      ],
      "position": "topleft",
      "zoom_in_text": "+",
      "zoom_in_title": "Zoom in",
      "zoom_out_text": "-",
      "zoom_out_title": "Zoom out"
     }
    },
    "db44939c7eff4aaf817121d7614cbb99": {
     "model_module": "@jupyter-widgets/base",
     "model_module_version": "1.2.0",
     "model_name": "LayoutModel",
     "state": {
      "_model_module": "@jupyter-widgets/base",
      "_model_module_version": "1.2.0",
      "_model_name": "LayoutModel",
      "_view_count": null,
      "_view_module": "@jupyter-widgets/base",
      "_view_module_version": "1.2.0",
      "_view_name": "LayoutView",
      "align_content": null,
      "align_items": null,
      "align_self": null,
      "border": null,
      "bottom": null,
      "display": null,
      "flex": null,
      "flex_flow": null,
      "grid_area": null,
      "grid_auto_columns": null,
      "grid_auto_flow": null,
      "grid_auto_rows": null,
      "grid_column": null,
      "grid_gap": null,
      "grid_row": null,
      "grid_template_areas": null,
      "grid_template_columns": null,
      "grid_template_rows": null,
      "height": null,
      "justify_content": null,
      "justify_items": null,
      "left": null,
      "margin": null,
      "max_height": null,
      "max_width": null,
      "min_height": null,
      "min_width": null,
      "object_fit": null,
      "object_position": null,
      "order": null,
      "overflow": null,
      "overflow_x": null,
      "overflow_y": null,
      "padding": null,
      "right": null,
      "top": null,
      "visibility": null,
      "width": null
     }
    },
    "dc284812c26048ff8fb198ced7c96208": {
     "model_module": "jupyter-leaflet",
     "model_module_version": "^0.18",
     "model_name": "LeafletScaleControlModel",
     "state": {
      "_model_module": "jupyter-leaflet",
      "_model_module_version": "^0.18",
      "_model_name": "LeafletScaleControlModel",
      "_view_count": null,
      "_view_module": "jupyter-leaflet",
      "_view_module_version": "^0.18",
      "_view_name": "LeafletScaleControlView",
      "imperial": true,
      "max_width": 100,
      "metric": true,
      "options": [
       "imperial",
       "max_width",
       "metric",
       "position",
       "update_when_idle"
      ],
      "position": "bottomleft",
      "update_when_idle": false
     }
    },
    "dd44a70b005c4f75b2d811911e9fbf8d": {
     "model_module": "jupyter-leaflet",
     "model_module_version": "^0.18",
     "model_name": "LeafletAttributionControlModel",
     "state": {
      "_model_module": "jupyter-leaflet",
      "_model_module_version": "^0.18",
      "_model_name": "LeafletAttributionControlModel",
      "_view_count": null,
      "_view_module": "jupyter-leaflet",
      "_view_module_version": "^0.18",
      "_view_name": "LeafletAttributionControlView",
      "options": [
       "position",
       "prefix"
      ],
      "position": "bottomright",
      "prefix": "ipyleaflet"
     }
    },
    "de4f2d1914da4016a8ffb3c0c23433cb": {
     "model_module": "jupyter-leaflet",
     "model_module_version": "^0.18",
     "model_name": "LeafletMapStyleModel",
     "state": {
      "_model_module": "jupyter-leaflet",
      "_model_module_version": "^0.18",
      "_model_name": "LeafletMapStyleModel",
      "_view_count": null,
      "_view_module": "@jupyter-widgets/base",
      "_view_module_version": "1.2.0",
      "_view_name": "StyleView",
      "cursor": "grab"
     }
    },
    "dec269c0e2f84e25a7d19b393c2c2911": {
     "model_module": "jupyter-leaflet",
     "model_module_version": "^0.18",
     "model_name": "LeafletZoomControlModel",
     "state": {
      "_model_module": "jupyter-leaflet",
      "_model_module_version": "^0.18",
      "_model_name": "LeafletZoomControlModel",
      "_view_count": null,
      "_view_module": "jupyter-leaflet",
      "_view_module_version": "^0.18",
      "_view_name": "LeafletZoomControlView",
      "options": [
       "position",
       "zoom_in_text",
       "zoom_in_title",
       "zoom_out_text",
       "zoom_out_title"
      ],
      "position": "topleft",
      "zoom_in_text": "+",
      "zoom_in_title": "Zoom in",
      "zoom_out_text": "-",
      "zoom_out_title": "Zoom out"
     }
    },
    "dedfd74ec1d844adaf87433c713a739f": {
     "model_module": "jupyter-leaflet",
     "model_module_version": "^0.18",
     "model_name": "LeafletZoomControlModel",
     "state": {
      "_model_module": "jupyter-leaflet",
      "_model_module_version": "^0.18",
      "_model_name": "LeafletZoomControlModel",
      "_view_count": null,
      "_view_module": "jupyter-leaflet",
      "_view_module_version": "^0.18",
      "_view_name": "LeafletZoomControlView",
      "options": [
       "position",
       "zoom_in_text",
       "zoom_in_title",
       "zoom_out_text",
       "zoom_out_title"
      ],
      "position": "topleft",
      "zoom_in_text": "+",
      "zoom_in_title": "Zoom in",
      "zoom_out_text": "-",
      "zoom_out_title": "Zoom out"
     }
    },
    "deef36bc12de424b821ba741861c6e24": {
     "model_module": "jupyter-leaflet",
     "model_module_version": "^0.18",
     "model_name": "LeafletTileLayerModel",
     "state": {
      "_model_module": "jupyter-leaflet",
      "_model_module_version": "^0.18",
      "_model_name": "LeafletTileLayerModel",
      "_view_count": null,
      "_view_module": "jupyter-leaflet",
      "_view_module_version": "^0.18",
      "_view_name": "LeafletTileLayerView",
      "attribution": "&copy; <a href=\"https://www.openstreetmap.org/copyright\">OpenStreetMap</a> contributors",
      "base": true,
      "bottom": true,
      "bounds": null,
      "detect_retina": false,
      "loading": false,
      "max_native_zoom": null,
      "max_zoom": 19,
      "min_native_zoom": null,
      "min_zoom": 1,
      "name": "OpenStreetMap.Mapnik",
      "no_wrap": false,
      "opacity": 1,
      "options": [
       "attribution",
       "bounds",
       "detect_retina",
       "max_native_zoom",
       "max_zoom",
       "min_native_zoom",
       "min_zoom",
       "no_wrap",
       "tile_size",
       "tms",
       "zoom_offset"
      ],
      "pane": "",
      "popup": null,
      "popup_max_height": null,
      "popup_max_width": 300,
      "popup_min_width": 50,
      "show_loading": false,
      "subitems": [],
      "tile_size": 256,
      "tms": false,
      "url": "https://tile.openstreetmap.org/{z}/{x}/{y}.png",
      "visible": true,
      "zoom_offset": 0
     }
    },
    "df554b881d4847a8b50060ceea7468ff": {
     "model_module": "@jupyter-widgets/controls",
     "model_module_version": "1.5.0",
     "model_name": "DescriptionStyleModel",
     "state": {
      "_model_module": "@jupyter-widgets/controls",
      "_model_module_version": "1.5.0",
      "_model_name": "DescriptionStyleModel",
      "_view_count": null,
      "_view_module": "@jupyter-widgets/base",
      "_view_module_version": "1.2.0",
      "_view_name": "StyleView",
      "description_width": ""
     }
    },
    "dfd91a53325947b5a6d51d756a5be804": {
     "model_module": "@jupyter-widgets/controls",
     "model_module_version": "1.5.0",
     "model_name": "DescriptionStyleModel",
     "state": {
      "_model_module": "@jupyter-widgets/controls",
      "_model_module_version": "1.5.0",
      "_model_name": "DescriptionStyleModel",
      "_view_count": null,
      "_view_module": "@jupyter-widgets/base",
      "_view_module_version": "1.2.0",
      "_view_name": "StyleView",
      "description_width": ""
     }
    },
    "e034a2e3728f4f5c9b19e4a44e356a65": {
     "model_module": "jupyter-leaflet",
     "model_module_version": "^0.18",
     "model_name": "LeafletMapStyleModel",
     "state": {
      "_model_module": "jupyter-leaflet",
      "_model_module_version": "^0.18",
      "_model_name": "LeafletMapStyleModel",
      "_view_count": null,
      "_view_module": "@jupyter-widgets/base",
      "_view_module_version": "1.2.0",
      "_view_name": "StyleView",
      "cursor": "move"
     }
    },
    "e0a9b25788134c15b0b72d6e71b3872c": {
     "model_module": "@jupyter-widgets/base",
     "model_module_version": "1.2.0",
     "model_name": "LayoutModel",
     "state": {
      "_model_module": "@jupyter-widgets/base",
      "_model_module_version": "1.2.0",
      "_model_name": "LayoutModel",
      "_view_count": null,
      "_view_module": "@jupyter-widgets/base",
      "_view_module_version": "1.2.0",
      "_view_name": "LayoutView",
      "align_content": null,
      "align_items": null,
      "align_self": null,
      "border": null,
      "bottom": null,
      "display": null,
      "flex": null,
      "flex_flow": null,
      "grid_area": null,
      "grid_auto_columns": null,
      "grid_auto_flow": null,
      "grid_auto_rows": null,
      "grid_column": null,
      "grid_gap": null,
      "grid_row": null,
      "grid_template_areas": null,
      "grid_template_columns": null,
      "grid_template_rows": null,
      "height": "600px",
      "justify_content": null,
      "justify_items": null,
      "left": null,
      "margin": null,
      "max_height": null,
      "max_width": null,
      "min_height": null,
      "min_width": null,
      "object_fit": null,
      "object_position": null,
      "order": null,
      "overflow": null,
      "overflow_x": null,
      "overflow_y": null,
      "padding": null,
      "right": null,
      "top": null,
      "visibility": null,
      "width": null
     }
    },
    "e0ad468eaa1b46ad8b8518118094ca1d": {
     "model_module": "@jupyter-widgets/controls",
     "model_module_version": "1.5.0",
     "model_name": "DescriptionStyleModel",
     "state": {
      "_model_module": "@jupyter-widgets/controls",
      "_model_module_version": "1.5.0",
      "_model_name": "DescriptionStyleModel",
      "_view_count": null,
      "_view_module": "@jupyter-widgets/base",
      "_view_module_version": "1.2.0",
      "_view_name": "StyleView",
      "description_width": ""
     }
    },
    "e16e40739ca84ddfb1d9feced8b6de0e": {
     "model_module": "@jupyter-widgets/controls",
     "model_module_version": "1.5.0",
     "model_name": "DescriptionStyleModel",
     "state": {
      "_model_module": "@jupyter-widgets/controls",
      "_model_module_version": "1.5.0",
      "_model_name": "DescriptionStyleModel",
      "_view_count": null,
      "_view_module": "@jupyter-widgets/base",
      "_view_module_version": "1.2.0",
      "_view_name": "StyleView",
      "description_width": ""
     }
    },
    "e3693f5f84b141d5b4a13ee20e673f8e": {
     "model_module": "jupyter-leaflet",
     "model_module_version": "^0.18",
     "model_name": "LeafletFullScreenControlModel",
     "state": {
      "_model_module": "jupyter-leaflet",
      "_model_module_version": "^0.18",
      "_model_name": "LeafletFullScreenControlModel",
      "_view_count": null,
      "_view_module": "jupyter-leaflet",
      "_view_module_version": "^0.18",
      "_view_name": "LeafletFullScreenControlView",
      "options": [
       "position"
      ],
      "position": "topleft"
     }
    },
    "e418611cf9814ef097e9ad70982d4271": {
     "model_module": "jupyter-leaflet",
     "model_module_version": "^0.18",
     "model_name": "LeafletTileLayerModel",
     "state": {
      "_model_module": "jupyter-leaflet",
      "_model_module_version": "^0.18",
      "_model_name": "LeafletTileLayerModel",
      "_view_count": null,
      "_view_module": "jupyter-leaflet",
      "_view_module_version": "^0.18",
      "_view_name": "LeafletTileLayerView",
      "attribution": "Google Earth Engine",
      "base": false,
      "bottom": true,
      "bounds": null,
      "detect_retina": false,
      "loading": false,
      "max_native_zoom": null,
      "max_zoom": 24,
      "min_native_zoom": null,
      "min_zoom": 0,
      "name": "shadow descending",
      "no_wrap": false,
      "opacity": 0.5,
      "options": [
       "attribution",
       "bounds",
       "detect_retina",
       "max_native_zoom",
       "max_zoom",
       "min_native_zoom",
       "min_zoom",
       "no_wrap",
       "tile_size",
       "tms",
       "zoom_offset"
      ],
      "pane": "",
      "popup": null,
      "popup_max_height": null,
      "popup_max_width": 300,
      "popup_min_width": 50,
      "show_loading": false,
      "subitems": [],
      "tile_size": 256,
      "tms": false,
      "url": "https://earthengine.googleapis.com/v1/projects/ee-koreenmillard/maps/b464a64256f78fe729dc400edbb220b6-5f163d4a2e883fe5cb0bacf7a376ca56/tiles/{z}/{x}/{y}",
      "visible": true,
      "zoom_offset": 0
     }
    },
    "e5e41d69663345a5b7bbb1b3b4d46ef8": {
     "model_module": "jupyter-leaflet",
     "model_module_version": "^0.18",
     "model_name": "LeafletDrawControlModel",
     "state": {
      "_model_module": "jupyter-leaflet",
      "_model_module_version": "^0.18",
      "_model_name": "LeafletDrawControlModel",
      "_view_count": null,
      "_view_module": "jupyter-leaflet",
      "_view_module_version": "^0.18",
      "_view_name": "LeafletDrawControlView",
      "circle": {},
      "circlemarker": {},
      "data": [],
      "edit": true,
      "marker": {
       "shapeOptions": {
        "color": "#3388ff"
       }
      },
      "options": [
       "position"
      ],
      "polygon": {
       "shapeOptions": {}
      },
      "polyline": {
       "shapeOptions": {}
      },
      "position": "topleft",
      "rectangle": {
       "shapeOptions": {
        "color": "#3388ff"
       }
      },
      "remove": true
     }
    },
    "e7602f52c32c4ec2b332caffb309ad4e": {
     "model_module": "@jupyter-widgets/controls",
     "model_module_version": "1.5.0",
     "model_name": "DescriptionStyleModel",
     "state": {
      "_model_module": "@jupyter-widgets/controls",
      "_model_module_version": "1.5.0",
      "_model_name": "DescriptionStyleModel",
      "_view_count": null,
      "_view_module": "@jupyter-widgets/base",
      "_view_module_version": "1.2.0",
      "_view_name": "StyleView",
      "description_width": ""
     }
    },
    "e7ab758266e94704bc2f7670d3211336": {
     "model_module": "@jupyter-widgets/base",
     "model_module_version": "1.2.0",
     "model_name": "LayoutModel",
     "state": {
      "_model_module": "@jupyter-widgets/base",
      "_model_module_version": "1.2.0",
      "_model_name": "LayoutModel",
      "_view_count": null,
      "_view_module": "@jupyter-widgets/base",
      "_view_module_version": "1.2.0",
      "_view_name": "LayoutView",
      "align_content": null,
      "align_items": null,
      "align_self": null,
      "border": null,
      "bottom": null,
      "display": null,
      "flex": null,
      "flex_flow": null,
      "grid_area": null,
      "grid_auto_columns": null,
      "grid_auto_flow": null,
      "grid_auto_rows": null,
      "grid_column": null,
      "grid_gap": null,
      "grid_row": null,
      "grid_template_areas": null,
      "grid_template_columns": null,
      "grid_template_rows": null,
      "height": null,
      "justify_content": null,
      "justify_items": null,
      "left": null,
      "margin": null,
      "max_height": null,
      "max_width": null,
      "min_height": null,
      "min_width": null,
      "object_fit": null,
      "object_position": null,
      "order": null,
      "overflow": null,
      "overflow_x": null,
      "overflow_y": null,
      "padding": null,
      "right": null,
      "top": null,
      "visibility": null,
      "width": null
     }
    },
    "e9ff81b278184d3ca138ac8e031f4c69": {
     "model_module": "@jupyter-widgets/controls",
     "model_module_version": "1.5.0",
     "model_name": "DescriptionStyleModel",
     "state": {
      "_model_module": "@jupyter-widgets/controls",
      "_model_module_version": "1.5.0",
      "_model_name": "DescriptionStyleModel",
      "_view_count": null,
      "_view_module": "@jupyter-widgets/base",
      "_view_module_version": "1.2.0",
      "_view_name": "StyleView",
      "description_width": ""
     }
    },
    "ea1d4a3f77e546b291949d1dcdcd052e": {
     "model_module": "@jupyter-widgets/controls",
     "model_module_version": "1.5.0",
     "model_name": "DescriptionStyleModel",
     "state": {
      "_model_module": "@jupyter-widgets/controls",
      "_model_module_version": "1.5.0",
      "_model_name": "DescriptionStyleModel",
      "_view_count": null,
      "_view_module": "@jupyter-widgets/base",
      "_view_module_version": "1.2.0",
      "_view_name": "StyleView",
      "description_width": ""
     }
    },
    "eb7f56d6cc924eb6a3a436f570806926": {
     "model_module": "@jupyter-widgets/controls",
     "model_module_version": "1.5.0",
     "model_name": "ToggleButtonModel",
     "state": {
      "_dom_classes": [],
      "_model_module": "@jupyter-widgets/controls",
      "_model_module_version": "1.5.0",
      "_model_name": "ToggleButtonModel",
      "_view_count": null,
      "_view_module": "@jupyter-widgets/controls",
      "_view_module_version": "1.5.0",
      "_view_name": "ToggleButtonView",
      "button_style": "",
      "description": "",
      "description_tooltip": null,
      "disabled": false,
      "icon": "wrench",
      "layout": "IPY_MODEL_b008ddfb68db4d729a9ccfc5b6548996",
      "style": "IPY_MODEL_ea1d4a3f77e546b291949d1dcdcd052e",
      "tooltip": "Toolbar",
      "value": false
     }
    },
    "eb91fd6f08784b8c9d53e9b82747e473": {
     "model_module": "@jupyter-widgets/controls",
     "model_module_version": "1.5.0",
     "model_name": "HBoxModel",
     "state": {
      "_dom_classes": [
       "geemap-colab"
      ],
      "_model_module": "@jupyter-widgets/controls",
      "_model_module_version": "1.5.0",
      "_model_name": "HBoxModel",
      "_view_count": null,
      "_view_module": "@jupyter-widgets/controls",
      "_view_module_version": "1.5.0",
      "_view_name": "HBoxView",
      "box_style": "",
      "children": [
       "IPY_MODEL_04d449c24d2d4f45a53c671774b3e603"
      ],
      "layout": "IPY_MODEL_0000c92d0fad4341a7c2cf234daa3bee"
     }
    },
    "ec3a4440229b414886b5c06e6e7f226e": {
     "model_module": "@jupyter-widgets/controls",
     "model_module_version": "1.5.0",
     "model_name": "ToggleButtonModel",
     "state": {
      "_dom_classes": [],
      "_model_module": "@jupyter-widgets/controls",
      "_model_module_version": "1.5.0",
      "_model_name": "ToggleButtonModel",
      "_view_count": null,
      "_view_module": "@jupyter-widgets/controls",
      "_view_module_version": "1.5.0",
      "_view_name": "ToggleButtonView",
      "button_style": "",
      "description": "",
      "description_tooltip": null,
      "disabled": false,
      "icon": "wrench",
      "layout": "IPY_MODEL_1e26a8ebc10b448b92b92c6e7cf06a77",
      "style": "IPY_MODEL_9a90ce8006ff4b76a288960627eff35e",
      "tooltip": "Toolbar",
      "value": false
     }
    },
    "edab27180e9a4586a68ff89ff576f94c": {
     "model_module": "@jupyter-widgets/base",
     "model_module_version": "1.2.0",
     "model_name": "LayoutModel",
     "state": {
      "_model_module": "@jupyter-widgets/base",
      "_model_module_version": "1.2.0",
      "_model_name": "LayoutModel",
      "_view_count": null,
      "_view_module": "@jupyter-widgets/base",
      "_view_module_version": "1.2.0",
      "_view_name": "LayoutView",
      "align_content": null,
      "align_items": null,
      "align_self": null,
      "border": null,
      "bottom": null,
      "display": null,
      "flex": null,
      "flex_flow": null,
      "grid_area": null,
      "grid_auto_columns": null,
      "grid_auto_flow": null,
      "grid_auto_rows": null,
      "grid_column": null,
      "grid_gap": null,
      "grid_row": null,
      "grid_template_areas": null,
      "grid_template_columns": null,
      "grid_template_rows": null,
      "height": "600px",
      "justify_content": null,
      "justify_items": null,
      "left": null,
      "margin": null,
      "max_height": null,
      "max_width": null,
      "min_height": null,
      "min_width": null,
      "object_fit": null,
      "object_position": null,
      "order": null,
      "overflow": null,
      "overflow_x": null,
      "overflow_y": null,
      "padding": null,
      "right": null,
      "top": null,
      "visibility": null,
      "width": null
     }
    },
    "f047693b97b74d4a9d187fe21129886a": {
     "model_module": "@jupyter-widgets/base",
     "model_module_version": "1.2.0",
     "model_name": "LayoutModel",
     "state": {
      "_model_module": "@jupyter-widgets/base",
      "_model_module_version": "1.2.0",
      "_model_name": "LayoutModel",
      "_view_count": null,
      "_view_module": "@jupyter-widgets/base",
      "_view_module_version": "1.2.0",
      "_view_name": "LayoutView",
      "align_content": null,
      "align_items": null,
      "align_self": null,
      "border": null,
      "bottom": null,
      "display": null,
      "flex": null,
      "flex_flow": null,
      "grid_area": null,
      "grid_auto_columns": null,
      "grid_auto_flow": null,
      "grid_auto_rows": null,
      "grid_column": null,
      "grid_gap": null,
      "grid_row": null,
      "grid_template_areas": null,
      "grid_template_columns": null,
      "grid_template_rows": null,
      "height": null,
      "justify_content": null,
      "justify_items": null,
      "left": null,
      "margin": null,
      "max_height": null,
      "max_width": null,
      "min_height": null,
      "min_width": null,
      "object_fit": null,
      "object_position": null,
      "order": null,
      "overflow": null,
      "overflow_x": null,
      "overflow_y": null,
      "padding": null,
      "right": null,
      "top": null,
      "visibility": null,
      "width": null
     }
    },
    "f055ed60be204a6caadc74ff011fbaa7": {
     "model_module": "@jupyter-widgets/controls",
     "model_module_version": "1.5.0",
     "model_name": "DescriptionStyleModel",
     "state": {
      "_model_module": "@jupyter-widgets/controls",
      "_model_module_version": "1.5.0",
      "_model_name": "DescriptionStyleModel",
      "_view_count": null,
      "_view_module": "@jupyter-widgets/base",
      "_view_module_version": "1.2.0",
      "_view_name": "StyleView",
      "description_width": ""
     }
    },
    "f1e4b464eda543f48df6c935763e1c6b": {
     "model_module": "jupyter-leaflet",
     "model_module_version": "^0.18",
     "model_name": "LeafletTileLayerModel",
     "state": {
      "_model_module": "jupyter-leaflet",
      "_model_module_version": "^0.18",
      "_model_name": "LeafletTileLayerModel",
      "_view_count": null,
      "_view_module": "jupyter-leaflet",
      "_view_module_version": "^0.18",
      "_view_name": "LeafletTileLayerView",
      "attribution": "Google Earth Engine",
      "base": false,
      "bottom": true,
      "bounds": null,
      "detect_retina": false,
      "loading": false,
      "max_native_zoom": null,
      "max_zoom": 24,
      "min_native_zoom": null,
      "min_zoom": 0,
      "name": "S1-image_dsc",
      "no_wrap": false,
      "opacity": 1,
      "options": [
       "attribution",
       "bounds",
       "detect_retina",
       "max_native_zoom",
       "max_zoom",
       "min_native_zoom",
       "min_zoom",
       "no_wrap",
       "tile_size",
       "tms",
       "zoom_offset"
      ],
      "pane": "",
      "popup": null,
      "popup_max_height": null,
      "popup_max_width": 300,
      "popup_min_width": 50,
      "show_loading": false,
      "subitems": [],
      "tile_size": 256,
      "tms": false,
      "url": "https://earthengine.googleapis.com/v1/projects/ee-koreenmillard/maps/43477e7bc08ab9f85e659713576f1fcd-a2d2ef7fc6d9b485a03ed138493cfe33/tiles/{z}/{x}/{y}",
      "visible": true,
      "zoom_offset": 0
     }
    },
    "f289208f14d64496b1b8546ad98c8adf": {
     "model_module": "@jupyter-widgets/controls",
     "model_module_version": "1.5.0",
     "model_name": "DescriptionStyleModel",
     "state": {
      "_model_module": "@jupyter-widgets/controls",
      "_model_module_version": "1.5.0",
      "_model_name": "DescriptionStyleModel",
      "_view_count": null,
      "_view_module": "@jupyter-widgets/base",
      "_view_module_version": "1.2.0",
      "_view_name": "StyleView",
      "description_width": ""
     }
    },
    "f2fc7b35c3174fcf9a7722b83cb568f8": {
     "model_module": "@jupyter-widgets/base",
     "model_module_version": "1.2.0",
     "model_name": "LayoutModel",
     "state": {
      "_model_module": "@jupyter-widgets/base",
      "_model_module_version": "1.2.0",
      "_model_name": "LayoutModel",
      "_view_count": null,
      "_view_module": "@jupyter-widgets/base",
      "_view_module_version": "1.2.0",
      "_view_name": "LayoutView",
      "align_content": null,
      "align_items": null,
      "align_self": null,
      "border": null,
      "bottom": null,
      "display": null,
      "flex": null,
      "flex_flow": null,
      "grid_area": null,
      "grid_auto_columns": null,
      "grid_auto_flow": null,
      "grid_auto_rows": null,
      "grid_column": null,
      "grid_gap": null,
      "grid_row": null,
      "grid_template_areas": null,
      "grid_template_columns": null,
      "grid_template_rows": null,
      "height": null,
      "justify_content": null,
      "justify_items": null,
      "left": null,
      "margin": null,
      "max_height": null,
      "max_width": null,
      "min_height": null,
      "min_width": null,
      "object_fit": null,
      "object_position": null,
      "order": null,
      "overflow": null,
      "overflow_x": null,
      "overflow_y": null,
      "padding": null,
      "right": null,
      "top": null,
      "visibility": null,
      "width": null
     }
    },
    "f3351de5d74f4f168678fd0305a004e1": {
     "model_module": "@jupyter-widgets/base",
     "model_module_version": "1.2.0",
     "model_name": "LayoutModel",
     "state": {
      "_model_module": "@jupyter-widgets/base",
      "_model_module_version": "1.2.0",
      "_model_name": "LayoutModel",
      "_view_count": null,
      "_view_module": "@jupyter-widgets/base",
      "_view_module_version": "1.2.0",
      "_view_name": "LayoutView",
      "align_content": null,
      "align_items": null,
      "align_self": null,
      "border": null,
      "bottom": null,
      "display": null,
      "flex": null,
      "flex_flow": null,
      "grid_area": null,
      "grid_auto_columns": null,
      "grid_auto_flow": null,
      "grid_auto_rows": null,
      "grid_column": null,
      "grid_gap": null,
      "grid_row": null,
      "grid_template_areas": null,
      "grid_template_columns": null,
      "grid_template_rows": null,
      "height": "28px",
      "justify_content": null,
      "justify_items": null,
      "left": null,
      "margin": null,
      "max_height": null,
      "max_width": null,
      "min_height": null,
      "min_width": null,
      "object_fit": null,
      "object_position": null,
      "order": null,
      "overflow": null,
      "overflow_x": null,
      "overflow_y": null,
      "padding": "0px 0px 0px 4px",
      "right": null,
      "top": null,
      "visibility": null,
      "width": "28px"
     }
    },
    "f3764076cdc24ea6b32100b008adf73c": {
     "model_module": "jupyter-leaflet",
     "model_module_version": "^0.18",
     "model_name": "LeafletTileLayerModel",
     "state": {
      "_model_module": "jupyter-leaflet",
      "_model_module_version": "^0.18",
      "_model_name": "LeafletTileLayerModel",
      "_view_count": null,
      "_view_module": "jupyter-leaflet",
      "_view_module_version": "^0.18",
      "_view_name": "LeafletTileLayerView",
      "attribution": "&copy; <a href=\"https://www.openstreetmap.org/copyright\">OpenStreetMap</a> contributors",
      "base": true,
      "bottom": true,
      "bounds": null,
      "detect_retina": false,
      "loading": false,
      "max_native_zoom": null,
      "max_zoom": 19,
      "min_native_zoom": null,
      "min_zoom": 1,
      "name": "OpenStreetMap.Mapnik",
      "no_wrap": false,
      "opacity": 1,
      "options": [
       "attribution",
       "bounds",
       "detect_retina",
       "max_native_zoom",
       "max_zoom",
       "min_native_zoom",
       "min_zoom",
       "no_wrap",
       "tile_size",
       "tms",
       "zoom_offset"
      ],
      "pane": "",
      "popup": null,
      "popup_max_height": null,
      "popup_max_width": 300,
      "popup_min_width": 50,
      "show_loading": false,
      "subitems": [],
      "tile_size": 256,
      "tms": false,
      "url": "https://tile.openstreetmap.org/{z}/{x}/{y}.png",
      "visible": true,
      "zoom_offset": 0
     }
    },
    "f429e348e79746da857c04d60e5d19a8": {
     "model_module": "jupyter-leaflet",
     "model_module_version": "^0.18",
     "model_name": "LeafletMeasureControlModel",
     "state": {
      "_custom_units": {},
      "_model_module": "jupyter-leaflet",
      "_model_module_version": "^0.18",
      "_model_name": "LeafletMeasureControlModel",
      "_view_count": null,
      "_view_module": "jupyter-leaflet",
      "_view_module_version": "^0.18",
      "_view_name": "LeafletMeasureControlView",
      "active_color": "orange",
      "capture_z_index": 10000,
      "completed_color": "#C8F2BE",
      "options": [
       "active_color",
       "capture_z_index",
       "completed_color",
       "popup_options",
       "position",
       "primary_area_unit",
       "primary_length_unit",
       "secondary_area_unit",
       "secondary_length_unit"
      ],
      "popup_options": {
       "autoPanPadding": [
        10,
        10
       ],
       "className": "leaflet-measure-resultpopup"
      },
      "position": "bottomleft",
      "primary_area_unit": "acres",
      "primary_length_unit": "kilometers",
      "secondary_area_unit": null,
      "secondary_length_unit": null
     }
    },
    "f4658009c55d438eb267122acc738687": {
     "model_module": "@jupyter-widgets/controls",
     "model_module_version": "1.5.0",
     "model_name": "DescriptionStyleModel",
     "state": {
      "_model_module": "@jupyter-widgets/controls",
      "_model_module_version": "1.5.0",
      "_model_name": "DescriptionStyleModel",
      "_view_count": null,
      "_view_module": "@jupyter-widgets/base",
      "_view_module_version": "1.2.0",
      "_view_name": "StyleView",
      "description_width": ""
     }
    },
    "f524691cf4ae48968516d5e679de0b18": {
     "model_module": "@jupyter-widgets/controls",
     "model_module_version": "1.5.0",
     "model_name": "DescriptionStyleModel",
     "state": {
      "_model_module": "@jupyter-widgets/controls",
      "_model_module_version": "1.5.0",
      "_model_name": "DescriptionStyleModel",
      "_view_count": null,
      "_view_module": "@jupyter-widgets/base",
      "_view_module_version": "1.2.0",
      "_view_name": "StyleView",
      "description_width": ""
     }
    },
    "f54f2d873476409d90255801ebce766d": {
     "model_module": "jupyter-leaflet",
     "model_module_version": "^0.18",
     "model_name": "LeafletMeasureControlModel",
     "state": {
      "_custom_units": {},
      "_model_module": "jupyter-leaflet",
      "_model_module_version": "^0.18",
      "_model_name": "LeafletMeasureControlModel",
      "_view_count": null,
      "_view_module": "jupyter-leaflet",
      "_view_module_version": "^0.18",
      "_view_name": "LeafletMeasureControlView",
      "active_color": "orange",
      "capture_z_index": 10000,
      "completed_color": "#C8F2BE",
      "options": [
       "active_color",
       "capture_z_index",
       "completed_color",
       "popup_options",
       "position",
       "primary_area_unit",
       "primary_length_unit",
       "secondary_area_unit",
       "secondary_length_unit"
      ],
      "popup_options": {
       "autoPanPadding": [
        10,
        10
       ],
       "className": "leaflet-measure-resultpopup"
      },
      "position": "bottomleft",
      "primary_area_unit": "acres",
      "primary_length_unit": "kilometers",
      "secondary_area_unit": null,
      "secondary_length_unit": null
     }
    },
    "f6fd16d11d054817a515a4111270bf6b": {
     "model_module": "jupyter-leaflet",
     "model_module_version": "^0.18",
     "model_name": "LeafletWidgetControlModel",
     "state": {
      "_model_module": "jupyter-leaflet",
      "_model_module_version": "^0.18",
      "_model_name": "LeafletWidgetControlModel",
      "_view_count": null,
      "_view_module": "jupyter-leaflet",
      "_view_module_version": "^0.18",
      "_view_name": "LeafletWidgetControlView",
      "max_height": null,
      "max_width": null,
      "min_height": null,
      "min_width": null,
      "options": [
       "position",
       "transparent_bg"
      ],
      "position": "topright",
      "transparent_bg": false,
      "widget": "IPY_MODEL_d8b7ed59815c42429914703a0da072fc"
     }
    },
    "f7083db33a0146739536a6dd7e799f76": {
     "model_module": "jupyter-leaflet",
     "model_module_version": "^0.18",
     "model_name": "LeafletScaleControlModel",
     "state": {
      "_model_module": "jupyter-leaflet",
      "_model_module_version": "^0.18",
      "_model_name": "LeafletScaleControlModel",
      "_view_count": null,
      "_view_module": "jupyter-leaflet",
      "_view_module_version": "^0.18",
      "_view_name": "LeafletScaleControlView",
      "imperial": true,
      "max_width": 100,
      "metric": true,
      "options": [
       "imperial",
       "max_width",
       "metric",
       "position",
       "update_when_idle"
      ],
      "position": "bottomleft",
      "update_when_idle": false
     }
    },
    "f73eccbc694c4d46a5dd0a1ea68fd639": {
     "model_module": "jupyter-leaflet",
     "model_module_version": "^0.18",
     "model_name": "LeafletTileLayerModel",
     "state": {
      "_model_module": "jupyter-leaflet",
      "_model_module_version": "^0.18",
      "_model_name": "LeafletTileLayerModel",
      "_view_count": null,
      "_view_module": "jupyter-leaflet",
      "_view_module_version": "^0.18",
      "_view_name": "LeafletTileLayerView",
      "attribution": "Google Earth Engine",
      "base": false,
      "bottom": true,
      "bounds": null,
      "detect_retina": false,
      "loading": false,
      "max_native_zoom": null,
      "max_zoom": 24,
      "min_native_zoom": null,
      "min_zoom": 0,
      "name": "S1_VV_summer_Filtered",
      "no_wrap": false,
      "opacity": 1,
      "options": [
       "attribution",
       "bounds",
       "detect_retina",
       "max_native_zoom",
       "max_zoom",
       "min_native_zoom",
       "min_zoom",
       "no_wrap",
       "tile_size",
       "tms",
       "zoom_offset"
      ],
      "pane": "",
      "popup": null,
      "popup_max_height": null,
      "popup_max_width": 300,
      "popup_min_width": 50,
      "show_loading": false,
      "subitems": [],
      "tile_size": 256,
      "tms": false,
      "url": "https://earthengine.googleapis.com/v1/projects/ee-koreenmillard/maps/09705c90e91b3908dc7e328c3f2f1ad4-1499b87a8f9949997268ae38e3e538f6/tiles/{z}/{x}/{y}",
      "visible": true,
      "zoom_offset": 0
     }
    },
    "f7c71e8e94aa4203899753af8cde3382": {
     "model_module": "jupyter-leaflet",
     "model_module_version": "^0.18",
     "model_name": "LeafletMapStyleModel",
     "state": {
      "_model_module": "jupyter-leaflet",
      "_model_module_version": "^0.18",
      "_model_name": "LeafletMapStyleModel",
      "_view_count": null,
      "_view_module": "@jupyter-widgets/base",
      "_view_module_version": "1.2.0",
      "_view_name": "StyleView",
      "cursor": "move"
     }
    },
    "f9bfddb7e11f474aa1649e4e14818af2": {
     "model_module": "jupyter-leaflet",
     "model_module_version": "^0.18",
     "model_name": "LeafletScaleControlModel",
     "state": {
      "_model_module": "jupyter-leaflet",
      "_model_module_version": "^0.18",
      "_model_name": "LeafletScaleControlModel",
      "_view_count": null,
      "_view_module": "jupyter-leaflet",
      "_view_module_version": "^0.18",
      "_view_name": "LeafletScaleControlView",
      "imperial": true,
      "max_width": 100,
      "metric": true,
      "options": [
       "imperial",
       "max_width",
       "metric",
       "position",
       "update_when_idle"
      ],
      "position": "bottomleft",
      "update_when_idle": false
     }
    },
    "faaf87a5b84b41eca56aff6073d6f0a1": {
     "model_module": "jupyter-leaflet",
     "model_module_version": "^0.18",
     "model_name": "LeafletZoomControlModel",
     "state": {
      "_model_module": "jupyter-leaflet",
      "_model_module_version": "^0.18",
      "_model_name": "LeafletZoomControlModel",
      "_view_count": null,
      "_view_module": "jupyter-leaflet",
      "_view_module_version": "^0.18",
      "_view_name": "LeafletZoomControlView",
      "options": [
       "position",
       "zoom_in_text",
       "zoom_in_title",
       "zoom_out_text",
       "zoom_out_title"
      ],
      "position": "topleft",
      "zoom_in_text": "+",
      "zoom_in_title": "Zoom in",
      "zoom_out_text": "-",
      "zoom_out_title": "Zoom out"
     }
    },
    "fb87ecc1669f4710848ad24f712e1b12": {
     "model_module": "jupyter-leaflet",
     "model_module_version": "^0.18",
     "model_name": "LeafletMapStyleModel",
     "state": {
      "_model_module": "jupyter-leaflet",
      "_model_module_version": "^0.18",
      "_model_name": "LeafletMapStyleModel",
      "_view_count": null,
      "_view_module": "@jupyter-widgets/base",
      "_view_module_version": "1.2.0",
      "_view_name": "StyleView",
      "cursor": "grab"
     }
    },
    "fc4a8b3dec474103b3b73946ec4d8c23": {
     "model_module": "@jupyter-widgets/base",
     "model_module_version": "1.2.0",
     "model_name": "LayoutModel",
     "state": {
      "_model_module": "@jupyter-widgets/base",
      "_model_module_version": "1.2.0",
      "_model_name": "LayoutModel",
      "_view_count": null,
      "_view_module": "@jupyter-widgets/base",
      "_view_module_version": "1.2.0",
      "_view_name": "LayoutView",
      "align_content": null,
      "align_items": null,
      "align_self": null,
      "border": null,
      "bottom": null,
      "display": null,
      "flex": null,
      "flex_flow": null,
      "grid_area": null,
      "grid_auto_columns": null,
      "grid_auto_flow": null,
      "grid_auto_rows": null,
      "grid_column": null,
      "grid_gap": null,
      "grid_row": null,
      "grid_template_areas": null,
      "grid_template_columns": null,
      "grid_template_rows": null,
      "height": "28px",
      "justify_content": null,
      "justify_items": null,
      "left": null,
      "margin": null,
      "max_height": null,
      "max_width": null,
      "min_height": null,
      "min_width": null,
      "object_fit": null,
      "object_position": null,
      "order": null,
      "overflow": null,
      "overflow_x": null,
      "overflow_y": null,
      "padding": "0px 0px 0px 4px",
      "right": null,
      "top": null,
      "visibility": null,
      "width": "28px"
     }
    },
    "fdad499bdb8f4ed483cfb789bf428745": {
     "model_module": "@jupyter-widgets/controls",
     "model_module_version": "1.5.0",
     "model_name": "ToggleButtonModel",
     "state": {
      "_dom_classes": [],
      "_model_module": "@jupyter-widgets/controls",
      "_model_module_version": "1.5.0",
      "_model_name": "ToggleButtonModel",
      "_view_count": null,
      "_view_module": "@jupyter-widgets/controls",
      "_view_module_version": "1.5.0",
      "_view_name": "ToggleButtonView",
      "button_style": "",
      "description": "",
      "description_tooltip": null,
      "disabled": false,
      "icon": "wrench",
      "layout": "IPY_MODEL_97edea645b1d4e67ad4f10f83b11b72f",
      "style": "IPY_MODEL_dfd91a53325947b5a6d51d756a5be804",
      "tooltip": "Toolbar",
      "value": false
     }
    },
    "fef5c276e3f849529f1c1ce36499302a": {
     "model_module": "jupyter-leaflet",
     "model_module_version": "^0.18",
     "model_name": "LeafletAttributionControlModel",
     "state": {
      "_model_module": "jupyter-leaflet",
      "_model_module_version": "^0.18",
      "_model_name": "LeafletAttributionControlModel",
      "_view_count": null,
      "_view_module": "jupyter-leaflet",
      "_view_module_version": "^0.18",
      "_view_name": "LeafletAttributionControlView",
      "options": [
       "position",
       "prefix"
      ],
      "position": "bottomright",
      "prefix": "ipyleaflet"
     }
    }
   }
  }
 },
 "nbformat": 4,
 "nbformat_minor": 4
}
