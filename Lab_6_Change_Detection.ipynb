{
 "cells": [
  {
   "cell_type": "markdown",
   "metadata": {
    "id": "wABVoW_j-Uty"
   },
   "source": [
    "# Change Detection"
   ]
  },
  {
   "cell_type": "markdown",
   "metadata": {
    "id": "BT0GAcvUlKUE"
   },
   "source": [
    "## Introduction\n",
    "\n",
    "Detecting change in the environment is one of the most basic and important activities scientists can pursure.\n",
    "\n",
    "Doing this sort of work in the field can be costly and challenging, particularly in remote areas because it requires repeat visits. With climate change especially, we can see that changes can occur at rapid rates and on spatial scales that exceed our ability to keep up with field observations.\n",
    "\n",
    "Remote sensing can save a lot of time and money in tackling these problems of detecting environmental change.\n",
    "\n"
   ]
  },
  {
   "cell_type": "markdown",
   "metadata": {
    "id": "X9HWYkUBJmEb"
   },
   "source": [
    "## Imports, Authentication & Initialization"
   ]
  },
  {
   "cell_type": "code",
   "execution_count": 1,
   "metadata": {
    "id": "P9SRteb4CHh9"
   },
   "outputs": [],
   "source": [
    "# Import the necessary libraries\n",
    "import ee\n",
    "import numpy as np\n",
    "import geemap\n",
    "import datetime\n",
    "from datetime import date\n",
    "import ltgee\n",
    "from ltgee import LandTrendr, LandsatComposite, LtCollection\n",
    "import geopandas\n",
    "import pandas\n",
    "\n",
    "from scipy.stats import norm, gamma, f, chi2"
   ]
  },
  {
   "cell_type": "code",
   "execution_count": 2,
   "metadata": {
    "colab": {
     "base_uri": "https://localhost:8080/",
     "height": 17
    },
    "id": "RN85uzF7CINV",
    "outputId": "038772a4-9b96-451a-eb39-1b430f164da3"
   },
   "outputs": [
    {
     "data": {
      "text/html": [
       "\n",
       "            <style>\n",
       "                .geemap-dark {\n",
       "                    --jp-widgets-color: white;\n",
       "                    --jp-widgets-label-color: white;\n",
       "                    --jp-ui-font-color1: white;\n",
       "                    --jp-layout-color2: #454545;\n",
       "                    background-color: #383838;\n",
       "                }\n",
       "\n",
       "                .geemap-dark .jupyter-button {\n",
       "                    --jp-layout-color3: #383838;\n",
       "                }\n",
       "\n",
       "                .geemap-colab {\n",
       "                    background-color: var(--colab-primary-surface-color, white);\n",
       "                }\n",
       "\n",
       "                .geemap-colab .jupyter-button {\n",
       "                    --jp-layout-color3: var(--colab-primary-surface-color, white);\n",
       "                }\n",
       "            </style>\n",
       "            "
      ],
      "text/plain": [
       "<IPython.core.display.HTML object>"
      ]
     },
     "metadata": {},
     "output_type": "display_data"
    }
   ],
   "source": [
    "# Authenticate and initialize this instance of GEE in Google Colab\n",
    "## Follow the prompts and fill in authentication code\n",
    "ee.Authenticate()\n",
    "ee.Initialize(project = 'ee-cptcitrus-main')"
   ]
  },
  {
   "cell_type": "markdown",
   "metadata": {
    "id": "EH8u3jmlF_de"
   },
   "source": [
    "## Fort McMurray Wildfires\n",
    "\n",
    "Remote sensing has a long history of monitoring wildfires. There are a couple of indices that can help us to interpret wildfire spread, vulnerability, and impact, and a number of existing data products that can help in assessing wildfires.\n",
    "\n",
    "The Horse River wildfire which devestated Fort McMurray, Alberta occured over the summer of 2016, forcing the evacuation of more than 80,000 people from their homes. The fire was not fully extingushed until more than a year later after it burned nearly 6000 square kilometres. The fire caused over 3 billion dollars in damage. ([CBC News Article](https://newsinteractives.cbc.ca/longform/fort-mcmurray-five-years-on-from-disaster))\n",
    "\n",
    "Disasters such as this (widespread and long term) can warrant the use of remote sensing to observe the environmental impact."
   ]
  },
  {
   "cell_type": "markdown",
   "metadata": {
    "id": "Piql9TL2l7Aj"
   },
   "source": [
    "### MODIS Burned Area Dataset\n",
    "\n",
    "We can use pre-existing datasets to visualize wildfires. The MODIS Burned Area data product is a monthly, global gridded 500m product containing per-pixel burned-area and quality information. Each pixel in the primary BurnDate band contains the day of the year (0 to 366) on which the burn occurred.\n",
    "\n",
    "This data product is created using MODIS surface reflectance data (250m resolution) coupled with the MODIS Active Fire data product (1km resolution). The combination of these datasets means the algorithm is adaptive to regional burn conditions and is therefore suitable for many environments. Updates to the process have resulted in improved detection of small fires, and expansion of the product to cover water bodies to capture offshore fires."
   ]
  },
  {
   "cell_type": "markdown",
   "metadata": {
    "id": "2WxZCWDZEB_5"
   },
   "source": [
    "### Burn Extent\n",
    "\n",
    "First, we are going to look at the burn extent of the Fort McMurrary fires using the MODIS Burned Area dataset."
   ]
  },
  {
   "cell_type": "code",
   "execution_count": 3,
   "metadata": {
    "id": "O7cz3wm6mHYx"
   },
   "outputs": [
    {
     "data": {
      "text/html": [
       "\n",
       "            <style>\n",
       "                .geemap-dark {\n",
       "                    --jp-widgets-color: white;\n",
       "                    --jp-widgets-label-color: white;\n",
       "                    --jp-ui-font-color1: white;\n",
       "                    --jp-layout-color2: #454545;\n",
       "                    background-color: #383838;\n",
       "                }\n",
       "\n",
       "                .geemap-dark .jupyter-button {\n",
       "                    --jp-layout-color3: #383838;\n",
       "                }\n",
       "\n",
       "                .geemap-colab {\n",
       "                    background-color: var(--colab-primary-surface-color, white);\n",
       "                }\n",
       "\n",
       "                .geemap-colab .jupyter-button {\n",
       "                    --jp-layout-color3: var(--colab-primary-surface-color, white);\n",
       "                }\n",
       "            </style>\n",
       "            "
      ],
      "text/plain": [
       "<IPython.core.display.HTML object>"
      ]
     },
     "metadata": {},
     "output_type": "display_data"
    }
   ],
   "source": [
    "# First we need to load the MODIS Burned Area Monthly Global 500m dataset\n",
    "dataset = ee.ImageCollection('MODIS/061/MCD64A1')\\\n",
    "                  .filter(ee.Filter.date('2016-01-01', '2016-12-31'))\n",
    "\n",
    "# Select the burndate band which has values from 0 to 366 (day of the year)\n",
    "burnedArea = dataset.select('BurnDate')\n",
    "\n",
    "# Colour the dataset from day 120 (April 29) and day 182 (June 30)\n",
    "# These dates encompass the height of the Fort McMurray wildfire\n",
    "burnedAreaVis = {'min': 120,'max': 182,'palette': ['orange', 'purple']}"
   ]
  },
  {
   "cell_type": "code",
   "execution_count": 4,
   "metadata": {
    "id": "4Mj7w2lK-KCo"
   },
   "outputs": [
    {
     "data": {
      "text/html": [
       "\n",
       "            <style>\n",
       "                .geemap-dark {\n",
       "                    --jp-widgets-color: white;\n",
       "                    --jp-widgets-label-color: white;\n",
       "                    --jp-ui-font-color1: white;\n",
       "                    --jp-layout-color2: #454545;\n",
       "                    background-color: #383838;\n",
       "                }\n",
       "\n",
       "                .geemap-dark .jupyter-button {\n",
       "                    --jp-layout-color3: #383838;\n",
       "                }\n",
       "\n",
       "                .geemap-colab {\n",
       "                    background-color: var(--colab-primary-surface-color, white);\n",
       "                }\n",
       "\n",
       "                .geemap-colab .jupyter-button {\n",
       "                    --jp-layout-color3: var(--colab-primary-surface-color, white);\n",
       "                }\n",
       "            </style>\n",
       "            "
      ],
      "text/plain": [
       "<IPython.core.display.HTML object>"
      ]
     },
     "metadata": {},
     "output_type": "display_data"
    },
    {
     "data": {
      "application/vnd.jupyter.widget-view+json": {
       "model_id": "2172cae6559645c0976b40a67881d68f",
       "version_major": 2,
       "version_minor": 0
      },
      "text/plain": [
       "Map(center=[56.8, -111.37], controls=(WidgetControl(options=['position', 'transparent_bg'], widget=SearchDataG…"
      ]
     },
     "execution_count": 4,
     "metadata": {},
     "output_type": "execute_result"
    }
   ],
   "source": [
    "# Create map object\n",
    "Map = geemap.Map()\n",
    "\n",
    "# Set center on Fort McMurray, Alberta\n",
    "Map.setCenter(-111.37,56.80, 8)\n",
    "\n",
    "# Add the burned area layer and call for map\n",
    "Map.addLayer(burnedArea, burnedAreaVis, 'Burned Area 2016')\n",
    "Map"
   ]
  },
  {
   "cell_type": "markdown",
   "metadata": {
    "id": "T-Op-So_ENhm"
   },
   "source": [
    "Note that the map above tells us absolutely nothing about the burn intensity - just the timing and location of the burn. The palette goes from orange (earlier DOY) to purple (later DOY).\n",
    "\n",
    "Try playing with the visualization min/max and zooming out to look at other regions and where and when burns happen. Try also filtering the MODIS data for other years to see how the patterns change (or don't) across the world.\n",
    "\n",
    "To get more detailed information about the impact of a fire, we can look at burn intensity using indices like NBR."
   ]
  },
  {
   "cell_type": "markdown",
   "metadata": {
    "id": "yDTKxUSGmHI6"
   },
   "source": [
    "### Burn Severity\n",
    "\n",
    "We're going use the MODIS Burned Area dataset to examine the burn severity at Fort McMurray, Alberta in the period before the 2016 wildfires and a period following.\n",
    "\n",
    "Burn severity is a measure of how fire affects the functioning of the ecosystem in the area that has been burnt, or the degree to which an area is affected by burn.\n",
    "\n",
    "An index which captures burn severity is the Normaized Burn Ratio (NBR). NBR is used to identify burned areas and provide a measure of severity. It is a ratio between the NIR and SWIR bands.\n",
    "\n",
    "The code for this section was adapted from the United Nations Platform for Space-based Information for Disaster Management and Emergency Response (UN-SPIDER) burn processing procedure."
   ]
  },
  {
   "cell_type": "code",
   "execution_count": 5,
   "metadata": {
    "id": "58rnIleWEMLY"
   },
   "outputs": [
    {
     "data": {
      "text/html": [
       "\n",
       "            <style>\n",
       "                .geemap-dark {\n",
       "                    --jp-widgets-color: white;\n",
       "                    --jp-widgets-label-color: white;\n",
       "                    --jp-ui-font-color1: white;\n",
       "                    --jp-layout-color2: #454545;\n",
       "                    background-color: #383838;\n",
       "                }\n",
       "\n",
       "                .geemap-dark .jupyter-button {\n",
       "                    --jp-layout-color3: #383838;\n",
       "                }\n",
       "\n",
       "                .geemap-colab {\n",
       "                    background-color: var(--colab-primary-surface-color, white);\n",
       "                }\n",
       "\n",
       "                .geemap-colab .jupyter-button {\n",
       "                    --jp-layout-color3: var(--colab-primary-surface-color, white);\n",
       "                }\n",
       "            </style>\n",
       "            "
      ],
      "text/plain": [
       "<IPython.core.display.HTML object>"
      ]
     },
     "metadata": {},
     "output_type": "display_data"
    }
   ],
   "source": [
    "# Cloud masking function for L8\n",
    "\n",
    "def cloudMaskL8(image):\n",
    "  # Bits 3 and 5 are cloud shadow and cloud, respectively.\n",
    "  cloudShadowBitMask = 1 << 3 #select the cloud shadow bit location\n",
    "  cloudsBitMask = 1 << 5 # select the cloud bit location\n",
    "  # Get the pixel QA band.\n",
    "  qa = image.select('QA_PIXEL')\n",
    "  # Both flags should be set to zero, indicating clear conditions.\n",
    "  # this only keeps pixels were both the cloud and cloud shadow bits are set to 0\n",
    "  mask = qa.bitwiseAnd(cloudShadowBitMask).eq(0) \\\n",
    "      .And(qa.bitwiseAnd(cloudsBitMask).eq(0))\n",
    "  # Return the masked image, not scaled to reflectance, with the QA bands.\n",
    "  return image.updateMask(mask)\n",
    "\n",
    "#Function to apply scale factors\n",
    "def apply_scale_factors(image):\n",
    "  optical_bands = image.select('SR_B.').multiply(0.0000275).add(-0.2)\n",
    "  thermal_bands = image.select('ST_B.*').multiply(0.00341802).add(149.0)\n",
    "  return image.addBands(optical_bands, None, True).addBands(\n",
    "      thermal_bands, None, True\n",
    "  )\n"
   ]
  },
  {
   "cell_type": "markdown",
   "metadata": {
    "id": "5uncSbWbHISK"
   },
   "source": [
    "#### Get Imagery and Create Mosaics"
   ]
  },
  {
   "cell_type": "code",
   "execution_count": 6,
   "metadata": {
    "id": "zVmcx8q8EUoh"
   },
   "outputs": [
    {
     "data": {
      "text/html": [
       "\n",
       "            <style>\n",
       "                .geemap-dark {\n",
       "                    --jp-widgets-color: white;\n",
       "                    --jp-widgets-label-color: white;\n",
       "                    --jp-ui-font-color1: white;\n",
       "                    --jp-layout-color2: #454545;\n",
       "                    background-color: #383838;\n",
       "                }\n",
       "\n",
       "                .geemap-dark .jupyter-button {\n",
       "                    --jp-layout-color3: #383838;\n",
       "                }\n",
       "\n",
       "                .geemap-colab {\n",
       "                    background-color: var(--colab-primary-surface-color, white);\n",
       "                }\n",
       "\n",
       "                .geemap-colab .jupyter-button {\n",
       "                    --jp-layout-color3: var(--colab-primary-surface-color, white);\n",
       "                }\n",
       "            </style>\n",
       "            "
      ],
      "text/plain": [
       "<IPython.core.display.HTML object>"
      ]
     },
     "metadata": {},
     "output_type": "display_data"
    }
   ],
   "source": [
    "# Set up imagery collections\n",
    "# Set timeframes for before and after the Fort McMurray Fires\n",
    "prefire_start = '2015-06-01'\n",
    "prefire_end = '2015-06-30'\n",
    "\n",
    "postfire_start = '2016-06-01'\n",
    "postfire_end = '2016-06-30'\n",
    "\n",
    "\n",
    "# Set area around Fort McMurray\n",
    "geometry = ee.Geometry.Polygon([[-112.29,56.14],[-109.82,56.14],[-109.82,57.14],[-112.29,57.14]])\n",
    "area = ee.FeatureCollection(geometry)\n",
    "\n",
    "# Set imagery collection\n",
    "prefireImCol = ee.ImageCollection('LANDSAT/LC08/C02/T1_L2')\\\n",
    "                        .filterDate(prefire_start, prefire_end)\\\n",
    "                        .map(apply_scale_factors)\\\n",
    "                        .filterBounds(area)\\\n",
    "                        .map(cloudMaskL8)\n",
    "\n",
    "postfireImCol = ee.ImageCollection('LANDSAT/LC08/C02/T1_L2')\\\n",
    "                        .filterDate(postfire_start, postfire_end)\\\n",
    "                        .map(apply_scale_factors) \\\n",
    "                        .filterBounds(area)\\\n",
    "                        .map(cloudMaskL8)"
   ]
  },
  {
   "cell_type": "code",
   "execution_count": 7,
   "metadata": {
    "id": "kChTBV6zEW9a"
   },
   "outputs": [
    {
     "data": {
      "text/html": [
       "\n",
       "            <style>\n",
       "                .geemap-dark {\n",
       "                    --jp-widgets-color: white;\n",
       "                    --jp-widgets-label-color: white;\n",
       "                    --jp-ui-font-color1: white;\n",
       "                    --jp-layout-color2: #454545;\n",
       "                    background-color: #383838;\n",
       "                }\n",
       "\n",
       "                .geemap-dark .jupyter-button {\n",
       "                    --jp-layout-color3: #383838;\n",
       "                }\n",
       "\n",
       "                .geemap-colab {\n",
       "                    background-color: var(--colab-primary-surface-color, white);\n",
       "                }\n",
       "\n",
       "                .geemap-colab .jupyter-button {\n",
       "                    --jp-layout-color3: var(--colab-primary-surface-color, white);\n",
       "                }\n",
       "            </style>\n",
       "            "
      ],
      "text/plain": [
       "<IPython.core.display.HTML object>"
      ]
     },
     "metadata": {},
     "output_type": "display_data"
    }
   ],
   "source": [
    "# Create composite mosaics from pre and post time periods\n",
    "pre_mos = prefireImCol.median().clip(area)\n",
    "post_mos = postfireImCol.median().clip(area)"
   ]
  },
  {
   "cell_type": "markdown",
   "metadata": {
    "id": "etm1Rsg-HBbU"
   },
   "source": [
    "#### Calculating the NBR"
   ]
  },
  {
   "cell_type": "code",
   "execution_count": 8,
   "metadata": {
    "id": "O8I6LSwoHEDA"
   },
   "outputs": [
    {
     "data": {
      "text/html": [
       "\n",
       "            <style>\n",
       "                .geemap-dark {\n",
       "                    --jp-widgets-color: white;\n",
       "                    --jp-widgets-label-color: white;\n",
       "                    --jp-ui-font-color1: white;\n",
       "                    --jp-layout-color2: #454545;\n",
       "                    background-color: #383838;\n",
       "                }\n",
       "\n",
       "                .geemap-dark .jupyter-button {\n",
       "                    --jp-layout-color3: #383838;\n",
       "                }\n",
       "\n",
       "                .geemap-colab {\n",
       "                    background-color: var(--colab-primary-surface-color, white);\n",
       "                }\n",
       "\n",
       "                .geemap-colab .jupyter-button {\n",
       "                    --jp-layout-color3: var(--colab-primary-surface-color, white);\n",
       "                }\n",
       "            </style>\n",
       "            "
      ],
      "text/plain": [
       "<IPython.core.display.HTML object>"
      ]
     },
     "metadata": {},
     "output_type": "display_data"
    }
   ],
   "source": [
    "# Calculate NBR\n",
    "preNBR = pre_mos.normalizedDifference(['SR_B5', 'SR_B7'])\n",
    "postNBR = post_mos.normalizedDifference(['SR_B5', 'SR_B7'])"
   ]
  },
  {
   "cell_type": "code",
   "execution_count": 9,
   "metadata": {
    "id": "5XsvWQLyGQKP"
   },
   "outputs": [
    {
     "data": {
      "text/html": [
       "\n",
       "            <style>\n",
       "                .geemap-dark {\n",
       "                    --jp-widgets-color: white;\n",
       "                    --jp-widgets-label-color: white;\n",
       "                    --jp-ui-font-color1: white;\n",
       "                    --jp-layout-color2: #454545;\n",
       "                    background-color: #383838;\n",
       "                }\n",
       "\n",
       "                .geemap-dark .jupyter-button {\n",
       "                    --jp-layout-color3: #383838;\n",
       "                }\n",
       "\n",
       "                .geemap-colab {\n",
       "                    background-color: var(--colab-primary-surface-color, white);\n",
       "                }\n",
       "\n",
       "                .geemap-colab .jupyter-button {\n",
       "                    --jp-layout-color3: var(--colab-primary-surface-color, white);\n",
       "                }\n",
       "            </style>\n",
       "            "
      ],
      "text/plain": [
       "<IPython.core.display.HTML object>"
      ]
     },
     "metadata": {},
     "output_type": "display_data"
    },
    {
     "data": {
      "application/vnd.jupyter.widget-view+json": {
       "model_id": "89307e9af96e4bb990f0b9e473d3e691",
       "version_major": 2,
       "version_minor": 0
      },
      "text/plain": [
       "Map(center=[56.64390364033026, -111.05499999999995], controls=(WidgetControl(options=['position', 'transparent…"
      ]
     },
     "execution_count": 9,
     "metadata": {},
     "output_type": "execute_result"
    }
   ],
   "source": [
    "# Let's plot our pre and post NBR images\n",
    "# Set up map and visualization parameters\n",
    "Map = geemap.Map()\n",
    "\n",
    "L8vis = {'bands': ['SR_B4', 'SR_B3', 'SR_B2'], 'min': 0, 'max': 0.8, 'gamma': 2}\n",
    "greyscale = ['white','black']\n",
    "\n",
    "## Add layers to map\n",
    "Map.addLayer(pre_mos, L8vis,'Pre-fire True Color Image - Clouds masked')\n",
    "Map.addLayer(post_mos, L8vis,'Post-fire True Color Image - Clouds masked')\n",
    "\n",
    "Map.addLayer(preNBR, {'min': -1, 'max': 1, 'palette': greyscale}, 'Prefire Normalized Burn Ratio');\n",
    "Map.addLayer(postNBR, {'min': -1, 'max': 1, 'palette': greyscale}, 'Postfire Normalized Burn Ratio');\n",
    "\n",
    "# Set map parameters and load map\n",
    "Map.centerObject(area,9)\n",
    "Map.addLayerControl()\n",
    "Map"
   ]
  },
  {
   "cell_type": "markdown",
   "metadata": {
    "id": "7zMJcca6HAOG"
   },
   "source": [
    "Flip between the pre and post NBR layers and the pre and post image mosaics. What differences do you notice?"
   ]
  },
  {
   "cell_type": "markdown",
   "metadata": {
    "id": "IOgLh2PEGY4j"
   },
   "source": [
    "#### Calculating the dNBR\n",
    "\n",
    "Next we're going to calculate delta NBR (dNBR) which is the difference between the pre-fire NBR and the post-fire NBR images we created earlier. This will produce a classification where the amount of change represents the burn severity."
   ]
  },
  {
   "cell_type": "code",
   "execution_count": 10,
   "metadata": {
    "id": "7sBT3sxqGW1q"
   },
   "outputs": [
    {
     "data": {
      "text/html": [
       "\n",
       "            <style>\n",
       "                .geemap-dark {\n",
       "                    --jp-widgets-color: white;\n",
       "                    --jp-widgets-label-color: white;\n",
       "                    --jp-ui-font-color1: white;\n",
       "                    --jp-layout-color2: #454545;\n",
       "                    background-color: #383838;\n",
       "                }\n",
       "\n",
       "                .geemap-dark .jupyter-button {\n",
       "                    --jp-layout-color3: #383838;\n",
       "                }\n",
       "\n",
       "                .geemap-colab {\n",
       "                    background-color: var(--colab-primary-surface-color, white);\n",
       "                }\n",
       "\n",
       "                .geemap-colab .jupyter-button {\n",
       "                    --jp-layout-color3: var(--colab-primary-surface-color, white);\n",
       "                }\n",
       "            </style>\n",
       "            "
      ],
      "text/plain": [
       "<IPython.core.display.HTML object>"
      ]
     },
     "metadata": {},
     "output_type": "display_data"
    }
   ],
   "source": [
    "# Calculate dNBR (delta NBR) by subtracting the post-burn from the pre-burn values\n",
    "dNBR_unscaled = preNBR.subtract(postNBR)\n",
    "dNBR = dNBR_unscaled.multiply(1000) # Scale by 1000 to USGS standards"
   ]
  },
  {
   "cell_type": "code",
   "execution_count": 11,
   "metadata": {
    "id": "phl25awEEYOL"
   },
   "outputs": [
    {
     "data": {
      "text/html": [
       "\n",
       "            <style>\n",
       "                .geemap-dark {\n",
       "                    --jp-widgets-color: white;\n",
       "                    --jp-widgets-label-color: white;\n",
       "                    --jp-ui-font-color1: white;\n",
       "                    --jp-layout-color2: #454545;\n",
       "                    background-color: #383838;\n",
       "                }\n",
       "\n",
       "                .geemap-dark .jupyter-button {\n",
       "                    --jp-layout-color3: #383838;\n",
       "                }\n",
       "\n",
       "                .geemap-colab {\n",
       "                    background-color: var(--colab-primary-surface-color, white);\n",
       "                }\n",
       "\n",
       "                .geemap-colab .jupyter-button {\n",
       "                    --jp-layout-color3: var(--colab-primary-surface-color, white);\n",
       "                }\n",
       "            </style>\n",
       "            "
      ],
      "text/plain": [
       "<IPython.core.display.HTML object>"
      ]
     },
     "metadata": {},
     "output_type": "display_data"
    },
    {
     "data": {
      "application/vnd.jupyter.widget-view+json": {
       "model_id": "a434b97bc6454d0f9551212bd4a7ff48",
       "version_major": 2,
       "version_minor": 0
      },
      "text/plain": [
       "Map(center=[56.64390364033026, -111.05499999999995], controls=(WidgetControl(options=['position', 'transparent…"
      ]
     },
     "execution_count": 11,
     "metadata": {},
     "output_type": "execute_result"
    }
   ],
   "source": [
    "# Plot all layers on map (pre TC, post TC, pre NBR, post NBR, dNBR)\n",
    "# Set up map and visualization parameters\n",
    "Map = geemap.Map()\n",
    "\n",
    "# We need to define an additional visualization parameter\n",
    "# We want to view the dNBR with an approximation of the USGS dNBR categorical colour scheme\n",
    "colours = [\"#ffffff\",\"#7a8737\",\"#acbe4d\",\"#0ae042\",\"#fff70b\",\"#ffaf38\",\"#ff641b\",\"#a41fd6\"]\n",
    "\n",
    "## Add layers to map\n",
    "Map.addLayer(pre_mos, L8vis,'Pre-fire True Color Image - Clouds masked')\n",
    "Map.addLayer(post_mos, L8vis,'Post-fire True Color Image - Clouds masked')\n",
    "\n",
    "Map.addLayer(preNBR, {'min': -1, 'max': 1, 'palette': greyscale}, 'Prefire Normalized Burn Ratio');\n",
    "Map.addLayer(postNBR, {'min': -1, 'max': 1, 'palette': greyscale}, 'Postfire Normalized Burn Ratio');\n",
    "\n",
    "Map.addLayer(dNBR, {'min': -500, 'max': 1000, 'palette': greyscale}, 'dNBR Greyscale')\n",
    "Map.addLayer(dNBR, {'min': -500, 'max': 1000, 'palette': colours}, 'dNBR Coloured')\n",
    "\n",
    "# Set map parameters and load map\n",
    "Map.centerObject(area,9)\n",
    "Map.addLayerControl()\n",
    "Map"
   ]
  },
  {
   "cell_type": "markdown",
   "metadata": {
    "id": "nWNALuvcEZC0"
   },
   "source": [
    "Use the legend below to interpret the grey and coloured dNBR scaled layers in the map you just created.\n",
    "\n",
    "Note that the dNBR colour scale in the above map layer with the coloured palette does not properly match the accepted USGS categorical dNBR range because it is a continuous, rather than categorical, colour scale."
   ]
  },
  {
   "cell_type": "markdown",
   "metadata": {
    "id": "JG9gMmSXWmxT"
   },
   "source": [
    "**dNBR Severity Legend**\n",
    "![image.png](data:image/png;base64,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)"
   ]
  },
  {
   "cell_type": "markdown",
   "metadata": {
    "id": "8MylnOTAH24C"
   },
   "source": [
    "##### Using Styled Layer Descriptors"
   ]
  },
  {
   "cell_type": "markdown",
   "metadata": {
    "id": "Gw1ou_UAEeWW"
   },
   "source": [
    "The continuous colour scheme approximation is used because Google Earth Engine does not handle categorical colour scales as well as continuous scales. They *do* have an option for using SLD (Styled Layer Descriptors) for styling (see code chunk below), but the code is a bit buggy in Google Colab and often causes the map to not load properly.\n",
    "\n",
    "Check out the same code piece in the code editor [here](https://code.earthengine.google.com/366d7d68f1d393702135993d4d9b5d6a) to see the use of the SLD styling in action."
   ]
  },
  {
   "cell_type": "code",
   "execution_count": 12,
   "metadata": {
    "id": "ve8wOKhbEfsH"
   },
   "outputs": [
    {
     "data": {
      "text/html": [
       "\n",
       "            <style>\n",
       "                .geemap-dark {\n",
       "                    --jp-widgets-color: white;\n",
       "                    --jp-widgets-label-color: white;\n",
       "                    --jp-ui-font-color1: white;\n",
       "                    --jp-layout-color2: #454545;\n",
       "                    background-color: #383838;\n",
       "                }\n",
       "\n",
       "                .geemap-dark .jupyter-button {\n",
       "                    --jp-layout-color3: #383838;\n",
       "                }\n",
       "\n",
       "                .geemap-colab {\n",
       "                    background-color: var(--colab-primary-surface-color, white);\n",
       "                }\n",
       "\n",
       "                .geemap-colab .jupyter-button {\n",
       "                    --jp-layout-color3: var(--colab-primary-surface-color, white);\n",
       "                }\n",
       "            </style>\n",
       "            "
      ],
      "text/plain": [
       "<IPython.core.display.HTML object>"
      ]
     },
     "metadata": {},
     "output_type": "display_data"
    },
    {
     "data": {
      "application/vnd.jupyter.widget-view+json": {
       "model_id": "a434b97bc6454d0f9551212bd4a7ff48",
       "version_major": 2,
       "version_minor": 0
      },
      "text/plain": [
       "Map(center=[56.64390364033026, -111.05499999999995], controls=(WidgetControl(options=['position', 'transparent…"
      ]
     },
     "execution_count": 12,
     "metadata": {},
     "output_type": "execute_result"
    }
   ],
   "source": [
    "## Styled Layer Descriptors (SLD) styling for dNBR\n",
    "## Note that this code doesn't run properly, it is just here as an example\n",
    "\n",
    "# Define sld intervals\n",
    "sld_intervals = \"\"\"\n",
    "<RasterSymbolizer>\n",
    "  <ColorMap  type=\"intervals\" extended=\"false\" >\n",
    "    <ColorMapEntry color=\"#ffffff\" quantity=\"-500\" label=\"-500\"/>\n",
    "    <ColorMapEntry color=\"#7a8737\" quantity=\"-250\" label=\"-250\"/>\n",
    "    <ColorMapEntry color=\"#acbe4d\" quantity=\"-100\" label=\"-100\"/>\n",
    "    <ColorMapEntry color=\"#0ae042\" quantity=\"100\" label=\"100\"/>\n",
    "    <ColorMapEntry color=\"#fff70b\" quantity=\"270\" label=\"270\"/>\n",
    "    <ColorMapEntry color=\"#ffaf38\" quantity=\"440\" label=\"440\"/>\n",
    "    <ColorMapEntry color=\"#ff641b\" quantity=\"660\" label=\"660\"/>\n",
    "    <ColorMapEntry color=\"#a41fd6\" quantity=\"2000\" label=\"2000\"/>\n",
    "  </ColorMap>\n",
    "</RasterSymbolizer>\"\"\"\n",
    "\n",
    "# Add layer to map with sld applied\n",
    "Map.addLayer(dNBR.sldStyle(sld_intervals), {}, 'dNBR classified')\n",
    "Map"
   ]
  },
  {
   "cell_type": "markdown",
   "metadata": {
    "id": "xQGjh-a3LEIy"
   },
   "source": [
    "## Glaciers\n",
    "\n",
    "Like we saw in Lab 2 when we visualized change using composites and mosaicks, change can occur across many spatial and temporal scales.\n",
    "\n",
    "Sometimes the change we are interested in detecting occurs over short periods of time (days or weeks) such as wildfires or other natural disasters. Other times, the change we're examining occurs over long periods of time (months, years, even decades) such as urban expansion."
   ]
  },
  {
   "cell_type": "markdown",
   "metadata": {
    "id": "P1GO2vB7LIQ8"
   },
   "source": [
    "We're going to explore the same example from Lab 2 of the Columbia Glacier, Alaska. This time we are going to implement a threshold to indicate where change has occured and what type of change has occured so that we can more easily identify and analyze it."
   ]
  },
  {
   "cell_type": "code",
   "execution_count": 13,
   "metadata": {
    "id": "vRY_VpprVMTS"
   },
   "outputs": [
    {
     "data": {
      "text/html": [
       "\n",
       "            <style>\n",
       "                .geemap-dark {\n",
       "                    --jp-widgets-color: white;\n",
       "                    --jp-widgets-label-color: white;\n",
       "                    --jp-ui-font-color1: white;\n",
       "                    --jp-layout-color2: #454545;\n",
       "                    background-color: #383838;\n",
       "                }\n",
       "\n",
       "                .geemap-dark .jupyter-button {\n",
       "                    --jp-layout-color3: #383838;\n",
       "                }\n",
       "\n",
       "                .geemap-colab {\n",
       "                    background-color: var(--colab-primary-surface-color, white);\n",
       "                }\n",
       "\n",
       "                .geemap-colab .jupyter-button {\n",
       "                    --jp-layout-color3: var(--colab-primary-surface-color, white);\n",
       "                }\n",
       "            </style>\n",
       "            "
      ],
      "text/plain": [
       "<IPython.core.display.HTML object>"
      ]
     },
     "metadata": {},
     "output_type": "display_data"
    }
   ],
   "source": [
    "# Define geometry around the Columbia Glacier, Alaska\n",
    "aoi = ee.Geometry.Polygon([[-147.35,60.90],[-146.72,60.90],[-146.72,61.17],[-147.35,61.17]])\n",
    "\n",
    "# Get a 2015 image over Columbia Glacier\n",
    "s1_preimage = ee.ImageCollection('COPERNICUS/S1_GRD')\\\n",
    "                .filter(ee.Filter.listContains('transmitterReceiverPolarisation', 'VV')) \\\n",
    "                .filter(ee.Filter.eq('instrumentMode', 'IW')) \\\n",
    "                .filter(ee.Filter.eq('orbitProperties_pass', 'ASCENDING')) \\\n",
    "                .filterBounds(aoi) \\\n",
    "                .filterDate('2015-01-01','2015-01-31') \\\n",
    "                .first()\n",
    "\n",
    "# Get a 2020 image over Columbia Glacier\n",
    "s1_postimage = ee.ImageCollection('COPERNICUS/S1_GRD')\\\n",
    "                .filter(ee.Filter.listContains('transmitterReceiverPolarisation', 'VV')) \\\n",
    "                .filter(ee.Filter.eq('instrumentMode', 'IW')) \\\n",
    "                .filter(ee.Filter.eq('orbitProperties_pass', 'ASCENDING')) \\\n",
    "                .filterBounds(aoi) \\\n",
    "                .filterDate('2020-01-01','2020-01-31') \\\n",
    "                .first()"
   ]
  },
  {
   "cell_type": "markdown",
   "metadata": {
    "id": "ND8gLCm9gNCR"
   },
   "source": [
    "We're only going to work with one band for simplicities sake, but there are methods that will incorporate change across multiple bands."
   ]
  },
  {
   "cell_type": "code",
   "execution_count": 14,
   "metadata": {
    "id": "300GeTi3npPm"
   },
   "outputs": [
    {
     "data": {
      "text/html": [
       "\n",
       "            <style>\n",
       "                .geemap-dark {\n",
       "                    --jp-widgets-color: white;\n",
       "                    --jp-widgets-label-color: white;\n",
       "                    --jp-ui-font-color1: white;\n",
       "                    --jp-layout-color2: #454545;\n",
       "                    background-color: #383838;\n",
       "                }\n",
       "\n",
       "                .geemap-dark .jupyter-button {\n",
       "                    --jp-layout-color3: #383838;\n",
       "                }\n",
       "\n",
       "                .geemap-colab {\n",
       "                    background-color: var(--colab-primary-surface-color, white);\n",
       "                }\n",
       "\n",
       "                .geemap-colab .jupyter-button {\n",
       "                    --jp-layout-color3: var(--colab-primary-surface-color, white);\n",
       "                }\n",
       "            </style>\n",
       "            "
      ],
      "text/plain": [
       "<IPython.core.display.HTML object>"
      ]
     },
     "metadata": {},
     "output_type": "display_data"
    }
   ],
   "source": [
    "# Select VV bands only\n",
    "s1_preimage = s1_preimage.select('VV')\n",
    "s1_postimage = s1_postimage.select('VV')"
   ]
  },
  {
   "cell_type": "code",
   "execution_count": 15,
   "metadata": {
    "id": "2Bn8dI3JjLgr"
   },
   "outputs": [
    {
     "data": {
      "text/html": [
       "\n",
       "            <style>\n",
       "                .geemap-dark {\n",
       "                    --jp-widgets-color: white;\n",
       "                    --jp-widgets-label-color: white;\n",
       "                    --jp-ui-font-color1: white;\n",
       "                    --jp-layout-color2: #454545;\n",
       "                    background-color: #383838;\n",
       "                }\n",
       "\n",
       "                .geemap-dark .jupyter-button {\n",
       "                    --jp-layout-color3: #383838;\n",
       "                }\n",
       "\n",
       "                .geemap-colab {\n",
       "                    background-color: var(--colab-primary-surface-color, white);\n",
       "                }\n",
       "\n",
       "                .geemap-colab .jupyter-button {\n",
       "                    --jp-layout-color3: var(--colab-primary-surface-color, white);\n",
       "                }\n",
       "            </style>\n",
       "            "
      ],
      "text/plain": [
       "<IPython.core.display.HTML object>"
      ]
     },
     "metadata": {},
     "output_type": "display_data"
    },
    {
     "data": {
      "application/vnd.jupyter.widget-view+json": {
       "model_id": "e80ff48e38524b5cab03f8568dbe030d",
       "version_major": 2,
       "version_minor": 0
      },
      "text/plain": [
       "Map(center=[60.40021446757062, -149.27946178309475], controls=(WidgetControl(options=['position', 'transparent…"
      ]
     },
     "execution_count": 15,
     "metadata": {},
     "output_type": "execute_result"
    }
   ],
   "source": [
    "## This code was adapted from \"Detecting Changes in Sentinel-1 Imagery\" by mortcanty\n",
    "## https://developers.google.com/earth-engine/tutorials/community/detecting-changes-in-sentinel-1-imagery-pt-2#the_likelihood_ratio_test\n",
    "\n",
    "\n",
    "\n",
    "\n",
    "# Likelihood Ratio Tests\n",
    "# We are determining the backscatter change between the pre and post images, and representing it as a ratio\n",
    "q1 = s1_preimage.divide(s1_postimage)\n",
    "q2 = s1_postimage.divide(s1_preimage)\n",
    "\n",
    "# Decision threshold\n",
    "m = 5\n",
    "dt = f.ppf(0.0005, 2*m, 2*m)\n",
    "\n",
    "# Generate layer where:\n",
    "  # no change = 0\n",
    "  # decreased backscatter = 1\n",
    "  # increased backscatter = 2\n",
    "change = s1_preimage.multiply(0).where(q2.lt(dt),1)\n",
    "change = change.where(q1.lt(dt),2)\n",
    "\n",
    "# Mask pixels with no change (0)\n",
    "change = change.updateMask(change.gt(0))\n",
    "\n",
    "# Visualization parameters where decrease (1) = blue, increase (2) = red\n",
    "changevis = {\n",
    "    'min': 1,\n",
    "    'max': 2,\n",
    "    'palette': ['blue', 'red']\n",
    "}\n",
    "\n",
    "# Visualize the VV band images\n",
    "s1vis = {\n",
    "    'bands': ['VV','VV','VV'],\n",
    "    'min': -20,\n",
    "    'max': 0\n",
    "}\n",
    "\n",
    "Map = geemap.Map()\n",
    "Map.addLayer(s1_preimage, s1vis, 's1 pre image')\n",
    "Map.addLayer(s1_postimage, s1vis, 's1 post image')\n",
    "Map.addLayer(change, changevis, 'Columbia Glacier Change')\n",
    "Map.addLayerControl()\n",
    "Map.centerObject(s1_preimage, 9)\n",
    "Map"
   ]
  },
  {
   "cell_type": "markdown",
   "metadata": {
    "id": "kdWBroiICR_2"
   },
   "source": [
    "When we are interpreting this image, the important thing to keep in mind is that the \"increase\" and \"decrease\" is based on the ratio of backscatter between the two images. A glacier generally has lower backscatter than surrounding rock or exposed soil due to the specular reflectance of energy off of ice and snow. An increase in backscatter at a location means that melting and recession of the glacier has probably occurred, exposing underlying rocks and soil. A decrease means that perhaps there is more snow or ice cover at the location, smoothing over the rocks and soil, or maybe the glacier has advanced at the location.\n",
    "\n",
    "In our result we mostly see red areas (increasing backscatter) which correlated with what we know (that the glacier is melting)."
   ]
  },
  {
   "cell_type": "markdown",
   "metadata": {
    "id": "lZGArD27HWSh"
   },
   "source": [
    "# Questions to Submit"
   ]
  },
  {
   "cell_type": "markdown",
   "metadata": {
    "id": "jPgR5s3SHZNr"
   },
   "source": [
    "## Q1 (1 point)\n",
    "\n",
    "Provide an explanation of how remote sensing can be applied to detect short-term change and how it can be used to detect gradual change.\n",
    "\n",
    "Provide an example of each (one that we didn't cover in this lab: wildfire, glacial melt)."
   ]
  },
  {
   "cell_type": "markdown",
   "metadata": {
    "id": "dU0zUOp_8_pw"
   },
   "source": [
    "// Your answer here\n",
    "Short-term change is typically detectable based on a rapid chang in the spectral response of the area changing. This usually requires a sensor with a relatively short return interval (such as MODIS or VIIRS) to detect the change occuring even if clouds obscure several observations. Alternately, a sensor unaffected by clouds (e.g. SAR) may be able to detect the change even in the presence of clouds. An example of a short-term change may be pine-beetle kill in the interior forests of BC. Although the initial pine beetle impact can be very difficult to detect with remote sensing, the trees rapidly turn red, which is detectable in optical imagery.\n",
    "\n",
    "Gradual change requires a time series of observations to remove other trends, such as seaonal defoliation or snowmelt. Arctic greening and treeline advance (at high elevation or high latitudes) due to climate change may represent such gradual changes. Imagery such as landsat-derived NDVI or LAI can be used to detect these gradual changes, but only once they have been detrended to remove seasonal variation, and also any short-term disturbances such as landslides or wildfires are masked out."
   ]
  },
  {
   "cell_type": "markdown",
   "metadata": {
    "id": "pI_NV7UVHM2U"
   },
   "source": [
    "## Q2 (1 point)\n",
    "\n",
    "We discussed some of the benefits of using remote sensing to monitor the environment. What about the downsides?\n",
    "\n",
    "Explain **2 cases** where remote sensing would **not** be useful for detecting change and **why**.\n",
    "\n"
   ]
  },
  {
   "cell_type": "markdown",
   "metadata": {},
   "source": [
    "// My answer\n",
    "Sometimes the phenomenon of interest is not detectable using the spectra which are available from remote sensing. For example, Lianas are parasitic vines which are detrimental to rainforest health, but are very difficult to detect via remote sensing. This has confounded the ability of land managers to use remote sensing for monitoring their spread.\n",
    "\n",
    "Another limitation of remote sensing is that clouds can obscure important observations. Wildfires are particularly problematic because their management requires repeated monitoring but they are produce oscuring smoke."
   ]
  },
  {
   "cell_type": "markdown",
   "metadata": {
    "id": "v-j7J5-7HZun"
   },
   "source": [
    "## Q3 (1 point)\n",
    "\n",
    "Implement the above workflow for change detection and change direction identification for the Peyto Glacier, Banff National Park, Alberta (-116.5609, 51.6828) from 2015 to 2021.\n",
    "\n",
    "Display your results on a map, along with the VV images, and a point representing the AOI. Briefly describe the changes you've identified."
   ]
  },
  {
   "cell_type": "code",
   "execution_count": 31,
   "metadata": {
    "id": "R3YIUfuRHZAa"
   },
   "outputs": [
    {
     "data": {
      "text/html": [
       "\n",
       "            <style>\n",
       "                .geemap-dark {\n",
       "                    --jp-widgets-color: white;\n",
       "                    --jp-widgets-label-color: white;\n",
       "                    --jp-ui-font-color1: white;\n",
       "                    --jp-layout-color2: #454545;\n",
       "                    background-color: #383838;\n",
       "                }\n",
       "\n",
       "                .geemap-dark .jupyter-button {\n",
       "                    --jp-layout-color3: #383838;\n",
       "                }\n",
       "\n",
       "                .geemap-colab {\n",
       "                    background-color: var(--colab-primary-surface-color, white);\n",
       "                }\n",
       "\n",
       "                .geemap-colab .jupyter-button {\n",
       "                    --jp-layout-color3: var(--colab-primary-surface-color, white);\n",
       "                }\n",
       "            </style>\n",
       "            "
      ],
      "text/plain": [
       "<IPython.core.display.HTML object>"
      ]
     },
     "metadata": {},
     "output_type": "display_data"
    }
   ],
   "source": [
    "# Show your code here\n",
    "peyto = ee.Geometry.Point([-116.5609, 51.6828])\n",
    "\n",
    "s1_preimage = ee.ImageCollection('COPERNICUS/S1_GRD')\\\n",
    "                .filter(ee.Filter.listContains('transmitterReceiverPolarisation', 'VV')) \\\n",
    "                .filter(ee.Filter.eq('instrumentMode', 'IW')) \\\n",
    "                .filter(ee.Filter.eq('orbitProperties_pass', 'ASCENDING')) \\\n",
    "                .filterBounds(peyto) \\\n",
    "                .filterDate('2015-01-01','2015-01-31') \\\n",
    "                .first()\n",
    "\n",
    "s1_postimage = ee.ImageCollection('COPERNICUS/S1_GRD')\\\n",
    "                .filter(ee.Filter.listContains('transmitterReceiverPolarisation', 'VV')) \\\n",
    "                .filter(ee.Filter.eq('instrumentMode', 'IW')) \\\n",
    "                .filter(ee.Filter.eq('orbitProperties_pass', 'ASCENDING')) \\\n",
    "                .filterBounds(peyto) \\\n",
    "                .filterDate('2021-01-01','2021-01-31') \\\n",
    "                .first()\n",
    "s1_preimage = s1_preimage.select('VV')\n",
    "s1_postimage = s1_postimage.select('VV')\n",
    "\n",
    "## https://developers.google.com/earth-engine/tutorials/community/detecting-changes-in-sentinel-1-imagery-pt-2#the_likelihood_ratio_test\n",
    "q1 = s1_preimage.divide(s1_postimage)\n",
    "q2 = s1_postimage.divide(s1_preimage)\n",
    "\n",
    "# Decision threshold\n",
    "m = 5\n",
    "dt = f.ppf(0.0005, 2*m, 2*m)\n",
    "\n",
    "  # no change = 0\n",
    "  # decreased backscatter = 1\n",
    "  # increased backscatter = 2\n",
    "change = s1_preimage.multiply(0).where(q2.lt(dt),1)\n",
    "change = change.where(q1.lt(dt),2)\n",
    "\n",
    "# Mask pixels with no change (0)\n",
    "change = change.updateMask(change.gt(0))\n"
   ]
  },
  {
   "cell_type": "code",
   "execution_count": 32,
   "metadata": {},
   "outputs": [
    {
     "data": {
      "text/html": [
       "\n",
       "            <style>\n",
       "                .geemap-dark {\n",
       "                    --jp-widgets-color: white;\n",
       "                    --jp-widgets-label-color: white;\n",
       "                    --jp-ui-font-color1: white;\n",
       "                    --jp-layout-color2: #454545;\n",
       "                    background-color: #383838;\n",
       "                }\n",
       "\n",
       "                .geemap-dark .jupyter-button {\n",
       "                    --jp-layout-color3: #383838;\n",
       "                }\n",
       "\n",
       "                .geemap-colab {\n",
       "                    background-color: var(--colab-primary-surface-color, white);\n",
       "                }\n",
       "\n",
       "                .geemap-colab .jupyter-button {\n",
       "                    --jp-layout-color3: var(--colab-primary-surface-color, white);\n",
       "                }\n",
       "            </style>\n",
       "            "
      ],
      "text/plain": [
       "<IPython.core.display.HTML object>"
      ]
     },
     "metadata": {},
     "output_type": "display_data"
    },
    {
     "data": {
      "application/vnd.jupyter.widget-view+json": {
       "model_id": "f3d5b2c30b9f46c196c5ee8d912336c5",
       "version_major": 2,
       "version_minor": 0
      },
      "text/plain": [
       "Map(center=[51.6828, -116.5609], controls=(WidgetControl(options=['position', 'transparent_bg'], widget=Search…"
      ]
     },
     "execution_count": 32,
     "metadata": {},
     "output_type": "execute_result"
    }
   ],
   "source": [
    "\n",
    "# Visualization parameters where decrease (1) = blue, increase (2) = red\n",
    "changevis = {\n",
    "    'min': 1,\n",
    "    'max': 2,\n",
    "    'palette': ['blue', 'red']\n",
    "}\n",
    "\n",
    "# Visualize the VV band images\n",
    "s1vis = {\n",
    "    'bands': ['VV','VV','VV'],\n",
    "    'min': -20,\n",
    "    'max': 0\n",
    "}\n",
    "\n",
    "Map = geemap.Map()\n",
    "Map.addLayer(s1_preimage, s1vis, 's1 pre image')\n",
    "Map.addLayer(s1_postimage, s1vis, 's1 post image')\n",
    "Map.addLayer(change, changevis, 'Peyto Glacier Change')\n",
    "\n",
    "\n",
    "#Its hard to see the glacier, style a point\n",
    "pointStyle = {\n",
    "  'color': 'FF0000',\n",
    "  'pointSize': 10, \n",
    "  'pointShape': 'circle',\n",
    "  'opacity': 1     \n",
    "}\n",
    "\n",
    "Map.addLayer(peyto, pointStyle, 'Peyto Glacier')\n",
    "Map.addLayerControl()\n",
    "Map.centerObject(peyto, 14)\n",
    "Map"
   ]
  },
  {
   "cell_type": "markdown",
   "metadata": {
    "id": "pUvseJppEy31"
   },
   "source": [
    "// Write your answer here\n",
    "The Peyto glacier apears to be shrinking, and the modern OpenStreetMap base layer reflects the modern extent instead of the original extent."
   ]
  },
  {
   "cell_type": "markdown",
   "metadata": {
    "id": "J38x7QrSHYsi"
   },
   "source": [
    "## Q4 (1 point)\n",
    "\n",
    "Research a fire or series of fires in Canada or the United States between 2016 and present.\n",
    "\n",
    "Create a dNBR classified image for the fire(s) of your choice using the continuous USGS dNBR colour scheme we used in the example above. Provide a brief explanation of the burn severity of the fire(s) of interest.\n",
    "\n",
    "Make sure you identify what fire event you are examining (where, when) and name your variables and layers appropriately to help with interpretation."
   ]
  },
  {
   "cell_type": "code",
   "execution_count": 33,
   "metadata": {
    "id": "AJ2ximOVHaBj"
   },
   "outputs": [
    {
     "data": {
      "text/html": [
       "\n",
       "            <style>\n",
       "                .geemap-dark {\n",
       "                    --jp-widgets-color: white;\n",
       "                    --jp-widgets-label-color: white;\n",
       "                    --jp-ui-font-color1: white;\n",
       "                    --jp-layout-color2: #454545;\n",
       "                    background-color: #383838;\n",
       "                }\n",
       "\n",
       "                .geemap-dark .jupyter-button {\n",
       "                    --jp-layout-color3: #383838;\n",
       "                }\n",
       "\n",
       "                .geemap-colab {\n",
       "                    background-color: var(--colab-primary-surface-color, white);\n",
       "                }\n",
       "\n",
       "                .geemap-colab .jupyter-button {\n",
       "                    --jp-layout-color3: var(--colab-primary-surface-color, white);\n",
       "                }\n",
       "            </style>\n",
       "            "
      ],
      "text/plain": [
       "<IPython.core.display.HTML object>"
      ]
     },
     "metadata": {},
     "output_type": "display_data"
    }
   ],
   "source": [
    "# Show your code here\n",
    "\n",
    "ftsmith = ee.Geometry.Polygon([[-112.98402771817734,59.43936056975436],\\\n",
    "[-110.80873474942734,59.43936056975436], \\\n",
    "[-110.80873474942734,60.61380860508912], \\\n",
    "[-112.98402771817734,60.61380860508912]])\n",
    "\n",
    "prefire_start = '2023-06-01'\n",
    "prefire_end = '2023-06-30'\n",
    "\n",
    "postfire_start = '2023-09-14'\n",
    "postfire_end = '2023-10-10'\n",
    "\n",
    "# Set imagery collection\n",
    "prefireImCol = ee.ImageCollection('LANDSAT/LC08/C02/T1_L2')\\\n",
    "                        .filterDate(prefire_start, prefire_end)\\\n",
    "                        .map(apply_scale_factors)\\\n",
    "                        .filterBounds(ftsmith)\\\n",
    "                        .map(cloudMaskL8)\n",
    "\n",
    "postfireImCol = ee.ImageCollection('LANDSAT/LC08/C02/T1_L2')\\\n",
    "                        .filterDate(postfire_start, postfire_end)\\\n",
    "                        .map(apply_scale_factors) \\\n",
    "                        .filterBounds(ftsmith)\\\n",
    "                        .map(cloudMaskL8)"
   ]
  },
  {
   "cell_type": "code",
   "execution_count": 34,
   "metadata": {},
   "outputs": [
    {
     "data": {
      "text/html": [
       "\n",
       "            <style>\n",
       "                .geemap-dark {\n",
       "                    --jp-widgets-color: white;\n",
       "                    --jp-widgets-label-color: white;\n",
       "                    --jp-ui-font-color1: white;\n",
       "                    --jp-layout-color2: #454545;\n",
       "                    background-color: #383838;\n",
       "                }\n",
       "\n",
       "                .geemap-dark .jupyter-button {\n",
       "                    --jp-layout-color3: #383838;\n",
       "                }\n",
       "\n",
       "                .geemap-colab {\n",
       "                    background-color: var(--colab-primary-surface-color, white);\n",
       "                }\n",
       "\n",
       "                .geemap-colab .jupyter-button {\n",
       "                    --jp-layout-color3: var(--colab-primary-surface-color, white);\n",
       "                }\n",
       "            </style>\n",
       "            "
      ],
      "text/plain": [
       "<IPython.core.display.HTML object>"
      ]
     },
     "metadata": {},
     "output_type": "display_data"
    }
   ],
   "source": [
    "#Calculate dNBR\n",
    "pre_mos = prefireImCol.median().clip(ftsmith)\n",
    "post_mos = postfireImCol.median().clip(ftsmith)\n",
    "\n",
    "preNBR = pre_mos.normalizedDifference(['SR_B5', 'SR_B7'])\n",
    "postNBR = post_mos.normalizedDifference(['SR_B5', 'SR_B7'])\n",
    "\n",
    "dNBR_unscaled = preNBR.subtract(postNBR)\n",
    "dNBR = dNBR_unscaled.multiply(1000) # Scale by 1000 to USGS standards"
   ]
  },
  {
   "cell_type": "code",
   "execution_count": 35,
   "metadata": {},
   "outputs": [
    {
     "data": {
      "text/html": [
       "\n",
       "            <style>\n",
       "                .geemap-dark {\n",
       "                    --jp-widgets-color: white;\n",
       "                    --jp-widgets-label-color: white;\n",
       "                    --jp-ui-font-color1: white;\n",
       "                    --jp-layout-color2: #454545;\n",
       "                    background-color: #383838;\n",
       "                }\n",
       "\n",
       "                .geemap-dark .jupyter-button {\n",
       "                    --jp-layout-color3: #383838;\n",
       "                }\n",
       "\n",
       "                .geemap-colab {\n",
       "                    background-color: var(--colab-primary-surface-color, white);\n",
       "                }\n",
       "\n",
       "                .geemap-colab .jupyter-button {\n",
       "                    --jp-layout-color3: var(--colab-primary-surface-color, white);\n",
       "                }\n",
       "            </style>\n",
       "            "
      ],
      "text/plain": [
       "<IPython.core.display.HTML object>"
      ]
     },
     "metadata": {},
     "output_type": "display_data"
    }
   ],
   "source": [
    "#Visualize\n",
    "Map = geemap.Map()\n",
    "\n",
    "colours = [\"#ffffff\",\"#7a8737\",\"#acbe4d\",\"#0ae042\",\"#fff70b\",\"#ffaf38\",\"#ff641b\",\"#a41fd6\"]\n",
    "\n",
    "## Add layers to map\n",
    "Map.addLayer(pre_mos, L8vis,'Pre-fire True Color Image - Clouds masked')\n",
    "Map.addLayer(post_mos, L8vis,'Post-fire True Color Image - Clouds masked')\n",
    "\n",
    "Map.addLayer(preNBR, {'min': -1, 'max': 1, 'palette': greyscale}, 'Prefire Normalized Burn Ratio');\n",
    "Map.addLayer(postNBR, {'min': -1, 'max': 1, 'palette': greyscale}, 'Postfire Normalized Burn Ratio');\n",
    "\n",
    "Map.addLayer(dNBR, {'min': -500, 'max': 1000, 'palette': greyscale}, 'dNBR Greyscale')\n",
    "Map.addLayer(dNBR, {'min': -500, 'max': 1000, 'palette': colours}, 'dNBR Coloured')\n",
    "\n",
    "# Set map parameters and load map\n",
    "Map.centerObject(ftsmith,12)\n",
    "Map.addLayerControl()"
   ]
  },
  {
   "cell_type": "code",
   "execution_count": 36,
   "metadata": {},
   "outputs": [
    {
     "data": {
      "text/html": [
       "\n",
       "            <style>\n",
       "                .geemap-dark {\n",
       "                    --jp-widgets-color: white;\n",
       "                    --jp-widgets-label-color: white;\n",
       "                    --jp-ui-font-color1: white;\n",
       "                    --jp-layout-color2: #454545;\n",
       "                    background-color: #383838;\n",
       "                }\n",
       "\n",
       "                .geemap-dark .jupyter-button {\n",
       "                    --jp-layout-color3: #383838;\n",
       "                }\n",
       "\n",
       "                .geemap-colab {\n",
       "                    background-color: var(--colab-primary-surface-color, white);\n",
       "                }\n",
       "\n",
       "                .geemap-colab .jupyter-button {\n",
       "                    --jp-layout-color3: var(--colab-primary-surface-color, white);\n",
       "                }\n",
       "            </style>\n",
       "            "
      ],
      "text/plain": [
       "<IPython.core.display.HTML object>"
      ]
     },
     "metadata": {},
     "output_type": "display_data"
    },
    {
     "data": {
      "application/vnd.jupyter.widget-view+json": {
       "model_id": "874ac42bb39c42e2a84fbfc101d0273d",
       "version_major": 2,
       "version_minor": 0
      },
      "text/plain": [
       "Map(center=[60.02757337038698, -111.89638123380232], controls=(WidgetControl(options=['position', 'transparent…"
      ]
     },
     "execution_count": 36,
     "metadata": {},
     "output_type": "execute_result"
    }
   ],
   "source": [
    "#Categorized\n",
    "# Define sld intervals\n",
    "sld_intervals = \"\"\"\n",
    "<RasterSymbolizer>\n",
    "  <ColorMap  type=\"intervals\" extended=\"false\" >\n",
    "    <ColorMapEntry color=\"#ffffff\" quantity=\"-500\" label=\"-500\"/>\n",
    "    <ColorMapEntry color=\"#7a8737\" quantity=\"-250\" label=\"-250\"/>\n",
    "    <ColorMapEntry color=\"#acbe4d\" quantity=\"-100\" label=\"-100\"/>\n",
    "    <ColorMapEntry color=\"#0ae042\" quantity=\"100\" label=\"100\"/>\n",
    "    <ColorMapEntry color=\"#fff70b\" quantity=\"270\" label=\"270\"/>\n",
    "    <ColorMapEntry color=\"#ffaf38\" quantity=\"440\" label=\"440\"/>\n",
    "    <ColorMapEntry color=\"#ff641b\" quantity=\"660\" label=\"660\"/>\n",
    "    <ColorMapEntry color=\"#a41fd6\" quantity=\"2000\" label=\"2000\"/>\n",
    "  </ColorMap>\n",
    "</RasterSymbolizer>\"\"\"\n",
    "\n",
    "# Add layer to map with sld applied\n",
    "Map.addLayer(dNBR.sldStyle(sld_intervals), {}, 'dNBR classified')\n",
    "Map"
   ]
  },
  {
   "cell_type": "code",
   "execution_count": 22,
   "metadata": {},
   "outputs": [
    {
     "data": {
      "text/html": [
       "\n",
       "            <style>\n",
       "                .geemap-dark {\n",
       "                    --jp-widgets-color: white;\n",
       "                    --jp-widgets-label-color: white;\n",
       "                    --jp-ui-font-color1: white;\n",
       "                    --jp-layout-color2: #454545;\n",
       "                    background-color: #383838;\n",
       "                }\n",
       "\n",
       "                .geemap-dark .jupyter-button {\n",
       "                    --jp-layout-color3: #383838;\n",
       "                }\n",
       "\n",
       "                .geemap-colab {\n",
       "                    background-color: var(--colab-primary-surface-color, white);\n",
       "                }\n",
       "\n",
       "                .geemap-colab .jupyter-button {\n",
       "                    --jp-layout-color3: var(--colab-primary-surface-color, white);\n",
       "                }\n",
       "            </style>\n",
       "            "
      ],
      "text/plain": [
       "<IPython.core.display.HTML object>"
      ]
     },
     "metadata": {},
     "output_type": "display_data"
    },
    {
     "ename": "NameError",
     "evalue": "name 'lt' is not defined",
     "output_type": "error",
     "traceback": [
      "\u001b[1;31m---------------------------------------------------------------------------\u001b[0m",
      "\u001b[1;31mNameError\u001b[0m                                 Traceback (most recent call last)",
      "Cell \u001b[1;32mIn[22], line 2\u001b[0m\n\u001b[0;32m      1\u001b[0m geemap\u001b[38;5;241m.\u001b[39mee_export_image_to_drive(\n\u001b[1;32m----> 2\u001b[0m     image\u001b[38;5;241m=\u001b[39m\u001b[43mlt\u001b[49m,\n\u001b[0;32m      3\u001b[0m     description\u001b[38;5;241m=\u001b[39m\u001b[38;5;124m'\u001b[39m\u001b[38;5;124mlandtrendr_test\u001b[39m\u001b[38;5;124m'\u001b[39m,\n\u001b[0;32m      4\u001b[0m     folder\u001b[38;5;241m=\u001b[39m\u001b[38;5;124m'\u001b[39m\u001b[38;5;124mgee\u001b[39m\u001b[38;5;124m'\u001b[39m,\n\u001b[0;32m      5\u001b[0m     fileNamePrefix\u001b[38;5;241m=\u001b[39m\u001b[38;5;124m'\u001b[39m\u001b[38;5;124mlandtrendr_test\u001b[39m\u001b[38;5;124m'\u001b[39m,\n\u001b[0;32m      6\u001b[0m     region\u001b[38;5;241m=\u001b[39mkelowna_bbox,\n\u001b[0;32m      7\u001b[0m     scale\u001b[38;5;241m=\u001b[39m\u001b[38;5;241m30\u001b[39m,\n\u001b[0;32m      8\u001b[0m     crs\u001b[38;5;241m=\u001b[39m\u001b[38;5;124m'\u001b[39m\u001b[38;5;124mEPSG:4326\u001b[39m\u001b[38;5;124m'\u001b[39m,\n\u001b[0;32m      9\u001b[0m     maxPixels\u001b[38;5;241m=\u001b[39m\u001b[38;5;241m1e13\u001b[39m\n\u001b[0;32m     10\u001b[0m )\n",
      "\u001b[1;31mNameError\u001b[0m: name 'lt' is not defined"
     ]
    }
   ],
   "source": [
    "geemap.ee_export_image_to_drive(\n",
    "    image=lt,\n",
    "    description='landtrendr_test',\n",
    "    folder='gee',\n",
    "    fileNamePrefix='landtrendr_test',\n",
    "    region=kelowna_bbox,\n",
    "    scale=30,\n",
    "    crs='EPSG:4326',\n",
    "    maxPixels=1e13\n",
    ")"
   ]
  },
  {
   "cell_type": "code",
   "execution_count": null,
   "metadata": {},
   "outputs": [],
   "source": []
  },
  {
   "cell_type": "markdown",
   "metadata": {
    "id": "BxU96vsEE1iG"
   },
   "source": [
    "## Q5 (1 point)\n",
    "\n",
    "Find a vegetation disturbance (ex. Fire, Harvest, Landslide, Thaw Slumps, etc) in Canada or the United States between 1985 and present. You may use the fire or series of fires you investigated for Q4.\n",
    "\n",
    "Using the LandTrendr Algorithm in the JavaScript API, create a disturbance map. Export the disturbance map as an asset and continue your analysis using GEE in Google Colab. Add the LandTrendr image to a map, and determine the year the disturbance was detected.\n",
    "\n",
    "Using either Sentinel-2 or Landsat, find pre- and post-disturbance images and add them the map with the LandTrendr disturbance image. Describe the differences in landcover pre- and post-disturbance, and hypothesize what the disturbance was. Discuss how well LandTrendr was able to detect this disturbance."
   ]
  },
  {
   "cell_type": "code",
   "execution_count": 37,
   "metadata": {},
   "outputs": [
    {
     "data": {
      "text/html": [
       "\n",
       "            <style>\n",
       "                .geemap-dark {\n",
       "                    --jp-widgets-color: white;\n",
       "                    --jp-widgets-label-color: white;\n",
       "                    --jp-ui-font-color1: white;\n",
       "                    --jp-layout-color2: #454545;\n",
       "                    background-color: #383838;\n",
       "                }\n",
       "\n",
       "                .geemap-dark .jupyter-button {\n",
       "                    --jp-layout-color3: #383838;\n",
       "                }\n",
       "\n",
       "                .geemap-colab {\n",
       "                    background-color: var(--colab-primary-surface-color, white);\n",
       "                }\n",
       "\n",
       "                .geemap-colab .jupyter-button {\n",
       "                    --jp-layout-color3: var(--colab-primary-surface-color, white);\n",
       "                }\n",
       "            </style>\n",
       "            "
      ],
      "text/plain": [
       "<IPython.core.display.HTML object>"
      ]
     },
     "metadata": {},
     "output_type": "display_data"
    },
    {
     "data": {
      "text/plain": [
       "['LandTrendr',\n",
       " 'LandsatComposite',\n",
       " 'LtCollection',\n",
       " 'Optional',\n",
       " '__builtins__',\n",
       " '__cached__',\n",
       " '__doc__',\n",
       " '__file__',\n",
       " '__loader__',\n",
       " '__name__',\n",
       " '__package__',\n",
       " '__path__',\n",
       " '__spec__',\n",
       " 'calculate_median_diff',\n",
       " 'count_clear_view_pixels',\n",
       " 'datetime',\n",
       " 'ee',\n",
       " 'evi_transform',\n",
       " 'forest_mask',\n",
       " 'gee_utils',\n",
       " 'landtrendr',\n",
       " 'math',\n",
       " 'nbr_transform',\n",
       " 'ndfi_transform',\n",
       " 'ndmi_transform',\n",
       " 'ndsi_transform',\n",
       " 'ndvi_transform',\n",
       " 'standardize_collection',\n",
       " 'tc_transform',\n",
       " 'water_mask']"
      ]
     },
     "execution_count": 37,
     "metadata": {},
     "output_type": "execute_result"
    }
   ],
   "source": [
    "dir(ltgee)"
   ]
  },
  {
   "cell_type": "code",
   "execution_count": 55,
   "metadata": {
    "id": "g0E8UUgLpPY4"
   },
   "outputs": [
    {
     "data": {
      "text/html": [
       "\n",
       "            <style>\n",
       "                .geemap-dark {\n",
       "                    --jp-widgets-color: white;\n",
       "                    --jp-widgets-label-color: white;\n",
       "                    --jp-ui-font-color1: white;\n",
       "                    --jp-layout-color2: #454545;\n",
       "                    background-color: #383838;\n",
       "                }\n",
       "\n",
       "                .geemap-dark .jupyter-button {\n",
       "                    --jp-layout-color3: #383838;\n",
       "                }\n",
       "\n",
       "                .geemap-colab {\n",
       "                    background-color: var(--colab-primary-surface-color, white);\n",
       "                }\n",
       "\n",
       "                .geemap-colab .jupyter-button {\n",
       "                    --jp-layout-color3: var(--colab-primary-surface-color, white);\n",
       "                }\n",
       "            </style>\n",
       "            "
      ],
      "text/plain": [
       "<IPython.core.display.HTML object>"
      ]
     },
     "metadata": {},
     "output_type": "display_data"
    },
    {
     "name": "stdout",
     "output_type": "stream",
     "text": [
      "{'type': 'Image', 'bands': [{'id': 'LandTrendr', 'data_type': {'type': 'PixelType', 'precision': 'double', 'dimensions': 2}, 'crs': 'EPSG:4326', 'crs_transform': [1, 0, 0, 0, 1, 0]}, {'id': 'ftv_tcb_fit', 'data_type': {'type': 'PixelType', 'precision': 'double', 'dimensions': 1}, 'crs': 'EPSG:4326', 'crs_transform': [1, 0, 0, 0, 1, 0]}, {'id': 'ftv_tcg_fit', 'data_type': {'type': 'PixelType', 'precision': 'double', 'dimensions': 1}, 'crs': 'EPSG:4326', 'crs_transform': [1, 0, 0, 0, 1, 0]}, {'id': 'ftv_nbr_fit', 'data_type': {'type': 'PixelType', 'precision': 'double', 'dimensions': 1}, 'crs': 'EPSG:4326', 'crs_transform': [1, 0, 0, 0, 1, 0]}, {'id': 'rmse', 'data_type': {'type': 'PixelType', 'precision': 'double'}, 'crs': 'EPSG:4326', 'crs_transform': [1, 0, 0, 0, 1, 0]}]}\n"
     ]
    }
   ],
   "source": [
    "\n",
    "\n",
    "\n",
    "#tomahawk\n",
    "coordinates = [\n",
    "    [-114.97593418898894,53.35045750945467],\n",
    "    [-114.76719395461394,53.35045750945467],\n",
    "    [-114.76719395461394,53.46097926055868],\n",
    "    [-114.97593418898894,53.46097926055868],\n",
    "    [-114.97593418898894,53.35045750945467]\n",
    "]\n",
    "\n",
    "# Create a polygon feature using the coordinates\n",
    "tomahawk_bbox = ee.Geometry.Polygon([coordinates])\n",
    "\n",
    "# Initialize variables for LandTrendr algorithm\n",
    "composite_params = {\n",
    "    \"start_date\": date(2002, 2,1),\n",
    "    \"end_date\": date(2023, 11,1),\n",
    "    \"area_of_interest\": ee.Geometry({\n",
    "        'type': 'Polygon',\n",
    "        'coordinates': [coordinates]}),\n",
    "    \"mask_labels\": ['cloud', 'shadow', 'snow', 'water'],\n",
    "    \"debug\": True\n",
    "}\n",
    "lt_collection_params = {\n",
    "        \"sr_collection\": LandsatComposite(**composite_params),\n",
    "        # \"sr_collection\": composite_params, # - you may also just pass in your own collection or the params directly. Note: in the former, some methods in the class may not work.\n",
    "        \"index\": 'NBR',\n",
    "        \"ftv_list\": ['TCB', 'TCG', 'NBR'],\n",
    "}\n",
    "lt_params = {\n",
    "    \"lt_collection\": LtCollection(**lt_collection_params),\n",
    "    # \"lt_collection\": lt_collection_params, # - you may also just pass in your own collection or the params directly. Note: in the former, some methods in the class may not work.\n",
    "    \"run_params\": {\n",
    "            \"maxSegments\": 6,\n",
    "            \"spikeThreshold\": 0.9,\n",
    "            \"vertexCountOvershoot\":  3,\n",
    "            \"preventOneYearRecovery\":  False,\n",
    "            \"recoveryThreshold\":  0.25,\n",
    "            \"pvalThreshold\":  .05,\n",
    "            \"bestModelProportion\":  0.75,\n",
    "            \"minObservationsNeeded\": 6,\n",
    "        }\n",
    "}\n",
    "\n",
    "changeParams = {\n",
    " \"delta\":  'loss',\n",
    " \"sort\":   'greatest',\n",
    " \"year\":   {\"checked\":True, \"start\":2002, \"end\":2023},\n",
    " \"mag\":    {\"checked\":True, \"value\":100,  \"operator\":'>'},\n",
    " \"dur\":    {\"checked\":True, \"value\":4,    \"operator\":'<'},\n",
    " \"preval\": {\"checked\":True, \"value\":300,  \"operator\":'>'},\n",
    " \"mmu\":    {\"checked\":True, \"value\":11},\n",
    "};\n",
    "\n",
    "# Instantiating LandTrendr object. Note: The object will immediately request to run the algorithm on Google's servers.\n",
    "lt = LandTrendr(**lt_params)\n",
    "print(lt.getInfo())\n"
   ]
  },
  {
   "cell_type": "code",
   "execution_count": 56,
   "metadata": {
    "scrolled": true
   },
   "outputs": [
    {
     "data": {
      "text/html": [
       "\n",
       "            <style>\n",
       "                .geemap-dark {\n",
       "                    --jp-widgets-color: white;\n",
       "                    --jp-widgets-label-color: white;\n",
       "                    --jp-ui-font-color1: white;\n",
       "                    --jp-layout-color2: #454545;\n",
       "                    background-color: #383838;\n",
       "                }\n",
       "\n",
       "                .geemap-dark .jupyter-button {\n",
       "                    --jp-layout-color3: #383838;\n",
       "                }\n",
       "\n",
       "                .geemap-colab {\n",
       "                    background-color: var(--colab-primary-surface-color, white);\n",
       "                }\n",
       "\n",
       "                .geemap-colab .jupyter-button {\n",
       "                    --jp-layout-color3: var(--colab-primary-surface-color, white);\n",
       "                }\n",
       "            </style>\n",
       "            "
      ],
      "text/plain": [
       "<IPython.core.display.HTML object>"
      ]
     },
     "metadata": {},
     "output_type": "display_data"
    },
    {
     "data": {
      "application/vnd.jupyter.widget-view+json": {
       "model_id": "b42c0a39e2cf4f248c9c3abddb867561",
       "version_major": 2,
       "version_minor": 0
      },
      "text/plain": [
       "Map(center=[53.405739956767924, -114.87156407180069], controls=(WidgetControl(options=['position', 'transparen…"
      ]
     },
     "execution_count": 56,
     "metadata": {},
     "output_type": "execute_result"
    }
   ],
   "source": [
    "lt1 = lt.get_change_map(changeParams)\n",
    "\n",
    "palette = ['#9400D3', '#4B0082', '#0000FF', '#00FF00', '#FFFF00', '#FF7F00', '#FF0000'];\n",
    "yod_vis_params = {\n",
    "  'min': changeParams['year']['start'],\n",
    "  'max': changeParams['year']['end'],\n",
    "  'palette': palette\n",
    "}\n",
    "mag_vis_params = {\n",
    "  'min': 0,\n",
    "  'max': 800,\n",
    "  'palette': palette\n",
    "}\n",
    "\n",
    "map = geemap.Map()\n",
    "map.centerObject(composite_params['area_of_interest'], 13)\n",
    "map.addLayer(lt1.select(['mag']), yod_vis_params, 'Magnitude of Change')\n",
    "map.addLayer(lt1.select(['yod']), mag_vis_params, 'Year of Detection')\n",
    "map.addLayer(composite_params['area_of_interest'], {}, 'area_of_interest')\n",
    "map"
   ]
  },
  {
   "cell_type": "code",
   "execution_count": null,
   "metadata": {},
   "outputs": [],
   "source": [
    "geemap.ee_export_image_to_drive(\n",
    "    image=lt1.select('yod'),\n",
    "    description='landtrendr_Tomahawk_2000_2023',\n",
    "    folder='gee',\n",
    "    fileNamePrefix='landtrendr_Tomahawk_2000_2023',\n",
    "    region=tomahawk_bbox,\n",
    "    scale=30,\n",
    "    crs='EPSG:4326',\n",
    "    maxPixels=1e13\n",
    "                    )"
   ]
  },
  {
   "cell_type": "markdown",
   "metadata": {},
   "source": [
    "The imagery may not load in the Map above, depending on how quickly landtrendr is able to process the changes. The geemap export will almost certainly not work, but it has worked before, its just very slow.\n",
    "\n",
    "In this case, landtrendr does a very poor job of detecting the land cover change. So does optical imagery. However, there are some detections of a \"2021\" or \"2020\" change which should reflect the tomahawk fire, but defining the false negatives will be a pain."
   ]
  }
 ],
 "metadata": {
  "colab": {
   "provenance": []
  },
  "kernelspec": {
   "display_name": "Python 3 (ipykernel)",
   "language": "python",
   "name": "python3"
  },
  "language_info": {
   "codemirror_mode": {
    "name": "ipython",
    "version": 3
   },
   "file_extension": ".py",
   "mimetype": "text/x-python",
   "name": "python",
   "nbconvert_exporter": "python",
   "pygments_lexer": "ipython3",
   "version": "3.12.5"
  }
 },
 "nbformat": 4,
 "nbformat_minor": 4
}
